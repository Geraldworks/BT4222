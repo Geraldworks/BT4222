{
 "cells": [
  {
   "cell_type": "code",
   "execution_count": 1,
   "metadata": {},
   "outputs": [],
   "source": [
    "from selenium import webdriver\n",
    "from selenium.common.exceptions import TimeoutException\n",
    "from bs4 import BeautifulSoup\n",
    "import time\n",
    "import csv\n",
    "import pandas as pd"
   ]
  },
  {
   "cell_type": "code",
   "execution_count": null,
   "metadata": {},
   "outputs": [],
   "source": [
    "job_categories = [\n",
    "    \"software+engineer\",\n",
    "    \"arts\",\n",
    "    \"hr\",\n",
    "    \"sales\",\n",
    "    \"ui+ux\",\n",
    "    \"data+analyst\",\n",
    "    \"cyber+security\",\n",
    "]"
   ]
  },
  {
   "cell_type": "code",
   "execution_count": null,
   "metadata": {},
   "outputs": [],
   "source": [
    "options = webdriver.FirefoxOptions()\n",
    "options.add_argument(\"--headless\")\n",
    "driver = webdriver.Firefox(options=options)"
   ]
  },
  {
   "cell_type": "code",
   "execution_count": null,
   "metadata": {},
   "outputs": [],
   "source": [
    "def get_category_urls(category):\n",
    "    category_urls = [f\"https://sg.indeed.com/jobs?q={category}&start={i}\" for i in range(0, 991, 10)]\n",
    "    return category_urls\n",
    "\n",
    "def get_job_urls(category_url):\n",
    "    driver.get(category_url)\n",
    "    time.sleep(3)\n",
    "    soup = BeautifulSoup(driver.page_source, \"html.parser\")\n",
    "    job_listings = soup.find_all(\"div\", class_=\"cardOutline\")[:10]\n",
    "    job_url_extensions = [job_listing.find(\"a\", {\"class\":\"jcs-JobTitle\"}).get(\"href\") for job_listing in job_listings]\n",
    "    job_urls = list(map(lambda url_extension: \"https://sg.indeed.com\"+url_extension, job_url_extensions))\n",
    "    return job_urls\n",
    "\n",
    "def get_full_job_description(job_url):\n",
    "    driver.get(job_url)\n",
    "    time.sleep(3)\n",
    "    soup = BeautifulSoup(driver.page_source, \"html.parser\")\n",
    "    full_job_description = soup.find(\"div\", class_=\"jobsearch-jobDescriptionText\")\n",
    "    return full_job_description\n",
    "\n",
    "def scrape_data(verbose=False):\n",
    "    with open(\"jd.csv\", \"w\") as f:\n",
    "        writer = csv.writer(f)\n",
    "        page_counter = 0\n",
    "        for category in job_categories:\n",
    "            category_urls = get_category_urls(category)\n",
    "            for category_url in category_urls:\n",
    "                try:\n",
    "                    job_urls = get_job_urls(category_url)\n",
    "                    for job_url in job_urls:\n",
    "                        try:\n",
    "                            full_job_description = get_full_job_description(job_url)\n",
    "                            writer.writerow((category, full_job_description))\n",
    "                            page_counter += 1\n",
    "                            if verbose:\n",
    "                                print(f\"{page_counter} page(s) scraped\")\n",
    "                        except TimeoutException:\n",
    "                            continue\n",
    "                except TimeoutException:\n",
    "                    continue\n",
    "        f.close()"
   ]
  },
  {
   "cell_type": "code",
   "execution_count": null,
   "metadata": {},
   "outputs": [],
   "source": [
    "scrape_data()\n",
    "driver.quit()"
   ]
  },
  {
   "cell_type": "code",
   "execution_count": null,
   "metadata": {},
   "outputs": [],
   "source": [
    "all_job_descriptions = pd.read_csv(\"jd.csv\")\n",
    "jd_easy = []\n",
    "jd_difficult = []\n",
    "for row in all_job_descriptions:\n",
    "    if row[0] in [\"software+engineer\", \"arts\", \"hr\", \"sales\"]:\n",
    "        jd_easy.extend([list(row)])\n",
    "    elif row[0] in [\"software+engineer\", \"ui+ux\", \"data+analyst\", \"cyber+security\"]:\n",
    "        jd_difficult.extend([list(row)])\n",
    "pd.DataFrame(jd_easy).to_csv(\"jd_easy.csv\", index=False, header=False)\n",
    "pd.DataFrame(jd_difficult).to_csv(\"jd_difficult.csv\", index=False, header=False)"
   ]
  }
 ],
 "metadata": {
  "kernelspec": {
   "display_name": "Python 3",
   "language": "python",
   "name": "python3"
  },
  "language_info": {
   "codemirror_mode": {
    "name": "ipython",
    "version": 3
   },
   "file_extension": ".py",
   "mimetype": "text/x-python",
   "name": "python",
   "nbconvert_exporter": "python",
   "pygments_lexer": "ipython3",
   "version": "3.10.8"
  },
  "orig_nbformat": 4
 },
 "nbformat": 4,
 "nbformat_minor": 2
}
