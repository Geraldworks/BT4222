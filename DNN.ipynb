{
 "cells": [
  {
   "cell_type": "code",
   "execution_count": 207,
   "metadata": {
    "pycharm": {
     "name": "#%%\n"
    }
   },
   "outputs": [],
   "source": [
    "import tensorflow as tf\n",
    "import pandas as pd\n",
    "import matplotlib.pyplot as plt\n",
    "\n",
    "from sklearn.preprocessing import OneHotEncoder"
   ]
  },
  {
   "cell_type": "code",
   "execution_count": 208,
   "outputs": [],
   "source": [
    "def plot_graphs(history, metric):\n",
    "    plt.plot(history.history[metric])\n",
    "    plt.plot(history.history['val_'+metric], '')\n",
    "    plt.xlabel(\"Epochs\")\n",
    "    plt.ylabel(metric)\n",
    "    plt.legend([metric, 'val_'+metric])"
   ],
   "metadata": {
    "collapsed": false,
    "pycharm": {
     "name": "#%%\n"
    }
   }
  },
  {
   "cell_type": "markdown",
   "source": [
    "# Start of DNN building\n",
    "\n",
    "We will first create a DNN model on the easy dataset, analyse the results, and then create the DNN model on the hard dataset"
   ],
   "metadata": {
    "collapsed": false,
    "pycharm": {
     "name": "#%% md\n"
    }
   }
  },
  {
   "cell_type": "markdown",
   "source": [
    "## Easy Dataset (Distinct Job Categories)"
   ],
   "metadata": {
    "collapsed": false,
    "pycharm": {
     "name": "#%% md\n"
    }
   }
  },
  {
   "cell_type": "code",
   "execution_count": 209,
   "outputs": [],
   "source": [
    "is_working_with_easy_dataset = True"
   ],
   "metadata": {
    "collapsed": false,
    "pycharm": {
     "name": "#%%\n"
    }
   }
  },
  {
   "cell_type": "code",
   "execution_count": 210,
   "outputs": [],
   "source": [
    "if is_working_with_easy_dataset:\n",
    "    input_train_filename = \"bag_easy_train.csv\"\n",
    "    input_test_filename = \"bag_easy_test.csv\"\n",
    "else:\n",
    "    input_train_filename = \"bag_difficult_train.csv\"\n",
    "    input_test_filename = \"bag_difficult_test.csv\""
   ],
   "metadata": {
    "collapsed": false,
    "pycharm": {
     "name": "#%%\n"
    }
   }
  },
  {
   "cell_type": "code",
   "execution_count": 211,
   "outputs": [],
   "source": [
    "jd_train = pd.read_csv(input_train_filename, keep_default_na=False)\n",
    "jd_test = pd.read_csv(input_test_filename, keep_default_na=False)"
   ],
   "metadata": {
    "collapsed": false,
    "pycharm": {
     "name": "#%%\n"
    }
   }
  },
  {
   "cell_type": "code",
   "execution_count": 212,
   "outputs": [
    {
     "data": {
      "text/plain": "               category  client  Human  customer  software  Work  process  \\\n0     software+engineer       0      0         0         1     0        0   \n1                  arts       0      0         0         0     0        0   \n2                    hr       0      0         0         0     4        1   \n3                  arts       1      0         0         0     1        0   \n4                  arts       0      0         0         1     0        0   \n...                 ...     ...    ...       ...       ...   ...      ...   \n3177  software+engineer       0      0         0         9     0        1   \n3178              sales       0      0         3         0     0        1   \n3179               arts       3      0         0         1     0        0   \n3180                 hr       4      0         0         2     3        0   \n3181                 hr       0      1         0         0     3        0   \n\n      other  Management  sale  ...  account  EA  quality  role  matter  \\\n0         0           0     0  ...        0   0        1     0       0   \n1         0           0     1  ...        0   0        0     0       0   \n2         1           0     0  ...        0   0        0     0       1   \n3         2           0     0  ...        0   2        0     0       0   \n4         1           0     0  ...        0   0        0     0       1   \n...     ...         ...   ...  ...      ...  ..      ...   ...     ...   \n3177      0           0     0  ...        0   0        0     0       0   \n3178      0           0     6  ...        0   0        0     0       0   \n3179      0           0     0  ...        0   0        0     0       0   \n3180      1           0     1  ...        0   0        0     0       1   \n3181      1           0     0  ...        0   0        0     0       0   \n\n      development  Strong  marketing  resume  data  \n0               3       0          0       0     1  \n1               0       0          0       0     0  \n2               0       0          0       0     7  \n3               0       0          1       1     0  \n4               0       0          0       0     0  \n...           ...     ...        ...     ...   ...  \n3177            4       0          0       0     1  \n3178            0       0          0       0     0  \n3179            0       1          0       0     0  \n3180            0       0          1       0     0  \n3181            0       0          0       2     0  \n\n[3182 rows x 117 columns]",
      "text/html": "<div>\n<style scoped>\n    .dataframe tbody tr th:only-of-type {\n        vertical-align: middle;\n    }\n\n    .dataframe tbody tr th {\n        vertical-align: top;\n    }\n\n    .dataframe thead th {\n        text-align: right;\n    }\n</style>\n<table border=\"1\" class=\"dataframe\">\n  <thead>\n    <tr style=\"text-align: right;\">\n      <th></th>\n      <th>category</th>\n      <th>client</th>\n      <th>Human</th>\n      <th>customer</th>\n      <th>software</th>\n      <th>Work</th>\n      <th>process</th>\n      <th>other</th>\n      <th>Management</th>\n      <th>sale</th>\n      <th>...</th>\n      <th>account</th>\n      <th>EA</th>\n      <th>quality</th>\n      <th>role</th>\n      <th>matter</th>\n      <th>development</th>\n      <th>Strong</th>\n      <th>marketing</th>\n      <th>resume</th>\n      <th>data</th>\n    </tr>\n  </thead>\n  <tbody>\n    <tr>\n      <th>0</th>\n      <td>software+engineer</td>\n      <td>0</td>\n      <td>0</td>\n      <td>0</td>\n      <td>1</td>\n      <td>0</td>\n      <td>0</td>\n      <td>0</td>\n      <td>0</td>\n      <td>0</td>\n      <td>...</td>\n      <td>0</td>\n      <td>0</td>\n      <td>1</td>\n      <td>0</td>\n      <td>0</td>\n      <td>3</td>\n      <td>0</td>\n      <td>0</td>\n      <td>0</td>\n      <td>1</td>\n    </tr>\n    <tr>\n      <th>1</th>\n      <td>arts</td>\n      <td>0</td>\n      <td>0</td>\n      <td>0</td>\n      <td>0</td>\n      <td>0</td>\n      <td>0</td>\n      <td>0</td>\n      <td>0</td>\n      <td>1</td>\n      <td>...</td>\n      <td>0</td>\n      <td>0</td>\n      <td>0</td>\n      <td>0</td>\n      <td>0</td>\n      <td>0</td>\n      <td>0</td>\n      <td>0</td>\n      <td>0</td>\n      <td>0</td>\n    </tr>\n    <tr>\n      <th>2</th>\n      <td>hr</td>\n      <td>0</td>\n      <td>0</td>\n      <td>0</td>\n      <td>0</td>\n      <td>4</td>\n      <td>1</td>\n      <td>1</td>\n      <td>0</td>\n      <td>0</td>\n      <td>...</td>\n      <td>0</td>\n      <td>0</td>\n      <td>0</td>\n      <td>0</td>\n      <td>1</td>\n      <td>0</td>\n      <td>0</td>\n      <td>0</td>\n      <td>0</td>\n      <td>7</td>\n    </tr>\n    <tr>\n      <th>3</th>\n      <td>arts</td>\n      <td>1</td>\n      <td>0</td>\n      <td>0</td>\n      <td>0</td>\n      <td>1</td>\n      <td>0</td>\n      <td>2</td>\n      <td>0</td>\n      <td>0</td>\n      <td>...</td>\n      <td>0</td>\n      <td>2</td>\n      <td>0</td>\n      <td>0</td>\n      <td>0</td>\n      <td>0</td>\n      <td>0</td>\n      <td>1</td>\n      <td>1</td>\n      <td>0</td>\n    </tr>\n    <tr>\n      <th>4</th>\n      <td>arts</td>\n      <td>0</td>\n      <td>0</td>\n      <td>0</td>\n      <td>1</td>\n      <td>0</td>\n      <td>0</td>\n      <td>1</td>\n      <td>0</td>\n      <td>0</td>\n      <td>...</td>\n      <td>0</td>\n      <td>0</td>\n      <td>0</td>\n      <td>0</td>\n      <td>1</td>\n      <td>0</td>\n      <td>0</td>\n      <td>0</td>\n      <td>0</td>\n      <td>0</td>\n    </tr>\n    <tr>\n      <th>...</th>\n      <td>...</td>\n      <td>...</td>\n      <td>...</td>\n      <td>...</td>\n      <td>...</td>\n      <td>...</td>\n      <td>...</td>\n      <td>...</td>\n      <td>...</td>\n      <td>...</td>\n      <td>...</td>\n      <td>...</td>\n      <td>...</td>\n      <td>...</td>\n      <td>...</td>\n      <td>...</td>\n      <td>...</td>\n      <td>...</td>\n      <td>...</td>\n      <td>...</td>\n      <td>...</td>\n    </tr>\n    <tr>\n      <th>3177</th>\n      <td>software+engineer</td>\n      <td>0</td>\n      <td>0</td>\n      <td>0</td>\n      <td>9</td>\n      <td>0</td>\n      <td>1</td>\n      <td>0</td>\n      <td>0</td>\n      <td>0</td>\n      <td>...</td>\n      <td>0</td>\n      <td>0</td>\n      <td>0</td>\n      <td>0</td>\n      <td>0</td>\n      <td>4</td>\n      <td>0</td>\n      <td>0</td>\n      <td>0</td>\n      <td>1</td>\n    </tr>\n    <tr>\n      <th>3178</th>\n      <td>sales</td>\n      <td>0</td>\n      <td>0</td>\n      <td>3</td>\n      <td>0</td>\n      <td>0</td>\n      <td>1</td>\n      <td>0</td>\n      <td>0</td>\n      <td>6</td>\n      <td>...</td>\n      <td>0</td>\n      <td>0</td>\n      <td>0</td>\n      <td>0</td>\n      <td>0</td>\n      <td>0</td>\n      <td>0</td>\n      <td>0</td>\n      <td>0</td>\n      <td>0</td>\n    </tr>\n    <tr>\n      <th>3179</th>\n      <td>arts</td>\n      <td>3</td>\n      <td>0</td>\n      <td>0</td>\n      <td>1</td>\n      <td>0</td>\n      <td>0</td>\n      <td>0</td>\n      <td>0</td>\n      <td>0</td>\n      <td>...</td>\n      <td>0</td>\n      <td>0</td>\n      <td>0</td>\n      <td>0</td>\n      <td>0</td>\n      <td>0</td>\n      <td>1</td>\n      <td>0</td>\n      <td>0</td>\n      <td>0</td>\n    </tr>\n    <tr>\n      <th>3180</th>\n      <td>hr</td>\n      <td>4</td>\n      <td>0</td>\n      <td>0</td>\n      <td>2</td>\n      <td>3</td>\n      <td>0</td>\n      <td>1</td>\n      <td>0</td>\n      <td>1</td>\n      <td>...</td>\n      <td>0</td>\n      <td>0</td>\n      <td>0</td>\n      <td>0</td>\n      <td>1</td>\n      <td>0</td>\n      <td>0</td>\n      <td>1</td>\n      <td>0</td>\n      <td>0</td>\n    </tr>\n    <tr>\n      <th>3181</th>\n      <td>hr</td>\n      <td>0</td>\n      <td>1</td>\n      <td>0</td>\n      <td>0</td>\n      <td>3</td>\n      <td>0</td>\n      <td>1</td>\n      <td>0</td>\n      <td>0</td>\n      <td>...</td>\n      <td>0</td>\n      <td>0</td>\n      <td>0</td>\n      <td>0</td>\n      <td>0</td>\n      <td>0</td>\n      <td>0</td>\n      <td>0</td>\n      <td>2</td>\n      <td>0</td>\n    </tr>\n  </tbody>\n</table>\n<p>3182 rows × 117 columns</p>\n</div>"
     },
     "execution_count": 212,
     "metadata": {},
     "output_type": "execute_result"
    }
   ],
   "source": [
    "jd_train"
   ],
   "metadata": {
    "collapsed": false,
    "pycharm": {
     "name": "#%%\n"
    }
   }
  },
  {
   "cell_type": "code",
   "execution_count": 213,
   "outputs": [
    {
     "data": {
      "text/plain": "              category  client  Human  customer  software  Work  process  \\\n0    software+engineer       0      0         0         0     6        1   \n1                sales       0      0         0         0     1        1   \n2                sales       0      0        11         0     1        4   \n3                sales       3      0         0         0     0        0   \n4                 arts       0      0         0         0     1        1   \n..                 ...     ...    ...       ...       ...   ...      ...   \n791  software+engineer       0      0         3         4     0        0   \n792  software+engineer       2      0         0         5     0        0   \n793  software+engineer       0      0         0         0     1        3   \n794                 hr       4      0         0         0     0        0   \n795                 hr       0      0         0         0     0        0   \n\n     other  Management  sale  ...  account  EA  quality  role  matter  \\\n0        6           0     0  ...        0   0        0     0       0   \n1        0           0     0  ...        5   0        0     0       1   \n2        1           0     2  ...        0   0        0     0       0   \n3        1           0     2  ...        1   2        0     0       0   \n4        2           0     0  ...        0   1        0     0       1   \n..     ...         ...   ...  ...      ...  ..      ...   ...     ...   \n791      2           0     0  ...        0   0        0     0       0   \n792      1           0     0  ...        1   0        1     0       0   \n793      4           1     0  ...        0   0        0     0       0   \n794      0           0     0  ...        0   2        0     0       0   \n795      0           0     0  ...        0   1        0     2       0   \n\n     development  Strong  marketing  resume  data  \n0              0       0          0       0     0  \n1              0       2          0       0     2  \n2              0       1          3       0     0  \n3              0       0          1       0     0  \n4              0       3          0       1     2  \n..           ...     ...        ...     ...   ...  \n791            6       0          0       0     0  \n792            3       0          0       0     1  \n793            0       0          0       0     4  \n794            0       0          0       0     2  \n795            1       1          0       0     0  \n\n[796 rows x 117 columns]",
      "text/html": "<div>\n<style scoped>\n    .dataframe tbody tr th:only-of-type {\n        vertical-align: middle;\n    }\n\n    .dataframe tbody tr th {\n        vertical-align: top;\n    }\n\n    .dataframe thead th {\n        text-align: right;\n    }\n</style>\n<table border=\"1\" class=\"dataframe\">\n  <thead>\n    <tr style=\"text-align: right;\">\n      <th></th>\n      <th>category</th>\n      <th>client</th>\n      <th>Human</th>\n      <th>customer</th>\n      <th>software</th>\n      <th>Work</th>\n      <th>process</th>\n      <th>other</th>\n      <th>Management</th>\n      <th>sale</th>\n      <th>...</th>\n      <th>account</th>\n      <th>EA</th>\n      <th>quality</th>\n      <th>role</th>\n      <th>matter</th>\n      <th>development</th>\n      <th>Strong</th>\n      <th>marketing</th>\n      <th>resume</th>\n      <th>data</th>\n    </tr>\n  </thead>\n  <tbody>\n    <tr>\n      <th>0</th>\n      <td>software+engineer</td>\n      <td>0</td>\n      <td>0</td>\n      <td>0</td>\n      <td>0</td>\n      <td>6</td>\n      <td>1</td>\n      <td>6</td>\n      <td>0</td>\n      <td>0</td>\n      <td>...</td>\n      <td>0</td>\n      <td>0</td>\n      <td>0</td>\n      <td>0</td>\n      <td>0</td>\n      <td>0</td>\n      <td>0</td>\n      <td>0</td>\n      <td>0</td>\n      <td>0</td>\n    </tr>\n    <tr>\n      <th>1</th>\n      <td>sales</td>\n      <td>0</td>\n      <td>0</td>\n      <td>0</td>\n      <td>0</td>\n      <td>1</td>\n      <td>1</td>\n      <td>0</td>\n      <td>0</td>\n      <td>0</td>\n      <td>...</td>\n      <td>5</td>\n      <td>0</td>\n      <td>0</td>\n      <td>0</td>\n      <td>1</td>\n      <td>0</td>\n      <td>2</td>\n      <td>0</td>\n      <td>0</td>\n      <td>2</td>\n    </tr>\n    <tr>\n      <th>2</th>\n      <td>sales</td>\n      <td>0</td>\n      <td>0</td>\n      <td>11</td>\n      <td>0</td>\n      <td>1</td>\n      <td>4</td>\n      <td>1</td>\n      <td>0</td>\n      <td>2</td>\n      <td>...</td>\n      <td>0</td>\n      <td>0</td>\n      <td>0</td>\n      <td>0</td>\n      <td>0</td>\n      <td>0</td>\n      <td>1</td>\n      <td>3</td>\n      <td>0</td>\n      <td>0</td>\n    </tr>\n    <tr>\n      <th>3</th>\n      <td>sales</td>\n      <td>3</td>\n      <td>0</td>\n      <td>0</td>\n      <td>0</td>\n      <td>0</td>\n      <td>0</td>\n      <td>1</td>\n      <td>0</td>\n      <td>2</td>\n      <td>...</td>\n      <td>1</td>\n      <td>2</td>\n      <td>0</td>\n      <td>0</td>\n      <td>0</td>\n      <td>0</td>\n      <td>0</td>\n      <td>1</td>\n      <td>0</td>\n      <td>0</td>\n    </tr>\n    <tr>\n      <th>4</th>\n      <td>arts</td>\n      <td>0</td>\n      <td>0</td>\n      <td>0</td>\n      <td>0</td>\n      <td>1</td>\n      <td>1</td>\n      <td>2</td>\n      <td>0</td>\n      <td>0</td>\n      <td>...</td>\n      <td>0</td>\n      <td>1</td>\n      <td>0</td>\n      <td>0</td>\n      <td>1</td>\n      <td>0</td>\n      <td>3</td>\n      <td>0</td>\n      <td>1</td>\n      <td>2</td>\n    </tr>\n    <tr>\n      <th>...</th>\n      <td>...</td>\n      <td>...</td>\n      <td>...</td>\n      <td>...</td>\n      <td>...</td>\n      <td>...</td>\n      <td>...</td>\n      <td>...</td>\n      <td>...</td>\n      <td>...</td>\n      <td>...</td>\n      <td>...</td>\n      <td>...</td>\n      <td>...</td>\n      <td>...</td>\n      <td>...</td>\n      <td>...</td>\n      <td>...</td>\n      <td>...</td>\n      <td>...</td>\n      <td>...</td>\n    </tr>\n    <tr>\n      <th>791</th>\n      <td>software+engineer</td>\n      <td>0</td>\n      <td>0</td>\n      <td>3</td>\n      <td>4</td>\n      <td>0</td>\n      <td>0</td>\n      <td>2</td>\n      <td>0</td>\n      <td>0</td>\n      <td>...</td>\n      <td>0</td>\n      <td>0</td>\n      <td>0</td>\n      <td>0</td>\n      <td>0</td>\n      <td>6</td>\n      <td>0</td>\n      <td>0</td>\n      <td>0</td>\n      <td>0</td>\n    </tr>\n    <tr>\n      <th>792</th>\n      <td>software+engineer</td>\n      <td>2</td>\n      <td>0</td>\n      <td>0</td>\n      <td>5</td>\n      <td>0</td>\n      <td>0</td>\n      <td>1</td>\n      <td>0</td>\n      <td>0</td>\n      <td>...</td>\n      <td>1</td>\n      <td>0</td>\n      <td>1</td>\n      <td>0</td>\n      <td>0</td>\n      <td>3</td>\n      <td>0</td>\n      <td>0</td>\n      <td>0</td>\n      <td>1</td>\n    </tr>\n    <tr>\n      <th>793</th>\n      <td>software+engineer</td>\n      <td>0</td>\n      <td>0</td>\n      <td>0</td>\n      <td>0</td>\n      <td>1</td>\n      <td>3</td>\n      <td>4</td>\n      <td>1</td>\n      <td>0</td>\n      <td>...</td>\n      <td>0</td>\n      <td>0</td>\n      <td>0</td>\n      <td>0</td>\n      <td>0</td>\n      <td>0</td>\n      <td>0</td>\n      <td>0</td>\n      <td>0</td>\n      <td>4</td>\n    </tr>\n    <tr>\n      <th>794</th>\n      <td>hr</td>\n      <td>4</td>\n      <td>0</td>\n      <td>0</td>\n      <td>0</td>\n      <td>0</td>\n      <td>0</td>\n      <td>0</td>\n      <td>0</td>\n      <td>0</td>\n      <td>...</td>\n      <td>0</td>\n      <td>2</td>\n      <td>0</td>\n      <td>0</td>\n      <td>0</td>\n      <td>0</td>\n      <td>0</td>\n      <td>0</td>\n      <td>0</td>\n      <td>2</td>\n    </tr>\n    <tr>\n      <th>795</th>\n      <td>hr</td>\n      <td>0</td>\n      <td>0</td>\n      <td>0</td>\n      <td>0</td>\n      <td>0</td>\n      <td>0</td>\n      <td>0</td>\n      <td>0</td>\n      <td>0</td>\n      <td>...</td>\n      <td>0</td>\n      <td>1</td>\n      <td>0</td>\n      <td>2</td>\n      <td>0</td>\n      <td>1</td>\n      <td>1</td>\n      <td>0</td>\n      <td>0</td>\n      <td>0</td>\n    </tr>\n  </tbody>\n</table>\n<p>796 rows × 117 columns</p>\n</div>"
     },
     "execution_count": 213,
     "metadata": {},
     "output_type": "execute_result"
    }
   ],
   "source": [
    "jd_test"
   ],
   "metadata": {
    "collapsed": false,
    "pycharm": {
     "name": "#%%\n"
    }
   }
  },
  {
   "cell_type": "markdown",
   "source": [
    "### Splitting Dataset into Features and Target Vectors"
   ],
   "metadata": {
    "collapsed": false,
    "pycharm": {
     "name": "#%% md\n"
    }
   }
  },
  {
   "cell_type": "code",
   "execution_count": 214,
   "outputs": [],
   "source": [
    "jd_train_X = jd_train.iloc[:, 1:]\n",
    "jd_train_y = jd_train[[\"category\"]]\n",
    "\n",
    "jd_test_X = jd_test.iloc[:, 1:]\n",
    "jd_test_y = jd_test[[\"category\"]]"
   ],
   "metadata": {
    "collapsed": false,
    "pycharm": {
     "name": "#%%\n"
    }
   }
  },
  {
   "cell_type": "code",
   "execution_count": 215,
   "outputs": [
    {
     "data": {
      "text/plain": "category         \nsoftware+engineer    220\narts                 198\nsales                197\nhr                   181\ndtype: int64"
     },
     "execution_count": 215,
     "metadata": {},
     "output_type": "execute_result"
    }
   ],
   "source": [
    "jd_test_y.value_counts()"
   ],
   "metadata": {
    "collapsed": false,
    "pycharm": {
     "name": "#%%\n"
    }
   }
  },
  {
   "cell_type": "markdown",
   "source": [
    "### Encoding Target Variables"
   ],
   "metadata": {
    "collapsed": false,
    "pycharm": {
     "name": "#%% md\n"
    }
   }
  },
  {
   "cell_type": "code",
   "execution_count": 216,
   "outputs": [],
   "source": [
    "enc = OneHotEncoder(sparse=False)\n",
    "enc.fit(jd_train_y);"
   ],
   "metadata": {
    "collapsed": false,
    "pycharm": {
     "name": "#%%\n"
    }
   }
  },
  {
   "cell_type": "code",
   "execution_count": 217,
   "outputs": [
    {
     "data": {
      "text/plain": "[array(['arts', 'hr', 'sales', 'software+engineer'], dtype=object)]"
     },
     "execution_count": 217,
     "metadata": {},
     "output_type": "execute_result"
    }
   ],
   "source": [
    "enc.categories_"
   ],
   "metadata": {
    "collapsed": false,
    "pycharm": {
     "name": "#%%\n"
    }
   }
  },
  {
   "cell_type": "code",
   "execution_count": 218,
   "outputs": [],
   "source": [
    "jd_train_y = enc.transform(jd_train_y)\n",
    "jd_test_y = enc.transform(jd_test_y)"
   ],
   "metadata": {
    "collapsed": false,
    "pycharm": {
     "name": "#%%\n"
    }
   }
  },
  {
   "cell_type": "markdown",
   "source": [
    "### DNN Model creation and training"
   ],
   "metadata": {
    "collapsed": false,
    "pycharm": {
     "name": "#%% md\n"
    }
   }
  },
  {
   "cell_type": "code",
   "execution_count": 219,
   "outputs": [],
   "source": [
    "# DNN Model with 2 hidden layers\n",
    "model = tf.keras.Sequential([\n",
    "    tf.keras.layers.Dense(32, activation='relu'),\n",
    "    tf.keras.layers.Dense(16, activation='relu'),\n",
    "    tf.keras.layers.Dense(4, activation='softmax')\n",
    "])"
   ],
   "metadata": {
    "collapsed": false,
    "pycharm": {
     "name": "#%%\n"
    }
   }
  },
  {
   "cell_type": "code",
   "execution_count": 220,
   "outputs": [],
   "source": [
    "model.compile(loss=tf.keras.losses.CategoricalCrossentropy(),\n",
    "              optimizer=tf.keras.optimizers.Adam(1e-4),\n",
    "              metrics=['accuracy', tf.keras.metrics.Recall(), tf.keras.metrics.Precision()])"
   ],
   "metadata": {
    "collapsed": false,
    "pycharm": {
     "name": "#%%\n"
    }
   }
  },
  {
   "cell_type": "code",
   "execution_count": 221,
   "outputs": [
    {
     "name": "stdout",
     "output_type": "stream",
     "text": [
      "Epoch 1/50\n",
      "  1/100 [..............................] - ETA: 43s - loss: 4.2364 - accuracy: 0.3125 - recall_8: 0.3125 - precision_8: 0.3333"
     ]
    },
    {
     "name": "stderr",
     "output_type": "stream",
     "text": [
      "2023-03-31 16:02:41.013673: I tensorflow/core/grappler/optimizers/custom_graph_optimizer_registry.cc:113] Plugin optimizer for device_type GPU is enabled.\n"
     ]
    },
    {
     "name": "stdout",
     "output_type": "stream",
     "text": [
      "100/100 [==============================] - ETA: 0s - loss: 4.1351 - accuracy: 0.2863 - recall_8: 0.2143 - precision_8: 0.2784"
     ]
    },
    {
     "name": "stderr",
     "output_type": "stream",
     "text": [
      "2023-03-31 16:02:42.305576: I tensorflow/core/grappler/optimizers/custom_graph_optimizer_registry.cc:113] Plugin optimizer for device_type GPU is enabled.\n"
     ]
    },
    {
     "name": "stdout",
     "output_type": "stream",
     "text": [
      "100/100 [==============================] - 2s 15ms/step - loss: 4.1351 - accuracy: 0.2863 - recall_8: 0.2143 - precision_8: 0.2784 - val_loss: 4.0406 - val_accuracy: 0.3291 - val_recall_8: 0.3254 - val_precision_8: 0.3533\n",
      "Epoch 2/50\n",
      "100/100 [==============================] - 1s 12ms/step - loss: 2.0039 - accuracy: 0.3275 - recall_8: 0.1763 - precision_8: 0.3469 - val_loss: 2.6316 - val_accuracy: 0.3857 - val_recall_8: 0.3241 - val_precision_8: 0.4223\n",
      "Epoch 3/50\n",
      "100/100 [==============================] - 1s 12ms/step - loss: 1.3732 - accuracy: 0.4079 - recall_8: 0.2058 - precision_8: 0.4925 - val_loss: 2.0554 - val_accuracy: 0.4183 - val_recall_8: 0.3342 - val_precision_8: 0.4725\n",
      "Epoch 4/50\n",
      "100/100 [==============================] - 1s 12ms/step - loss: 1.0930 - accuracy: 0.5396 - recall_8: 0.2737 - precision_8: 0.6731 - val_loss: 1.6471 - val_accuracy: 0.4611 - val_recall_8: 0.3467 - val_precision_8: 0.5520\n",
      "Epoch 5/50\n",
      "100/100 [==============================] - 1s 12ms/step - loss: 0.9282 - accuracy: 0.6477 - recall_8: 0.3696 - precision_8: 0.7845 - val_loss: 1.3891 - val_accuracy: 0.5025 - val_recall_8: 0.3794 - val_precision_8: 0.6358\n",
      "Epoch 6/50\n",
      "100/100 [==============================] - 1s 12ms/step - loss: 0.8316 - accuracy: 0.6945 - recall_8: 0.4371 - precision_8: 0.8390 - val_loss: 1.2166 - val_accuracy: 0.5302 - val_recall_8: 0.4246 - val_precision_8: 0.6983\n",
      "Epoch 7/50\n",
      "100/100 [==============================] - 1s 12ms/step - loss: 0.7610 - accuracy: 0.7511 - recall_8: 0.5019 - precision_8: 0.8751 - val_loss: 1.0729 - val_accuracy: 0.5779 - val_recall_8: 0.4535 - val_precision_8: 0.7648\n",
      "Epoch 8/50\n",
      "100/100 [==============================] - 1s 12ms/step - loss: 0.7027 - accuracy: 0.7788 - recall_8: 0.5371 - precision_8: 0.8846 - val_loss: 0.9896 - val_accuracy: 0.6018 - val_recall_8: 0.4623 - val_precision_8: 0.7880\n",
      "Epoch 9/50\n",
      "100/100 [==============================] - 1s 12ms/step - loss: 0.6549 - accuracy: 0.8114 - recall_8: 0.5673 - precision_8: 0.9043 - val_loss: 0.9131 - val_accuracy: 0.6231 - val_recall_8: 0.4899 - val_precision_8: 0.8125\n",
      "Epoch 10/50\n",
      "100/100 [==============================] - 1s 12ms/step - loss: 0.6145 - accuracy: 0.8281 - recall_8: 0.6031 - precision_8: 0.9151 - val_loss: 0.8509 - val_accuracy: 0.6771 - val_recall_8: 0.5264 - val_precision_8: 0.8380\n",
      "Epoch 11/50\n",
      "100/100 [==============================] - 1s 12ms/step - loss: 0.5785 - accuracy: 0.8495 - recall_8: 0.6361 - precision_8: 0.9250 - val_loss: 0.7936 - val_accuracy: 0.7073 - val_recall_8: 0.5528 - val_precision_8: 0.8494\n",
      "Epoch 12/50\n",
      "100/100 [==============================] - 1s 12ms/step - loss: 0.5467 - accuracy: 0.8674 - recall_8: 0.6788 - precision_8: 0.9318 - val_loss: 0.7513 - val_accuracy: 0.7299 - val_recall_8: 0.5754 - val_precision_8: 0.8658\n",
      "Epoch 13/50\n",
      "100/100 [==============================] - 1s 12ms/step - loss: 0.5169 - accuracy: 0.8771 - recall_8: 0.7131 - precision_8: 0.9330 - val_loss: 0.7194 - val_accuracy: 0.7412 - val_recall_8: 0.5917 - val_precision_8: 0.8642\n",
      "Epoch 14/50\n",
      "100/100 [==============================] - 1s 12ms/step - loss: 0.4891 - accuracy: 0.8878 - recall_8: 0.7395 - precision_8: 0.9348 - val_loss: 0.6874 - val_accuracy: 0.7651 - val_recall_8: 0.6043 - val_precision_8: 0.8793\n",
      "Epoch 15/50\n",
      "100/100 [==============================] - 1s 12ms/step - loss: 0.4645 - accuracy: 0.8931 - recall_8: 0.7583 - precision_8: 0.9400 - val_loss: 0.6510 - val_accuracy: 0.7852 - val_recall_8: 0.6269 - val_precision_8: 0.8801\n",
      "Epoch 16/50\n",
      "100/100 [==============================] - 1s 12ms/step - loss: 0.4417 - accuracy: 0.9007 - recall_8: 0.7769 - precision_8: 0.9428 - val_loss: 0.6276 - val_accuracy: 0.8090 - val_recall_8: 0.6470 - val_precision_8: 0.8849\n",
      "Epoch 17/50\n",
      "100/100 [==============================] - 1s 12ms/step - loss: 0.4223 - accuracy: 0.9060 - recall_8: 0.7910 - precision_8: 0.9438 - val_loss: 0.5879 - val_accuracy: 0.8392 - val_recall_8: 0.6822 - val_precision_8: 0.9065\n",
      "Epoch 18/50\n",
      "100/100 [==============================] - 1s 12ms/step - loss: 0.4042 - accuracy: 0.9085 - recall_8: 0.8105 - precision_8: 0.9475 - val_loss: 0.5689 - val_accuracy: 0.8568 - val_recall_8: 0.6997 - val_precision_8: 0.9116\n",
      "Epoch 19/50\n",
      "100/100 [==============================] - 1s 12ms/step - loss: 0.3867 - accuracy: 0.9170 - recall_8: 0.8190 - precision_8: 0.9459 - val_loss: 0.5362 - val_accuracy: 0.8568 - val_recall_8: 0.7186 - val_precision_8: 0.9196\n",
      "Epoch 20/50\n",
      "100/100 [==============================] - 1s 12ms/step - loss: 0.3705 - accuracy: 0.9224 - recall_8: 0.8312 - precision_8: 0.9528 - val_loss: 0.5122 - val_accuracy: 0.8631 - val_recall_8: 0.7261 - val_precision_8: 0.9233\n",
      "Epoch 21/50\n",
      "100/100 [==============================] - 1s 12ms/step - loss: 0.3555 - accuracy: 0.9239 - recall_8: 0.8385 - precision_8: 0.9508 - val_loss: 0.4819 - val_accuracy: 0.8706 - val_recall_8: 0.7500 - val_precision_8: 0.9372\n",
      "Epoch 22/50\n",
      "100/100 [==============================] - 1s 12ms/step - loss: 0.3424 - accuracy: 0.9296 - recall_8: 0.8482 - precision_8: 0.9554 - val_loss: 0.4871 - val_accuracy: 0.8606 - val_recall_8: 0.7550 - val_precision_8: 0.9289\n",
      "Epoch 23/50\n",
      "100/100 [==============================] - 1s 12ms/step - loss: 0.3300 - accuracy: 0.9287 - recall_8: 0.8473 - precision_8: 0.9550 - val_loss: 0.4646 - val_accuracy: 0.8719 - val_recall_8: 0.7676 - val_precision_8: 0.9343\n",
      "Epoch 24/50\n",
      "100/100 [==============================] - 1s 12ms/step - loss: 0.3186 - accuracy: 0.9340 - recall_8: 0.8548 - precision_8: 0.9567 - val_loss: 0.4394 - val_accuracy: 0.8882 - val_recall_8: 0.7839 - val_precision_8: 0.9412\n",
      "Epoch 25/50\n",
      "100/100 [==============================] - 1s 12ms/step - loss: 0.3075 - accuracy: 0.9359 - recall_8: 0.8671 - precision_8: 0.9583 - val_loss: 0.4327 - val_accuracy: 0.8882 - val_recall_8: 0.7902 - val_precision_8: 0.9430\n",
      "Epoch 26/50\n",
      "100/100 [==============================] - 1s 12ms/step - loss: 0.2963 - accuracy: 0.9343 - recall_8: 0.8680 - precision_8: 0.9567 - val_loss: 0.4216 - val_accuracy: 0.9045 - val_recall_8: 0.8053 - val_precision_8: 0.9454\n",
      "Epoch 27/50\n",
      "100/100 [==============================] - 1s 12ms/step - loss: 0.2863 - accuracy: 0.9371 - recall_8: 0.8762 - precision_8: 0.9581 - val_loss: 0.4204 - val_accuracy: 0.8807 - val_recall_8: 0.8103 - val_precision_8: 0.9457\n",
      "Epoch 28/50\n",
      "100/100 [==============================] - 1s 12ms/step - loss: 0.2755 - accuracy: 0.9343 - recall_8: 0.8840 - precision_8: 0.9575 - val_loss: 0.4236 - val_accuracy: 0.8844 - val_recall_8: 0.8128 - val_precision_8: 0.9377\n",
      "Epoch 29/50\n",
      "100/100 [==============================] - 1s 12ms/step - loss: 0.2629 - accuracy: 0.9390 - recall_8: 0.8875 - precision_8: 0.9570 - val_loss: 0.4072 - val_accuracy: 0.8932 - val_recall_8: 0.8166 - val_precision_8: 0.9339\n",
      "Epoch 30/50\n",
      "100/100 [==============================] - 1s 12ms/step - loss: 0.2516 - accuracy: 0.9384 - recall_8: 0.8963 - precision_8: 0.9596 - val_loss: 0.3837 - val_accuracy: 0.8932 - val_recall_8: 0.8229 - val_precision_8: 0.9411\n",
      "Epoch 31/50\n",
      "100/100 [==============================] - 1s 12ms/step - loss: 0.2423 - accuracy: 0.9400 - recall_8: 0.8988 - precision_8: 0.9591 - val_loss: 0.3693 - val_accuracy: 0.9108 - val_recall_8: 0.8254 - val_precision_8: 0.9426\n",
      "Epoch 32/50\n",
      "100/100 [==============================] - 1s 12ms/step - loss: 0.2341 - accuracy: 0.9428 - recall_8: 0.9026 - precision_8: 0.9605 - val_loss: 0.3575 - val_accuracy: 0.9171 - val_recall_8: 0.8405 - val_precision_8: 0.9436\n",
      "Epoch 33/50\n",
      "100/100 [==============================] - 1s 11ms/step - loss: 0.2272 - accuracy: 0.9431 - recall_8: 0.9054 - precision_8: 0.9607 - val_loss: 0.3464 - val_accuracy: 0.9045 - val_recall_8: 0.8455 - val_precision_8: 0.9452\n",
      "Epoch 34/50\n",
      "100/100 [==============================] - 1s 12ms/step - loss: 0.2204 - accuracy: 0.9469 - recall_8: 0.9092 - precision_8: 0.9608 - val_loss: 0.3494 - val_accuracy: 0.9158 - val_recall_8: 0.8480 - val_precision_8: 0.9441\n",
      "Epoch 35/50\n",
      "100/100 [==============================] - 1s 12ms/step - loss: 0.2147 - accuracy: 0.9478 - recall_8: 0.9133 - precision_8: 0.9638 - val_loss: 0.3402 - val_accuracy: 0.9171 - val_recall_8: 0.8568 - val_precision_8: 0.9433\n",
      "Epoch 36/50\n",
      "100/100 [==============================] - 1s 12ms/step - loss: 0.2069 - accuracy: 0.9500 - recall_8: 0.9173 - precision_8: 0.9656 - val_loss: 0.3451 - val_accuracy: 0.9133 - val_recall_8: 0.8568 - val_precision_8: 0.9407\n",
      "Epoch 37/50\n",
      "100/100 [==============================] - 1s 12ms/step - loss: 0.2021 - accuracy: 0.9503 - recall_8: 0.9192 - precision_8: 0.9638 - val_loss: 0.3321 - val_accuracy: 0.9158 - val_recall_8: 0.8568 - val_precision_8: 0.9420\n",
      "Epoch 38/50\n",
      "100/100 [==============================] - 1s 12ms/step - loss: 0.1970 - accuracy: 0.9507 - recall_8: 0.9217 - precision_8: 0.9661 - val_loss: 0.3211 - val_accuracy: 0.9196 - val_recall_8: 0.8618 - val_precision_8: 0.9436\n",
      "Epoch 39/50\n",
      "100/100 [==============================] - 1s 12ms/step - loss: 0.1919 - accuracy: 0.9535 - recall_8: 0.9261 - precision_8: 0.9678 - val_loss: 0.3155 - val_accuracy: 0.9196 - val_recall_8: 0.8618 - val_precision_8: 0.9449\n",
      "Epoch 40/50\n",
      "100/100 [==============================] - 1s 13ms/step - loss: 0.1874 - accuracy: 0.9576 - recall_8: 0.9302 - precision_8: 0.9727 - val_loss: 0.3115 - val_accuracy: 0.9221 - val_recall_8: 0.8631 - val_precision_8: 0.9463\n",
      "Epoch 41/50\n",
      "100/100 [==============================] - 1s 12ms/step - loss: 0.1832 - accuracy: 0.9588 - recall_8: 0.9318 - precision_8: 0.9718 - val_loss: 0.3039 - val_accuracy: 0.9246 - val_recall_8: 0.8656 - val_precision_8: 0.9464\n",
      "Epoch 42/50\n",
      "100/100 [==============================] - 1s 12ms/step - loss: 0.1783 - accuracy: 0.9601 - recall_8: 0.9337 - precision_8: 0.9728 - val_loss: 0.3115 - val_accuracy: 0.9183 - val_recall_8: 0.8618 - val_precision_8: 0.9436\n",
      "Epoch 43/50\n",
      "100/100 [==============================] - 1s 12ms/step - loss: 0.1747 - accuracy: 0.9604 - recall_8: 0.9365 - precision_8: 0.9739 - val_loss: 0.2943 - val_accuracy: 0.9259 - val_recall_8: 0.8668 - val_precision_8: 0.9465\n",
      "Epoch 44/50\n",
      "100/100 [==============================] - 1s 12ms/step - loss: 0.1711 - accuracy: 0.9610 - recall_8: 0.9384 - precision_8: 0.9745 - val_loss: 0.2900 - val_accuracy: 0.9296 - val_recall_8: 0.8769 - val_precision_8: 0.9471\n",
      "Epoch 45/50\n",
      "100/100 [==============================] - 1s 12ms/step - loss: 0.1666 - accuracy: 0.9626 - recall_8: 0.9419 - precision_8: 0.9740 - val_loss: 0.2871 - val_accuracy: 0.9296 - val_recall_8: 0.8781 - val_precision_8: 0.9446\n",
      "Epoch 46/50\n",
      "100/100 [==============================] - 1s 12ms/step - loss: 0.1635 - accuracy: 0.9629 - recall_8: 0.9428 - precision_8: 0.9747 - val_loss: 0.2969 - val_accuracy: 0.9234 - val_recall_8: 0.8706 - val_precision_8: 0.9403\n",
      "Epoch 47/50\n",
      "100/100 [==============================] - 1s 12ms/step - loss: 0.1601 - accuracy: 0.9629 - recall_8: 0.9431 - precision_8: 0.9753 - val_loss: 0.2808 - val_accuracy: 0.9284 - val_recall_8: 0.8819 - val_precision_8: 0.9474\n",
      "Epoch 48/50\n",
      "100/100 [==============================] - 1s 12ms/step - loss: 0.1577 - accuracy: 0.9657 - recall_8: 0.9459 - precision_8: 0.9760 - val_loss: 0.2793 - val_accuracy: 0.9296 - val_recall_8: 0.8769 - val_precision_8: 0.9445\n",
      "Epoch 49/50\n",
      "100/100 [==============================] - 1s 12ms/step - loss: 0.1544 - accuracy: 0.9654 - recall_8: 0.9450 - precision_8: 0.9753 - val_loss: 0.2837 - val_accuracy: 0.9259 - val_recall_8: 0.8744 - val_precision_8: 0.9418\n",
      "Epoch 50/50\n",
      "100/100 [==============================] - 1s 12ms/step - loss: 0.1513 - accuracy: 0.9664 - recall_8: 0.9510 - precision_8: 0.9777 - val_loss: 0.2796 - val_accuracy: 0.9271 - val_recall_8: 0.8857 - val_precision_8: 0.9438\n"
     ]
    }
   ],
   "source": [
    "history = model.fit(jd_train_X, jd_train_y, epochs=50, validation_steps=30, validation_data=(jd_test_X, jd_test_y))"
   ],
   "metadata": {
    "collapsed": false,
    "pycharm": {
     "name": "#%%\n"
    }
   }
  },
  {
   "cell_type": "markdown",
   "source": [
    "### Viewing learning curves"
   ],
   "metadata": {
    "collapsed": false,
    "pycharm": {
     "name": "#%% md\n"
    }
   }
  },
  {
   "cell_type": "code",
   "execution_count": 222,
   "outputs": [
    {
     "data": {
      "text/plain": "(0.0, 4.334321761876344)"
     },
     "execution_count": 222,
     "metadata": {},
     "output_type": "execute_result"
    },
    {
     "data": {
      "text/plain": "<Figure size 1152x576 with 2 Axes>",
      "image/png": "[encoded data removed]"
     },
     "metadata": {
      "needs_background": "light"
     },
     "output_type": "display_data"
    }
   ],
   "source": [
    "plt.figure(figsize=(16, 8))\n",
    "plt.subplot(1, 2, 1)\n",
    "plot_graphs(history, 'accuracy')\n",
    "plt.ylim(None, 1)\n",
    "plt.subplot(1, 2, 2)\n",
    "plot_graphs(history, 'loss')\n",
    "plt.ylim(0, None)"
   ],
   "metadata": {
    "collapsed": false,
    "pycharm": {
     "name": "#%%\n"
    }
   }
  },
  {
   "cell_type": "markdown",
   "source": [
    "### Saving the model"
   ],
   "metadata": {
    "collapsed": false,
    "pycharm": {
     "name": "#%% md\n"
    }
   }
  },
  {
   "cell_type": "code",
   "execution_count": 223,
   "outputs": [],
   "source": [
    "model.save(\"tf_models/dnn_easy.h5\")"
   ],
   "metadata": {
    "collapsed": false,
    "pycharm": {
     "name": "#%%\n"
    }
   }
  },
  {
   "cell_type": "markdown",
   "source": [
    "## Hard Dataset (Distinct Job Categories)"
   ],
   "metadata": {
    "collapsed": false,
    "pycharm": {
     "name": "#%% md\n"
    }
   }
  },
  {
   "cell_type": "code",
   "execution_count": 224,
   "outputs": [],
   "source": [
    "is_working_with_easy_dataset = False"
   ],
   "metadata": {
    "collapsed": false,
    "pycharm": {
     "name": "#%%\n"
    }
   }
  },
  {
   "cell_type": "code",
   "execution_count": 225,
   "outputs": [],
   "source": [
    "if is_working_with_easy_dataset:\n",
    "    input_train_filename = \"bag_easy_train.csv\"\n",
    "    input_test_filename = \"bag_easy_test.csv\"\n",
    "else:\n",
    "    input_train_filename = \"bag_difficult_train.csv\"\n",
    "    input_test_filename = \"bag_difficult_test.csv\""
   ],
   "metadata": {
    "collapsed": false,
    "pycharm": {
     "name": "#%%\n"
    }
   }
  },
  {
   "cell_type": "code",
   "execution_count": 226,
   "outputs": [],
   "source": [
    "jd_train = pd.read_csv(input_train_filename, keep_default_na=False)\n",
    "jd_test = pd.read_csv(input_test_filename, keep_default_na=False)"
   ],
   "metadata": {
    "collapsed": false,
    "pycharm": {
     "name": "#%%\n"
    }
   }
  },
  {
   "cell_type": "code",
   "execution_count": 227,
   "outputs": [
    {
     "data": {
      "text/plain": "               category  assessment  Management  Work     cyber   ÊÊ  Data  \\\n0     software+engineer    0.000000         0.0   0.0  0.000000  0.0   0.0   \n1     software+engineer    0.000000         0.0   0.0  0.000000  0.0   0.0   \n2     software+engineer    0.000000         0.0   0.0  0.000000  0.0   0.0   \n3                 ui+ux    0.120286         0.0   0.0  0.000000  0.0   0.0   \n4                 ui+ux    0.000000         0.0   0.0  0.000000  0.0   0.0   \n...                 ...         ...         ...   ...       ...  ...   ...   \n3175  software+engineer    0.000000         0.0   0.0  0.000000  0.0   0.0   \n3176     cyber+security    0.000000         0.0   0.0  0.140165  0.0   0.0   \n3177              ui+ux    0.000000         0.0   0.0  0.000000  0.0   0.0   \n3178       data+analyst    0.000000         0.0   0.0  0.000000  0.0   0.0   \n3179       data+analyst    0.000000         0.0   0.0  0.000000  0.0   0.0   \n\n       control    design  Experience  ...  Technology      role  Java  \\\n0     0.000000  0.143276         0.0  ...         0.0  0.000000   0.0   \n1     0.000000  0.061751         0.0  ...         0.0  0.082574   0.0   \n2     0.290684  0.499494         0.0  ...         0.0  0.000000   0.0   \n3     0.000000  0.000000         0.0  ...         0.0  0.160089   0.0   \n4     0.000000  0.000000         0.0  ...         0.0  0.115759   0.0   \n...        ...       ...         ...  ...         ...       ...   ...   \n3175  0.095572  0.054742         0.0  ...         0.0  0.109803   0.0   \n3176  0.000000  0.000000         0.0  ...         0.0  0.210418   0.0   \n3177  0.000000  0.422655         0.0  ...         0.0  0.000000   0.0   \n3178  0.000000  0.026570         0.0  ...         0.0  0.071060   0.0   \n3179  0.000000  0.000000         0.0  ...         0.0  0.000000   0.0   \n\n       process  Strong     skill  software  business  Ability  experience  \n0     0.000000     0.0  0.000000  0.345453  0.000000      0.0    0.323940  \n1     0.000000     0.0  0.057996  0.000000  0.125683      0.0    0.511923  \n2     0.203606     0.0  0.000000  0.100361  0.000000      0.0    0.062741  \n3     0.073200     0.0  0.112439  0.000000  0.000000      0.0    0.225563  \n4     0.105860     0.0  0.040652  0.000000  0.000000      0.0    0.097861  \n...        ...     ...       ...       ...       ...      ...         ...  \n3175  0.066942     0.0  0.179947  0.164985  0.111417      0.0    0.123768  \n3176  0.000000     0.0  0.221681  0.094849  0.000000      0.0    0.177885  \n3177  0.000000     0.0  0.000000  0.509533  0.107530      0.0    0.238901  \n3178  0.064984     0.0  0.124773  0.032032  0.567827      0.0    0.060074  \n3179  0.210119     0.0  0.121033  0.103571  0.262288      0.0    0.000000  \n\n[3180 rows x 101 columns]",
      "text/html": "<div>\n<style scoped>\n    .dataframe tbody tr th:only-of-type {\n        vertical-align: middle;\n    }\n\n    .dataframe tbody tr th {\n        vertical-align: top;\n    }\n\n    .dataframe thead th {\n        text-align: right;\n    }\n</style>\n<table border=\"1\" class=\"dataframe\">\n  <thead>\n    <tr style=\"text-align: right;\">\n      <th></th>\n      <th>category</th>\n      <th>assessment</th>\n      <th>Management</th>\n      <th>Work</th>\n      <th>cyber</th>\n      <th>ÊÊ</th>\n      <th>Data</th>\n      <th>control</th>\n      <th>design</th>\n      <th>Experience</th>\n      <th>...</th>\n      <th>Technology</th>\n      <th>role</th>\n      <th>Java</th>\n      <th>process</th>\n      <th>Strong</th>\n      <th>skill</th>\n      <th>software</th>\n      <th>business</th>\n      <th>Ability</th>\n      <th>experience</th>\n    </tr>\n  </thead>\n  <tbody>\n    <tr>\n      <th>0</th>\n      <td>software+engineer</td>\n      <td>0.000000</td>\n      <td>0.0</td>\n      <td>0.0</td>\n      <td>0.000000</td>\n      <td>0.0</td>\n      <td>0.0</td>\n      <td>0.000000</td>\n      <td>0.143276</td>\n      <td>0.0</td>\n      <td>...</td>\n      <td>0.0</td>\n      <td>0.000000</td>\n      <td>0.0</td>\n      <td>0.000000</td>\n      <td>0.0</td>\n      <td>0.000000</td>\n      <td>0.345453</td>\n      <td>0.000000</td>\n      <td>0.0</td>\n      <td>0.323940</td>\n    </tr>\n    <tr>\n      <th>1</th>\n      <td>software+engineer</td>\n      <td>0.000000</td>\n      <td>0.0</td>\n      <td>0.0</td>\n      <td>0.000000</td>\n      <td>0.0</td>\n      <td>0.0</td>\n      <td>0.000000</td>\n      <td>0.061751</td>\n      <td>0.0</td>\n      <td>...</td>\n      <td>0.0</td>\n      <td>0.082574</td>\n      <td>0.0</td>\n      <td>0.000000</td>\n      <td>0.0</td>\n      <td>0.057996</td>\n      <td>0.000000</td>\n      <td>0.125683</td>\n      <td>0.0</td>\n      <td>0.511923</td>\n    </tr>\n    <tr>\n      <th>2</th>\n      <td>software+engineer</td>\n      <td>0.000000</td>\n      <td>0.0</td>\n      <td>0.0</td>\n      <td>0.000000</td>\n      <td>0.0</td>\n      <td>0.0</td>\n      <td>0.290684</td>\n      <td>0.499494</td>\n      <td>0.0</td>\n      <td>...</td>\n      <td>0.0</td>\n      <td>0.000000</td>\n      <td>0.0</td>\n      <td>0.203606</td>\n      <td>0.0</td>\n      <td>0.000000</td>\n      <td>0.100361</td>\n      <td>0.000000</td>\n      <td>0.0</td>\n      <td>0.062741</td>\n    </tr>\n    <tr>\n      <th>3</th>\n      <td>ui+ux</td>\n      <td>0.120286</td>\n      <td>0.0</td>\n      <td>0.0</td>\n      <td>0.000000</td>\n      <td>0.0</td>\n      <td>0.0</td>\n      <td>0.000000</td>\n      <td>0.000000</td>\n      <td>0.0</td>\n      <td>...</td>\n      <td>0.0</td>\n      <td>0.160089</td>\n      <td>0.0</td>\n      <td>0.073200</td>\n      <td>0.0</td>\n      <td>0.112439</td>\n      <td>0.000000</td>\n      <td>0.000000</td>\n      <td>0.0</td>\n      <td>0.225563</td>\n    </tr>\n    <tr>\n      <th>4</th>\n      <td>ui+ux</td>\n      <td>0.000000</td>\n      <td>0.0</td>\n      <td>0.0</td>\n      <td>0.000000</td>\n      <td>0.0</td>\n      <td>0.0</td>\n      <td>0.000000</td>\n      <td>0.000000</td>\n      <td>0.0</td>\n      <td>...</td>\n      <td>0.0</td>\n      <td>0.115759</td>\n      <td>0.0</td>\n      <td>0.105860</td>\n      <td>0.0</td>\n      <td>0.040652</td>\n      <td>0.000000</td>\n      <td>0.000000</td>\n      <td>0.0</td>\n      <td>0.097861</td>\n    </tr>\n    <tr>\n      <th>...</th>\n      <td>...</td>\n      <td>...</td>\n      <td>...</td>\n      <td>...</td>\n      <td>...</td>\n      <td>...</td>\n      <td>...</td>\n      <td>...</td>\n      <td>...</td>\n      <td>...</td>\n      <td>...</td>\n      <td>...</td>\n      <td>...</td>\n      <td>...</td>\n      <td>...</td>\n      <td>...</td>\n      <td>...</td>\n      <td>...</td>\n      <td>...</td>\n      <td>...</td>\n      <td>...</td>\n    </tr>\n    <tr>\n      <th>3175</th>\n      <td>software+engineer</td>\n      <td>0.000000</td>\n      <td>0.0</td>\n      <td>0.0</td>\n      <td>0.000000</td>\n      <td>0.0</td>\n      <td>0.0</td>\n      <td>0.095572</td>\n      <td>0.054742</td>\n      <td>0.0</td>\n      <td>...</td>\n      <td>0.0</td>\n      <td>0.109803</td>\n      <td>0.0</td>\n      <td>0.066942</td>\n      <td>0.0</td>\n      <td>0.179947</td>\n      <td>0.164985</td>\n      <td>0.111417</td>\n      <td>0.0</td>\n      <td>0.123768</td>\n    </tr>\n    <tr>\n      <th>3176</th>\n      <td>cyber+security</td>\n      <td>0.000000</td>\n      <td>0.0</td>\n      <td>0.0</td>\n      <td>0.140165</td>\n      <td>0.0</td>\n      <td>0.0</td>\n      <td>0.000000</td>\n      <td>0.000000</td>\n      <td>0.0</td>\n      <td>...</td>\n      <td>0.0</td>\n      <td>0.210418</td>\n      <td>0.0</td>\n      <td>0.000000</td>\n      <td>0.0</td>\n      <td>0.221681</td>\n      <td>0.094849</td>\n      <td>0.000000</td>\n      <td>0.0</td>\n      <td>0.177885</td>\n    </tr>\n    <tr>\n      <th>3177</th>\n      <td>ui+ux</td>\n      <td>0.000000</td>\n      <td>0.0</td>\n      <td>0.0</td>\n      <td>0.000000</td>\n      <td>0.0</td>\n      <td>0.0</td>\n      <td>0.000000</td>\n      <td>0.422655</td>\n      <td>0.0</td>\n      <td>...</td>\n      <td>0.0</td>\n      <td>0.000000</td>\n      <td>0.0</td>\n      <td>0.000000</td>\n      <td>0.0</td>\n      <td>0.000000</td>\n      <td>0.509533</td>\n      <td>0.107530</td>\n      <td>0.0</td>\n      <td>0.238901</td>\n    </tr>\n    <tr>\n      <th>3178</th>\n      <td>data+analyst</td>\n      <td>0.000000</td>\n      <td>0.0</td>\n      <td>0.0</td>\n      <td>0.000000</td>\n      <td>0.0</td>\n      <td>0.0</td>\n      <td>0.000000</td>\n      <td>0.026570</td>\n      <td>0.0</td>\n      <td>...</td>\n      <td>0.0</td>\n      <td>0.071060</td>\n      <td>0.0</td>\n      <td>0.064984</td>\n      <td>0.0</td>\n      <td>0.124773</td>\n      <td>0.032032</td>\n      <td>0.567827</td>\n      <td>0.0</td>\n      <td>0.060074</td>\n    </tr>\n    <tr>\n      <th>3179</th>\n      <td>data+analyst</td>\n      <td>0.000000</td>\n      <td>0.0</td>\n      <td>0.0</td>\n      <td>0.000000</td>\n      <td>0.0</td>\n      <td>0.0</td>\n      <td>0.000000</td>\n      <td>0.000000</td>\n      <td>0.0</td>\n      <td>...</td>\n      <td>0.0</td>\n      <td>0.000000</td>\n      <td>0.0</td>\n      <td>0.210119</td>\n      <td>0.0</td>\n      <td>0.121033</td>\n      <td>0.103571</td>\n      <td>0.262288</td>\n      <td>0.0</td>\n      <td>0.000000</td>\n    </tr>\n  </tbody>\n</table>\n<p>3180 rows × 101 columns</p>\n</div>"
     },
     "execution_count": 227,
     "metadata": {},
     "output_type": "execute_result"
    }
   ],
   "source": [
    "jd_train"
   ],
   "metadata": {
    "collapsed": false,
    "pycharm": {
     "name": "#%%\n"
    }
   }
  },
  {
   "cell_type": "code",
   "execution_count": 228,
   "outputs": [
    {
     "data": {
      "text/plain": "              category  assessment  Management  Work     cyber   ÊÊ  Data  \\\n0         data+analyst         0.0         0.0   0.0  0.000000  0.0   0.0   \n1       cyber+security         0.0         0.0   0.0  0.175017  0.0   0.0   \n2    software+engineer         0.0         0.0   0.0  0.000000  0.0   0.0   \n3                ui+ux         0.0         0.0   0.0  0.000000  0.0   0.0   \n4                ui+ux         0.0         0.0   0.0  0.000000  0.0   0.0   \n..                 ...         ...         ...   ...       ...  ...   ...   \n790  software+engineer         0.0         0.0   0.0  0.000000  0.0   0.0   \n791     cyber+security         0.0         0.0   0.0  0.000000  0.0   0.0   \n792              ui+ux         0.0         0.0   0.0  0.000000  0.0   0.0   \n793              ui+ux         0.0         0.0   0.0  0.000000  0.0   0.0   \n794              ui+ux         0.0         0.0   0.0  0.000000  0.0   0.0   \n\n      control    design  Experience  ...  Technology      role  Java  \\\n0    0.000000  0.000000         0.0  ...         0.0  0.000000   0.0   \n1    0.000000  0.000000         0.0  ...         0.0  0.000000   0.0   \n2    0.000000  0.102496         0.0  ...         0.0  0.000000   0.0   \n3    0.000000  0.147327         0.0  ...         0.0  0.000000   0.0   \n4    0.000000  0.102945         0.0  ...         0.0  0.000000   0.0   \n..        ...       ...         ...  ...         ...       ...   ...   \n790  0.000000  0.044197         0.0  ...         0.0  0.059146   0.0   \n791  0.087995  0.050226         0.0  ...         0.0  0.000000   0.0   \n792  0.000000  0.602373         0.0  ...         0.0  0.000000   0.0   \n793  0.000000  0.388837         0.0  ...         0.0  0.000000   0.0   \n794  0.000000  0.000000         0.0  ...         0.0  0.000000   0.0   \n\n      process  Strong     skill  software  business  Ability  experience  \n0    0.000000     0.0  0.248572  0.000000  0.523485      0.0    0.064633  \n1    0.000000     0.0  0.000000  0.000000  0.000000      0.0    0.151252  \n2    0.000000     0.0  0.000000  0.000000  0.000000      0.0    0.038436  \n3    0.000000     0.0  0.141651  0.044691  0.335602      0.0    0.110494  \n4    0.000000     0.0  0.148468  0.000000  0.000000      0.0    0.115812  \n..        ...     ...       ...       ...       ...      ...         ...  \n790  0.055503     0.0  0.000000  0.107255  0.000000      0.0    0.099442  \n791  0.126149     0.0  0.048291  0.000000  0.152549      0.0    0.113008  \n792  0.000000     0.0  0.231666  0.000000  0.000000      0.0    0.180710  \n793  0.162769     0.0  0.000000  0.314537  0.000000      0.0    0.194417  \n794  0.000000     0.0  0.098393  0.000000  0.000000      0.0    0.076751  \n\n[795 rows x 101 columns]",
      "text/html": "<div>\n<style scoped>\n    .dataframe tbody tr th:only-of-type {\n        vertical-align: middle;\n    }\n\n    .dataframe tbody tr th {\n        vertical-align: top;\n    }\n\n    .dataframe thead th {\n        text-align: right;\n    }\n</style>\n<table border=\"1\" class=\"dataframe\">\n  <thead>\n    <tr style=\"text-align: right;\">\n      <th></th>\n      <th>category</th>\n      <th>assessment</th>\n      <th>Management</th>\n      <th>Work</th>\n      <th>cyber</th>\n      <th>ÊÊ</th>\n      <th>Data</th>\n      <th>control</th>\n      <th>design</th>\n      <th>Experience</th>\n      <th>...</th>\n      <th>Technology</th>\n      <th>role</th>\n      <th>Java</th>\n      <th>process</th>\n      <th>Strong</th>\n      <th>skill</th>\n      <th>software</th>\n      <th>business</th>\n      <th>Ability</th>\n      <th>experience</th>\n    </tr>\n  </thead>\n  <tbody>\n    <tr>\n      <th>0</th>\n      <td>data+analyst</td>\n      <td>0.0</td>\n      <td>0.0</td>\n      <td>0.0</td>\n      <td>0.000000</td>\n      <td>0.0</td>\n      <td>0.0</td>\n      <td>0.000000</td>\n      <td>0.000000</td>\n      <td>0.0</td>\n      <td>...</td>\n      <td>0.0</td>\n      <td>0.000000</td>\n      <td>0.0</td>\n      <td>0.000000</td>\n      <td>0.0</td>\n      <td>0.248572</td>\n      <td>0.000000</td>\n      <td>0.523485</td>\n      <td>0.0</td>\n      <td>0.064633</td>\n    </tr>\n    <tr>\n      <th>1</th>\n      <td>cyber+security</td>\n      <td>0.0</td>\n      <td>0.0</td>\n      <td>0.0</td>\n      <td>0.175017</td>\n      <td>0.0</td>\n      <td>0.0</td>\n      <td>0.000000</td>\n      <td>0.000000</td>\n      <td>0.0</td>\n      <td>...</td>\n      <td>0.0</td>\n      <td>0.000000</td>\n      <td>0.0</td>\n      <td>0.000000</td>\n      <td>0.0</td>\n      <td>0.000000</td>\n      <td>0.000000</td>\n      <td>0.000000</td>\n      <td>0.0</td>\n      <td>0.151252</td>\n    </tr>\n    <tr>\n      <th>2</th>\n      <td>software+engineer</td>\n      <td>0.0</td>\n      <td>0.0</td>\n      <td>0.0</td>\n      <td>0.000000</td>\n      <td>0.0</td>\n      <td>0.0</td>\n      <td>0.000000</td>\n      <td>0.102496</td>\n      <td>0.0</td>\n      <td>...</td>\n      <td>0.0</td>\n      <td>0.000000</td>\n      <td>0.0</td>\n      <td>0.000000</td>\n      <td>0.0</td>\n      <td>0.000000</td>\n      <td>0.000000</td>\n      <td>0.000000</td>\n      <td>0.0</td>\n      <td>0.038436</td>\n    </tr>\n    <tr>\n      <th>3</th>\n      <td>ui+ux</td>\n      <td>0.0</td>\n      <td>0.0</td>\n      <td>0.0</td>\n      <td>0.000000</td>\n      <td>0.0</td>\n      <td>0.0</td>\n      <td>0.000000</td>\n      <td>0.147327</td>\n      <td>0.0</td>\n      <td>...</td>\n      <td>0.0</td>\n      <td>0.000000</td>\n      <td>0.0</td>\n      <td>0.000000</td>\n      <td>0.0</td>\n      <td>0.141651</td>\n      <td>0.044691</td>\n      <td>0.335602</td>\n      <td>0.0</td>\n      <td>0.110494</td>\n    </tr>\n    <tr>\n      <th>4</th>\n      <td>ui+ux</td>\n      <td>0.0</td>\n      <td>0.0</td>\n      <td>0.0</td>\n      <td>0.000000</td>\n      <td>0.0</td>\n      <td>0.0</td>\n      <td>0.000000</td>\n      <td>0.102945</td>\n      <td>0.0</td>\n      <td>...</td>\n      <td>0.0</td>\n      <td>0.000000</td>\n      <td>0.0</td>\n      <td>0.000000</td>\n      <td>0.0</td>\n      <td>0.148468</td>\n      <td>0.000000</td>\n      <td>0.000000</td>\n      <td>0.0</td>\n      <td>0.115812</td>\n    </tr>\n    <tr>\n      <th>...</th>\n      <td>...</td>\n      <td>...</td>\n      <td>...</td>\n      <td>...</td>\n      <td>...</td>\n      <td>...</td>\n      <td>...</td>\n      <td>...</td>\n      <td>...</td>\n      <td>...</td>\n      <td>...</td>\n      <td>...</td>\n      <td>...</td>\n      <td>...</td>\n      <td>...</td>\n      <td>...</td>\n      <td>...</td>\n      <td>...</td>\n      <td>...</td>\n      <td>...</td>\n      <td>...</td>\n    </tr>\n    <tr>\n      <th>790</th>\n      <td>software+engineer</td>\n      <td>0.0</td>\n      <td>0.0</td>\n      <td>0.0</td>\n      <td>0.000000</td>\n      <td>0.0</td>\n      <td>0.0</td>\n      <td>0.000000</td>\n      <td>0.044197</td>\n      <td>0.0</td>\n      <td>...</td>\n      <td>0.0</td>\n      <td>0.059146</td>\n      <td>0.0</td>\n      <td>0.055503</td>\n      <td>0.0</td>\n      <td>0.000000</td>\n      <td>0.107255</td>\n      <td>0.000000</td>\n      <td>0.0</td>\n      <td>0.099442</td>\n    </tr>\n    <tr>\n      <th>791</th>\n      <td>cyber+security</td>\n      <td>0.0</td>\n      <td>0.0</td>\n      <td>0.0</td>\n      <td>0.000000</td>\n      <td>0.0</td>\n      <td>0.0</td>\n      <td>0.087995</td>\n      <td>0.050226</td>\n      <td>0.0</td>\n      <td>...</td>\n      <td>0.0</td>\n      <td>0.000000</td>\n      <td>0.0</td>\n      <td>0.126149</td>\n      <td>0.0</td>\n      <td>0.048291</td>\n      <td>0.000000</td>\n      <td>0.152549</td>\n      <td>0.0</td>\n      <td>0.113008</td>\n    </tr>\n    <tr>\n      <th>792</th>\n      <td>ui+ux</td>\n      <td>0.0</td>\n      <td>0.0</td>\n      <td>0.0</td>\n      <td>0.000000</td>\n      <td>0.0</td>\n      <td>0.0</td>\n      <td>0.000000</td>\n      <td>0.602373</td>\n      <td>0.0</td>\n      <td>...</td>\n      <td>0.0</td>\n      <td>0.000000</td>\n      <td>0.0</td>\n      <td>0.000000</td>\n      <td>0.0</td>\n      <td>0.231666</td>\n      <td>0.000000</td>\n      <td>0.000000</td>\n      <td>0.0</td>\n      <td>0.180710</td>\n    </tr>\n    <tr>\n      <th>793</th>\n      <td>ui+ux</td>\n      <td>0.0</td>\n      <td>0.0</td>\n      <td>0.0</td>\n      <td>0.000000</td>\n      <td>0.0</td>\n      <td>0.0</td>\n      <td>0.000000</td>\n      <td>0.388837</td>\n      <td>0.0</td>\n      <td>...</td>\n      <td>0.0</td>\n      <td>0.000000</td>\n      <td>0.0</td>\n      <td>0.162769</td>\n      <td>0.0</td>\n      <td>0.000000</td>\n      <td>0.314537</td>\n      <td>0.000000</td>\n      <td>0.0</td>\n      <td>0.194417</td>\n    </tr>\n    <tr>\n      <th>794</th>\n      <td>ui+ux</td>\n      <td>0.0</td>\n      <td>0.0</td>\n      <td>0.0</td>\n      <td>0.000000</td>\n      <td>0.0</td>\n      <td>0.0</td>\n      <td>0.000000</td>\n      <td>0.000000</td>\n      <td>0.0</td>\n      <td>...</td>\n      <td>0.0</td>\n      <td>0.000000</td>\n      <td>0.0</td>\n      <td>0.000000</td>\n      <td>0.0</td>\n      <td>0.098393</td>\n      <td>0.000000</td>\n      <td>0.000000</td>\n      <td>0.0</td>\n      <td>0.076751</td>\n    </tr>\n  </tbody>\n</table>\n<p>795 rows × 101 columns</p>\n</div>"
     },
     "execution_count": 228,
     "metadata": {},
     "output_type": "execute_result"
    }
   ],
   "source": [
    "jd_test"
   ],
   "metadata": {
    "collapsed": false,
    "pycharm": {
     "name": "#%%\n"
    }
   }
  },
  {
   "cell_type": "markdown",
   "source": [
    "### Splitting Dataset into Features and Target Vectors"
   ],
   "metadata": {
    "collapsed": false,
    "pycharm": {
     "name": "#%% md\n"
    }
   }
  },
  {
   "cell_type": "code",
   "execution_count": 229,
   "outputs": [],
   "source": [
    "jd_train_X = jd_train.iloc[:, 1:]\n",
    "jd_train_y = jd_train[[\"category\"]]\n",
    "\n",
    "jd_test_X = jd_test.iloc[:, 1:]\n",
    "jd_test_y = jd_test[[\"category\"]]"
   ],
   "metadata": {
    "collapsed": false,
    "pycharm": {
     "name": "#%%\n"
    }
   }
  },
  {
   "cell_type": "code",
   "execution_count": 230,
   "outputs": [
    {
     "data": {
      "text/plain": "category         \ncyber+security       212\nsoftware+engineer    211\nui+ux                200\ndata+analyst         172\ndtype: int64"
     },
     "execution_count": 230,
     "metadata": {},
     "output_type": "execute_result"
    }
   ],
   "source": [
    "jd_test_y.value_counts()"
   ],
   "metadata": {
    "collapsed": false,
    "pycharm": {
     "name": "#%%\n"
    }
   }
  },
  {
   "cell_type": "markdown",
   "source": [
    "### Encoding Target Variables"
   ],
   "metadata": {
    "collapsed": false,
    "pycharm": {
     "name": "#%% md\n"
    }
   }
  },
  {
   "cell_type": "code",
   "execution_count": 231,
   "outputs": [],
   "source": [
    "enc = OneHotEncoder(sparse=False)\n",
    "enc.fit(jd_train_y);"
   ],
   "metadata": {
    "collapsed": false,
    "pycharm": {
     "name": "#%%\n"
    }
   }
  },
  {
   "cell_type": "code",
   "execution_count": 232,
   "outputs": [
    {
     "data": {
      "text/plain": "[array(['cyber+security', 'data+analyst', 'software+engineer', 'ui+ux'],\n       dtype=object)]"
     },
     "execution_count": 232,
     "metadata": {},
     "output_type": "execute_result"
    }
   ],
   "source": [
    "enc.categories_"
   ],
   "metadata": {
    "collapsed": false,
    "pycharm": {
     "name": "#%%\n"
    }
   }
  },
  {
   "cell_type": "code",
   "execution_count": 233,
   "outputs": [],
   "source": [
    "jd_train_y = enc.transform(jd_train_y)\n",
    "jd_test_y = enc.transform(jd_test_y)"
   ],
   "metadata": {
    "collapsed": false,
    "pycharm": {
     "name": "#%%\n"
    }
   }
  },
  {
   "cell_type": "markdown",
   "source": [
    "### DNN Model creation and training"
   ],
   "metadata": {
    "collapsed": false,
    "pycharm": {
     "name": "#%% md\n"
    }
   }
  },
  {
   "cell_type": "code",
   "execution_count": 235,
   "outputs": [],
   "source": [
    "model = tf.keras.Sequential([\n",
    "    tf.keras.layers.Dense(32, activation='relu'),\n",
    "    tf.keras.layers.Dense(16, activation='relu'),\n",
    "    tf.keras.layers.Dense(4, activation='softmax')\n",
    "])"
   ],
   "metadata": {
    "collapsed": false,
    "pycharm": {
     "name": "#%%\n"
    }
   }
  },
  {
   "cell_type": "code",
   "execution_count": 236,
   "outputs": [],
   "source": [
    "model.compile(loss=tf.keras.losses.CategoricalCrossentropy(),\n",
    "              optimizer=tf.keras.optimizers.Adam(1e-4),\n",
    "              metrics=['accuracy', tf.keras.metrics.Recall(), tf.keras.metrics.Precision()])"
   ],
   "metadata": {
    "collapsed": false,
    "pycharm": {
     "name": "#%%\n"
    }
   }
  },
  {
   "cell_type": "code",
   "execution_count": 237,
   "outputs": [
    {
     "name": "stdout",
     "output_type": "stream",
     "text": [
      "Epoch 1/50\n",
      "  6/100 [>.............................] - ETA: 1s - loss: 1.3861 - accuracy: 0.3385 - recall_9: 0.0000e+00 - precision_9: 0.0000e+00 "
     ]
    },
    {
     "name": "stderr",
     "output_type": "stream",
     "text": [
      "2023-03-31 16:03:41.453738: I tensorflow/core/grappler/optimizers/custom_graph_optimizer_registry.cc:113] Plugin optimizer for device_type GPU is enabled.\n"
     ]
    },
    {
     "name": "stdout",
     "output_type": "stream",
     "text": [
      "100/100 [==============================] - ETA: 0s - loss: 1.3755 - accuracy: 0.3358 - recall_9: 0.0000e+00 - precision_9: 0.0000e+00"
     ]
    },
    {
     "name": "stderr",
     "output_type": "stream",
     "text": [
      "2023-03-31 16:03:42.758771: I tensorflow/core/grappler/optimizers/custom_graph_optimizer_registry.cc:113] Plugin optimizer for device_type GPU is enabled.\n"
     ]
    },
    {
     "name": "stdout",
     "output_type": "stream",
     "text": [
      "100/100 [==============================] - 2s 15ms/step - loss: 1.3755 - accuracy: 0.3358 - recall_9: 0.0000e+00 - precision_9: 0.0000e+00 - val_loss: 1.3641 - val_accuracy: 0.3987 - val_recall_9: 0.0000e+00 - val_precision_9: 0.0000e+00\n",
      "Epoch 2/50\n",
      "100/100 [==============================] - 1s 12ms/step - loss: 1.3514 - accuracy: 0.4195 - recall_9: 0.0000e+00 - precision_9: 0.0000e+00 - val_loss: 1.3392 - val_accuracy: 0.4616 - val_recall_9: 0.0000e+00 - val_precision_9: 0.0000e+00\n",
      "Epoch 3/50\n",
      "100/100 [==============================] - 1s 12ms/step - loss: 1.3203 - accuracy: 0.5000 - recall_9: 0.0000e+00 - precision_9: 0.0000e+00 - val_loss: 1.3048 - val_accuracy: 0.5170 - val_recall_9: 0.0000e+00 - val_precision_9: 0.0000e+00\n",
      "Epoch 4/50\n",
      "100/100 [==============================] - 1s 12ms/step - loss: 1.2804 - accuracy: 0.5909 - recall_9: 0.0000e+00 - precision_9: 0.0000e+00 - val_loss: 1.2613 - val_accuracy: 0.6226 - val_recall_9: 0.0000e+00 - val_precision_9: 0.0000e+00\n",
      "Epoch 5/50\n",
      "100/100 [==============================] - 1s 12ms/step - loss: 1.2292 - accuracy: 0.6497 - recall_9: 0.0000e+00 - precision_9: 0.0000e+00 - val_loss: 1.2055 - val_accuracy: 0.6679 - val_recall_9: 0.0000e+00 - val_precision_9: 0.0000e+00\n",
      "Epoch 6/50\n",
      "100/100 [==============================] - 1s 12ms/step - loss: 1.1642 - accuracy: 0.7160 - recall_9: 0.0028 - precision_9: 1.0000 - val_loss: 1.1362 - val_accuracy: 0.7447 - val_recall_9: 0.0239 - val_precision_9: 1.0000\n",
      "Epoch 7/50\n",
      "100/100 [==============================] - 1s 12ms/step - loss: 1.0861 - accuracy: 0.7415 - recall_9: 0.0805 - precision_9: 1.0000 - val_loss: 1.0565 - val_accuracy: 0.7459 - val_recall_9: 0.1170 - val_precision_9: 1.0000\n",
      "Epoch 8/50\n",
      "100/100 [==============================] - 1s 13ms/step - loss: 1.0035 - accuracy: 0.7704 - recall_9: 0.1469 - precision_9: 1.0000 - val_loss: 0.9771 - val_accuracy: 0.7761 - val_recall_9: 0.1572 - val_precision_9: 1.0000\n",
      "Epoch 9/50\n",
      "100/100 [==============================] - 1s 13ms/step - loss: 0.9226 - accuracy: 0.7928 - recall_9: 0.1836 - precision_9: 0.9915 - val_loss: 0.9014 - val_accuracy: 0.7887 - val_recall_9: 0.2000 - val_precision_9: 0.9755\n",
      "Epoch 10/50\n",
      "100/100 [==============================] - 1s 12ms/step - loss: 0.8472 - accuracy: 0.7991 - recall_9: 0.2893 - precision_9: 0.9777 - val_loss: 0.8331 - val_accuracy: 0.8050 - val_recall_9: 0.3082 - val_precision_9: 0.9761\n",
      "Epoch 11/50\n",
      "100/100 [==============================] - 1s 12ms/step - loss: 0.7795 - accuracy: 0.8091 - recall_9: 0.3962 - precision_9: 0.9582 - val_loss: 0.7726 - val_accuracy: 0.8138 - val_recall_9: 0.4151 - val_precision_9: 0.9649\n",
      "Epoch 12/50\n",
      "100/100 [==============================] - 1s 12ms/step - loss: 0.7196 - accuracy: 0.8270 - recall_9: 0.4846 - precision_9: 0.9530 - val_loss: 0.7194 - val_accuracy: 0.8214 - val_recall_9: 0.4906 - val_precision_9: 0.9559\n",
      "Epoch 13/50\n",
      "100/100 [==============================] - 1s 12ms/step - loss: 0.6675 - accuracy: 0.8355 - recall_9: 0.5346 - precision_9: 0.9434 - val_loss: 0.6728 - val_accuracy: 0.8302 - val_recall_9: 0.5283 - val_precision_9: 0.9375\n",
      "Epoch 14/50\n",
      "100/100 [==============================] - 1s 12ms/step - loss: 0.6226 - accuracy: 0.8409 - recall_9: 0.5692 - precision_9: 0.9335 - val_loss: 0.6336 - val_accuracy: 0.8403 - val_recall_9: 0.5610 - val_precision_9: 0.9292\n",
      "Epoch 15/50\n",
      "100/100 [==============================] - 1s 12ms/step - loss: 0.5834 - accuracy: 0.8503 - recall_9: 0.6104 - precision_9: 0.9252 - val_loss: 0.5975 - val_accuracy: 0.8478 - val_recall_9: 0.6000 - val_precision_9: 0.9244\n",
      "Epoch 16/50\n",
      "100/100 [==============================] - 1s 12ms/step - loss: 0.5493 - accuracy: 0.8560 - recall_9: 0.6585 - precision_9: 0.9156 - val_loss: 0.5673 - val_accuracy: 0.8528 - val_recall_9: 0.6868 - val_precision_9: 0.9223\n",
      "Epoch 17/50\n",
      "100/100 [==============================] - 1s 12ms/step - loss: 0.5200 - accuracy: 0.8563 - recall_9: 0.7160 - precision_9: 0.9134 - val_loss: 0.5408 - val_accuracy: 0.8579 - val_recall_9: 0.7170 - val_precision_9: 0.9223\n",
      "Epoch 18/50\n",
      "100/100 [==============================] - 1s 12ms/step - loss: 0.4942 - accuracy: 0.8623 - recall_9: 0.7340 - precision_9: 0.9099 - val_loss: 0.5171 - val_accuracy: 0.8642 - val_recall_9: 0.7333 - val_precision_9: 0.9210\n",
      "Epoch 19/50\n",
      "100/100 [==============================] - 1s 12ms/step - loss: 0.4714 - accuracy: 0.8689 - recall_9: 0.7657 - precision_9: 0.9103 - val_loss: 0.4958 - val_accuracy: 0.8642 - val_recall_9: 0.7711 - val_precision_9: 0.9204\n",
      "Epoch 20/50\n",
      "100/100 [==============================] - 1s 12ms/step - loss: 0.4514 - accuracy: 0.8711 - recall_9: 0.7906 - precision_9: 0.9099 - val_loss: 0.4776 - val_accuracy: 0.8604 - val_recall_9: 0.7799 - val_precision_9: 0.9212\n",
      "Epoch 21/50\n",
      "100/100 [==============================] - 1s 12ms/step - loss: 0.4339 - accuracy: 0.8739 - recall_9: 0.8035 - precision_9: 0.9063 - val_loss: 0.4614 - val_accuracy: 0.8604 - val_recall_9: 0.8025 - val_precision_9: 0.9193\n",
      "Epoch 22/50\n",
      "100/100 [==============================] - 1s 12ms/step - loss: 0.4181 - accuracy: 0.8748 - recall_9: 0.8142 - precision_9: 0.9033 - val_loss: 0.4467 - val_accuracy: 0.8604 - val_recall_9: 0.7987 - val_precision_9: 0.9150\n",
      "Epoch 23/50\n",
      "100/100 [==============================] - 1s 12ms/step - loss: 0.4042 - accuracy: 0.8761 - recall_9: 0.8189 - precision_9: 0.9035 - val_loss: 0.4338 - val_accuracy: 0.8679 - val_recall_9: 0.8189 - val_precision_9: 0.9143\n",
      "Epoch 24/50\n",
      "100/100 [==============================] - 1s 13ms/step - loss: 0.3918 - accuracy: 0.8824 - recall_9: 0.8264 - precision_9: 0.9031 - val_loss: 0.4227 - val_accuracy: 0.8704 - val_recall_9: 0.8214 - val_precision_9: 0.9133\n",
      "Epoch 25/50\n",
      "100/100 [==============================] - 1s 12ms/step - loss: 0.3807 - accuracy: 0.8836 - recall_9: 0.8377 - precision_9: 0.9040 - val_loss: 0.4114 - val_accuracy: 0.8730 - val_recall_9: 0.8277 - val_precision_9: 0.9126\n",
      "Epoch 26/50\n",
      "100/100 [==============================] - 1s 13ms/step - loss: 0.3706 - accuracy: 0.8840 - recall_9: 0.8418 - precision_9: 0.9035 - val_loss: 0.4025 - val_accuracy: 0.8667 - val_recall_9: 0.8327 - val_precision_9: 0.9068\n",
      "Epoch 27/50\n",
      "100/100 [==============================] - 1s 12ms/step - loss: 0.3616 - accuracy: 0.8855 - recall_9: 0.8494 - precision_9: 0.9043 - val_loss: 0.3933 - val_accuracy: 0.8717 - val_recall_9: 0.8403 - val_precision_9: 0.9076\n",
      "Epoch 28/50\n",
      "100/100 [==============================] - 1s 12ms/step - loss: 0.3535 - accuracy: 0.8862 - recall_9: 0.8500 - precision_9: 0.9019 - val_loss: 0.3856 - val_accuracy: 0.8742 - val_recall_9: 0.8415 - val_precision_9: 0.9065\n",
      "Epoch 29/50\n",
      "100/100 [==============================] - 1s 12ms/step - loss: 0.3461 - accuracy: 0.8862 - recall_9: 0.8522 - precision_9: 0.9018 - val_loss: 0.3790 - val_accuracy: 0.8730 - val_recall_9: 0.8440 - val_precision_9: 0.9043\n",
      "Epoch 30/50\n",
      "100/100 [==============================] - 1s 12ms/step - loss: 0.3395 - accuracy: 0.8871 - recall_9: 0.8547 - precision_9: 0.9018 - val_loss: 0.3728 - val_accuracy: 0.8730 - val_recall_9: 0.8541 - val_precision_9: 0.9017\n",
      "Epoch 31/50\n",
      "100/100 [==============================] - 1s 12ms/step - loss: 0.3332 - accuracy: 0.8871 - recall_9: 0.8642 - precision_9: 0.9025 - val_loss: 0.3658 - val_accuracy: 0.8730 - val_recall_9: 0.8604 - val_precision_9: 0.9036\n",
      "Epoch 32/50\n",
      "100/100 [==============================] - 1s 13ms/step - loss: 0.3274 - accuracy: 0.8871 - recall_9: 0.8698 - precision_9: 0.9024 - val_loss: 0.3605 - val_accuracy: 0.8755 - val_recall_9: 0.8604 - val_precision_9: 0.9024\n",
      "Epoch 33/50\n",
      "100/100 [==============================] - 1s 12ms/step - loss: 0.3219 - accuracy: 0.8896 - recall_9: 0.8708 - precision_9: 0.9037 - val_loss: 0.3545 - val_accuracy: 0.8742 - val_recall_9: 0.8616 - val_precision_9: 0.9049\n",
      "Epoch 34/50\n",
      "100/100 [==============================] - 1s 13ms/step - loss: 0.3174 - accuracy: 0.8877 - recall_9: 0.8726 - precision_9: 0.9024 - val_loss: 0.3502 - val_accuracy: 0.8755 - val_recall_9: 0.8616 - val_precision_9: 0.9037\n",
      "Epoch 35/50\n",
      "100/100 [==============================] - 1s 12ms/step - loss: 0.3128 - accuracy: 0.8874 - recall_9: 0.8752 - precision_9: 0.9039 - val_loss: 0.3461 - val_accuracy: 0.8742 - val_recall_9: 0.8629 - val_precision_9: 0.9050\n",
      "Epoch 36/50\n",
      "100/100 [==============================] - 1s 12ms/step - loss: 0.3087 - accuracy: 0.8890 - recall_9: 0.8764 - precision_9: 0.9049 - val_loss: 0.3426 - val_accuracy: 0.8767 - val_recall_9: 0.8629 - val_precision_9: 0.9026\n",
      "Epoch 37/50\n",
      "100/100 [==============================] - 1s 12ms/step - loss: 0.3048 - accuracy: 0.8893 - recall_9: 0.8770 - precision_9: 0.9046 - val_loss: 0.3385 - val_accuracy: 0.8755 - val_recall_9: 0.8642 - val_precision_9: 0.9039\n",
      "Epoch 38/50\n",
      "100/100 [==============================] - 1s 12ms/step - loss: 0.3011 - accuracy: 0.8887 - recall_9: 0.8777 - precision_9: 0.9041 - val_loss: 0.3341 - val_accuracy: 0.8767 - val_recall_9: 0.8679 - val_precision_9: 0.9031\n",
      "Epoch 39/50\n",
      "100/100 [==============================] - 1s 12ms/step - loss: 0.2979 - accuracy: 0.8909 - recall_9: 0.8799 - precision_9: 0.9058 - val_loss: 0.3315 - val_accuracy: 0.8767 - val_recall_9: 0.8667 - val_precision_9: 0.9030\n",
      "Epoch 40/50\n",
      "100/100 [==============================] - 1s 12ms/step - loss: 0.2947 - accuracy: 0.8912 - recall_9: 0.8808 - precision_9: 0.9059 - val_loss: 0.3279 - val_accuracy: 0.8830 - val_recall_9: 0.8730 - val_precision_9: 0.9108\n",
      "Epoch 41/50\n",
      "100/100 [==============================] - 1s 12ms/step - loss: 0.2916 - accuracy: 0.8928 - recall_9: 0.8833 - precision_9: 0.9073 - val_loss: 0.3253 - val_accuracy: 0.8780 - val_recall_9: 0.8667 - val_precision_9: 0.9030\n",
      "Epoch 42/50\n",
      "100/100 [==============================] - 1s 12ms/step - loss: 0.2888 - accuracy: 0.8953 - recall_9: 0.8840 - precision_9: 0.9079 - val_loss: 0.3222 - val_accuracy: 0.8855 - val_recall_9: 0.8742 - val_precision_9: 0.9097\n",
      "Epoch 43/50\n",
      "100/100 [==============================] - 1s 12ms/step - loss: 0.2863 - accuracy: 0.8965 - recall_9: 0.8862 - precision_9: 0.9099 - val_loss: 0.3201 - val_accuracy: 0.8855 - val_recall_9: 0.8742 - val_precision_9: 0.9109\n",
      "Epoch 44/50\n",
      "100/100 [==============================] - 1s 12ms/step - loss: 0.2837 - accuracy: 0.9006 - recall_9: 0.8915 - precision_9: 0.9139 - val_loss: 0.3174 - val_accuracy: 0.8868 - val_recall_9: 0.8730 - val_precision_9: 0.9108\n",
      "Epoch 45/50\n",
      "100/100 [==============================] - 1s 12ms/step - loss: 0.2812 - accuracy: 0.9006 - recall_9: 0.8918 - precision_9: 0.9137 - val_loss: 0.3147 - val_accuracy: 0.8868 - val_recall_9: 0.8730 - val_precision_9: 0.9108\n",
      "Epoch 46/50\n",
      "100/100 [==============================] - 1s 12ms/step - loss: 0.2789 - accuracy: 0.9006 - recall_9: 0.8925 - precision_9: 0.9137 - val_loss: 0.3124 - val_accuracy: 0.8855 - val_recall_9: 0.8742 - val_precision_9: 0.9097\n",
      "Epoch 47/50\n",
      "100/100 [==============================] - 1s 12ms/step - loss: 0.2766 - accuracy: 0.9019 - recall_9: 0.8925 - precision_9: 0.9146 - val_loss: 0.3102 - val_accuracy: 0.8855 - val_recall_9: 0.8742 - val_precision_9: 0.9109\n",
      "Epoch 48/50\n",
      "100/100 [==============================] - 1s 12ms/step - loss: 0.2746 - accuracy: 0.9028 - recall_9: 0.8950 - precision_9: 0.9163 - val_loss: 0.3084 - val_accuracy: 0.8868 - val_recall_9: 0.8730 - val_precision_9: 0.9120\n",
      "Epoch 49/50\n",
      "100/100 [==============================] - 1s 12ms/step - loss: 0.2725 - accuracy: 0.9035 - recall_9: 0.8940 - precision_9: 0.9156 - val_loss: 0.3059 - val_accuracy: 0.8893 - val_recall_9: 0.8742 - val_precision_9: 0.9085\n",
      "Epoch 50/50\n",
      "100/100 [==============================] - 1s 12ms/step - loss: 0.2708 - accuracy: 0.9050 - recall_9: 0.8965 - precision_9: 0.9164 - val_loss: 0.3043 - val_accuracy: 0.8855 - val_recall_9: 0.8730 - val_precision_9: 0.9084\n"
     ]
    }
   ],
   "source": [
    "history = model.fit(jd_train_X, jd_train_y, epochs=50, validation_steps=30, validation_data=(jd_test_X, jd_test_y))"
   ],
   "metadata": {
    "collapsed": false,
    "pycharm": {
     "name": "#%%\n"
    }
   }
  },
  {
   "cell_type": "markdown",
   "source": [
    "### Viewing learning curves"
   ],
   "metadata": {
    "collapsed": false,
    "pycharm": {
     "name": "#%% md\n"
    }
   }
  },
  {
   "cell_type": "code",
   "execution_count": 238,
   "outputs": [
    {
     "data": {
      "text/plain": "(0.0, 1.4306822806596755)"
     },
     "execution_count": 238,
     "metadata": {},
     "output_type": "execute_result"
    },
    {
     "data": {
      "text/plain": "<Figure size 1152x576 with 2 Axes>",
      "image/png": "[encoded data removed]"
     },
     "metadata": {
      "needs_background": "light"
     },
     "output_type": "display_data"
    }
   ],
   "source": [
    "plt.figure(figsize=(16, 8))\n",
    "plt.subplot(1, 2, 1)\n",
    "plot_graphs(history, 'accuracy')\n",
    "plt.ylim(None, 1)\n",
    "plt.subplot(1, 2, 2)\n",
    "plot_graphs(history, 'loss')\n",
    "plt.ylim(0, None)"
   ],
   "metadata": {
    "collapsed": false,
    "pycharm": {
     "name": "#%%\n"
    }
   }
  },
  {
   "cell_type": "markdown",
   "source": [
    "### Saving the model"
   ],
   "metadata": {
    "collapsed": false,
    "pycharm": {
     "name": "#%% md\n"
    }
   }
  },
  {
   "cell_type": "code",
   "execution_count": 239,
   "outputs": [],
   "source": [
    "model.save(\"tf_models/dnn_hard.h5\")"
   ],
   "metadata": {
    "collapsed": false,
    "pycharm": {
     "name": "#%%\n"
    }
   }
  },
  {
   "cell_type": "markdown",
   "source": [],
   "metadata": {
    "collapsed": false,
    "pycharm": {
     "name": "#%% md\n"
    }
   }
  },
  {
   "cell_type": "markdown",
   "source": [],
   "metadata": {
    "collapsed": false,
    "pycharm": {
     "name": "#%% md\n"
    }
   }
  }
 ],
 "metadata": {
  "kernelspec": {
   "display_name": "Python 3",
   "language": "python",
   "name": "python3"
  },
  "language_info": {
   "codemirror_mode": {
    "name": "ipython",
    "version": 3
   },
   "file_extension": ".py",
   "mimetype": "text/x-python",
   "name": "python",
   "nbconvert_exporter": "python",
   "pygments_lexer": "ipython3",
   "version": "3.10.8"
  },
  "orig_nbformat": 4
 },
 "nbformat": 4,
 "nbformat_minor": 2
}