{
 "cells": [
  {
   "cell_type": "code",
   "execution_count": 1,
   "metadata": {
    "pycharm": {
     "name": "#%%\n"
    }
   },
   "outputs": [],
   "source": [
    "import tensorflow as tf\n",
    "import pandas as pd\n",
    "import matplotlib.pyplot as plt\n",
    "\n",
    "from sklearn.preprocessing import OneHotEncoder"
   ]
  },
  {
   "cell_type": "code",
   "execution_count": 2,
   "outputs": [],
   "source": [
    "def plot_graphs(history, metric):\n",
    "    plt.plot(history.history[metric])\n",
    "    plt.plot(history.history['val_'+metric], '')\n",
    "    plt.xlabel(\"Epochs\")\n",
    "    plt.ylabel(metric)\n",
    "    plt.legend([metric, 'val_'+metric])"
   ],
   "metadata": {
    "collapsed": false,
    "pycharm": {
     "name": "#%%\n"
    }
   }
  },
  {
   "cell_type": "markdown",
   "source": [
    "# Start of DNN building\n",
    "\n",
    "We will first create a DNN model on the easy dataset, analyse the results, and then create the DNN model on the hard dataset"
   ],
   "metadata": {
    "collapsed": false,
    "pycharm": {
     "name": "#%% md\n"
    }
   }
  },
  {
   "cell_type": "markdown",
   "source": [
    "## Easy Dataset (Distinct Job Categories)"
   ],
   "metadata": {
    "collapsed": false,
    "pycharm": {
     "name": "#%% md\n"
    }
   }
  },
  {
   "cell_type": "code",
   "execution_count": 3,
   "outputs": [],
   "source": [
    "is_working_with_easy_dataset = True"
   ],
   "metadata": {
    "collapsed": false,
    "pycharm": {
     "name": "#%%\n"
    }
   }
  },
  {
   "cell_type": "code",
   "execution_count": 4,
   "outputs": [],
   "source": [
    "if is_working_with_easy_dataset:\n",
    "    input_train_filename = \"bag_easy_train.csv\"\n",
    "    input_test_filename = \"bag_easy_test.csv\"\n",
    "else:\n",
    "    input_train_filename = \"bag_difficult_train.csv\"\n",
    "    input_test_filename = \"bag_difficult_test.csv\""
   ],
   "metadata": {
    "collapsed": false,
    "pycharm": {
     "name": "#%%\n"
    }
   }
  },
  {
   "cell_type": "code",
   "execution_count": 5,
   "outputs": [],
   "source": [
    "jd_train = pd.read_csv(input_train_filename, keep_default_na=False)\n",
    "jd_test = pd.read_csv(input_test_filename, keep_default_na=False)"
   ],
   "metadata": {
    "collapsed": false,
    "pycharm": {
     "name": "#%%\n"
    }
   }
  },
  {
   "cell_type": "code",
   "execution_count": 6,
   "outputs": [
    {
     "data": {
      "text/plain": "               category  Human    ’  Development    design  Work  Computer  \\\n0     software+engineer    0.0  0.0          0.0  0.222604   0.0       0.0   \n1                  arts    0.0  0.0          0.0  0.102594   0.0       0.0   \n2                    hr    0.0  0.0          0.0  0.000000   0.0       0.0   \n3                  arts    0.0  0.0          0.0  0.393433   0.0       0.0   \n4                  arts    0.0  0.0          0.0  0.206635   0.0       0.0   \n...                 ...    ...  ...          ...       ...   ...       ...   \n3177  software+engineer    0.0  0.0          0.0  0.161678   0.0       0.0   \n3178              sales    0.0  0.0          0.0  0.000000   0.0       0.0   \n3179               arts    0.0  0.0          0.0  0.661753   0.0       0.0   \n3180                 hr    0.0  0.0          0.0  0.000000   0.0       0.0   \n3181                 hr    0.0  0.0          0.0  0.000000   0.0       0.0   \n\n      creative   account  communication  ...  Requirements  technical  \\\n0     0.000000  0.000000       0.000000  ...           0.0   0.281375   \n1     0.000000  0.000000       0.000000  ...           0.0   0.000000   \n2     0.000000  0.000000       0.069475  ...           0.0   0.000000   \n3     0.113493  0.000000       0.268595  ...           0.0   0.000000   \n4     0.149018  0.000000       0.088168  ...           0.0   0.000000   \n...        ...       ...            ...  ...           ...        ...   \n3177  0.000000  0.000000       0.045990  ...           0.0   0.000000   \n3178  0.000000  0.000000       0.000000  ...           0.0   0.000000   \n3179  0.286341  0.000000       0.056472  ...           0.0   0.000000   \n3180  0.000000  0.209857       0.000000  ...           0.0   0.000000   \n3181  0.000000  0.000000       0.000000  ...           0.0   0.000000   \n\n      Excellent  duty    market  knowledge  technology  business  application  \\\n0           0.0   0.0  0.000000   0.000000    0.000000  0.198413     0.118790   \n1           0.0   0.0  0.000000   0.092776    0.000000  0.000000     0.000000   \n2           0.0   0.0  0.000000   0.000000    0.000000  0.000000     0.086890   \n3           0.0   0.0  0.000000   0.071156    0.000000  0.000000     0.000000   \n4           0.0   0.0  0.000000   0.000000    0.118194  0.000000     0.000000   \n...         ...   ...       ...        ...         ...       ...          ...   \n3177        0.0   0.0  0.000000   0.048735    0.184958  0.048036     0.230073   \n3178        0.0   0.0  0.138805   0.096160    0.243296  0.000000     0.000000   \n3179        0.0   0.0  0.000000   0.059842    0.000000  0.000000     0.070627   \n3180        0.0   0.0  0.000000   0.000000    0.000000  0.000000     0.000000   \n3181        0.0   0.0  0.000000   0.182057    0.000000  0.179446     0.214869   \n\n        matter  \n0     0.000000  \n1     0.000000  \n2     0.122337  \n3     0.000000  \n4     0.077626  \n...        ...  \n3177  0.000000  \n3178  0.000000  \n3179  0.000000  \n3180  0.195725  \n3181  0.000000  \n\n[3182 rows x 117 columns]",
      "text/html": "<div>\n<style scoped>\n    .dataframe tbody tr th:only-of-type {\n        vertical-align: middle;\n    }\n\n    .dataframe tbody tr th {\n        vertical-align: top;\n    }\n\n    .dataframe thead th {\n        text-align: right;\n    }\n</style>\n<table border=\"1\" class=\"dataframe\">\n  <thead>\n    <tr style=\"text-align: right;\">\n      <th></th>\n      <th>category</th>\n      <th>Human</th>\n      <th>’</th>\n      <th>Development</th>\n      <th>design</th>\n      <th>Work</th>\n      <th>Computer</th>\n      <th>creative</th>\n      <th>account</th>\n      <th>communication</th>\n      <th>...</th>\n      <th>Requirements</th>\n      <th>technical</th>\n      <th>Excellent</th>\n      <th>duty</th>\n      <th>market</th>\n      <th>knowledge</th>\n      <th>technology</th>\n      <th>business</th>\n      <th>application</th>\n      <th>matter</th>\n    </tr>\n  </thead>\n  <tbody>\n    <tr>\n      <th>0</th>\n      <td>software+engineer</td>\n      <td>0.0</td>\n      <td>0.0</td>\n      <td>0.0</td>\n      <td>0.222604</td>\n      <td>0.0</td>\n      <td>0.0</td>\n      <td>0.000000</td>\n      <td>0.000000</td>\n      <td>0.000000</td>\n      <td>...</td>\n      <td>0.0</td>\n      <td>0.281375</td>\n      <td>0.0</td>\n      <td>0.0</td>\n      <td>0.000000</td>\n      <td>0.000000</td>\n      <td>0.000000</td>\n      <td>0.198413</td>\n      <td>0.118790</td>\n      <td>0.000000</td>\n    </tr>\n    <tr>\n      <th>1</th>\n      <td>arts</td>\n      <td>0.0</td>\n      <td>0.0</td>\n      <td>0.0</td>\n      <td>0.102594</td>\n      <td>0.0</td>\n      <td>0.0</td>\n      <td>0.000000</td>\n      <td>0.000000</td>\n      <td>0.000000</td>\n      <td>...</td>\n      <td>0.0</td>\n      <td>0.000000</td>\n      <td>0.0</td>\n      <td>0.0</td>\n      <td>0.000000</td>\n      <td>0.092776</td>\n      <td>0.000000</td>\n      <td>0.000000</td>\n      <td>0.000000</td>\n      <td>0.000000</td>\n    </tr>\n    <tr>\n      <th>2</th>\n      <td>hr</td>\n      <td>0.0</td>\n      <td>0.0</td>\n      <td>0.0</td>\n      <td>0.000000</td>\n      <td>0.0</td>\n      <td>0.0</td>\n      <td>0.000000</td>\n      <td>0.000000</td>\n      <td>0.069475</td>\n      <td>...</td>\n      <td>0.0</td>\n      <td>0.000000</td>\n      <td>0.0</td>\n      <td>0.0</td>\n      <td>0.000000</td>\n      <td>0.000000</td>\n      <td>0.000000</td>\n      <td>0.000000</td>\n      <td>0.086890</td>\n      <td>0.122337</td>\n    </tr>\n    <tr>\n      <th>3</th>\n      <td>arts</td>\n      <td>0.0</td>\n      <td>0.0</td>\n      <td>0.0</td>\n      <td>0.393433</td>\n      <td>0.0</td>\n      <td>0.0</td>\n      <td>0.113493</td>\n      <td>0.000000</td>\n      <td>0.268595</td>\n      <td>...</td>\n      <td>0.0</td>\n      <td>0.000000</td>\n      <td>0.0</td>\n      <td>0.0</td>\n      <td>0.000000</td>\n      <td>0.071156</td>\n      <td>0.000000</td>\n      <td>0.000000</td>\n      <td>0.000000</td>\n      <td>0.000000</td>\n    </tr>\n    <tr>\n      <th>4</th>\n      <td>arts</td>\n      <td>0.0</td>\n      <td>0.0</td>\n      <td>0.0</td>\n      <td>0.206635</td>\n      <td>0.0</td>\n      <td>0.0</td>\n      <td>0.149018</td>\n      <td>0.000000</td>\n      <td>0.088168</td>\n      <td>...</td>\n      <td>0.0</td>\n      <td>0.000000</td>\n      <td>0.0</td>\n      <td>0.0</td>\n      <td>0.000000</td>\n      <td>0.000000</td>\n      <td>0.118194</td>\n      <td>0.000000</td>\n      <td>0.000000</td>\n      <td>0.077626</td>\n    </tr>\n    <tr>\n      <th>...</th>\n      <td>...</td>\n      <td>...</td>\n      <td>...</td>\n      <td>...</td>\n      <td>...</td>\n      <td>...</td>\n      <td>...</td>\n      <td>...</td>\n      <td>...</td>\n      <td>...</td>\n      <td>...</td>\n      <td>...</td>\n      <td>...</td>\n      <td>...</td>\n      <td>...</td>\n      <td>...</td>\n      <td>...</td>\n      <td>...</td>\n      <td>...</td>\n      <td>...</td>\n      <td>...</td>\n    </tr>\n    <tr>\n      <th>3177</th>\n      <td>software+engineer</td>\n      <td>0.0</td>\n      <td>0.0</td>\n      <td>0.0</td>\n      <td>0.161678</td>\n      <td>0.0</td>\n      <td>0.0</td>\n      <td>0.000000</td>\n      <td>0.000000</td>\n      <td>0.045990</td>\n      <td>...</td>\n      <td>0.0</td>\n      <td>0.000000</td>\n      <td>0.0</td>\n      <td>0.0</td>\n      <td>0.000000</td>\n      <td>0.048735</td>\n      <td>0.184958</td>\n      <td>0.048036</td>\n      <td>0.230073</td>\n      <td>0.000000</td>\n    </tr>\n    <tr>\n      <th>3178</th>\n      <td>sales</td>\n      <td>0.0</td>\n      <td>0.0</td>\n      <td>0.0</td>\n      <td>0.000000</td>\n      <td>0.0</td>\n      <td>0.0</td>\n      <td>0.000000</td>\n      <td>0.000000</td>\n      <td>0.000000</td>\n      <td>...</td>\n      <td>0.0</td>\n      <td>0.000000</td>\n      <td>0.0</td>\n      <td>0.0</td>\n      <td>0.138805</td>\n      <td>0.096160</td>\n      <td>0.243296</td>\n      <td>0.000000</td>\n      <td>0.000000</td>\n      <td>0.000000</td>\n    </tr>\n    <tr>\n      <th>3179</th>\n      <td>arts</td>\n      <td>0.0</td>\n      <td>0.0</td>\n      <td>0.0</td>\n      <td>0.661753</td>\n      <td>0.0</td>\n      <td>0.0</td>\n      <td>0.286341</td>\n      <td>0.000000</td>\n      <td>0.056472</td>\n      <td>...</td>\n      <td>0.0</td>\n      <td>0.000000</td>\n      <td>0.0</td>\n      <td>0.0</td>\n      <td>0.000000</td>\n      <td>0.059842</td>\n      <td>0.000000</td>\n      <td>0.000000</td>\n      <td>0.070627</td>\n      <td>0.000000</td>\n    </tr>\n    <tr>\n      <th>3180</th>\n      <td>hr</td>\n      <td>0.0</td>\n      <td>0.0</td>\n      <td>0.0</td>\n      <td>0.000000</td>\n      <td>0.0</td>\n      <td>0.0</td>\n      <td>0.000000</td>\n      <td>0.209857</td>\n      <td>0.000000</td>\n      <td>...</td>\n      <td>0.0</td>\n      <td>0.000000</td>\n      <td>0.0</td>\n      <td>0.0</td>\n      <td>0.000000</td>\n      <td>0.000000</td>\n      <td>0.000000</td>\n      <td>0.000000</td>\n      <td>0.000000</td>\n      <td>0.195725</td>\n    </tr>\n    <tr>\n      <th>3181</th>\n      <td>hr</td>\n      <td>0.0</td>\n      <td>0.0</td>\n      <td>0.0</td>\n      <td>0.000000</td>\n      <td>0.0</td>\n      <td>0.0</td>\n      <td>0.000000</td>\n      <td>0.000000</td>\n      <td>0.000000</td>\n      <td>...</td>\n      <td>0.0</td>\n      <td>0.000000</td>\n      <td>0.0</td>\n      <td>0.0</td>\n      <td>0.000000</td>\n      <td>0.182057</td>\n      <td>0.000000</td>\n      <td>0.179446</td>\n      <td>0.214869</td>\n      <td>0.000000</td>\n    </tr>\n  </tbody>\n</table>\n<p>3182 rows × 117 columns</p>\n</div>"
     },
     "execution_count": 6,
     "metadata": {},
     "output_type": "execute_result"
    }
   ],
   "source": [
    "jd_train"
   ],
   "metadata": {
    "collapsed": false,
    "pycharm": {
     "name": "#%%\n"
    }
   }
  },
  {
   "cell_type": "code",
   "execution_count": 7,
   "outputs": [
    {
     "data": {
      "text/plain": "              category  Human    ’  Development    design  Work  Computer  \\\n0    software+engineer    0.0  0.0          0.0  0.504831   0.0       0.0   \n1                sales    0.0  0.0          0.0  0.000000   0.0       0.0   \n2                sales    0.0  0.0          0.0  0.000000   0.0       0.0   \n3                sales    0.0  0.0          0.0  0.000000   0.0       0.0   \n4                 arts    0.0  0.0          0.0  0.000000   0.0       0.0   \n..                 ...    ...  ...          ...       ...   ...       ...   \n791  software+engineer    0.0  0.0          0.0  0.096486   0.0       0.0   \n792  software+engineer    0.0  0.0          0.0  0.274670   0.0       0.0   \n793  software+engineer    0.0  0.0          0.0  0.038540   0.0       0.0   \n794                 hr    0.0  0.0          0.0  0.000000   0.0       0.0   \n795                 hr    0.0  0.0          0.0  0.000000   0.0       0.0   \n\n     creative   account  communication  ...  Requirements  technical  \\\n0    0.000000  0.000000       0.089474  ...           0.0   0.000000   \n1    0.000000  0.284994       0.000000  ...           0.0   0.000000   \n2    0.071549  0.000000       0.083948  ...           0.0   0.000000   \n3    0.000000  0.239945       0.129985  ...           0.0   0.000000   \n4    0.000000  0.000000       0.366191  ...           0.0   0.000000   \n..        ...       ...            ...  ...           ...        ...   \n791  0.000000  0.000000       0.000000  ...           0.0   0.000000   \n792  0.000000  0.000000       0.000000  ...           0.0   0.210175   \n793  0.000000  0.000000       0.000000  ...           0.0   0.000000   \n794  0.000000  0.000000       0.000000  ...           0.0   0.000000   \n795  0.178749  0.000000       0.000000  ...           0.0   0.000000   \n\n     Excellent      duty    market  knowledge  technology  business  \\\n0          0.0  0.000000  0.000000   0.370597    0.000000  0.000000   \n1          0.0  0.000000  0.000000   0.000000    0.000000  0.164661   \n2          0.0  0.000000  0.199817   0.043464    0.000000  0.089533   \n3          0.0  0.210654  0.206265   0.000000    0.000000  0.277267   \n4          0.0  0.000000  0.000000   0.068943    0.389033  0.071010   \n..         ...       ...       ...        ...         ...       ...   \n791        0.0  0.000000  0.000000   0.088538    0.111023  0.000000   \n792        0.0  0.000000  0.077249   0.050409    0.252843  0.259600   \n793        0.0  0.000000  0.000000   0.000000    0.000000  0.000000   \n794        0.0  0.180604  0.000000   0.000000    0.000000  0.000000   \n795        0.0  0.000000  0.000000   0.000000    0.000000  0.223680   \n\n     application    matter  \n0       0.000000  0.000000  \n1       0.000000  0.136495  \n2       0.000000  0.000000  \n3       0.000000  0.000000  \n4       0.000000  0.058863  \n..           ...       ...  \n791     0.000000  0.000000  \n792     0.116410  0.000000  \n793     0.122505  0.000000  \n794     0.133245  0.000000  \n795     0.000000  0.000000  \n\n[796 rows x 117 columns]",
      "text/html": "<div>\n<style scoped>\n    .dataframe tbody tr th:only-of-type {\n        vertical-align: middle;\n    }\n\n    .dataframe tbody tr th {\n        vertical-align: top;\n    }\n\n    .dataframe thead th {\n        text-align: right;\n    }\n</style>\n<table border=\"1\" class=\"dataframe\">\n  <thead>\n    <tr style=\"text-align: right;\">\n      <th></th>\n      <th>category</th>\n      <th>Human</th>\n      <th>’</th>\n      <th>Development</th>\n      <th>design</th>\n      <th>Work</th>\n      <th>Computer</th>\n      <th>creative</th>\n      <th>account</th>\n      <th>communication</th>\n      <th>...</th>\n      <th>Requirements</th>\n      <th>technical</th>\n      <th>Excellent</th>\n      <th>duty</th>\n      <th>market</th>\n      <th>knowledge</th>\n      <th>technology</th>\n      <th>business</th>\n      <th>application</th>\n      <th>matter</th>\n    </tr>\n  </thead>\n  <tbody>\n    <tr>\n      <th>0</th>\n      <td>software+engineer</td>\n      <td>0.0</td>\n      <td>0.0</td>\n      <td>0.0</td>\n      <td>0.504831</td>\n      <td>0.0</td>\n      <td>0.0</td>\n      <td>0.000000</td>\n      <td>0.000000</td>\n      <td>0.089474</td>\n      <td>...</td>\n      <td>0.0</td>\n      <td>0.000000</td>\n      <td>0.0</td>\n      <td>0.000000</td>\n      <td>0.000000</td>\n      <td>0.370597</td>\n      <td>0.000000</td>\n      <td>0.000000</td>\n      <td>0.000000</td>\n      <td>0.000000</td>\n    </tr>\n    <tr>\n      <th>1</th>\n      <td>sales</td>\n      <td>0.0</td>\n      <td>0.0</td>\n      <td>0.0</td>\n      <td>0.000000</td>\n      <td>0.0</td>\n      <td>0.0</td>\n      <td>0.000000</td>\n      <td>0.284994</td>\n      <td>0.000000</td>\n      <td>...</td>\n      <td>0.0</td>\n      <td>0.000000</td>\n      <td>0.0</td>\n      <td>0.000000</td>\n      <td>0.000000</td>\n      <td>0.000000</td>\n      <td>0.000000</td>\n      <td>0.164661</td>\n      <td>0.000000</td>\n      <td>0.136495</td>\n    </tr>\n    <tr>\n      <th>2</th>\n      <td>sales</td>\n      <td>0.0</td>\n      <td>0.0</td>\n      <td>0.0</td>\n      <td>0.000000</td>\n      <td>0.0</td>\n      <td>0.0</td>\n      <td>0.071549</td>\n      <td>0.000000</td>\n      <td>0.083948</td>\n      <td>...</td>\n      <td>0.0</td>\n      <td>0.000000</td>\n      <td>0.0</td>\n      <td>0.000000</td>\n      <td>0.199817</td>\n      <td>0.043464</td>\n      <td>0.000000</td>\n      <td>0.089533</td>\n      <td>0.000000</td>\n      <td>0.000000</td>\n    </tr>\n    <tr>\n      <th>3</th>\n      <td>sales</td>\n      <td>0.0</td>\n      <td>0.0</td>\n      <td>0.0</td>\n      <td>0.000000</td>\n      <td>0.0</td>\n      <td>0.0</td>\n      <td>0.000000</td>\n      <td>0.239945</td>\n      <td>0.129985</td>\n      <td>...</td>\n      <td>0.0</td>\n      <td>0.000000</td>\n      <td>0.0</td>\n      <td>0.210654</td>\n      <td>0.206265</td>\n      <td>0.000000</td>\n      <td>0.000000</td>\n      <td>0.277267</td>\n      <td>0.000000</td>\n      <td>0.000000</td>\n    </tr>\n    <tr>\n      <th>4</th>\n      <td>arts</td>\n      <td>0.0</td>\n      <td>0.0</td>\n      <td>0.0</td>\n      <td>0.000000</td>\n      <td>0.0</td>\n      <td>0.0</td>\n      <td>0.000000</td>\n      <td>0.000000</td>\n      <td>0.366191</td>\n      <td>...</td>\n      <td>0.0</td>\n      <td>0.000000</td>\n      <td>0.0</td>\n      <td>0.000000</td>\n      <td>0.000000</td>\n      <td>0.068943</td>\n      <td>0.389033</td>\n      <td>0.071010</td>\n      <td>0.000000</td>\n      <td>0.058863</td>\n    </tr>\n    <tr>\n      <th>...</th>\n      <td>...</td>\n      <td>...</td>\n      <td>...</td>\n      <td>...</td>\n      <td>...</td>\n      <td>...</td>\n      <td>...</td>\n      <td>...</td>\n      <td>...</td>\n      <td>...</td>\n      <td>...</td>\n      <td>...</td>\n      <td>...</td>\n      <td>...</td>\n      <td>...</td>\n      <td>...</td>\n      <td>...</td>\n      <td>...</td>\n      <td>...</td>\n      <td>...</td>\n      <td>...</td>\n    </tr>\n    <tr>\n      <th>791</th>\n      <td>software+engineer</td>\n      <td>0.0</td>\n      <td>0.0</td>\n      <td>0.0</td>\n      <td>0.096486</td>\n      <td>0.0</td>\n      <td>0.0</td>\n      <td>0.000000</td>\n      <td>0.000000</td>\n      <td>0.000000</td>\n      <td>...</td>\n      <td>0.0</td>\n      <td>0.000000</td>\n      <td>0.0</td>\n      <td>0.000000</td>\n      <td>0.000000</td>\n      <td>0.088538</td>\n      <td>0.111023</td>\n      <td>0.000000</td>\n      <td>0.000000</td>\n      <td>0.000000</td>\n    </tr>\n    <tr>\n      <th>792</th>\n      <td>software+engineer</td>\n      <td>0.0</td>\n      <td>0.0</td>\n      <td>0.0</td>\n      <td>0.274670</td>\n      <td>0.0</td>\n      <td>0.0</td>\n      <td>0.000000</td>\n      <td>0.000000</td>\n      <td>0.000000</td>\n      <td>...</td>\n      <td>0.0</td>\n      <td>0.210175</td>\n      <td>0.0</td>\n      <td>0.000000</td>\n      <td>0.077249</td>\n      <td>0.050409</td>\n      <td>0.252843</td>\n      <td>0.259600</td>\n      <td>0.116410</td>\n      <td>0.000000</td>\n    </tr>\n    <tr>\n      <th>793</th>\n      <td>software+engineer</td>\n      <td>0.0</td>\n      <td>0.0</td>\n      <td>0.0</td>\n      <td>0.038540</td>\n      <td>0.0</td>\n      <td>0.0</td>\n      <td>0.000000</td>\n      <td>0.000000</td>\n      <td>0.000000</td>\n      <td>...</td>\n      <td>0.0</td>\n      <td>0.000000</td>\n      <td>0.0</td>\n      <td>0.000000</td>\n      <td>0.000000</td>\n      <td>0.000000</td>\n      <td>0.000000</td>\n      <td>0.000000</td>\n      <td>0.122505</td>\n      <td>0.000000</td>\n    </tr>\n    <tr>\n      <th>794</th>\n      <td>hr</td>\n      <td>0.0</td>\n      <td>0.0</td>\n      <td>0.0</td>\n      <td>0.000000</td>\n      <td>0.0</td>\n      <td>0.0</td>\n      <td>0.000000</td>\n      <td>0.000000</td>\n      <td>0.000000</td>\n      <td>...</td>\n      <td>0.0</td>\n      <td>0.000000</td>\n      <td>0.0</td>\n      <td>0.180604</td>\n      <td>0.000000</td>\n      <td>0.000000</td>\n      <td>0.000000</td>\n      <td>0.000000</td>\n      <td>0.133245</td>\n      <td>0.000000</td>\n    </tr>\n    <tr>\n      <th>795</th>\n      <td>hr</td>\n      <td>0.0</td>\n      <td>0.0</td>\n      <td>0.0</td>\n      <td>0.000000</td>\n      <td>0.0</td>\n      <td>0.0</td>\n      <td>0.178749</td>\n      <td>0.000000</td>\n      <td>0.000000</td>\n      <td>...</td>\n      <td>0.0</td>\n      <td>0.000000</td>\n      <td>0.0</td>\n      <td>0.000000</td>\n      <td>0.000000</td>\n      <td>0.000000</td>\n      <td>0.000000</td>\n      <td>0.223680</td>\n      <td>0.000000</td>\n      <td>0.000000</td>\n    </tr>\n  </tbody>\n</table>\n<p>796 rows × 117 columns</p>\n</div>"
     },
     "execution_count": 7,
     "metadata": {},
     "output_type": "execute_result"
    }
   ],
   "source": [
    "jd_test"
   ],
   "metadata": {
    "collapsed": false,
    "pycharm": {
     "name": "#%%\n"
    }
   }
  },
  {
   "cell_type": "markdown",
   "source": [
    "### Splitting Dataset into Features and Target Vectors"
   ],
   "metadata": {
    "collapsed": false,
    "pycharm": {
     "name": "#%% md\n"
    }
   }
  },
  {
   "cell_type": "code",
   "execution_count": 8,
   "outputs": [],
   "source": [
    "jd_train_X = jd_train.iloc[:, 1:]\n",
    "jd_train_y = jd_train[[\"category\"]]\n",
    "\n",
    "jd_test_X = jd_test.iloc[:, 1:]\n",
    "jd_test_y = jd_test[[\"category\"]]"
   ],
   "metadata": {
    "collapsed": false,
    "pycharm": {
     "name": "#%%\n"
    }
   }
  },
  {
   "cell_type": "code",
   "execution_count": 9,
   "outputs": [
    {
     "data": {
      "text/plain": "category         \nsoftware+engineer    220\narts                 198\nsales                197\nhr                   181\ndtype: int64"
     },
     "execution_count": 9,
     "metadata": {},
     "output_type": "execute_result"
    }
   ],
   "source": [
    "jd_test_y.value_counts()"
   ],
   "metadata": {
    "collapsed": false,
    "pycharm": {
     "name": "#%%\n"
    }
   }
  },
  {
   "cell_type": "markdown",
   "source": [
    "### Encoding Target Variables"
   ],
   "metadata": {
    "collapsed": false,
    "pycharm": {
     "name": "#%% md\n"
    }
   }
  },
  {
   "cell_type": "code",
   "execution_count": 10,
   "outputs": [],
   "source": [
    "enc = OneHotEncoder(sparse=False)\n",
    "enc.fit(jd_train_y);"
   ],
   "metadata": {
    "collapsed": false,
    "pycharm": {
     "name": "#%%\n"
    }
   }
  },
  {
   "cell_type": "code",
   "execution_count": 11,
   "outputs": [
    {
     "data": {
      "text/plain": "[array(['arts', 'hr', 'sales', 'software+engineer'], dtype=object)]"
     },
     "execution_count": 11,
     "metadata": {},
     "output_type": "execute_result"
    }
   ],
   "source": [
    "enc.categories_"
   ],
   "metadata": {
    "collapsed": false,
    "pycharm": {
     "name": "#%%\n"
    }
   }
  },
  {
   "cell_type": "code",
   "execution_count": 12,
   "outputs": [],
   "source": [
    "jd_train_y = enc.transform(jd_train_y)\n",
    "jd_test_y = enc.transform(jd_test_y)"
   ],
   "metadata": {
    "collapsed": false,
    "pycharm": {
     "name": "#%%\n"
    }
   }
  },
  {
   "cell_type": "markdown",
   "source": [
    "### DNN Model creation and training"
   ],
   "metadata": {
    "collapsed": false,
    "pycharm": {
     "name": "#%% md\n"
    }
   }
  },
  {
   "cell_type": "code",
   "execution_count": 19,
   "outputs": [],
   "source": [
    "# DNN Model with 2 hidden layers\n",
    "model = tf.keras.Sequential([\n",
    "    tf.keras.layers.Dense(16, activation='sigmoid'),\n",
    "    tf.keras.layers.Dense(4, activation='softmax')\n",
    "])"
   ],
   "metadata": {
    "collapsed": false,
    "pycharm": {
     "name": "#%%\n"
    }
   }
  },
  {
   "cell_type": "code",
   "execution_count": 20,
   "outputs": [],
   "source": [
    "model.compile(loss=tf.keras.losses.CategoricalCrossentropy(),\n",
    "              optimizer=tf.keras.optimizers.Adam(1e-4),\n",
    "              metrics=['accuracy', tf.keras.metrics.Recall(), tf.keras.metrics.Precision(), tf.keras.metrics.AUC()])"
   ],
   "metadata": {
    "collapsed": false,
    "pycharm": {
     "name": "#%%\n"
    }
   }
  },
  {
   "cell_type": "code",
   "execution_count": 21,
   "outputs": [
    {
     "name": "stdout",
     "output_type": "stream",
     "text": [
      "Epoch 1/50\n",
      "  1/100 [..............................] - ETA: 52s - loss: 1.5048 - accuracy: 0.2500 - recall_2: 0.1875 - precision_2: 0.2000 - auc_2: 0.5387"
     ]
    },
    {
     "name": "stderr",
     "output_type": "stream",
     "text": [
      "2023-04-09 02:37:45.223499: I tensorflow/core/grappler/optimizers/custom_graph_optimizer_registry.cc:113] Plugin optimizer for device_type GPU is enabled.\n"
     ]
    },
    {
     "name": "stdout",
     "output_type": "stream",
     "text": [
      "100/100 [==============================] - ETA: 0s - loss: 1.5354 - accuracy: 0.2514 - recall_2: 0.1059 - precision_2: 0.2407 - auc_2: 0.4866"
     ]
    },
    {
     "name": "stderr",
     "output_type": "stream",
     "text": [
      "2023-04-09 02:37:47.134812: I tensorflow/core/grappler/optimizers/custom_graph_optimizer_registry.cc:113] Plugin optimizer for device_type GPU is enabled.\n"
     ]
    },
    {
     "name": "stdout",
     "output_type": "stream",
     "text": [
      "100/100 [==============================] - 3s 23ms/step - loss: 1.5354 - accuracy: 0.2514 - recall_2: 0.1059 - precision_2: 0.2407 - auc_2: 0.4866 - val_loss: 1.5097 - val_accuracy: 0.2487 - val_recall_2: 0.0000e+00 - val_precision_2: 0.0000e+00 - val_auc_2: 0.5068\n",
      "Epoch 2/50\n",
      "100/100 [==============================] - 2s 18ms/step - loss: 1.4865 - accuracy: 0.2514 - recall_2: 0.0000e+00 - precision_2: 0.0000e+00 - auc_2: 0.5116 - val_loss: 1.4661 - val_accuracy: 0.2487 - val_recall_2: 0.0000e+00 - val_precision_2: 0.0000e+00 - val_auc_2: 0.5339\n",
      "Epoch 3/50\n",
      "100/100 [==============================] - 2s 18ms/step - loss: 1.4480 - accuracy: 0.2514 - recall_2: 0.0000e+00 - precision_2: 0.0000e+00 - auc_2: 0.5359 - val_loss: 1.4309 - val_accuracy: 0.2487 - val_recall_2: 0.0000e+00 - val_precision_2: 0.0000e+00 - val_auc_2: 0.5572\n",
      "Epoch 4/50\n",
      "100/100 [==============================] - 2s 19ms/step - loss: 1.4171 - accuracy: 0.2514 - recall_2: 0.0000e+00 - precision_2: 0.0000e+00 - auc_2: 0.5601 - val_loss: 1.4030 - val_accuracy: 0.2487 - val_recall_2: 0.0000e+00 - val_precision_2: 0.0000e+00 - val_auc_2: 0.5801\n",
      "Epoch 5/50\n",
      "100/100 [==============================] - 2s 18ms/step - loss: 1.3921 - accuracy: 0.2514 - recall_2: 0.0000e+00 - precision_2: 0.0000e+00 - auc_2: 0.5822 - val_loss: 1.3799 - val_accuracy: 0.2487 - val_recall_2: 0.0000e+00 - val_precision_2: 0.0000e+00 - val_auc_2: 0.6007\n",
      "Epoch 6/50\n",
      "100/100 [==============================] - 2s 18ms/step - loss: 1.3715 - accuracy: 0.2514 - recall_2: 0.0000e+00 - precision_2: 0.0000e+00 - auc_2: 0.6059 - val_loss: 1.3611 - val_accuracy: 0.2487 - val_recall_2: 0.0000e+00 - val_precision_2: 0.0000e+00 - val_auc_2: 0.6255\n",
      "Epoch 7/50\n",
      "100/100 [==============================] - 2s 18ms/step - loss: 1.3543 - accuracy: 0.2514 - recall_2: 0.0000e+00 - precision_2: 0.0000e+00 - auc_2: 0.6332 - val_loss: 1.3449 - val_accuracy: 0.2487 - val_recall_2: 0.0000e+00 - val_precision_2: 0.0000e+00 - val_auc_2: 0.6587\n",
      "Epoch 8/50\n",
      "100/100 [==============================] - 2s 18ms/step - loss: 1.3393 - accuracy: 0.2514 - recall_2: 0.0000e+00 - precision_2: 0.0000e+00 - auc_2: 0.6655 - val_loss: 1.3311 - val_accuracy: 0.2487 - val_recall_2: 0.0000e+00 - val_precision_2: 0.0000e+00 - val_auc_2: 0.6865\n",
      "Epoch 9/50\n",
      "100/100 [==============================] - 2s 18ms/step - loss: 1.3260 - accuracy: 0.2558 - recall_2: 0.0000e+00 - precision_2: 0.0000e+00 - auc_2: 0.6954 - val_loss: 1.3184 - val_accuracy: 0.2688 - val_recall_2: 0.0000e+00 - val_precision_2: 0.0000e+00 - val_auc_2: 0.7202\n",
      "Epoch 10/50\n",
      "100/100 [==============================] - 2s 18ms/step - loss: 1.3140 - accuracy: 0.3058 - recall_2: 0.0000e+00 - precision_2: 0.0000e+00 - auc_2: 0.7339 - val_loss: 1.3069 - val_accuracy: 0.3681 - val_recall_2: 0.0000e+00 - val_precision_2: 0.0000e+00 - val_auc_2: 0.7640\n",
      "Epoch 11/50\n",
      "100/100 [==============================] - 2s 18ms/step - loss: 1.3028 - accuracy: 0.4507 - recall_2: 0.0000e+00 - precision_2: 0.0000e+00 - auc_2: 0.7871 - val_loss: 1.2959 - val_accuracy: 0.5138 - val_recall_2: 0.0000e+00 - val_precision_2: 0.0000e+00 - val_auc_2: 0.8217\n",
      "Epoch 12/50\n",
      "100/100 [==============================] - 2s 18ms/step - loss: 1.2922 - accuracy: 0.5666 - recall_2: 0.0000e+00 - precision_2: 0.0000e+00 - auc_2: 0.8415 - val_loss: 1.2853 - val_accuracy: 0.6344 - val_recall_2: 0.0000e+00 - val_precision_2: 0.0000e+00 - val_auc_2: 0.8737\n",
      "Epoch 13/50\n",
      "100/100 [==============================] - 2s 18ms/step - loss: 1.2819 - accuracy: 0.6628 - recall_2: 0.0000e+00 - precision_2: 0.0000e+00 - auc_2: 0.8870 - val_loss: 1.2753 - val_accuracy: 0.6972 - val_recall_2: 0.0000e+00 - val_precision_2: 0.0000e+00 - val_auc_2: 0.9147\n",
      "Epoch 14/50\n",
      "100/100 [==============================] - 2s 18ms/step - loss: 1.2719 - accuracy: 0.7216 - recall_2: 0.0000e+00 - precision_2: 0.0000e+00 - auc_2: 0.9208 - val_loss: 1.2650 - val_accuracy: 0.7651 - val_recall_2: 0.0000e+00 - val_precision_2: 0.0000e+00 - val_auc_2: 0.9387\n",
      "Epoch 15/50\n",
      "100/100 [==============================] - 2s 18ms/step - loss: 1.2620 - accuracy: 0.7734 - recall_2: 0.0000e+00 - precision_2: 0.0000e+00 - auc_2: 0.9390 - val_loss: 1.2551 - val_accuracy: 0.8166 - val_recall_2: 0.0000e+00 - val_precision_2: 0.0000e+00 - val_auc_2: 0.9515\n",
      "Epoch 16/50\n",
      "100/100 [==============================] - 2s 18ms/step - loss: 1.2520 - accuracy: 0.8165 - recall_2: 0.0000e+00 - precision_2: 0.0000e+00 - auc_2: 0.9506 - val_loss: 1.2449 - val_accuracy: 0.8492 - val_recall_2: 0.0000e+00 - val_precision_2: 0.0000e+00 - val_auc_2: 0.9597\n",
      "Epoch 17/50\n",
      "100/100 [==============================] - 2s 18ms/step - loss: 1.2421 - accuracy: 0.8542 - recall_2: 0.0000e+00 - precision_2: 0.0000e+00 - auc_2: 0.9571 - val_loss: 1.2350 - val_accuracy: 0.8668 - val_recall_2: 0.0000e+00 - val_precision_2: 0.0000e+00 - val_auc_2: 0.9637\n",
      "Epoch 18/50\n",
      "100/100 [==============================] - 2s 18ms/step - loss: 1.2322 - accuracy: 0.8542 - recall_2: 0.0000e+00 - precision_2: 0.0000e+00 - auc_2: 0.9593 - val_loss: 1.2249 - val_accuracy: 0.8706 - val_recall_2: 0.0000e+00 - val_precision_2: 0.0000e+00 - val_auc_2: 0.9657\n",
      "Epoch 19/50\n",
      "100/100 [==============================] - 2s 18ms/step - loss: 1.2221 - accuracy: 0.8605 - recall_2: 0.0000e+00 - precision_2: 0.0000e+00 - auc_2: 0.9613 - val_loss: 1.2146 - val_accuracy: 0.8781 - val_recall_2: 0.0000e+00 - val_precision_2: 0.0000e+00 - val_auc_2: 0.9666\n",
      "Epoch 20/50\n",
      "100/100 [==============================] - 2s 18ms/step - loss: 1.2120 - accuracy: 0.8633 - recall_2: 0.0000e+00 - precision_2: 0.0000e+00 - auc_2: 0.9625 - val_loss: 1.2043 - val_accuracy: 0.8844 - val_recall_2: 0.0000e+00 - val_precision_2: 0.0000e+00 - val_auc_2: 0.9681\n",
      "Epoch 21/50\n",
      "100/100 [==============================] - 2s 18ms/step - loss: 1.2016 - accuracy: 0.8652 - recall_2: 0.0000e+00 - precision_2: 0.0000e+00 - auc_2: 0.9640 - val_loss: 1.1938 - val_accuracy: 0.8869 - val_recall_2: 0.0000e+00 - val_precision_2: 0.0000e+00 - val_auc_2: 0.9688\n",
      "Epoch 22/50\n",
      "100/100 [==============================] - 2s 18ms/step - loss: 1.1913 - accuracy: 0.8668 - recall_2: 0.0000e+00 - precision_2: 0.0000e+00 - auc_2: 0.9648 - val_loss: 1.1831 - val_accuracy: 0.8882 - val_recall_2: 0.0000e+00 - val_precision_2: 0.0000e+00 - val_auc_2: 0.9700\n",
      "Epoch 23/50\n",
      "100/100 [==============================] - 2s 18ms/step - loss: 1.1808 - accuracy: 0.8680 - recall_2: 0.0000e+00 - precision_2: 0.0000e+00 - auc_2: 0.9654 - val_loss: 1.1725 - val_accuracy: 0.8882 - val_recall_2: 0.0000e+00 - val_precision_2: 0.0000e+00 - val_auc_2: 0.9704\n",
      "Epoch 24/50\n",
      "100/100 [==============================] - 2s 18ms/step - loss: 1.1702 - accuracy: 0.8646 - recall_2: 0.0000e+00 - precision_2: 0.0000e+00 - auc_2: 0.9657 - val_loss: 1.1616 - val_accuracy: 0.8882 - val_recall_2: 0.0000e+00 - val_precision_2: 0.0000e+00 - val_auc_2: 0.9694\n",
      "Epoch 25/50\n",
      "100/100 [==============================] - 2s 18ms/step - loss: 1.1595 - accuracy: 0.8686 - recall_2: 0.0000e+00 - precision_2: 0.0000e+00 - auc_2: 0.9661 - val_loss: 1.1507 - val_accuracy: 0.8882 - val_recall_2: 0.0000e+00 - val_precision_2: 0.0000e+00 - val_auc_2: 0.9709\n",
      "Epoch 26/50\n",
      "100/100 [==============================] - 2s 18ms/step - loss: 1.1486 - accuracy: 0.8680 - recall_2: 0.0000e+00 - precision_2: 0.0000e+00 - auc_2: 0.9669 - val_loss: 1.1399 - val_accuracy: 0.8894 - val_recall_2: 0.0000e+00 - val_precision_2: 0.0000e+00 - val_auc_2: 0.9708\n",
      "Epoch 27/50\n",
      "100/100 [==============================] - 2s 18ms/step - loss: 1.1377 - accuracy: 0.8664 - recall_2: 0.0000e+00 - precision_2: 0.0000e+00 - auc_2: 0.9669 - val_loss: 1.1283 - val_accuracy: 0.8882 - val_recall_2: 0.0000e+00 - val_precision_2: 0.0000e+00 - val_auc_2: 0.9712\n",
      "Epoch 28/50\n",
      "100/100 [==============================] - 2s 18ms/step - loss: 1.1265 - accuracy: 0.8740 - recall_2: 6.2854e-04 - precision_2: 1.0000 - auc_2: 0.9678 - val_loss: 1.1172 - val_accuracy: 0.8869 - val_recall_2: 0.0000e+00 - val_precision_2: 0.0000e+00 - val_auc_2: 0.9724\n",
      "Epoch 29/50\n",
      "100/100 [==============================] - 2s 19ms/step - loss: 1.1154 - accuracy: 0.8887 - recall_2: 6.2854e-04 - precision_2: 1.0000 - auc_2: 0.9683 - val_loss: 1.1058 - val_accuracy: 0.8869 - val_recall_2: 0.0000e+00 - val_precision_2: 0.0000e+00 - val_auc_2: 0.9726\n",
      "Epoch 30/50\n",
      "100/100 [==============================] - 2s 18ms/step - loss: 1.1040 - accuracy: 0.8850 - recall_2: 6.2854e-04 - precision_2: 1.0000 - auc_2: 0.9683 - val_loss: 1.0943 - val_accuracy: 0.8882 - val_recall_2: 0.0000e+00 - val_precision_2: 0.0000e+00 - val_auc_2: 0.9725\n",
      "Epoch 31/50\n",
      "100/100 [==============================] - 2s 20ms/step - loss: 1.0926 - accuracy: 0.8828 - recall_2: 0.0016 - precision_2: 1.0000 - auc_2: 0.9692 - val_loss: 1.0826 - val_accuracy: 0.8882 - val_recall_2: 0.0013 - val_precision_2: 1.0000 - val_auc_2: 0.9732\n",
      "Epoch 32/50\n",
      "100/100 [==============================] - 2s 18ms/step - loss: 1.0811 - accuracy: 0.8894 - recall_2: 0.0022 - precision_2: 1.0000 - auc_2: 0.9695 - val_loss: 1.0711 - val_accuracy: 0.8882 - val_recall_2: 0.0025 - val_precision_2: 1.0000 - val_auc_2: 0.9735\n",
      "Epoch 33/50\n",
      "100/100 [==============================] - 2s 19ms/step - loss: 1.0695 - accuracy: 0.8897 - recall_2: 0.0053 - precision_2: 1.0000 - auc_2: 0.9696 - val_loss: 1.0593 - val_accuracy: 0.9008 - val_recall_2: 0.0050 - val_precision_2: 1.0000 - val_auc_2: 0.9738\n",
      "Epoch 34/50\n",
      "100/100 [==============================] - 2s 19ms/step - loss: 1.0579 - accuracy: 0.8909 - recall_2: 0.0097 - precision_2: 1.0000 - auc_2: 0.9704 - val_loss: 1.0475 - val_accuracy: 0.9020 - val_recall_2: 0.0101 - val_precision_2: 1.0000 - val_auc_2: 0.9740\n",
      "Epoch 35/50\n",
      "100/100 [==============================] - 2s 19ms/step - loss: 1.0461 - accuracy: 0.8922 - recall_2: 0.0204 - precision_2: 1.0000 - auc_2: 0.9706 - val_loss: 1.0355 - val_accuracy: 0.9008 - val_recall_2: 0.0151 - val_precision_2: 1.0000 - val_auc_2: 0.9744\n",
      "Epoch 36/50\n",
      "100/100 [==============================] - 2s 19ms/step - loss: 1.0343 - accuracy: 0.8897 - recall_2: 0.0242 - precision_2: 1.0000 - auc_2: 0.9709 - val_loss: 1.0238 - val_accuracy: 0.9020 - val_recall_2: 0.0226 - val_precision_2: 1.0000 - val_auc_2: 0.9746\n",
      "Epoch 37/50\n",
      "100/100 [==============================] - 2s 19ms/step - loss: 1.0224 - accuracy: 0.8931 - recall_2: 0.0324 - precision_2: 1.0000 - auc_2: 0.9714 - val_loss: 1.0116 - val_accuracy: 0.9020 - val_recall_2: 0.0264 - val_precision_2: 1.0000 - val_auc_2: 0.9750\n",
      "Epoch 38/50\n",
      "100/100 [==============================] - 2s 19ms/step - loss: 1.0105 - accuracy: 0.8919 - recall_2: 0.0387 - precision_2: 1.0000 - auc_2: 0.9716 - val_loss: 0.9995 - val_accuracy: 0.9020 - val_recall_2: 0.0427 - val_precision_2: 1.0000 - val_auc_2: 0.9756\n",
      "Epoch 39/50\n",
      "100/100 [==============================] - 2s 19ms/step - loss: 0.9985 - accuracy: 0.8938 - recall_2: 0.0465 - precision_2: 0.9933 - auc_2: 0.9719 - val_loss: 0.9873 - val_accuracy: 0.9020 - val_recall_2: 0.0603 - val_precision_2: 1.0000 - val_auc_2: 0.9756\n",
      "Epoch 40/50\n",
      "100/100 [==============================] - 2s 18ms/step - loss: 0.9865 - accuracy: 0.8938 - recall_2: 0.0647 - precision_2: 0.9904 - auc_2: 0.9726 - val_loss: 0.9752 - val_accuracy: 0.9020 - val_recall_2: 0.0854 - val_precision_2: 1.0000 - val_auc_2: 0.9759\n",
      "Epoch 41/50\n",
      "100/100 [==============================] - 2s 18ms/step - loss: 0.9745 - accuracy: 0.8944 - recall_2: 0.0930 - precision_2: 0.9933 - auc_2: 0.9729 - val_loss: 0.9629 - val_accuracy: 0.9020 - val_recall_2: 0.1156 - val_precision_2: 1.0000 - val_auc_2: 0.9760\n",
      "Epoch 42/50\n",
      "100/100 [==============================] - 2s 19ms/step - loss: 0.9624 - accuracy: 0.8931 - recall_2: 0.1157 - precision_2: 0.9946 - auc_2: 0.9732 - val_loss: 0.9508 - val_accuracy: 0.9020 - val_recall_2: 0.1319 - val_precision_2: 1.0000 - val_auc_2: 0.9767\n",
      "Epoch 43/50\n",
      "100/100 [==============================] - 2s 18ms/step - loss: 0.9504 - accuracy: 0.8941 - recall_2: 0.1348 - precision_2: 0.9954 - auc_2: 0.9733 - val_loss: 0.9387 - val_accuracy: 0.9033 - val_recall_2: 0.1482 - val_precision_2: 1.0000 - val_auc_2: 0.9767\n",
      "Epoch 44/50\n",
      "100/100 [==============================] - 2s 18ms/step - loss: 0.9384 - accuracy: 0.8938 - recall_2: 0.1703 - precision_2: 0.9963 - auc_2: 0.9737 - val_loss: 0.9267 - val_accuracy: 0.9033 - val_recall_2: 0.1884 - val_precision_2: 1.0000 - val_auc_2: 0.9772\n",
      "Epoch 45/50\n",
      "100/100 [==============================] - 2s 19ms/step - loss: 0.9264 - accuracy: 0.8950 - recall_2: 0.1845 - precision_2: 0.9966 - auc_2: 0.9737 - val_loss: 0.9147 - val_accuracy: 0.9033 - val_recall_2: 0.1922 - val_precision_2: 1.0000 - val_auc_2: 0.9773\n",
      "Epoch 46/50\n",
      "100/100 [==============================] - 2s 19ms/step - loss: 0.9144 - accuracy: 0.8950 - recall_2: 0.1948 - precision_2: 0.9968 - auc_2: 0.9742 - val_loss: 0.9023 - val_accuracy: 0.9045 - val_recall_2: 0.2010 - val_precision_2: 1.0000 - val_auc_2: 0.9777\n",
      "Epoch 47/50\n",
      "100/100 [==============================] - 2s 19ms/step - loss: 0.9025 - accuracy: 0.8944 - recall_2: 0.2046 - precision_2: 0.9969 - auc_2: 0.9745 - val_loss: 0.8903 - val_accuracy: 0.9058 - val_recall_2: 0.2337 - val_precision_2: 1.0000 - val_auc_2: 0.9781\n",
      "Epoch 48/50\n",
      "100/100 [==============================] - 2s 20ms/step - loss: 0.8906 - accuracy: 0.8947 - recall_2: 0.2300 - precision_2: 0.9959 - auc_2: 0.9748 - val_loss: 0.8782 - val_accuracy: 0.9058 - val_recall_2: 0.2399 - val_precision_2: 1.0000 - val_auc_2: 0.9783\n",
      "Epoch 49/50\n",
      "100/100 [==============================] - 2s 18ms/step - loss: 0.8788 - accuracy: 0.8944 - recall_2: 0.2423 - precision_2: 0.9961 - auc_2: 0.9752 - val_loss: 0.8663 - val_accuracy: 0.9058 - val_recall_2: 0.2450 - val_precision_2: 1.0000 - val_auc_2: 0.9787\n",
      "Epoch 50/50\n",
      "100/100 [==============================] - 2s 18ms/step - loss: 0.8670 - accuracy: 0.8947 - recall_2: 0.2498 - precision_2: 0.9864 - auc_2: 0.9754 - val_loss: 0.8546 - val_accuracy: 0.9070 - val_recall_2: 0.2550 - val_precision_2: 0.9854 - val_auc_2: 0.9789\n"
     ]
    }
   ],
   "source": [
    "history = model.fit(jd_train_X, jd_train_y, epochs=50, validation_steps=30, validation_data=(jd_test_X, jd_test_y))"
   ],
   "metadata": {
    "collapsed": false,
    "pycharm": {
     "name": "#%%\n"
    }
   }
  },
  {
   "cell_type": "markdown",
   "source": [
    "### Viewing learning curves"
   ],
   "metadata": {
    "collapsed": false,
    "pycharm": {
     "name": "#%% md\n"
    }
   }
  },
  {
   "cell_type": "code",
   "execution_count": 53,
   "outputs": [
    {
     "data": {
      "text/plain": "(0.0, 1.4083718240261078)"
     },
     "execution_count": 53,
     "metadata": {},
     "output_type": "execute_result"
    },
    {
     "data": {
      "text/plain": "<Figure size 1152x576 with 2 Axes>",
      "image/png": "[encoded data removed]"
     },
     "metadata": {
      "needs_background": "light"
     },
     "output_type": "display_data"
    }
   ],
   "source": [
    "plt.figure(figsize=(16, 8))\n",
    "plt.subplot(1, 2, 1)\n",
    "plot_graphs(history, 'accuracy')\n",
    "plt.ylim(None, 1)\n",
    "plt.subplot(1, 2, 2)\n",
    "plot_graphs(history, 'loss')\n",
    "plt.ylim(0, None)"
   ],
   "metadata": {
    "collapsed": false,
    "pycharm": {
     "name": "#%%\n"
    }
   }
  },
  {
   "cell_type": "markdown",
   "source": [
    "### Saving the model"
   ],
   "metadata": {
    "collapsed": false,
    "pycharm": {
     "name": "#%% md\n"
    }
   }
  },
  {
   "cell_type": "code",
   "execution_count": 70,
   "outputs": [],
   "source": [
    "model.save(\"tf_models/dnn_easy_bag.h5\")"
   ],
   "metadata": {
    "collapsed": false,
    "pycharm": {
     "name": "#%%\n"
    }
   }
  },
  {
   "cell_type": "markdown",
   "source": [
    "## Hard Dataset (Distinct Job Categories)"
   ],
   "metadata": {
    "collapsed": false,
    "pycharm": {
     "name": "#%% md\n"
    }
   }
  },
  {
   "cell_type": "code",
   "execution_count": 55,
   "outputs": [],
   "source": [
    "is_working_with_easy_dataset = False"
   ],
   "metadata": {
    "collapsed": false,
    "pycharm": {
     "name": "#%%\n"
    }
   }
  },
  {
   "cell_type": "code",
   "execution_count": 56,
   "outputs": [],
   "source": [
    "if is_working_with_easy_dataset:\n",
    "    input_train_filename = \"bag_easy_train.csv\"\n",
    "    input_test_filename = \"bag_easy_test.csv\"\n",
    "else:\n",
    "    input_train_filename = \"bag_difficult_train.csv\"\n",
    "    input_test_filename = \"bag_difficult_test.csv\""
   ],
   "metadata": {
    "collapsed": false,
    "pycharm": {
     "name": "#%%\n"
    }
   }
  },
  {
   "cell_type": "code",
   "execution_count": 57,
   "outputs": [],
   "source": [
    "jd_train = pd.read_csv(input_train_filename, keep_default_na=False)\n",
    "jd_test = pd.read_csv(input_test_filename, keep_default_na=False)"
   ],
   "metadata": {
    "collapsed": false,
    "pycharm": {
     "name": "#%%\n"
    }
   }
  },
  {
   "cell_type": "code",
   "execution_count": 58,
   "outputs": [
    {
     "data": {
      "text/plain": "               category  assessment  Management  Work     cyber   ÊÊ  Data  \\\n0     software+engineer    0.000000         0.0   0.0  0.000000  0.0   0.0   \n1     software+engineer    0.000000         0.0   0.0  0.000000  0.0   0.0   \n2     software+engineer    0.000000         0.0   0.0  0.000000  0.0   0.0   \n3                 ui+ux    0.120286         0.0   0.0  0.000000  0.0   0.0   \n4                 ui+ux    0.000000         0.0   0.0  0.000000  0.0   0.0   \n...                 ...         ...         ...   ...       ...  ...   ...   \n3175  software+engineer    0.000000         0.0   0.0  0.000000  0.0   0.0   \n3176     cyber+security    0.000000         0.0   0.0  0.140165  0.0   0.0   \n3177              ui+ux    0.000000         0.0   0.0  0.000000  0.0   0.0   \n3178       data+analyst    0.000000         0.0   0.0  0.000000  0.0   0.0   \n3179       data+analyst    0.000000         0.0   0.0  0.000000  0.0   0.0   \n\n       control    design  Experience  ...  Technology      role  Java  \\\n0     0.000000  0.143276         0.0  ...         0.0  0.000000   0.0   \n1     0.000000  0.061751         0.0  ...         0.0  0.082574   0.0   \n2     0.290684  0.499494         0.0  ...         0.0  0.000000   0.0   \n3     0.000000  0.000000         0.0  ...         0.0  0.160089   0.0   \n4     0.000000  0.000000         0.0  ...         0.0  0.115759   0.0   \n...        ...       ...         ...  ...         ...       ...   ...   \n3175  0.095572  0.054742         0.0  ...         0.0  0.109803   0.0   \n3176  0.000000  0.000000         0.0  ...         0.0  0.210418   0.0   \n3177  0.000000  0.422655         0.0  ...         0.0  0.000000   0.0   \n3178  0.000000  0.026570         0.0  ...         0.0  0.071060   0.0   \n3179  0.000000  0.000000         0.0  ...         0.0  0.000000   0.0   \n\n       process  Strong     skill  software  business  Ability  experience  \n0     0.000000     0.0  0.000000  0.345453  0.000000      0.0    0.323940  \n1     0.000000     0.0  0.057996  0.000000  0.125683      0.0    0.511923  \n2     0.203606     0.0  0.000000  0.100361  0.000000      0.0    0.062741  \n3     0.073200     0.0  0.112439  0.000000  0.000000      0.0    0.225563  \n4     0.105860     0.0  0.040652  0.000000  0.000000      0.0    0.097861  \n...        ...     ...       ...       ...       ...      ...         ...  \n3175  0.066942     0.0  0.179947  0.164985  0.111417      0.0    0.123768  \n3176  0.000000     0.0  0.221681  0.094849  0.000000      0.0    0.177885  \n3177  0.000000     0.0  0.000000  0.509533  0.107530      0.0    0.238901  \n3178  0.064984     0.0  0.124773  0.032032  0.567827      0.0    0.060074  \n3179  0.210119     0.0  0.121033  0.103571  0.262288      0.0    0.000000  \n\n[3180 rows x 101 columns]",
      "text/html": "<div>\n<style scoped>\n    .dataframe tbody tr th:only-of-type {\n        vertical-align: middle;\n    }\n\n    .dataframe tbody tr th {\n        vertical-align: top;\n    }\n\n    .dataframe thead th {\n        text-align: right;\n    }\n</style>\n<table border=\"1\" class=\"dataframe\">\n  <thead>\n    <tr style=\"text-align: right;\">\n      <th></th>\n      <th>category</th>\n      <th>assessment</th>\n      <th>Management</th>\n      <th>Work</th>\n      <th>cyber</th>\n      <th>ÊÊ</th>\n      <th>Data</th>\n      <th>control</th>\n      <th>design</th>\n      <th>Experience</th>\n      <th>...</th>\n      <th>Technology</th>\n      <th>role</th>\n      <th>Java</th>\n      <th>process</th>\n      <th>Strong</th>\n      <th>skill</th>\n      <th>software</th>\n      <th>business</th>\n      <th>Ability</th>\n      <th>experience</th>\n    </tr>\n  </thead>\n  <tbody>\n    <tr>\n      <th>0</th>\n      <td>software+engineer</td>\n      <td>0.000000</td>\n      <td>0.0</td>\n      <td>0.0</td>\n      <td>0.000000</td>\n      <td>0.0</td>\n      <td>0.0</td>\n      <td>0.000000</td>\n      <td>0.143276</td>\n      <td>0.0</td>\n      <td>...</td>\n      <td>0.0</td>\n      <td>0.000000</td>\n      <td>0.0</td>\n      <td>0.000000</td>\n      <td>0.0</td>\n      <td>0.000000</td>\n      <td>0.345453</td>\n      <td>0.000000</td>\n      <td>0.0</td>\n      <td>0.323940</td>\n    </tr>\n    <tr>\n      <th>1</th>\n      <td>software+engineer</td>\n      <td>0.000000</td>\n      <td>0.0</td>\n      <td>0.0</td>\n      <td>0.000000</td>\n      <td>0.0</td>\n      <td>0.0</td>\n      <td>0.000000</td>\n      <td>0.061751</td>\n      <td>0.0</td>\n      <td>...</td>\n      <td>0.0</td>\n      <td>0.082574</td>\n      <td>0.0</td>\n      <td>0.000000</td>\n      <td>0.0</td>\n      <td>0.057996</td>\n      <td>0.000000</td>\n      <td>0.125683</td>\n      <td>0.0</td>\n      <td>0.511923</td>\n    </tr>\n    <tr>\n      <th>2</th>\n      <td>software+engineer</td>\n      <td>0.000000</td>\n      <td>0.0</td>\n      <td>0.0</td>\n      <td>0.000000</td>\n      <td>0.0</td>\n      <td>0.0</td>\n      <td>0.290684</td>\n      <td>0.499494</td>\n      <td>0.0</td>\n      <td>...</td>\n      <td>0.0</td>\n      <td>0.000000</td>\n      <td>0.0</td>\n      <td>0.203606</td>\n      <td>0.0</td>\n      <td>0.000000</td>\n      <td>0.100361</td>\n      <td>0.000000</td>\n      <td>0.0</td>\n      <td>0.062741</td>\n    </tr>\n    <tr>\n      <th>3</th>\n      <td>ui+ux</td>\n      <td>0.120286</td>\n      <td>0.0</td>\n      <td>0.0</td>\n      <td>0.000000</td>\n      <td>0.0</td>\n      <td>0.0</td>\n      <td>0.000000</td>\n      <td>0.000000</td>\n      <td>0.0</td>\n      <td>...</td>\n      <td>0.0</td>\n      <td>0.160089</td>\n      <td>0.0</td>\n      <td>0.073200</td>\n      <td>0.0</td>\n      <td>0.112439</td>\n      <td>0.000000</td>\n      <td>0.000000</td>\n      <td>0.0</td>\n      <td>0.225563</td>\n    </tr>\n    <tr>\n      <th>4</th>\n      <td>ui+ux</td>\n      <td>0.000000</td>\n      <td>0.0</td>\n      <td>0.0</td>\n      <td>0.000000</td>\n      <td>0.0</td>\n      <td>0.0</td>\n      <td>0.000000</td>\n      <td>0.000000</td>\n      <td>0.0</td>\n      <td>...</td>\n      <td>0.0</td>\n      <td>0.115759</td>\n      <td>0.0</td>\n      <td>0.105860</td>\n      <td>0.0</td>\n      <td>0.040652</td>\n      <td>0.000000</td>\n      <td>0.000000</td>\n      <td>0.0</td>\n      <td>0.097861</td>\n    </tr>\n    <tr>\n      <th>...</th>\n      <td>...</td>\n      <td>...</td>\n      <td>...</td>\n      <td>...</td>\n      <td>...</td>\n      <td>...</td>\n      <td>...</td>\n      <td>...</td>\n      <td>...</td>\n      <td>...</td>\n      <td>...</td>\n      <td>...</td>\n      <td>...</td>\n      <td>...</td>\n      <td>...</td>\n      <td>...</td>\n      <td>...</td>\n      <td>...</td>\n      <td>...</td>\n      <td>...</td>\n      <td>...</td>\n    </tr>\n    <tr>\n      <th>3175</th>\n      <td>software+engineer</td>\n      <td>0.000000</td>\n      <td>0.0</td>\n      <td>0.0</td>\n      <td>0.000000</td>\n      <td>0.0</td>\n      <td>0.0</td>\n      <td>0.095572</td>\n      <td>0.054742</td>\n      <td>0.0</td>\n      <td>...</td>\n      <td>0.0</td>\n      <td>0.109803</td>\n      <td>0.0</td>\n      <td>0.066942</td>\n      <td>0.0</td>\n      <td>0.179947</td>\n      <td>0.164985</td>\n      <td>0.111417</td>\n      <td>0.0</td>\n      <td>0.123768</td>\n    </tr>\n    <tr>\n      <th>3176</th>\n      <td>cyber+security</td>\n      <td>0.000000</td>\n      <td>0.0</td>\n      <td>0.0</td>\n      <td>0.140165</td>\n      <td>0.0</td>\n      <td>0.0</td>\n      <td>0.000000</td>\n      <td>0.000000</td>\n      <td>0.0</td>\n      <td>...</td>\n      <td>0.0</td>\n      <td>0.210418</td>\n      <td>0.0</td>\n      <td>0.000000</td>\n      <td>0.0</td>\n      <td>0.221681</td>\n      <td>0.094849</td>\n      <td>0.000000</td>\n      <td>0.0</td>\n      <td>0.177885</td>\n    </tr>\n    <tr>\n      <th>3177</th>\n      <td>ui+ux</td>\n      <td>0.000000</td>\n      <td>0.0</td>\n      <td>0.0</td>\n      <td>0.000000</td>\n      <td>0.0</td>\n      <td>0.0</td>\n      <td>0.000000</td>\n      <td>0.422655</td>\n      <td>0.0</td>\n      <td>...</td>\n      <td>0.0</td>\n      <td>0.000000</td>\n      <td>0.0</td>\n      <td>0.000000</td>\n      <td>0.0</td>\n      <td>0.000000</td>\n      <td>0.509533</td>\n      <td>0.107530</td>\n      <td>0.0</td>\n      <td>0.238901</td>\n    </tr>\n    <tr>\n      <th>3178</th>\n      <td>data+analyst</td>\n      <td>0.000000</td>\n      <td>0.0</td>\n      <td>0.0</td>\n      <td>0.000000</td>\n      <td>0.0</td>\n      <td>0.0</td>\n      <td>0.000000</td>\n      <td>0.026570</td>\n      <td>0.0</td>\n      <td>...</td>\n      <td>0.0</td>\n      <td>0.071060</td>\n      <td>0.0</td>\n      <td>0.064984</td>\n      <td>0.0</td>\n      <td>0.124773</td>\n      <td>0.032032</td>\n      <td>0.567827</td>\n      <td>0.0</td>\n      <td>0.060074</td>\n    </tr>\n    <tr>\n      <th>3179</th>\n      <td>data+analyst</td>\n      <td>0.000000</td>\n      <td>0.0</td>\n      <td>0.0</td>\n      <td>0.000000</td>\n      <td>0.0</td>\n      <td>0.0</td>\n      <td>0.000000</td>\n      <td>0.000000</td>\n      <td>0.0</td>\n      <td>...</td>\n      <td>0.0</td>\n      <td>0.000000</td>\n      <td>0.0</td>\n      <td>0.210119</td>\n      <td>0.0</td>\n      <td>0.121033</td>\n      <td>0.103571</td>\n      <td>0.262288</td>\n      <td>0.0</td>\n      <td>0.000000</td>\n    </tr>\n  </tbody>\n</table>\n<p>3180 rows × 101 columns</p>\n</div>"
     },
     "execution_count": 58,
     "metadata": {},
     "output_type": "execute_result"
    }
   ],
   "source": [
    "jd_train"
   ],
   "metadata": {
    "collapsed": false,
    "pycharm": {
     "name": "#%%\n"
    }
   }
  },
  {
   "cell_type": "code",
   "execution_count": 59,
   "outputs": [
    {
     "data": {
      "text/plain": "              category  assessment  Management  Work     cyber   ÊÊ  Data  \\\n0         data+analyst         0.0         0.0   0.0  0.000000  0.0   0.0   \n1       cyber+security         0.0         0.0   0.0  0.175017  0.0   0.0   \n2    software+engineer         0.0         0.0   0.0  0.000000  0.0   0.0   \n3                ui+ux         0.0         0.0   0.0  0.000000  0.0   0.0   \n4                ui+ux         0.0         0.0   0.0  0.000000  0.0   0.0   \n..                 ...         ...         ...   ...       ...  ...   ...   \n790  software+engineer         0.0         0.0   0.0  0.000000  0.0   0.0   \n791     cyber+security         0.0         0.0   0.0  0.000000  0.0   0.0   \n792              ui+ux         0.0         0.0   0.0  0.000000  0.0   0.0   \n793              ui+ux         0.0         0.0   0.0  0.000000  0.0   0.0   \n794              ui+ux         0.0         0.0   0.0  0.000000  0.0   0.0   \n\n      control    design  Experience  ...  Technology      role  Java  \\\n0    0.000000  0.000000         0.0  ...         0.0  0.000000   0.0   \n1    0.000000  0.000000         0.0  ...         0.0  0.000000   0.0   \n2    0.000000  0.102496         0.0  ...         0.0  0.000000   0.0   \n3    0.000000  0.147327         0.0  ...         0.0  0.000000   0.0   \n4    0.000000  0.102945         0.0  ...         0.0  0.000000   0.0   \n..        ...       ...         ...  ...         ...       ...   ...   \n790  0.000000  0.044197         0.0  ...         0.0  0.059146   0.0   \n791  0.087995  0.050226         0.0  ...         0.0  0.000000   0.0   \n792  0.000000  0.602373         0.0  ...         0.0  0.000000   0.0   \n793  0.000000  0.388837         0.0  ...         0.0  0.000000   0.0   \n794  0.000000  0.000000         0.0  ...         0.0  0.000000   0.0   \n\n      process  Strong     skill  software  business  Ability  experience  \n0    0.000000     0.0  0.248572  0.000000  0.523485      0.0    0.064633  \n1    0.000000     0.0  0.000000  0.000000  0.000000      0.0    0.151252  \n2    0.000000     0.0  0.000000  0.000000  0.000000      0.0    0.038436  \n3    0.000000     0.0  0.141651  0.044691  0.335602      0.0    0.110494  \n4    0.000000     0.0  0.148468  0.000000  0.000000      0.0    0.115812  \n..        ...     ...       ...       ...       ...      ...         ...  \n790  0.055503     0.0  0.000000  0.107255  0.000000      0.0    0.099442  \n791  0.126149     0.0  0.048291  0.000000  0.152549      0.0    0.113008  \n792  0.000000     0.0  0.231666  0.000000  0.000000      0.0    0.180710  \n793  0.162769     0.0  0.000000  0.314537  0.000000      0.0    0.194417  \n794  0.000000     0.0  0.098393  0.000000  0.000000      0.0    0.076751  \n\n[795 rows x 101 columns]",
      "text/html": "<div>\n<style scoped>\n    .dataframe tbody tr th:only-of-type {\n        vertical-align: middle;\n    }\n\n    .dataframe tbody tr th {\n        vertical-align: top;\n    }\n\n    .dataframe thead th {\n        text-align: right;\n    }\n</style>\n<table border=\"1\" class=\"dataframe\">\n  <thead>\n    <tr style=\"text-align: right;\">\n      <th></th>\n      <th>category</th>\n      <th>assessment</th>\n      <th>Management</th>\n      <th>Work</th>\n      <th>cyber</th>\n      <th>ÊÊ</th>\n      <th>Data</th>\n      <th>control</th>\n      <th>design</th>\n      <th>Experience</th>\n      <th>...</th>\n      <th>Technology</th>\n      <th>role</th>\n      <th>Java</th>\n      <th>process</th>\n      <th>Strong</th>\n      <th>skill</th>\n      <th>software</th>\n      <th>business</th>\n      <th>Ability</th>\n      <th>experience</th>\n    </tr>\n  </thead>\n  <tbody>\n    <tr>\n      <th>0</th>\n      <td>data+analyst</td>\n      <td>0.0</td>\n      <td>0.0</td>\n      <td>0.0</td>\n      <td>0.000000</td>\n      <td>0.0</td>\n      <td>0.0</td>\n      <td>0.000000</td>\n      <td>0.000000</td>\n      <td>0.0</td>\n      <td>...</td>\n      <td>0.0</td>\n      <td>0.000000</td>\n      <td>0.0</td>\n      <td>0.000000</td>\n      <td>0.0</td>\n      <td>0.248572</td>\n      <td>0.000000</td>\n      <td>0.523485</td>\n      <td>0.0</td>\n      <td>0.064633</td>\n    </tr>\n    <tr>\n      <th>1</th>\n      <td>cyber+security</td>\n      <td>0.0</td>\n      <td>0.0</td>\n      <td>0.0</td>\n      <td>0.175017</td>\n      <td>0.0</td>\n      <td>0.0</td>\n      <td>0.000000</td>\n      <td>0.000000</td>\n      <td>0.0</td>\n      <td>...</td>\n      <td>0.0</td>\n      <td>0.000000</td>\n      <td>0.0</td>\n      <td>0.000000</td>\n      <td>0.0</td>\n      <td>0.000000</td>\n      <td>0.000000</td>\n      <td>0.000000</td>\n      <td>0.0</td>\n      <td>0.151252</td>\n    </tr>\n    <tr>\n      <th>2</th>\n      <td>software+engineer</td>\n      <td>0.0</td>\n      <td>0.0</td>\n      <td>0.0</td>\n      <td>0.000000</td>\n      <td>0.0</td>\n      <td>0.0</td>\n      <td>0.000000</td>\n      <td>0.102496</td>\n      <td>0.0</td>\n      <td>...</td>\n      <td>0.0</td>\n      <td>0.000000</td>\n      <td>0.0</td>\n      <td>0.000000</td>\n      <td>0.0</td>\n      <td>0.000000</td>\n      <td>0.000000</td>\n      <td>0.000000</td>\n      <td>0.0</td>\n      <td>0.038436</td>\n    </tr>\n    <tr>\n      <th>3</th>\n      <td>ui+ux</td>\n      <td>0.0</td>\n      <td>0.0</td>\n      <td>0.0</td>\n      <td>0.000000</td>\n      <td>0.0</td>\n      <td>0.0</td>\n      <td>0.000000</td>\n      <td>0.147327</td>\n      <td>0.0</td>\n      <td>...</td>\n      <td>0.0</td>\n      <td>0.000000</td>\n      <td>0.0</td>\n      <td>0.000000</td>\n      <td>0.0</td>\n      <td>0.141651</td>\n      <td>0.044691</td>\n      <td>0.335602</td>\n      <td>0.0</td>\n      <td>0.110494</td>\n    </tr>\n    <tr>\n      <th>4</th>\n      <td>ui+ux</td>\n      <td>0.0</td>\n      <td>0.0</td>\n      <td>0.0</td>\n      <td>0.000000</td>\n      <td>0.0</td>\n      <td>0.0</td>\n      <td>0.000000</td>\n      <td>0.102945</td>\n      <td>0.0</td>\n      <td>...</td>\n      <td>0.0</td>\n      <td>0.000000</td>\n      <td>0.0</td>\n      <td>0.000000</td>\n      <td>0.0</td>\n      <td>0.148468</td>\n      <td>0.000000</td>\n      <td>0.000000</td>\n      <td>0.0</td>\n      <td>0.115812</td>\n    </tr>\n    <tr>\n      <th>...</th>\n      <td>...</td>\n      <td>...</td>\n      <td>...</td>\n      <td>...</td>\n      <td>...</td>\n      <td>...</td>\n      <td>...</td>\n      <td>...</td>\n      <td>...</td>\n      <td>...</td>\n      <td>...</td>\n      <td>...</td>\n      <td>...</td>\n      <td>...</td>\n      <td>...</td>\n      <td>...</td>\n      <td>...</td>\n      <td>...</td>\n      <td>...</td>\n      <td>...</td>\n      <td>...</td>\n    </tr>\n    <tr>\n      <th>790</th>\n      <td>software+engineer</td>\n      <td>0.0</td>\n      <td>0.0</td>\n      <td>0.0</td>\n      <td>0.000000</td>\n      <td>0.0</td>\n      <td>0.0</td>\n      <td>0.000000</td>\n      <td>0.044197</td>\n      <td>0.0</td>\n      <td>...</td>\n      <td>0.0</td>\n      <td>0.059146</td>\n      <td>0.0</td>\n      <td>0.055503</td>\n      <td>0.0</td>\n      <td>0.000000</td>\n      <td>0.107255</td>\n      <td>0.000000</td>\n      <td>0.0</td>\n      <td>0.099442</td>\n    </tr>\n    <tr>\n      <th>791</th>\n      <td>cyber+security</td>\n      <td>0.0</td>\n      <td>0.0</td>\n      <td>0.0</td>\n      <td>0.000000</td>\n      <td>0.0</td>\n      <td>0.0</td>\n      <td>0.087995</td>\n      <td>0.050226</td>\n      <td>0.0</td>\n      <td>...</td>\n      <td>0.0</td>\n      <td>0.000000</td>\n      <td>0.0</td>\n      <td>0.126149</td>\n      <td>0.0</td>\n      <td>0.048291</td>\n      <td>0.000000</td>\n      <td>0.152549</td>\n      <td>0.0</td>\n      <td>0.113008</td>\n    </tr>\n    <tr>\n      <th>792</th>\n      <td>ui+ux</td>\n      <td>0.0</td>\n      <td>0.0</td>\n      <td>0.0</td>\n      <td>0.000000</td>\n      <td>0.0</td>\n      <td>0.0</td>\n      <td>0.000000</td>\n      <td>0.602373</td>\n      <td>0.0</td>\n      <td>...</td>\n      <td>0.0</td>\n      <td>0.000000</td>\n      <td>0.0</td>\n      <td>0.000000</td>\n      <td>0.0</td>\n      <td>0.231666</td>\n      <td>0.000000</td>\n      <td>0.000000</td>\n      <td>0.0</td>\n      <td>0.180710</td>\n    </tr>\n    <tr>\n      <th>793</th>\n      <td>ui+ux</td>\n      <td>0.0</td>\n      <td>0.0</td>\n      <td>0.0</td>\n      <td>0.000000</td>\n      <td>0.0</td>\n      <td>0.0</td>\n      <td>0.000000</td>\n      <td>0.388837</td>\n      <td>0.0</td>\n      <td>...</td>\n      <td>0.0</td>\n      <td>0.000000</td>\n      <td>0.0</td>\n      <td>0.162769</td>\n      <td>0.0</td>\n      <td>0.000000</td>\n      <td>0.314537</td>\n      <td>0.000000</td>\n      <td>0.0</td>\n      <td>0.194417</td>\n    </tr>\n    <tr>\n      <th>794</th>\n      <td>ui+ux</td>\n      <td>0.0</td>\n      <td>0.0</td>\n      <td>0.0</td>\n      <td>0.000000</td>\n      <td>0.0</td>\n      <td>0.0</td>\n      <td>0.000000</td>\n      <td>0.000000</td>\n      <td>0.0</td>\n      <td>...</td>\n      <td>0.0</td>\n      <td>0.000000</td>\n      <td>0.0</td>\n      <td>0.000000</td>\n      <td>0.0</td>\n      <td>0.098393</td>\n      <td>0.000000</td>\n      <td>0.000000</td>\n      <td>0.0</td>\n      <td>0.076751</td>\n    </tr>\n  </tbody>\n</table>\n<p>795 rows × 101 columns</p>\n</div>"
     },
     "execution_count": 59,
     "metadata": {},
     "output_type": "execute_result"
    }
   ],
   "source": [
    "jd_test"
   ],
   "metadata": {
    "collapsed": false,
    "pycharm": {
     "name": "#%%\n"
    }
   }
  },
  {
   "cell_type": "markdown",
   "source": [
    "### Splitting Dataset into Features and Target Vectors"
   ],
   "metadata": {
    "collapsed": false,
    "pycharm": {
     "name": "#%% md\n"
    }
   }
  },
  {
   "cell_type": "code",
   "execution_count": 60,
   "outputs": [],
   "source": [
    "jd_train_X = jd_train.iloc[:, 1:]\n",
    "jd_train_y = jd_train[[\"category\"]]\n",
    "\n",
    "jd_test_X = jd_test.iloc[:, 1:]\n",
    "jd_test_y = jd_test[[\"category\"]]"
   ],
   "metadata": {
    "collapsed": false,
    "pycharm": {
     "name": "#%%\n"
    }
   }
  },
  {
   "cell_type": "code",
   "execution_count": 61,
   "outputs": [
    {
     "data": {
      "text/plain": "category         \ncyber+security       212\nsoftware+engineer    211\nui+ux                200\ndata+analyst         172\ndtype: int64"
     },
     "execution_count": 61,
     "metadata": {},
     "output_type": "execute_result"
    }
   ],
   "source": [
    "jd_test_y.value_counts()"
   ],
   "metadata": {
    "collapsed": false,
    "pycharm": {
     "name": "#%%\n"
    }
   }
  },
  {
   "cell_type": "markdown",
   "source": [
    "### Encoding Target Variables"
   ],
   "metadata": {
    "collapsed": false,
    "pycharm": {
     "name": "#%% md\n"
    }
   }
  },
  {
   "cell_type": "code",
   "execution_count": 62,
   "outputs": [],
   "source": [
    "enc = OneHotEncoder(sparse=False)\n",
    "enc.fit(jd_train_y);"
   ],
   "metadata": {
    "collapsed": false,
    "pycharm": {
     "name": "#%%\n"
    }
   }
  },
  {
   "cell_type": "code",
   "execution_count": 63,
   "outputs": [
    {
     "data": {
      "text/plain": "[array(['cyber+security', 'data+analyst', 'software+engineer', 'ui+ux'],\n       dtype=object)]"
     },
     "execution_count": 63,
     "metadata": {},
     "output_type": "execute_result"
    }
   ],
   "source": [
    "enc.categories_"
   ],
   "metadata": {
    "collapsed": false,
    "pycharm": {
     "name": "#%%\n"
    }
   }
  },
  {
   "cell_type": "code",
   "execution_count": 64,
   "outputs": [],
   "source": [
    "jd_train_y = enc.transform(jd_train_y)\n",
    "jd_test_y = enc.transform(jd_test_y)"
   ],
   "metadata": {
    "collapsed": false,
    "pycharm": {
     "name": "#%%\n"
    }
   }
  },
  {
   "cell_type": "markdown",
   "source": [
    "### DNN Model creation and training"
   ],
   "metadata": {
    "collapsed": false,
    "pycharm": {
     "name": "#%% md\n"
    }
   }
  },
  {
   "cell_type": "code",
   "execution_count": 65,
   "outputs": [],
   "source": [
    "model = tf.keras.Sequential([\n",
    "    tf.keras.layers.Dense(16, activation='relu'),\n",
    "    tf.keras.layers.Dense(4, activation='softmax')\n",
    "])"
   ],
   "metadata": {
    "collapsed": false,
    "pycharm": {
     "name": "#%%\n"
    }
   }
  },
  {
   "cell_type": "code",
   "execution_count": 71,
   "outputs": [],
   "source": [
    "model.compile(loss=tf.keras.losses.CategoricalCrossentropy(),\n",
    "              optimizer=tf.keras.optimizers.Adam(1e-4),\n",
    "              metrics=['accuracy', tf.keras.metrics.Recall(), tf.keras.metrics.Precision(), tf.keras.metrics.AUC()])"
   ],
   "metadata": {
    "collapsed": false,
    "pycharm": {
     "name": "#%%\n"
    }
   }
  },
  {
   "cell_type": "code",
   "execution_count": 72,
   "outputs": [
    {
     "name": "stdout",
     "output_type": "stream",
     "text": [
      "Epoch 1/10\n"
     ]
    },
    {
     "name": "stderr",
     "output_type": "stream",
     "text": [
      "2023-04-03 22:38:08.719845: I tensorflow/core/grappler/optimizers/custom_graph_optimizer_registry.cc:113] Plugin optimizer for device_type GPU is enabled.\n"
     ]
    },
    {
     "name": "stdout",
     "output_type": "stream",
     "text": [
      "100/100 [==============================] - ETA: 0s - loss: 1.1112 - accuracy: 0.7129 - recall_7: 0.0937 - precision_7: 1.0000 - auc_4: 0.9283"
     ]
    },
    {
     "name": "stderr",
     "output_type": "stream",
     "text": [
      "2023-04-03 22:38:10.697684: I tensorflow/core/grappler/optimizers/custom_graph_optimizer_registry.cc:113] Plugin optimizer for device_type GPU is enabled.\n"
     ]
    },
    {
     "name": "stdout",
     "output_type": "stream",
     "text": [
      "100/100 [==============================] - 3s 24ms/step - loss: 1.1112 - accuracy: 0.7129 - recall_7: 0.0937 - precision_7: 1.0000 - auc_4: 0.9283 - val_loss: 1.1069 - val_accuracy: 0.7233 - val_recall_7: 0.0792 - val_precision_7: 1.0000 - val_auc_4: 0.9266\n",
      "Epoch 2/10\n",
      "100/100 [==============================] - 2s 18ms/step - loss: 1.0837 - accuracy: 0.7286 - recall_7: 0.1044 - precision_7: 1.0000 - auc_4: 0.9341 - val_loss: 1.0803 - val_accuracy: 0.7371 - val_recall_7: 0.0981 - val_precision_7: 1.0000 - val_auc_4: 0.9320\n",
      "Epoch 3/10\n",
      "100/100 [==============================] - 2s 20ms/step - loss: 1.0559 - accuracy: 0.7393 - recall_7: 0.1129 - precision_7: 1.0000 - auc_4: 0.9384 - val_loss: 1.0536 - val_accuracy: 0.7509 - val_recall_7: 0.1044 - val_precision_7: 1.0000 - val_auc_4: 0.9359\n",
      "Epoch 4/10\n",
      "100/100 [==============================] - 2s 19ms/step - loss: 1.0283 - accuracy: 0.7481 - recall_7: 0.1286 - precision_7: 1.0000 - auc_4: 0.9431 - val_loss: 1.0271 - val_accuracy: 0.7635 - val_recall_7: 0.1270 - val_precision_7: 1.0000 - val_auc_4: 0.9402\n",
      "Epoch 5/10\n",
      "100/100 [==============================] - 2s 18ms/step - loss: 1.0009 - accuracy: 0.7575 - recall_7: 0.1437 - precision_7: 0.9956 - auc_4: 0.9459 - val_loss: 1.0007 - val_accuracy: 0.7635 - val_recall_7: 0.1346 - val_precision_7: 1.0000 - val_auc_4: 0.9422\n",
      "Epoch 6/10\n",
      "100/100 [==============================] - 2s 18ms/step - loss: 0.9736 - accuracy: 0.7616 - recall_7: 0.1535 - precision_7: 0.9919 - auc_4: 0.9486 - val_loss: 0.9746 - val_accuracy: 0.7748 - val_recall_7: 0.1484 - val_precision_7: 1.0000 - val_auc_4: 0.9454\n",
      "Epoch 7/10\n",
      "100/100 [==============================] - 2s 19ms/step - loss: 0.9465 - accuracy: 0.7767 - recall_7: 0.1745 - precision_7: 0.9875 - auc_4: 0.9514 - val_loss: 0.9487 - val_accuracy: 0.7836 - val_recall_7: 0.1786 - val_precision_7: 0.9930 - val_auc_4: 0.9475\n",
      "Epoch 8/10\n",
      "100/100 [==============================] - 2s 19ms/step - loss: 0.9199 - accuracy: 0.7956 - recall_7: 0.1959 - precision_7: 0.9858 - auc_4: 0.9538 - val_loss: 0.9233 - val_accuracy: 0.7912 - val_recall_7: 0.1975 - val_precision_7: 0.9874 - val_auc_4: 0.9496\n",
      "Epoch 9/10\n",
      "100/100 [==============================] - 2s 18ms/step - loss: 0.8936 - accuracy: 0.7981 - recall_7: 0.2230 - precision_7: 0.9820 - auc_4: 0.9559 - val_loss: 0.8986 - val_accuracy: 0.7962 - val_recall_7: 0.2352 - val_precision_7: 0.9791 - val_auc_4: 0.9516\n",
      "Epoch 10/10\n",
      "100/100 [==============================] - 2s 19ms/step - loss: 0.8679 - accuracy: 0.8016 - recall_7: 0.2670 - precision_7: 0.9815 - auc_4: 0.9577 - val_loss: 0.8747 - val_accuracy: 0.7937 - val_recall_7: 0.2717 - val_precision_7: 0.9730 - val_auc_4: 0.9531\n"
     ]
    }
   ],
   "source": [
    "history = model.fit(jd_train_X, jd_train_y, epochs=10, validation_steps=30, validation_data=(jd_test_X, jd_test_y))"
   ],
   "metadata": {
    "collapsed": false,
    "pycharm": {
     "name": "#%%\n"
    }
   }
  },
  {
   "cell_type": "markdown",
   "source": [
    "### Viewing learning curves"
   ],
   "metadata": {
    "collapsed": false,
    "pycharm": {
     "name": "#%% md\n"
    }
   }
  },
  {
   "cell_type": "code",
   "execution_count": 73,
   "outputs": [
    {
     "data": {
      "text/plain": "(0.0, 1.1233458429574967)"
     },
     "execution_count": 73,
     "metadata": {},
     "output_type": "execute_result"
    },
    {
     "data": {
      "text/plain": "<Figure size 1152x576 with 2 Axes>",
      "image/png": "[encoded data removed]"
     },
     "metadata": {
      "needs_background": "light"
     },
     "output_type": "display_data"
    }
   ],
   "source": [
    "plt.figure(figsize=(16, 8))\n",
    "plt.subplot(1, 2, 1)\n",
    "plot_graphs(history, 'accuracy')\n",
    "plt.ylim(None, 1)\n",
    "plt.subplot(1, 2, 2)\n",
    "plot_graphs(history, 'loss')\n",
    "plt.ylim(0, None)"
   ],
   "metadata": {
    "collapsed": false,
    "pycharm": {
     "name": "#%%\n"
    }
   }
  },
  {
   "cell_type": "markdown",
   "source": [
    "### Saving the model"
   ],
   "metadata": {
    "collapsed": false,
    "pycharm": {
     "name": "#%% md\n"
    }
   }
  },
  {
   "cell_type": "code",
   "execution_count": 75,
   "outputs": [],
   "source": [
    "model.save(\"tf_models/dnn_hard_bag.h5\")"
   ],
   "metadata": {
    "collapsed": false,
    "pycharm": {
     "name": "#%%\n"
    }
   }
  },
  {
   "cell_type": "markdown",
   "source": [],
   "metadata": {
    "collapsed": false,
    "pycharm": {
     "name": "#%% md\n"
    }
   }
  },
  {
   "cell_type": "markdown",
   "source": [
    "## DNN on Word Embeds"
   ],
   "metadata": {
    "collapsed": false,
    "pycharm": {
     "name": "#%% md\n"
    }
   }
  },
  {
   "cell_type": "markdown",
   "source": [
    "### Easy Embed Dataset"
   ],
   "metadata": {
    "collapsed": false,
    "pycharm": {
     "name": "#%% md\n"
    }
   }
  },
  {
   "cell_type": "code",
   "execution_count": 91,
   "outputs": [],
   "source": [
    "is_working_with_easy_dataset = True"
   ],
   "metadata": {
    "collapsed": false,
    "pycharm": {
     "name": "#%%\n"
    }
   }
  },
  {
   "cell_type": "code",
   "execution_count": 92,
   "outputs": [],
   "source": [
    "if is_working_with_easy_dataset:\n",
    "    input_train_filename = \"embedding_easy_train.csv\"\n",
    "    input_test_filename = \"embedding_easy_test.csv\"\n",
    "else:\n",
    "    input_train_filename = \"embedding_difficult_train.csv\"\n",
    "    input_test_filename = \"embedding_difficult_test.csv\""
   ],
   "metadata": {
    "collapsed": false,
    "pycharm": {
     "name": "#%%\n"
    }
   }
  },
  {
   "cell_type": "code",
   "execution_count": 93,
   "outputs": [],
   "source": [
    "jd_train = pd.read_csv(input_train_filename, keep_default_na=False)\n",
    "jd_test = pd.read_csv(input_test_filename, keep_default_na=False)"
   ],
   "metadata": {
    "collapsed": false,
    "pycharm": {
     "name": "#%%\n"
    }
   }
  },
  {
   "cell_type": "code",
   "execution_count": 94,
   "outputs": [
    {
     "data": {
      "text/plain": "               category         0         1         2         3         4  \\\n0     software+engineer -0.007818  0.015209 -0.032915 -0.040774 -0.075819   \n1                  arts -0.039281 -0.037813 -0.002049 -0.079996 -0.009300   \n2                    hr -0.099071  0.067754 -0.018720  0.065808 -0.019722   \n3                  arts -0.000244 -0.010329  0.005088  0.019951  0.031961   \n4                  arts  0.037742 -0.058576  0.017413 -0.007462 -0.010717   \n...                 ...       ...       ...       ...       ...       ...   \n3177  software+engineer -0.092087  0.031149 -0.008015 -0.022320 -0.046425   \n3178              sales -0.078644  0.031273  0.041027 -0.058212 -0.068799   \n3179               arts -0.101251  0.041866 -0.005444 -0.011291 -0.032258   \n3180                 hr -0.051157  0.022184  0.029747  0.018414 -0.007712   \n3181                 hr -0.037771  0.040630 -0.033029  0.056949 -0.050621   \n\n             5         6         7         8  ...       374       375  \\\n0    -0.122257  0.003905  0.105021 -0.081435  ...  0.036517  0.067738   \n1     0.014721  0.028362 -0.028484 -0.047296  ...  0.061370  0.030016   \n2    -0.006825 -0.010283  0.001540 -0.087364  ...  0.081999  0.114448   \n3    -0.004796 -0.056017  0.008362 -0.058531  ...  0.018572  0.015595   \n4    -0.022504 -0.016252  0.022974 -0.052209  ...  0.015944  0.056351   \n...        ...       ...       ...       ...  ...       ...       ...   \n3177 -0.083988  0.008692  0.036745 -0.129390  ...  0.008609  0.064561   \n3178  0.024472  0.047536  0.047297 -0.061370  ... -0.022879  0.019196   \n3179 -0.016939  0.026778  0.046210 -0.083376  ...  0.004621  0.021080   \n3180 -0.003600  0.016207  0.049001 -0.018576  ...  0.000053  0.008966   \n3181 -0.047433 -0.007329  0.009315 -0.052792  ...  0.005489  0.047084   \n\n           376       377       378       379       380       381       382  \\\n0     0.017234 -0.021146 -0.005016  0.052575  0.016892  0.011725  0.031423   \n1    -0.020944  0.025066 -0.054447  0.042434 -0.016480 -0.065129 -0.121761   \n2     0.022363 -0.051149  0.002981  0.086356  0.092362 -0.042364 -0.033669   \n3     0.026521  0.006298 -0.024210  0.076719 -0.001265 -0.029895 -0.037964   \n4     0.060758  0.049852 -0.018264  0.075948  0.001910 -0.011242 -0.045209   \n...        ...       ...       ...       ...       ...       ...       ...   \n3177 -0.016291 -0.005272 -0.021538  0.051470  0.078117 -0.018555 -0.036695   \n3178  0.019246 -0.004855  0.016442  0.089635  0.074209 -0.086454 -0.098238   \n3179  0.026186  0.022296 -0.041951  0.082195  0.048774 -0.097376 -0.085289   \n3180 -0.015656 -0.005649 -0.080121  0.053882  0.070258 -0.079552 -0.019765   \n3181  0.037522 -0.024134 -0.032097  0.051435  0.104937 -0.089167 -0.052026   \n\n           383  \n0     0.008097  \n1     0.036031  \n2     0.060429  \n3     0.052187  \n4     0.029765  \n...        ...  \n3177 -0.013603  \n3178  0.072741  \n3179  0.013674  \n3180  0.002172  \n3181  0.026151  \n\n[3182 rows x 385 columns]",
      "text/html": "<div>\n<style scoped>\n    .dataframe tbody tr th:only-of-type {\n        vertical-align: middle;\n    }\n\n    .dataframe tbody tr th {\n        vertical-align: top;\n    }\n\n    .dataframe thead th {\n        text-align: right;\n    }\n</style>\n<table border=\"1\" class=\"dataframe\">\n  <thead>\n    <tr style=\"text-align: right;\">\n      <th></th>\n      <th>category</th>\n      <th>0</th>\n      <th>1</th>\n      <th>2</th>\n      <th>3</th>\n      <th>4</th>\n      <th>5</th>\n      <th>6</th>\n      <th>7</th>\n      <th>8</th>\n      <th>...</th>\n      <th>374</th>\n      <th>375</th>\n      <th>376</th>\n      <th>377</th>\n      <th>378</th>\n      <th>379</th>\n      <th>380</th>\n      <th>381</th>\n      <th>382</th>\n      <th>383</th>\n    </tr>\n  </thead>\n  <tbody>\n    <tr>\n      <th>0</th>\n      <td>software+engineer</td>\n      <td>-0.007818</td>\n      <td>0.015209</td>\n      <td>-0.032915</td>\n      <td>-0.040774</td>\n      <td>-0.075819</td>\n      <td>-0.122257</td>\n      <td>0.003905</td>\n      <td>0.105021</td>\n      <td>-0.081435</td>\n      <td>...</td>\n      <td>0.036517</td>\n      <td>0.067738</td>\n      <td>0.017234</td>\n      <td>-0.021146</td>\n      <td>-0.005016</td>\n      <td>0.052575</td>\n      <td>0.016892</td>\n      <td>0.011725</td>\n      <td>0.031423</td>\n      <td>0.008097</td>\n    </tr>\n    <tr>\n      <th>1</th>\n      <td>arts</td>\n      <td>-0.039281</td>\n      <td>-0.037813</td>\n      <td>-0.002049</td>\n      <td>-0.079996</td>\n      <td>-0.009300</td>\n      <td>0.014721</td>\n      <td>0.028362</td>\n      <td>-0.028484</td>\n      <td>-0.047296</td>\n      <td>...</td>\n      <td>0.061370</td>\n      <td>0.030016</td>\n      <td>-0.020944</td>\n      <td>0.025066</td>\n      <td>-0.054447</td>\n      <td>0.042434</td>\n      <td>-0.016480</td>\n      <td>-0.065129</td>\n      <td>-0.121761</td>\n      <td>0.036031</td>\n    </tr>\n    <tr>\n      <th>2</th>\n      <td>hr</td>\n      <td>-0.099071</td>\n      <td>0.067754</td>\n      <td>-0.018720</td>\n      <td>0.065808</td>\n      <td>-0.019722</td>\n      <td>-0.006825</td>\n      <td>-0.010283</td>\n      <td>0.001540</td>\n      <td>-0.087364</td>\n      <td>...</td>\n      <td>0.081999</td>\n      <td>0.114448</td>\n      <td>0.022363</td>\n      <td>-0.051149</td>\n      <td>0.002981</td>\n      <td>0.086356</td>\n      <td>0.092362</td>\n      <td>-0.042364</td>\n      <td>-0.033669</td>\n      <td>0.060429</td>\n    </tr>\n    <tr>\n      <th>3</th>\n      <td>arts</td>\n      <td>-0.000244</td>\n      <td>-0.010329</td>\n      <td>0.005088</td>\n      <td>0.019951</td>\n      <td>0.031961</td>\n      <td>-0.004796</td>\n      <td>-0.056017</td>\n      <td>0.008362</td>\n      <td>-0.058531</td>\n      <td>...</td>\n      <td>0.018572</td>\n      <td>0.015595</td>\n      <td>0.026521</td>\n      <td>0.006298</td>\n      <td>-0.024210</td>\n      <td>0.076719</td>\n      <td>-0.001265</td>\n      <td>-0.029895</td>\n      <td>-0.037964</td>\n      <td>0.052187</td>\n    </tr>\n    <tr>\n      <th>4</th>\n      <td>arts</td>\n      <td>0.037742</td>\n      <td>-0.058576</td>\n      <td>0.017413</td>\n      <td>-0.007462</td>\n      <td>-0.010717</td>\n      <td>-0.022504</td>\n      <td>-0.016252</td>\n      <td>0.022974</td>\n      <td>-0.052209</td>\n      <td>...</td>\n      <td>0.015944</td>\n      <td>0.056351</td>\n      <td>0.060758</td>\n      <td>0.049852</td>\n      <td>-0.018264</td>\n      <td>0.075948</td>\n      <td>0.001910</td>\n      <td>-0.011242</td>\n      <td>-0.045209</td>\n      <td>0.029765</td>\n    </tr>\n    <tr>\n      <th>...</th>\n      <td>...</td>\n      <td>...</td>\n      <td>...</td>\n      <td>...</td>\n      <td>...</td>\n      <td>...</td>\n      <td>...</td>\n      <td>...</td>\n      <td>...</td>\n      <td>...</td>\n      <td>...</td>\n      <td>...</td>\n      <td>...</td>\n      <td>...</td>\n      <td>...</td>\n      <td>...</td>\n      <td>...</td>\n      <td>...</td>\n      <td>...</td>\n      <td>...</td>\n      <td>...</td>\n    </tr>\n    <tr>\n      <th>3177</th>\n      <td>software+engineer</td>\n      <td>-0.092087</td>\n      <td>0.031149</td>\n      <td>-0.008015</td>\n      <td>-0.022320</td>\n      <td>-0.046425</td>\n      <td>-0.083988</td>\n      <td>0.008692</td>\n      <td>0.036745</td>\n      <td>-0.129390</td>\n      <td>...</td>\n      <td>0.008609</td>\n      <td>0.064561</td>\n      <td>-0.016291</td>\n      <td>-0.005272</td>\n      <td>-0.021538</td>\n      <td>0.051470</td>\n      <td>0.078117</td>\n      <td>-0.018555</td>\n      <td>-0.036695</td>\n      <td>-0.013603</td>\n    </tr>\n    <tr>\n      <th>3178</th>\n      <td>sales</td>\n      <td>-0.078644</td>\n      <td>0.031273</td>\n      <td>0.041027</td>\n      <td>-0.058212</td>\n      <td>-0.068799</td>\n      <td>0.024472</td>\n      <td>0.047536</td>\n      <td>0.047297</td>\n      <td>-0.061370</td>\n      <td>...</td>\n      <td>-0.022879</td>\n      <td>0.019196</td>\n      <td>0.019246</td>\n      <td>-0.004855</td>\n      <td>0.016442</td>\n      <td>0.089635</td>\n      <td>0.074209</td>\n      <td>-0.086454</td>\n      <td>-0.098238</td>\n      <td>0.072741</td>\n    </tr>\n    <tr>\n      <th>3179</th>\n      <td>arts</td>\n      <td>-0.101251</td>\n      <td>0.041866</td>\n      <td>-0.005444</td>\n      <td>-0.011291</td>\n      <td>-0.032258</td>\n      <td>-0.016939</td>\n      <td>0.026778</td>\n      <td>0.046210</td>\n      <td>-0.083376</td>\n      <td>...</td>\n      <td>0.004621</td>\n      <td>0.021080</td>\n      <td>0.026186</td>\n      <td>0.022296</td>\n      <td>-0.041951</td>\n      <td>0.082195</td>\n      <td>0.048774</td>\n      <td>-0.097376</td>\n      <td>-0.085289</td>\n      <td>0.013674</td>\n    </tr>\n    <tr>\n      <th>3180</th>\n      <td>hr</td>\n      <td>-0.051157</td>\n      <td>0.022184</td>\n      <td>0.029747</td>\n      <td>0.018414</td>\n      <td>-0.007712</td>\n      <td>-0.003600</td>\n      <td>0.016207</td>\n      <td>0.049001</td>\n      <td>-0.018576</td>\n      <td>...</td>\n      <td>0.000053</td>\n      <td>0.008966</td>\n      <td>-0.015656</td>\n      <td>-0.005649</td>\n      <td>-0.080121</td>\n      <td>0.053882</td>\n      <td>0.070258</td>\n      <td>-0.079552</td>\n      <td>-0.019765</td>\n      <td>0.002172</td>\n    </tr>\n    <tr>\n      <th>3181</th>\n      <td>hr</td>\n      <td>-0.037771</td>\n      <td>0.040630</td>\n      <td>-0.033029</td>\n      <td>0.056949</td>\n      <td>-0.050621</td>\n      <td>-0.047433</td>\n      <td>-0.007329</td>\n      <td>0.009315</td>\n      <td>-0.052792</td>\n      <td>...</td>\n      <td>0.005489</td>\n      <td>0.047084</td>\n      <td>0.037522</td>\n      <td>-0.024134</td>\n      <td>-0.032097</td>\n      <td>0.051435</td>\n      <td>0.104937</td>\n      <td>-0.089167</td>\n      <td>-0.052026</td>\n      <td>0.026151</td>\n    </tr>\n  </tbody>\n</table>\n<p>3182 rows × 385 columns</p>\n</div>"
     },
     "execution_count": 94,
     "metadata": {},
     "output_type": "execute_result"
    }
   ],
   "source": [
    "jd_train"
   ],
   "metadata": {
    "collapsed": false,
    "pycharm": {
     "name": "#%%\n"
    }
   }
  },
  {
   "cell_type": "code",
   "execution_count": 95,
   "outputs": [
    {
     "data": {
      "text/plain": "              category         0         1         2         3         4  \\\n0    software+engineer -0.113818  0.008952 -0.004451  0.003387  0.041243   \n1                sales -0.019982 -0.019572 -0.043766  0.038807 -0.021798   \n2                sales -0.061115  0.037327 -0.035323  0.007244 -0.014231   \n3                sales -0.110860  0.012782 -0.030584 -0.077872 -0.102458   \n4                 arts -0.044880  0.017243  0.052809 -0.012010  0.038006   \n..                 ...       ...       ...       ...       ...       ...   \n791  software+engineer -0.131392 -0.029033 -0.082744 -0.039305 -0.028481   \n792  software+engineer -0.043274 -0.032123  0.041134 -0.017565  0.032743   \n793  software+engineer -0.006800 -0.087576 -0.029101 -0.043830 -0.068833   \n794                 hr -0.128770  0.043694 -0.002058  0.047944 -0.053523   \n795                 hr -0.079189  0.014116 -0.021597  0.034801 -0.050730   \n\n            5         6         7         8  ...       374       375  \\\n0   -0.074476  0.027237  0.074545 -0.080968  ...  0.016368  0.115178   \n1   -0.003498 -0.008579 -0.007094  0.017747  ...  0.023369 -0.032173   \n2    0.054096  0.095702  0.017702 -0.064049  ...  0.024937  0.007117   \n3    0.048481  0.027282  0.055432 -0.007119  ... -0.057282  0.060048   \n4   -0.025841  0.002447  0.005194 -0.023129  ...  0.014638  0.062186   \n..        ...       ...       ...       ...  ...       ...       ...   \n791 -0.063193 -0.057688  0.128488 -0.072210  ... -0.023796  0.086397   \n792 -0.072493  0.013035 -0.040865  0.005068  ...  0.003571  0.061880   \n793 -0.016611  0.032965  0.086794 -0.112048  ...  0.093700  0.060009   \n794  0.042907  0.058572 -0.007716 -0.058442  ... -0.018871  0.036778   \n795 -0.014727 -0.056692 -0.020434 -0.031112  ...  0.056226  0.025051   \n\n          376       377       378       379       380       381       382  \\\n0    0.065218 -0.074784  0.057262  0.082102  0.059299 -0.031293  0.007032   \n1   -0.008954 -0.028408 -0.041258 -0.016728  0.078255 -0.043575  0.043920   \n2    0.029717  0.036748 -0.017619  0.084793  0.017758 -0.004776 -0.067190   \n3    0.012040  0.056503 -0.008248  0.102686 -0.004278 -0.015446 -0.055078   \n4    0.076078 -0.041519 -0.023763  0.048595  0.060352 -0.011345 -0.059987   \n..        ...       ...       ...       ...       ...       ...       ...   \n791 -0.071659 -0.031082 -0.003570  0.047519  0.033251 -0.166673 -0.007538   \n792  0.018539 -0.087545  0.026615  0.099625  0.018813 -0.029922  0.014897   \n793 -0.031102  0.073509  0.054705  0.061826  0.028178 -0.001595 -0.046012   \n794 -0.042918 -0.002689 -0.052095  0.123027  0.064848 -0.024640  0.003905   \n795  0.044193 -0.059260 -0.099940  0.062814  0.032975 -0.039858  0.017513   \n\n          383  \n0    0.071702  \n1   -0.008786  \n2    0.031323  \n3    0.049244  \n4    0.039882  \n..        ...  \n791 -0.031994  \n792 -0.003446  \n793 -0.033700  \n794  0.014744  \n795 -0.004559  \n\n[796 rows x 385 columns]",
      "text/html": "<div>\n<style scoped>\n    .dataframe tbody tr th:only-of-type {\n        vertical-align: middle;\n    }\n\n    .dataframe tbody tr th {\n        vertical-align: top;\n    }\n\n    .dataframe thead th {\n        text-align: right;\n    }\n</style>\n<table border=\"1\" class=\"dataframe\">\n  <thead>\n    <tr style=\"text-align: right;\">\n      <th></th>\n      <th>category</th>\n      <th>0</th>\n      <th>1</th>\n      <th>2</th>\n      <th>3</th>\n      <th>4</th>\n      <th>5</th>\n      <th>6</th>\n      <th>7</th>\n      <th>8</th>\n      <th>...</th>\n      <th>374</th>\n      <th>375</th>\n      <th>376</th>\n      <th>377</th>\n      <th>378</th>\n      <th>379</th>\n      <th>380</th>\n      <th>381</th>\n      <th>382</th>\n      <th>383</th>\n    </tr>\n  </thead>\n  <tbody>\n    <tr>\n      <th>0</th>\n      <td>software+engineer</td>\n      <td>-0.113818</td>\n      <td>0.008952</td>\n      <td>-0.004451</td>\n      <td>0.003387</td>\n      <td>0.041243</td>\n      <td>-0.074476</td>\n      <td>0.027237</td>\n      <td>0.074545</td>\n      <td>-0.080968</td>\n      <td>...</td>\n      <td>0.016368</td>\n      <td>0.115178</td>\n      <td>0.065218</td>\n      <td>-0.074784</td>\n      <td>0.057262</td>\n      <td>0.082102</td>\n      <td>0.059299</td>\n      <td>-0.031293</td>\n      <td>0.007032</td>\n      <td>0.071702</td>\n    </tr>\n    <tr>\n      <th>1</th>\n      <td>sales</td>\n      <td>-0.019982</td>\n      <td>-0.019572</td>\n      <td>-0.043766</td>\n      <td>0.038807</td>\n      <td>-0.021798</td>\n      <td>-0.003498</td>\n      <td>-0.008579</td>\n      <td>-0.007094</td>\n      <td>0.017747</td>\n      <td>...</td>\n      <td>0.023369</td>\n      <td>-0.032173</td>\n      <td>-0.008954</td>\n      <td>-0.028408</td>\n      <td>-0.041258</td>\n      <td>-0.016728</td>\n      <td>0.078255</td>\n      <td>-0.043575</td>\n      <td>0.043920</td>\n      <td>-0.008786</td>\n    </tr>\n    <tr>\n      <th>2</th>\n      <td>sales</td>\n      <td>-0.061115</td>\n      <td>0.037327</td>\n      <td>-0.035323</td>\n      <td>0.007244</td>\n      <td>-0.014231</td>\n      <td>0.054096</td>\n      <td>0.095702</td>\n      <td>0.017702</td>\n      <td>-0.064049</td>\n      <td>...</td>\n      <td>0.024937</td>\n      <td>0.007117</td>\n      <td>0.029717</td>\n      <td>0.036748</td>\n      <td>-0.017619</td>\n      <td>0.084793</td>\n      <td>0.017758</td>\n      <td>-0.004776</td>\n      <td>-0.067190</td>\n      <td>0.031323</td>\n    </tr>\n    <tr>\n      <th>3</th>\n      <td>sales</td>\n      <td>-0.110860</td>\n      <td>0.012782</td>\n      <td>-0.030584</td>\n      <td>-0.077872</td>\n      <td>-0.102458</td>\n      <td>0.048481</td>\n      <td>0.027282</td>\n      <td>0.055432</td>\n      <td>-0.007119</td>\n      <td>...</td>\n      <td>-0.057282</td>\n      <td>0.060048</td>\n      <td>0.012040</td>\n      <td>0.056503</td>\n      <td>-0.008248</td>\n      <td>0.102686</td>\n      <td>-0.004278</td>\n      <td>-0.015446</td>\n      <td>-0.055078</td>\n      <td>0.049244</td>\n    </tr>\n    <tr>\n      <th>4</th>\n      <td>arts</td>\n      <td>-0.044880</td>\n      <td>0.017243</td>\n      <td>0.052809</td>\n      <td>-0.012010</td>\n      <td>0.038006</td>\n      <td>-0.025841</td>\n      <td>0.002447</td>\n      <td>0.005194</td>\n      <td>-0.023129</td>\n      <td>...</td>\n      <td>0.014638</td>\n      <td>0.062186</td>\n      <td>0.076078</td>\n      <td>-0.041519</td>\n      <td>-0.023763</td>\n      <td>0.048595</td>\n      <td>0.060352</td>\n      <td>-0.011345</td>\n      <td>-0.059987</td>\n      <td>0.039882</td>\n    </tr>\n    <tr>\n      <th>...</th>\n      <td>...</td>\n      <td>...</td>\n      <td>...</td>\n      <td>...</td>\n      <td>...</td>\n      <td>...</td>\n      <td>...</td>\n      <td>...</td>\n      <td>...</td>\n      <td>...</td>\n      <td>...</td>\n      <td>...</td>\n      <td>...</td>\n      <td>...</td>\n      <td>...</td>\n      <td>...</td>\n      <td>...</td>\n      <td>...</td>\n      <td>...</td>\n      <td>...</td>\n      <td>...</td>\n    </tr>\n    <tr>\n      <th>791</th>\n      <td>software+engineer</td>\n      <td>-0.131392</td>\n      <td>-0.029033</td>\n      <td>-0.082744</td>\n      <td>-0.039305</td>\n      <td>-0.028481</td>\n      <td>-0.063193</td>\n      <td>-0.057688</td>\n      <td>0.128488</td>\n      <td>-0.072210</td>\n      <td>...</td>\n      <td>-0.023796</td>\n      <td>0.086397</td>\n      <td>-0.071659</td>\n      <td>-0.031082</td>\n      <td>-0.003570</td>\n      <td>0.047519</td>\n      <td>0.033251</td>\n      <td>-0.166673</td>\n      <td>-0.007538</td>\n      <td>-0.031994</td>\n    </tr>\n    <tr>\n      <th>792</th>\n      <td>software+engineer</td>\n      <td>-0.043274</td>\n      <td>-0.032123</td>\n      <td>0.041134</td>\n      <td>-0.017565</td>\n      <td>0.032743</td>\n      <td>-0.072493</td>\n      <td>0.013035</td>\n      <td>-0.040865</td>\n      <td>0.005068</td>\n      <td>...</td>\n      <td>0.003571</td>\n      <td>0.061880</td>\n      <td>0.018539</td>\n      <td>-0.087545</td>\n      <td>0.026615</td>\n      <td>0.099625</td>\n      <td>0.018813</td>\n      <td>-0.029922</td>\n      <td>0.014897</td>\n      <td>-0.003446</td>\n    </tr>\n    <tr>\n      <th>793</th>\n      <td>software+engineer</td>\n      <td>-0.006800</td>\n      <td>-0.087576</td>\n      <td>-0.029101</td>\n      <td>-0.043830</td>\n      <td>-0.068833</td>\n      <td>-0.016611</td>\n      <td>0.032965</td>\n      <td>0.086794</td>\n      <td>-0.112048</td>\n      <td>...</td>\n      <td>0.093700</td>\n      <td>0.060009</td>\n      <td>-0.031102</td>\n      <td>0.073509</td>\n      <td>0.054705</td>\n      <td>0.061826</td>\n      <td>0.028178</td>\n      <td>-0.001595</td>\n      <td>-0.046012</td>\n      <td>-0.033700</td>\n    </tr>\n    <tr>\n      <th>794</th>\n      <td>hr</td>\n      <td>-0.128770</td>\n      <td>0.043694</td>\n      <td>-0.002058</td>\n      <td>0.047944</td>\n      <td>-0.053523</td>\n      <td>0.042907</td>\n      <td>0.058572</td>\n      <td>-0.007716</td>\n      <td>-0.058442</td>\n      <td>...</td>\n      <td>-0.018871</td>\n      <td>0.036778</td>\n      <td>-0.042918</td>\n      <td>-0.002689</td>\n      <td>-0.052095</td>\n      <td>0.123027</td>\n      <td>0.064848</td>\n      <td>-0.024640</td>\n      <td>0.003905</td>\n      <td>0.014744</td>\n    </tr>\n    <tr>\n      <th>795</th>\n      <td>hr</td>\n      <td>-0.079189</td>\n      <td>0.014116</td>\n      <td>-0.021597</td>\n      <td>0.034801</td>\n      <td>-0.050730</td>\n      <td>-0.014727</td>\n      <td>-0.056692</td>\n      <td>-0.020434</td>\n      <td>-0.031112</td>\n      <td>...</td>\n      <td>0.056226</td>\n      <td>0.025051</td>\n      <td>0.044193</td>\n      <td>-0.059260</td>\n      <td>-0.099940</td>\n      <td>0.062814</td>\n      <td>0.032975</td>\n      <td>-0.039858</td>\n      <td>0.017513</td>\n      <td>-0.004559</td>\n    </tr>\n  </tbody>\n</table>\n<p>796 rows × 385 columns</p>\n</div>"
     },
     "execution_count": 95,
     "metadata": {},
     "output_type": "execute_result"
    }
   ],
   "source": [
    "jd_test"
   ],
   "metadata": {
    "collapsed": false,
    "pycharm": {
     "name": "#%%\n"
    }
   }
  },
  {
   "cell_type": "code",
   "execution_count": 96,
   "outputs": [],
   "source": [
    "jd_train_X = jd_train.iloc[:, 1:]\n",
    "jd_train_y = jd_train[[\"category\"]]\n",
    "\n",
    "jd_test_X = jd_test.iloc[:, 1:]\n",
    "jd_test_y = jd_test[[\"category\"]]"
   ],
   "metadata": {
    "collapsed": false,
    "pycharm": {
     "name": "#%%\n"
    }
   }
  },
  {
   "cell_type": "code",
   "execution_count": 97,
   "outputs": [
    {
     "data": {
      "text/plain": "category         \nsoftware+engineer    220\narts                 198\nsales                197\nhr                   181\ndtype: int64"
     },
     "execution_count": 97,
     "metadata": {},
     "output_type": "execute_result"
    }
   ],
   "source": [
    "jd_test_y.value_counts()"
   ],
   "metadata": {
    "collapsed": false,
    "pycharm": {
     "name": "#%%\n"
    }
   }
  },
  {
   "cell_type": "code",
   "execution_count": 98,
   "outputs": [],
   "source": [
    "enc = OneHotEncoder(sparse=False)\n",
    "enc.fit(jd_train_y);"
   ],
   "metadata": {
    "collapsed": false,
    "pycharm": {
     "name": "#%%\n"
    }
   }
  },
  {
   "cell_type": "code",
   "execution_count": 99,
   "outputs": [
    {
     "data": {
      "text/plain": "[array(['arts', 'hr', 'sales', 'software+engineer'], dtype=object)]"
     },
     "execution_count": 99,
     "metadata": {},
     "output_type": "execute_result"
    }
   ],
   "source": [
    "enc.categories_"
   ],
   "metadata": {
    "collapsed": false,
    "pycharm": {
     "name": "#%%\n"
    }
   }
  },
  {
   "cell_type": "code",
   "execution_count": 100,
   "outputs": [],
   "source": [
    "jd_train_y = enc.transform(jd_train_y)\n",
    "jd_test_y = enc.transform(jd_test_y)"
   ],
   "metadata": {
    "collapsed": false,
    "pycharm": {
     "name": "#%%\n"
    }
   }
  },
  {
   "cell_type": "code",
   "execution_count": 101,
   "outputs": [],
   "source": [
    "model = tf.keras.Sequential([\n",
    "    tf.keras.layers.Dense(16, activation='relu'),\n",
    "    tf.keras.layers.Dense(4, activation='softmax')\n",
    "])"
   ],
   "metadata": {
    "collapsed": false,
    "pycharm": {
     "name": "#%%\n"
    }
   }
  },
  {
   "cell_type": "code",
   "execution_count": 102,
   "outputs": [],
   "source": [
    "model.compile(loss=tf.keras.losses.CategoricalCrossentropy(),\n",
    "              optimizer=tf.keras.optimizers.Adam(1e-4),\n",
    "              metrics=['accuracy', tf.keras.metrics.Recall(), tf.keras.metrics.Precision(), tf.keras.metrics.AUC()])"
   ],
   "metadata": {
    "collapsed": false,
    "pycharm": {
     "name": "#%%\n"
    }
   }
  },
  {
   "cell_type": "code",
   "execution_count": 103,
   "outputs": [
    {
     "name": "stdout",
     "output_type": "stream",
     "text": [
      "Epoch 1/10\n"
     ]
    },
    {
     "name": "stderr",
     "output_type": "stream",
     "text": [
      "2023-04-03 22:41:56.442304: I tensorflow/core/grappler/optimizers/custom_graph_optimizer_registry.cc:113] Plugin optimizer for device_type GPU is enabled.\n"
     ]
    },
    {
     "name": "stdout",
     "output_type": "stream",
     "text": [
      "100/100 [==============================] - ETA: 0s - loss: 1.3642 - accuracy: 0.4299 - recall_9: 0.0000e+00 - precision_9: 0.0000e+00 - auc_6: 0.6812"
     ]
    },
    {
     "name": "stderr",
     "output_type": "stream",
     "text": [
      "2023-04-03 22:41:58.540218: I tensorflow/core/grappler/optimizers/custom_graph_optimizer_registry.cc:113] Plugin optimizer for device_type GPU is enabled.\n"
     ]
    },
    {
     "name": "stdout",
     "output_type": "stream",
     "text": [
      "100/100 [==============================] - 3s 26ms/step - loss: 1.3642 - accuracy: 0.4299 - recall_9: 0.0000e+00 - precision_9: 0.0000e+00 - auc_6: 0.6812 - val_loss: 1.3382 - val_accuracy: 0.6168 - val_recall_9: 0.0000e+00 - val_precision_9: 0.0000e+00 - val_auc_6: 0.8249\n",
      "Epoch 2/10\n",
      "100/100 [==============================] - 2s 20ms/step - loss: 1.3077 - accuracy: 0.6889 - recall_9: 0.0000e+00 - precision_9: 0.0000e+00 - auc_6: 0.8720 - val_loss: 1.2664 - val_accuracy: 0.7399 - val_recall_9: 0.0000e+00 - val_precision_9: 0.0000e+00 - val_auc_6: 0.9138\n",
      "Epoch 3/10\n",
      "100/100 [==============================] - 2s 20ms/step - loss: 1.2367 - accuracy: 0.7637 - recall_9: 0.0000e+00 - precision_9: 0.0000e+00 - auc_6: 0.9243 - val_loss: 1.1932 - val_accuracy: 0.8241 - val_recall_9: 0.0000e+00 - val_precision_9: 0.0000e+00 - val_auc_6: 0.9482\n",
      "Epoch 4/10\n",
      "100/100 [==============================] - 2s 19ms/step - loss: 1.1670 - accuracy: 0.8407 - recall_9: 0.0000e+00 - precision_9: 0.0000e+00 - auc_6: 0.9491 - val_loss: 1.1230 - val_accuracy: 0.8656 - val_recall_9: 0.0000e+00 - val_precision_9: 0.0000e+00 - val_auc_6: 0.9632\n",
      "Epoch 5/10\n",
      "100/100 [==============================] - 2s 19ms/step - loss: 1.1006 - accuracy: 0.8558 - recall_9: 0.0000e+00 - precision_9: 0.0000e+00 - auc_6: 0.9599 - val_loss: 1.0569 - val_accuracy: 0.8907 - val_recall_9: 0.0000e+00 - val_precision_9: 0.0000e+00 - val_auc_6: 0.9721\n",
      "Epoch 6/10\n",
      "100/100 [==============================] - 2s 18ms/step - loss: 1.0364 - accuracy: 0.8715 - recall_9: 0.0141 - precision_9: 1.0000 - auc_6: 0.9658 - val_loss: 0.9922 - val_accuracy: 0.8844 - val_recall_9: 0.0477 - val_precision_9: 1.0000 - val_auc_6: 0.9761\n",
      "Epoch 7/10\n",
      "100/100 [==============================] - 2s 20ms/step - loss: 0.9722 - accuracy: 0.8815 - recall_9: 0.1135 - precision_9: 1.0000 - auc_6: 0.9699 - val_loss: 0.9271 - val_accuracy: 0.8920 - val_recall_9: 0.1884 - val_precision_9: 1.0000 - val_auc_6: 0.9784\n",
      "Epoch 8/10\n",
      "100/100 [==============================] - 2s 20ms/step - loss: 0.9111 - accuracy: 0.8856 - recall_9: 0.2131 - precision_9: 1.0000 - auc_6: 0.9734 - val_loss: 0.8686 - val_accuracy: 0.8995 - val_recall_9: 0.2651 - val_precision_9: 1.0000 - val_auc_6: 0.9806\n",
      "Epoch 9/10\n",
      "100/100 [==============================] - 2s 22ms/step - loss: 0.8556 - accuracy: 0.8909 - recall_9: 0.2747 - precision_9: 0.9966 - auc_6: 0.9752 - val_loss: 0.8154 - val_accuracy: 0.9045 - val_recall_9: 0.3304 - val_precision_9: 1.0000 - val_auc_6: 0.9824\n",
      "Epoch 10/10\n",
      "100/100 [==============================] - 2s 21ms/step - loss: 0.8048 - accuracy: 0.8979 - recall_9: 0.3416 - precision_9: 0.9972 - auc_6: 0.9776 - val_loss: 0.7660 - val_accuracy: 0.9058 - val_recall_9: 0.4133 - val_precision_9: 1.0000 - val_auc_6: 0.9838\n"
     ]
    }
   ],
   "source": [
    "history = model.fit(jd_train_X, jd_train_y, epochs=10, validation_steps=30, validation_data=(jd_test_X, jd_test_y))"
   ],
   "metadata": {
    "collapsed": false,
    "pycharm": {
     "name": "#%%\n"
    }
   }
  },
  {
   "cell_type": "code",
   "execution_count": 104,
   "outputs": [
    {
     "data": {
      "text/plain": "(0.0, 1.39409938454628)"
     },
     "execution_count": 104,
     "metadata": {},
     "output_type": "execute_result"
    },
    {
     "data": {
      "text/plain": "<Figure size 1152x576 with 2 Axes>",
      "image/png": "[encoded data removed]"
     },
     "metadata": {
      "needs_background": "light"
     },
     "output_type": "display_data"
    }
   ],
   "source": [
    "plt.figure(figsize=(16, 8))\n",
    "plt.subplot(1, 2, 1)\n",
    "plot_graphs(history, 'accuracy')\n",
    "plt.ylim(None, 1)\n",
    "plt.subplot(1, 2, 2)\n",
    "plot_graphs(history, 'loss')\n",
    "plt.ylim(0, None)"
   ],
   "metadata": {
    "collapsed": false,
    "pycharm": {
     "name": "#%%\n"
    }
   }
  },
  {
   "cell_type": "markdown",
   "source": [],
   "metadata": {
    "collapsed": false,
    "pycharm": {
     "name": "#%% md\n"
    }
   }
  },
  {
   "cell_type": "code",
   "execution_count": 105,
   "outputs": [],
   "source": [
    "model.save(\"tf_models/dnn_easy_embed.h5\")"
   ],
   "metadata": {
    "collapsed": false,
    "pycharm": {
     "name": "#%%\n"
    }
   }
  },
  {
   "cell_type": "markdown",
   "source": [
    "### Hard Dataset"
   ],
   "metadata": {
    "collapsed": false,
    "pycharm": {
     "name": "#%% md\n"
    }
   }
  },
  {
   "cell_type": "code",
   "execution_count": 106,
   "outputs": [],
   "source": [
    "is_working_with_easy_dataset = False"
   ],
   "metadata": {
    "collapsed": false,
    "pycharm": {
     "name": "#%%\n"
    }
   }
  },
  {
   "cell_type": "code",
   "execution_count": 107,
   "outputs": [],
   "source": [
    "if is_working_with_easy_dataset:\n",
    "    input_train_filename = \"embedding_easy_train.csv\"\n",
    "    input_test_filename = \"embedding_easy_test.csv\"\n",
    "else:\n",
    "    input_train_filename = \"embedding_difficult_train.csv\"\n",
    "    input_test_filename = \"embedding_difficult_test.csv\"\n",
    "\n",
    "jd_train = pd.read_csv(input_train_filename, keep_default_na=False)\n",
    "jd_test = pd.read_csv(input_test_filename, keep_default_na=False)"
   ],
   "metadata": {
    "collapsed": false,
    "pycharm": {
     "name": "#%%\n"
    }
   }
  },
  {
   "cell_type": "code",
   "execution_count": 108,
   "outputs": [
    {
     "data": {
      "text/plain": "               category         0         1         2         3         4  \\\n0     software+engineer -0.067028 -0.037456  0.040710 -0.022643 -0.065919   \n1     software+engineer -0.049825 -0.026897 -0.014653 -0.045330 -0.002588   \n2     software+engineer -0.109452 -0.018895 -0.011882 -0.049141 -0.065425   \n3                 ui+ux -0.059268  0.002888  0.038257  0.000755 -0.040839   \n4                 ui+ux -0.012034  0.015511 -0.003249 -0.078507  0.065040   \n...                 ...       ...       ...       ...       ...       ...   \n3175  software+engineer -0.079604  0.007492 -0.051706 -0.099018 -0.030773   \n3176     cyber+security -0.037670  0.031925 -0.013679 -0.005070  0.021368   \n3177              ui+ux -0.025617  0.061029 -0.011124 -0.026316 -0.066101   \n3178       data+analyst -0.060959 -0.039796 -0.022763 -0.039479 -0.041932   \n3179       data+analyst -0.017951 -0.031278 -0.015457  0.017326 -0.034570   \n\n             5         6         7         8  ...       374       375  \\\n0    -0.011505  0.014374  0.070613 -0.072635  ...  0.073042 -0.004869   \n1    -0.085351 -0.020295 -0.026342 -0.046522  ...  0.153783  0.060030   \n2    -0.020879  0.020536  0.049572 -0.068171  ...  0.067979  0.060650   \n3     0.018103  0.136779  0.048689 -0.019846  ... -0.003655  0.047657   \n4    -0.028536 -0.031559  0.013882  0.022090  ...  0.019392  0.086536   \n...        ...       ...       ...       ...  ...       ...       ...   \n3175 -0.024738 -0.015718  0.143318  0.023419  ...  0.076493  0.073352   \n3176  0.001775  0.096207  0.094450 -0.042398  ...  0.044399  0.110647   \n3177 -0.050747 -0.006923  0.085535 -0.037942  ...  0.042129  0.081157   \n3178 -0.040012  0.063920  0.067434  0.023722  ...  0.052077  0.101755   \n3179 -0.012818 -0.020433  0.001288  0.007926  ...  0.030684  0.057024   \n\n           376       377       378       379       380       381       382  \\\n0    -0.012730 -0.012608  0.025585  0.136745  0.038581 -0.099147  0.001722   \n1     0.053321 -0.115148  0.043106  0.170601 -0.040410 -0.039290  0.035469   \n2     0.008373 -0.073202  0.039430  0.084493 -0.058907  0.041129 -0.041035   \n3     0.028251 -0.037878  0.034004  0.074488  0.008779 -0.027154 -0.012630   \n4    -0.006240  0.011584 -0.047290  0.095525 -0.002575 -0.077631 -0.090518   \n...        ...       ...       ...       ...       ...       ...       ...   \n3175  0.047936 -0.024901  0.018558 -0.000389  0.032267 -0.109857  0.065948   \n3176  0.002972 -0.029953  0.052398  0.080780  0.036664 -0.094719 -0.029790   \n3177  0.015721 -0.066116  0.042122  0.063814  0.002575 -0.027617  0.005385   \n3178 -0.004031 -0.010030  0.046817  0.042863 -0.059085 -0.064276 -0.031612   \n3179 -0.009746 -0.048416  0.061078  0.028161 -0.053376 -0.056979 -0.037093   \n\n           383  \n0     0.032735  \n1     0.022973  \n2    -0.106831  \n3     0.000571  \n4     0.043476  \n...        ...  \n3175  0.012895  \n3176 -0.003033  \n3177  0.017316  \n3178 -0.012527  \n3179 -0.006811  \n\n[3180 rows x 385 columns]",
      "text/html": "<div>\n<style scoped>\n    .dataframe tbody tr th:only-of-type {\n        vertical-align: middle;\n    }\n\n    .dataframe tbody tr th {\n        vertical-align: top;\n    }\n\n    .dataframe thead th {\n        text-align: right;\n    }\n</style>\n<table border=\"1\" class=\"dataframe\">\n  <thead>\n    <tr style=\"text-align: right;\">\n      <th></th>\n      <th>category</th>\n      <th>0</th>\n      <th>1</th>\n      <th>2</th>\n      <th>3</th>\n      <th>4</th>\n      <th>5</th>\n      <th>6</th>\n      <th>7</th>\n      <th>8</th>\n      <th>...</th>\n      <th>374</th>\n      <th>375</th>\n      <th>376</th>\n      <th>377</th>\n      <th>378</th>\n      <th>379</th>\n      <th>380</th>\n      <th>381</th>\n      <th>382</th>\n      <th>383</th>\n    </tr>\n  </thead>\n  <tbody>\n    <tr>\n      <th>0</th>\n      <td>software+engineer</td>\n      <td>-0.067028</td>\n      <td>-0.037456</td>\n      <td>0.040710</td>\n      <td>-0.022643</td>\n      <td>-0.065919</td>\n      <td>-0.011505</td>\n      <td>0.014374</td>\n      <td>0.070613</td>\n      <td>-0.072635</td>\n      <td>...</td>\n      <td>0.073042</td>\n      <td>-0.004869</td>\n      <td>-0.012730</td>\n      <td>-0.012608</td>\n      <td>0.025585</td>\n      <td>0.136745</td>\n      <td>0.038581</td>\n      <td>-0.099147</td>\n      <td>0.001722</td>\n      <td>0.032735</td>\n    </tr>\n    <tr>\n      <th>1</th>\n      <td>software+engineer</td>\n      <td>-0.049825</td>\n      <td>-0.026897</td>\n      <td>-0.014653</td>\n      <td>-0.045330</td>\n      <td>-0.002588</td>\n      <td>-0.085351</td>\n      <td>-0.020295</td>\n      <td>-0.026342</td>\n      <td>-0.046522</td>\n      <td>...</td>\n      <td>0.153783</td>\n      <td>0.060030</td>\n      <td>0.053321</td>\n      <td>-0.115148</td>\n      <td>0.043106</td>\n      <td>0.170601</td>\n      <td>-0.040410</td>\n      <td>-0.039290</td>\n      <td>0.035469</td>\n      <td>0.022973</td>\n    </tr>\n    <tr>\n      <th>2</th>\n      <td>software+engineer</td>\n      <td>-0.109452</td>\n      <td>-0.018895</td>\n      <td>-0.011882</td>\n      <td>-0.049141</td>\n      <td>-0.065425</td>\n      <td>-0.020879</td>\n      <td>0.020536</td>\n      <td>0.049572</td>\n      <td>-0.068171</td>\n      <td>...</td>\n      <td>0.067979</td>\n      <td>0.060650</td>\n      <td>0.008373</td>\n      <td>-0.073202</td>\n      <td>0.039430</td>\n      <td>0.084493</td>\n      <td>-0.058907</td>\n      <td>0.041129</td>\n      <td>-0.041035</td>\n      <td>-0.106831</td>\n    </tr>\n    <tr>\n      <th>3</th>\n      <td>ui+ux</td>\n      <td>-0.059268</td>\n      <td>0.002888</td>\n      <td>0.038257</td>\n      <td>0.000755</td>\n      <td>-0.040839</td>\n      <td>0.018103</td>\n      <td>0.136779</td>\n      <td>0.048689</td>\n      <td>-0.019846</td>\n      <td>...</td>\n      <td>-0.003655</td>\n      <td>0.047657</td>\n      <td>0.028251</td>\n      <td>-0.037878</td>\n      <td>0.034004</td>\n      <td>0.074488</td>\n      <td>0.008779</td>\n      <td>-0.027154</td>\n      <td>-0.012630</td>\n      <td>0.000571</td>\n    </tr>\n    <tr>\n      <th>4</th>\n      <td>ui+ux</td>\n      <td>-0.012034</td>\n      <td>0.015511</td>\n      <td>-0.003249</td>\n      <td>-0.078507</td>\n      <td>0.065040</td>\n      <td>-0.028536</td>\n      <td>-0.031559</td>\n      <td>0.013882</td>\n      <td>0.022090</td>\n      <td>...</td>\n      <td>0.019392</td>\n      <td>0.086536</td>\n      <td>-0.006240</td>\n      <td>0.011584</td>\n      <td>-0.047290</td>\n      <td>0.095525</td>\n      <td>-0.002575</td>\n      <td>-0.077631</td>\n      <td>-0.090518</td>\n      <td>0.043476</td>\n    </tr>\n    <tr>\n      <th>...</th>\n      <td>...</td>\n      <td>...</td>\n      <td>...</td>\n      <td>...</td>\n      <td>...</td>\n      <td>...</td>\n      <td>...</td>\n      <td>...</td>\n      <td>...</td>\n      <td>...</td>\n      <td>...</td>\n      <td>...</td>\n      <td>...</td>\n      <td>...</td>\n      <td>...</td>\n      <td>...</td>\n      <td>...</td>\n      <td>...</td>\n      <td>...</td>\n      <td>...</td>\n      <td>...</td>\n    </tr>\n    <tr>\n      <th>3175</th>\n      <td>software+engineer</td>\n      <td>-0.079604</td>\n      <td>0.007492</td>\n      <td>-0.051706</td>\n      <td>-0.099018</td>\n      <td>-0.030773</td>\n      <td>-0.024738</td>\n      <td>-0.015718</td>\n      <td>0.143318</td>\n      <td>0.023419</td>\n      <td>...</td>\n      <td>0.076493</td>\n      <td>0.073352</td>\n      <td>0.047936</td>\n      <td>-0.024901</td>\n      <td>0.018558</td>\n      <td>-0.000389</td>\n      <td>0.032267</td>\n      <td>-0.109857</td>\n      <td>0.065948</td>\n      <td>0.012895</td>\n    </tr>\n    <tr>\n      <th>3176</th>\n      <td>cyber+security</td>\n      <td>-0.037670</td>\n      <td>0.031925</td>\n      <td>-0.013679</td>\n      <td>-0.005070</td>\n      <td>0.021368</td>\n      <td>0.001775</td>\n      <td>0.096207</td>\n      <td>0.094450</td>\n      <td>-0.042398</td>\n      <td>...</td>\n      <td>0.044399</td>\n      <td>0.110647</td>\n      <td>0.002972</td>\n      <td>-0.029953</td>\n      <td>0.052398</td>\n      <td>0.080780</td>\n      <td>0.036664</td>\n      <td>-0.094719</td>\n      <td>-0.029790</td>\n      <td>-0.003033</td>\n    </tr>\n    <tr>\n      <th>3177</th>\n      <td>ui+ux</td>\n      <td>-0.025617</td>\n      <td>0.061029</td>\n      <td>-0.011124</td>\n      <td>-0.026316</td>\n      <td>-0.066101</td>\n      <td>-0.050747</td>\n      <td>-0.006923</td>\n      <td>0.085535</td>\n      <td>-0.037942</td>\n      <td>...</td>\n      <td>0.042129</td>\n      <td>0.081157</td>\n      <td>0.015721</td>\n      <td>-0.066116</td>\n      <td>0.042122</td>\n      <td>0.063814</td>\n      <td>0.002575</td>\n      <td>-0.027617</td>\n      <td>0.005385</td>\n      <td>0.017316</td>\n    </tr>\n    <tr>\n      <th>3178</th>\n      <td>data+analyst</td>\n      <td>-0.060959</td>\n      <td>-0.039796</td>\n      <td>-0.022763</td>\n      <td>-0.039479</td>\n      <td>-0.041932</td>\n      <td>-0.040012</td>\n      <td>0.063920</td>\n      <td>0.067434</td>\n      <td>0.023722</td>\n      <td>...</td>\n      <td>0.052077</td>\n      <td>0.101755</td>\n      <td>-0.004031</td>\n      <td>-0.010030</td>\n      <td>0.046817</td>\n      <td>0.042863</td>\n      <td>-0.059085</td>\n      <td>-0.064276</td>\n      <td>-0.031612</td>\n      <td>-0.012527</td>\n    </tr>\n    <tr>\n      <th>3179</th>\n      <td>data+analyst</td>\n      <td>-0.017951</td>\n      <td>-0.031278</td>\n      <td>-0.015457</td>\n      <td>0.017326</td>\n      <td>-0.034570</td>\n      <td>-0.012818</td>\n      <td>-0.020433</td>\n      <td>0.001288</td>\n      <td>0.007926</td>\n      <td>...</td>\n      <td>0.030684</td>\n      <td>0.057024</td>\n      <td>-0.009746</td>\n      <td>-0.048416</td>\n      <td>0.061078</td>\n      <td>0.028161</td>\n      <td>-0.053376</td>\n      <td>-0.056979</td>\n      <td>-0.037093</td>\n      <td>-0.006811</td>\n    </tr>\n  </tbody>\n</table>\n<p>3180 rows × 385 columns</p>\n</div>"
     },
     "execution_count": 108,
     "metadata": {},
     "output_type": "execute_result"
    }
   ],
   "source": [
    "jd_train"
   ],
   "metadata": {
    "collapsed": false,
    "pycharm": {
     "name": "#%%\n"
    }
   }
  },
  {
   "cell_type": "code",
   "execution_count": 109,
   "outputs": [
    {
     "data": {
      "text/plain": "              category         0         1         2         3         4  \\\n0         data+analyst -0.067792 -0.039427 -0.044609  0.047954 -0.020255   \n1       cyber+security -0.031839 -0.009482 -0.023652 -0.019206  0.044170   \n2    software+engineer  0.000286  0.063366  0.006427 -0.068235  0.004449   \n3                ui+ux -0.057650  0.055610  0.026229 -0.047242 -0.035953   \n4                ui+ux -0.089035 -0.014104 -0.008340 -0.051578  0.020056   \n..                 ...       ...       ...       ...       ...       ...   \n790  software+engineer -0.022442 -0.005181  0.047044  0.003137  0.017104   \n791     cyber+security -0.055603  0.017493 -0.050230  0.006790  0.034947   \n792              ui+ux -0.015606 -0.037002 -0.006399 -0.027400  0.058740   \n793              ui+ux -0.106446 -0.016218  0.035964  0.002867  0.038787   \n794              ui+ux -0.119767 -0.027863  0.033039 -0.004046 -0.002165   \n\n            5         6         7         8  ...       374       375  \\\n0    0.046215  0.005775  0.025648 -0.049265  ... -0.005009  0.040230   \n1   -0.014529  0.033187  0.019848 -0.066667  ...  0.024783  0.006127   \n2   -0.010305  0.060434 -0.016027 -0.025250  ...  0.045451  0.042614   \n3   -0.046720  0.011318  0.081929 -0.048681  ...  0.061916  0.065591   \n4   -0.007032  0.044202  0.059013 -0.116712  ...  0.083643  0.001030   \n..        ...       ...       ...       ...  ...       ...       ...   \n790 -0.020445  0.032614 -0.009681 -0.021284  ...  0.108325  0.032602   \n791 -0.006445  0.067512 -0.005287  0.004463  ...  0.098699  0.018417   \n792  0.011265 -0.012748  0.020038 -0.022678  ... -0.017598  0.006824   \n793 -0.028620 -0.006793  0.039116 -0.063164  ...  0.030134  0.044736   \n794  0.016785  0.023750  0.040013 -0.031279  ... -0.030258  0.015186   \n\n          376       377       378       379       380       381       382  \\\n0   -0.025145  0.057344 -0.027139  0.044581  0.021295 -0.058819 -0.034744   \n1    0.019935 -0.044377  0.023766  0.079525  0.047992 -0.133125 -0.075094   \n2    0.058757 -0.078012  0.074350  0.160043  0.063957 -0.004549 -0.031632   \n3    0.013310 -0.060660  0.049816  0.041116 -0.045918  0.072459  0.037671   \n4    0.027071 -0.058678  0.040474  0.126645  0.022273 -0.124107 -0.037943   \n..        ...       ...       ...       ...       ...       ...       ...   \n790  0.049168 -0.024625 -0.012232  0.204267  0.024259 -0.055909 -0.024037   \n791  0.038070 -0.059501  0.065384  0.033054  0.055798 -0.029429  0.001252   \n792  0.028923  0.071740  0.012084  0.054748  0.011543 -0.043361 -0.041390   \n793  0.027246 -0.002019  0.009813  0.096749  0.042344 -0.058779 -0.027651   \n794 -0.003770 -0.005208  0.043938  0.073137  0.088555 -0.057850 -0.074761   \n\n          383  \n0    0.034043  \n1    0.007815  \n2    0.029312  \n3    0.065580  \n4    0.056573  \n..        ...  \n790  0.020142  \n791 -0.026993  \n792 -0.008505  \n793  0.083697  \n794 -0.016623  \n\n[795 rows x 385 columns]",
      "text/html": "<div>\n<style scoped>\n    .dataframe tbody tr th:only-of-type {\n        vertical-align: middle;\n    }\n\n    .dataframe tbody tr th {\n        vertical-align: top;\n    }\n\n    .dataframe thead th {\n        text-align: right;\n    }\n</style>\n<table border=\"1\" class=\"dataframe\">\n  <thead>\n    <tr style=\"text-align: right;\">\n      <th></th>\n      <th>category</th>\n      <th>0</th>\n      <th>1</th>\n      <th>2</th>\n      <th>3</th>\n      <th>4</th>\n      <th>5</th>\n      <th>6</th>\n      <th>7</th>\n      <th>8</th>\n      <th>...</th>\n      <th>374</th>\n      <th>375</th>\n      <th>376</th>\n      <th>377</th>\n      <th>378</th>\n      <th>379</th>\n      <th>380</th>\n      <th>381</th>\n      <th>382</th>\n      <th>383</th>\n    </tr>\n  </thead>\n  <tbody>\n    <tr>\n      <th>0</th>\n      <td>data+analyst</td>\n      <td>-0.067792</td>\n      <td>-0.039427</td>\n      <td>-0.044609</td>\n      <td>0.047954</td>\n      <td>-0.020255</td>\n      <td>0.046215</td>\n      <td>0.005775</td>\n      <td>0.025648</td>\n      <td>-0.049265</td>\n      <td>...</td>\n      <td>-0.005009</td>\n      <td>0.040230</td>\n      <td>-0.025145</td>\n      <td>0.057344</td>\n      <td>-0.027139</td>\n      <td>0.044581</td>\n      <td>0.021295</td>\n      <td>-0.058819</td>\n      <td>-0.034744</td>\n      <td>0.034043</td>\n    </tr>\n    <tr>\n      <th>1</th>\n      <td>cyber+security</td>\n      <td>-0.031839</td>\n      <td>-0.009482</td>\n      <td>-0.023652</td>\n      <td>-0.019206</td>\n      <td>0.044170</td>\n      <td>-0.014529</td>\n      <td>0.033187</td>\n      <td>0.019848</td>\n      <td>-0.066667</td>\n      <td>...</td>\n      <td>0.024783</td>\n      <td>0.006127</td>\n      <td>0.019935</td>\n      <td>-0.044377</td>\n      <td>0.023766</td>\n      <td>0.079525</td>\n      <td>0.047992</td>\n      <td>-0.133125</td>\n      <td>-0.075094</td>\n      <td>0.007815</td>\n    </tr>\n    <tr>\n      <th>2</th>\n      <td>software+engineer</td>\n      <td>0.000286</td>\n      <td>0.063366</td>\n      <td>0.006427</td>\n      <td>-0.068235</td>\n      <td>0.004449</td>\n      <td>-0.010305</td>\n      <td>0.060434</td>\n      <td>-0.016027</td>\n      <td>-0.025250</td>\n      <td>...</td>\n      <td>0.045451</td>\n      <td>0.042614</td>\n      <td>0.058757</td>\n      <td>-0.078012</td>\n      <td>0.074350</td>\n      <td>0.160043</td>\n      <td>0.063957</td>\n      <td>-0.004549</td>\n      <td>-0.031632</td>\n      <td>0.029312</td>\n    </tr>\n    <tr>\n      <th>3</th>\n      <td>ui+ux</td>\n      <td>-0.057650</td>\n      <td>0.055610</td>\n      <td>0.026229</td>\n      <td>-0.047242</td>\n      <td>-0.035953</td>\n      <td>-0.046720</td>\n      <td>0.011318</td>\n      <td>0.081929</td>\n      <td>-0.048681</td>\n      <td>...</td>\n      <td>0.061916</td>\n      <td>0.065591</td>\n      <td>0.013310</td>\n      <td>-0.060660</td>\n      <td>0.049816</td>\n      <td>0.041116</td>\n      <td>-0.045918</td>\n      <td>0.072459</td>\n      <td>0.037671</td>\n      <td>0.065580</td>\n    </tr>\n    <tr>\n      <th>4</th>\n      <td>ui+ux</td>\n      <td>-0.089035</td>\n      <td>-0.014104</td>\n      <td>-0.008340</td>\n      <td>-0.051578</td>\n      <td>0.020056</td>\n      <td>-0.007032</td>\n      <td>0.044202</td>\n      <td>0.059013</td>\n      <td>-0.116712</td>\n      <td>...</td>\n      <td>0.083643</td>\n      <td>0.001030</td>\n      <td>0.027071</td>\n      <td>-0.058678</td>\n      <td>0.040474</td>\n      <td>0.126645</td>\n      <td>0.022273</td>\n      <td>-0.124107</td>\n      <td>-0.037943</td>\n      <td>0.056573</td>\n    </tr>\n    <tr>\n      <th>...</th>\n      <td>...</td>\n      <td>...</td>\n      <td>...</td>\n      <td>...</td>\n      <td>...</td>\n      <td>...</td>\n      <td>...</td>\n      <td>...</td>\n      <td>...</td>\n      <td>...</td>\n      <td>...</td>\n      <td>...</td>\n      <td>...</td>\n      <td>...</td>\n      <td>...</td>\n      <td>...</td>\n      <td>...</td>\n      <td>...</td>\n      <td>...</td>\n      <td>...</td>\n      <td>...</td>\n    </tr>\n    <tr>\n      <th>790</th>\n      <td>software+engineer</td>\n      <td>-0.022442</td>\n      <td>-0.005181</td>\n      <td>0.047044</td>\n      <td>0.003137</td>\n      <td>0.017104</td>\n      <td>-0.020445</td>\n      <td>0.032614</td>\n      <td>-0.009681</td>\n      <td>-0.021284</td>\n      <td>...</td>\n      <td>0.108325</td>\n      <td>0.032602</td>\n      <td>0.049168</td>\n      <td>-0.024625</td>\n      <td>-0.012232</td>\n      <td>0.204267</td>\n      <td>0.024259</td>\n      <td>-0.055909</td>\n      <td>-0.024037</td>\n      <td>0.020142</td>\n    </tr>\n    <tr>\n      <th>791</th>\n      <td>cyber+security</td>\n      <td>-0.055603</td>\n      <td>0.017493</td>\n      <td>-0.050230</td>\n      <td>0.006790</td>\n      <td>0.034947</td>\n      <td>-0.006445</td>\n      <td>0.067512</td>\n      <td>-0.005287</td>\n      <td>0.004463</td>\n      <td>...</td>\n      <td>0.098699</td>\n      <td>0.018417</td>\n      <td>0.038070</td>\n      <td>-0.059501</td>\n      <td>0.065384</td>\n      <td>0.033054</td>\n      <td>0.055798</td>\n      <td>-0.029429</td>\n      <td>0.001252</td>\n      <td>-0.026993</td>\n    </tr>\n    <tr>\n      <th>792</th>\n      <td>ui+ux</td>\n      <td>-0.015606</td>\n      <td>-0.037002</td>\n      <td>-0.006399</td>\n      <td>-0.027400</td>\n      <td>0.058740</td>\n      <td>0.011265</td>\n      <td>-0.012748</td>\n      <td>0.020038</td>\n      <td>-0.022678</td>\n      <td>...</td>\n      <td>-0.017598</td>\n      <td>0.006824</td>\n      <td>0.028923</td>\n      <td>0.071740</td>\n      <td>0.012084</td>\n      <td>0.054748</td>\n      <td>0.011543</td>\n      <td>-0.043361</td>\n      <td>-0.041390</td>\n      <td>-0.008505</td>\n    </tr>\n    <tr>\n      <th>793</th>\n      <td>ui+ux</td>\n      <td>-0.106446</td>\n      <td>-0.016218</td>\n      <td>0.035964</td>\n      <td>0.002867</td>\n      <td>0.038787</td>\n      <td>-0.028620</td>\n      <td>-0.006793</td>\n      <td>0.039116</td>\n      <td>-0.063164</td>\n      <td>...</td>\n      <td>0.030134</td>\n      <td>0.044736</td>\n      <td>0.027246</td>\n      <td>-0.002019</td>\n      <td>0.009813</td>\n      <td>0.096749</td>\n      <td>0.042344</td>\n      <td>-0.058779</td>\n      <td>-0.027651</td>\n      <td>0.083697</td>\n    </tr>\n    <tr>\n      <th>794</th>\n      <td>ui+ux</td>\n      <td>-0.119767</td>\n      <td>-0.027863</td>\n      <td>0.033039</td>\n      <td>-0.004046</td>\n      <td>-0.002165</td>\n      <td>0.016785</td>\n      <td>0.023750</td>\n      <td>0.040013</td>\n      <td>-0.031279</td>\n      <td>...</td>\n      <td>-0.030258</td>\n      <td>0.015186</td>\n      <td>-0.003770</td>\n      <td>-0.005208</td>\n      <td>0.043938</td>\n      <td>0.073137</td>\n      <td>0.088555</td>\n      <td>-0.057850</td>\n      <td>-0.074761</td>\n      <td>-0.016623</td>\n    </tr>\n  </tbody>\n</table>\n<p>795 rows × 385 columns</p>\n</div>"
     },
     "execution_count": 109,
     "metadata": {},
     "output_type": "execute_result"
    }
   ],
   "source": [
    "jd_test"
   ],
   "metadata": {
    "collapsed": false,
    "pycharm": {
     "name": "#%%\n"
    }
   }
  },
  {
   "cell_type": "code",
   "execution_count": 110,
   "outputs": [],
   "source": [
    "jd_train_X = jd_train.iloc[:, 1:]\n",
    "jd_train_y = jd_train[[\"category\"]]\n",
    "\n",
    "jd_test_X = jd_test.iloc[:, 1:]\n",
    "jd_test_y = jd_test[[\"category\"]]"
   ],
   "metadata": {
    "collapsed": false,
    "pycharm": {
     "name": "#%%\n"
    }
   }
  },
  {
   "cell_type": "code",
   "execution_count": 111,
   "outputs": [
    {
     "data": {
      "text/plain": "category         \ncyber+security       212\nsoftware+engineer    211\nui+ux                200\ndata+analyst         172\ndtype: int64"
     },
     "execution_count": 111,
     "metadata": {},
     "output_type": "execute_result"
    }
   ],
   "source": [
    "jd_test_y.value_counts()"
   ],
   "metadata": {
    "collapsed": false,
    "pycharm": {
     "name": "#%%\n"
    }
   }
  },
  {
   "cell_type": "code",
   "execution_count": 112,
   "outputs": [],
   "source": [
    "enc = OneHotEncoder(sparse=False)\n",
    "enc.fit(jd_train_y);"
   ],
   "metadata": {
    "collapsed": false,
    "pycharm": {
     "name": "#%%\n"
    }
   }
  },
  {
   "cell_type": "code",
   "execution_count": 113,
   "outputs": [],
   "source": [
    "jd_train_y = enc.transform(jd_train_y)\n",
    "jd_test_y = enc.transform(jd_test_y)"
   ],
   "metadata": {
    "collapsed": false,
    "pycharm": {
     "name": "#%%\n"
    }
   }
  },
  {
   "cell_type": "code",
   "execution_count": 114,
   "outputs": [],
   "source": [
    "model = tf.keras.Sequential([\n",
    "    tf.keras.layers.Dense(16, activation='relu'),\n",
    "    tf.keras.layers.Dense(4, activation='softmax')\n",
    "])"
   ],
   "metadata": {
    "collapsed": false,
    "pycharm": {
     "name": "#%%\n"
    }
   }
  },
  {
   "cell_type": "code",
   "execution_count": 117,
   "outputs": [],
   "source": [
    "model.compile(loss=tf.keras.losses.CategoricalCrossentropy(),\n",
    "              optimizer=tf.keras.optimizers.Adam(1e-4),\n",
    "              metrics=['accuracy', tf.keras.metrics.Recall(), tf.keras.metrics.Precision(), tf.keras.metrics.AUC()])"
   ],
   "metadata": {
    "collapsed": false,
    "pycharm": {
     "name": "#%%\n"
    }
   }
  },
  {
   "cell_type": "code",
   "execution_count": 118,
   "outputs": [
    {
     "name": "stdout",
     "output_type": "stream",
     "text": [
      "Epoch 1/10\n"
     ]
    },
    {
     "name": "stderr",
     "output_type": "stream",
     "text": [
      "2023-04-03 22:43:36.316442: I tensorflow/core/grappler/optimizers/custom_graph_optimizer_registry.cc:113] Plugin optimizer for device_type GPU is enabled.\n"
     ]
    },
    {
     "name": "stdout",
     "output_type": "stream",
     "text": [
      "100/100 [==============================] - ETA: 0s - loss: 0.3948 - accuracy: 0.9075 - recall_11: 0.8453 - precision_11: 0.9376 - auc_8: 0.9836"
     ]
    },
    {
     "name": "stderr",
     "output_type": "stream",
     "text": [
      "2023-04-03 22:43:38.466973: I tensorflow/core/grappler/optimizers/custom_graph_optimizer_registry.cc:113] Plugin optimizer for device_type GPU is enabled.\n"
     ]
    },
    {
     "name": "stdout",
     "output_type": "stream",
     "text": [
      "100/100 [==============================] - 3s 27ms/step - loss: 0.3948 - accuracy: 0.9075 - recall_11: 0.8453 - precision_11: 0.9376 - auc_8: 0.9836 - val_loss: 0.3937 - val_accuracy: 0.8943 - val_recall_11: 0.8465 - val_precision_11: 0.9296 - val_auc_8: 0.9828\n",
      "Epoch 2/10\n",
      "100/100 [==============================] - 2s 19ms/step - loss: 0.3867 - accuracy: 0.9097 - recall_11: 0.8513 - precision_11: 0.9360 - auc_8: 0.9840 - val_loss: 0.3867 - val_accuracy: 0.8943 - val_recall_11: 0.8629 - val_precision_11: 0.9233 - val_auc_8: 0.9831\n",
      "Epoch 3/10\n",
      "100/100 [==============================] - 2s 19ms/step - loss: 0.3790 - accuracy: 0.9097 - recall_11: 0.8610 - precision_11: 0.9361 - auc_8: 0.9843 - val_loss: 0.3798 - val_accuracy: 0.8956 - val_recall_11: 0.8654 - val_precision_11: 0.9210 - val_auc_8: 0.9834\n",
      "Epoch 4/10\n",
      "100/100 [==============================] - 2s 20ms/step - loss: 0.3718 - accuracy: 0.9094 - recall_11: 0.8660 - precision_11: 0.9371 - auc_8: 0.9847 - val_loss: 0.3739 - val_accuracy: 0.8981 - val_recall_11: 0.8730 - val_precision_11: 0.9216 - val_auc_8: 0.9836\n",
      "Epoch 5/10\n",
      "100/100 [==============================] - 2s 19ms/step - loss: 0.3651 - accuracy: 0.9116 - recall_11: 0.8752 - precision_11: 0.9361 - auc_8: 0.9850 - val_loss: 0.3676 - val_accuracy: 0.8969 - val_recall_11: 0.8717 - val_precision_11: 0.9215 - val_auc_8: 0.9839\n",
      "Epoch 6/10\n",
      "100/100 [==============================] - 2s 19ms/step - loss: 0.3586 - accuracy: 0.9097 - recall_11: 0.8770 - precision_11: 0.9356 - auc_8: 0.9853 - val_loss: 0.3623 - val_accuracy: 0.9006 - val_recall_11: 0.8742 - val_precision_11: 0.9218 - val_auc_8: 0.9842\n",
      "Epoch 7/10\n",
      "100/100 [==============================] - 2s 19ms/step - loss: 0.3523 - accuracy: 0.9110 - recall_11: 0.8786 - precision_11: 0.9366 - auc_8: 0.9857 - val_loss: 0.3567 - val_accuracy: 0.9006 - val_recall_11: 0.8742 - val_precision_11: 0.9218 - val_auc_8: 0.9845\n",
      "Epoch 8/10\n",
      "100/100 [==============================] - 2s 19ms/step - loss: 0.3466 - accuracy: 0.9113 - recall_11: 0.8802 - precision_11: 0.9361 - auc_8: 0.9860 - val_loss: 0.3518 - val_accuracy: 0.8994 - val_recall_11: 0.8730 - val_precision_11: 0.9216 - val_auc_8: 0.9847\n",
      "Epoch 9/10\n",
      "100/100 [==============================] - 2s 19ms/step - loss: 0.3410 - accuracy: 0.9101 - recall_11: 0.8843 - precision_11: 0.9355 - auc_8: 0.9864 - val_loss: 0.3473 - val_accuracy: 0.9006 - val_recall_11: 0.8742 - val_precision_11: 0.9242 - val_auc_8: 0.9848\n",
      "Epoch 10/10\n",
      "100/100 [==============================] - 2s 19ms/step - loss: 0.3357 - accuracy: 0.9104 - recall_11: 0.8855 - precision_11: 0.9377 - auc_8: 0.9866 - val_loss: 0.3430 - val_accuracy: 0.9006 - val_recall_11: 0.8755 - val_precision_11: 0.9243 - val_auc_8: 0.9850\n"
     ]
    }
   ],
   "source": [
    "history = model.fit(jd_train_X, jd_train_y, epochs=10, validation_steps=30, validation_data=(jd_test_X, jd_test_y))"
   ],
   "metadata": {
    "collapsed": false,
    "pycharm": {
     "name": "#%%\n"
    }
   }
  },
  {
   "cell_type": "code",
   "execution_count": 119,
   "outputs": [
    {
     "data": {
      "text/plain": "(0.0, 0.39777774065732957)"
     },
     "execution_count": 119,
     "metadata": {},
     "output_type": "execute_result"
    },
    {
     "data": {
      "text/plain": "<Figure size 1152x576 with 2 Axes>",
      "image/png": "[encoded data removed]"
     },
     "metadata": {
      "needs_background": "light"
     },
     "output_type": "display_data"
    }
   ],
   "source": [
    "plt.figure(figsize=(16, 8))\n",
    "plt.subplot(1, 2, 1)\n",
    "plot_graphs(history, 'accuracy')\n",
    "plt.ylim(None, 1)\n",
    "plt.subplot(1, 2, 2)\n",
    "plot_graphs(history, 'loss')\n",
    "plt.ylim(0, None)"
   ],
   "metadata": {
    "collapsed": false,
    "pycharm": {
     "name": "#%%\n"
    }
   }
  },
  {
   "cell_type": "code",
   "execution_count": 120,
   "outputs": [],
   "source": [
    "model.save(\"tf_models/dnn_hard_embed.h5\")"
   ],
   "metadata": {
    "collapsed": false,
    "pycharm": {
     "name": "#%%\n"
    }
   }
  },
  {
   "cell_type": "code",
   "execution_count": null,
   "outputs": [],
   "source": [],
   "metadata": {
    "collapsed": false,
    "pycharm": {
     "name": "#%%\n"
    }
   }
  }
 ],
 "metadata": {
  "kernelspec": {
   "display_name": "Python 3",
   "language": "python",
   "name": "python3"
  },
  "language_info": {
   "codemirror_mode": {
    "name": "ipython",
    "version": 3
   },
   "file_extension": ".py",
   "mimetype": "text/x-python",
   "name": "python",
   "nbconvert_exporter": "python",
   "pygments_lexer": "ipython3",
   "version": "3.10.8"
  },
  "orig_nbformat": 4
 },
 "nbformat": 4,
 "nbformat_minor": 2
}