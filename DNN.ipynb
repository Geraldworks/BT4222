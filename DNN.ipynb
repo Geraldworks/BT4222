{
 "cells": [
  {
   "cell_type": "code",
   "execution_count": 8,
   "metadata": {
    "pycharm": {
     "name": "#%%\n"
    }
   },
   "outputs": [],
   "source": [
    "import tensorflow as tf\n",
    "import pandas as pd\n",
    "import matplotlib.pyplot as plt\n",
    "\n",
    "from sklearn.preprocessing import OneHotEncoder"
   ]
  },
  {
   "cell_type": "code",
   "execution_count": 9,
   "outputs": [],
   "source": [
    "def plot_graphs(history, metric):\n",
    "    plt.plot(history.history[metric])\n",
    "    plt.plot(history.history['val_'+metric], '')\n",
    "    plt.xlabel(\"Epochs\")\n",
    "    plt.ylabel(metric)\n",
    "    plt.legend([metric, 'val_'+metric])"
   ],
   "metadata": {
    "collapsed": false,
    "pycharm": {
     "name": "#%%\n"
    }
   }
  },
  {
   "cell_type": "markdown",
   "source": [
    "# Start of DNN building\n",
    "\n",
    "We will first create a DNN model on the easy dataset, analyse the results, and then create the DNN model on the hard dataset"
   ],
   "metadata": {
    "collapsed": false,
    "pycharm": {
     "name": "#%% md\n"
    }
   }
  },
  {
   "cell_type": "markdown",
   "source": [
    "## Easy Dataset (Distinct Job Categories)"
   ],
   "metadata": {
    "collapsed": false,
    "pycharm": {
     "name": "#%% md\n"
    }
   }
  },
  {
   "cell_type": "code",
   "execution_count": 10,
   "outputs": [],
   "source": [
    "is_working_with_easy_dataset = True"
   ],
   "metadata": {
    "collapsed": false,
    "pycharm": {
     "name": "#%%\n"
    }
   }
  },
  {
   "cell_type": "code",
   "execution_count": 11,
   "outputs": [],
   "source": [
    "if is_working_with_easy_dataset:\n",
    "    input_train_filename = \"bag_easy_train.csv\"\n",
    "    input_test_filename = \"bag_easy_test.csv\"\n",
    "else:\n",
    "    input_train_filename = \"bag_difficult_train.csv\"\n",
    "    input_test_filename = \"bag_difficult_test.csv\""
   ],
   "metadata": {
    "collapsed": false,
    "pycharm": {
     "name": "#%%\n"
    }
   }
  },
  {
   "cell_type": "code",
   "execution_count": 12,
   "outputs": [],
   "source": [
    "jd_train = pd.read_csv(input_train_filename, keep_default_na=False)\n",
    "jd_test = pd.read_csv(input_test_filename, keep_default_na=False)"
   ],
   "metadata": {
    "collapsed": false,
    "pycharm": {
     "name": "#%%\n"
    }
   }
  },
  {
   "cell_type": "code",
   "execution_count": 13,
   "outputs": [
    {
     "data": {
      "text/plain": "               category  Human    ’  Development    design  Work  Computer  \\\n0     software+engineer    0.0  0.0          0.0  0.222604   0.0       0.0   \n1                  arts    0.0  0.0          0.0  0.102594   0.0       0.0   \n2                    hr    0.0  0.0          0.0  0.000000   0.0       0.0   \n3                  arts    0.0  0.0          0.0  0.393433   0.0       0.0   \n4                  arts    0.0  0.0          0.0  0.206635   0.0       0.0   \n...                 ...    ...  ...          ...       ...   ...       ...   \n3177  software+engineer    0.0  0.0          0.0  0.161678   0.0       0.0   \n3178              sales    0.0  0.0          0.0  0.000000   0.0       0.0   \n3179               arts    0.0  0.0          0.0  0.661753   0.0       0.0   \n3180                 hr    0.0  0.0          0.0  0.000000   0.0       0.0   \n3181                 hr    0.0  0.0          0.0  0.000000   0.0       0.0   \n\n      creative   account  communication  ...  Requirements  technical  \\\n0     0.000000  0.000000       0.000000  ...           0.0   0.281375   \n1     0.000000  0.000000       0.000000  ...           0.0   0.000000   \n2     0.000000  0.000000       0.069475  ...           0.0   0.000000   \n3     0.113493  0.000000       0.268595  ...           0.0   0.000000   \n4     0.149018  0.000000       0.088168  ...           0.0   0.000000   \n...        ...       ...            ...  ...           ...        ...   \n3177  0.000000  0.000000       0.045990  ...           0.0   0.000000   \n3178  0.000000  0.000000       0.000000  ...           0.0   0.000000   \n3179  0.286341  0.000000       0.056472  ...           0.0   0.000000   \n3180  0.000000  0.209857       0.000000  ...           0.0   0.000000   \n3181  0.000000  0.000000       0.000000  ...           0.0   0.000000   \n\n      Excellent  duty    market  knowledge  technology  business  application  \\\n0           0.0   0.0  0.000000   0.000000    0.000000  0.198413     0.118790   \n1           0.0   0.0  0.000000   0.092776    0.000000  0.000000     0.000000   \n2           0.0   0.0  0.000000   0.000000    0.000000  0.000000     0.086890   \n3           0.0   0.0  0.000000   0.071156    0.000000  0.000000     0.000000   \n4           0.0   0.0  0.000000   0.000000    0.118194  0.000000     0.000000   \n...         ...   ...       ...        ...         ...       ...          ...   \n3177        0.0   0.0  0.000000   0.048735    0.184958  0.048036     0.230073   \n3178        0.0   0.0  0.138805   0.096160    0.243296  0.000000     0.000000   \n3179        0.0   0.0  0.000000   0.059842    0.000000  0.000000     0.070627   \n3180        0.0   0.0  0.000000   0.000000    0.000000  0.000000     0.000000   \n3181        0.0   0.0  0.000000   0.182057    0.000000  0.179446     0.214869   \n\n        matter  \n0     0.000000  \n1     0.000000  \n2     0.122337  \n3     0.000000  \n4     0.077626  \n...        ...  \n3177  0.000000  \n3178  0.000000  \n3179  0.000000  \n3180  0.195725  \n3181  0.000000  \n\n[3182 rows x 117 columns]",
      "text/html": "<div>\n<style scoped>\n    .dataframe tbody tr th:only-of-type {\n        vertical-align: middle;\n    }\n\n    .dataframe tbody tr th {\n        vertical-align: top;\n    }\n\n    .dataframe thead th {\n        text-align: right;\n    }\n</style>\n<table border=\"1\" class=\"dataframe\">\n  <thead>\n    <tr style=\"text-align: right;\">\n      <th></th>\n      <th>category</th>\n      <th>Human</th>\n      <th>’</th>\n      <th>Development</th>\n      <th>design</th>\n      <th>Work</th>\n      <th>Computer</th>\n      <th>creative</th>\n      <th>account</th>\n      <th>communication</th>\n      <th>...</th>\n      <th>Requirements</th>\n      <th>technical</th>\n      <th>Excellent</th>\n      <th>duty</th>\n      <th>market</th>\n      <th>knowledge</th>\n      <th>technology</th>\n      <th>business</th>\n      <th>application</th>\n      <th>matter</th>\n    </tr>\n  </thead>\n  <tbody>\n    <tr>\n      <th>0</th>\n      <td>software+engineer</td>\n      <td>0.0</td>\n      <td>0.0</td>\n      <td>0.0</td>\n      <td>0.222604</td>\n      <td>0.0</td>\n      <td>0.0</td>\n      <td>0.000000</td>\n      <td>0.000000</td>\n      <td>0.000000</td>\n      <td>...</td>\n      <td>0.0</td>\n      <td>0.281375</td>\n      <td>0.0</td>\n      <td>0.0</td>\n      <td>0.000000</td>\n      <td>0.000000</td>\n      <td>0.000000</td>\n      <td>0.198413</td>\n      <td>0.118790</td>\n      <td>0.000000</td>\n    </tr>\n    <tr>\n      <th>1</th>\n      <td>arts</td>\n      <td>0.0</td>\n      <td>0.0</td>\n      <td>0.0</td>\n      <td>0.102594</td>\n      <td>0.0</td>\n      <td>0.0</td>\n      <td>0.000000</td>\n      <td>0.000000</td>\n      <td>0.000000</td>\n      <td>...</td>\n      <td>0.0</td>\n      <td>0.000000</td>\n      <td>0.0</td>\n      <td>0.0</td>\n      <td>0.000000</td>\n      <td>0.092776</td>\n      <td>0.000000</td>\n      <td>0.000000</td>\n      <td>0.000000</td>\n      <td>0.000000</td>\n    </tr>\n    <tr>\n      <th>2</th>\n      <td>hr</td>\n      <td>0.0</td>\n      <td>0.0</td>\n      <td>0.0</td>\n      <td>0.000000</td>\n      <td>0.0</td>\n      <td>0.0</td>\n      <td>0.000000</td>\n      <td>0.000000</td>\n      <td>0.069475</td>\n      <td>...</td>\n      <td>0.0</td>\n      <td>0.000000</td>\n      <td>0.0</td>\n      <td>0.0</td>\n      <td>0.000000</td>\n      <td>0.000000</td>\n      <td>0.000000</td>\n      <td>0.000000</td>\n      <td>0.086890</td>\n      <td>0.122337</td>\n    </tr>\n    <tr>\n      <th>3</th>\n      <td>arts</td>\n      <td>0.0</td>\n      <td>0.0</td>\n      <td>0.0</td>\n      <td>0.393433</td>\n      <td>0.0</td>\n      <td>0.0</td>\n      <td>0.113493</td>\n      <td>0.000000</td>\n      <td>0.268595</td>\n      <td>...</td>\n      <td>0.0</td>\n      <td>0.000000</td>\n      <td>0.0</td>\n      <td>0.0</td>\n      <td>0.000000</td>\n      <td>0.071156</td>\n      <td>0.000000</td>\n      <td>0.000000</td>\n      <td>0.000000</td>\n      <td>0.000000</td>\n    </tr>\n    <tr>\n      <th>4</th>\n      <td>arts</td>\n      <td>0.0</td>\n      <td>0.0</td>\n      <td>0.0</td>\n      <td>0.206635</td>\n      <td>0.0</td>\n      <td>0.0</td>\n      <td>0.149018</td>\n      <td>0.000000</td>\n      <td>0.088168</td>\n      <td>...</td>\n      <td>0.0</td>\n      <td>0.000000</td>\n      <td>0.0</td>\n      <td>0.0</td>\n      <td>0.000000</td>\n      <td>0.000000</td>\n      <td>0.118194</td>\n      <td>0.000000</td>\n      <td>0.000000</td>\n      <td>0.077626</td>\n    </tr>\n    <tr>\n      <th>...</th>\n      <td>...</td>\n      <td>...</td>\n      <td>...</td>\n      <td>...</td>\n      <td>...</td>\n      <td>...</td>\n      <td>...</td>\n      <td>...</td>\n      <td>...</td>\n      <td>...</td>\n      <td>...</td>\n      <td>...</td>\n      <td>...</td>\n      <td>...</td>\n      <td>...</td>\n      <td>...</td>\n      <td>...</td>\n      <td>...</td>\n      <td>...</td>\n      <td>...</td>\n      <td>...</td>\n    </tr>\n    <tr>\n      <th>3177</th>\n      <td>software+engineer</td>\n      <td>0.0</td>\n      <td>0.0</td>\n      <td>0.0</td>\n      <td>0.161678</td>\n      <td>0.0</td>\n      <td>0.0</td>\n      <td>0.000000</td>\n      <td>0.000000</td>\n      <td>0.045990</td>\n      <td>...</td>\n      <td>0.0</td>\n      <td>0.000000</td>\n      <td>0.0</td>\n      <td>0.0</td>\n      <td>0.000000</td>\n      <td>0.048735</td>\n      <td>0.184958</td>\n      <td>0.048036</td>\n      <td>0.230073</td>\n      <td>0.000000</td>\n    </tr>\n    <tr>\n      <th>3178</th>\n      <td>sales</td>\n      <td>0.0</td>\n      <td>0.0</td>\n      <td>0.0</td>\n      <td>0.000000</td>\n      <td>0.0</td>\n      <td>0.0</td>\n      <td>0.000000</td>\n      <td>0.000000</td>\n      <td>0.000000</td>\n      <td>...</td>\n      <td>0.0</td>\n      <td>0.000000</td>\n      <td>0.0</td>\n      <td>0.0</td>\n      <td>0.138805</td>\n      <td>0.096160</td>\n      <td>0.243296</td>\n      <td>0.000000</td>\n      <td>0.000000</td>\n      <td>0.000000</td>\n    </tr>\n    <tr>\n      <th>3179</th>\n      <td>arts</td>\n      <td>0.0</td>\n      <td>0.0</td>\n      <td>0.0</td>\n      <td>0.661753</td>\n      <td>0.0</td>\n      <td>0.0</td>\n      <td>0.286341</td>\n      <td>0.000000</td>\n      <td>0.056472</td>\n      <td>...</td>\n      <td>0.0</td>\n      <td>0.000000</td>\n      <td>0.0</td>\n      <td>0.0</td>\n      <td>0.000000</td>\n      <td>0.059842</td>\n      <td>0.000000</td>\n      <td>0.000000</td>\n      <td>0.070627</td>\n      <td>0.000000</td>\n    </tr>\n    <tr>\n      <th>3180</th>\n      <td>hr</td>\n      <td>0.0</td>\n      <td>0.0</td>\n      <td>0.0</td>\n      <td>0.000000</td>\n      <td>0.0</td>\n      <td>0.0</td>\n      <td>0.000000</td>\n      <td>0.209857</td>\n      <td>0.000000</td>\n      <td>...</td>\n      <td>0.0</td>\n      <td>0.000000</td>\n      <td>0.0</td>\n      <td>0.0</td>\n      <td>0.000000</td>\n      <td>0.000000</td>\n      <td>0.000000</td>\n      <td>0.000000</td>\n      <td>0.000000</td>\n      <td>0.195725</td>\n    </tr>\n    <tr>\n      <th>3181</th>\n      <td>hr</td>\n      <td>0.0</td>\n      <td>0.0</td>\n      <td>0.0</td>\n      <td>0.000000</td>\n      <td>0.0</td>\n      <td>0.0</td>\n      <td>0.000000</td>\n      <td>0.000000</td>\n      <td>0.000000</td>\n      <td>...</td>\n      <td>0.0</td>\n      <td>0.000000</td>\n      <td>0.0</td>\n      <td>0.0</td>\n      <td>0.000000</td>\n      <td>0.182057</td>\n      <td>0.000000</td>\n      <td>0.179446</td>\n      <td>0.214869</td>\n      <td>0.000000</td>\n    </tr>\n  </tbody>\n</table>\n<p>3182 rows × 117 columns</p>\n</div>"
     },
     "execution_count": 6,
     "metadata": {},
     "output_type": "execute_result"
    },
    {
     "data": {
      "text/plain": "               category  Human    ’  Development    design  Work  Computer  \\\n0     software+engineer    0.0  0.0          0.0  0.222604   0.0       0.0   \n1                  arts    0.0  0.0          0.0  0.102594   0.0       0.0   \n2                    hr    0.0  0.0          0.0  0.000000   0.0       0.0   \n3                  arts    0.0  0.0          0.0  0.393433   0.0       0.0   \n4                  arts    0.0  0.0          0.0  0.206635   0.0       0.0   \n...                 ...    ...  ...          ...       ...   ...       ...   \n3177  software+engineer    0.0  0.0          0.0  0.161678   0.0       0.0   \n3178              sales    0.0  0.0          0.0  0.000000   0.0       0.0   \n3179               arts    0.0  0.0          0.0  0.661753   0.0       0.0   \n3180                 hr    0.0  0.0          0.0  0.000000   0.0       0.0   \n3181                 hr    0.0  0.0          0.0  0.000000   0.0       0.0   \n\n      creative   account  communication  ...  Requirements  technical  \\\n0     0.000000  0.000000       0.000000  ...           0.0   0.281375   \n1     0.000000  0.000000       0.000000  ...           0.0   0.000000   \n2     0.000000  0.000000       0.069475  ...           0.0   0.000000   \n3     0.113493  0.000000       0.268595  ...           0.0   0.000000   \n4     0.149018  0.000000       0.088168  ...           0.0   0.000000   \n...        ...       ...            ...  ...           ...        ...   \n3177  0.000000  0.000000       0.045990  ...           0.0   0.000000   \n3178  0.000000  0.000000       0.000000  ...           0.0   0.000000   \n3179  0.286341  0.000000       0.056472  ...           0.0   0.000000   \n3180  0.000000  0.209857       0.000000  ...           0.0   0.000000   \n3181  0.000000  0.000000       0.000000  ...           0.0   0.000000   \n\n      Excellent  duty    market  knowledge  technology  business  application  \\\n0           0.0   0.0  0.000000   0.000000    0.000000  0.198413     0.118790   \n1           0.0   0.0  0.000000   0.092776    0.000000  0.000000     0.000000   \n2           0.0   0.0  0.000000   0.000000    0.000000  0.000000     0.086890   \n3           0.0   0.0  0.000000   0.071156    0.000000  0.000000     0.000000   \n4           0.0   0.0  0.000000   0.000000    0.118194  0.000000     0.000000   \n...         ...   ...       ...        ...         ...       ...          ...   \n3177        0.0   0.0  0.000000   0.048735    0.184958  0.048036     0.230073   \n3178        0.0   0.0  0.138805   0.096160    0.243296  0.000000     0.000000   \n3179        0.0   0.0  0.000000   0.059842    0.000000  0.000000     0.070627   \n3180        0.0   0.0  0.000000   0.000000    0.000000  0.000000     0.000000   \n3181        0.0   0.0  0.000000   0.182057    0.000000  0.179446     0.214869   \n\n        matter  \n0     0.000000  \n1     0.000000  \n2     0.122337  \n3     0.000000  \n4     0.077626  \n...        ...  \n3177  0.000000  \n3178  0.000000  \n3179  0.000000  \n3180  0.195725  \n3181  0.000000  \n\n[3182 rows x 117 columns]",
      "text/html": "<div>\n<style scoped>\n    .dataframe tbody tr th:only-of-type {\n        vertical-align: middle;\n    }\n\n    .dataframe tbody tr th {\n        vertical-align: top;\n    }\n\n    .dataframe thead th {\n        text-align: right;\n    }\n</style>\n<table border=\"1\" class=\"dataframe\">\n  <thead>\n    <tr style=\"text-align: right;\">\n      <th></th>\n      <th>category</th>\n      <th>Human</th>\n      <th>’</th>\n      <th>Development</th>\n      <th>design</th>\n      <th>Work</th>\n      <th>Computer</th>\n      <th>creative</th>\n      <th>account</th>\n      <th>communication</th>\n      <th>...</th>\n      <th>Requirements</th>\n      <th>technical</th>\n      <th>Excellent</th>\n      <th>duty</th>\n      <th>market</th>\n      <th>knowledge</th>\n      <th>technology</th>\n      <th>business</th>\n      <th>application</th>\n      <th>matter</th>\n    </tr>\n  </thead>\n  <tbody>\n    <tr>\n      <th>0</th>\n      <td>software+engineer</td>\n      <td>0.0</td>\n      <td>0.0</td>\n      <td>0.0</td>\n      <td>0.222604</td>\n      <td>0.0</td>\n      <td>0.0</td>\n      <td>0.000000</td>\n      <td>0.000000</td>\n      <td>0.000000</td>\n      <td>...</td>\n      <td>0.0</td>\n      <td>0.281375</td>\n      <td>0.0</td>\n      <td>0.0</td>\n      <td>0.000000</td>\n      <td>0.000000</td>\n      <td>0.000000</td>\n      <td>0.198413</td>\n      <td>0.118790</td>\n      <td>0.000000</td>\n    </tr>\n    <tr>\n      <th>1</th>\n      <td>arts</td>\n      <td>0.0</td>\n      <td>0.0</td>\n      <td>0.0</td>\n      <td>0.102594</td>\n      <td>0.0</td>\n      <td>0.0</td>\n      <td>0.000000</td>\n      <td>0.000000</td>\n      <td>0.000000</td>\n      <td>...</td>\n      <td>0.0</td>\n      <td>0.000000</td>\n      <td>0.0</td>\n      <td>0.0</td>\n      <td>0.000000</td>\n      <td>0.092776</td>\n      <td>0.000000</td>\n      <td>0.000000</td>\n      <td>0.000000</td>\n      <td>0.000000</td>\n    </tr>\n    <tr>\n      <th>2</th>\n      <td>hr</td>\n      <td>0.0</td>\n      <td>0.0</td>\n      <td>0.0</td>\n      <td>0.000000</td>\n      <td>0.0</td>\n      <td>0.0</td>\n      <td>0.000000</td>\n      <td>0.000000</td>\n      <td>0.069475</td>\n      <td>...</td>\n      <td>0.0</td>\n      <td>0.000000</td>\n      <td>0.0</td>\n      <td>0.0</td>\n      <td>0.000000</td>\n      <td>0.000000</td>\n      <td>0.000000</td>\n      <td>0.000000</td>\n      <td>0.086890</td>\n      <td>0.122337</td>\n    </tr>\n    <tr>\n      <th>3</th>\n      <td>arts</td>\n      <td>0.0</td>\n      <td>0.0</td>\n      <td>0.0</td>\n      <td>0.393433</td>\n      <td>0.0</td>\n      <td>0.0</td>\n      <td>0.113493</td>\n      <td>0.000000</td>\n      <td>0.268595</td>\n      <td>...</td>\n      <td>0.0</td>\n      <td>0.000000</td>\n      <td>0.0</td>\n      <td>0.0</td>\n      <td>0.000000</td>\n      <td>0.071156</td>\n      <td>0.000000</td>\n      <td>0.000000</td>\n      <td>0.000000</td>\n      <td>0.000000</td>\n    </tr>\n    <tr>\n      <th>4</th>\n      <td>arts</td>\n      <td>0.0</td>\n      <td>0.0</td>\n      <td>0.0</td>\n      <td>0.206635</td>\n      <td>0.0</td>\n      <td>0.0</td>\n      <td>0.149018</td>\n      <td>0.000000</td>\n      <td>0.088168</td>\n      <td>...</td>\n      <td>0.0</td>\n      <td>0.000000</td>\n      <td>0.0</td>\n      <td>0.0</td>\n      <td>0.000000</td>\n      <td>0.000000</td>\n      <td>0.118194</td>\n      <td>0.000000</td>\n      <td>0.000000</td>\n      <td>0.077626</td>\n    </tr>\n    <tr>\n      <th>...</th>\n      <td>...</td>\n      <td>...</td>\n      <td>...</td>\n      <td>...</td>\n      <td>...</td>\n      <td>...</td>\n      <td>...</td>\n      <td>...</td>\n      <td>...</td>\n      <td>...</td>\n      <td>...</td>\n      <td>...</td>\n      <td>...</td>\n      <td>...</td>\n      <td>...</td>\n      <td>...</td>\n      <td>...</td>\n      <td>...</td>\n      <td>...</td>\n      <td>...</td>\n      <td>...</td>\n    </tr>\n    <tr>\n      <th>3177</th>\n      <td>software+engineer</td>\n      <td>0.0</td>\n      <td>0.0</td>\n      <td>0.0</td>\n      <td>0.161678</td>\n      <td>0.0</td>\n      <td>0.0</td>\n      <td>0.000000</td>\n      <td>0.000000</td>\n      <td>0.045990</td>\n      <td>...</td>\n      <td>0.0</td>\n      <td>0.000000</td>\n      <td>0.0</td>\n      <td>0.0</td>\n      <td>0.000000</td>\n      <td>0.048735</td>\n      <td>0.184958</td>\n      <td>0.048036</td>\n      <td>0.230073</td>\n      <td>0.000000</td>\n    </tr>\n    <tr>\n      <th>3178</th>\n      <td>sales</td>\n      <td>0.0</td>\n      <td>0.0</td>\n      <td>0.0</td>\n      <td>0.000000</td>\n      <td>0.0</td>\n      <td>0.0</td>\n      <td>0.000000</td>\n      <td>0.000000</td>\n      <td>0.000000</td>\n      <td>...</td>\n      <td>0.0</td>\n      <td>0.000000</td>\n      <td>0.0</td>\n      <td>0.0</td>\n      <td>0.138805</td>\n      <td>0.096160</td>\n      <td>0.243296</td>\n      <td>0.000000</td>\n      <td>0.000000</td>\n      <td>0.000000</td>\n    </tr>\n    <tr>\n      <th>3179</th>\n      <td>arts</td>\n      <td>0.0</td>\n      <td>0.0</td>\n      <td>0.0</td>\n      <td>0.661753</td>\n      <td>0.0</td>\n      <td>0.0</td>\n      <td>0.286341</td>\n      <td>0.000000</td>\n      <td>0.056472</td>\n      <td>...</td>\n      <td>0.0</td>\n      <td>0.000000</td>\n      <td>0.0</td>\n      <td>0.0</td>\n      <td>0.000000</td>\n      <td>0.059842</td>\n      <td>0.000000</td>\n      <td>0.000000</td>\n      <td>0.070627</td>\n      <td>0.000000</td>\n    </tr>\n    <tr>\n      <th>3180</th>\n      <td>hr</td>\n      <td>0.0</td>\n      <td>0.0</td>\n      <td>0.0</td>\n      <td>0.000000</td>\n      <td>0.0</td>\n      <td>0.0</td>\n      <td>0.000000</td>\n      <td>0.209857</td>\n      <td>0.000000</td>\n      <td>...</td>\n      <td>0.0</td>\n      <td>0.000000</td>\n      <td>0.0</td>\n      <td>0.0</td>\n      <td>0.000000</td>\n      <td>0.000000</td>\n      <td>0.000000</td>\n      <td>0.000000</td>\n      <td>0.000000</td>\n      <td>0.195725</td>\n    </tr>\n    <tr>\n      <th>3181</th>\n      <td>hr</td>\n      <td>0.0</td>\n      <td>0.0</td>\n      <td>0.0</td>\n      <td>0.000000</td>\n      <td>0.0</td>\n      <td>0.0</td>\n      <td>0.000000</td>\n      <td>0.000000</td>\n      <td>0.000000</td>\n      <td>...</td>\n      <td>0.0</td>\n      <td>0.000000</td>\n      <td>0.0</td>\n      <td>0.0</td>\n      <td>0.000000</td>\n      <td>0.182057</td>\n      <td>0.000000</td>\n      <td>0.179446</td>\n      <td>0.214869</td>\n      <td>0.000000</td>\n    </tr>\n  </tbody>\n</table>\n<p>3182 rows × 117 columns</p>\n</div>"
     },
     "execution_count": 13,
     "metadata": {},
     "output_type": "execute_result"
    }
   ],
   "source": [
    "jd_train"
   ],
   "metadata": {
    "collapsed": false,
    "pycharm": {
     "name": "#%%\n"
    }
   }
  },
  {
   "cell_type": "code",
   "execution_count": 14,
   "outputs": [
    {
     "data": {
      "text/plain": "              category  Human    ’  Development    design  Work  Computer  \\\n0    software+engineer    0.0  0.0          0.0  0.504831   0.0       0.0   \n1                sales    0.0  0.0          0.0  0.000000   0.0       0.0   \n2                sales    0.0  0.0          0.0  0.000000   0.0       0.0   \n3                sales    0.0  0.0          0.0  0.000000   0.0       0.0   \n4                 arts    0.0  0.0          0.0  0.000000   0.0       0.0   \n..                 ...    ...  ...          ...       ...   ...       ...   \n791  software+engineer    0.0  0.0          0.0  0.096486   0.0       0.0   \n792  software+engineer    0.0  0.0          0.0  0.274670   0.0       0.0   \n793  software+engineer    0.0  0.0          0.0  0.038540   0.0       0.0   \n794                 hr    0.0  0.0          0.0  0.000000   0.0       0.0   \n795                 hr    0.0  0.0          0.0  0.000000   0.0       0.0   \n\n     creative   account  communication  ...  Requirements  technical  \\\n0    0.000000  0.000000       0.089474  ...           0.0   0.000000   \n1    0.000000  0.284994       0.000000  ...           0.0   0.000000   \n2    0.071549  0.000000       0.083948  ...           0.0   0.000000   \n3    0.000000  0.239945       0.129985  ...           0.0   0.000000   \n4    0.000000  0.000000       0.366191  ...           0.0   0.000000   \n..        ...       ...            ...  ...           ...        ...   \n791  0.000000  0.000000       0.000000  ...           0.0   0.000000   \n792  0.000000  0.000000       0.000000  ...           0.0   0.210175   \n793  0.000000  0.000000       0.000000  ...           0.0   0.000000   \n794  0.000000  0.000000       0.000000  ...           0.0   0.000000   \n795  0.178749  0.000000       0.000000  ...           0.0   0.000000   \n\n     Excellent      duty    market  knowledge  technology  business  \\\n0          0.0  0.000000  0.000000   0.370597    0.000000  0.000000   \n1          0.0  0.000000  0.000000   0.000000    0.000000  0.164661   \n2          0.0  0.000000  0.199817   0.043464    0.000000  0.089533   \n3          0.0  0.210654  0.206265   0.000000    0.000000  0.277267   \n4          0.0  0.000000  0.000000   0.068943    0.389033  0.071010   \n..         ...       ...       ...        ...         ...       ...   \n791        0.0  0.000000  0.000000   0.088538    0.111023  0.000000   \n792        0.0  0.000000  0.077249   0.050409    0.252843  0.259600   \n793        0.0  0.000000  0.000000   0.000000    0.000000  0.000000   \n794        0.0  0.180604  0.000000   0.000000    0.000000  0.000000   \n795        0.0  0.000000  0.000000   0.000000    0.000000  0.223680   \n\n     application    matter  \n0       0.000000  0.000000  \n1       0.000000  0.136495  \n2       0.000000  0.000000  \n3       0.000000  0.000000  \n4       0.000000  0.058863  \n..           ...       ...  \n791     0.000000  0.000000  \n792     0.116410  0.000000  \n793     0.122505  0.000000  \n794     0.133245  0.000000  \n795     0.000000  0.000000  \n\n[796 rows x 117 columns]",
      "text/html": "<div>\n<style scoped>\n    .dataframe tbody tr th:only-of-type {\n        vertical-align: middle;\n    }\n\n    .dataframe tbody tr th {\n        vertical-align: top;\n    }\n\n    .dataframe thead th {\n        text-align: right;\n    }\n</style>\n<table border=\"1\" class=\"dataframe\">\n  <thead>\n    <tr style=\"text-align: right;\">\n      <th></th>\n      <th>category</th>\n      <th>Human</th>\n      <th>’</th>\n      <th>Development</th>\n      <th>design</th>\n      <th>Work</th>\n      <th>Computer</th>\n      <th>creative</th>\n      <th>account</th>\n      <th>communication</th>\n      <th>...</th>\n      <th>Requirements</th>\n      <th>technical</th>\n      <th>Excellent</th>\n      <th>duty</th>\n      <th>market</th>\n      <th>knowledge</th>\n      <th>technology</th>\n      <th>business</th>\n      <th>application</th>\n      <th>matter</th>\n    </tr>\n  </thead>\n  <tbody>\n    <tr>\n      <th>0</th>\n      <td>software+engineer</td>\n      <td>0.0</td>\n      <td>0.0</td>\n      <td>0.0</td>\n      <td>0.504831</td>\n      <td>0.0</td>\n      <td>0.0</td>\n      <td>0.000000</td>\n      <td>0.000000</td>\n      <td>0.089474</td>\n      <td>...</td>\n      <td>0.0</td>\n      <td>0.000000</td>\n      <td>0.0</td>\n      <td>0.000000</td>\n      <td>0.000000</td>\n      <td>0.370597</td>\n      <td>0.000000</td>\n      <td>0.000000</td>\n      <td>0.000000</td>\n      <td>0.000000</td>\n    </tr>\n    <tr>\n      <th>1</th>\n      <td>sales</td>\n      <td>0.0</td>\n      <td>0.0</td>\n      <td>0.0</td>\n      <td>0.000000</td>\n      <td>0.0</td>\n      <td>0.0</td>\n      <td>0.000000</td>\n      <td>0.284994</td>\n      <td>0.000000</td>\n      <td>...</td>\n      <td>0.0</td>\n      <td>0.000000</td>\n      <td>0.0</td>\n      <td>0.000000</td>\n      <td>0.000000</td>\n      <td>0.000000</td>\n      <td>0.000000</td>\n      <td>0.164661</td>\n      <td>0.000000</td>\n      <td>0.136495</td>\n    </tr>\n    <tr>\n      <th>2</th>\n      <td>sales</td>\n      <td>0.0</td>\n      <td>0.0</td>\n      <td>0.0</td>\n      <td>0.000000</td>\n      <td>0.0</td>\n      <td>0.0</td>\n      <td>0.071549</td>\n      <td>0.000000</td>\n      <td>0.083948</td>\n      <td>...</td>\n      <td>0.0</td>\n      <td>0.000000</td>\n      <td>0.0</td>\n      <td>0.000000</td>\n      <td>0.199817</td>\n      <td>0.043464</td>\n      <td>0.000000</td>\n      <td>0.089533</td>\n      <td>0.000000</td>\n      <td>0.000000</td>\n    </tr>\n    <tr>\n      <th>3</th>\n      <td>sales</td>\n      <td>0.0</td>\n      <td>0.0</td>\n      <td>0.0</td>\n      <td>0.000000</td>\n      <td>0.0</td>\n      <td>0.0</td>\n      <td>0.000000</td>\n      <td>0.239945</td>\n      <td>0.129985</td>\n      <td>...</td>\n      <td>0.0</td>\n      <td>0.000000</td>\n      <td>0.0</td>\n      <td>0.210654</td>\n      <td>0.206265</td>\n      <td>0.000000</td>\n      <td>0.000000</td>\n      <td>0.277267</td>\n      <td>0.000000</td>\n      <td>0.000000</td>\n    </tr>\n    <tr>\n      <th>4</th>\n      <td>arts</td>\n      <td>0.0</td>\n      <td>0.0</td>\n      <td>0.0</td>\n      <td>0.000000</td>\n      <td>0.0</td>\n      <td>0.0</td>\n      <td>0.000000</td>\n      <td>0.000000</td>\n      <td>0.366191</td>\n      <td>...</td>\n      <td>0.0</td>\n      <td>0.000000</td>\n      <td>0.0</td>\n      <td>0.000000</td>\n      <td>0.000000</td>\n      <td>0.068943</td>\n      <td>0.389033</td>\n      <td>0.071010</td>\n      <td>0.000000</td>\n      <td>0.058863</td>\n    </tr>\n    <tr>\n      <th>...</th>\n      <td>...</td>\n      <td>...</td>\n      <td>...</td>\n      <td>...</td>\n      <td>...</td>\n      <td>...</td>\n      <td>...</td>\n      <td>...</td>\n      <td>...</td>\n      <td>...</td>\n      <td>...</td>\n      <td>...</td>\n      <td>...</td>\n      <td>...</td>\n      <td>...</td>\n      <td>...</td>\n      <td>...</td>\n      <td>...</td>\n      <td>...</td>\n      <td>...</td>\n      <td>...</td>\n    </tr>\n    <tr>\n      <th>791</th>\n      <td>software+engineer</td>\n      <td>0.0</td>\n      <td>0.0</td>\n      <td>0.0</td>\n      <td>0.096486</td>\n      <td>0.0</td>\n      <td>0.0</td>\n      <td>0.000000</td>\n      <td>0.000000</td>\n      <td>0.000000</td>\n      <td>...</td>\n      <td>0.0</td>\n      <td>0.000000</td>\n      <td>0.0</td>\n      <td>0.000000</td>\n      <td>0.000000</td>\n      <td>0.088538</td>\n      <td>0.111023</td>\n      <td>0.000000</td>\n      <td>0.000000</td>\n      <td>0.000000</td>\n    </tr>\n    <tr>\n      <th>792</th>\n      <td>software+engineer</td>\n      <td>0.0</td>\n      <td>0.0</td>\n      <td>0.0</td>\n      <td>0.274670</td>\n      <td>0.0</td>\n      <td>0.0</td>\n      <td>0.000000</td>\n      <td>0.000000</td>\n      <td>0.000000</td>\n      <td>...</td>\n      <td>0.0</td>\n      <td>0.210175</td>\n      <td>0.0</td>\n      <td>0.000000</td>\n      <td>0.077249</td>\n      <td>0.050409</td>\n      <td>0.252843</td>\n      <td>0.259600</td>\n      <td>0.116410</td>\n      <td>0.000000</td>\n    </tr>\n    <tr>\n      <th>793</th>\n      <td>software+engineer</td>\n      <td>0.0</td>\n      <td>0.0</td>\n      <td>0.0</td>\n      <td>0.038540</td>\n      <td>0.0</td>\n      <td>0.0</td>\n      <td>0.000000</td>\n      <td>0.000000</td>\n      <td>0.000000</td>\n      <td>...</td>\n      <td>0.0</td>\n      <td>0.000000</td>\n      <td>0.0</td>\n      <td>0.000000</td>\n      <td>0.000000</td>\n      <td>0.000000</td>\n      <td>0.000000</td>\n      <td>0.000000</td>\n      <td>0.122505</td>\n      <td>0.000000</td>\n    </tr>\n    <tr>\n      <th>794</th>\n      <td>hr</td>\n      <td>0.0</td>\n      <td>0.0</td>\n      <td>0.0</td>\n      <td>0.000000</td>\n      <td>0.0</td>\n      <td>0.0</td>\n      <td>0.000000</td>\n      <td>0.000000</td>\n      <td>0.000000</td>\n      <td>...</td>\n      <td>0.0</td>\n      <td>0.000000</td>\n      <td>0.0</td>\n      <td>0.180604</td>\n      <td>0.000000</td>\n      <td>0.000000</td>\n      <td>0.000000</td>\n      <td>0.000000</td>\n      <td>0.133245</td>\n      <td>0.000000</td>\n    </tr>\n    <tr>\n      <th>795</th>\n      <td>hr</td>\n      <td>0.0</td>\n      <td>0.0</td>\n      <td>0.0</td>\n      <td>0.000000</td>\n      <td>0.0</td>\n      <td>0.0</td>\n      <td>0.178749</td>\n      <td>0.000000</td>\n      <td>0.000000</td>\n      <td>...</td>\n      <td>0.0</td>\n      <td>0.000000</td>\n      <td>0.0</td>\n      <td>0.000000</td>\n      <td>0.000000</td>\n      <td>0.000000</td>\n      <td>0.000000</td>\n      <td>0.223680</td>\n      <td>0.000000</td>\n      <td>0.000000</td>\n    </tr>\n  </tbody>\n</table>\n<p>796 rows × 117 columns</p>\n</div>"
     },
     "execution_count": 7,
     "metadata": {},
     "output_type": "execute_result"
    },
    {
     "data": {
      "text/plain": "              category  Human    ’  Development    design  Work  Computer  \\\n0    software+engineer    0.0  0.0          0.0  0.504831   0.0       0.0   \n1                sales    0.0  0.0          0.0  0.000000   0.0       0.0   \n2                sales    0.0  0.0          0.0  0.000000   0.0       0.0   \n3                sales    0.0  0.0          0.0  0.000000   0.0       0.0   \n4                 arts    0.0  0.0          0.0  0.000000   0.0       0.0   \n..                 ...    ...  ...          ...       ...   ...       ...   \n791  software+engineer    0.0  0.0          0.0  0.096486   0.0       0.0   \n792  software+engineer    0.0  0.0          0.0  0.274670   0.0       0.0   \n793  software+engineer    0.0  0.0          0.0  0.038540   0.0       0.0   \n794                 hr    0.0  0.0          0.0  0.000000   0.0       0.0   \n795                 hr    0.0  0.0          0.0  0.000000   0.0       0.0   \n\n     creative   account  communication  ...  Requirements  technical  \\\n0    0.000000  0.000000       0.089474  ...           0.0   0.000000   \n1    0.000000  0.284994       0.000000  ...           0.0   0.000000   \n2    0.071549  0.000000       0.083948  ...           0.0   0.000000   \n3    0.000000  0.239945       0.129985  ...           0.0   0.000000   \n4    0.000000  0.000000       0.366191  ...           0.0   0.000000   \n..        ...       ...            ...  ...           ...        ...   \n791  0.000000  0.000000       0.000000  ...           0.0   0.000000   \n792  0.000000  0.000000       0.000000  ...           0.0   0.210175   \n793  0.000000  0.000000       0.000000  ...           0.0   0.000000   \n794  0.000000  0.000000       0.000000  ...           0.0   0.000000   \n795  0.178749  0.000000       0.000000  ...           0.0   0.000000   \n\n     Excellent      duty    market  knowledge  technology  business  \\\n0          0.0  0.000000  0.000000   0.370597    0.000000  0.000000   \n1          0.0  0.000000  0.000000   0.000000    0.000000  0.164661   \n2          0.0  0.000000  0.199817   0.043464    0.000000  0.089533   \n3          0.0  0.210654  0.206265   0.000000    0.000000  0.277267   \n4          0.0  0.000000  0.000000   0.068943    0.389033  0.071010   \n..         ...       ...       ...        ...         ...       ...   \n791        0.0  0.000000  0.000000   0.088538    0.111023  0.000000   \n792        0.0  0.000000  0.077249   0.050409    0.252843  0.259600   \n793        0.0  0.000000  0.000000   0.000000    0.000000  0.000000   \n794        0.0  0.180604  0.000000   0.000000    0.000000  0.000000   \n795        0.0  0.000000  0.000000   0.000000    0.000000  0.223680   \n\n     application    matter  \n0       0.000000  0.000000  \n1       0.000000  0.136495  \n2       0.000000  0.000000  \n3       0.000000  0.000000  \n4       0.000000  0.058863  \n..           ...       ...  \n791     0.000000  0.000000  \n792     0.116410  0.000000  \n793     0.122505  0.000000  \n794     0.133245  0.000000  \n795     0.000000  0.000000  \n\n[796 rows x 117 columns]",
      "text/html": "<div>\n<style scoped>\n    .dataframe tbody tr th:only-of-type {\n        vertical-align: middle;\n    }\n\n    .dataframe tbody tr th {\n        vertical-align: top;\n    }\n\n    .dataframe thead th {\n        text-align: right;\n    }\n</style>\n<table border=\"1\" class=\"dataframe\">\n  <thead>\n    <tr style=\"text-align: right;\">\n      <th></th>\n      <th>category</th>\n      <th>Human</th>\n      <th>’</th>\n      <th>Development</th>\n      <th>design</th>\n      <th>Work</th>\n      <th>Computer</th>\n      <th>creative</th>\n      <th>account</th>\n      <th>communication</th>\n      <th>...</th>\n      <th>Requirements</th>\n      <th>technical</th>\n      <th>Excellent</th>\n      <th>duty</th>\n      <th>market</th>\n      <th>knowledge</th>\n      <th>technology</th>\n      <th>business</th>\n      <th>application</th>\n      <th>matter</th>\n    </tr>\n  </thead>\n  <tbody>\n    <tr>\n      <th>0</th>\n      <td>software+engineer</td>\n      <td>0.0</td>\n      <td>0.0</td>\n      <td>0.0</td>\n      <td>0.504831</td>\n      <td>0.0</td>\n      <td>0.0</td>\n      <td>0.000000</td>\n      <td>0.000000</td>\n      <td>0.089474</td>\n      <td>...</td>\n      <td>0.0</td>\n      <td>0.000000</td>\n      <td>0.0</td>\n      <td>0.000000</td>\n      <td>0.000000</td>\n      <td>0.370597</td>\n      <td>0.000000</td>\n      <td>0.000000</td>\n      <td>0.000000</td>\n      <td>0.000000</td>\n    </tr>\n    <tr>\n      <th>1</th>\n      <td>sales</td>\n      <td>0.0</td>\n      <td>0.0</td>\n      <td>0.0</td>\n      <td>0.000000</td>\n      <td>0.0</td>\n      <td>0.0</td>\n      <td>0.000000</td>\n      <td>0.284994</td>\n      <td>0.000000</td>\n      <td>...</td>\n      <td>0.0</td>\n      <td>0.000000</td>\n      <td>0.0</td>\n      <td>0.000000</td>\n      <td>0.000000</td>\n      <td>0.000000</td>\n      <td>0.000000</td>\n      <td>0.164661</td>\n      <td>0.000000</td>\n      <td>0.136495</td>\n    </tr>\n    <tr>\n      <th>2</th>\n      <td>sales</td>\n      <td>0.0</td>\n      <td>0.0</td>\n      <td>0.0</td>\n      <td>0.000000</td>\n      <td>0.0</td>\n      <td>0.0</td>\n      <td>0.071549</td>\n      <td>0.000000</td>\n      <td>0.083948</td>\n      <td>...</td>\n      <td>0.0</td>\n      <td>0.000000</td>\n      <td>0.0</td>\n      <td>0.000000</td>\n      <td>0.199817</td>\n      <td>0.043464</td>\n      <td>0.000000</td>\n      <td>0.089533</td>\n      <td>0.000000</td>\n      <td>0.000000</td>\n    </tr>\n    <tr>\n      <th>3</th>\n      <td>sales</td>\n      <td>0.0</td>\n      <td>0.0</td>\n      <td>0.0</td>\n      <td>0.000000</td>\n      <td>0.0</td>\n      <td>0.0</td>\n      <td>0.000000</td>\n      <td>0.239945</td>\n      <td>0.129985</td>\n      <td>...</td>\n      <td>0.0</td>\n      <td>0.000000</td>\n      <td>0.0</td>\n      <td>0.210654</td>\n      <td>0.206265</td>\n      <td>0.000000</td>\n      <td>0.000000</td>\n      <td>0.277267</td>\n      <td>0.000000</td>\n      <td>0.000000</td>\n    </tr>\n    <tr>\n      <th>4</th>\n      <td>arts</td>\n      <td>0.0</td>\n      <td>0.0</td>\n      <td>0.0</td>\n      <td>0.000000</td>\n      <td>0.0</td>\n      <td>0.0</td>\n      <td>0.000000</td>\n      <td>0.000000</td>\n      <td>0.366191</td>\n      <td>...</td>\n      <td>0.0</td>\n      <td>0.000000</td>\n      <td>0.0</td>\n      <td>0.000000</td>\n      <td>0.000000</td>\n      <td>0.068943</td>\n      <td>0.389033</td>\n      <td>0.071010</td>\n      <td>0.000000</td>\n      <td>0.058863</td>\n    </tr>\n    <tr>\n      <th>...</th>\n      <td>...</td>\n      <td>...</td>\n      <td>...</td>\n      <td>...</td>\n      <td>...</td>\n      <td>...</td>\n      <td>...</td>\n      <td>...</td>\n      <td>...</td>\n      <td>...</td>\n      <td>...</td>\n      <td>...</td>\n      <td>...</td>\n      <td>...</td>\n      <td>...</td>\n      <td>...</td>\n      <td>...</td>\n      <td>...</td>\n      <td>...</td>\n      <td>...</td>\n      <td>...</td>\n    </tr>\n    <tr>\n      <th>791</th>\n      <td>software+engineer</td>\n      <td>0.0</td>\n      <td>0.0</td>\n      <td>0.0</td>\n      <td>0.096486</td>\n      <td>0.0</td>\n      <td>0.0</td>\n      <td>0.000000</td>\n      <td>0.000000</td>\n      <td>0.000000</td>\n      <td>...</td>\n      <td>0.0</td>\n      <td>0.000000</td>\n      <td>0.0</td>\n      <td>0.000000</td>\n      <td>0.000000</td>\n      <td>0.088538</td>\n      <td>0.111023</td>\n      <td>0.000000</td>\n      <td>0.000000</td>\n      <td>0.000000</td>\n    </tr>\n    <tr>\n      <th>792</th>\n      <td>software+engineer</td>\n      <td>0.0</td>\n      <td>0.0</td>\n      <td>0.0</td>\n      <td>0.274670</td>\n      <td>0.0</td>\n      <td>0.0</td>\n      <td>0.000000</td>\n      <td>0.000000</td>\n      <td>0.000000</td>\n      <td>...</td>\n      <td>0.0</td>\n      <td>0.210175</td>\n      <td>0.0</td>\n      <td>0.000000</td>\n      <td>0.077249</td>\n      <td>0.050409</td>\n      <td>0.252843</td>\n      <td>0.259600</td>\n      <td>0.116410</td>\n      <td>0.000000</td>\n    </tr>\n    <tr>\n      <th>793</th>\n      <td>software+engineer</td>\n      <td>0.0</td>\n      <td>0.0</td>\n      <td>0.0</td>\n      <td>0.038540</td>\n      <td>0.0</td>\n      <td>0.0</td>\n      <td>0.000000</td>\n      <td>0.000000</td>\n      <td>0.000000</td>\n      <td>...</td>\n      <td>0.0</td>\n      <td>0.000000</td>\n      <td>0.0</td>\n      <td>0.000000</td>\n      <td>0.000000</td>\n      <td>0.000000</td>\n      <td>0.000000</td>\n      <td>0.000000</td>\n      <td>0.122505</td>\n      <td>0.000000</td>\n    </tr>\n    <tr>\n      <th>794</th>\n      <td>hr</td>\n      <td>0.0</td>\n      <td>0.0</td>\n      <td>0.0</td>\n      <td>0.000000</td>\n      <td>0.0</td>\n      <td>0.0</td>\n      <td>0.000000</td>\n      <td>0.000000</td>\n      <td>0.000000</td>\n      <td>...</td>\n      <td>0.0</td>\n      <td>0.000000</td>\n      <td>0.0</td>\n      <td>0.180604</td>\n      <td>0.000000</td>\n      <td>0.000000</td>\n      <td>0.000000</td>\n      <td>0.000000</td>\n      <td>0.133245</td>\n      <td>0.000000</td>\n    </tr>\n    <tr>\n      <th>795</th>\n      <td>hr</td>\n      <td>0.0</td>\n      <td>0.0</td>\n      <td>0.0</td>\n      <td>0.000000</td>\n      <td>0.0</td>\n      <td>0.0</td>\n      <td>0.178749</td>\n      <td>0.000000</td>\n      <td>0.000000</td>\n      <td>...</td>\n      <td>0.0</td>\n      <td>0.000000</td>\n      <td>0.0</td>\n      <td>0.000000</td>\n      <td>0.000000</td>\n      <td>0.000000</td>\n      <td>0.000000</td>\n      <td>0.223680</td>\n      <td>0.000000</td>\n      <td>0.000000</td>\n    </tr>\n  </tbody>\n</table>\n<p>796 rows × 117 columns</p>\n</div>"
     },
     "execution_count": 14,
     "metadata": {},
     "output_type": "execute_result"
    }
   ],
   "source": [
    "jd_test"
   ],
   "metadata": {
    "collapsed": false,
    "pycharm": {
     "name": "#%%\n"
    }
   }
  },
  {
   "cell_type": "markdown",
   "source": [
    "### Splitting Dataset into Features and Target Vectors"
   ],
   "metadata": {
    "collapsed": false,
    "pycharm": {
     "name": "#%% md\n"
    }
   }
  },
  {
   "cell_type": "code",
   "execution_count": 15,
   "outputs": [],
   "source": [
    "jd_train_X = jd_train.iloc[:, 1:]\n",
    "jd_train_y = jd_train[[\"category\"]]\n",
    "\n",
    "jd_test_X = jd_test.iloc[:, 1:]\n",
    "jd_test_y = jd_test[[\"category\"]]"
   ],
   "metadata": {
    "collapsed": false,
    "pycharm": {
     "name": "#%%\n"
    }
   }
  },
  {
   "cell_type": "code",
   "execution_count": 16,
   "outputs": [
    {
     "data": {
      "text/plain": "category         \nsoftware+engineer    220\narts                 198\nsales                197\nhr                   181\ndtype: int64"
     },
     "execution_count": 16,
     "metadata": {},
     "output_type": "execute_result"
    }
   ],
   "source": [
    "jd_test_y.value_counts()"
   ],
   "metadata": {
    "collapsed": false,
    "pycharm": {
     "name": "#%%\n"
    }
   }
  },
  {
   "cell_type": "markdown",
   "source": [
    "### Encoding Target Variables"
   ],
   "metadata": {
    "collapsed": false,
    "pycharm": {
     "name": "#%% md\n"
    }
   }
  },
  {
   "cell_type": "code",
   "execution_count": 17,
   "outputs": [],
   "source": [
    "enc = OneHotEncoder(sparse=False)\n",
    "enc.fit(jd_train_y);"
   ],
   "metadata": {
    "collapsed": false,
    "pycharm": {
     "name": "#%%\n"
    }
   }
  },
  {
   "cell_type": "code",
   "execution_count": 18,
   "outputs": [
    {
     "data": {
      "text/plain": "[array(['arts', 'hr', 'sales', 'software+engineer'], dtype=object)]"
     },
     "execution_count": 18,
     "metadata": {},
     "output_type": "execute_result"
    }
   ],
   "source": [
    "enc.categories_"
   ],
   "metadata": {
    "collapsed": false,
    "pycharm": {
     "name": "#%%\n"
    }
   }
  },
  {
   "cell_type": "code",
   "execution_count": 19,
   "outputs": [],
   "source": [
    "jd_train_y = enc.transform(jd_train_y)\n",
    "jd_test_y = enc.transform(jd_test_y)"
   ],
   "metadata": {
    "collapsed": false,
    "pycharm": {
     "name": "#%%\n"
    }
   }
  },
  {
   "cell_type": "markdown",
   "source": [
    "### DNN Model creation and training"
   ],
   "metadata": {
    "collapsed": false,
    "pycharm": {
     "name": "#%% md\n"
    }
   }
  },
  {
   "cell_type": "code",
   "execution_count": 20,
   "outputs": [
    {
     "name": "stdout",
     "output_type": "stream",
     "text": [
      "Metal device set to: Apple M1 Pro\n"
     ]
    },
    {
     "name": "stderr",
     "output_type": "stream",
     "text": [
      "2023-03-31 16:52:29.055315: I tensorflow/core/common_runtime/pluggable_device/pluggable_device_factory.cc:305] Could not identify NUMA node of platform GPU ID 0, defaulting to 0. Your kernel may not have been built with NUMA support.\n",
      "2023-03-31 16:52:29.055615: I tensorflow/core/common_runtime/pluggable_device/pluggable_device_factory.cc:271] Created TensorFlow device (/job:localhost/replica:0/task:0/device:GPU:0 with 0 MB memory) -> physical PluggableDevice (device: 0, name: METAL, pci bus id: <undefined>)\n"
     ]
    }
   ],
   "source": [
    "# DNN Model with 2 hidden layers\n",
    "model = tf.keras.Sequential([\n",
    "    tf.keras.layers.Dense(32, activation='relu'),\n",
    "    tf.keras.layers.Dense(16, activation='relu'),\n",
    "    tf.keras.layers.Dense(4, activation='softmax')\n",
    "])"
   ],
   "metadata": {
    "collapsed": false,
    "pycharm": {
     "name": "#%%\n"
    }
   }
  },
  {
   "cell_type": "code",
   "execution_count": 21,
   "outputs": [],
   "source": [
    "model.compile(loss=tf.keras.losses.CategoricalCrossentropy(),\n",
    "              optimizer=tf.keras.optimizers.Adam(1e-4),\n",
    "              metrics=['accuracy', tf.keras.metrics.Recall(), tf.keras.metrics.Precision()])"
   ],
   "metadata": {
    "collapsed": false,
    "pycharm": {
     "name": "#%%\n"
    }
   }
  },
  {
   "cell_type": "code",
   "execution_count": 22,
   "outputs": [
    {
     "name": "stdout",
     "output_type": "stream",
     "text": [
      "Epoch 1/50\n"
     ]
    },
    {
     "name": "stderr",
     "output_type": "stream",
     "text": [
      "2023-03-31 16:52:29.163506: W tensorflow/core/platform/profile_utils/cpu_utils.cc:128] Failed to get CPU frequency: 0 Hz\n"
     ]
    },
    {
     "name": "stdout",
     "output_type": "stream",
     "text": [
      "  1/100 [..............................] - ETA: 51s - loss: 1.3878 - accuracy: 0.3125 - recall: 0.0000e+00 - precision: 0.0000e+00"
     ]
    },
    {
     "name": "stderr",
     "output_type": "stream",
     "text": [
      "2023-03-31 16:52:29.534540: I tensorflow/core/grappler/optimizers/custom_graph_optimizer_registry.cc:113] Plugin optimizer for device_type GPU is enabled.\n"
     ]
    },
    {
     "name": "stdout",
     "output_type": "stream",
     "text": [
      "100/100 [==============================] - ETA: 0s - loss: 1.3787 - accuracy: 0.2652 - recall: 0.0000e+00 - precision: 0.0000e+00"
     ]
    },
    {
     "name": "stderr",
     "output_type": "stream",
     "text": [
      "2023-03-31 16:52:30.866273: I tensorflow/core/grappler/optimizers/custom_graph_optimizer_registry.cc:113] Plugin optimizer for device_type GPU is enabled.\n"
     ]
    },
    {
     "name": "stdout",
     "output_type": "stream",
     "text": [
      "100/100 [==============================] - 2s 14ms/step - loss: 1.3787 - accuracy: 0.2652 - recall: 0.0000e+00 - precision: 0.0000e+00 - val_loss: 1.3620 - val_accuracy: 0.3003 - val_recall: 0.0000e+00 - val_precision: 0.0000e+00\n",
      "Epoch 2/50\n",
      "100/100 [==============================] - 1s 12ms/step - loss: 1.3457 - accuracy: 0.3787 - recall: 0.0000e+00 - precision: 0.0000e+00 - val_loss: 1.3266 - val_accuracy: 0.4774 - val_recall: 0.0000e+00 - val_precision: 0.0000e+00\n",
      "Epoch 3/50\n",
      "100/100 [==============================] - 1s 12ms/step - loss: 1.3055 - accuracy: 0.5468 - recall: 0.0000e+00 - precision: 0.0000e+00 - val_loss: 1.2810 - val_accuracy: 0.6143 - val_recall: 0.0000e+00 - val_precision: 0.0000e+00\n",
      "Epoch 4/50\n",
      "100/100 [==============================] - 1s 12ms/step - loss: 1.2542 - accuracy: 0.6732 - recall: 0.0000e+00 - precision: 0.0000e+00 - val_loss: 1.2235 - val_accuracy: 0.7073 - val_recall: 0.0000e+00 - val_precision: 0.0000e+00\n",
      "Epoch 5/50\n",
      "100/100 [==============================] - 1s 12ms/step - loss: 1.1929 - accuracy: 0.7436 - recall: 0.0000e+00 - precision: 0.0000e+00 - val_loss: 1.1557 - val_accuracy: 0.7764 - val_recall: 0.0000e+00 - val_precision: 0.0000e+00\n",
      "Epoch 6/50\n",
      "100/100 [==============================] - 1s 12ms/step - loss: 1.1208 - accuracy: 0.7891 - recall: 0.0000e+00 - precision: 0.0000e+00 - val_loss: 1.0761 - val_accuracy: 0.8291 - val_recall: 0.0013 - val_precision: 1.0000\n",
      "Epoch 7/50\n",
      "100/100 [==============================] - 1s 12ms/step - loss: 1.0390 - accuracy: 0.8099 - recall: 0.0330 - precision: 1.0000 - val_loss: 0.9880 - val_accuracy: 0.8430 - val_recall: 0.0741 - val_precision: 1.0000\n",
      "Epoch 8/50\n",
      "100/100 [==============================] - 1s 12ms/step - loss: 0.9540 - accuracy: 0.8334 - recall: 0.1135 - precision: 0.9972 - val_loss: 0.9004 - val_accuracy: 0.8731 - val_recall: 0.1646 - val_precision: 1.0000\n",
      "Epoch 9/50\n",
      "100/100 [==============================] - 1s 11ms/step - loss: 0.8707 - accuracy: 0.8614 - recall: 0.2197 - precision: 0.9943 - val_loss: 0.8176 - val_accuracy: 0.8907 - val_recall: 0.2990 - val_precision: 0.9958\n",
      "Epoch 10/50\n",
      "100/100 [==============================] - 1s 11ms/step - loss: 0.7928 - accuracy: 0.8683 - recall: 0.3240 - precision: 0.9838 - val_loss: 0.7414 - val_accuracy: 0.8957 - val_recall: 0.4435 - val_precision: 0.9860\n",
      "Epoch 11/50\n",
      "100/100 [==============================] - 1s 12ms/step - loss: 0.7217 - accuracy: 0.8809 - recall: 0.4758 - precision: 0.9806 - val_loss: 0.6734 - val_accuracy: 0.8920 - val_recall: 0.5616 - val_precision: 0.9634\n",
      "Epoch 12/50\n",
      "100/100 [==============================] - 1s 12ms/step - loss: 0.6578 - accuracy: 0.8906 - recall: 0.6034 - precision: 0.9731 - val_loss: 0.6124 - val_accuracy: 0.8945 - val_recall: 0.6872 - val_precision: 0.9681\n",
      "Epoch 13/50\n",
      "100/100 [==============================] - 1s 13ms/step - loss: 0.6010 - accuracy: 0.8944 - recall: 0.7021 - precision: 0.9675 - val_loss: 0.5595 - val_accuracy: 0.8957 - val_recall: 0.7261 - val_precision: 0.9666\n",
      "Epoch 14/50\n",
      "100/100 [==============================] - 1s 12ms/step - loss: 0.5507 - accuracy: 0.8903 - recall: 0.7552 - precision: 0.9631 - val_loss: 0.5111 - val_accuracy: 0.8957 - val_recall: 0.7726 - val_precision: 0.9655\n",
      "Epoch 15/50\n",
      "100/100 [==============================] - 1s 12ms/step - loss: 0.5061 - accuracy: 0.8982 - recall: 0.7935 - precision: 0.9637 - val_loss: 0.4691 - val_accuracy: 0.9020 - val_recall: 0.8003 - val_precision: 0.9637\n",
      "Epoch 16/50\n",
      "100/100 [==============================] - 1s 11ms/step - loss: 0.4668 - accuracy: 0.8953 - recall: 0.8180 - precision: 0.9626 - val_loss: 0.4315 - val_accuracy: 0.9033 - val_recall: 0.8367 - val_precision: 0.9624\n",
      "Epoch 17/50\n",
      "100/100 [==============================] - 1s 11ms/step - loss: 0.4324 - accuracy: 0.8997 - recall: 0.8479 - precision: 0.9557 - val_loss: 0.3989 - val_accuracy: 0.9058 - val_recall: 0.8568 - val_precision: 0.9565\n",
      "Epoch 18/50\n",
      "100/100 [==============================] - 1s 12ms/step - loss: 0.4023 - accuracy: 0.9035 - recall: 0.8589 - precision: 0.9516 - val_loss: 0.3704 - val_accuracy: 0.9095 - val_recall: 0.8681 - val_precision: 0.9544\n",
      "Epoch 19/50\n",
      "100/100 [==============================] - 1s 11ms/step - loss: 0.3759 - accuracy: 0.9082 - recall: 0.8658 - precision: 0.9497 - val_loss: 0.3448 - val_accuracy: 0.9095 - val_recall: 0.8719 - val_precision: 0.9546\n",
      "Epoch 20/50\n",
      "100/100 [==============================] - 1s 11ms/step - loss: 0.3521 - accuracy: 0.9070 - recall: 0.8724 - precision: 0.9481 - val_loss: 0.3207 - val_accuracy: 0.9221 - val_recall: 0.8794 - val_precision: 0.9537\n",
      "Epoch 21/50\n",
      "100/100 [==============================] - 1s 11ms/step - loss: 0.3307 - accuracy: 0.9133 - recall: 0.8777 - precision: 0.9458 - val_loss: 0.3005 - val_accuracy: 0.9221 - val_recall: 0.8807 - val_precision: 0.9550\n",
      "Epoch 22/50\n",
      "100/100 [==============================] - 1s 11ms/step - loss: 0.3125 - accuracy: 0.9161 - recall: 0.8843 - precision: 0.9475 - val_loss: 0.2831 - val_accuracy: 0.9234 - val_recall: 0.8894 - val_precision: 0.9529\n",
      "Epoch 23/50\n",
      "100/100 [==============================] - 1s 12ms/step - loss: 0.2968 - accuracy: 0.9202 - recall: 0.8941 - precision: 0.9480 - val_loss: 0.2688 - val_accuracy: 0.9334 - val_recall: 0.8982 - val_precision: 0.9546\n",
      "Epoch 24/50\n",
      "100/100 [==============================] - 1s 12ms/step - loss: 0.2830 - accuracy: 0.9243 - recall: 0.8969 - precision: 0.9472 - val_loss: 0.2555 - val_accuracy: 0.9359 - val_recall: 0.8995 - val_precision: 0.9547\n",
      "Epoch 25/50\n",
      "100/100 [==============================] - 1s 12ms/step - loss: 0.2709 - accuracy: 0.9249 - recall: 0.9026 - precision: 0.9466 - val_loss: 0.2440 - val_accuracy: 0.9359 - val_recall: 0.9045 - val_precision: 0.9549\n",
      "Epoch 26/50\n",
      "100/100 [==============================] - 1s 11ms/step - loss: 0.2602 - accuracy: 0.9255 - recall: 0.9041 - precision: 0.9476 - val_loss: 0.2344 - val_accuracy: 0.9372 - val_recall: 0.9121 - val_precision: 0.9540\n",
      "Epoch 27/50\n",
      "100/100 [==============================] - 1s 11ms/step - loss: 0.2507 - accuracy: 0.9337 - recall: 0.9041 - precision: 0.9483 - val_loss: 0.2245 - val_accuracy: 0.9472 - val_recall: 0.9121 - val_precision: 0.9553\n",
      "Epoch 28/50\n",
      "100/100 [==============================] - 1s 12ms/step - loss: 0.2423 - accuracy: 0.9327 - recall: 0.9060 - precision: 0.9480 - val_loss: 0.2167 - val_accuracy: 0.9472 - val_recall: 0.9133 - val_precision: 0.9541\n",
      "Epoch 29/50\n",
      "100/100 [==============================] - 1s 11ms/step - loss: 0.2345 - accuracy: 0.9340 - recall: 0.9098 - precision: 0.9476 - val_loss: 0.2098 - val_accuracy: 0.9447 - val_recall: 0.9158 - val_precision: 0.9542\n",
      "Epoch 30/50\n",
      "100/100 [==============================] - 1s 11ms/step - loss: 0.2275 - accuracy: 0.9353 - recall: 0.9129 - precision: 0.9478 - val_loss: 0.2031 - val_accuracy: 0.9472 - val_recall: 0.9246 - val_precision: 0.9546\n",
      "Epoch 31/50\n",
      "100/100 [==============================] - 1s 12ms/step - loss: 0.2211 - accuracy: 0.9353 - recall: 0.9136 - precision: 0.9481 - val_loss: 0.1971 - val_accuracy: 0.9472 - val_recall: 0.9246 - val_precision: 0.9546\n",
      "Epoch 32/50\n",
      "100/100 [==============================] - 1s 11ms/step - loss: 0.2150 - accuracy: 0.9397 - recall: 0.9148 - precision: 0.9485 - val_loss: 0.1911 - val_accuracy: 0.9485 - val_recall: 0.9259 - val_precision: 0.9534\n",
      "Epoch 33/50\n",
      "100/100 [==============================] - 1s 12ms/step - loss: 0.2096 - accuracy: 0.9397 - recall: 0.9183 - precision: 0.9481 - val_loss: 0.1869 - val_accuracy: 0.9485 - val_recall: 0.9309 - val_precision: 0.9586\n",
      "Epoch 34/50\n",
      "100/100 [==============================] - 1s 11ms/step - loss: 0.2046 - accuracy: 0.9390 - recall: 0.9211 - precision: 0.9492 - val_loss: 0.1819 - val_accuracy: 0.9497 - val_recall: 0.9397 - val_precision: 0.9577\n",
      "Epoch 35/50\n",
      "100/100 [==============================] - 1s 11ms/step - loss: 0.1999 - accuracy: 0.9431 - recall: 0.9258 - precision: 0.9509 - val_loss: 0.1777 - val_accuracy: 0.9523 - val_recall: 0.9422 - val_precision: 0.9579\n",
      "Epoch 36/50\n",
      "100/100 [==============================] - 1s 13ms/step - loss: 0.1956 - accuracy: 0.9437 - recall: 0.9293 - precision: 0.9499 - val_loss: 0.1741 - val_accuracy: 0.9523 - val_recall: 0.9447 - val_precision: 0.9580\n",
      "Epoch 37/50\n",
      "100/100 [==============================] - 1s 13ms/step - loss: 0.1914 - accuracy: 0.9447 - recall: 0.9309 - precision: 0.9503 - val_loss: 0.1697 - val_accuracy: 0.9523 - val_recall: 0.9447 - val_precision: 0.9592\n",
      "Epoch 38/50\n",
      "100/100 [==============================] - 1s 13ms/step - loss: 0.1874 - accuracy: 0.9444 - recall: 0.9312 - precision: 0.9506 - val_loss: 0.1665 - val_accuracy: 0.9523 - val_recall: 0.9447 - val_precision: 0.9592\n",
      "Epoch 39/50\n",
      "100/100 [==============================] - 1s 13ms/step - loss: 0.1837 - accuracy: 0.9453 - recall: 0.9334 - precision: 0.9513 - val_loss: 0.1637 - val_accuracy: 0.9523 - val_recall: 0.9447 - val_precision: 0.9592\n",
      "Epoch 40/50\n",
      "100/100 [==============================] - 1s 13ms/step - loss: 0.1803 - accuracy: 0.9444 - recall: 0.9368 - precision: 0.9527 - val_loss: 0.1607 - val_accuracy: 0.9523 - val_recall: 0.9447 - val_precision: 0.9592\n",
      "Epoch 41/50\n",
      "100/100 [==============================] - 1s 13ms/step - loss: 0.1771 - accuracy: 0.9450 - recall: 0.9371 - precision: 0.9527 - val_loss: 0.1578 - val_accuracy: 0.9535 - val_recall: 0.9472 - val_precision: 0.9617\n",
      "Epoch 42/50\n",
      "100/100 [==============================] - 1s 13ms/step - loss: 0.1739 - accuracy: 0.9475 - recall: 0.9381 - precision: 0.9552 - val_loss: 0.1553 - val_accuracy: 0.9560 - val_recall: 0.9497 - val_precision: 0.9618\n",
      "Epoch 43/50\n",
      "100/100 [==============================] - 1s 13ms/step - loss: 0.1711 - accuracy: 0.9500 - recall: 0.9403 - precision: 0.9574 - val_loss: 0.1526 - val_accuracy: 0.9560 - val_recall: 0.9510 - val_precision: 0.9619\n",
      "Epoch 44/50\n",
      "100/100 [==============================] - 1s 13ms/step - loss: 0.1682 - accuracy: 0.9497 - recall: 0.9422 - precision: 0.9560 - val_loss: 0.1506 - val_accuracy: 0.9560 - val_recall: 0.9523 - val_precision: 0.9607\n",
      "Epoch 45/50\n",
      "100/100 [==============================] - 1s 13ms/step - loss: 0.1657 - accuracy: 0.9529 - recall: 0.9453 - precision: 0.9592 - val_loss: 0.1480 - val_accuracy: 0.9598 - val_recall: 0.9548 - val_precision: 0.9632\n",
      "Epoch 46/50\n",
      "100/100 [==============================] - 1s 13ms/step - loss: 0.1629 - accuracy: 0.9525 - recall: 0.9459 - precision: 0.9595 - val_loss: 0.1462 - val_accuracy: 0.9585 - val_recall: 0.9548 - val_precision: 0.9620\n",
      "Epoch 47/50\n",
      "100/100 [==============================] - 1s 14ms/step - loss: 0.1606 - accuracy: 0.9532 - recall: 0.9469 - precision: 0.9608 - val_loss: 0.1445 - val_accuracy: 0.9585 - val_recall: 0.9548 - val_precision: 0.9620\n",
      "Epoch 48/50\n",
      "100/100 [==============================] - 1s 14ms/step - loss: 0.1581 - accuracy: 0.9541 - recall: 0.9472 - precision: 0.9611 - val_loss: 0.1430 - val_accuracy: 0.9585 - val_recall: 0.9548 - val_precision: 0.9620\n",
      "Epoch 49/50\n",
      "100/100 [==============================] - 1s 13ms/step - loss: 0.1561 - accuracy: 0.9544 - recall: 0.9478 - precision: 0.9608 - val_loss: 0.1410 - val_accuracy: 0.9585 - val_recall: 0.9548 - val_precision: 0.9608\n",
      "Epoch 50/50\n",
      "100/100 [==============================] - 1s 13ms/step - loss: 0.1538 - accuracy: 0.9547 - recall: 0.9481 - precision: 0.9614 - val_loss: 0.1394 - val_accuracy: 0.9585 - val_recall: 0.9548 - val_precision: 0.9608\n"
     ]
    }
   ],
   "source": [
    "history = model.fit(jd_train_X, jd_train_y, epochs=50, validation_steps=30, validation_data=(jd_test_X, jd_test_y))"
   ],
   "metadata": {
    "collapsed": false,
    "pycharm": {
     "name": "#%%\n"
    }
   }
  },
  {
   "cell_type": "markdown",
   "source": [
    "### Viewing learning curves"
   ],
   "metadata": {
    "collapsed": false,
    "pycharm": {
     "name": "#%% md\n"
    }
   }
  },
  {
   "cell_type": "code",
   "execution_count": 23,
   "outputs": [
    {
     "data": {
      "text/plain": "(0.0, 1.4406270168721675)"
     },
     "execution_count": 23,
     "metadata": {},
     "output_type": "execute_result"
    },
    {
     "data": {
      "text/plain": "<Figure size 1152x576 with 2 Axes>",
      "image/png": "[encoded data removed]"
     },
     "metadata": {
      "needs_background": "light"
     },
     "output_type": "display_data"
    }
   ],
   "source": [
    "plt.figure(figsize=(16, 8))\n",
    "plt.subplot(1, 2, 1)\n",
    "plot_graphs(history, 'accuracy')\n",
    "plt.ylim(None, 1)\n",
    "plt.subplot(1, 2, 2)\n",
    "plot_graphs(history, 'loss')\n",
    "plt.ylim(0, None)"
   ],
   "metadata": {
    "collapsed": false,
    "pycharm": {
     "name": "#%%\n"
    }
   }
  },
  {
   "cell_type": "markdown",
   "source": [
    "### Saving the model"
   ],
   "metadata": {
    "collapsed": false,
    "pycharm": {
     "name": "#%% md\n"
    }
   }
  },
  {
   "cell_type": "code",
   "execution_count": 24,
   "outputs": [],
   "source": [
    "model.save(\"tf_models/dnn_easy.h5\")"
   ],
   "metadata": {
    "collapsed": false,
    "pycharm": {
     "name": "#%%\n"
    }
   }
  },
  {
   "cell_type": "markdown",
   "source": [
    "## Hard Dataset (Distinct Job Categories)"
   ],
   "metadata": {
    "collapsed": false,
    "pycharm": {
     "name": "#%% md\n"
    }
   }
  },
  {
   "cell_type": "code",
   "execution_count": 25,
   "outputs": [],
   "source": [
    "is_working_with_easy_dataset = False"
   ],
   "metadata": {
    "collapsed": false,
    "pycharm": {
     "name": "#%%\n"
    }
   }
  },
  {
   "cell_type": "code",
   "execution_count": 26,
   "outputs": [],
   "source": [
    "if is_working_with_easy_dataset:\n",
    "    input_train_filename = \"bag_easy_train.csv\"\n",
    "    input_test_filename = \"bag_easy_test.csv\"\n",
    "else:\n",
    "    input_train_filename = \"bag_difficult_train.csv\"\n",
    "    input_test_filename = \"bag_difficult_test.csv\""
   ],
   "metadata": {
    "collapsed": false,
    "pycharm": {
     "name": "#%%\n"
    }
   }
  },
  {
   "cell_type": "code",
   "execution_count": 27,
   "outputs": [],
   "source": [
    "jd_train = pd.read_csv(input_train_filename, keep_default_na=False)\n",
    "jd_test = pd.read_csv(input_test_filename, keep_default_na=False)"
   ],
   "metadata": {
    "collapsed": false,
    "pycharm": {
     "name": "#%%\n"
    }
   }
  },
  {
   "cell_type": "code",
   "execution_count": 28,
   "outputs": [
    {
     "data": {
      "text/plain": "               category  assessment  Management  Work     cyber   ÊÊ  Data  \\\n0     software+engineer    0.000000         0.0   0.0  0.000000  0.0   0.0   \n1     software+engineer    0.000000         0.0   0.0  0.000000  0.0   0.0   \n2     software+engineer    0.000000         0.0   0.0  0.000000  0.0   0.0   \n3                 ui+ux    0.120286         0.0   0.0  0.000000  0.0   0.0   \n4                 ui+ux    0.000000         0.0   0.0  0.000000  0.0   0.0   \n...                 ...         ...         ...   ...       ...  ...   ...   \n3175  software+engineer    0.000000         0.0   0.0  0.000000  0.0   0.0   \n3176     cyber+security    0.000000         0.0   0.0  0.140165  0.0   0.0   \n3177              ui+ux    0.000000         0.0   0.0  0.000000  0.0   0.0   \n3178       data+analyst    0.000000         0.0   0.0  0.000000  0.0   0.0   \n3179       data+analyst    0.000000         0.0   0.0  0.000000  0.0   0.0   \n\n       control    design  Experience  ...  Technology      role  Java  \\\n0     0.000000  0.143276         0.0  ...         0.0  0.000000   0.0   \n1     0.000000  0.061751         0.0  ...         0.0  0.082574   0.0   \n2     0.290684  0.499494         0.0  ...         0.0  0.000000   0.0   \n3     0.000000  0.000000         0.0  ...         0.0  0.160089   0.0   \n4     0.000000  0.000000         0.0  ...         0.0  0.115759   0.0   \n...        ...       ...         ...  ...         ...       ...   ...   \n3175  0.095572  0.054742         0.0  ...         0.0  0.109803   0.0   \n3176  0.000000  0.000000         0.0  ...         0.0  0.210418   0.0   \n3177  0.000000  0.422655         0.0  ...         0.0  0.000000   0.0   \n3178  0.000000  0.026570         0.0  ...         0.0  0.071060   0.0   \n3179  0.000000  0.000000         0.0  ...         0.0  0.000000   0.0   \n\n       process  Strong     skill  software  business  Ability  experience  \n0     0.000000     0.0  0.000000  0.345453  0.000000      0.0    0.323940  \n1     0.000000     0.0  0.057996  0.000000  0.125683      0.0    0.511923  \n2     0.203606     0.0  0.000000  0.100361  0.000000      0.0    0.062741  \n3     0.073200     0.0  0.112439  0.000000  0.000000      0.0    0.225563  \n4     0.105860     0.0  0.040652  0.000000  0.000000      0.0    0.097861  \n...        ...     ...       ...       ...       ...      ...         ...  \n3175  0.066942     0.0  0.179947  0.164985  0.111417      0.0    0.123768  \n3176  0.000000     0.0  0.221681  0.094849  0.000000      0.0    0.177885  \n3177  0.000000     0.0  0.000000  0.509533  0.107530      0.0    0.238901  \n3178  0.064984     0.0  0.124773  0.032032  0.567827      0.0    0.060074  \n3179  0.210119     0.0  0.121033  0.103571  0.262288      0.0    0.000000  \n\n[3180 rows x 101 columns]",
      "text/html": "<div>\n<style scoped>\n    .dataframe tbody tr th:only-of-type {\n        vertical-align: middle;\n    }\n\n    .dataframe tbody tr th {\n        vertical-align: top;\n    }\n\n    .dataframe thead th {\n        text-align: right;\n    }\n</style>\n<table border=\"1\" class=\"dataframe\">\n  <thead>\n    <tr style=\"text-align: right;\">\n      <th></th>\n      <th>category</th>\n      <th>assessment</th>\n      <th>Management</th>\n      <th>Work</th>\n      <th>cyber</th>\n      <th>ÊÊ</th>\n      <th>Data</th>\n      <th>control</th>\n      <th>design</th>\n      <th>Experience</th>\n      <th>...</th>\n      <th>Technology</th>\n      <th>role</th>\n      <th>Java</th>\n      <th>process</th>\n      <th>Strong</th>\n      <th>skill</th>\n      <th>software</th>\n      <th>business</th>\n      <th>Ability</th>\n      <th>experience</th>\n    </tr>\n  </thead>\n  <tbody>\n    <tr>\n      <th>0</th>\n      <td>software+engineer</td>\n      <td>0.000000</td>\n      <td>0.0</td>\n      <td>0.0</td>\n      <td>0.000000</td>\n      <td>0.0</td>\n      <td>0.0</td>\n      <td>0.000000</td>\n      <td>0.143276</td>\n      <td>0.0</td>\n      <td>...</td>\n      <td>0.0</td>\n      <td>0.000000</td>\n      <td>0.0</td>\n      <td>0.000000</td>\n      <td>0.0</td>\n      <td>0.000000</td>\n      <td>0.345453</td>\n      <td>0.000000</td>\n      <td>0.0</td>\n      <td>0.323940</td>\n    </tr>\n    <tr>\n      <th>1</th>\n      <td>software+engineer</td>\n      <td>0.000000</td>\n      <td>0.0</td>\n      <td>0.0</td>\n      <td>0.000000</td>\n      <td>0.0</td>\n      <td>0.0</td>\n      <td>0.000000</td>\n      <td>0.061751</td>\n      <td>0.0</td>\n      <td>...</td>\n      <td>0.0</td>\n      <td>0.082574</td>\n      <td>0.0</td>\n      <td>0.000000</td>\n      <td>0.0</td>\n      <td>0.057996</td>\n      <td>0.000000</td>\n      <td>0.125683</td>\n      <td>0.0</td>\n      <td>0.511923</td>\n    </tr>\n    <tr>\n      <th>2</th>\n      <td>software+engineer</td>\n      <td>0.000000</td>\n      <td>0.0</td>\n      <td>0.0</td>\n      <td>0.000000</td>\n      <td>0.0</td>\n      <td>0.0</td>\n      <td>0.290684</td>\n      <td>0.499494</td>\n      <td>0.0</td>\n      <td>...</td>\n      <td>0.0</td>\n      <td>0.000000</td>\n      <td>0.0</td>\n      <td>0.203606</td>\n      <td>0.0</td>\n      <td>0.000000</td>\n      <td>0.100361</td>\n      <td>0.000000</td>\n      <td>0.0</td>\n      <td>0.062741</td>\n    </tr>\n    <tr>\n      <th>3</th>\n      <td>ui+ux</td>\n      <td>0.120286</td>\n      <td>0.0</td>\n      <td>0.0</td>\n      <td>0.000000</td>\n      <td>0.0</td>\n      <td>0.0</td>\n      <td>0.000000</td>\n      <td>0.000000</td>\n      <td>0.0</td>\n      <td>...</td>\n      <td>0.0</td>\n      <td>0.160089</td>\n      <td>0.0</td>\n      <td>0.073200</td>\n      <td>0.0</td>\n      <td>0.112439</td>\n      <td>0.000000</td>\n      <td>0.000000</td>\n      <td>0.0</td>\n      <td>0.225563</td>\n    </tr>\n    <tr>\n      <th>4</th>\n      <td>ui+ux</td>\n      <td>0.000000</td>\n      <td>0.0</td>\n      <td>0.0</td>\n      <td>0.000000</td>\n      <td>0.0</td>\n      <td>0.0</td>\n      <td>0.000000</td>\n      <td>0.000000</td>\n      <td>0.0</td>\n      <td>...</td>\n      <td>0.0</td>\n      <td>0.115759</td>\n      <td>0.0</td>\n      <td>0.105860</td>\n      <td>0.0</td>\n      <td>0.040652</td>\n      <td>0.000000</td>\n      <td>0.000000</td>\n      <td>0.0</td>\n      <td>0.097861</td>\n    </tr>\n    <tr>\n      <th>...</th>\n      <td>...</td>\n      <td>...</td>\n      <td>...</td>\n      <td>...</td>\n      <td>...</td>\n      <td>...</td>\n      <td>...</td>\n      <td>...</td>\n      <td>...</td>\n      <td>...</td>\n      <td>...</td>\n      <td>...</td>\n      <td>...</td>\n      <td>...</td>\n      <td>...</td>\n      <td>...</td>\n      <td>...</td>\n      <td>...</td>\n      <td>...</td>\n      <td>...</td>\n      <td>...</td>\n    </tr>\n    <tr>\n      <th>3175</th>\n      <td>software+engineer</td>\n      <td>0.000000</td>\n      <td>0.0</td>\n      <td>0.0</td>\n      <td>0.000000</td>\n      <td>0.0</td>\n      <td>0.0</td>\n      <td>0.095572</td>\n      <td>0.054742</td>\n      <td>0.0</td>\n      <td>...</td>\n      <td>0.0</td>\n      <td>0.109803</td>\n      <td>0.0</td>\n      <td>0.066942</td>\n      <td>0.0</td>\n      <td>0.179947</td>\n      <td>0.164985</td>\n      <td>0.111417</td>\n      <td>0.0</td>\n      <td>0.123768</td>\n    </tr>\n    <tr>\n      <th>3176</th>\n      <td>cyber+security</td>\n      <td>0.000000</td>\n      <td>0.0</td>\n      <td>0.0</td>\n      <td>0.140165</td>\n      <td>0.0</td>\n      <td>0.0</td>\n      <td>0.000000</td>\n      <td>0.000000</td>\n      <td>0.0</td>\n      <td>...</td>\n      <td>0.0</td>\n      <td>0.210418</td>\n      <td>0.0</td>\n      <td>0.000000</td>\n      <td>0.0</td>\n      <td>0.221681</td>\n      <td>0.094849</td>\n      <td>0.000000</td>\n      <td>0.0</td>\n      <td>0.177885</td>\n    </tr>\n    <tr>\n      <th>3177</th>\n      <td>ui+ux</td>\n      <td>0.000000</td>\n      <td>0.0</td>\n      <td>0.0</td>\n      <td>0.000000</td>\n      <td>0.0</td>\n      <td>0.0</td>\n      <td>0.000000</td>\n      <td>0.422655</td>\n      <td>0.0</td>\n      <td>...</td>\n      <td>0.0</td>\n      <td>0.000000</td>\n      <td>0.0</td>\n      <td>0.000000</td>\n      <td>0.0</td>\n      <td>0.000000</td>\n      <td>0.509533</td>\n      <td>0.107530</td>\n      <td>0.0</td>\n      <td>0.238901</td>\n    </tr>\n    <tr>\n      <th>3178</th>\n      <td>data+analyst</td>\n      <td>0.000000</td>\n      <td>0.0</td>\n      <td>0.0</td>\n      <td>0.000000</td>\n      <td>0.0</td>\n      <td>0.0</td>\n      <td>0.000000</td>\n      <td>0.026570</td>\n      <td>0.0</td>\n      <td>...</td>\n      <td>0.0</td>\n      <td>0.071060</td>\n      <td>0.0</td>\n      <td>0.064984</td>\n      <td>0.0</td>\n      <td>0.124773</td>\n      <td>0.032032</td>\n      <td>0.567827</td>\n      <td>0.0</td>\n      <td>0.060074</td>\n    </tr>\n    <tr>\n      <th>3179</th>\n      <td>data+analyst</td>\n      <td>0.000000</td>\n      <td>0.0</td>\n      <td>0.0</td>\n      <td>0.000000</td>\n      <td>0.0</td>\n      <td>0.0</td>\n      <td>0.000000</td>\n      <td>0.000000</td>\n      <td>0.0</td>\n      <td>...</td>\n      <td>0.0</td>\n      <td>0.000000</td>\n      <td>0.0</td>\n      <td>0.210119</td>\n      <td>0.0</td>\n      <td>0.121033</td>\n      <td>0.103571</td>\n      <td>0.262288</td>\n      <td>0.0</td>\n      <td>0.000000</td>\n    </tr>\n  </tbody>\n</table>\n<p>3180 rows × 101 columns</p>\n</div>"
     },
     "execution_count": 28,
     "metadata": {},
     "output_type": "execute_result"
    }
   ],
   "source": [
    "jd_train"
   ],
   "metadata": {
    "collapsed": false,
    "pycharm": {
     "name": "#%%\n"
    }
   }
  },
  {
   "cell_type": "code",
   "execution_count": 29,
   "outputs": [
    {
     "data": {
      "text/plain": "              category  assessment  Management  Work     cyber   ÊÊ  Data  \\\n0         data+analyst         0.0         0.0   0.0  0.000000  0.0   0.0   \n1       cyber+security         0.0         0.0   0.0  0.175017  0.0   0.0   \n2    software+engineer         0.0         0.0   0.0  0.000000  0.0   0.0   \n3                ui+ux         0.0         0.0   0.0  0.000000  0.0   0.0   \n4                ui+ux         0.0         0.0   0.0  0.000000  0.0   0.0   \n..                 ...         ...         ...   ...       ...  ...   ...   \n790  software+engineer         0.0         0.0   0.0  0.000000  0.0   0.0   \n791     cyber+security         0.0         0.0   0.0  0.000000  0.0   0.0   \n792              ui+ux         0.0         0.0   0.0  0.000000  0.0   0.0   \n793              ui+ux         0.0         0.0   0.0  0.000000  0.0   0.0   \n794              ui+ux         0.0         0.0   0.0  0.000000  0.0   0.0   \n\n      control    design  Experience  ...  Technology      role  Java  \\\n0    0.000000  0.000000         0.0  ...         0.0  0.000000   0.0   \n1    0.000000  0.000000         0.0  ...         0.0  0.000000   0.0   \n2    0.000000  0.102496         0.0  ...         0.0  0.000000   0.0   \n3    0.000000  0.147327         0.0  ...         0.0  0.000000   0.0   \n4    0.000000  0.102945         0.0  ...         0.0  0.000000   0.0   \n..        ...       ...         ...  ...         ...       ...   ...   \n790  0.000000  0.044197         0.0  ...         0.0  0.059146   0.0   \n791  0.087995  0.050226         0.0  ...         0.0  0.000000   0.0   \n792  0.000000  0.602373         0.0  ...         0.0  0.000000   0.0   \n793  0.000000  0.388837         0.0  ...         0.0  0.000000   0.0   \n794  0.000000  0.000000         0.0  ...         0.0  0.000000   0.0   \n\n      process  Strong     skill  software  business  Ability  experience  \n0    0.000000     0.0  0.248572  0.000000  0.523485      0.0    0.064633  \n1    0.000000     0.0  0.000000  0.000000  0.000000      0.0    0.151252  \n2    0.000000     0.0  0.000000  0.000000  0.000000      0.0    0.038436  \n3    0.000000     0.0  0.141651  0.044691  0.335602      0.0    0.110494  \n4    0.000000     0.0  0.148468  0.000000  0.000000      0.0    0.115812  \n..        ...     ...       ...       ...       ...      ...         ...  \n790  0.055503     0.0  0.000000  0.107255  0.000000      0.0    0.099442  \n791  0.126149     0.0  0.048291  0.000000  0.152549      0.0    0.113008  \n792  0.000000     0.0  0.231666  0.000000  0.000000      0.0    0.180710  \n793  0.162769     0.0  0.000000  0.314537  0.000000      0.0    0.194417  \n794  0.000000     0.0  0.098393  0.000000  0.000000      0.0    0.076751  \n\n[795 rows x 101 columns]",
      "text/html": "<div>\n<style scoped>\n    .dataframe tbody tr th:only-of-type {\n        vertical-align: middle;\n    }\n\n    .dataframe tbody tr th {\n        vertical-align: top;\n    }\n\n    .dataframe thead th {\n        text-align: right;\n    }\n</style>\n<table border=\"1\" class=\"dataframe\">\n  <thead>\n    <tr style=\"text-align: right;\">\n      <th></th>\n      <th>category</th>\n      <th>assessment</th>\n      <th>Management</th>\n      <th>Work</th>\n      <th>cyber</th>\n      <th>ÊÊ</th>\n      <th>Data</th>\n      <th>control</th>\n      <th>design</th>\n      <th>Experience</th>\n      <th>...</th>\n      <th>Technology</th>\n      <th>role</th>\n      <th>Java</th>\n      <th>process</th>\n      <th>Strong</th>\n      <th>skill</th>\n      <th>software</th>\n      <th>business</th>\n      <th>Ability</th>\n      <th>experience</th>\n    </tr>\n  </thead>\n  <tbody>\n    <tr>\n      <th>0</th>\n      <td>data+analyst</td>\n      <td>0.0</td>\n      <td>0.0</td>\n      <td>0.0</td>\n      <td>0.000000</td>\n      <td>0.0</td>\n      <td>0.0</td>\n      <td>0.000000</td>\n      <td>0.000000</td>\n      <td>0.0</td>\n      <td>...</td>\n      <td>0.0</td>\n      <td>0.000000</td>\n      <td>0.0</td>\n      <td>0.000000</td>\n      <td>0.0</td>\n      <td>0.248572</td>\n      <td>0.000000</td>\n      <td>0.523485</td>\n      <td>0.0</td>\n      <td>0.064633</td>\n    </tr>\n    <tr>\n      <th>1</th>\n      <td>cyber+security</td>\n      <td>0.0</td>\n      <td>0.0</td>\n      <td>0.0</td>\n      <td>0.175017</td>\n      <td>0.0</td>\n      <td>0.0</td>\n      <td>0.000000</td>\n      <td>0.000000</td>\n      <td>0.0</td>\n      <td>...</td>\n      <td>0.0</td>\n      <td>0.000000</td>\n      <td>0.0</td>\n      <td>0.000000</td>\n      <td>0.0</td>\n      <td>0.000000</td>\n      <td>0.000000</td>\n      <td>0.000000</td>\n      <td>0.0</td>\n      <td>0.151252</td>\n    </tr>\n    <tr>\n      <th>2</th>\n      <td>software+engineer</td>\n      <td>0.0</td>\n      <td>0.0</td>\n      <td>0.0</td>\n      <td>0.000000</td>\n      <td>0.0</td>\n      <td>0.0</td>\n      <td>0.000000</td>\n      <td>0.102496</td>\n      <td>0.0</td>\n      <td>...</td>\n      <td>0.0</td>\n      <td>0.000000</td>\n      <td>0.0</td>\n      <td>0.000000</td>\n      <td>0.0</td>\n      <td>0.000000</td>\n      <td>0.000000</td>\n      <td>0.000000</td>\n      <td>0.0</td>\n      <td>0.038436</td>\n    </tr>\n    <tr>\n      <th>3</th>\n      <td>ui+ux</td>\n      <td>0.0</td>\n      <td>0.0</td>\n      <td>0.0</td>\n      <td>0.000000</td>\n      <td>0.0</td>\n      <td>0.0</td>\n      <td>0.000000</td>\n      <td>0.147327</td>\n      <td>0.0</td>\n      <td>...</td>\n      <td>0.0</td>\n      <td>0.000000</td>\n      <td>0.0</td>\n      <td>0.000000</td>\n      <td>0.0</td>\n      <td>0.141651</td>\n      <td>0.044691</td>\n      <td>0.335602</td>\n      <td>0.0</td>\n      <td>0.110494</td>\n    </tr>\n    <tr>\n      <th>4</th>\n      <td>ui+ux</td>\n      <td>0.0</td>\n      <td>0.0</td>\n      <td>0.0</td>\n      <td>0.000000</td>\n      <td>0.0</td>\n      <td>0.0</td>\n      <td>0.000000</td>\n      <td>0.102945</td>\n      <td>0.0</td>\n      <td>...</td>\n      <td>0.0</td>\n      <td>0.000000</td>\n      <td>0.0</td>\n      <td>0.000000</td>\n      <td>0.0</td>\n      <td>0.148468</td>\n      <td>0.000000</td>\n      <td>0.000000</td>\n      <td>0.0</td>\n      <td>0.115812</td>\n    </tr>\n    <tr>\n      <th>...</th>\n      <td>...</td>\n      <td>...</td>\n      <td>...</td>\n      <td>...</td>\n      <td>...</td>\n      <td>...</td>\n      <td>...</td>\n      <td>...</td>\n      <td>...</td>\n      <td>...</td>\n      <td>...</td>\n      <td>...</td>\n      <td>...</td>\n      <td>...</td>\n      <td>...</td>\n      <td>...</td>\n      <td>...</td>\n      <td>...</td>\n      <td>...</td>\n      <td>...</td>\n      <td>...</td>\n    </tr>\n    <tr>\n      <th>790</th>\n      <td>software+engineer</td>\n      <td>0.0</td>\n      <td>0.0</td>\n      <td>0.0</td>\n      <td>0.000000</td>\n      <td>0.0</td>\n      <td>0.0</td>\n      <td>0.000000</td>\n      <td>0.044197</td>\n      <td>0.0</td>\n      <td>...</td>\n      <td>0.0</td>\n      <td>0.059146</td>\n      <td>0.0</td>\n      <td>0.055503</td>\n      <td>0.0</td>\n      <td>0.000000</td>\n      <td>0.107255</td>\n      <td>0.000000</td>\n      <td>0.0</td>\n      <td>0.099442</td>\n    </tr>\n    <tr>\n      <th>791</th>\n      <td>cyber+security</td>\n      <td>0.0</td>\n      <td>0.0</td>\n      <td>0.0</td>\n      <td>0.000000</td>\n      <td>0.0</td>\n      <td>0.0</td>\n      <td>0.087995</td>\n      <td>0.050226</td>\n      <td>0.0</td>\n      <td>...</td>\n      <td>0.0</td>\n      <td>0.000000</td>\n      <td>0.0</td>\n      <td>0.126149</td>\n      <td>0.0</td>\n      <td>0.048291</td>\n      <td>0.000000</td>\n      <td>0.152549</td>\n      <td>0.0</td>\n      <td>0.113008</td>\n    </tr>\n    <tr>\n      <th>792</th>\n      <td>ui+ux</td>\n      <td>0.0</td>\n      <td>0.0</td>\n      <td>0.0</td>\n      <td>0.000000</td>\n      <td>0.0</td>\n      <td>0.0</td>\n      <td>0.000000</td>\n      <td>0.602373</td>\n      <td>0.0</td>\n      <td>...</td>\n      <td>0.0</td>\n      <td>0.000000</td>\n      <td>0.0</td>\n      <td>0.000000</td>\n      <td>0.0</td>\n      <td>0.231666</td>\n      <td>0.000000</td>\n      <td>0.000000</td>\n      <td>0.0</td>\n      <td>0.180710</td>\n    </tr>\n    <tr>\n      <th>793</th>\n      <td>ui+ux</td>\n      <td>0.0</td>\n      <td>0.0</td>\n      <td>0.0</td>\n      <td>0.000000</td>\n      <td>0.0</td>\n      <td>0.0</td>\n      <td>0.000000</td>\n      <td>0.388837</td>\n      <td>0.0</td>\n      <td>...</td>\n      <td>0.0</td>\n      <td>0.000000</td>\n      <td>0.0</td>\n      <td>0.162769</td>\n      <td>0.0</td>\n      <td>0.000000</td>\n      <td>0.314537</td>\n      <td>0.000000</td>\n      <td>0.0</td>\n      <td>0.194417</td>\n    </tr>\n    <tr>\n      <th>794</th>\n      <td>ui+ux</td>\n      <td>0.0</td>\n      <td>0.0</td>\n      <td>0.0</td>\n      <td>0.000000</td>\n      <td>0.0</td>\n      <td>0.0</td>\n      <td>0.000000</td>\n      <td>0.000000</td>\n      <td>0.0</td>\n      <td>...</td>\n      <td>0.0</td>\n      <td>0.000000</td>\n      <td>0.0</td>\n      <td>0.000000</td>\n      <td>0.0</td>\n      <td>0.098393</td>\n      <td>0.000000</td>\n      <td>0.000000</td>\n      <td>0.0</td>\n      <td>0.076751</td>\n    </tr>\n  </tbody>\n</table>\n<p>795 rows × 101 columns</p>\n</div>"
     },
     "execution_count": 29,
     "metadata": {},
     "output_type": "execute_result"
    }
   ],
   "source": [
    "jd_test"
   ],
   "metadata": {
    "collapsed": false,
    "pycharm": {
     "name": "#%%\n"
    }
   }
  },
  {
   "cell_type": "markdown",
   "source": [
    "### Splitting Dataset into Features and Target Vectors"
   ],
   "metadata": {
    "collapsed": false,
    "pycharm": {
     "name": "#%% md\n"
    }
   }
  },
  {
   "cell_type": "code",
   "execution_count": 30,
   "outputs": [],
   "source": [
    "jd_train_X = jd_train.iloc[:, 1:]\n",
    "jd_train_y = jd_train[[\"category\"]]\n",
    "\n",
    "jd_test_X = jd_test.iloc[:, 1:]\n",
    "jd_test_y = jd_test[[\"category\"]]"
   ],
   "metadata": {
    "collapsed": false,
    "pycharm": {
     "name": "#%%\n"
    }
   }
  },
  {
   "cell_type": "code",
   "execution_count": 31,
   "outputs": [
    {
     "data": {
      "text/plain": "category         \ncyber+security       212\nsoftware+engineer    211\nui+ux                200\ndata+analyst         172\ndtype: int64"
     },
     "execution_count": 31,
     "metadata": {},
     "output_type": "execute_result"
    }
   ],
   "source": [
    "jd_test_y.value_counts()"
   ],
   "metadata": {
    "collapsed": false,
    "pycharm": {
     "name": "#%%\n"
    }
   }
  },
  {
   "cell_type": "markdown",
   "source": [
    "### Encoding Target Variables"
   ],
   "metadata": {
    "collapsed": false,
    "pycharm": {
     "name": "#%% md\n"
    }
   }
  },
  {
   "cell_type": "code",
   "execution_count": 32,
   "outputs": [],
   "source": [
    "enc = OneHotEncoder(sparse=False)\n",
    "enc.fit(jd_train_y);"
   ],
   "metadata": {
    "collapsed": false,
    "pycharm": {
     "name": "#%%\n"
    }
   }
  },
  {
   "cell_type": "code",
   "execution_count": 33,
   "outputs": [
    {
     "data": {
      "text/plain": "[array(['cyber+security', 'data+analyst', 'software+engineer', 'ui+ux'],\n       dtype=object)]"
     },
     "execution_count": 33,
     "metadata": {},
     "output_type": "execute_result"
    }
   ],
   "source": [
    "enc.categories_"
   ],
   "metadata": {
    "collapsed": false,
    "pycharm": {
     "name": "#%%\n"
    }
   }
  },
  {
   "cell_type": "code",
   "execution_count": 34,
   "outputs": [],
   "source": [
    "jd_train_y = enc.transform(jd_train_y)\n",
    "jd_test_y = enc.transform(jd_test_y)"
   ],
   "metadata": {
    "collapsed": false,
    "pycharm": {
     "name": "#%%\n"
    }
   }
  },
  {
   "cell_type": "markdown",
   "source": [
    "### DNN Model creation and training"
   ],
   "metadata": {
    "collapsed": false,
    "pycharm": {
     "name": "#%% md\n"
    }
   }
  },
  {
   "cell_type": "code",
   "execution_count": 35,
   "outputs": [],
   "source": [
    "model = tf.keras.Sequential([\n",
    "    tf.keras.layers.Dense(32, activation='relu'),\n",
    "    tf.keras.layers.Dense(16, activation='relu'),\n",
    "    tf.keras.layers.Dense(4, activation='softmax')\n",
    "])"
   ],
   "metadata": {
    "collapsed": false,
    "pycharm": {
     "name": "#%%\n"
    }
   }
  },
  {
   "cell_type": "code",
   "execution_count": 36,
   "outputs": [],
   "source": [
    "model.compile(loss=tf.keras.losses.CategoricalCrossentropy(),\n",
    "              optimizer=tf.keras.optimizers.Adam(1e-4),\n",
    "              metrics=['accuracy', tf.keras.metrics.Recall(), tf.keras.metrics.Precision()])"
   ],
   "metadata": {
    "collapsed": false,
    "pycharm": {
     "name": "#%%\n"
    }
   }
  },
  {
   "cell_type": "code",
   "execution_count": 37,
   "outputs": [
    {
     "name": "stdout",
     "output_type": "stream",
     "text": [
      "Epoch 1/50\n",
      "  4/100 [>.............................] - ETA: 1s - loss: 1.4022 - accuracy: 0.2812 - recall_1: 0.0000e+00 - precision_1: 0.0000e+00 "
     ]
    },
    {
     "name": "stderr",
     "output_type": "stream",
     "text": [
      "2023-03-31 16:53:30.645961: I tensorflow/core/grappler/optimizers/custom_graph_optimizer_registry.cc:113] Plugin optimizer for device_type GPU is enabled.\n"
     ]
    },
    {
     "name": "stdout",
     "output_type": "stream",
     "text": [
      " 99/100 [============================>.] - ETA: 0s - loss: 1.3755 - accuracy: 0.3419 - recall_1: 0.0000e+00 - precision_1: 0.0000e+00"
     ]
    },
    {
     "name": "stderr",
     "output_type": "stream",
     "text": [
      "2023-03-31 16:53:32.047590: I tensorflow/core/grappler/optimizers/custom_graph_optimizer_registry.cc:113] Plugin optimizer for device_type GPU is enabled.\n"
     ]
    },
    {
     "name": "stdout",
     "output_type": "stream",
     "text": [
      "100/100 [==============================] - 2s 16ms/step - loss: 1.3755 - accuracy: 0.3415 - recall_1: 0.0000e+00 - precision_1: 0.0000e+00 - val_loss: 1.3641 - val_accuracy: 0.4013 - val_recall_1: 0.0000e+00 - val_precision_1: 0.0000e+00\n",
      "Epoch 2/50\n",
      "100/100 [==============================] - 1s 13ms/step - loss: 1.3514 - accuracy: 0.4173 - recall_1: 0.0000e+00 - precision_1: 0.0000e+00 - val_loss: 1.3390 - val_accuracy: 0.4868 - val_recall_1: 0.0000e+00 - val_precision_1: 0.0000e+00\n",
      "Epoch 3/50\n",
      "100/100 [==============================] - 1s 13ms/step - loss: 1.3205 - accuracy: 0.5258 - recall_1: 0.0000e+00 - precision_1: 0.0000e+00 - val_loss: 1.3056 - val_accuracy: 0.5220 - val_recall_1: 0.0000e+00 - val_precision_1: 0.0000e+00\n",
      "Epoch 4/50\n",
      "100/100 [==============================] - 1s 13ms/step - loss: 1.2814 - accuracy: 0.5981 - recall_1: 0.0000e+00 - precision_1: 0.0000e+00 - val_loss: 1.2627 - val_accuracy: 0.6214 - val_recall_1: 0.0000e+00 - val_precision_1: 0.0000e+00\n",
      "Epoch 5/50\n",
      "100/100 [==============================] - 1s 13ms/step - loss: 1.2315 - accuracy: 0.6453 - recall_1: 0.0000e+00 - precision_1: 0.0000e+00 - val_loss: 1.2083 - val_accuracy: 0.6654 - val_recall_1: 0.0000e+00 - val_precision_1: 0.0000e+00\n",
      "Epoch 6/50\n",
      "100/100 [==============================] - 1s 13ms/step - loss: 1.1685 - accuracy: 0.7069 - recall_1: 0.0019 - precision_1: 1.0000 - val_loss: 1.1402 - val_accuracy: 0.7358 - val_recall_1: 0.0151 - val_precision_1: 1.0000\n",
      "Epoch 7/50\n",
      "100/100 [==============================] - 1s 13ms/step - loss: 1.0913 - accuracy: 0.7538 - recall_1: 0.0682 - precision_1: 1.0000 - val_loss: 1.0620 - val_accuracy: 0.7484 - val_recall_1: 0.1132 - val_precision_1: 1.0000\n",
      "Epoch 8/50\n",
      "100/100 [==============================] - 1s 13ms/step - loss: 1.0087 - accuracy: 0.7717 - recall_1: 0.1456 - precision_1: 0.9978 - val_loss: 0.9813 - val_accuracy: 0.7736 - val_recall_1: 0.1560 - val_precision_1: 1.0000\n",
      "Epoch 9/50\n",
      "100/100 [==============================] - 1s 13ms/step - loss: 0.9270 - accuracy: 0.7899 - recall_1: 0.1909 - precision_1: 0.9935 - val_loss: 0.9054 - val_accuracy: 0.7887 - val_recall_1: 0.1975 - val_precision_1: 0.9752\n",
      "Epoch 10/50\n",
      "100/100 [==============================] - 1s 13ms/step - loss: 0.8507 - accuracy: 0.8016 - recall_1: 0.2893 - precision_1: 0.9808 - val_loss: 0.8362 - val_accuracy: 0.8088 - val_recall_1: 0.3006 - val_precision_1: 0.9755\n",
      "Epoch 11/50\n",
      "100/100 [==============================] - 1s 13ms/step - loss: 0.7822 - accuracy: 0.8214 - recall_1: 0.3805 - precision_1: 0.9696 - val_loss: 0.7746 - val_accuracy: 0.8176 - val_recall_1: 0.4226 - val_precision_1: 0.9628\n",
      "Epoch 12/50\n",
      "100/100 [==============================] - 1s 13ms/step - loss: 0.7214 - accuracy: 0.8242 - recall_1: 0.4840 - precision_1: 0.9494 - val_loss: 0.7208 - val_accuracy: 0.8189 - val_recall_1: 0.4868 - val_precision_1: 0.9532\n",
      "Epoch 13/50\n",
      "100/100 [==============================] - 1s 13ms/step - loss: 0.6688 - accuracy: 0.8390 - recall_1: 0.5377 - precision_1: 0.9468 - val_loss: 0.6742 - val_accuracy: 0.8302 - val_recall_1: 0.5233 - val_precision_1: 0.9306\n",
      "Epoch 14/50\n",
      "100/100 [==============================] - 1s 13ms/step - loss: 0.6234 - accuracy: 0.8431 - recall_1: 0.5673 - precision_1: 0.9280 - val_loss: 0.6335 - val_accuracy: 0.8390 - val_recall_1: 0.5509 - val_precision_1: 0.9280\n",
      "Epoch 15/50\n",
      "100/100 [==============================] - 1s 13ms/step - loss: 0.5840 - accuracy: 0.8497 - recall_1: 0.6088 - precision_1: 0.9276 - val_loss: 0.5979 - val_accuracy: 0.8453 - val_recall_1: 0.5975 - val_precision_1: 0.9241\n",
      "Epoch 16/50\n",
      "100/100 [==============================] - 1s 13ms/step - loss: 0.5499 - accuracy: 0.8538 - recall_1: 0.6541 - precision_1: 0.9195 - val_loss: 0.5677 - val_accuracy: 0.8566 - val_recall_1: 0.6780 - val_precision_1: 0.9198\n",
      "Epoch 17/50\n",
      "100/100 [==============================] - 1s 13ms/step - loss: 0.5201 - accuracy: 0.8582 - recall_1: 0.7123 - precision_1: 0.9107 - val_loss: 0.5415 - val_accuracy: 0.8541 - val_recall_1: 0.7132 - val_precision_1: 0.9265\n",
      "Epoch 18/50\n",
      "100/100 [==============================] - 1s 13ms/step - loss: 0.4943 - accuracy: 0.8626 - recall_1: 0.7365 - precision_1: 0.9109 - val_loss: 0.5171 - val_accuracy: 0.8629 - val_recall_1: 0.7509 - val_precision_1: 0.9213\n",
      "Epoch 19/50\n",
      "100/100 [==============================] - 1s 13ms/step - loss: 0.4720 - accuracy: 0.8714 - recall_1: 0.7695 - precision_1: 0.9093 - val_loss: 0.4960 - val_accuracy: 0.8541 - val_recall_1: 0.7723 - val_precision_1: 0.9219\n",
      "Epoch 20/50\n",
      "100/100 [==============================] - 1s 13ms/step - loss: 0.4521 - accuracy: 0.8698 - recall_1: 0.7934 - precision_1: 0.9092 - val_loss: 0.4774 - val_accuracy: 0.8553 - val_recall_1: 0.7836 - val_precision_1: 0.9216\n",
      "Epoch 21/50\n",
      "100/100 [==============================] - 1s 13ms/step - loss: 0.4344 - accuracy: 0.8717 - recall_1: 0.8047 - precision_1: 0.9071 - val_loss: 0.4624 - val_accuracy: 0.8579 - val_recall_1: 0.7925 - val_precision_1: 0.9157\n",
      "Epoch 22/50\n",
      "100/100 [==============================] - 1s 13ms/step - loss: 0.4187 - accuracy: 0.8745 - recall_1: 0.8129 - precision_1: 0.9042 - val_loss: 0.4465 - val_accuracy: 0.8667 - val_recall_1: 0.8063 - val_precision_1: 0.9157\n",
      "Epoch 23/50\n",
      "100/100 [==============================] - 1s 13ms/step - loss: 0.4050 - accuracy: 0.8758 - recall_1: 0.8182 - precision_1: 0.9035 - val_loss: 0.4344 - val_accuracy: 0.8692 - val_recall_1: 0.8164 - val_precision_1: 0.9141\n",
      "Epoch 24/50\n",
      "100/100 [==============================] - 1s 13ms/step - loss: 0.3924 - accuracy: 0.8808 - recall_1: 0.8277 - precision_1: 0.9042 - val_loss: 0.4231 - val_accuracy: 0.8704 - val_recall_1: 0.8239 - val_precision_1: 0.9148\n",
      "Epoch 25/50\n",
      "100/100 [==============================] - 1s 13ms/step - loss: 0.3814 - accuracy: 0.8811 - recall_1: 0.8368 - precision_1: 0.9051 - val_loss: 0.4125 - val_accuracy: 0.8704 - val_recall_1: 0.8302 - val_precision_1: 0.9078\n",
      "Epoch 26/50\n",
      "100/100 [==============================] - 1s 13ms/step - loss: 0.3713 - accuracy: 0.8833 - recall_1: 0.8437 - precision_1: 0.9046 - val_loss: 0.4026 - val_accuracy: 0.8730 - val_recall_1: 0.8314 - val_precision_1: 0.9067\n",
      "Epoch 27/50\n",
      "100/100 [==============================] - 1s 13ms/step - loss: 0.3623 - accuracy: 0.8846 - recall_1: 0.8462 - precision_1: 0.9018 - val_loss: 0.3938 - val_accuracy: 0.8742 - val_recall_1: 0.8390 - val_precision_1: 0.9075\n",
      "Epoch 28/50\n",
      "100/100 [==============================] - 1s 13ms/step - loss: 0.3541 - accuracy: 0.8858 - recall_1: 0.8487 - precision_1: 0.9015 - val_loss: 0.3854 - val_accuracy: 0.8730 - val_recall_1: 0.8415 - val_precision_1: 0.9077\n",
      "Epoch 29/50\n",
      "100/100 [==============================] - 1s 13ms/step - loss: 0.3464 - accuracy: 0.8852 - recall_1: 0.8513 - precision_1: 0.9014 - val_loss: 0.3790 - val_accuracy: 0.8742 - val_recall_1: 0.8428 - val_precision_1: 0.9054\n",
      "Epoch 30/50\n",
      "100/100 [==============================] - 1s 13ms/step - loss: 0.3397 - accuracy: 0.8871 - recall_1: 0.8563 - precision_1: 0.9029 - val_loss: 0.3725 - val_accuracy: 0.8730 - val_recall_1: 0.8516 - val_precision_1: 0.9063\n",
      "Epoch 31/50\n",
      "100/100 [==============================] - 1s 13ms/step - loss: 0.3333 - accuracy: 0.8871 - recall_1: 0.8670 - precision_1: 0.9030 - val_loss: 0.3662 - val_accuracy: 0.8730 - val_recall_1: 0.8604 - val_precision_1: 0.9048\n",
      "Epoch 32/50\n",
      "100/100 [==============================] - 1s 13ms/step - loss: 0.3278 - accuracy: 0.8874 - recall_1: 0.8682 - precision_1: 0.9038 - val_loss: 0.3612 - val_accuracy: 0.8742 - val_recall_1: 0.8604 - val_precision_1: 0.9048\n",
      "Epoch 33/50\n",
      "100/100 [==============================] - 1s 13ms/step - loss: 0.3224 - accuracy: 0.8871 - recall_1: 0.8692 - precision_1: 0.9030 - val_loss: 0.3556 - val_accuracy: 0.8742 - val_recall_1: 0.8604 - val_precision_1: 0.9036\n",
      "Epoch 34/50\n",
      "100/100 [==============================] - 1s 13ms/step - loss: 0.3175 - accuracy: 0.8893 - recall_1: 0.8720 - precision_1: 0.9038 - val_loss: 0.3518 - val_accuracy: 0.8742 - val_recall_1: 0.8604 - val_precision_1: 0.9024\n",
      "Epoch 35/50\n",
      "100/100 [==============================] - 1s 13ms/step - loss: 0.3129 - accuracy: 0.8871 - recall_1: 0.8733 - precision_1: 0.9037 - val_loss: 0.3465 - val_accuracy: 0.8767 - val_recall_1: 0.8616 - val_precision_1: 0.9037\n",
      "Epoch 36/50\n",
      "100/100 [==============================] - 1s 13ms/step - loss: 0.3085 - accuracy: 0.8896 - recall_1: 0.8761 - precision_1: 0.9048 - val_loss: 0.3418 - val_accuracy: 0.8767 - val_recall_1: 0.8654 - val_precision_1: 0.9041\n",
      "Epoch 37/50\n",
      "100/100 [==============================] - 1s 13ms/step - loss: 0.3048 - accuracy: 0.8890 - recall_1: 0.8777 - precision_1: 0.9050 - val_loss: 0.3379 - val_accuracy: 0.8767 - val_recall_1: 0.8667 - val_precision_1: 0.9030\n",
      "Epoch 38/50\n",
      "100/100 [==============================] - 1s 14ms/step - loss: 0.3012 - accuracy: 0.8893 - recall_1: 0.8783 - precision_1: 0.9048 - val_loss: 0.3346 - val_accuracy: 0.8780 - val_recall_1: 0.8629 - val_precision_1: 0.9026\n",
      "Epoch 39/50\n",
      "100/100 [==============================] - 1s 13ms/step - loss: 0.2978 - accuracy: 0.8909 - recall_1: 0.8796 - precision_1: 0.9037 - val_loss: 0.3320 - val_accuracy: 0.8755 - val_recall_1: 0.8654 - val_precision_1: 0.9029\n",
      "Epoch 40/50\n",
      "100/100 [==============================] - 1s 13ms/step - loss: 0.2947 - accuracy: 0.8899 - recall_1: 0.8802 - precision_1: 0.9044 - val_loss: 0.3288 - val_accuracy: 0.8755 - val_recall_1: 0.8667 - val_precision_1: 0.9030\n",
      "Epoch 41/50\n",
      "100/100 [==============================] - 1s 13ms/step - loss: 0.2916 - accuracy: 0.8918 - recall_1: 0.8824 - precision_1: 0.9052 - val_loss: 0.3255 - val_accuracy: 0.8767 - val_recall_1: 0.8654 - val_precision_1: 0.9029\n",
      "Epoch 42/50\n",
      "100/100 [==============================] - 1s 13ms/step - loss: 0.2888 - accuracy: 0.8931 - recall_1: 0.8833 - precision_1: 0.9064 - val_loss: 0.3226 - val_accuracy: 0.8767 - val_recall_1: 0.8679 - val_precision_1: 0.9020\n",
      "Epoch 43/50\n",
      "100/100 [==============================] - 1s 13ms/step - loss: 0.2862 - accuracy: 0.8965 - recall_1: 0.8890 - precision_1: 0.9099 - val_loss: 0.3206 - val_accuracy: 0.8755 - val_recall_1: 0.8667 - val_precision_1: 0.9018\n",
      "Epoch 44/50\n",
      "100/100 [==============================] - 1s 13ms/step - loss: 0.2835 - accuracy: 0.8997 - recall_1: 0.8925 - precision_1: 0.9137 - val_loss: 0.3173 - val_accuracy: 0.8855 - val_recall_1: 0.8742 - val_precision_1: 0.9097\n",
      "Epoch 45/50\n",
      "100/100 [==============================] - 1s 13ms/step - loss: 0.2811 - accuracy: 0.9003 - recall_1: 0.8928 - precision_1: 0.9140 - val_loss: 0.3153 - val_accuracy: 0.8843 - val_recall_1: 0.8730 - val_precision_1: 0.9096\n",
      "Epoch 46/50\n",
      "100/100 [==============================] - 1s 13ms/step - loss: 0.2788 - accuracy: 0.9009 - recall_1: 0.8931 - precision_1: 0.9152 - val_loss: 0.3121 - val_accuracy: 0.8893 - val_recall_1: 0.8755 - val_precision_1: 0.9098\n",
      "Epoch 47/50\n",
      "100/100 [==============================] - 1s 13ms/step - loss: 0.2767 - accuracy: 0.9019 - recall_1: 0.8937 - precision_1: 0.9159 - val_loss: 0.3100 - val_accuracy: 0.8868 - val_recall_1: 0.8742 - val_precision_1: 0.9097\n",
      "Epoch 48/50\n",
      "100/100 [==============================] - 1s 13ms/step - loss: 0.2746 - accuracy: 0.9035 - recall_1: 0.8947 - precision_1: 0.9166 - val_loss: 0.3078 - val_accuracy: 0.8855 - val_recall_1: 0.8730 - val_precision_1: 0.9072\n",
      "Epoch 49/50\n",
      "100/100 [==============================] - 1s 13ms/step - loss: 0.2725 - accuracy: 0.9035 - recall_1: 0.8950 - precision_1: 0.9157 - val_loss: 0.3063 - val_accuracy: 0.8868 - val_recall_1: 0.8730 - val_precision_1: 0.9096\n",
      "Epoch 50/50\n",
      "100/100 [==============================] - 1s 13ms/step - loss: 0.2707 - accuracy: 0.9035 - recall_1: 0.8950 - precision_1: 0.9169 - val_loss: 0.3044 - val_accuracy: 0.8918 - val_recall_1: 0.8767 - val_precision_1: 0.9111\n"
     ]
    }
   ],
   "source": [
    "history = model.fit(jd_train_X, jd_train_y, epochs=50, validation_steps=30, validation_data=(jd_test_X, jd_test_y))"
   ],
   "metadata": {
    "collapsed": false,
    "pycharm": {
     "name": "#%%\n"
    }
   }
  },
  {
   "cell_type": "markdown",
   "source": [
    "### Viewing learning curves"
   ],
   "metadata": {
    "collapsed": false,
    "pycharm": {
     "name": "#%% md\n"
    }
   }
  },
  {
   "cell_type": "code",
   "execution_count": 38,
   "outputs": [
    {
     "data": {
      "text/plain": "(0.0, 1.4307014986872673)"
     },
     "execution_count": 38,
     "metadata": {},
     "output_type": "execute_result"
    },
    {
     "data": {
      "text/plain": "<Figure size 1152x576 with 2 Axes>",
      "image/png": "[encoded data removed]"
     },
     "metadata": {
      "needs_background": "light"
     },
     "output_type": "display_data"
    }
   ],
   "source": [
    "plt.figure(figsize=(16, 8))\n",
    "plt.subplot(1, 2, 1)\n",
    "plot_graphs(history, 'accuracy')\n",
    "plt.ylim(None, 1)\n",
    "plt.subplot(1, 2, 2)\n",
    "plot_graphs(history, 'loss')\n",
    "plt.ylim(0, None)"
   ],
   "metadata": {
    "collapsed": false,
    "pycharm": {
     "name": "#%%\n"
    }
   }
  },
  {
   "cell_type": "markdown",
   "source": [
    "### Saving the model"
   ],
   "metadata": {
    "collapsed": false,
    "pycharm": {
     "name": "#%% md\n"
    }
   }
  },
  {
   "cell_type": "code",
   "execution_count": 39,
   "outputs": [],
   "source": [
    "model.save(\"tf_models/dnn_hard.h5\")"
   ],
   "metadata": {
    "collapsed": false,
    "pycharm": {
     "name": "#%%\n"
    }
   }
  },
  {
   "cell_type": "markdown",
   "source": [],
   "metadata": {
    "collapsed": false,
    "pycharm": {
     "name": "#%% md\n"
    }
   }
  },
  {
   "cell_type": "markdown",
   "source": [],
   "metadata": {
    "collapsed": false,
    "pycharm": {
     "name": "#%% md\n"
    }
   }
  }
 ],
 "metadata": {
  "kernelspec": {
   "display_name": "Python 3",
   "language": "python",
   "name": "python3"
  },
  "language_info": {
   "codemirror_mode": {
    "name": "ipython",
    "version": 3
   },
   "file_extension": ".py",
   "mimetype": "text/x-python",
   "name": "python",
   "nbconvert_exporter": "python",
   "pygments_lexer": "ipython3",
   "version": "3.10.8"
  },
  "orig_nbformat": 4
 },
 "nbformat": 4,
 "nbformat_minor": 2
}