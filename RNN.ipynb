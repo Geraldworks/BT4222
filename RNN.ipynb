{
 "cells": [
  {
   "cell_type": "code",
   "execution_count": 1,
   "metadata": {
    "pycharm": {
     "name": "#%%\n"
    }
   },
   "outputs": [],
   "source": [
    "import tensorflow as tf\n",
    "import pandas as pd\n",
    "import matplotlib.pyplot as plt\n",
    "\n",
    "from bs4 import BeautifulSoup\n",
    "from sentence_transformers import SentenceTransformer\n",
    "from sklearn.preprocessing import OneHotEncoder"
   ]
  },
  {
   "cell_type": "code",
   "execution_count": 2,
   "metadata": {
    "pycharm": {
     "name": "#%%\n"
    }
   },
   "outputs": [],
   "source": [
    "is_working_with_easy_dataset = True"
   ]
  },
  {
   "cell_type": "code",
   "execution_count": 3,
   "metadata": {
    "pycharm": {
     "name": "#%%\n"
    }
   },
   "outputs": [],
   "source": [
    "def get_text(html_text):\n",
    "    soup = BeautifulSoup(html_text)\n",
    "    return soup.get_text()\n",
    "\n",
    "def embed(model, txt):\n",
    "    txt = [txt]\n",
    "    embeddings = model.encode(txt)\n",
    "    for sentence, embedding in zip(txt, embeddings):\n",
    "        return embedding\n",
    "\n",
    "def plot_graphs(history, metric):\n",
    "    plt.plot(history.history[metric])\n",
    "    plt.plot(history.history['val_'+metric], '')\n",
    "    plt.xlabel(\"Epochs\")\n",
    "    plt.ylabel(metric)\n",
    "    plt.legend([metric, 'val_'+metric])"
   ]
  },
  {
   "cell_type": "markdown",
   "source": [
    "## Loading in Dataset for Vectorization"
   ],
   "metadata": {
    "collapsed": false,
    "pycharm": {
     "name": "#%% md\n"
    }
   }
  },
  {
   "cell_type": "code",
   "execution_count": 120,
   "metadata": {
    "pycharm": {
     "name": "#%%\n"
    }
   },
   "outputs": [],
   "source": [
    "if is_working_with_easy_dataset:\n",
    "    input_train_filename = \"jd_easy_train.csv\"\n",
    "    input_test_filename = \"jd_easy_test.csv\"\n",
    "else:\n",
    "    input_train_filename = \"jd_difficult_train.csv\"\n",
    "    input_test_filename = \"jd_difficult_test.csv\"\n",
    "\n",
    "jd_train = pd.read_csv(input_train_filename, keep_default_na=False)\n",
    "jd_test = pd.read_csv(input_test_filename, keep_default_na=False)"
   ]
  },
  {
   "cell_type": "code",
   "execution_count": 121,
   "metadata": {
    "pycharm": {
     "name": "#%%\n"
    }
   },
   "outputs": [],
   "source": [
    "model = SentenceTransformer('all-MiniLM-L6-v2')"
   ]
  },
  {
   "cell_type": "code",
   "execution_count": 122,
   "metadata": {
    "pycharm": {
     "name": "#%%\n"
    }
   },
   "outputs": [
    {
     "data": {
      "text/plain": "               category         0         1         2         3         4  \\\n0     software+engineer -0.007818  0.015209 -0.032915 -0.040774 -0.075819   \n1                  arts -0.039281 -0.037813 -0.002049 -0.079996 -0.009300   \n2                    hr -0.099071  0.067754 -0.018720  0.065808 -0.019722   \n3                  arts -0.000244 -0.010329  0.005088  0.019951  0.031961   \n4                  arts  0.037742 -0.058576  0.017413 -0.007462 -0.010717   \n...                 ...       ...       ...       ...       ...       ...   \n3177  software+engineer -0.092087  0.031149 -0.008015 -0.022320 -0.046425   \n3178              sales -0.078644  0.031273  0.041027 -0.058212 -0.068799   \n3179               arts -0.101251  0.041866 -0.005444 -0.011291 -0.032258   \n3180                 hr -0.051157  0.022184  0.029747  0.018414 -0.007712   \n3181                 hr -0.037771  0.040630 -0.033029  0.056949 -0.050621   \n\n             5         6         7         8  ...       374       375  \\\n0    -0.122257  0.003905  0.105021 -0.081435  ...  0.036517  0.067738   \n1     0.014721  0.028362 -0.028484 -0.047296  ...  0.061370  0.030016   \n2    -0.006825 -0.010283  0.001540 -0.087364  ...  0.081999  0.114448   \n3    -0.004796 -0.056017  0.008362 -0.058531  ...  0.018572  0.015595   \n4    -0.022504 -0.016252  0.022974 -0.052209  ...  0.015944  0.056351   \n...        ...       ...       ...       ...  ...       ...       ...   \n3177 -0.083988  0.008692  0.036745 -0.129390  ...  0.008609  0.064561   \n3178  0.024472  0.047536  0.047297 -0.061370  ... -0.022879  0.019196   \n3179 -0.016939  0.026778  0.046210 -0.083376  ...  0.004621  0.021080   \n3180 -0.003600  0.016207  0.049001 -0.018576  ...  0.000053  0.008966   \n3181 -0.047433 -0.007329  0.009315 -0.052792  ...  0.005489  0.047084   \n\n           376       377       378       379       380       381       382  \\\n0     0.017234 -0.021146 -0.005016  0.052575  0.016892  0.011725  0.031423   \n1    -0.020944  0.025066 -0.054447  0.042434 -0.016480 -0.065129 -0.121761   \n2     0.022363 -0.051149  0.002981  0.086356  0.092362 -0.042364 -0.033669   \n3     0.026521  0.006298 -0.024210  0.076719 -0.001265 -0.029895 -0.037964   \n4     0.060758  0.049852 -0.018264  0.075948  0.001910 -0.011242 -0.045209   \n...        ...       ...       ...       ...       ...       ...       ...   \n3177 -0.016291 -0.005272 -0.021538  0.051470  0.078117 -0.018555 -0.036695   \n3178  0.019246 -0.004855  0.016442  0.089635  0.074209 -0.086454 -0.098238   \n3179  0.026186  0.022296 -0.041951  0.082195  0.048774 -0.097376 -0.085289   \n3180 -0.015656 -0.005649 -0.080121  0.053882  0.070258 -0.079552 -0.019765   \n3181  0.037522 -0.024134 -0.032097  0.051435  0.104937 -0.089167 -0.052026   \n\n           383  \n0     0.008097  \n1     0.036031  \n2     0.060429  \n3     0.052187  \n4     0.029765  \n...        ...  \n3177 -0.013603  \n3178  0.072741  \n3179  0.013674  \n3180  0.002172  \n3181  0.026151  \n\n[3182 rows x 385 columns]",
      "text/html": "<div>\n<style scoped>\n    .dataframe tbody tr th:only-of-type {\n        vertical-align: middle;\n    }\n\n    .dataframe tbody tr th {\n        vertical-align: top;\n    }\n\n    .dataframe thead th {\n        text-align: right;\n    }\n</style>\n<table border=\"1\" class=\"dataframe\">\n  <thead>\n    <tr style=\"text-align: right;\">\n      <th></th>\n      <th>category</th>\n      <th>0</th>\n      <th>1</th>\n      <th>2</th>\n      <th>3</th>\n      <th>4</th>\n      <th>5</th>\n      <th>6</th>\n      <th>7</th>\n      <th>8</th>\n      <th>...</th>\n      <th>374</th>\n      <th>375</th>\n      <th>376</th>\n      <th>377</th>\n      <th>378</th>\n      <th>379</th>\n      <th>380</th>\n      <th>381</th>\n      <th>382</th>\n      <th>383</th>\n    </tr>\n  </thead>\n  <tbody>\n    <tr>\n      <th>0</th>\n      <td>software+engineer</td>\n      <td>-0.007818</td>\n      <td>0.015209</td>\n      <td>-0.032915</td>\n      <td>-0.040774</td>\n      <td>-0.075819</td>\n      <td>-0.122257</td>\n      <td>0.003905</td>\n      <td>0.105021</td>\n      <td>-0.081435</td>\n      <td>...</td>\n      <td>0.036517</td>\n      <td>0.067738</td>\n      <td>0.017234</td>\n      <td>-0.021146</td>\n      <td>-0.005016</td>\n      <td>0.052575</td>\n      <td>0.016892</td>\n      <td>0.011725</td>\n      <td>0.031423</td>\n      <td>0.008097</td>\n    </tr>\n    <tr>\n      <th>1</th>\n      <td>arts</td>\n      <td>-0.039281</td>\n      <td>-0.037813</td>\n      <td>-0.002049</td>\n      <td>-0.079996</td>\n      <td>-0.009300</td>\n      <td>0.014721</td>\n      <td>0.028362</td>\n      <td>-0.028484</td>\n      <td>-0.047296</td>\n      <td>...</td>\n      <td>0.061370</td>\n      <td>0.030016</td>\n      <td>-0.020944</td>\n      <td>0.025066</td>\n      <td>-0.054447</td>\n      <td>0.042434</td>\n      <td>-0.016480</td>\n      <td>-0.065129</td>\n      <td>-0.121761</td>\n      <td>0.036031</td>\n    </tr>\n    <tr>\n      <th>2</th>\n      <td>hr</td>\n      <td>-0.099071</td>\n      <td>0.067754</td>\n      <td>-0.018720</td>\n      <td>0.065808</td>\n      <td>-0.019722</td>\n      <td>-0.006825</td>\n      <td>-0.010283</td>\n      <td>0.001540</td>\n      <td>-0.087364</td>\n      <td>...</td>\n      <td>0.081999</td>\n      <td>0.114448</td>\n      <td>0.022363</td>\n      <td>-0.051149</td>\n      <td>0.002981</td>\n      <td>0.086356</td>\n      <td>0.092362</td>\n      <td>-0.042364</td>\n      <td>-0.033669</td>\n      <td>0.060429</td>\n    </tr>\n    <tr>\n      <th>3</th>\n      <td>arts</td>\n      <td>-0.000244</td>\n      <td>-0.010329</td>\n      <td>0.005088</td>\n      <td>0.019951</td>\n      <td>0.031961</td>\n      <td>-0.004796</td>\n      <td>-0.056017</td>\n      <td>0.008362</td>\n      <td>-0.058531</td>\n      <td>...</td>\n      <td>0.018572</td>\n      <td>0.015595</td>\n      <td>0.026521</td>\n      <td>0.006298</td>\n      <td>-0.024210</td>\n      <td>0.076719</td>\n      <td>-0.001265</td>\n      <td>-0.029895</td>\n      <td>-0.037964</td>\n      <td>0.052187</td>\n    </tr>\n    <tr>\n      <th>4</th>\n      <td>arts</td>\n      <td>0.037742</td>\n      <td>-0.058576</td>\n      <td>0.017413</td>\n      <td>-0.007462</td>\n      <td>-0.010717</td>\n      <td>-0.022504</td>\n      <td>-0.016252</td>\n      <td>0.022974</td>\n      <td>-0.052209</td>\n      <td>...</td>\n      <td>0.015944</td>\n      <td>0.056351</td>\n      <td>0.060758</td>\n      <td>0.049852</td>\n      <td>-0.018264</td>\n      <td>0.075948</td>\n      <td>0.001910</td>\n      <td>-0.011242</td>\n      <td>-0.045209</td>\n      <td>0.029765</td>\n    </tr>\n    <tr>\n      <th>...</th>\n      <td>...</td>\n      <td>...</td>\n      <td>...</td>\n      <td>...</td>\n      <td>...</td>\n      <td>...</td>\n      <td>...</td>\n      <td>...</td>\n      <td>...</td>\n      <td>...</td>\n      <td>...</td>\n      <td>...</td>\n      <td>...</td>\n      <td>...</td>\n      <td>...</td>\n      <td>...</td>\n      <td>...</td>\n      <td>...</td>\n      <td>...</td>\n      <td>...</td>\n      <td>...</td>\n    </tr>\n    <tr>\n      <th>3177</th>\n      <td>software+engineer</td>\n      <td>-0.092087</td>\n      <td>0.031149</td>\n      <td>-0.008015</td>\n      <td>-0.022320</td>\n      <td>-0.046425</td>\n      <td>-0.083988</td>\n      <td>0.008692</td>\n      <td>0.036745</td>\n      <td>-0.129390</td>\n      <td>...</td>\n      <td>0.008609</td>\n      <td>0.064561</td>\n      <td>-0.016291</td>\n      <td>-0.005272</td>\n      <td>-0.021538</td>\n      <td>0.051470</td>\n      <td>0.078117</td>\n      <td>-0.018555</td>\n      <td>-0.036695</td>\n      <td>-0.013603</td>\n    </tr>\n    <tr>\n      <th>3178</th>\n      <td>sales</td>\n      <td>-0.078644</td>\n      <td>0.031273</td>\n      <td>0.041027</td>\n      <td>-0.058212</td>\n      <td>-0.068799</td>\n      <td>0.024472</td>\n      <td>0.047536</td>\n      <td>0.047297</td>\n      <td>-0.061370</td>\n      <td>...</td>\n      <td>-0.022879</td>\n      <td>0.019196</td>\n      <td>0.019246</td>\n      <td>-0.004855</td>\n      <td>0.016442</td>\n      <td>0.089635</td>\n      <td>0.074209</td>\n      <td>-0.086454</td>\n      <td>-0.098238</td>\n      <td>0.072741</td>\n    </tr>\n    <tr>\n      <th>3179</th>\n      <td>arts</td>\n      <td>-0.101251</td>\n      <td>0.041866</td>\n      <td>-0.005444</td>\n      <td>-0.011291</td>\n      <td>-0.032258</td>\n      <td>-0.016939</td>\n      <td>0.026778</td>\n      <td>0.046210</td>\n      <td>-0.083376</td>\n      <td>...</td>\n      <td>0.004621</td>\n      <td>0.021080</td>\n      <td>0.026186</td>\n      <td>0.022296</td>\n      <td>-0.041951</td>\n      <td>0.082195</td>\n      <td>0.048774</td>\n      <td>-0.097376</td>\n      <td>-0.085289</td>\n      <td>0.013674</td>\n    </tr>\n    <tr>\n      <th>3180</th>\n      <td>hr</td>\n      <td>-0.051157</td>\n      <td>0.022184</td>\n      <td>0.029747</td>\n      <td>0.018414</td>\n      <td>-0.007712</td>\n      <td>-0.003600</td>\n      <td>0.016207</td>\n      <td>0.049001</td>\n      <td>-0.018576</td>\n      <td>...</td>\n      <td>0.000053</td>\n      <td>0.008966</td>\n      <td>-0.015656</td>\n      <td>-0.005649</td>\n      <td>-0.080121</td>\n      <td>0.053882</td>\n      <td>0.070258</td>\n      <td>-0.079552</td>\n      <td>-0.019765</td>\n      <td>0.002172</td>\n    </tr>\n    <tr>\n      <th>3181</th>\n      <td>hr</td>\n      <td>-0.037771</td>\n      <td>0.040630</td>\n      <td>-0.033029</td>\n      <td>0.056949</td>\n      <td>-0.050621</td>\n      <td>-0.047433</td>\n      <td>-0.007329</td>\n      <td>0.009315</td>\n      <td>-0.052792</td>\n      <td>...</td>\n      <td>0.005489</td>\n      <td>0.047084</td>\n      <td>0.037522</td>\n      <td>-0.024134</td>\n      <td>-0.032097</td>\n      <td>0.051435</td>\n      <td>0.104937</td>\n      <td>-0.089167</td>\n      <td>-0.052026</td>\n      <td>0.026151</td>\n    </tr>\n  </tbody>\n</table>\n<p>3182 rows × 385 columns</p>\n</div>"
     },
     "execution_count": 122,
     "metadata": {},
     "output_type": "execute_result"
    }
   ],
   "source": [
    "embedding_vectors_train = list(\n",
    "    pd.Series.tolist(jd_train.description.apply(lambda x: embed(model, get_text(x)))))\n",
    "embedding_train = pd.concat(\n",
    "    [jd_train.category, pd.DataFrame(embedding_vectors_train)], axis=1)\n",
    "embedding_train"
   ]
  },
  {
   "cell_type": "code",
   "execution_count": 123,
   "metadata": {
    "pycharm": {
     "name": "#%%\n"
    }
   },
   "outputs": [
    {
     "data": {
      "text/plain": "              category         0         1         2         3         4  \\\n0    software+engineer -0.113818  0.008952 -0.004451  0.003387  0.041243   \n1                sales -0.019982 -0.019572 -0.043766  0.038807 -0.021798   \n2                sales -0.061115  0.037327 -0.035323  0.007244 -0.014231   \n3                sales -0.110860  0.012782 -0.030584 -0.077872 -0.102458   \n4                 arts -0.044880  0.017243  0.052809 -0.012010  0.038006   \n..                 ...       ...       ...       ...       ...       ...   \n791  software+engineer -0.131392 -0.029033 -0.082744 -0.039305 -0.028481   \n792  software+engineer -0.043274 -0.032123  0.041134 -0.017565  0.032743   \n793  software+engineer -0.006800 -0.087576 -0.029101 -0.043830 -0.068833   \n794                 hr -0.128770  0.043694 -0.002058  0.047944 -0.053523   \n795                 hr -0.079189  0.014116 -0.021597  0.034801 -0.050730   \n\n            5         6         7         8  ...       374       375  \\\n0   -0.074476  0.027237  0.074545 -0.080968  ...  0.016368  0.115178   \n1   -0.003498 -0.008579 -0.007094  0.017747  ...  0.023369 -0.032173   \n2    0.054096  0.095702  0.017702 -0.064049  ...  0.024937  0.007117   \n3    0.048481  0.027282  0.055432 -0.007119  ... -0.057282  0.060048   \n4   -0.025841  0.002447  0.005194 -0.023129  ...  0.014638  0.062186   \n..        ...       ...       ...       ...  ...       ...       ...   \n791 -0.063193 -0.057688  0.128488 -0.072210  ... -0.023796  0.086397   \n792 -0.072493  0.013035 -0.040865  0.005068  ...  0.003571  0.061880   \n793 -0.016611  0.032965  0.086794 -0.112048  ...  0.093700  0.060009   \n794  0.042907  0.058572 -0.007716 -0.058442  ... -0.018871  0.036778   \n795 -0.014727 -0.056692 -0.020434 -0.031112  ...  0.056226  0.025051   \n\n          376       377       378       379       380       381       382  \\\n0    0.065218 -0.074784  0.057262  0.082102  0.059299 -0.031293  0.007032   \n1   -0.008954 -0.028408 -0.041258 -0.016728  0.078255 -0.043575  0.043920   \n2    0.029717  0.036748 -0.017619  0.084793  0.017758 -0.004776 -0.067190   \n3    0.012040  0.056503 -0.008248  0.102686 -0.004278 -0.015446 -0.055078   \n4    0.076078 -0.041519 -0.023763  0.048595  0.060352 -0.011345 -0.059987   \n..        ...       ...       ...       ...       ...       ...       ...   \n791 -0.071659 -0.031082 -0.003570  0.047519  0.033251 -0.166673 -0.007538   \n792  0.018539 -0.087545  0.026615  0.099625  0.018813 -0.029922  0.014897   \n793 -0.031102  0.073509  0.054705  0.061826  0.028178 -0.001595 -0.046012   \n794 -0.042918 -0.002689 -0.052095  0.123027  0.064848 -0.024640  0.003905   \n795  0.044193 -0.059260 -0.099940  0.062814  0.032975 -0.039858  0.017513   \n\n          383  \n0    0.071702  \n1   -0.008786  \n2    0.031323  \n3    0.049244  \n4    0.039882  \n..        ...  \n791 -0.031994  \n792 -0.003446  \n793 -0.033700  \n794  0.014744  \n795 -0.004559  \n\n[796 rows x 385 columns]",
      "text/html": "<div>\n<style scoped>\n    .dataframe tbody tr th:only-of-type {\n        vertical-align: middle;\n    }\n\n    .dataframe tbody tr th {\n        vertical-align: top;\n    }\n\n    .dataframe thead th {\n        text-align: right;\n    }\n</style>\n<table border=\"1\" class=\"dataframe\">\n  <thead>\n    <tr style=\"text-align: right;\">\n      <th></th>\n      <th>category</th>\n      <th>0</th>\n      <th>1</th>\n      <th>2</th>\n      <th>3</th>\n      <th>4</th>\n      <th>5</th>\n      <th>6</th>\n      <th>7</th>\n      <th>8</th>\n      <th>...</th>\n      <th>374</th>\n      <th>375</th>\n      <th>376</th>\n      <th>377</th>\n      <th>378</th>\n      <th>379</th>\n      <th>380</th>\n      <th>381</th>\n      <th>382</th>\n      <th>383</th>\n    </tr>\n  </thead>\n  <tbody>\n    <tr>\n      <th>0</th>\n      <td>software+engineer</td>\n      <td>-0.113818</td>\n      <td>0.008952</td>\n      <td>-0.004451</td>\n      <td>0.003387</td>\n      <td>0.041243</td>\n      <td>-0.074476</td>\n      <td>0.027237</td>\n      <td>0.074545</td>\n      <td>-0.080968</td>\n      <td>...</td>\n      <td>0.016368</td>\n      <td>0.115178</td>\n      <td>0.065218</td>\n      <td>-0.074784</td>\n      <td>0.057262</td>\n      <td>0.082102</td>\n      <td>0.059299</td>\n      <td>-0.031293</td>\n      <td>0.007032</td>\n      <td>0.071702</td>\n    </tr>\n    <tr>\n      <th>1</th>\n      <td>sales</td>\n      <td>-0.019982</td>\n      <td>-0.019572</td>\n      <td>-0.043766</td>\n      <td>0.038807</td>\n      <td>-0.021798</td>\n      <td>-0.003498</td>\n      <td>-0.008579</td>\n      <td>-0.007094</td>\n      <td>0.017747</td>\n      <td>...</td>\n      <td>0.023369</td>\n      <td>-0.032173</td>\n      <td>-0.008954</td>\n      <td>-0.028408</td>\n      <td>-0.041258</td>\n      <td>-0.016728</td>\n      <td>0.078255</td>\n      <td>-0.043575</td>\n      <td>0.043920</td>\n      <td>-0.008786</td>\n    </tr>\n    <tr>\n      <th>2</th>\n      <td>sales</td>\n      <td>-0.061115</td>\n      <td>0.037327</td>\n      <td>-0.035323</td>\n      <td>0.007244</td>\n      <td>-0.014231</td>\n      <td>0.054096</td>\n      <td>0.095702</td>\n      <td>0.017702</td>\n      <td>-0.064049</td>\n      <td>...</td>\n      <td>0.024937</td>\n      <td>0.007117</td>\n      <td>0.029717</td>\n      <td>0.036748</td>\n      <td>-0.017619</td>\n      <td>0.084793</td>\n      <td>0.017758</td>\n      <td>-0.004776</td>\n      <td>-0.067190</td>\n      <td>0.031323</td>\n    </tr>\n    <tr>\n      <th>3</th>\n      <td>sales</td>\n      <td>-0.110860</td>\n      <td>0.012782</td>\n      <td>-0.030584</td>\n      <td>-0.077872</td>\n      <td>-0.102458</td>\n      <td>0.048481</td>\n      <td>0.027282</td>\n      <td>0.055432</td>\n      <td>-0.007119</td>\n      <td>...</td>\n      <td>-0.057282</td>\n      <td>0.060048</td>\n      <td>0.012040</td>\n      <td>0.056503</td>\n      <td>-0.008248</td>\n      <td>0.102686</td>\n      <td>-0.004278</td>\n      <td>-0.015446</td>\n      <td>-0.055078</td>\n      <td>0.049244</td>\n    </tr>\n    <tr>\n      <th>4</th>\n      <td>arts</td>\n      <td>-0.044880</td>\n      <td>0.017243</td>\n      <td>0.052809</td>\n      <td>-0.012010</td>\n      <td>0.038006</td>\n      <td>-0.025841</td>\n      <td>0.002447</td>\n      <td>0.005194</td>\n      <td>-0.023129</td>\n      <td>...</td>\n      <td>0.014638</td>\n      <td>0.062186</td>\n      <td>0.076078</td>\n      <td>-0.041519</td>\n      <td>-0.023763</td>\n      <td>0.048595</td>\n      <td>0.060352</td>\n      <td>-0.011345</td>\n      <td>-0.059987</td>\n      <td>0.039882</td>\n    </tr>\n    <tr>\n      <th>...</th>\n      <td>...</td>\n      <td>...</td>\n      <td>...</td>\n      <td>...</td>\n      <td>...</td>\n      <td>...</td>\n      <td>...</td>\n      <td>...</td>\n      <td>...</td>\n      <td>...</td>\n      <td>...</td>\n      <td>...</td>\n      <td>...</td>\n      <td>...</td>\n      <td>...</td>\n      <td>...</td>\n      <td>...</td>\n      <td>...</td>\n      <td>...</td>\n      <td>...</td>\n      <td>...</td>\n    </tr>\n    <tr>\n      <th>791</th>\n      <td>software+engineer</td>\n      <td>-0.131392</td>\n      <td>-0.029033</td>\n      <td>-0.082744</td>\n      <td>-0.039305</td>\n      <td>-0.028481</td>\n      <td>-0.063193</td>\n      <td>-0.057688</td>\n      <td>0.128488</td>\n      <td>-0.072210</td>\n      <td>...</td>\n      <td>-0.023796</td>\n      <td>0.086397</td>\n      <td>-0.071659</td>\n      <td>-0.031082</td>\n      <td>-0.003570</td>\n      <td>0.047519</td>\n      <td>0.033251</td>\n      <td>-0.166673</td>\n      <td>-0.007538</td>\n      <td>-0.031994</td>\n    </tr>\n    <tr>\n      <th>792</th>\n      <td>software+engineer</td>\n      <td>-0.043274</td>\n      <td>-0.032123</td>\n      <td>0.041134</td>\n      <td>-0.017565</td>\n      <td>0.032743</td>\n      <td>-0.072493</td>\n      <td>0.013035</td>\n      <td>-0.040865</td>\n      <td>0.005068</td>\n      <td>...</td>\n      <td>0.003571</td>\n      <td>0.061880</td>\n      <td>0.018539</td>\n      <td>-0.087545</td>\n      <td>0.026615</td>\n      <td>0.099625</td>\n      <td>0.018813</td>\n      <td>-0.029922</td>\n      <td>0.014897</td>\n      <td>-0.003446</td>\n    </tr>\n    <tr>\n      <th>793</th>\n      <td>software+engineer</td>\n      <td>-0.006800</td>\n      <td>-0.087576</td>\n      <td>-0.029101</td>\n      <td>-0.043830</td>\n      <td>-0.068833</td>\n      <td>-0.016611</td>\n      <td>0.032965</td>\n      <td>0.086794</td>\n      <td>-0.112048</td>\n      <td>...</td>\n      <td>0.093700</td>\n      <td>0.060009</td>\n      <td>-0.031102</td>\n      <td>0.073509</td>\n      <td>0.054705</td>\n      <td>0.061826</td>\n      <td>0.028178</td>\n      <td>-0.001595</td>\n      <td>-0.046012</td>\n      <td>-0.033700</td>\n    </tr>\n    <tr>\n      <th>794</th>\n      <td>hr</td>\n      <td>-0.128770</td>\n      <td>0.043694</td>\n      <td>-0.002058</td>\n      <td>0.047944</td>\n      <td>-0.053523</td>\n      <td>0.042907</td>\n      <td>0.058572</td>\n      <td>-0.007716</td>\n      <td>-0.058442</td>\n      <td>...</td>\n      <td>-0.018871</td>\n      <td>0.036778</td>\n      <td>-0.042918</td>\n      <td>-0.002689</td>\n      <td>-0.052095</td>\n      <td>0.123027</td>\n      <td>0.064848</td>\n      <td>-0.024640</td>\n      <td>0.003905</td>\n      <td>0.014744</td>\n    </tr>\n    <tr>\n      <th>795</th>\n      <td>hr</td>\n      <td>-0.079189</td>\n      <td>0.014116</td>\n      <td>-0.021597</td>\n      <td>0.034801</td>\n      <td>-0.050730</td>\n      <td>-0.014727</td>\n      <td>-0.056692</td>\n      <td>-0.020434</td>\n      <td>-0.031112</td>\n      <td>...</td>\n      <td>0.056226</td>\n      <td>0.025051</td>\n      <td>0.044193</td>\n      <td>-0.059260</td>\n      <td>-0.099940</td>\n      <td>0.062814</td>\n      <td>0.032975</td>\n      <td>-0.039858</td>\n      <td>0.017513</td>\n      <td>-0.004559</td>\n    </tr>\n  </tbody>\n</table>\n<p>796 rows × 385 columns</p>\n</div>"
     },
     "execution_count": 123,
     "metadata": {},
     "output_type": "execute_result"
    }
   ],
   "source": [
    "embedding_vectors_test = list(\n",
    "    pd.Series.tolist(jd_test.description.apply(lambda x: embed(model, get_text(x)))))\n",
    "embedding_test = pd.concat(\n",
    "    [jd_test.category, pd.DataFrame(embedding_vectors_test)], axis=1)\n",
    "embedding_test"
   ]
  },
  {
   "cell_type": "code",
   "execution_count": 124,
   "metadata": {
    "pycharm": {
     "name": "#%%\n"
    }
   },
   "outputs": [],
   "source": [
    "if is_working_with_easy_dataset:\n",
    "    output_train_filename = \"embedding_easy_train.csv\"\n",
    "    output_test_filename = \"embedding_easy_test.csv\"\n",
    "else:\n",
    "    output_train_filename = \"embedding_difficult_train.csv\"\n",
    "    output_test_filename = \"embedding_difficult_test.csv\"\n",
    "\n",
    "embedding_train.to_csv(output_train_filename, index=False)\n",
    "embedding_test.to_csv(output_test_filename, index=False)"
   ]
  },
  {
   "cell_type": "markdown",
   "source": [
    "## RNN building (bag of words)"
   ],
   "metadata": {
    "collapsed": false,
    "pycharm": {
     "name": "#%% md\n"
    }
   }
  },
  {
   "cell_type": "markdown",
   "source": [
    "### Easy Dataset"
   ],
   "metadata": {
    "collapsed": false,
    "pycharm": {
     "name": "#%% md\n"
    }
   }
  },
  {
   "cell_type": "code",
   "execution_count": 7,
   "outputs": [],
   "source": [
    "is_working_with_easy_dataset = True"
   ],
   "metadata": {
    "collapsed": false,
    "pycharm": {
     "name": "#%%\n"
    }
   }
  },
  {
   "cell_type": "code",
   "execution_count": 8,
   "outputs": [],
   "source": [
    "if is_working_with_easy_dataset:\n",
    "    input_train_filename = \"bag_easy_train.csv\"\n",
    "    input_test_filename = \"bag_easy_test.csv\"\n",
    "else:\n",
    "    input_train_filename = \"bag_difficult_train.csv\"\n",
    "    input_test_filename = \"bag_difficult_test.csv\""
   ],
   "metadata": {
    "collapsed": false,
    "pycharm": {
     "name": "#%%\n"
    }
   }
  },
  {
   "cell_type": "code",
   "execution_count": 9,
   "outputs": [],
   "source": [
    "jd_train = pd.read_csv(input_train_filename, keep_default_na=False)\n",
    "jd_test = pd.read_csv(input_test_filename, keep_default_na=False)"
   ],
   "metadata": {
    "collapsed": false,
    "pycharm": {
     "name": "#%%\n"
    }
   }
  },
  {
   "cell_type": "code",
   "execution_count": 10,
   "outputs": [
    {
     "data": {
      "text/plain": "               category  Human    ’  Development    design  Work  Computer  \\\n0     software+engineer    0.0  0.0          0.0  0.222604   0.0       0.0   \n1                  arts    0.0  0.0          0.0  0.102594   0.0       0.0   \n2                    hr    0.0  0.0          0.0  0.000000   0.0       0.0   \n3                  arts    0.0  0.0          0.0  0.393433   0.0       0.0   \n4                  arts    0.0  0.0          0.0  0.206635   0.0       0.0   \n...                 ...    ...  ...          ...       ...   ...       ...   \n3177  software+engineer    0.0  0.0          0.0  0.161678   0.0       0.0   \n3178              sales    0.0  0.0          0.0  0.000000   0.0       0.0   \n3179               arts    0.0  0.0          0.0  0.661753   0.0       0.0   \n3180                 hr    0.0  0.0          0.0  0.000000   0.0       0.0   \n3181                 hr    0.0  0.0          0.0  0.000000   0.0       0.0   \n\n      creative   account  communication  ...  Requirements  technical  \\\n0     0.000000  0.000000       0.000000  ...           0.0   0.281375   \n1     0.000000  0.000000       0.000000  ...           0.0   0.000000   \n2     0.000000  0.000000       0.069475  ...           0.0   0.000000   \n3     0.113493  0.000000       0.268595  ...           0.0   0.000000   \n4     0.149018  0.000000       0.088168  ...           0.0   0.000000   \n...        ...       ...            ...  ...           ...        ...   \n3177  0.000000  0.000000       0.045990  ...           0.0   0.000000   \n3178  0.000000  0.000000       0.000000  ...           0.0   0.000000   \n3179  0.286341  0.000000       0.056472  ...           0.0   0.000000   \n3180  0.000000  0.209857       0.000000  ...           0.0   0.000000   \n3181  0.000000  0.000000       0.000000  ...           0.0   0.000000   \n\n      Excellent  duty    market  knowledge  technology  business  application  \\\n0           0.0   0.0  0.000000   0.000000    0.000000  0.198413     0.118790   \n1           0.0   0.0  0.000000   0.092776    0.000000  0.000000     0.000000   \n2           0.0   0.0  0.000000   0.000000    0.000000  0.000000     0.086890   \n3           0.0   0.0  0.000000   0.071156    0.000000  0.000000     0.000000   \n4           0.0   0.0  0.000000   0.000000    0.118194  0.000000     0.000000   \n...         ...   ...       ...        ...         ...       ...          ...   \n3177        0.0   0.0  0.000000   0.048735    0.184958  0.048036     0.230073   \n3178        0.0   0.0  0.138805   0.096160    0.243296  0.000000     0.000000   \n3179        0.0   0.0  0.000000   0.059842    0.000000  0.000000     0.070627   \n3180        0.0   0.0  0.000000   0.000000    0.000000  0.000000     0.000000   \n3181        0.0   0.0  0.000000   0.182057    0.000000  0.179446     0.214869   \n\n        matter  \n0     0.000000  \n1     0.000000  \n2     0.122337  \n3     0.000000  \n4     0.077626  \n...        ...  \n3177  0.000000  \n3178  0.000000  \n3179  0.000000  \n3180  0.195725  \n3181  0.000000  \n\n[3182 rows x 117 columns]",
      "text/html": "<div>\n<style scoped>\n    .dataframe tbody tr th:only-of-type {\n        vertical-align: middle;\n    }\n\n    .dataframe tbody tr th {\n        vertical-align: top;\n    }\n\n    .dataframe thead th {\n        text-align: right;\n    }\n</style>\n<table border=\"1\" class=\"dataframe\">\n  <thead>\n    <tr style=\"text-align: right;\">\n      <th></th>\n      <th>category</th>\n      <th>Human</th>\n      <th>’</th>\n      <th>Development</th>\n      <th>design</th>\n      <th>Work</th>\n      <th>Computer</th>\n      <th>creative</th>\n      <th>account</th>\n      <th>communication</th>\n      <th>...</th>\n      <th>Requirements</th>\n      <th>technical</th>\n      <th>Excellent</th>\n      <th>duty</th>\n      <th>market</th>\n      <th>knowledge</th>\n      <th>technology</th>\n      <th>business</th>\n      <th>application</th>\n      <th>matter</th>\n    </tr>\n  </thead>\n  <tbody>\n    <tr>\n      <th>0</th>\n      <td>software+engineer</td>\n      <td>0.0</td>\n      <td>0.0</td>\n      <td>0.0</td>\n      <td>0.222604</td>\n      <td>0.0</td>\n      <td>0.0</td>\n      <td>0.000000</td>\n      <td>0.000000</td>\n      <td>0.000000</td>\n      <td>...</td>\n      <td>0.0</td>\n      <td>0.281375</td>\n      <td>0.0</td>\n      <td>0.0</td>\n      <td>0.000000</td>\n      <td>0.000000</td>\n      <td>0.000000</td>\n      <td>0.198413</td>\n      <td>0.118790</td>\n      <td>0.000000</td>\n    </tr>\n    <tr>\n      <th>1</th>\n      <td>arts</td>\n      <td>0.0</td>\n      <td>0.0</td>\n      <td>0.0</td>\n      <td>0.102594</td>\n      <td>0.0</td>\n      <td>0.0</td>\n      <td>0.000000</td>\n      <td>0.000000</td>\n      <td>0.000000</td>\n      <td>...</td>\n      <td>0.0</td>\n      <td>0.000000</td>\n      <td>0.0</td>\n      <td>0.0</td>\n      <td>0.000000</td>\n      <td>0.092776</td>\n      <td>0.000000</td>\n      <td>0.000000</td>\n      <td>0.000000</td>\n      <td>0.000000</td>\n    </tr>\n    <tr>\n      <th>2</th>\n      <td>hr</td>\n      <td>0.0</td>\n      <td>0.0</td>\n      <td>0.0</td>\n      <td>0.000000</td>\n      <td>0.0</td>\n      <td>0.0</td>\n      <td>0.000000</td>\n      <td>0.000000</td>\n      <td>0.069475</td>\n      <td>...</td>\n      <td>0.0</td>\n      <td>0.000000</td>\n      <td>0.0</td>\n      <td>0.0</td>\n      <td>0.000000</td>\n      <td>0.000000</td>\n      <td>0.000000</td>\n      <td>0.000000</td>\n      <td>0.086890</td>\n      <td>0.122337</td>\n    </tr>\n    <tr>\n      <th>3</th>\n      <td>arts</td>\n      <td>0.0</td>\n      <td>0.0</td>\n      <td>0.0</td>\n      <td>0.393433</td>\n      <td>0.0</td>\n      <td>0.0</td>\n      <td>0.113493</td>\n      <td>0.000000</td>\n      <td>0.268595</td>\n      <td>...</td>\n      <td>0.0</td>\n      <td>0.000000</td>\n      <td>0.0</td>\n      <td>0.0</td>\n      <td>0.000000</td>\n      <td>0.071156</td>\n      <td>0.000000</td>\n      <td>0.000000</td>\n      <td>0.000000</td>\n      <td>0.000000</td>\n    </tr>\n    <tr>\n      <th>4</th>\n      <td>arts</td>\n      <td>0.0</td>\n      <td>0.0</td>\n      <td>0.0</td>\n      <td>0.206635</td>\n      <td>0.0</td>\n      <td>0.0</td>\n      <td>0.149018</td>\n      <td>0.000000</td>\n      <td>0.088168</td>\n      <td>...</td>\n      <td>0.0</td>\n      <td>0.000000</td>\n      <td>0.0</td>\n      <td>0.0</td>\n      <td>0.000000</td>\n      <td>0.000000</td>\n      <td>0.118194</td>\n      <td>0.000000</td>\n      <td>0.000000</td>\n      <td>0.077626</td>\n    </tr>\n    <tr>\n      <th>...</th>\n      <td>...</td>\n      <td>...</td>\n      <td>...</td>\n      <td>...</td>\n      <td>...</td>\n      <td>...</td>\n      <td>...</td>\n      <td>...</td>\n      <td>...</td>\n      <td>...</td>\n      <td>...</td>\n      <td>...</td>\n      <td>...</td>\n      <td>...</td>\n      <td>...</td>\n      <td>...</td>\n      <td>...</td>\n      <td>...</td>\n      <td>...</td>\n      <td>...</td>\n      <td>...</td>\n    </tr>\n    <tr>\n      <th>3177</th>\n      <td>software+engineer</td>\n      <td>0.0</td>\n      <td>0.0</td>\n      <td>0.0</td>\n      <td>0.161678</td>\n      <td>0.0</td>\n      <td>0.0</td>\n      <td>0.000000</td>\n      <td>0.000000</td>\n      <td>0.045990</td>\n      <td>...</td>\n      <td>0.0</td>\n      <td>0.000000</td>\n      <td>0.0</td>\n      <td>0.0</td>\n      <td>0.000000</td>\n      <td>0.048735</td>\n      <td>0.184958</td>\n      <td>0.048036</td>\n      <td>0.230073</td>\n      <td>0.000000</td>\n    </tr>\n    <tr>\n      <th>3178</th>\n      <td>sales</td>\n      <td>0.0</td>\n      <td>0.0</td>\n      <td>0.0</td>\n      <td>0.000000</td>\n      <td>0.0</td>\n      <td>0.0</td>\n      <td>0.000000</td>\n      <td>0.000000</td>\n      <td>0.000000</td>\n      <td>...</td>\n      <td>0.0</td>\n      <td>0.000000</td>\n      <td>0.0</td>\n      <td>0.0</td>\n      <td>0.138805</td>\n      <td>0.096160</td>\n      <td>0.243296</td>\n      <td>0.000000</td>\n      <td>0.000000</td>\n      <td>0.000000</td>\n    </tr>\n    <tr>\n      <th>3179</th>\n      <td>arts</td>\n      <td>0.0</td>\n      <td>0.0</td>\n      <td>0.0</td>\n      <td>0.661753</td>\n      <td>0.0</td>\n      <td>0.0</td>\n      <td>0.286341</td>\n      <td>0.000000</td>\n      <td>0.056472</td>\n      <td>...</td>\n      <td>0.0</td>\n      <td>0.000000</td>\n      <td>0.0</td>\n      <td>0.0</td>\n      <td>0.000000</td>\n      <td>0.059842</td>\n      <td>0.000000</td>\n      <td>0.000000</td>\n      <td>0.070627</td>\n      <td>0.000000</td>\n    </tr>\n    <tr>\n      <th>3180</th>\n      <td>hr</td>\n      <td>0.0</td>\n      <td>0.0</td>\n      <td>0.0</td>\n      <td>0.000000</td>\n      <td>0.0</td>\n      <td>0.0</td>\n      <td>0.000000</td>\n      <td>0.209857</td>\n      <td>0.000000</td>\n      <td>...</td>\n      <td>0.0</td>\n      <td>0.000000</td>\n      <td>0.0</td>\n      <td>0.0</td>\n      <td>0.000000</td>\n      <td>0.000000</td>\n      <td>0.000000</td>\n      <td>0.000000</td>\n      <td>0.000000</td>\n      <td>0.195725</td>\n    </tr>\n    <tr>\n      <th>3181</th>\n      <td>hr</td>\n      <td>0.0</td>\n      <td>0.0</td>\n      <td>0.0</td>\n      <td>0.000000</td>\n      <td>0.0</td>\n      <td>0.0</td>\n      <td>0.000000</td>\n      <td>0.000000</td>\n      <td>0.000000</td>\n      <td>...</td>\n      <td>0.0</td>\n      <td>0.000000</td>\n      <td>0.0</td>\n      <td>0.0</td>\n      <td>0.000000</td>\n      <td>0.182057</td>\n      <td>0.000000</td>\n      <td>0.179446</td>\n      <td>0.214869</td>\n      <td>0.000000</td>\n    </tr>\n  </tbody>\n</table>\n<p>3182 rows × 117 columns</p>\n</div>"
     },
     "execution_count": 10,
     "metadata": {},
     "output_type": "execute_result"
    }
   ],
   "source": [
    "jd_train"
   ],
   "metadata": {
    "collapsed": false,
    "pycharm": {
     "name": "#%%\n"
    }
   }
  },
  {
   "cell_type": "code",
   "execution_count": 11,
   "outputs": [
    {
     "data": {
      "text/plain": "              category  Human    ’  Development    design  Work  Computer  \\\n0    software+engineer    0.0  0.0          0.0  0.504831   0.0       0.0   \n1                sales    0.0  0.0          0.0  0.000000   0.0       0.0   \n2                sales    0.0  0.0          0.0  0.000000   0.0       0.0   \n3                sales    0.0  0.0          0.0  0.000000   0.0       0.0   \n4                 arts    0.0  0.0          0.0  0.000000   0.0       0.0   \n..                 ...    ...  ...          ...       ...   ...       ...   \n791  software+engineer    0.0  0.0          0.0  0.096486   0.0       0.0   \n792  software+engineer    0.0  0.0          0.0  0.274670   0.0       0.0   \n793  software+engineer    0.0  0.0          0.0  0.038540   0.0       0.0   \n794                 hr    0.0  0.0          0.0  0.000000   0.0       0.0   \n795                 hr    0.0  0.0          0.0  0.000000   0.0       0.0   \n\n     creative   account  communication  ...  Requirements  technical  \\\n0    0.000000  0.000000       0.089474  ...           0.0   0.000000   \n1    0.000000  0.284994       0.000000  ...           0.0   0.000000   \n2    0.071549  0.000000       0.083948  ...           0.0   0.000000   \n3    0.000000  0.239945       0.129985  ...           0.0   0.000000   \n4    0.000000  0.000000       0.366191  ...           0.0   0.000000   \n..        ...       ...            ...  ...           ...        ...   \n791  0.000000  0.000000       0.000000  ...           0.0   0.000000   \n792  0.000000  0.000000       0.000000  ...           0.0   0.210175   \n793  0.000000  0.000000       0.000000  ...           0.0   0.000000   \n794  0.000000  0.000000       0.000000  ...           0.0   0.000000   \n795  0.178749  0.000000       0.000000  ...           0.0   0.000000   \n\n     Excellent      duty    market  knowledge  technology  business  \\\n0          0.0  0.000000  0.000000   0.370597    0.000000  0.000000   \n1          0.0  0.000000  0.000000   0.000000    0.000000  0.164661   \n2          0.0  0.000000  0.199817   0.043464    0.000000  0.089533   \n3          0.0  0.210654  0.206265   0.000000    0.000000  0.277267   \n4          0.0  0.000000  0.000000   0.068943    0.389033  0.071010   \n..         ...       ...       ...        ...         ...       ...   \n791        0.0  0.000000  0.000000   0.088538    0.111023  0.000000   \n792        0.0  0.000000  0.077249   0.050409    0.252843  0.259600   \n793        0.0  0.000000  0.000000   0.000000    0.000000  0.000000   \n794        0.0  0.180604  0.000000   0.000000    0.000000  0.000000   \n795        0.0  0.000000  0.000000   0.000000    0.000000  0.223680   \n\n     application    matter  \n0       0.000000  0.000000  \n1       0.000000  0.136495  \n2       0.000000  0.000000  \n3       0.000000  0.000000  \n4       0.000000  0.058863  \n..           ...       ...  \n791     0.000000  0.000000  \n792     0.116410  0.000000  \n793     0.122505  0.000000  \n794     0.133245  0.000000  \n795     0.000000  0.000000  \n\n[796 rows x 117 columns]",
      "text/html": "<div>\n<style scoped>\n    .dataframe tbody tr th:only-of-type {\n        vertical-align: middle;\n    }\n\n    .dataframe tbody tr th {\n        vertical-align: top;\n    }\n\n    .dataframe thead th {\n        text-align: right;\n    }\n</style>\n<table border=\"1\" class=\"dataframe\">\n  <thead>\n    <tr style=\"text-align: right;\">\n      <th></th>\n      <th>category</th>\n      <th>Human</th>\n      <th>’</th>\n      <th>Development</th>\n      <th>design</th>\n      <th>Work</th>\n      <th>Computer</th>\n      <th>creative</th>\n      <th>account</th>\n      <th>communication</th>\n      <th>...</th>\n      <th>Requirements</th>\n      <th>technical</th>\n      <th>Excellent</th>\n      <th>duty</th>\n      <th>market</th>\n      <th>knowledge</th>\n      <th>technology</th>\n      <th>business</th>\n      <th>application</th>\n      <th>matter</th>\n    </tr>\n  </thead>\n  <tbody>\n    <tr>\n      <th>0</th>\n      <td>software+engineer</td>\n      <td>0.0</td>\n      <td>0.0</td>\n      <td>0.0</td>\n      <td>0.504831</td>\n      <td>0.0</td>\n      <td>0.0</td>\n      <td>0.000000</td>\n      <td>0.000000</td>\n      <td>0.089474</td>\n      <td>...</td>\n      <td>0.0</td>\n      <td>0.000000</td>\n      <td>0.0</td>\n      <td>0.000000</td>\n      <td>0.000000</td>\n      <td>0.370597</td>\n      <td>0.000000</td>\n      <td>0.000000</td>\n      <td>0.000000</td>\n      <td>0.000000</td>\n    </tr>\n    <tr>\n      <th>1</th>\n      <td>sales</td>\n      <td>0.0</td>\n      <td>0.0</td>\n      <td>0.0</td>\n      <td>0.000000</td>\n      <td>0.0</td>\n      <td>0.0</td>\n      <td>0.000000</td>\n      <td>0.284994</td>\n      <td>0.000000</td>\n      <td>...</td>\n      <td>0.0</td>\n      <td>0.000000</td>\n      <td>0.0</td>\n      <td>0.000000</td>\n      <td>0.000000</td>\n      <td>0.000000</td>\n      <td>0.000000</td>\n      <td>0.164661</td>\n      <td>0.000000</td>\n      <td>0.136495</td>\n    </tr>\n    <tr>\n      <th>2</th>\n      <td>sales</td>\n      <td>0.0</td>\n      <td>0.0</td>\n      <td>0.0</td>\n      <td>0.000000</td>\n      <td>0.0</td>\n      <td>0.0</td>\n      <td>0.071549</td>\n      <td>0.000000</td>\n      <td>0.083948</td>\n      <td>...</td>\n      <td>0.0</td>\n      <td>0.000000</td>\n      <td>0.0</td>\n      <td>0.000000</td>\n      <td>0.199817</td>\n      <td>0.043464</td>\n      <td>0.000000</td>\n      <td>0.089533</td>\n      <td>0.000000</td>\n      <td>0.000000</td>\n    </tr>\n    <tr>\n      <th>3</th>\n      <td>sales</td>\n      <td>0.0</td>\n      <td>0.0</td>\n      <td>0.0</td>\n      <td>0.000000</td>\n      <td>0.0</td>\n      <td>0.0</td>\n      <td>0.000000</td>\n      <td>0.239945</td>\n      <td>0.129985</td>\n      <td>...</td>\n      <td>0.0</td>\n      <td>0.000000</td>\n      <td>0.0</td>\n      <td>0.210654</td>\n      <td>0.206265</td>\n      <td>0.000000</td>\n      <td>0.000000</td>\n      <td>0.277267</td>\n      <td>0.000000</td>\n      <td>0.000000</td>\n    </tr>\n    <tr>\n      <th>4</th>\n      <td>arts</td>\n      <td>0.0</td>\n      <td>0.0</td>\n      <td>0.0</td>\n      <td>0.000000</td>\n      <td>0.0</td>\n      <td>0.0</td>\n      <td>0.000000</td>\n      <td>0.000000</td>\n      <td>0.366191</td>\n      <td>...</td>\n      <td>0.0</td>\n      <td>0.000000</td>\n      <td>0.0</td>\n      <td>0.000000</td>\n      <td>0.000000</td>\n      <td>0.068943</td>\n      <td>0.389033</td>\n      <td>0.071010</td>\n      <td>0.000000</td>\n      <td>0.058863</td>\n    </tr>\n    <tr>\n      <th>...</th>\n      <td>...</td>\n      <td>...</td>\n      <td>...</td>\n      <td>...</td>\n      <td>...</td>\n      <td>...</td>\n      <td>...</td>\n      <td>...</td>\n      <td>...</td>\n      <td>...</td>\n      <td>...</td>\n      <td>...</td>\n      <td>...</td>\n      <td>...</td>\n      <td>...</td>\n      <td>...</td>\n      <td>...</td>\n      <td>...</td>\n      <td>...</td>\n      <td>...</td>\n      <td>...</td>\n    </tr>\n    <tr>\n      <th>791</th>\n      <td>software+engineer</td>\n      <td>0.0</td>\n      <td>0.0</td>\n      <td>0.0</td>\n      <td>0.096486</td>\n      <td>0.0</td>\n      <td>0.0</td>\n      <td>0.000000</td>\n      <td>0.000000</td>\n      <td>0.000000</td>\n      <td>...</td>\n      <td>0.0</td>\n      <td>0.000000</td>\n      <td>0.0</td>\n      <td>0.000000</td>\n      <td>0.000000</td>\n      <td>0.088538</td>\n      <td>0.111023</td>\n      <td>0.000000</td>\n      <td>0.000000</td>\n      <td>0.000000</td>\n    </tr>\n    <tr>\n      <th>792</th>\n      <td>software+engineer</td>\n      <td>0.0</td>\n      <td>0.0</td>\n      <td>0.0</td>\n      <td>0.274670</td>\n      <td>0.0</td>\n      <td>0.0</td>\n      <td>0.000000</td>\n      <td>0.000000</td>\n      <td>0.000000</td>\n      <td>...</td>\n      <td>0.0</td>\n      <td>0.210175</td>\n      <td>0.0</td>\n      <td>0.000000</td>\n      <td>0.077249</td>\n      <td>0.050409</td>\n      <td>0.252843</td>\n      <td>0.259600</td>\n      <td>0.116410</td>\n      <td>0.000000</td>\n    </tr>\n    <tr>\n      <th>793</th>\n      <td>software+engineer</td>\n      <td>0.0</td>\n      <td>0.0</td>\n      <td>0.0</td>\n      <td>0.038540</td>\n      <td>0.0</td>\n      <td>0.0</td>\n      <td>0.000000</td>\n      <td>0.000000</td>\n      <td>0.000000</td>\n      <td>...</td>\n      <td>0.0</td>\n      <td>0.000000</td>\n      <td>0.0</td>\n      <td>0.000000</td>\n      <td>0.000000</td>\n      <td>0.000000</td>\n      <td>0.000000</td>\n      <td>0.000000</td>\n      <td>0.122505</td>\n      <td>0.000000</td>\n    </tr>\n    <tr>\n      <th>794</th>\n      <td>hr</td>\n      <td>0.0</td>\n      <td>0.0</td>\n      <td>0.0</td>\n      <td>0.000000</td>\n      <td>0.0</td>\n      <td>0.0</td>\n      <td>0.000000</td>\n      <td>0.000000</td>\n      <td>0.000000</td>\n      <td>...</td>\n      <td>0.0</td>\n      <td>0.000000</td>\n      <td>0.0</td>\n      <td>0.180604</td>\n      <td>0.000000</td>\n      <td>0.000000</td>\n      <td>0.000000</td>\n      <td>0.000000</td>\n      <td>0.133245</td>\n      <td>0.000000</td>\n    </tr>\n    <tr>\n      <th>795</th>\n      <td>hr</td>\n      <td>0.0</td>\n      <td>0.0</td>\n      <td>0.0</td>\n      <td>0.000000</td>\n      <td>0.0</td>\n      <td>0.0</td>\n      <td>0.178749</td>\n      <td>0.000000</td>\n      <td>0.000000</td>\n      <td>...</td>\n      <td>0.0</td>\n      <td>0.000000</td>\n      <td>0.0</td>\n      <td>0.000000</td>\n      <td>0.000000</td>\n      <td>0.000000</td>\n      <td>0.000000</td>\n      <td>0.223680</td>\n      <td>0.000000</td>\n      <td>0.000000</td>\n    </tr>\n  </tbody>\n</table>\n<p>796 rows × 117 columns</p>\n</div>"
     },
     "execution_count": 11,
     "metadata": {},
     "output_type": "execute_result"
    }
   ],
   "source": [
    "jd_test"
   ],
   "metadata": {
    "collapsed": false,
    "pycharm": {
     "name": "#%%\n"
    }
   }
  },
  {
   "cell_type": "code",
   "execution_count": 12,
   "outputs": [],
   "source": [
    "jd_train_X = jd_train.iloc[:, 1:]\n",
    "jd_train_y = jd_train[[\"category\"]]\n",
    "\n",
    "jd_test_X = jd_test.iloc[:, 1:]\n",
    "jd_test_y = jd_test[[\"category\"]]"
   ],
   "metadata": {
    "collapsed": false,
    "pycharm": {
     "name": "#%%\n"
    }
   }
  },
  {
   "cell_type": "code",
   "execution_count": 13,
   "outputs": [
    {
     "data": {
      "text/plain": "category         \nsoftware+engineer    220\narts                 198\nsales                197\nhr                   181\ndtype: int64"
     },
     "execution_count": 13,
     "metadata": {},
     "output_type": "execute_result"
    }
   ],
   "source": [
    "jd_test_y.value_counts()"
   ],
   "metadata": {
    "collapsed": false,
    "pycharm": {
     "name": "#%%\n"
    }
   }
  },
  {
   "cell_type": "code",
   "execution_count": 14,
   "outputs": [],
   "source": [
    "enc = OneHotEncoder(sparse=False)\n",
    "enc.fit(jd_train_y);"
   ],
   "metadata": {
    "collapsed": false,
    "pycharm": {
     "name": "#%%\n"
    }
   }
  },
  {
   "cell_type": "code",
   "execution_count": 15,
   "outputs": [
    {
     "data": {
      "text/plain": "[array(['arts', 'hr', 'sales', 'software+engineer'], dtype=object)]"
     },
     "execution_count": 15,
     "metadata": {},
     "output_type": "execute_result"
    }
   ],
   "source": [
    "enc.categories_"
   ],
   "metadata": {
    "collapsed": false,
    "pycharm": {
     "name": "#%%\n"
    }
   }
  },
  {
   "cell_type": "code",
   "execution_count": 16,
   "outputs": [],
   "source": [
    "jd_train_y = enc.transform(jd_train_y)\n",
    "jd_test_y = enc.transform(jd_test_y)"
   ],
   "metadata": {
    "collapsed": false,
    "pycharm": {
     "name": "#%%\n"
    }
   }
  },
  {
   "cell_type": "code",
   "execution_count": 19,
   "outputs": [],
   "source": [
    "model = tf.keras.Sequential([\n",
    "    tf.keras.layers.Bidirectional(tf.keras.layers.LSTM(32), input_shape=(116, 1)),\n",
    "    tf.keras.layers.Dense(16, activation='relu'),\n",
    "    tf.keras.layers.Dense(4, activation='softmax')\n",
    "])"
   ],
   "metadata": {
    "collapsed": false,
    "pycharm": {
     "name": "#%%\n"
    }
   }
  },
  {
   "cell_type": "code",
   "execution_count": 20,
   "outputs": [],
   "source": [
    "model.compile(loss=tf.keras.losses.CategoricalCrossentropy(),\n",
    "              optimizer=tf.keras.optimizers.Adam(1e-4),\n",
    "              metrics=['accuracy', tf.keras.metrics.Recall(), tf.keras.metrics.Precision(), tf.keras.metrics.AUC()])"
   ],
   "metadata": {
    "collapsed": false,
    "pycharm": {
     "name": "#%%\n"
    }
   }
  },
  {
   "cell_type": "code",
   "execution_count": 22,
   "outputs": [
    {
     "name": "stdout",
     "output_type": "stream",
     "text": [
      "Epoch 1/50\n",
      "100/100 [==============================] - 8s 81ms/step - loss: 1.3802 - accuracy: 0.4026 - recall_1: 0.0000e+00 - precision_1: 0.0000e+00 - auc_1: 0.6134 - val_loss: 1.3785 - val_accuracy: 0.3744 - val_recall_1: 0.0000e+00 - val_precision_1: 0.0000e+00 - val_auc_1: 0.6284\n",
      "Epoch 2/50\n",
      "100/100 [==============================] - 7s 75ms/step - loss: 1.3743 - accuracy: 0.3982 - recall_1: 0.0000e+00 - precision_1: 0.0000e+00 - auc_1: 0.6385 - val_loss: 1.3694 - val_accuracy: 0.4121 - val_recall_1: 0.0000e+00 - val_precision_1: 0.0000e+00 - val_auc_1: 0.6650\n",
      "Epoch 3/50\n",
      "100/100 [==============================] - 8s 76ms/step - loss: 1.3587 - accuracy: 0.4079 - recall_1: 0.0000e+00 - precision_1: 0.0000e+00 - auc_1: 0.6621 - val_loss: 1.3391 - val_accuracy: 0.3920 - val_recall_1: 0.0000e+00 - val_precision_1: 0.0000e+00 - val_auc_1: 0.6667\n",
      "Epoch 4/50\n",
      "100/100 [==============================] - 8s 79ms/step - loss: 1.2913 - accuracy: 0.4142 - recall_1: 0.0409 - precision_1: 0.6842 - auc_1: 0.7054 - val_loss: 1.2833 - val_accuracy: 0.4246 - val_recall_1: 0.0540 - val_precision_1: 0.8776 - val_auc_1: 0.6926\n",
      "Epoch 5/50\n",
      "100/100 [==============================] - 8s 79ms/step - loss: 1.2280 - accuracy: 0.4981 - recall_1: 0.0940 - precision_1: 0.7311 - auc_1: 0.7378 - val_loss: 1.1945 - val_accuracy: 0.5402 - val_recall_1: 0.0980 - val_precision_1: 0.7879 - val_auc_1: 0.7532\n",
      "Epoch 6/50\n",
      "100/100 [==============================] - 8s 79ms/step - loss: 1.1952 - accuracy: 0.4994 - recall_1: 0.1031 - precision_1: 0.6862 - auc_1: 0.7497 - val_loss: 1.1766 - val_accuracy: 0.4585 - val_recall_1: 0.1357 - val_precision_1: 0.7448 - val_auc_1: 0.7444\n",
      "Epoch 7/50\n",
      "100/100 [==============================] - 8s 79ms/step - loss: 1.1780 - accuracy: 0.5110 - recall_1: 0.1075 - precision_1: 0.6923 - auc_1: 0.7571 - val_loss: 1.1775 - val_accuracy: 0.4422 - val_recall_1: 0.1394 - val_precision_1: 0.6201 - val_auc_1: 0.7437\n",
      "Epoch 8/50\n",
      "100/100 [==============================] - 8s 78ms/step - loss: 1.1631 - accuracy: 0.5085 - recall_1: 0.1138 - precision_1: 0.6817 - auc_1: 0.7636 - val_loss: 1.1427 - val_accuracy: 0.5239 - val_recall_1: 0.1244 - val_precision_1: 0.7795 - val_auc_1: 0.7801\n",
      "Epoch 9/50\n",
      "100/100 [==============================] - 8s 78ms/step - loss: 1.1466 - accuracy: 0.5182 - recall_1: 0.1383 - precision_1: 0.7120 - auc_1: 0.7703 - val_loss: 1.1237 - val_accuracy: 0.5553 - val_recall_1: 0.1143 - val_precision_1: 0.8505 - val_auc_1: 0.7932\n",
      "Epoch 10/50\n",
      "100/100 [==============================] - 8s 78ms/step - loss: 1.1352 - accuracy: 0.5116 - recall_1: 0.1490 - precision_1: 0.6920 - auc_1: 0.7725 - val_loss: 1.1258 - val_accuracy: 0.5402 - val_recall_1: 0.1394 - val_precision_1: 0.7115 - val_auc_1: 0.7779\n",
      "Epoch 11/50\n",
      "100/100 [==============================] - 8s 79ms/step - loss: 1.1190 - accuracy: 0.5211 - recall_1: 0.1735 - precision_1: 0.7244 - auc_1: 0.7802 - val_loss: 1.0914 - val_accuracy: 0.5628 - val_recall_1: 0.1482 - val_precision_1: 0.8806 - val_auc_1: 0.8060\n",
      "Epoch 12/50\n",
      "100/100 [==============================] - 8s 77ms/step - loss: 1.1001 - accuracy: 0.5201 - recall_1: 0.1892 - precision_1: 0.7368 - auc_1: 0.7874 - val_loss: 1.0791 - val_accuracy: 0.5465 - val_recall_1: 0.1796 - val_precision_1: 0.7114 - val_auc_1: 0.7952\n",
      "Epoch 13/50\n",
      "100/100 [==============================] - 8s 79ms/step - loss: 1.0950 - accuracy: 0.5245 - recall_1: 0.2052 - precision_1: 0.7022 - auc_1: 0.7869 - val_loss: 1.0469 - val_accuracy: 0.5628 - val_recall_1: 0.1972 - val_precision_1: 0.8093 - val_auc_1: 0.8158\n",
      "Epoch 14/50\n",
      "100/100 [==============================] - 8s 78ms/step - loss: 1.0766 - accuracy: 0.5270 - recall_1: 0.2285 - precision_1: 0.6930 - auc_1: 0.7935 - val_loss: 1.0392 - val_accuracy: 0.5616 - val_recall_1: 0.2148 - val_precision_1: 0.7917 - val_auc_1: 0.8171\n",
      "Epoch 15/50\n",
      "100/100 [==============================] - 8s 79ms/step - loss: 1.0787 - accuracy: 0.5245 - recall_1: 0.2363 - precision_1: 0.6899 - auc_1: 0.7919 - val_loss: 1.0462 - val_accuracy: 0.5678 - val_recall_1: 0.2475 - val_precision_1: 0.7606 - val_auc_1: 0.8102\n",
      "Epoch 16/50\n",
      "100/100 [==============================] - 8s 78ms/step - loss: 1.0770 - accuracy: 0.5299 - recall_1: 0.2278 - precision_1: 0.7108 - auc_1: 0.7950 - val_loss: 1.0624 - val_accuracy: 0.5515 - val_recall_1: 0.2525 - val_precision_1: 0.7283 - val_auc_1: 0.8013\n",
      "Epoch 17/50\n",
      "100/100 [==============================] - 8s 79ms/step - loss: 1.0624 - accuracy: 0.5377 - recall_1: 0.2398 - precision_1: 0.7104 - auc_1: 0.8008 - val_loss: 1.0378 - val_accuracy: 0.5515 - val_recall_1: 0.2613 - val_precision_1: 0.7455 - val_auc_1: 0.8133\n",
      "Epoch 18/50\n",
      "100/100 [==============================] - 8s 77ms/step - loss: 1.0525 - accuracy: 0.5440 - recall_1: 0.2571 - precision_1: 0.7213 - auc_1: 0.8053 - val_loss: 1.0524 - val_accuracy: 0.5465 - val_recall_1: 0.3053 - val_precision_1: 0.6769 - val_auc_1: 0.8004\n",
      "Epoch 19/50\n",
      "100/100 [==============================] - 8s 77ms/step - loss: 1.0542 - accuracy: 0.5569 - recall_1: 0.2728 - precision_1: 0.7040 - auc_1: 0.8029 - val_loss: 1.0149 - val_accuracy: 0.5729 - val_recall_1: 0.2802 - val_precision_1: 0.7770 - val_auc_1: 0.8253\n",
      "Epoch 20/50\n",
      "100/100 [==============================] - 8s 76ms/step - loss: 1.0416 - accuracy: 0.5437 - recall_1: 0.2750 - precision_1: 0.7184 - auc_1: 0.8085 - val_loss: 1.0406 - val_accuracy: 0.5389 - val_recall_1: 0.3028 - val_precision_1: 0.7006 - val_auc_1: 0.8065\n",
      "Epoch 21/50\n",
      "100/100 [==============================] - 8s 78ms/step - loss: 1.0344 - accuracy: 0.5459 - recall_1: 0.2976 - precision_1: 0.7191 - auc_1: 0.8114 - val_loss: 1.0014 - val_accuracy: 0.5779 - val_recall_1: 0.3317 - val_precision_1: 0.7674 - val_auc_1: 0.8280\n",
      "Epoch 22/50\n",
      "100/100 [==============================] - 8s 77ms/step - loss: 1.0254 - accuracy: 0.5515 - recall_1: 0.3196 - precision_1: 0.7172 - auc_1: 0.8150 - val_loss: 1.0007 - val_accuracy: 0.5704 - val_recall_1: 0.3568 - val_precision_1: 0.7553 - val_auc_1: 0.8264\n",
      "Epoch 23/50\n",
      "100/100 [==============================] - 8s 77ms/step - loss: 1.0181 - accuracy: 0.5613 - recall_1: 0.3265 - precision_1: 0.7082 - auc_1: 0.8180 - val_loss: 0.9854 - val_accuracy: 0.5791 - val_recall_1: 0.3492 - val_precision_1: 0.7258 - val_auc_1: 0.8342\n",
      "Epoch 24/50\n",
      "100/100 [==============================] - 8s 78ms/step - loss: 1.0242 - accuracy: 0.5588 - recall_1: 0.3278 - precision_1: 0.7095 - auc_1: 0.8158 - val_loss: 0.9834 - val_accuracy: 0.5867 - val_recall_1: 0.3329 - val_precision_1: 0.7637 - val_auc_1: 0.8367\n",
      "Epoch 25/50\n",
      "100/100 [==============================] - 8s 78ms/step - loss: 1.0119 - accuracy: 0.5764 - recall_1: 0.3309 - precision_1: 0.7168 - auc_1: 0.8212 - val_loss: 1.0291 - val_accuracy: 0.5666 - val_recall_1: 0.3518 - val_precision_1: 0.6948 - val_auc_1: 0.8112\n",
      "Epoch 26/50\n",
      "100/100 [==============================] - 8s 78ms/step - loss: 1.0043 - accuracy: 0.5742 - recall_1: 0.3451 - precision_1: 0.7139 - auc_1: 0.8244 - val_loss: 0.9817 - val_accuracy: 0.6055 - val_recall_1: 0.3656 - val_precision_1: 0.7367 - val_auc_1: 0.8348\n",
      "Epoch 27/50\n",
      "100/100 [==============================] - 8s 78ms/step - loss: 1.0044 - accuracy: 0.5704 - recall_1: 0.3419 - precision_1: 0.7033 - auc_1: 0.8239 - val_loss: 0.9765 - val_accuracy: 0.5804 - val_recall_1: 0.3329 - val_precision_1: 0.7201 - val_auc_1: 0.8372\n",
      "Epoch 28/50\n",
      "100/100 [==============================] - 8s 78ms/step - loss: 0.9995 - accuracy: 0.5751 - recall_1: 0.3583 - precision_1: 0.7059 - auc_1: 0.8257 - val_loss: 0.9784 - val_accuracy: 0.5930 - val_recall_1: 0.3656 - val_precision_1: 0.7348 - val_auc_1: 0.8362\n",
      "Epoch 29/50\n",
      "100/100 [==============================] - 8s 77ms/step - loss: 0.9936 - accuracy: 0.5723 - recall_1: 0.3558 - precision_1: 0.6970 - auc_1: 0.8274 - val_loss: 0.9807 - val_accuracy: 0.5729 - val_recall_1: 0.3618 - val_precision_1: 0.7559 - val_auc_1: 0.8354\n",
      "Epoch 30/50\n",
      "100/100 [==============================] - 8s 79ms/step - loss: 0.9897 - accuracy: 0.5845 - recall_1: 0.3630 - precision_1: 0.7147 - auc_1: 0.8304 - val_loss: 0.9650 - val_accuracy: 0.5842 - val_recall_1: 0.3568 - val_precision_1: 0.7320 - val_auc_1: 0.8408\n",
      "Epoch 31/50\n",
      "100/100 [==============================] - 8s 78ms/step - loss: 0.9873 - accuracy: 0.5845 - recall_1: 0.3664 - precision_1: 0.7189 - auc_1: 0.8306 - val_loss: 0.9765 - val_accuracy: 0.5905 - val_recall_1: 0.3530 - val_precision_1: 0.7187 - val_auc_1: 0.8363\n",
      "Epoch 32/50\n",
      "100/100 [==============================] - 8s 78ms/step - loss: 0.9798 - accuracy: 0.5855 - recall_1: 0.3806 - precision_1: 0.7200 - auc_1: 0.8334 - val_loss: 0.9831 - val_accuracy: 0.5905 - val_recall_1: 0.3204 - val_precision_1: 0.7798 - val_auc_1: 0.8373\n",
      "Epoch 33/50\n",
      "100/100 [==============================] - 8s 79ms/step - loss: 0.9825 - accuracy: 0.5921 - recall_1: 0.3762 - precision_1: 0.7215 - auc_1: 0.8326 - val_loss: 0.9648 - val_accuracy: 0.5817 - val_recall_1: 0.3756 - val_precision_1: 0.7002 - val_auc_1: 0.8383\n",
      "Epoch 34/50\n",
      "100/100 [==============================] - 8s 76ms/step - loss: 0.9724 - accuracy: 0.5830 - recall_1: 0.3931 - precision_1: 0.7140 - auc_1: 0.8350 - val_loss: 0.9512 - val_accuracy: 0.5967 - val_recall_1: 0.4058 - val_precision_1: 0.7391 - val_auc_1: 0.8439\n",
      "Epoch 35/50\n",
      "100/100 [==============================] - 8s 76ms/step - loss: 0.9716 - accuracy: 0.5946 - recall_1: 0.3906 - precision_1: 0.7039 - auc_1: 0.8358 - val_loss: 0.9702 - val_accuracy: 0.5980 - val_recall_1: 0.3781 - val_precision_1: 0.7000 - val_auc_1: 0.8383\n",
      "Epoch 36/50\n",
      "100/100 [==============================] - 8s 77ms/step - loss: 0.9637 - accuracy: 0.5933 - recall_1: 0.3906 - precision_1: 0.7027 - auc_1: 0.8387 - val_loss: 0.9579 - val_accuracy: 0.6168 - val_recall_1: 0.3656 - val_precision_1: 0.7239 - val_auc_1: 0.8420\n",
      "Epoch 37/50\n",
      "100/100 [==============================] - 8s 76ms/step - loss: 0.9689 - accuracy: 0.5896 - recall_1: 0.3831 - precision_1: 0.7108 - auc_1: 0.8368 - val_loss: 0.9916 - val_accuracy: 0.5628 - val_recall_1: 0.3756 - val_precision_1: 0.7052 - val_auc_1: 0.8256\n",
      "Epoch 38/50\n",
      "100/100 [==============================] - 8s 76ms/step - loss: 0.9615 - accuracy: 0.5971 - recall_1: 0.4029 - precision_1: 0.7218 - auc_1: 0.8397 - val_loss: 0.9510 - val_accuracy: 0.6055 - val_recall_1: 0.4209 - val_precision_1: 0.7113 - val_auc_1: 0.8415\n",
      "Epoch 39/50\n",
      "100/100 [==============================] - 8s 77ms/step - loss: 0.9614 - accuracy: 0.5930 - recall_1: 0.4032 - precision_1: 0.7188 - auc_1: 0.8388 - val_loss: 0.9482 - val_accuracy: 0.5942 - val_recall_1: 0.3719 - val_precision_1: 0.7184 - val_auc_1: 0.8454\n",
      "Epoch 40/50\n",
      "100/100 [==============================] - 8s 76ms/step - loss: 0.9642 - accuracy: 0.5930 - recall_1: 0.4060 - precision_1: 0.7079 - auc_1: 0.8381 - val_loss: 0.9443 - val_accuracy: 0.5791 - val_recall_1: 0.4146 - val_precision_1: 0.7269 - val_auc_1: 0.8465\n",
      "Epoch 41/50\n",
      "100/100 [==============================] - 8s 76ms/step - loss: 0.9524 - accuracy: 0.6043 - recall_1: 0.4085 - precision_1: 0.7147 - auc_1: 0.8423 - val_loss: 0.9390 - val_accuracy: 0.6231 - val_recall_1: 0.4095 - val_precision_1: 0.7244 - val_auc_1: 0.8468\n",
      "Epoch 42/50\n",
      "100/100 [==============================] - 8s 76ms/step - loss: 0.9476 - accuracy: 0.6047 - recall_1: 0.4148 - precision_1: 0.7063 - auc_1: 0.8441 - val_loss: 0.9418 - val_accuracy: 0.6231 - val_recall_1: 0.4095 - val_precision_1: 0.7529 - val_auc_1: 0.8498\n",
      "Epoch 43/50\n",
      "100/100 [==============================] - 8s 77ms/step - loss: 0.9510 - accuracy: 0.5974 - recall_1: 0.4070 - precision_1: 0.7080 - auc_1: 0.8427 - val_loss: 0.9261 - val_accuracy: 0.6181 - val_recall_1: 0.4472 - val_precision_1: 0.7325 - val_auc_1: 0.8528\n",
      "Epoch 44/50\n",
      "100/100 [==============================] - 8s 76ms/step - loss: 0.9363 - accuracy: 0.6056 - recall_1: 0.4274 - precision_1: 0.7249 - auc_1: 0.8480 - val_loss: 0.9378 - val_accuracy: 0.6143 - val_recall_1: 0.4234 - val_precision_1: 0.7522 - val_auc_1: 0.8499\n",
      "Epoch 45/50\n",
      "100/100 [==============================] - 8s 77ms/step - loss: 0.9411 - accuracy: 0.6050 - recall_1: 0.4302 - precision_1: 0.7179 - auc_1: 0.8460 - val_loss: 0.9192 - val_accuracy: 0.6344 - val_recall_1: 0.4234 - val_precision_1: 0.7326 - val_auc_1: 0.8561\n",
      "Epoch 46/50\n",
      "100/100 [==============================] - 8s 77ms/step - loss: 0.9385 - accuracy: 0.6081 - recall_1: 0.4271 - precision_1: 0.7156 - auc_1: 0.8472 - val_loss: 0.9566 - val_accuracy: 0.6005 - val_recall_1: 0.4347 - val_precision_1: 0.6948 - val_auc_1: 0.8391\n",
      "Epoch 47/50\n",
      "100/100 [==============================] - 8s 78ms/step - loss: 0.9570 - accuracy: 0.5930 - recall_1: 0.4082 - precision_1: 0.7193 - auc_1: 0.8406 - val_loss: 0.9152 - val_accuracy: 0.6256 - val_recall_1: 0.4422 - val_precision_1: 0.7586 - val_auc_1: 0.8570\n",
      "Epoch 48/50\n",
      "100/100 [==============================] - 8s 78ms/step - loss: 0.9419 - accuracy: 0.6037 - recall_1: 0.4239 - precision_1: 0.7070 - auc_1: 0.8457 - val_loss: 0.9320 - val_accuracy: 0.6269 - val_recall_1: 0.3920 - val_precision_1: 0.7189 - val_auc_1: 0.8513\n",
      "Epoch 49/50\n",
      "100/100 [==============================] - 8s 77ms/step - loss: 0.9423 - accuracy: 0.6069 - recall_1: 0.4189 - precision_1: 0.7225 - auc_1: 0.8461 - val_loss: 0.9359 - val_accuracy: 0.6043 - val_recall_1: 0.3894 - val_precision_1: 0.7110 - val_auc_1: 0.8484\n",
      "Epoch 50/50\n",
      "100/100 [==============================] - 8s 77ms/step - loss: 0.9282 - accuracy: 0.6131 - recall_1: 0.4419 - precision_1: 0.7214 - auc_1: 0.8509 - val_loss: 0.9080 - val_accuracy: 0.6206 - val_recall_1: 0.4874 - val_precision_1: 0.7608 - val_auc_1: 0.8586\n"
     ]
    }
   ],
   "source": [
    "history = model.fit(jd_train_X, jd_train_y, epochs=50, validation_steps=30, validation_data=(jd_test_X, jd_test_y))"
   ],
   "metadata": {
    "collapsed": false,
    "pycharm": {
     "name": "#%%\n"
    }
   }
  },
  {
   "cell_type": "code",
   "execution_count": 23,
   "outputs": [
    {
     "data": {
      "text/plain": "(0.0, 1.40383722782135)"
     },
     "execution_count": 23,
     "metadata": {},
     "output_type": "execute_result"
    },
    {
     "data": {
      "text/plain": "<Figure size 1152x576 with 2 Axes>",
      "image/png": "[encoded data removed]"
     },
     "metadata": {
      "needs_background": "light"
     },
     "output_type": "display_data"
    }
   ],
   "source": [
    "plt.figure(figsize=(16, 8))\n",
    "plt.subplot(1, 2, 1)\n",
    "plot_graphs(history, 'accuracy')\n",
    "plt.ylim(None, 1)\n",
    "plt.subplot(1, 2, 2)\n",
    "plot_graphs(history, 'loss')\n",
    "plt.ylim(0, None)"
   ],
   "metadata": {
    "collapsed": false,
    "pycharm": {
     "name": "#%%\n"
    }
   }
  },
  {
   "cell_type": "code",
   "execution_count": 24,
   "outputs": [],
   "source": [
    "model.save(\"tf_models/rnn_easy_bag.h5\")"
   ],
   "metadata": {
    "collapsed": false,
    "pycharm": {
     "name": "#%%\n"
    }
   }
  },
  {
   "cell_type": "markdown",
   "source": [
    "### Hard Dataset (bag of words)"
   ],
   "metadata": {
    "collapsed": false,
    "pycharm": {
     "name": "#%% md\n"
    }
   }
  },
  {
   "cell_type": "code",
   "execution_count": 26,
   "outputs": [],
   "source": [
    "is_working_with_easy_dataset = False"
   ],
   "metadata": {
    "collapsed": false,
    "pycharm": {
     "name": "#%%\n"
    }
   }
  },
  {
   "cell_type": "code",
   "execution_count": 27,
   "outputs": [],
   "source": [
    "if is_working_with_easy_dataset:\n",
    "    input_train_filename = \"bag_easy_train.csv\"\n",
    "    input_test_filename = \"bag_easy_test.csv\"\n",
    "else:\n",
    "    input_train_filename = \"bag_difficult_train.csv\"\n",
    "    input_test_filename = \"bag_difficult_test.csv\""
   ],
   "metadata": {
    "collapsed": false,
    "pycharm": {
     "name": "#%%\n"
    }
   }
  },
  {
   "cell_type": "code",
   "execution_count": 28,
   "outputs": [],
   "source": [
    "jd_train = pd.read_csv(input_train_filename, keep_default_na=False)\n",
    "jd_test = pd.read_csv(input_test_filename, keep_default_na=False)"
   ],
   "metadata": {
    "collapsed": false,
    "pycharm": {
     "name": "#%%\n"
    }
   }
  },
  {
   "cell_type": "code",
   "execution_count": 29,
   "outputs": [
    {
     "data": {
      "text/plain": "               category  assessment  Management  Work     cyber   ÊÊ  Data  \\\n0     software+engineer    0.000000         0.0   0.0  0.000000  0.0   0.0   \n1     software+engineer    0.000000         0.0   0.0  0.000000  0.0   0.0   \n2     software+engineer    0.000000         0.0   0.0  0.000000  0.0   0.0   \n3                 ui+ux    0.120286         0.0   0.0  0.000000  0.0   0.0   \n4                 ui+ux    0.000000         0.0   0.0  0.000000  0.0   0.0   \n...                 ...         ...         ...   ...       ...  ...   ...   \n3175  software+engineer    0.000000         0.0   0.0  0.000000  0.0   0.0   \n3176     cyber+security    0.000000         0.0   0.0  0.140165  0.0   0.0   \n3177              ui+ux    0.000000         0.0   0.0  0.000000  0.0   0.0   \n3178       data+analyst    0.000000         0.0   0.0  0.000000  0.0   0.0   \n3179       data+analyst    0.000000         0.0   0.0  0.000000  0.0   0.0   \n\n       control    design  Experience  ...  Technology      role  Java  \\\n0     0.000000  0.143276         0.0  ...         0.0  0.000000   0.0   \n1     0.000000  0.061751         0.0  ...         0.0  0.082574   0.0   \n2     0.290684  0.499494         0.0  ...         0.0  0.000000   0.0   \n3     0.000000  0.000000         0.0  ...         0.0  0.160089   0.0   \n4     0.000000  0.000000         0.0  ...         0.0  0.115759   0.0   \n...        ...       ...         ...  ...         ...       ...   ...   \n3175  0.095572  0.054742         0.0  ...         0.0  0.109803   0.0   \n3176  0.000000  0.000000         0.0  ...         0.0  0.210418   0.0   \n3177  0.000000  0.422655         0.0  ...         0.0  0.000000   0.0   \n3178  0.000000  0.026570         0.0  ...         0.0  0.071060   0.0   \n3179  0.000000  0.000000         0.0  ...         0.0  0.000000   0.0   \n\n       process  Strong     skill  software  business  Ability  experience  \n0     0.000000     0.0  0.000000  0.345453  0.000000      0.0    0.323940  \n1     0.000000     0.0  0.057996  0.000000  0.125683      0.0    0.511923  \n2     0.203606     0.0  0.000000  0.100361  0.000000      0.0    0.062741  \n3     0.073200     0.0  0.112439  0.000000  0.000000      0.0    0.225563  \n4     0.105860     0.0  0.040652  0.000000  0.000000      0.0    0.097861  \n...        ...     ...       ...       ...       ...      ...         ...  \n3175  0.066942     0.0  0.179947  0.164985  0.111417      0.0    0.123768  \n3176  0.000000     0.0  0.221681  0.094849  0.000000      0.0    0.177885  \n3177  0.000000     0.0  0.000000  0.509533  0.107530      0.0    0.238901  \n3178  0.064984     0.0  0.124773  0.032032  0.567827      0.0    0.060074  \n3179  0.210119     0.0  0.121033  0.103571  0.262288      0.0    0.000000  \n\n[3180 rows x 101 columns]",
      "text/html": "<div>\n<style scoped>\n    .dataframe tbody tr th:only-of-type {\n        vertical-align: middle;\n    }\n\n    .dataframe tbody tr th {\n        vertical-align: top;\n    }\n\n    .dataframe thead th {\n        text-align: right;\n    }\n</style>\n<table border=\"1\" class=\"dataframe\">\n  <thead>\n    <tr style=\"text-align: right;\">\n      <th></th>\n      <th>category</th>\n      <th>assessment</th>\n      <th>Management</th>\n      <th>Work</th>\n      <th>cyber</th>\n      <th>ÊÊ</th>\n      <th>Data</th>\n      <th>control</th>\n      <th>design</th>\n      <th>Experience</th>\n      <th>...</th>\n      <th>Technology</th>\n      <th>role</th>\n      <th>Java</th>\n      <th>process</th>\n      <th>Strong</th>\n      <th>skill</th>\n      <th>software</th>\n      <th>business</th>\n      <th>Ability</th>\n      <th>experience</th>\n    </tr>\n  </thead>\n  <tbody>\n    <tr>\n      <th>0</th>\n      <td>software+engineer</td>\n      <td>0.000000</td>\n      <td>0.0</td>\n      <td>0.0</td>\n      <td>0.000000</td>\n      <td>0.0</td>\n      <td>0.0</td>\n      <td>0.000000</td>\n      <td>0.143276</td>\n      <td>0.0</td>\n      <td>...</td>\n      <td>0.0</td>\n      <td>0.000000</td>\n      <td>0.0</td>\n      <td>0.000000</td>\n      <td>0.0</td>\n      <td>0.000000</td>\n      <td>0.345453</td>\n      <td>0.000000</td>\n      <td>0.0</td>\n      <td>0.323940</td>\n    </tr>\n    <tr>\n      <th>1</th>\n      <td>software+engineer</td>\n      <td>0.000000</td>\n      <td>0.0</td>\n      <td>0.0</td>\n      <td>0.000000</td>\n      <td>0.0</td>\n      <td>0.0</td>\n      <td>0.000000</td>\n      <td>0.061751</td>\n      <td>0.0</td>\n      <td>...</td>\n      <td>0.0</td>\n      <td>0.082574</td>\n      <td>0.0</td>\n      <td>0.000000</td>\n      <td>0.0</td>\n      <td>0.057996</td>\n      <td>0.000000</td>\n      <td>0.125683</td>\n      <td>0.0</td>\n      <td>0.511923</td>\n    </tr>\n    <tr>\n      <th>2</th>\n      <td>software+engineer</td>\n      <td>0.000000</td>\n      <td>0.0</td>\n      <td>0.0</td>\n      <td>0.000000</td>\n      <td>0.0</td>\n      <td>0.0</td>\n      <td>0.290684</td>\n      <td>0.499494</td>\n      <td>0.0</td>\n      <td>...</td>\n      <td>0.0</td>\n      <td>0.000000</td>\n      <td>0.0</td>\n      <td>0.203606</td>\n      <td>0.0</td>\n      <td>0.000000</td>\n      <td>0.100361</td>\n      <td>0.000000</td>\n      <td>0.0</td>\n      <td>0.062741</td>\n    </tr>\n    <tr>\n      <th>3</th>\n      <td>ui+ux</td>\n      <td>0.120286</td>\n      <td>0.0</td>\n      <td>0.0</td>\n      <td>0.000000</td>\n      <td>0.0</td>\n      <td>0.0</td>\n      <td>0.000000</td>\n      <td>0.000000</td>\n      <td>0.0</td>\n      <td>...</td>\n      <td>0.0</td>\n      <td>0.160089</td>\n      <td>0.0</td>\n      <td>0.073200</td>\n      <td>0.0</td>\n      <td>0.112439</td>\n      <td>0.000000</td>\n      <td>0.000000</td>\n      <td>0.0</td>\n      <td>0.225563</td>\n    </tr>\n    <tr>\n      <th>4</th>\n      <td>ui+ux</td>\n      <td>0.000000</td>\n      <td>0.0</td>\n      <td>0.0</td>\n      <td>0.000000</td>\n      <td>0.0</td>\n      <td>0.0</td>\n      <td>0.000000</td>\n      <td>0.000000</td>\n      <td>0.0</td>\n      <td>...</td>\n      <td>0.0</td>\n      <td>0.115759</td>\n      <td>0.0</td>\n      <td>0.105860</td>\n      <td>0.0</td>\n      <td>0.040652</td>\n      <td>0.000000</td>\n      <td>0.000000</td>\n      <td>0.0</td>\n      <td>0.097861</td>\n    </tr>\n    <tr>\n      <th>...</th>\n      <td>...</td>\n      <td>...</td>\n      <td>...</td>\n      <td>...</td>\n      <td>...</td>\n      <td>...</td>\n      <td>...</td>\n      <td>...</td>\n      <td>...</td>\n      <td>...</td>\n      <td>...</td>\n      <td>...</td>\n      <td>...</td>\n      <td>...</td>\n      <td>...</td>\n      <td>...</td>\n      <td>...</td>\n      <td>...</td>\n      <td>...</td>\n      <td>...</td>\n      <td>...</td>\n    </tr>\n    <tr>\n      <th>3175</th>\n      <td>software+engineer</td>\n      <td>0.000000</td>\n      <td>0.0</td>\n      <td>0.0</td>\n      <td>0.000000</td>\n      <td>0.0</td>\n      <td>0.0</td>\n      <td>0.095572</td>\n      <td>0.054742</td>\n      <td>0.0</td>\n      <td>...</td>\n      <td>0.0</td>\n      <td>0.109803</td>\n      <td>0.0</td>\n      <td>0.066942</td>\n      <td>0.0</td>\n      <td>0.179947</td>\n      <td>0.164985</td>\n      <td>0.111417</td>\n      <td>0.0</td>\n      <td>0.123768</td>\n    </tr>\n    <tr>\n      <th>3176</th>\n      <td>cyber+security</td>\n      <td>0.000000</td>\n      <td>0.0</td>\n      <td>0.0</td>\n      <td>0.140165</td>\n      <td>0.0</td>\n      <td>0.0</td>\n      <td>0.000000</td>\n      <td>0.000000</td>\n      <td>0.0</td>\n      <td>...</td>\n      <td>0.0</td>\n      <td>0.210418</td>\n      <td>0.0</td>\n      <td>0.000000</td>\n      <td>0.0</td>\n      <td>0.221681</td>\n      <td>0.094849</td>\n      <td>0.000000</td>\n      <td>0.0</td>\n      <td>0.177885</td>\n    </tr>\n    <tr>\n      <th>3177</th>\n      <td>ui+ux</td>\n      <td>0.000000</td>\n      <td>0.0</td>\n      <td>0.0</td>\n      <td>0.000000</td>\n      <td>0.0</td>\n      <td>0.0</td>\n      <td>0.000000</td>\n      <td>0.422655</td>\n      <td>0.0</td>\n      <td>...</td>\n      <td>0.0</td>\n      <td>0.000000</td>\n      <td>0.0</td>\n      <td>0.000000</td>\n      <td>0.0</td>\n      <td>0.000000</td>\n      <td>0.509533</td>\n      <td>0.107530</td>\n      <td>0.0</td>\n      <td>0.238901</td>\n    </tr>\n    <tr>\n      <th>3178</th>\n      <td>data+analyst</td>\n      <td>0.000000</td>\n      <td>0.0</td>\n      <td>0.0</td>\n      <td>0.000000</td>\n      <td>0.0</td>\n      <td>0.0</td>\n      <td>0.000000</td>\n      <td>0.026570</td>\n      <td>0.0</td>\n      <td>...</td>\n      <td>0.0</td>\n      <td>0.071060</td>\n      <td>0.0</td>\n      <td>0.064984</td>\n      <td>0.0</td>\n      <td>0.124773</td>\n      <td>0.032032</td>\n      <td>0.567827</td>\n      <td>0.0</td>\n      <td>0.060074</td>\n    </tr>\n    <tr>\n      <th>3179</th>\n      <td>data+analyst</td>\n      <td>0.000000</td>\n      <td>0.0</td>\n      <td>0.0</td>\n      <td>0.000000</td>\n      <td>0.0</td>\n      <td>0.0</td>\n      <td>0.000000</td>\n      <td>0.000000</td>\n      <td>0.0</td>\n      <td>...</td>\n      <td>0.0</td>\n      <td>0.000000</td>\n      <td>0.0</td>\n      <td>0.210119</td>\n      <td>0.0</td>\n      <td>0.121033</td>\n      <td>0.103571</td>\n      <td>0.262288</td>\n      <td>0.0</td>\n      <td>0.000000</td>\n    </tr>\n  </tbody>\n</table>\n<p>3180 rows × 101 columns</p>\n</div>"
     },
     "execution_count": 29,
     "metadata": {},
     "output_type": "execute_result"
    }
   ],
   "source": [
    "jd_train"
   ],
   "metadata": {
    "collapsed": false,
    "pycharm": {
     "name": "#%%\n"
    }
   }
  },
  {
   "cell_type": "code",
   "execution_count": 30,
   "outputs": [
    {
     "data": {
      "text/plain": "              category  assessment  Management  Work     cyber   ÊÊ  Data  \\\n0         data+analyst         0.0         0.0   0.0  0.000000  0.0   0.0   \n1       cyber+security         0.0         0.0   0.0  0.175017  0.0   0.0   \n2    software+engineer         0.0         0.0   0.0  0.000000  0.0   0.0   \n3                ui+ux         0.0         0.0   0.0  0.000000  0.0   0.0   \n4                ui+ux         0.0         0.0   0.0  0.000000  0.0   0.0   \n..                 ...         ...         ...   ...       ...  ...   ...   \n790  software+engineer         0.0         0.0   0.0  0.000000  0.0   0.0   \n791     cyber+security         0.0         0.0   0.0  0.000000  0.0   0.0   \n792              ui+ux         0.0         0.0   0.0  0.000000  0.0   0.0   \n793              ui+ux         0.0         0.0   0.0  0.000000  0.0   0.0   \n794              ui+ux         0.0         0.0   0.0  0.000000  0.0   0.0   \n\n      control    design  Experience  ...  Technology      role  Java  \\\n0    0.000000  0.000000         0.0  ...         0.0  0.000000   0.0   \n1    0.000000  0.000000         0.0  ...         0.0  0.000000   0.0   \n2    0.000000  0.102496         0.0  ...         0.0  0.000000   0.0   \n3    0.000000  0.147327         0.0  ...         0.0  0.000000   0.0   \n4    0.000000  0.102945         0.0  ...         0.0  0.000000   0.0   \n..        ...       ...         ...  ...         ...       ...   ...   \n790  0.000000  0.044197         0.0  ...         0.0  0.059146   0.0   \n791  0.087995  0.050226         0.0  ...         0.0  0.000000   0.0   \n792  0.000000  0.602373         0.0  ...         0.0  0.000000   0.0   \n793  0.000000  0.388837         0.0  ...         0.0  0.000000   0.0   \n794  0.000000  0.000000         0.0  ...         0.0  0.000000   0.0   \n\n      process  Strong     skill  software  business  Ability  experience  \n0    0.000000     0.0  0.248572  0.000000  0.523485      0.0    0.064633  \n1    0.000000     0.0  0.000000  0.000000  0.000000      0.0    0.151252  \n2    0.000000     0.0  0.000000  0.000000  0.000000      0.0    0.038436  \n3    0.000000     0.0  0.141651  0.044691  0.335602      0.0    0.110494  \n4    0.000000     0.0  0.148468  0.000000  0.000000      0.0    0.115812  \n..        ...     ...       ...       ...       ...      ...         ...  \n790  0.055503     0.0  0.000000  0.107255  0.000000      0.0    0.099442  \n791  0.126149     0.0  0.048291  0.000000  0.152549      0.0    0.113008  \n792  0.000000     0.0  0.231666  0.000000  0.000000      0.0    0.180710  \n793  0.162769     0.0  0.000000  0.314537  0.000000      0.0    0.194417  \n794  0.000000     0.0  0.098393  0.000000  0.000000      0.0    0.076751  \n\n[795 rows x 101 columns]",
      "text/html": "<div>\n<style scoped>\n    .dataframe tbody tr th:only-of-type {\n        vertical-align: middle;\n    }\n\n    .dataframe tbody tr th {\n        vertical-align: top;\n    }\n\n    .dataframe thead th {\n        text-align: right;\n    }\n</style>\n<table border=\"1\" class=\"dataframe\">\n  <thead>\n    <tr style=\"text-align: right;\">\n      <th></th>\n      <th>category</th>\n      <th>assessment</th>\n      <th>Management</th>\n      <th>Work</th>\n      <th>cyber</th>\n      <th>ÊÊ</th>\n      <th>Data</th>\n      <th>control</th>\n      <th>design</th>\n      <th>Experience</th>\n      <th>...</th>\n      <th>Technology</th>\n      <th>role</th>\n      <th>Java</th>\n      <th>process</th>\n      <th>Strong</th>\n      <th>skill</th>\n      <th>software</th>\n      <th>business</th>\n      <th>Ability</th>\n      <th>experience</th>\n    </tr>\n  </thead>\n  <tbody>\n    <tr>\n      <th>0</th>\n      <td>data+analyst</td>\n      <td>0.0</td>\n      <td>0.0</td>\n      <td>0.0</td>\n      <td>0.000000</td>\n      <td>0.0</td>\n      <td>0.0</td>\n      <td>0.000000</td>\n      <td>0.000000</td>\n      <td>0.0</td>\n      <td>...</td>\n      <td>0.0</td>\n      <td>0.000000</td>\n      <td>0.0</td>\n      <td>0.000000</td>\n      <td>0.0</td>\n      <td>0.248572</td>\n      <td>0.000000</td>\n      <td>0.523485</td>\n      <td>0.0</td>\n      <td>0.064633</td>\n    </tr>\n    <tr>\n      <th>1</th>\n      <td>cyber+security</td>\n      <td>0.0</td>\n      <td>0.0</td>\n      <td>0.0</td>\n      <td>0.175017</td>\n      <td>0.0</td>\n      <td>0.0</td>\n      <td>0.000000</td>\n      <td>0.000000</td>\n      <td>0.0</td>\n      <td>...</td>\n      <td>0.0</td>\n      <td>0.000000</td>\n      <td>0.0</td>\n      <td>0.000000</td>\n      <td>0.0</td>\n      <td>0.000000</td>\n      <td>0.000000</td>\n      <td>0.000000</td>\n      <td>0.0</td>\n      <td>0.151252</td>\n    </tr>\n    <tr>\n      <th>2</th>\n      <td>software+engineer</td>\n      <td>0.0</td>\n      <td>0.0</td>\n      <td>0.0</td>\n      <td>0.000000</td>\n      <td>0.0</td>\n      <td>0.0</td>\n      <td>0.000000</td>\n      <td>0.102496</td>\n      <td>0.0</td>\n      <td>...</td>\n      <td>0.0</td>\n      <td>0.000000</td>\n      <td>0.0</td>\n      <td>0.000000</td>\n      <td>0.0</td>\n      <td>0.000000</td>\n      <td>0.000000</td>\n      <td>0.000000</td>\n      <td>0.0</td>\n      <td>0.038436</td>\n    </tr>\n    <tr>\n      <th>3</th>\n      <td>ui+ux</td>\n      <td>0.0</td>\n      <td>0.0</td>\n      <td>0.0</td>\n      <td>0.000000</td>\n      <td>0.0</td>\n      <td>0.0</td>\n      <td>0.000000</td>\n      <td>0.147327</td>\n      <td>0.0</td>\n      <td>...</td>\n      <td>0.0</td>\n      <td>0.000000</td>\n      <td>0.0</td>\n      <td>0.000000</td>\n      <td>0.0</td>\n      <td>0.141651</td>\n      <td>0.044691</td>\n      <td>0.335602</td>\n      <td>0.0</td>\n      <td>0.110494</td>\n    </tr>\n    <tr>\n      <th>4</th>\n      <td>ui+ux</td>\n      <td>0.0</td>\n      <td>0.0</td>\n      <td>0.0</td>\n      <td>0.000000</td>\n      <td>0.0</td>\n      <td>0.0</td>\n      <td>0.000000</td>\n      <td>0.102945</td>\n      <td>0.0</td>\n      <td>...</td>\n      <td>0.0</td>\n      <td>0.000000</td>\n      <td>0.0</td>\n      <td>0.000000</td>\n      <td>0.0</td>\n      <td>0.148468</td>\n      <td>0.000000</td>\n      <td>0.000000</td>\n      <td>0.0</td>\n      <td>0.115812</td>\n    </tr>\n    <tr>\n      <th>...</th>\n      <td>...</td>\n      <td>...</td>\n      <td>...</td>\n      <td>...</td>\n      <td>...</td>\n      <td>...</td>\n      <td>...</td>\n      <td>...</td>\n      <td>...</td>\n      <td>...</td>\n      <td>...</td>\n      <td>...</td>\n      <td>...</td>\n      <td>...</td>\n      <td>...</td>\n      <td>...</td>\n      <td>...</td>\n      <td>...</td>\n      <td>...</td>\n      <td>...</td>\n      <td>...</td>\n    </tr>\n    <tr>\n      <th>790</th>\n      <td>software+engineer</td>\n      <td>0.0</td>\n      <td>0.0</td>\n      <td>0.0</td>\n      <td>0.000000</td>\n      <td>0.0</td>\n      <td>0.0</td>\n      <td>0.000000</td>\n      <td>0.044197</td>\n      <td>0.0</td>\n      <td>...</td>\n      <td>0.0</td>\n      <td>0.059146</td>\n      <td>0.0</td>\n      <td>0.055503</td>\n      <td>0.0</td>\n      <td>0.000000</td>\n      <td>0.107255</td>\n      <td>0.000000</td>\n      <td>0.0</td>\n      <td>0.099442</td>\n    </tr>\n    <tr>\n      <th>791</th>\n      <td>cyber+security</td>\n      <td>0.0</td>\n      <td>0.0</td>\n      <td>0.0</td>\n      <td>0.000000</td>\n      <td>0.0</td>\n      <td>0.0</td>\n      <td>0.087995</td>\n      <td>0.050226</td>\n      <td>0.0</td>\n      <td>...</td>\n      <td>0.0</td>\n      <td>0.000000</td>\n      <td>0.0</td>\n      <td>0.126149</td>\n      <td>0.0</td>\n      <td>0.048291</td>\n      <td>0.000000</td>\n      <td>0.152549</td>\n      <td>0.0</td>\n      <td>0.113008</td>\n    </tr>\n    <tr>\n      <th>792</th>\n      <td>ui+ux</td>\n      <td>0.0</td>\n      <td>0.0</td>\n      <td>0.0</td>\n      <td>0.000000</td>\n      <td>0.0</td>\n      <td>0.0</td>\n      <td>0.000000</td>\n      <td>0.602373</td>\n      <td>0.0</td>\n      <td>...</td>\n      <td>0.0</td>\n      <td>0.000000</td>\n      <td>0.0</td>\n      <td>0.000000</td>\n      <td>0.0</td>\n      <td>0.231666</td>\n      <td>0.000000</td>\n      <td>0.000000</td>\n      <td>0.0</td>\n      <td>0.180710</td>\n    </tr>\n    <tr>\n      <th>793</th>\n      <td>ui+ux</td>\n      <td>0.0</td>\n      <td>0.0</td>\n      <td>0.0</td>\n      <td>0.000000</td>\n      <td>0.0</td>\n      <td>0.0</td>\n      <td>0.000000</td>\n      <td>0.388837</td>\n      <td>0.0</td>\n      <td>...</td>\n      <td>0.0</td>\n      <td>0.000000</td>\n      <td>0.0</td>\n      <td>0.162769</td>\n      <td>0.0</td>\n      <td>0.000000</td>\n      <td>0.314537</td>\n      <td>0.000000</td>\n      <td>0.0</td>\n      <td>0.194417</td>\n    </tr>\n    <tr>\n      <th>794</th>\n      <td>ui+ux</td>\n      <td>0.0</td>\n      <td>0.0</td>\n      <td>0.0</td>\n      <td>0.000000</td>\n      <td>0.0</td>\n      <td>0.0</td>\n      <td>0.000000</td>\n      <td>0.000000</td>\n      <td>0.0</td>\n      <td>...</td>\n      <td>0.0</td>\n      <td>0.000000</td>\n      <td>0.0</td>\n      <td>0.000000</td>\n      <td>0.0</td>\n      <td>0.098393</td>\n      <td>0.000000</td>\n      <td>0.000000</td>\n      <td>0.0</td>\n      <td>0.076751</td>\n    </tr>\n  </tbody>\n</table>\n<p>795 rows × 101 columns</p>\n</div>"
     },
     "execution_count": 30,
     "metadata": {},
     "output_type": "execute_result"
    }
   ],
   "source": [
    "jd_test"
   ],
   "metadata": {
    "collapsed": false,
    "pycharm": {
     "name": "#%%\n"
    }
   }
  },
  {
   "cell_type": "code",
   "execution_count": 31,
   "outputs": [],
   "source": [
    "jd_train_X = jd_train.iloc[:, 1:]\n",
    "jd_train_y = jd_train[[\"category\"]]\n",
    "\n",
    "jd_test_X = jd_test.iloc[:, 1:]\n",
    "jd_test_y = jd_test[[\"category\"]]"
   ],
   "metadata": {
    "collapsed": false,
    "pycharm": {
     "name": "#%%\n"
    }
   }
  },
  {
   "cell_type": "code",
   "execution_count": 32,
   "outputs": [
    {
     "data": {
      "text/plain": "category         \ncyber+security       212\nsoftware+engineer    211\nui+ux                200\ndata+analyst         172\ndtype: int64"
     },
     "execution_count": 32,
     "metadata": {},
     "output_type": "execute_result"
    }
   ],
   "source": [
    "jd_test_y.value_counts()"
   ],
   "metadata": {
    "collapsed": false,
    "pycharm": {
     "name": "#%%\n"
    }
   }
  },
  {
   "cell_type": "code",
   "execution_count": 33,
   "outputs": [],
   "source": [
    "enc = OneHotEncoder(sparse=False)\n",
    "enc.fit(jd_train_y);"
   ],
   "metadata": {
    "collapsed": false,
    "pycharm": {
     "name": "#%%\n"
    }
   }
  },
  {
   "cell_type": "code",
   "execution_count": 34,
   "outputs": [
    {
     "data": {
      "text/plain": "[array(['cyber+security', 'data+analyst', 'software+engineer', 'ui+ux'],\n       dtype=object)]"
     },
     "execution_count": 34,
     "metadata": {},
     "output_type": "execute_result"
    }
   ],
   "source": [
    "enc.categories_"
   ],
   "metadata": {
    "collapsed": false,
    "pycharm": {
     "name": "#%%\n"
    }
   }
  },
  {
   "cell_type": "code",
   "execution_count": 35,
   "outputs": [],
   "source": [
    "jd_train_y = enc.transform(jd_train_y)\n",
    "jd_test_y = enc.transform(jd_test_y)"
   ],
   "metadata": {
    "collapsed": false,
    "pycharm": {
     "name": "#%%\n"
    }
   }
  },
  {
   "cell_type": "code",
   "execution_count": 36,
   "outputs": [],
   "source": [
    "model = tf.keras.Sequential([\n",
    "    tf.keras.layers.Bidirectional(tf.keras.layers.LSTM(32), input_shape=(100, 1)),\n",
    "    tf.keras.layers.Dense(16, activation='relu'),\n",
    "    tf.keras.layers.Dense(4, activation='softmax')\n",
    "])"
   ],
   "metadata": {
    "collapsed": false,
    "pycharm": {
     "name": "#%%\n"
    }
   }
  },
  {
   "cell_type": "code",
   "execution_count": 37,
   "outputs": [],
   "source": [
    "model.compile(loss=tf.keras.losses.CategoricalCrossentropy(),\n",
    "              optimizer=tf.keras.optimizers.Adam(1e-4),\n",
    "              metrics=['accuracy', tf.keras.metrics.Recall(), tf.keras.metrics.Precision(), tf.keras.metrics.AUC()])"
   ],
   "metadata": {
    "collapsed": false,
    "pycharm": {
     "name": "#%%\n"
    }
   }
  },
  {
   "cell_type": "code",
   "execution_count": 38,
   "outputs": [
    {
     "name": "stdout",
     "output_type": "stream",
     "text": [
      "Epoch 1/50\n"
     ]
    },
    {
     "name": "stderr",
     "output_type": "stream",
     "text": [
      "2023-04-03 23:19:16.953098: I tensorflow/core/grappler/optimizers/custom_graph_optimizer_registry.cc:113] Plugin optimizer for device_type GPU is enabled.\n",
      "2023-04-03 23:19:17.220464: I tensorflow/core/grappler/optimizers/custom_graph_optimizer_registry.cc:113] Plugin optimizer for device_type GPU is enabled.\n",
      "2023-04-03 23:19:17.220520: I tensorflow/core/grappler/optimizers/custom_graph_optimizer_registry.cc:113] Plugin optimizer for device_type GPU is enabled.\n",
      "2023-04-03 23:19:17.723007: I tensorflow/core/grappler/optimizers/custom_graph_optimizer_registry.cc:113] Plugin optimizer for device_type GPU is enabled.\n",
      "2023-04-03 23:19:17.738280: I tensorflow/core/grappler/optimizers/custom_graph_optimizer_registry.cc:113] Plugin optimizer for device_type GPU is enabled.\n"
     ]
    },
    {
     "name": "stdout",
     "output_type": "stream",
     "text": [
      "100/100 [==============================] - ETA: 0s - loss: 1.3847 - accuracy: 0.3755 - recall_2: 0.0000e+00 - precision_2: 0.0000e+00 - auc_2: 0.5509"
     ]
    },
    {
     "name": "stderr",
     "output_type": "stream",
     "text": [
      "2023-04-03 23:19:26.230398: I tensorflow/core/grappler/optimizers/custom_graph_optimizer_registry.cc:113] Plugin optimizer for device_type GPU is enabled.\n",
      "2023-04-03 23:19:26.348853: I tensorflow/core/grappler/optimizers/custom_graph_optimizer_registry.cc:113] Plugin optimizer for device_type GPU is enabled.\n",
      "2023-04-03 23:19:26.348870: I tensorflow/core/grappler/optimizers/custom_graph_optimizer_registry.cc:113] Plugin optimizer for device_type GPU is enabled.\n"
     ]
    },
    {
     "name": "stdout",
     "output_type": "stream",
     "text": [
      "100/100 [==============================] - 13s 100ms/step - loss: 1.3847 - accuracy: 0.3755 - recall_2: 0.0000e+00 - precision_2: 0.0000e+00 - auc_2: 0.5509 - val_loss: 1.3841 - val_accuracy: 0.3358 - val_recall_2: 0.0000e+00 - val_precision_2: 0.0000e+00 - val_auc_2: 0.5701\n",
      "Epoch 2/50\n",
      "100/100 [==============================] - 7s 71ms/step - loss: 1.3829 - accuracy: 0.4006 - recall_2: 0.0000e+00 - precision_2: 0.0000e+00 - auc_2: 0.6218 - val_loss: 1.3822 - val_accuracy: 0.3660 - val_recall_2: 0.0000e+00 - val_precision_2: 0.0000e+00 - val_auc_2: 0.6114\n",
      "Epoch 3/50\n",
      "100/100 [==============================] - 7s 70ms/step - loss: 1.3801 - accuracy: 0.4069 - recall_2: 0.0000e+00 - precision_2: 0.0000e+00 - auc_2: 0.6534 - val_loss: 1.3795 - val_accuracy: 0.3585 - val_recall_2: 0.0000e+00 - val_precision_2: 0.0000e+00 - val_auc_2: 0.6437\n",
      "Epoch 4/50\n",
      "100/100 [==============================] - 7s 74ms/step - loss: 1.3764 - accuracy: 0.4314 - recall_2: 0.0000e+00 - precision_2: 0.0000e+00 - auc_2: 0.6838 - val_loss: 1.3752 - val_accuracy: 0.4327 - val_recall_2: 0.0000e+00 - val_precision_2: 0.0000e+00 - val_auc_2: 0.6801\n",
      "Epoch 5/50\n",
      "100/100 [==============================] - 8s 81ms/step - loss: 1.3704 - accuracy: 0.4777 - recall_2: 0.0000e+00 - precision_2: 0.0000e+00 - auc_2: 0.7070 - val_loss: 1.3676 - val_accuracy: 0.4403 - val_recall_2: 0.0000e+00 - val_precision_2: 0.0000e+00 - val_auc_2: 0.6876\n",
      "Epoch 6/50\n",
      "100/100 [==============================] - 8s 78ms/step - loss: 1.3576 - accuracy: 0.4818 - recall_2: 0.0000e+00 - precision_2: 0.0000e+00 - auc_2: 0.7214 - val_loss: 1.3498 - val_accuracy: 0.4553 - val_recall_2: 0.0000e+00 - val_precision_2: 0.0000e+00 - val_auc_2: 0.7071\n",
      "Epoch 7/50\n",
      "100/100 [==============================] - 8s 77ms/step - loss: 1.2938 - accuracy: 0.5160 - recall_2: 0.0116 - precision_2: 0.8043 - auc_2: 0.7229 - val_loss: 1.2160 - val_accuracy: 0.5157 - val_recall_2: 0.0830 - val_precision_2: 0.7416 - val_auc_2: 0.7246\n",
      "Epoch 8/50\n",
      "100/100 [==============================] - 8s 78ms/step - loss: 1.1685 - accuracy: 0.5381 - recall_2: 0.1440 - precision_2: 0.7057 - auc_2: 0.7533 - val_loss: 1.1664 - val_accuracy: 0.4994 - val_recall_2: 0.2038 - val_precision_2: 0.6835 - val_auc_2: 0.7470\n",
      "Epoch 9/50\n",
      "100/100 [==============================] - 8s 79ms/step - loss: 1.1268 - accuracy: 0.5594 - recall_2: 0.2286 - precision_2: 0.7248 - auc_2: 0.7782 - val_loss: 1.1406 - val_accuracy: 0.5296 - val_recall_2: 0.1950 - val_precision_2: 0.7176 - val_auc_2: 0.7731\n",
      "Epoch 10/50\n",
      "100/100 [==============================] - 8s 77ms/step - loss: 1.0905 - accuracy: 0.5613 - recall_2: 0.2836 - precision_2: 0.7442 - auc_2: 0.7966 - val_loss: 1.1155 - val_accuracy: 0.5245 - val_recall_2: 0.2692 - val_precision_2: 0.6585 - val_auc_2: 0.7811\n",
      "Epoch 11/50\n",
      "100/100 [==============================] - 8s 78ms/step - loss: 1.0650 - accuracy: 0.5607 - recall_2: 0.3236 - precision_2: 0.7350 - auc_2: 0.8089 - val_loss: 1.0846 - val_accuracy: 0.5270 - val_recall_2: 0.3233 - val_precision_2: 0.7139 - val_auc_2: 0.7952\n",
      "Epoch 12/50\n",
      "100/100 [==============================] - 8s 78ms/step - loss: 1.0498 - accuracy: 0.5698 - recall_2: 0.3377 - precision_2: 0.7281 - auc_2: 0.8127 - val_loss: 1.0743 - val_accuracy: 0.5258 - val_recall_2: 0.3572 - val_precision_2: 0.6762 - val_auc_2: 0.7941\n",
      "Epoch 13/50\n",
      "100/100 [==============================] - 8s 79ms/step - loss: 1.0228 - accuracy: 0.5811 - recall_2: 0.3560 - precision_2: 0.7332 - auc_2: 0.8256 - val_loss: 1.0499 - val_accuracy: 0.5623 - val_recall_2: 0.3736 - val_precision_2: 0.6659 - val_auc_2: 0.8054\n",
      "Epoch 14/50\n",
      "100/100 [==============================] - 8s 78ms/step - loss: 1.0020 - accuracy: 0.5931 - recall_2: 0.3755 - precision_2: 0.7158 - auc_2: 0.8311 - val_loss: 1.0363 - val_accuracy: 0.5535 - val_recall_2: 0.3786 - val_precision_2: 0.6572 - val_auc_2: 0.8107\n",
      "Epoch 15/50\n",
      "100/100 [==============================] - 8s 79ms/step - loss: 0.9817 - accuracy: 0.5962 - recall_2: 0.3909 - precision_2: 0.7252 - auc_2: 0.8383 - val_loss: 1.0316 - val_accuracy: 0.5623 - val_recall_2: 0.3648 - val_precision_2: 0.6576 - val_auc_2: 0.8135\n",
      "Epoch 16/50\n",
      "100/100 [==============================] - 8s 77ms/step - loss: 0.9713 - accuracy: 0.5953 - recall_2: 0.3871 - precision_2: 0.7310 - auc_2: 0.8429 - val_loss: 1.0046 - val_accuracy: 0.5711 - val_recall_2: 0.4000 - val_precision_2: 0.6463 - val_auc_2: 0.8237\n",
      "Epoch 17/50\n",
      "100/100 [==============================] - 8s 78ms/step - loss: 0.9490 - accuracy: 0.5997 - recall_2: 0.4138 - precision_2: 0.7247 - auc_2: 0.8502 - val_loss: 0.9911 - val_accuracy: 0.5572 - val_recall_2: 0.3899 - val_precision_2: 0.7029 - val_auc_2: 0.8301\n",
      "Epoch 18/50\n",
      "100/100 [==============================] - 8s 78ms/step - loss: 0.9322 - accuracy: 0.6082 - recall_2: 0.4101 - precision_2: 0.7346 - auc_2: 0.8553 - val_loss: 1.0018 - val_accuracy: 0.5535 - val_recall_2: 0.3987 - val_precision_2: 0.6632 - val_auc_2: 0.8255\n",
      "Epoch 19/50\n",
      "100/100 [==============================] - 8s 78ms/step - loss: 0.8996 - accuracy: 0.6198 - recall_2: 0.4418 - precision_2: 0.7291 - auc_2: 0.8668 - val_loss: 0.9576 - val_accuracy: 0.5774 - val_recall_2: 0.3962 - val_precision_2: 0.6984 - val_auc_2: 0.8416\n",
      "Epoch 20/50\n",
      "100/100 [==============================] - 8s 78ms/step - loss: 0.8798 - accuracy: 0.6261 - recall_2: 0.4572 - precision_2: 0.7325 - auc_2: 0.8729 - val_loss: 0.9406 - val_accuracy: 0.5975 - val_recall_2: 0.4415 - val_precision_2: 0.6950 - val_auc_2: 0.8470\n",
      "Epoch 21/50\n",
      "100/100 [==============================] - 8s 78ms/step - loss: 0.8719 - accuracy: 0.6406 - recall_2: 0.4802 - precision_2: 0.7363 - auc_2: 0.8736 - val_loss: 0.9489 - val_accuracy: 0.5862 - val_recall_2: 0.3912 - val_precision_2: 0.6703 - val_auc_2: 0.8424\n",
      "Epoch 22/50\n",
      "100/100 [==============================] - 8s 78ms/step - loss: 0.8536 - accuracy: 0.6465 - recall_2: 0.4937 - precision_2: 0.7437 - auc_2: 0.8798 - val_loss: 0.9118 - val_accuracy: 0.5887 - val_recall_2: 0.4415 - val_precision_2: 0.7252 - val_auc_2: 0.8581\n",
      "Epoch 23/50\n",
      "100/100 [==============================] - 8s 77ms/step - loss: 0.8373 - accuracy: 0.6572 - recall_2: 0.5116 - precision_2: 0.7550 - auc_2: 0.8844 - val_loss: 0.8935 - val_accuracy: 0.6164 - val_recall_2: 0.4629 - val_precision_2: 0.7132 - val_auc_2: 0.8655\n",
      "Epoch 24/50\n",
      "100/100 [==============================] - 8s 78ms/step - loss: 0.8237 - accuracy: 0.6604 - recall_2: 0.5270 - precision_2: 0.7439 - auc_2: 0.8878 - val_loss: 0.8926 - val_accuracy: 0.6390 - val_recall_2: 0.4893 - val_precision_2: 0.7125 - val_auc_2: 0.8641\n",
      "Epoch 25/50\n",
      "100/100 [==============================] - 8s 78ms/step - loss: 0.8160 - accuracy: 0.6686 - recall_2: 0.5462 - precision_2: 0.7468 - auc_2: 0.8894 - val_loss: 0.8817 - val_accuracy: 0.6365 - val_recall_2: 0.5308 - val_precision_2: 0.7263 - val_auc_2: 0.8666\n",
      "Epoch 26/50\n",
      "100/100 [==============================] - 8s 78ms/step - loss: 0.7959 - accuracy: 0.6739 - recall_2: 0.5500 - precision_2: 0.7532 - auc_2: 0.8953 - val_loss: 0.8574 - val_accuracy: 0.6377 - val_recall_2: 0.4843 - val_precision_2: 0.7237 - val_auc_2: 0.8765\n",
      "Epoch 27/50\n",
      "100/100 [==============================] - 8s 80ms/step - loss: 0.7850 - accuracy: 0.6789 - recall_2: 0.5563 - precision_2: 0.7502 - auc_2: 0.8975 - val_loss: 0.8472 - val_accuracy: 0.6340 - val_recall_2: 0.5145 - val_precision_2: 0.7113 - val_auc_2: 0.8785\n",
      "Epoch 28/50\n",
      "100/100 [==============================] - 8s 78ms/step - loss: 0.7802 - accuracy: 0.6849 - recall_2: 0.5591 - precision_2: 0.7489 - auc_2: 0.8986 - val_loss: 0.8542 - val_accuracy: 0.6428 - val_recall_2: 0.5145 - val_precision_2: 0.6968 - val_auc_2: 0.8760\n",
      "Epoch 29/50\n",
      "100/100 [==============================] - 8s 78ms/step - loss: 0.7810 - accuracy: 0.6711 - recall_2: 0.5610 - precision_2: 0.7440 - auc_2: 0.8981 - val_loss: 0.8496 - val_accuracy: 0.6239 - val_recall_2: 0.5258 - val_precision_2: 0.7049 - val_auc_2: 0.8761\n",
      "Epoch 30/50\n",
      "100/100 [==============================] - 8s 78ms/step - loss: 0.7706 - accuracy: 0.6833 - recall_2: 0.5711 - precision_2: 0.7538 - auc_2: 0.9005 - val_loss: 0.8587 - val_accuracy: 0.6314 - val_recall_2: 0.5258 - val_precision_2: 0.7002 - val_auc_2: 0.8743\n",
      "Epoch 31/50\n",
      "100/100 [==============================] - 8s 78ms/step - loss: 0.7555 - accuracy: 0.6836 - recall_2: 0.5799 - precision_2: 0.7579 - auc_2: 0.9045 - val_loss: 0.8299 - val_accuracy: 0.6528 - val_recall_2: 0.5371 - val_precision_2: 0.7189 - val_auc_2: 0.8834\n",
      "Epoch 32/50\n",
      "100/100 [==============================] - 8s 78ms/step - loss: 0.7512 - accuracy: 0.6975 - recall_2: 0.5921 - precision_2: 0.7577 - auc_2: 0.9052 - val_loss: 0.8831 - val_accuracy: 0.6516 - val_recall_2: 0.5409 - val_precision_2: 0.7072 - val_auc_2: 0.8667\n",
      "Epoch 33/50\n",
      "100/100 [==============================] - 8s 77ms/step - loss: 0.7550 - accuracy: 0.6943 - recall_2: 0.6000 - precision_2: 0.7559 - auc_2: 0.9039 - val_loss: 0.8240 - val_accuracy: 0.6893 - val_recall_2: 0.5660 - val_precision_2: 0.7389 - val_auc_2: 0.8850\n",
      "Epoch 34/50\n",
      "100/100 [==============================] - 8s 79ms/step - loss: 0.7342 - accuracy: 0.7047 - recall_2: 0.5978 - precision_2: 0.7604 - auc_2: 0.9094 - val_loss: 0.8380 - val_accuracy: 0.6805 - val_recall_2: 0.5799 - val_precision_2: 0.7435 - val_auc_2: 0.8798\n",
      "Epoch 35/50\n",
      "100/100 [==============================] - 8s 78ms/step - loss: 0.7421 - accuracy: 0.6991 - recall_2: 0.6088 - precision_2: 0.7548 - auc_2: 0.9066 - val_loss: 0.8189 - val_accuracy: 0.6553 - val_recall_2: 0.5409 - val_precision_2: 0.7143 - val_auc_2: 0.8851\n",
      "Epoch 36/50\n",
      "100/100 [==============================] - 8s 76ms/step - loss: 0.7374 - accuracy: 0.6915 - recall_2: 0.6094 - precision_2: 0.7515 - auc_2: 0.9079 - val_loss: 0.8028 - val_accuracy: 0.6679 - val_recall_2: 0.5547 - val_precision_2: 0.7124 - val_auc_2: 0.8900\n",
      "Epoch 37/50\n",
      "100/100 [==============================] - 7s 73ms/step - loss: 0.7251 - accuracy: 0.7041 - recall_2: 0.6119 - precision_2: 0.7616 - auc_2: 0.9108 - val_loss: 0.8192 - val_accuracy: 0.6679 - val_recall_2: 0.5723 - val_precision_2: 0.7188 - val_auc_2: 0.8857\n",
      "Epoch 38/50\n",
      "100/100 [==============================] - 7s 69ms/step - loss: 0.7207 - accuracy: 0.7069 - recall_2: 0.6182 - precision_2: 0.7668 - auc_2: 0.9120 - val_loss: 0.8000 - val_accuracy: 0.6981 - val_recall_2: 0.6038 - val_precision_2: 0.7512 - val_auc_2: 0.8911\n",
      "Epoch 39/50\n",
      "100/100 [==============================] - 7s 70ms/step - loss: 0.7147 - accuracy: 0.7066 - recall_2: 0.6258 - precision_2: 0.7619 - auc_2: 0.9132 - val_loss: 0.8243 - val_accuracy: 0.6843 - val_recall_2: 0.6013 - val_precision_2: 0.7331 - val_auc_2: 0.8845\n",
      "Epoch 40/50\n",
      "100/100 [==============================] - 7s 68ms/step - loss: 0.7116 - accuracy: 0.7154 - recall_2: 0.6296 - precision_2: 0.7647 - auc_2: 0.9138 - val_loss: 0.8044 - val_accuracy: 0.6969 - val_recall_2: 0.6176 - val_precision_2: 0.7428 - val_auc_2: 0.8897\n",
      "Epoch 41/50\n",
      "100/100 [==============================] - 7s 68ms/step - loss: 0.7078 - accuracy: 0.7094 - recall_2: 0.6333 - precision_2: 0.7623 - auc_2: 0.9148 - val_loss: 0.7938 - val_accuracy: 0.6642 - val_recall_2: 0.5786 - val_precision_2: 0.7143 - val_auc_2: 0.8927\n",
      "Epoch 42/50\n",
      "100/100 [==============================] - 7s 69ms/step - loss: 0.7143 - accuracy: 0.7160 - recall_2: 0.6286 - precision_2: 0.7677 - auc_2: 0.9132 - val_loss: 0.7960 - val_accuracy: 0.6792 - val_recall_2: 0.5824 - val_precision_2: 0.7246 - val_auc_2: 0.8909\n",
      "Epoch 43/50\n",
      "100/100 [==============================] - 7s 73ms/step - loss: 0.7062 - accuracy: 0.7258 - recall_2: 0.6431 - precision_2: 0.7773 - auc_2: 0.9152 - val_loss: 0.7844 - val_accuracy: 0.6767 - val_recall_2: 0.5987 - val_precision_2: 0.7278 - val_auc_2: 0.8953\n",
      "Epoch 44/50\n",
      "100/100 [==============================] - 8s 77ms/step - loss: 0.7000 - accuracy: 0.7173 - recall_2: 0.6472 - precision_2: 0.7705 - auc_2: 0.9167 - val_loss: 0.7861 - val_accuracy: 0.6893 - val_recall_2: 0.6252 - val_precision_2: 0.7385 - val_auc_2: 0.8951\n",
      "Epoch 45/50\n",
      "100/100 [==============================] - 8s 76ms/step - loss: 0.7012 - accuracy: 0.7107 - recall_2: 0.6318 - precision_2: 0.7688 - auc_2: 0.9163 - val_loss: 0.7963 - val_accuracy: 0.6642 - val_recall_2: 0.5950 - val_precision_2: 0.7288 - val_auc_2: 0.8921\n",
      "Epoch 46/50\n",
      "100/100 [==============================] - 8s 77ms/step - loss: 0.7052 - accuracy: 0.7198 - recall_2: 0.6371 - precision_2: 0.7660 - auc_2: 0.9152 - val_loss: 0.8095 - val_accuracy: 0.6742 - val_recall_2: 0.5937 - val_precision_2: 0.7433 - val_auc_2: 0.8884\n",
      "Epoch 47/50\n",
      "100/100 [==============================] - 8s 77ms/step - loss: 0.7015 - accuracy: 0.7176 - recall_2: 0.6443 - precision_2: 0.7660 - auc_2: 0.9158 - val_loss: 0.7736 - val_accuracy: 0.6704 - val_recall_2: 0.6151 - val_precision_2: 0.7376 - val_auc_2: 0.8978\n",
      "Epoch 48/50\n",
      "100/100 [==============================] - 7s 70ms/step - loss: 0.6912 - accuracy: 0.7230 - recall_2: 0.6459 - precision_2: 0.7710 - auc_2: 0.9186 - val_loss: 0.7964 - val_accuracy: 0.6943 - val_recall_2: 0.6138 - val_precision_2: 0.7543 - val_auc_2: 0.8931\n",
      "Epoch 49/50\n",
      "100/100 [==============================] - 7s 73ms/step - loss: 0.6866 - accuracy: 0.7164 - recall_2: 0.6535 - precision_2: 0.7777 - auc_2: 0.9199 - val_loss: 0.7677 - val_accuracy: 0.6843 - val_recall_2: 0.5723 - val_precision_2: 0.7143 - val_auc_2: 0.8988\n",
      "Epoch 50/50\n",
      "100/100 [==============================] - 7s 70ms/step - loss: 0.6796 - accuracy: 0.7352 - recall_2: 0.6550 - precision_2: 0.7816 - auc_2: 0.9213 - val_loss: 0.7717 - val_accuracy: 0.6956 - val_recall_2: 0.6088 - val_precision_2: 0.7378 - val_auc_2: 0.8986\n"
     ]
    }
   ],
   "source": [
    "history = model.fit(jd_train_X, jd_train_y, epochs=50, validation_steps=30, validation_data=(jd_test_X, jd_test_y))"
   ],
   "metadata": {
    "collapsed": false,
    "pycharm": {
     "name": "#%%\n"
    }
   }
  },
  {
   "cell_type": "code",
   "execution_count": 39,
   "outputs": [
    {
     "data": {
      "text/plain": "(0.0, 1.4199752688407898)"
     },
     "execution_count": 39,
     "metadata": {},
     "output_type": "execute_result"
    },
    {
     "data": {
      "text/plain": "<Figure size 1152x576 with 2 Axes>",
      "image/png": "[encoded data removed]"
     },
     "metadata": {
      "needs_background": "light"
     },
     "output_type": "display_data"
    }
   ],
   "source": [
    "plt.figure(figsize=(16, 8))\n",
    "plt.subplot(1, 2, 1)\n",
    "plot_graphs(history, 'accuracy')\n",
    "plt.ylim(None, 1)\n",
    "plt.subplot(1, 2, 2)\n",
    "plot_graphs(history, 'loss')\n",
    "plt.ylim(0, None)"
   ],
   "metadata": {
    "collapsed": false,
    "pycharm": {
     "name": "#%%\n"
    }
   }
  },
  {
   "cell_type": "code",
   "execution_count": 40,
   "outputs": [],
   "source": [
    "model.save(\"tf_models/rnn_hard_bag.h5\")"
   ],
   "metadata": {
    "collapsed": false,
    "pycharm": {
     "name": "#%%\n"
    }
   }
  },
  {
   "cell_type": "markdown",
   "source": [
    "## Start of RNN building (embeds)\n",
    "\n",
    "We will first create an RNN model on the easy dataset, analyse the results, and then create the RNN model on the hard dataset"
   ],
   "metadata": {
    "collapsed": false,
    "pycharm": {
     "name": "#%% md\n"
    }
   }
  },
  {
   "cell_type": "markdown",
   "source": [
    "### Easy Dataset (Distinct Job Categories)"
   ],
   "metadata": {
    "collapsed": false,
    "pycharm": {
     "name": "#%% md\n"
    }
   }
  },
  {
   "cell_type": "code",
   "execution_count": 41,
   "outputs": [],
   "source": [
    "is_working_with_easy_dataset = True"
   ],
   "metadata": {
    "collapsed": false,
    "pycharm": {
     "name": "#%%\n"
    }
   }
  },
  {
   "cell_type": "code",
   "execution_count": 42,
   "outputs": [],
   "source": [
    "if is_working_with_easy_dataset:\n",
    "    input_train_filename = \"embedding_easy_train.csv\"\n",
    "    input_test_filename = \"embedding_easy_test.csv\"\n",
    "else:\n",
    "    input_train_filename = \"embedding_difficult_train.csv\"\n",
    "    input_test_filename = \"embedding_difficult_test.csv\""
   ],
   "metadata": {
    "collapsed": false,
    "pycharm": {
     "name": "#%%\n"
    }
   }
  },
  {
   "cell_type": "code",
   "execution_count": 43,
   "outputs": [],
   "source": [
    "jd_train = pd.read_csv(input_train_filename, keep_default_na=False)\n",
    "jd_test = pd.read_csv(input_test_filename, keep_default_na=False)"
   ],
   "metadata": {
    "collapsed": false,
    "pycharm": {
     "name": "#%%\n"
    }
   }
  },
  {
   "cell_type": "code",
   "execution_count": 44,
   "outputs": [
    {
     "data": {
      "text/plain": "               category         0         1         2         3         4  \\\n0     software+engineer -0.007818  0.015209 -0.032915 -0.040774 -0.075819   \n1                  arts -0.039281 -0.037813 -0.002049 -0.079996 -0.009300   \n2                    hr -0.099071  0.067754 -0.018720  0.065808 -0.019722   \n3                  arts -0.000244 -0.010329  0.005088  0.019951  0.031961   \n4                  arts  0.037742 -0.058576  0.017413 -0.007462 -0.010717   \n...                 ...       ...       ...       ...       ...       ...   \n3177  software+engineer -0.092087  0.031149 -0.008015 -0.022320 -0.046425   \n3178              sales -0.078644  0.031273  0.041027 -0.058212 -0.068799   \n3179               arts -0.101251  0.041866 -0.005444 -0.011291 -0.032258   \n3180                 hr -0.051157  0.022184  0.029747  0.018414 -0.007712   \n3181                 hr -0.037771  0.040630 -0.033029  0.056949 -0.050621   \n\n             5         6         7         8  ...       374       375  \\\n0    -0.122257  0.003905  0.105021 -0.081435  ...  0.036517  0.067738   \n1     0.014721  0.028362 -0.028484 -0.047296  ...  0.061370  0.030016   \n2    -0.006825 -0.010283  0.001540 -0.087364  ...  0.081999  0.114448   \n3    -0.004796 -0.056017  0.008362 -0.058531  ...  0.018572  0.015595   \n4    -0.022504 -0.016252  0.022974 -0.052209  ...  0.015944  0.056351   \n...        ...       ...       ...       ...  ...       ...       ...   \n3177 -0.083988  0.008692  0.036745 -0.129390  ...  0.008609  0.064561   \n3178  0.024472  0.047536  0.047297 -0.061370  ... -0.022879  0.019196   \n3179 -0.016939  0.026778  0.046210 -0.083376  ...  0.004621  0.021080   \n3180 -0.003600  0.016207  0.049001 -0.018576  ...  0.000053  0.008966   \n3181 -0.047433 -0.007329  0.009315 -0.052792  ...  0.005489  0.047084   \n\n           376       377       378       379       380       381       382  \\\n0     0.017234 -0.021146 -0.005016  0.052575  0.016892  0.011725  0.031423   \n1    -0.020944  0.025066 -0.054447  0.042434 -0.016480 -0.065129 -0.121761   \n2     0.022363 -0.051149  0.002981  0.086356  0.092362 -0.042364 -0.033669   \n3     0.026521  0.006298 -0.024210  0.076719 -0.001265 -0.029895 -0.037964   \n4     0.060758  0.049852 -0.018264  0.075948  0.001910 -0.011242 -0.045209   \n...        ...       ...       ...       ...       ...       ...       ...   \n3177 -0.016291 -0.005272 -0.021538  0.051470  0.078117 -0.018555 -0.036695   \n3178  0.019246 -0.004855  0.016442  0.089635  0.074209 -0.086454 -0.098238   \n3179  0.026186  0.022296 -0.041951  0.082195  0.048774 -0.097376 -0.085289   \n3180 -0.015656 -0.005649 -0.080121  0.053882  0.070258 -0.079552 -0.019765   \n3181  0.037522 -0.024134 -0.032097  0.051435  0.104937 -0.089167 -0.052026   \n\n           383  \n0     0.008097  \n1     0.036031  \n2     0.060429  \n3     0.052187  \n4     0.029765  \n...        ...  \n3177 -0.013603  \n3178  0.072741  \n3179  0.013674  \n3180  0.002172  \n3181  0.026151  \n\n[3182 rows x 385 columns]",
      "text/html": "<div>\n<style scoped>\n    .dataframe tbody tr th:only-of-type {\n        vertical-align: middle;\n    }\n\n    .dataframe tbody tr th {\n        vertical-align: top;\n    }\n\n    .dataframe thead th {\n        text-align: right;\n    }\n</style>\n<table border=\"1\" class=\"dataframe\">\n  <thead>\n    <tr style=\"text-align: right;\">\n      <th></th>\n      <th>category</th>\n      <th>0</th>\n      <th>1</th>\n      <th>2</th>\n      <th>3</th>\n      <th>4</th>\n      <th>5</th>\n      <th>6</th>\n      <th>7</th>\n      <th>8</th>\n      <th>...</th>\n      <th>374</th>\n      <th>375</th>\n      <th>376</th>\n      <th>377</th>\n      <th>378</th>\n      <th>379</th>\n      <th>380</th>\n      <th>381</th>\n      <th>382</th>\n      <th>383</th>\n    </tr>\n  </thead>\n  <tbody>\n    <tr>\n      <th>0</th>\n      <td>software+engineer</td>\n      <td>-0.007818</td>\n      <td>0.015209</td>\n      <td>-0.032915</td>\n      <td>-0.040774</td>\n      <td>-0.075819</td>\n      <td>-0.122257</td>\n      <td>0.003905</td>\n      <td>0.105021</td>\n      <td>-0.081435</td>\n      <td>...</td>\n      <td>0.036517</td>\n      <td>0.067738</td>\n      <td>0.017234</td>\n      <td>-0.021146</td>\n      <td>-0.005016</td>\n      <td>0.052575</td>\n      <td>0.016892</td>\n      <td>0.011725</td>\n      <td>0.031423</td>\n      <td>0.008097</td>\n    </tr>\n    <tr>\n      <th>1</th>\n      <td>arts</td>\n      <td>-0.039281</td>\n      <td>-0.037813</td>\n      <td>-0.002049</td>\n      <td>-0.079996</td>\n      <td>-0.009300</td>\n      <td>0.014721</td>\n      <td>0.028362</td>\n      <td>-0.028484</td>\n      <td>-0.047296</td>\n      <td>...</td>\n      <td>0.061370</td>\n      <td>0.030016</td>\n      <td>-0.020944</td>\n      <td>0.025066</td>\n      <td>-0.054447</td>\n      <td>0.042434</td>\n      <td>-0.016480</td>\n      <td>-0.065129</td>\n      <td>-0.121761</td>\n      <td>0.036031</td>\n    </tr>\n    <tr>\n      <th>2</th>\n      <td>hr</td>\n      <td>-0.099071</td>\n      <td>0.067754</td>\n      <td>-0.018720</td>\n      <td>0.065808</td>\n      <td>-0.019722</td>\n      <td>-0.006825</td>\n      <td>-0.010283</td>\n      <td>0.001540</td>\n      <td>-0.087364</td>\n      <td>...</td>\n      <td>0.081999</td>\n      <td>0.114448</td>\n      <td>0.022363</td>\n      <td>-0.051149</td>\n      <td>0.002981</td>\n      <td>0.086356</td>\n      <td>0.092362</td>\n      <td>-0.042364</td>\n      <td>-0.033669</td>\n      <td>0.060429</td>\n    </tr>\n    <tr>\n      <th>3</th>\n      <td>arts</td>\n      <td>-0.000244</td>\n      <td>-0.010329</td>\n      <td>0.005088</td>\n      <td>0.019951</td>\n      <td>0.031961</td>\n      <td>-0.004796</td>\n      <td>-0.056017</td>\n      <td>0.008362</td>\n      <td>-0.058531</td>\n      <td>...</td>\n      <td>0.018572</td>\n      <td>0.015595</td>\n      <td>0.026521</td>\n      <td>0.006298</td>\n      <td>-0.024210</td>\n      <td>0.076719</td>\n      <td>-0.001265</td>\n      <td>-0.029895</td>\n      <td>-0.037964</td>\n      <td>0.052187</td>\n    </tr>\n    <tr>\n      <th>4</th>\n      <td>arts</td>\n      <td>0.037742</td>\n      <td>-0.058576</td>\n      <td>0.017413</td>\n      <td>-0.007462</td>\n      <td>-0.010717</td>\n      <td>-0.022504</td>\n      <td>-0.016252</td>\n      <td>0.022974</td>\n      <td>-0.052209</td>\n      <td>...</td>\n      <td>0.015944</td>\n      <td>0.056351</td>\n      <td>0.060758</td>\n      <td>0.049852</td>\n      <td>-0.018264</td>\n      <td>0.075948</td>\n      <td>0.001910</td>\n      <td>-0.011242</td>\n      <td>-0.045209</td>\n      <td>0.029765</td>\n    </tr>\n    <tr>\n      <th>...</th>\n      <td>...</td>\n      <td>...</td>\n      <td>...</td>\n      <td>...</td>\n      <td>...</td>\n      <td>...</td>\n      <td>...</td>\n      <td>...</td>\n      <td>...</td>\n      <td>...</td>\n      <td>...</td>\n      <td>...</td>\n      <td>...</td>\n      <td>...</td>\n      <td>...</td>\n      <td>...</td>\n      <td>...</td>\n      <td>...</td>\n      <td>...</td>\n      <td>...</td>\n      <td>...</td>\n    </tr>\n    <tr>\n      <th>3177</th>\n      <td>software+engineer</td>\n      <td>-0.092087</td>\n      <td>0.031149</td>\n      <td>-0.008015</td>\n      <td>-0.022320</td>\n      <td>-0.046425</td>\n      <td>-0.083988</td>\n      <td>0.008692</td>\n      <td>0.036745</td>\n      <td>-0.129390</td>\n      <td>...</td>\n      <td>0.008609</td>\n      <td>0.064561</td>\n      <td>-0.016291</td>\n      <td>-0.005272</td>\n      <td>-0.021538</td>\n      <td>0.051470</td>\n      <td>0.078117</td>\n      <td>-0.018555</td>\n      <td>-0.036695</td>\n      <td>-0.013603</td>\n    </tr>\n    <tr>\n      <th>3178</th>\n      <td>sales</td>\n      <td>-0.078644</td>\n      <td>0.031273</td>\n      <td>0.041027</td>\n      <td>-0.058212</td>\n      <td>-0.068799</td>\n      <td>0.024472</td>\n      <td>0.047536</td>\n      <td>0.047297</td>\n      <td>-0.061370</td>\n      <td>...</td>\n      <td>-0.022879</td>\n      <td>0.019196</td>\n      <td>0.019246</td>\n      <td>-0.004855</td>\n      <td>0.016442</td>\n      <td>0.089635</td>\n      <td>0.074209</td>\n      <td>-0.086454</td>\n      <td>-0.098238</td>\n      <td>0.072741</td>\n    </tr>\n    <tr>\n      <th>3179</th>\n      <td>arts</td>\n      <td>-0.101251</td>\n      <td>0.041866</td>\n      <td>-0.005444</td>\n      <td>-0.011291</td>\n      <td>-0.032258</td>\n      <td>-0.016939</td>\n      <td>0.026778</td>\n      <td>0.046210</td>\n      <td>-0.083376</td>\n      <td>...</td>\n      <td>0.004621</td>\n      <td>0.021080</td>\n      <td>0.026186</td>\n      <td>0.022296</td>\n      <td>-0.041951</td>\n      <td>0.082195</td>\n      <td>0.048774</td>\n      <td>-0.097376</td>\n      <td>-0.085289</td>\n      <td>0.013674</td>\n    </tr>\n    <tr>\n      <th>3180</th>\n      <td>hr</td>\n      <td>-0.051157</td>\n      <td>0.022184</td>\n      <td>0.029747</td>\n      <td>0.018414</td>\n      <td>-0.007712</td>\n      <td>-0.003600</td>\n      <td>0.016207</td>\n      <td>0.049001</td>\n      <td>-0.018576</td>\n      <td>...</td>\n      <td>0.000053</td>\n      <td>0.008966</td>\n      <td>-0.015656</td>\n      <td>-0.005649</td>\n      <td>-0.080121</td>\n      <td>0.053882</td>\n      <td>0.070258</td>\n      <td>-0.079552</td>\n      <td>-0.019765</td>\n      <td>0.002172</td>\n    </tr>\n    <tr>\n      <th>3181</th>\n      <td>hr</td>\n      <td>-0.037771</td>\n      <td>0.040630</td>\n      <td>-0.033029</td>\n      <td>0.056949</td>\n      <td>-0.050621</td>\n      <td>-0.047433</td>\n      <td>-0.007329</td>\n      <td>0.009315</td>\n      <td>-0.052792</td>\n      <td>...</td>\n      <td>0.005489</td>\n      <td>0.047084</td>\n      <td>0.037522</td>\n      <td>-0.024134</td>\n      <td>-0.032097</td>\n      <td>0.051435</td>\n      <td>0.104937</td>\n      <td>-0.089167</td>\n      <td>-0.052026</td>\n      <td>0.026151</td>\n    </tr>\n  </tbody>\n</table>\n<p>3182 rows × 385 columns</p>\n</div>"
     },
     "execution_count": 44,
     "metadata": {},
     "output_type": "execute_result"
    }
   ],
   "source": [
    "jd_train"
   ],
   "metadata": {
    "collapsed": false,
    "pycharm": {
     "name": "#%%\n"
    }
   }
  },
  {
   "cell_type": "code",
   "execution_count": 45,
   "outputs": [
    {
     "data": {
      "text/plain": "              category         0         1         2         3         4  \\\n0    software+engineer -0.113818  0.008952 -0.004451  0.003387  0.041243   \n1                sales -0.019982 -0.019572 -0.043766  0.038807 -0.021798   \n2                sales -0.061115  0.037327 -0.035323  0.007244 -0.014231   \n3                sales -0.110860  0.012782 -0.030584 -0.077872 -0.102458   \n4                 arts -0.044880  0.017243  0.052809 -0.012010  0.038006   \n..                 ...       ...       ...       ...       ...       ...   \n791  software+engineer -0.131392 -0.029033 -0.082744 -0.039305 -0.028481   \n792  software+engineer -0.043274 -0.032123  0.041134 -0.017565  0.032743   \n793  software+engineer -0.006800 -0.087576 -0.029101 -0.043830 -0.068833   \n794                 hr -0.128770  0.043694 -0.002058  0.047944 -0.053523   \n795                 hr -0.079189  0.014116 -0.021597  0.034801 -0.050730   \n\n            5         6         7         8  ...       374       375  \\\n0   -0.074476  0.027237  0.074545 -0.080968  ...  0.016368  0.115178   \n1   -0.003498 -0.008579 -0.007094  0.017747  ...  0.023369 -0.032173   \n2    0.054096  0.095702  0.017702 -0.064049  ...  0.024937  0.007117   \n3    0.048481  0.027282  0.055432 -0.007119  ... -0.057282  0.060048   \n4   -0.025841  0.002447  0.005194 -0.023129  ...  0.014638  0.062186   \n..        ...       ...       ...       ...  ...       ...       ...   \n791 -0.063193 -0.057688  0.128488 -0.072210  ... -0.023796  0.086397   \n792 -0.072493  0.013035 -0.040865  0.005068  ...  0.003571  0.061880   \n793 -0.016611  0.032965  0.086794 -0.112048  ...  0.093700  0.060009   \n794  0.042907  0.058572 -0.007716 -0.058442  ... -0.018871  0.036778   \n795 -0.014727 -0.056692 -0.020434 -0.031112  ...  0.056226  0.025051   \n\n          376       377       378       379       380       381       382  \\\n0    0.065218 -0.074784  0.057262  0.082102  0.059299 -0.031293  0.007032   \n1   -0.008954 -0.028408 -0.041258 -0.016728  0.078255 -0.043575  0.043920   \n2    0.029717  0.036748 -0.017619  0.084793  0.017758 -0.004776 -0.067190   \n3    0.012040  0.056503 -0.008248  0.102686 -0.004278 -0.015446 -0.055078   \n4    0.076078 -0.041519 -0.023763  0.048595  0.060352 -0.011345 -0.059987   \n..        ...       ...       ...       ...       ...       ...       ...   \n791 -0.071659 -0.031082 -0.003570  0.047519  0.033251 -0.166673 -0.007538   \n792  0.018539 -0.087545  0.026615  0.099625  0.018813 -0.029922  0.014897   \n793 -0.031102  0.073509  0.054705  0.061826  0.028178 -0.001595 -0.046012   \n794 -0.042918 -0.002689 -0.052095  0.123027  0.064848 -0.024640  0.003905   \n795  0.044193 -0.059260 -0.099940  0.062814  0.032975 -0.039858  0.017513   \n\n          383  \n0    0.071702  \n1   -0.008786  \n2    0.031323  \n3    0.049244  \n4    0.039882  \n..        ...  \n791 -0.031994  \n792 -0.003446  \n793 -0.033700  \n794  0.014744  \n795 -0.004559  \n\n[796 rows x 385 columns]",
      "text/html": "<div>\n<style scoped>\n    .dataframe tbody tr th:only-of-type {\n        vertical-align: middle;\n    }\n\n    .dataframe tbody tr th {\n        vertical-align: top;\n    }\n\n    .dataframe thead th {\n        text-align: right;\n    }\n</style>\n<table border=\"1\" class=\"dataframe\">\n  <thead>\n    <tr style=\"text-align: right;\">\n      <th></th>\n      <th>category</th>\n      <th>0</th>\n      <th>1</th>\n      <th>2</th>\n      <th>3</th>\n      <th>4</th>\n      <th>5</th>\n      <th>6</th>\n      <th>7</th>\n      <th>8</th>\n      <th>...</th>\n      <th>374</th>\n      <th>375</th>\n      <th>376</th>\n      <th>377</th>\n      <th>378</th>\n      <th>379</th>\n      <th>380</th>\n      <th>381</th>\n      <th>382</th>\n      <th>383</th>\n    </tr>\n  </thead>\n  <tbody>\n    <tr>\n      <th>0</th>\n      <td>software+engineer</td>\n      <td>-0.113818</td>\n      <td>0.008952</td>\n      <td>-0.004451</td>\n      <td>0.003387</td>\n      <td>0.041243</td>\n      <td>-0.074476</td>\n      <td>0.027237</td>\n      <td>0.074545</td>\n      <td>-0.080968</td>\n      <td>...</td>\n      <td>0.016368</td>\n      <td>0.115178</td>\n      <td>0.065218</td>\n      <td>-0.074784</td>\n      <td>0.057262</td>\n      <td>0.082102</td>\n      <td>0.059299</td>\n      <td>-0.031293</td>\n      <td>0.007032</td>\n      <td>0.071702</td>\n    </tr>\n    <tr>\n      <th>1</th>\n      <td>sales</td>\n      <td>-0.019982</td>\n      <td>-0.019572</td>\n      <td>-0.043766</td>\n      <td>0.038807</td>\n      <td>-0.021798</td>\n      <td>-0.003498</td>\n      <td>-0.008579</td>\n      <td>-0.007094</td>\n      <td>0.017747</td>\n      <td>...</td>\n      <td>0.023369</td>\n      <td>-0.032173</td>\n      <td>-0.008954</td>\n      <td>-0.028408</td>\n      <td>-0.041258</td>\n      <td>-0.016728</td>\n      <td>0.078255</td>\n      <td>-0.043575</td>\n      <td>0.043920</td>\n      <td>-0.008786</td>\n    </tr>\n    <tr>\n      <th>2</th>\n      <td>sales</td>\n      <td>-0.061115</td>\n      <td>0.037327</td>\n      <td>-0.035323</td>\n      <td>0.007244</td>\n      <td>-0.014231</td>\n      <td>0.054096</td>\n      <td>0.095702</td>\n      <td>0.017702</td>\n      <td>-0.064049</td>\n      <td>...</td>\n      <td>0.024937</td>\n      <td>0.007117</td>\n      <td>0.029717</td>\n      <td>0.036748</td>\n      <td>-0.017619</td>\n      <td>0.084793</td>\n      <td>0.017758</td>\n      <td>-0.004776</td>\n      <td>-0.067190</td>\n      <td>0.031323</td>\n    </tr>\n    <tr>\n      <th>3</th>\n      <td>sales</td>\n      <td>-0.110860</td>\n      <td>0.012782</td>\n      <td>-0.030584</td>\n      <td>-0.077872</td>\n      <td>-0.102458</td>\n      <td>0.048481</td>\n      <td>0.027282</td>\n      <td>0.055432</td>\n      <td>-0.007119</td>\n      <td>...</td>\n      <td>-0.057282</td>\n      <td>0.060048</td>\n      <td>0.012040</td>\n      <td>0.056503</td>\n      <td>-0.008248</td>\n      <td>0.102686</td>\n      <td>-0.004278</td>\n      <td>-0.015446</td>\n      <td>-0.055078</td>\n      <td>0.049244</td>\n    </tr>\n    <tr>\n      <th>4</th>\n      <td>arts</td>\n      <td>-0.044880</td>\n      <td>0.017243</td>\n      <td>0.052809</td>\n      <td>-0.012010</td>\n      <td>0.038006</td>\n      <td>-0.025841</td>\n      <td>0.002447</td>\n      <td>0.005194</td>\n      <td>-0.023129</td>\n      <td>...</td>\n      <td>0.014638</td>\n      <td>0.062186</td>\n      <td>0.076078</td>\n      <td>-0.041519</td>\n      <td>-0.023763</td>\n      <td>0.048595</td>\n      <td>0.060352</td>\n      <td>-0.011345</td>\n      <td>-0.059987</td>\n      <td>0.039882</td>\n    </tr>\n    <tr>\n      <th>...</th>\n      <td>...</td>\n      <td>...</td>\n      <td>...</td>\n      <td>...</td>\n      <td>...</td>\n      <td>...</td>\n      <td>...</td>\n      <td>...</td>\n      <td>...</td>\n      <td>...</td>\n      <td>...</td>\n      <td>...</td>\n      <td>...</td>\n      <td>...</td>\n      <td>...</td>\n      <td>...</td>\n      <td>...</td>\n      <td>...</td>\n      <td>...</td>\n      <td>...</td>\n      <td>...</td>\n    </tr>\n    <tr>\n      <th>791</th>\n      <td>software+engineer</td>\n      <td>-0.131392</td>\n      <td>-0.029033</td>\n      <td>-0.082744</td>\n      <td>-0.039305</td>\n      <td>-0.028481</td>\n      <td>-0.063193</td>\n      <td>-0.057688</td>\n      <td>0.128488</td>\n      <td>-0.072210</td>\n      <td>...</td>\n      <td>-0.023796</td>\n      <td>0.086397</td>\n      <td>-0.071659</td>\n      <td>-0.031082</td>\n      <td>-0.003570</td>\n      <td>0.047519</td>\n      <td>0.033251</td>\n      <td>-0.166673</td>\n      <td>-0.007538</td>\n      <td>-0.031994</td>\n    </tr>\n    <tr>\n      <th>792</th>\n      <td>software+engineer</td>\n      <td>-0.043274</td>\n      <td>-0.032123</td>\n      <td>0.041134</td>\n      <td>-0.017565</td>\n      <td>0.032743</td>\n      <td>-0.072493</td>\n      <td>0.013035</td>\n      <td>-0.040865</td>\n      <td>0.005068</td>\n      <td>...</td>\n      <td>0.003571</td>\n      <td>0.061880</td>\n      <td>0.018539</td>\n      <td>-0.087545</td>\n      <td>0.026615</td>\n      <td>0.099625</td>\n      <td>0.018813</td>\n      <td>-0.029922</td>\n      <td>0.014897</td>\n      <td>-0.003446</td>\n    </tr>\n    <tr>\n      <th>793</th>\n      <td>software+engineer</td>\n      <td>-0.006800</td>\n      <td>-0.087576</td>\n      <td>-0.029101</td>\n      <td>-0.043830</td>\n      <td>-0.068833</td>\n      <td>-0.016611</td>\n      <td>0.032965</td>\n      <td>0.086794</td>\n      <td>-0.112048</td>\n      <td>...</td>\n      <td>0.093700</td>\n      <td>0.060009</td>\n      <td>-0.031102</td>\n      <td>0.073509</td>\n      <td>0.054705</td>\n      <td>0.061826</td>\n      <td>0.028178</td>\n      <td>-0.001595</td>\n      <td>-0.046012</td>\n      <td>-0.033700</td>\n    </tr>\n    <tr>\n      <th>794</th>\n      <td>hr</td>\n      <td>-0.128770</td>\n      <td>0.043694</td>\n      <td>-0.002058</td>\n      <td>0.047944</td>\n      <td>-0.053523</td>\n      <td>0.042907</td>\n      <td>0.058572</td>\n      <td>-0.007716</td>\n      <td>-0.058442</td>\n      <td>...</td>\n      <td>-0.018871</td>\n      <td>0.036778</td>\n      <td>-0.042918</td>\n      <td>-0.002689</td>\n      <td>-0.052095</td>\n      <td>0.123027</td>\n      <td>0.064848</td>\n      <td>-0.024640</td>\n      <td>0.003905</td>\n      <td>0.014744</td>\n    </tr>\n    <tr>\n      <th>795</th>\n      <td>hr</td>\n      <td>-0.079189</td>\n      <td>0.014116</td>\n      <td>-0.021597</td>\n      <td>0.034801</td>\n      <td>-0.050730</td>\n      <td>-0.014727</td>\n      <td>-0.056692</td>\n      <td>-0.020434</td>\n      <td>-0.031112</td>\n      <td>...</td>\n      <td>0.056226</td>\n      <td>0.025051</td>\n      <td>0.044193</td>\n      <td>-0.059260</td>\n      <td>-0.099940</td>\n      <td>0.062814</td>\n      <td>0.032975</td>\n      <td>-0.039858</td>\n      <td>0.017513</td>\n      <td>-0.004559</td>\n    </tr>\n  </tbody>\n</table>\n<p>796 rows × 385 columns</p>\n</div>"
     },
     "execution_count": 45,
     "metadata": {},
     "output_type": "execute_result"
    }
   ],
   "source": [
    "jd_test"
   ],
   "metadata": {
    "collapsed": false,
    "pycharm": {
     "name": "#%%\n"
    }
   }
  },
  {
   "cell_type": "code",
   "execution_count": 46,
   "outputs": [],
   "source": [
    "jd_train_X = jd_train.iloc[:, 1:]\n",
    "jd_train_y = jd_train[[\"category\"]]\n",
    "\n",
    "jd_test_X = jd_test.iloc[:, 1:]\n",
    "jd_test_y = jd_test[[\"category\"]]"
   ],
   "metadata": {
    "collapsed": false,
    "pycharm": {
     "name": "#%%\n"
    }
   }
  },
  {
   "cell_type": "code",
   "execution_count": 47,
   "outputs": [
    {
     "data": {
      "text/plain": "category         \nsoftware+engineer    220\narts                 198\nsales                197\nhr                   181\ndtype: int64"
     },
     "execution_count": 47,
     "metadata": {},
     "output_type": "execute_result"
    }
   ],
   "source": [
    "jd_test_y.value_counts()"
   ],
   "metadata": {
    "collapsed": false,
    "pycharm": {
     "name": "#%%\n"
    }
   }
  },
  {
   "cell_type": "code",
   "execution_count": 48,
   "outputs": [],
   "source": [
    "enc = OneHotEncoder(sparse=False)\n",
    "enc.fit(jd_train_y);"
   ],
   "metadata": {
    "collapsed": false,
    "pycharm": {
     "name": "#%%\n"
    }
   }
  },
  {
   "cell_type": "code",
   "execution_count": 49,
   "outputs": [
    {
     "data": {
      "text/plain": "[array(['arts', 'hr', 'sales', 'software+engineer'], dtype=object)]"
     },
     "execution_count": 49,
     "metadata": {},
     "output_type": "execute_result"
    }
   ],
   "source": [
    "enc.categories_"
   ],
   "metadata": {
    "collapsed": false,
    "pycharm": {
     "name": "#%%\n"
    }
   }
  },
  {
   "cell_type": "code",
   "execution_count": 50,
   "outputs": [],
   "source": [
    "jd_train_y = enc.transform(jd_train_y)\n",
    "jd_test_y = enc.transform(jd_test_y)"
   ],
   "metadata": {
    "collapsed": false,
    "pycharm": {
     "name": "#%%\n"
    }
   }
  },
  {
   "cell_type": "code",
   "execution_count": 51,
   "outputs": [],
   "source": [
    "model = tf.keras.Sequential([\n",
    "    tf.keras.layers.Bidirectional(tf.keras.layers.LSTM(32), input_shape=(384, 1)),\n",
    "    tf.keras.layers.Dense(16, activation='relu'),\n",
    "    tf.keras.layers.Dense(4, activation='softmax')\n",
    "])"
   ],
   "metadata": {
    "collapsed": false,
    "pycharm": {
     "name": "#%%\n"
    }
   }
  },
  {
   "cell_type": "code",
   "execution_count": 52,
   "outputs": [],
   "source": [
    "model.compile(loss=tf.keras.losses.CategoricalCrossentropy(),\n",
    "              optimizer=tf.keras.optimizers.Adam(1e-4),\n",
    "              metrics=['accuracy', tf.keras.metrics.Recall(), tf.keras.metrics.Precision(), tf.keras.metrics.AUC()])"
   ],
   "metadata": {
    "collapsed": false,
    "pycharm": {
     "name": "#%%\n"
    }
   }
  },
  {
   "cell_type": "code",
   "execution_count": 53,
   "outputs": [
    {
     "name": "stdout",
     "output_type": "stream",
     "text": [
      "Epoch 1/50\n"
     ]
    },
    {
     "name": "stderr",
     "output_type": "stream",
     "text": [
      "2023-04-03 23:25:42.288996: I tensorflow/core/grappler/optimizers/custom_graph_optimizer_registry.cc:113] Plugin optimizer for device_type GPU is enabled.\n",
      "2023-04-03 23:25:42.542534: I tensorflow/core/grappler/optimizers/custom_graph_optimizer_registry.cc:113] Plugin optimizer for device_type GPU is enabled.\n",
      "2023-04-03 23:25:42.542574: I tensorflow/core/grappler/optimizers/custom_graph_optimizer_registry.cc:113] Plugin optimizer for device_type GPU is enabled.\n",
      "2023-04-03 23:25:44.062301: I tensorflow/core/grappler/optimizers/custom_graph_optimizer_registry.cc:113] Plugin optimizer for device_type GPU is enabled.\n",
      "2023-04-03 23:25:44.077564: I tensorflow/core/grappler/optimizers/custom_graph_optimizer_registry.cc:113] Plugin optimizer for device_type GPU is enabled.\n"
     ]
    },
    {
     "name": "stdout",
     "output_type": "stream",
     "text": [
      "100/100 [==============================] - ETA: 0s - loss: 1.3858 - accuracy: 0.2678 - recall_3: 0.0000e+00 - precision_3: 0.0000e+00 - auc_3: 0.5089"
     ]
    },
    {
     "name": "stderr",
     "output_type": "stream",
     "text": [
      "2023-04-03 23:26:10.605627: I tensorflow/core/grappler/optimizers/custom_graph_optimizer_registry.cc:113] Plugin optimizer for device_type GPU is enabled.\n",
      "2023-04-03 23:26:10.750294: I tensorflow/core/grappler/optimizers/custom_graph_optimizer_registry.cc:113] Plugin optimizer for device_type GPU is enabled.\n",
      "2023-04-03 23:26:10.750337: I tensorflow/core/grappler/optimizers/custom_graph_optimizer_registry.cc:113] Plugin optimizer for device_type GPU is enabled.\n"
     ]
    },
    {
     "name": "stdout",
     "output_type": "stream",
     "text": [
      "100/100 [==============================] - 36s 306ms/step - loss: 1.3858 - accuracy: 0.2678 - recall_3: 0.0000e+00 - precision_3: 0.0000e+00 - auc_3: 0.5089 - val_loss: 1.3859 - val_accuracy: 0.2814 - val_recall_3: 0.0000e+00 - val_precision_3: 0.0000e+00 - val_auc_3: 0.5216\n",
      "Epoch 2/50\n",
      "100/100 [==============================] - 22s 221ms/step - loss: 1.3850 - accuracy: 0.2618 - recall_3: 0.0000e+00 - precision_3: 0.0000e+00 - auc_3: 0.5406 - val_loss: 1.3854 - val_accuracy: 0.2588 - val_recall_3: 0.0000e+00 - val_precision_3: 0.0000e+00 - val_auc_3: 0.5436\n",
      "Epoch 3/50\n",
      "100/100 [==============================] - 22s 217ms/step - loss: 1.3840 - accuracy: 0.3146 - recall_3: 0.0000e+00 - precision_3: 0.0000e+00 - auc_3: 0.5688 - val_loss: 1.3844 - val_accuracy: 0.3379 - val_recall_3: 0.0000e+00 - val_precision_3: 0.0000e+00 - val_auc_3: 0.5425\n",
      "Epoch 4/50\n",
      "100/100 [==============================] - 21s 212ms/step - loss: 1.3809 - accuracy: 0.3184 - recall_3: 0.0000e+00 - precision_3: 0.0000e+00 - auc_3: 0.5575 - val_loss: 1.3821 - val_accuracy: 0.2977 - val_recall_3: 0.0000e+00 - val_precision_3: 0.0000e+00 - val_auc_3: 0.5378\n",
      "Epoch 5/50\n",
      "100/100 [==============================] - 22s 218ms/step - loss: 1.3738 - accuracy: 0.3378 - recall_3: 0.0000e+00 - precision_3: 0.0000e+00 - auc_3: 0.5908 - val_loss: 1.3737 - val_accuracy: 0.3681 - val_recall_3: 0.0000e+00 - val_precision_3: 0.0000e+00 - val_auc_3: 0.6105\n",
      "Epoch 6/50\n",
      "100/100 [==============================] - 21s 215ms/step - loss: 1.3698 - accuracy: 0.3479 - recall_3: 0.0000e+00 - precision_3: 0.0000e+00 - auc_3: 0.6017 - val_loss: 1.3704 - val_accuracy: 0.3204 - val_recall_3: 0.0000e+00 - val_precision_3: 0.0000e+00 - val_auc_3: 0.5871\n",
      "Epoch 7/50\n",
      "100/100 [==============================] - 21s 208ms/step - loss: 1.3622 - accuracy: 0.3592 - recall_3: 0.0000e+00 - precision_3: 0.0000e+00 - auc_3: 0.6155 - val_loss: 1.3701 - val_accuracy: 0.3078 - val_recall_3: 0.0000e+00 - val_precision_3: 0.0000e+00 - val_auc_3: 0.5646\n",
      "Epoch 8/50\n",
      "100/100 [==============================] - 21s 211ms/step - loss: 1.3462 - accuracy: 0.3630 - recall_3: 0.0000e+00 - precision_3: 0.0000e+00 - auc_3: 0.6304 - val_loss: 1.3475 - val_accuracy: 0.3467 - val_recall_3: 0.0000e+00 - val_precision_3: 0.0000e+00 - val_auc_3: 0.6192\n",
      "Epoch 9/50\n",
      "100/100 [==============================] - 21s 211ms/step - loss: 1.3235 - accuracy: 0.3734 - recall_3: 0.0000e+00 - precision_3: 0.0000e+00 - auc_3: 0.6473 - val_loss: 1.3104 - val_accuracy: 0.4033 - val_recall_3: 0.0000e+00 - val_precision_3: 0.0000e+00 - val_auc_3: 0.6655\n",
      "Epoch 10/50\n",
      "100/100 [==============================] - 22s 219ms/step - loss: 1.3064 - accuracy: 0.3840 - recall_3: 0.0063 - precision_3: 0.7692 - auc_3: 0.6503 - val_loss: 1.2967 - val_accuracy: 0.3995 - val_recall_3: 0.0025 - val_precision_3: 0.6667 - val_auc_3: 0.6744\n",
      "Epoch 11/50\n",
      "100/100 [==============================] - 21s 212ms/step - loss: 1.2954 - accuracy: 0.3743 - recall_3: 0.0185 - precision_3: 0.7662 - auc_3: 0.6548 - val_loss: 1.2785 - val_accuracy: 0.3869 - val_recall_3: 0.0188 - val_precision_3: 0.7500 - val_auc_3: 0.6864\n",
      "Epoch 12/50\n",
      "100/100 [==============================] - 21s 214ms/step - loss: 1.2840 - accuracy: 0.3730 - recall_3: 0.0377 - precision_3: 0.6818 - auc_3: 0.6680 - val_loss: 1.2768 - val_accuracy: 0.3794 - val_recall_3: 0.0854 - val_precision_3: 0.6939 - val_auc_3: 0.6729\n",
      "Epoch 13/50\n",
      "100/100 [==============================] - 22s 221ms/step - loss: 1.2744 - accuracy: 0.3787 - recall_3: 0.0500 - precision_3: 0.6335 - auc_3: 0.6721 - val_loss: 1.2613 - val_accuracy: 0.4121 - val_recall_3: 0.0364 - val_precision_3: 0.7436 - val_auc_3: 0.6965\n",
      "Epoch 14/50\n",
      "100/100 [==============================] - 22s 215ms/step - loss: 1.2605 - accuracy: 0.3847 - recall_3: 0.0723 - precision_3: 0.6725 - auc_3: 0.6846 - val_loss: 1.2514 - val_accuracy: 0.4271 - val_recall_3: 0.0691 - val_precision_3: 0.8088 - val_auc_3: 0.6984\n",
      "Epoch 15/50\n",
      "100/100 [==============================] - 22s 216ms/step - loss: 1.2613 - accuracy: 0.3884 - recall_3: 0.0717 - precision_3: 0.6369 - auc_3: 0.6835 - val_loss: 1.2448 - val_accuracy: 0.3970 - val_recall_3: 0.0967 - val_precision_3: 0.7938 - val_auc_3: 0.6945\n",
      "Epoch 16/50\n",
      "100/100 [==============================] - 21s 208ms/step - loss: 1.3066 - accuracy: 0.3856 - recall_3: 0.0679 - precision_3: 0.5838 - auc_3: 0.6715 - val_loss: 1.3550 - val_accuracy: 0.3216 - val_recall_3: 0.0000e+00 - val_precision_3: 0.0000e+00 - val_auc_3: 0.5883\n",
      "Epoch 17/50\n",
      "100/100 [==============================] - 24s 236ms/step - loss: 1.3236 - accuracy: 0.3664 - recall_3: 0.0000e+00 - precision_3: 0.0000e+00 - auc_3: 0.6404 - val_loss: 1.3107 - val_accuracy: 0.3920 - val_recall_3: 0.0013 - val_precision_3: 1.0000 - val_auc_3: 0.6567\n",
      "Epoch 18/50\n",
      "100/100 [==============================] - 24s 236ms/step - loss: 1.2887 - accuracy: 0.4139 - recall_3: 0.0091 - precision_3: 0.8788 - auc_3: 0.6701 - val_loss: 1.2633 - val_accuracy: 0.4234 - val_recall_3: 0.0339 - val_precision_3: 0.9310 - val_auc_3: 0.6918\n",
      "Epoch 19/50\n",
      "100/100 [==============================] - 23s 230ms/step - loss: 1.2481 - accuracy: 0.4155 - recall_3: 0.0660 - precision_3: 0.6667 - auc_3: 0.6886 - val_loss: 1.2262 - val_accuracy: 0.4196 - val_recall_3: 0.0817 - val_precision_3: 0.7927 - val_auc_3: 0.7086\n",
      "Epoch 20/50\n",
      "100/100 [==============================] - 22s 220ms/step - loss: 1.2345 - accuracy: 0.4180 - recall_3: 0.0827 - precision_3: 0.6958 - auc_3: 0.6938 - val_loss: 1.2095 - val_accuracy: 0.4686 - val_recall_3: 0.1080 - val_precision_3: 0.7288 - val_auc_3: 0.7160\n",
      "Epoch 21/50\n",
      "100/100 [==============================] - 24s 239ms/step - loss: 1.2164 - accuracy: 0.4469 - recall_3: 0.1175 - precision_3: 0.6812 - auc_3: 0.7070 - val_loss: 1.2031 - val_accuracy: 0.4510 - val_recall_3: 0.1457 - val_precision_3: 0.6946 - val_auc_3: 0.7122\n",
      "Epoch 22/50\n",
      "100/100 [==============================] - 24s 237ms/step - loss: 1.2062 - accuracy: 0.4569 - recall_3: 0.1408 - precision_3: 0.6946 - auc_3: 0.7141 - val_loss: 1.1973 - val_accuracy: 0.4560 - val_recall_3: 0.1671 - val_precision_3: 0.7000 - val_auc_3: 0.7237\n",
      "Epoch 23/50\n",
      "100/100 [==============================] - 24s 236ms/step - loss: 1.1962 - accuracy: 0.4547 - recall_3: 0.1499 - precision_3: 0.6671 - auc_3: 0.7224 - val_loss: 1.1733 - val_accuracy: 0.4623 - val_recall_3: 0.1859 - val_precision_3: 0.6852 - val_auc_3: 0.7358\n",
      "Epoch 24/50\n",
      "100/100 [==============================] - 24s 238ms/step - loss: 1.1813 - accuracy: 0.4717 - recall_3: 0.1631 - precision_3: 0.6447 - auc_3: 0.7324 - val_loss: 1.1628 - val_accuracy: 0.4636 - val_recall_3: 0.1884 - val_precision_3: 0.6787 - val_auc_3: 0.7426\n",
      "Epoch 25/50\n",
      "100/100 [==============================] - 24s 236ms/step - loss: 1.1680 - accuracy: 0.4755 - recall_3: 0.1716 - precision_3: 0.6408 - auc_3: 0.7424 - val_loss: 1.1796 - val_accuracy: 0.4799 - val_recall_3: 0.1533 - val_precision_3: 0.7052 - val_auc_3: 0.7391\n",
      "Epoch 26/50\n",
      "100/100 [==============================] - 24s 237ms/step - loss: 1.1588 - accuracy: 0.4830 - recall_3: 0.1782 - precision_3: 0.6647 - auc_3: 0.7494 - val_loss: 1.1517 - val_accuracy: 0.4661 - val_recall_3: 0.2211 - val_precision_3: 0.6090 - val_auc_3: 0.7512\n",
      "Epoch 27/50\n",
      "100/100 [==============================] - 24s 238ms/step - loss: 1.1527 - accuracy: 0.4802 - recall_3: 0.1838 - precision_3: 0.6304 - auc_3: 0.7533 - val_loss: 1.1370 - val_accuracy: 0.5126 - val_recall_3: 0.2010 - val_precision_3: 0.6897 - val_auc_3: 0.7643\n",
      "Epoch 28/50\n",
      "100/100 [==============================] - 24s 237ms/step - loss: 1.1401 - accuracy: 0.4953 - recall_3: 0.2027 - precision_3: 0.6522 - auc_3: 0.7616 - val_loss: 1.1522 - val_accuracy: 0.4874 - val_recall_3: 0.1734 - val_precision_3: 0.7459 - val_auc_3: 0.7491\n",
      "Epoch 29/50\n",
      "100/100 [==============================] - 24s 237ms/step - loss: 1.1325 - accuracy: 0.4994 - recall_3: 0.2137 - precision_3: 0.6551 - auc_3: 0.7645 - val_loss: 1.1305 - val_accuracy: 0.5138 - val_recall_3: 0.1922 - val_precision_3: 0.7356 - val_auc_3: 0.7654\n",
      "Epoch 30/50\n",
      "100/100 [==============================] - 23s 227ms/step - loss: 1.1275 - accuracy: 0.5053 - recall_3: 0.2131 - precision_3: 0.6608 - auc_3: 0.7691 - val_loss: 1.1217 - val_accuracy: 0.5050 - val_recall_3: 0.1834 - val_precision_3: 0.7684 - val_auc_3: 0.7734\n",
      "Epoch 31/50\n",
      "100/100 [==============================] - 21s 214ms/step - loss: 1.1085 - accuracy: 0.5016 - recall_3: 0.2348 - precision_3: 0.6809 - auc_3: 0.7794 - val_loss: 1.0989 - val_accuracy: 0.5276 - val_recall_3: 0.2249 - val_precision_3: 0.7397 - val_auc_3: 0.7836\n",
      "Epoch 32/50\n",
      "100/100 [==============================] - 23s 235ms/step - loss: 1.1050 - accuracy: 0.5066 - recall_3: 0.2580 - precision_3: 0.6697 - auc_3: 0.7810 - val_loss: 1.1123 - val_accuracy: 0.5289 - val_recall_3: 0.2751 - val_precision_3: 0.6822 - val_auc_3: 0.7775\n",
      "Epoch 33/50\n",
      "100/100 [==============================] - 23s 235ms/step - loss: 1.0914 - accuracy: 0.5314 - recall_3: 0.2781 - precision_3: 0.6823 - auc_3: 0.7882 - val_loss: 1.0797 - val_accuracy: 0.5188 - val_recall_3: 0.2751 - val_precision_3: 0.7157 - val_auc_3: 0.7942\n",
      "Epoch 34/50\n",
      "100/100 [==============================] - 23s 232ms/step - loss: 1.0800 - accuracy: 0.5390 - recall_3: 0.3052 - precision_3: 0.6790 - auc_3: 0.7939 - val_loss: 1.0701 - val_accuracy: 0.5352 - val_recall_3: 0.2776 - val_precision_3: 0.7543 - val_auc_3: 0.7990\n",
      "Epoch 35/50\n",
      "100/100 [==============================] - 23s 228ms/step - loss: 1.0775 - accuracy: 0.5383 - recall_3: 0.3168 - precision_3: 0.6933 - auc_3: 0.7948 - val_loss: 1.0701 - val_accuracy: 0.5339 - val_recall_3: 0.2802 - val_precision_3: 0.7637 - val_auc_3: 0.7994\n",
      "Epoch 36/50\n",
      "100/100 [==============================] - 23s 231ms/step - loss: 1.0682 - accuracy: 0.5541 - recall_3: 0.3127 - precision_3: 0.6929 - auc_3: 0.7997 - val_loss: 1.0668 - val_accuracy: 0.5327 - val_recall_3: 0.3040 - val_precision_3: 0.7139 - val_auc_3: 0.7994\n",
      "Epoch 37/50\n",
      "100/100 [==============================] - 23s 230ms/step - loss: 1.0604 - accuracy: 0.5534 - recall_3: 0.3297 - precision_3: 0.6785 - auc_3: 0.8003 - val_loss: 1.0503 - val_accuracy: 0.5741 - val_recall_3: 0.3819 - val_precision_3: 0.6726 - val_auc_3: 0.8045\n",
      "Epoch 38/50\n",
      "100/100 [==============================] - 23s 232ms/step - loss: 1.0468 - accuracy: 0.5556 - recall_3: 0.3592 - precision_3: 0.6915 - auc_3: 0.8072 - val_loss: 1.0685 - val_accuracy: 0.5188 - val_recall_3: 0.3204 - val_precision_3: 0.7183 - val_auc_3: 0.7970\n",
      "Epoch 39/50\n",
      "100/100 [==============================] - 23s 230ms/step - loss: 1.0431 - accuracy: 0.5635 - recall_3: 0.3759 - precision_3: 0.6933 - auc_3: 0.8085 - val_loss: 1.0408 - val_accuracy: 0.5716 - val_recall_3: 0.3643 - val_precision_3: 0.7305 - val_auc_3: 0.8096\n",
      "Epoch 40/50\n",
      "100/100 [==============================] - 23s 232ms/step - loss: 1.0431 - accuracy: 0.5594 - recall_3: 0.3686 - precision_3: 0.6800 - auc_3: 0.8082 - val_loss: 1.0498 - val_accuracy: 0.5553 - val_recall_3: 0.3580 - val_precision_3: 0.7090 - val_auc_3: 0.8067\n",
      "Epoch 41/50\n",
      "100/100 [==============================] - 23s 231ms/step - loss: 1.0335 - accuracy: 0.5745 - recall_3: 0.3960 - precision_3: 0.6931 - auc_3: 0.8118 - val_loss: 1.0339 - val_accuracy: 0.5729 - val_recall_3: 0.4397 - val_precision_3: 0.6849 - val_auc_3: 0.8133\n",
      "Epoch 42/50\n",
      "100/100 [==============================] - 22s 225ms/step - loss: 1.0345 - accuracy: 0.5629 - recall_3: 0.3891 - precision_3: 0.6866 - auc_3: 0.8117 - val_loss: 1.0798 - val_accuracy: 0.5490 - val_recall_3: 0.3543 - val_precision_3: 0.6795 - val_auc_3: 0.7923\n",
      "Epoch 43/50\n",
      "100/100 [==============================] - 23s 226ms/step - loss: 1.0251 - accuracy: 0.5632 - recall_3: 0.3997 - precision_3: 0.6887 - auc_3: 0.8154 - val_loss: 1.0344 - val_accuracy: 0.5666 - val_recall_3: 0.3882 - val_precision_3: 0.6761 - val_auc_3: 0.8120\n",
      "Epoch 44/50\n",
      "100/100 [==============================] - 22s 220ms/step - loss: 1.0249 - accuracy: 0.5657 - recall_3: 0.4070 - precision_3: 0.6834 - auc_3: 0.8151 - val_loss: 1.0221 - val_accuracy: 0.5691 - val_recall_3: 0.4284 - val_precision_3: 0.6988 - val_auc_3: 0.8171\n",
      "Epoch 45/50\n",
      "100/100 [==============================] - 21s 213ms/step - loss: 1.0184 - accuracy: 0.5654 - recall_3: 0.4195 - precision_3: 0.6910 - auc_3: 0.8182 - val_loss: 1.0181 - val_accuracy: 0.5540 - val_recall_3: 0.4384 - val_precision_3: 0.6830 - val_auc_3: 0.8188\n",
      "Epoch 46/50\n",
      "100/100 [==============================] - 21s 215ms/step - loss: 1.0124 - accuracy: 0.5732 - recall_3: 0.4258 - precision_3: 0.6913 - auc_3: 0.8203 - val_loss: 1.0449 - val_accuracy: 0.5716 - val_recall_3: 0.3920 - val_precision_3: 0.7091 - val_auc_3: 0.8069\n",
      "Epoch 47/50\n",
      "100/100 [==============================] - 21s 213ms/step - loss: 1.0190 - accuracy: 0.5701 - recall_3: 0.4243 - precision_3: 0.6863 - auc_3: 0.8173 - val_loss: 1.0134 - val_accuracy: 0.5817 - val_recall_3: 0.4070 - val_precision_3: 0.7090 - val_auc_3: 0.8210\n",
      "Epoch 48/50\n",
      "100/100 [==============================] - 21s 210ms/step - loss: 1.0011 - accuracy: 0.5792 - recall_3: 0.4334 - precision_3: 0.6926 - auc_3: 0.8244 - val_loss: 1.0445 - val_accuracy: 0.5415 - val_recall_3: 0.3618 - val_precision_3: 0.6841 - val_auc_3: 0.8083\n",
      "Epoch 49/50\n",
      "100/100 [==============================] - 21s 210ms/step - loss: 1.0075 - accuracy: 0.5723 - recall_3: 0.4217 - precision_3: 0.6840 - auc_3: 0.8218 - val_loss: 1.0180 - val_accuracy: 0.5678 - val_recall_3: 0.4146 - val_precision_3: 0.6918 - val_auc_3: 0.8174\n",
      "Epoch 50/50\n",
      "100/100 [==============================] - 21s 210ms/step - loss: 1.0029 - accuracy: 0.5713 - recall_3: 0.4359 - precision_3: 0.6942 - auc_3: 0.8238 - val_loss: 1.0099 - val_accuracy: 0.5590 - val_recall_3: 0.4698 - val_precision_3: 0.6739 - val_auc_3: 0.8221\n"
     ]
    }
   ],
   "source": [
    "history = model.fit(jd_train_X, jd_train_y, epochs=50, validation_steps=30, validation_data=(jd_test_X, jd_test_y))"
   ],
   "metadata": {
    "collapsed": false,
    "pycharm": {
     "name": "#%%\n"
    }
   }
  },
  {
   "cell_type": "code",
   "execution_count": 54,
   "outputs": [
    {
     "data": {
      "text/plain": "(0.0, 1.4051624476909637)"
     },
     "execution_count": 54,
     "metadata": {},
     "output_type": "execute_result"
    },
    {
     "data": {
      "text/plain": "<Figure size 1152x576 with 2 Axes>",
      "image/png": "[encoded data removed]"
     },
     "metadata": {
      "needs_background": "light"
     },
     "output_type": "display_data"
    }
   ],
   "source": [
    "plt.figure(figsize=(16, 8))\n",
    "plt.subplot(1, 2, 1)\n",
    "plot_graphs(history, 'accuracy')\n",
    "plt.ylim(None, 1)\n",
    "plt.subplot(1, 2, 2)\n",
    "plot_graphs(history, 'loss')\n",
    "plt.ylim(0, None)"
   ],
   "metadata": {
    "collapsed": false,
    "pycharm": {
     "name": "#%%\n"
    }
   }
  },
  {
   "cell_type": "markdown",
   "source": [
    "### Saving the model"
   ],
   "metadata": {
    "collapsed": false,
    "pycharm": {
     "name": "#%% md\n"
    }
   }
  },
  {
   "cell_type": "code",
   "execution_count": 55,
   "outputs": [],
   "source": [
    "model.save(\"tf_models/rnn_easy_embed.h5\")"
   ],
   "metadata": {
    "collapsed": false,
    "pycharm": {
     "name": "#%%\n"
    }
   }
  },
  {
   "cell_type": "markdown",
   "source": [
    "### Hard Dataset (Distinct Job Categories)"
   ],
   "metadata": {
    "collapsed": false,
    "pycharm": {
     "name": "#%% md\n"
    }
   }
  },
  {
   "cell_type": "code",
   "execution_count": 56,
   "outputs": [],
   "source": [
    "is_working_with_easy_dataset = False"
   ],
   "metadata": {
    "collapsed": false,
    "pycharm": {
     "name": "#%%\n"
    }
   }
  },
  {
   "cell_type": "code",
   "execution_count": 57,
   "outputs": [],
   "source": [
    "if is_working_with_easy_dataset:\n",
    "    input_train_filename = \"embedding_easy_train.csv\"\n",
    "    input_test_filename = \"embedding_easy_test.csv\"\n",
    "else:\n",
    "    input_train_filename = \"embedding_difficult_train.csv\"\n",
    "    input_test_filename = \"embedding_difficult_test.csv\"\n",
    "\n",
    "jd_train = pd.read_csv(input_train_filename, keep_default_na=False)\n",
    "jd_test = pd.read_csv(input_test_filename, keep_default_na=False)"
   ],
   "metadata": {
    "collapsed": false,
    "pycharm": {
     "name": "#%%\n"
    }
   }
  },
  {
   "cell_type": "code",
   "execution_count": 58,
   "outputs": [
    {
     "data": {
      "text/plain": "               category         0         1         2         3         4  \\\n0     software+engineer -0.067028 -0.037456  0.040710 -0.022643 -0.065919   \n1     software+engineer -0.049825 -0.026897 -0.014653 -0.045330 -0.002588   \n2     software+engineer -0.109452 -0.018895 -0.011882 -0.049141 -0.065425   \n3                 ui+ux -0.059268  0.002888  0.038257  0.000755 -0.040839   \n4                 ui+ux -0.012034  0.015511 -0.003249 -0.078507  0.065040   \n...                 ...       ...       ...       ...       ...       ...   \n3175  software+engineer -0.079604  0.007492 -0.051706 -0.099018 -0.030773   \n3176     cyber+security -0.037670  0.031925 -0.013679 -0.005070  0.021368   \n3177              ui+ux -0.025617  0.061029 -0.011124 -0.026316 -0.066101   \n3178       data+analyst -0.060959 -0.039796 -0.022763 -0.039479 -0.041932   \n3179       data+analyst -0.017951 -0.031278 -0.015457  0.017326 -0.034570   \n\n             5         6         7         8  ...       374       375  \\\n0    -0.011505  0.014374  0.070613 -0.072635  ...  0.073042 -0.004869   \n1    -0.085351 -0.020295 -0.026342 -0.046522  ...  0.153783  0.060030   \n2    -0.020879  0.020536  0.049572 -0.068171  ...  0.067979  0.060650   \n3     0.018103  0.136779  0.048689 -0.019846  ... -0.003655  0.047657   \n4    -0.028536 -0.031559  0.013882  0.022090  ...  0.019392  0.086536   \n...        ...       ...       ...       ...  ...       ...       ...   \n3175 -0.024738 -0.015718  0.143318  0.023419  ...  0.076493  0.073352   \n3176  0.001775  0.096207  0.094450 -0.042398  ...  0.044399  0.110647   \n3177 -0.050747 -0.006923  0.085535 -0.037942  ...  0.042129  0.081157   \n3178 -0.040012  0.063920  0.067434  0.023722  ...  0.052077  0.101755   \n3179 -0.012818 -0.020433  0.001288  0.007926  ...  0.030684  0.057024   \n\n           376       377       378       379       380       381       382  \\\n0    -0.012730 -0.012608  0.025585  0.136745  0.038581 -0.099147  0.001722   \n1     0.053321 -0.115148  0.043106  0.170601 -0.040410 -0.039290  0.035469   \n2     0.008373 -0.073202  0.039430  0.084493 -0.058907  0.041129 -0.041035   \n3     0.028251 -0.037878  0.034004  0.074488  0.008779 -0.027154 -0.012630   \n4    -0.006240  0.011584 -0.047290  0.095525 -0.002575 -0.077631 -0.090518   \n...        ...       ...       ...       ...       ...       ...       ...   \n3175  0.047936 -0.024901  0.018558 -0.000389  0.032267 -0.109857  0.065948   \n3176  0.002972 -0.029953  0.052398  0.080780  0.036664 -0.094719 -0.029790   \n3177  0.015721 -0.066116  0.042122  0.063814  0.002575 -0.027617  0.005385   \n3178 -0.004031 -0.010030  0.046817  0.042863 -0.059085 -0.064276 -0.031612   \n3179 -0.009746 -0.048416  0.061078  0.028161 -0.053376 -0.056979 -0.037093   \n\n           383  \n0     0.032735  \n1     0.022973  \n2    -0.106831  \n3     0.000571  \n4     0.043476  \n...        ...  \n3175  0.012895  \n3176 -0.003033  \n3177  0.017316  \n3178 -0.012527  \n3179 -0.006811  \n\n[3180 rows x 385 columns]",
      "text/html": "<div>\n<style scoped>\n    .dataframe tbody tr th:only-of-type {\n        vertical-align: middle;\n    }\n\n    .dataframe tbody tr th {\n        vertical-align: top;\n    }\n\n    .dataframe thead th {\n        text-align: right;\n    }\n</style>\n<table border=\"1\" class=\"dataframe\">\n  <thead>\n    <tr style=\"text-align: right;\">\n      <th></th>\n      <th>category</th>\n      <th>0</th>\n      <th>1</th>\n      <th>2</th>\n      <th>3</th>\n      <th>4</th>\n      <th>5</th>\n      <th>6</th>\n      <th>7</th>\n      <th>8</th>\n      <th>...</th>\n      <th>374</th>\n      <th>375</th>\n      <th>376</th>\n      <th>377</th>\n      <th>378</th>\n      <th>379</th>\n      <th>380</th>\n      <th>381</th>\n      <th>382</th>\n      <th>383</th>\n    </tr>\n  </thead>\n  <tbody>\n    <tr>\n      <th>0</th>\n      <td>software+engineer</td>\n      <td>-0.067028</td>\n      <td>-0.037456</td>\n      <td>0.040710</td>\n      <td>-0.022643</td>\n      <td>-0.065919</td>\n      <td>-0.011505</td>\n      <td>0.014374</td>\n      <td>0.070613</td>\n      <td>-0.072635</td>\n      <td>...</td>\n      <td>0.073042</td>\n      <td>-0.004869</td>\n      <td>-0.012730</td>\n      <td>-0.012608</td>\n      <td>0.025585</td>\n      <td>0.136745</td>\n      <td>0.038581</td>\n      <td>-0.099147</td>\n      <td>0.001722</td>\n      <td>0.032735</td>\n    </tr>\n    <tr>\n      <th>1</th>\n      <td>software+engineer</td>\n      <td>-0.049825</td>\n      <td>-0.026897</td>\n      <td>-0.014653</td>\n      <td>-0.045330</td>\n      <td>-0.002588</td>\n      <td>-0.085351</td>\n      <td>-0.020295</td>\n      <td>-0.026342</td>\n      <td>-0.046522</td>\n      <td>...</td>\n      <td>0.153783</td>\n      <td>0.060030</td>\n      <td>0.053321</td>\n      <td>-0.115148</td>\n      <td>0.043106</td>\n      <td>0.170601</td>\n      <td>-0.040410</td>\n      <td>-0.039290</td>\n      <td>0.035469</td>\n      <td>0.022973</td>\n    </tr>\n    <tr>\n      <th>2</th>\n      <td>software+engineer</td>\n      <td>-0.109452</td>\n      <td>-0.018895</td>\n      <td>-0.011882</td>\n      <td>-0.049141</td>\n      <td>-0.065425</td>\n      <td>-0.020879</td>\n      <td>0.020536</td>\n      <td>0.049572</td>\n      <td>-0.068171</td>\n      <td>...</td>\n      <td>0.067979</td>\n      <td>0.060650</td>\n      <td>0.008373</td>\n      <td>-0.073202</td>\n      <td>0.039430</td>\n      <td>0.084493</td>\n      <td>-0.058907</td>\n      <td>0.041129</td>\n      <td>-0.041035</td>\n      <td>-0.106831</td>\n    </tr>\n    <tr>\n      <th>3</th>\n      <td>ui+ux</td>\n      <td>-0.059268</td>\n      <td>0.002888</td>\n      <td>0.038257</td>\n      <td>0.000755</td>\n      <td>-0.040839</td>\n      <td>0.018103</td>\n      <td>0.136779</td>\n      <td>0.048689</td>\n      <td>-0.019846</td>\n      <td>...</td>\n      <td>-0.003655</td>\n      <td>0.047657</td>\n      <td>0.028251</td>\n      <td>-0.037878</td>\n      <td>0.034004</td>\n      <td>0.074488</td>\n      <td>0.008779</td>\n      <td>-0.027154</td>\n      <td>-0.012630</td>\n      <td>0.000571</td>\n    </tr>\n    <tr>\n      <th>4</th>\n      <td>ui+ux</td>\n      <td>-0.012034</td>\n      <td>0.015511</td>\n      <td>-0.003249</td>\n      <td>-0.078507</td>\n      <td>0.065040</td>\n      <td>-0.028536</td>\n      <td>-0.031559</td>\n      <td>0.013882</td>\n      <td>0.022090</td>\n      <td>...</td>\n      <td>0.019392</td>\n      <td>0.086536</td>\n      <td>-0.006240</td>\n      <td>0.011584</td>\n      <td>-0.047290</td>\n      <td>0.095525</td>\n      <td>-0.002575</td>\n      <td>-0.077631</td>\n      <td>-0.090518</td>\n      <td>0.043476</td>\n    </tr>\n    <tr>\n      <th>...</th>\n      <td>...</td>\n      <td>...</td>\n      <td>...</td>\n      <td>...</td>\n      <td>...</td>\n      <td>...</td>\n      <td>...</td>\n      <td>...</td>\n      <td>...</td>\n      <td>...</td>\n      <td>...</td>\n      <td>...</td>\n      <td>...</td>\n      <td>...</td>\n      <td>...</td>\n      <td>...</td>\n      <td>...</td>\n      <td>...</td>\n      <td>...</td>\n      <td>...</td>\n      <td>...</td>\n    </tr>\n    <tr>\n      <th>3175</th>\n      <td>software+engineer</td>\n      <td>-0.079604</td>\n      <td>0.007492</td>\n      <td>-0.051706</td>\n      <td>-0.099018</td>\n      <td>-0.030773</td>\n      <td>-0.024738</td>\n      <td>-0.015718</td>\n      <td>0.143318</td>\n      <td>0.023419</td>\n      <td>...</td>\n      <td>0.076493</td>\n      <td>0.073352</td>\n      <td>0.047936</td>\n      <td>-0.024901</td>\n      <td>0.018558</td>\n      <td>-0.000389</td>\n      <td>0.032267</td>\n      <td>-0.109857</td>\n      <td>0.065948</td>\n      <td>0.012895</td>\n    </tr>\n    <tr>\n      <th>3176</th>\n      <td>cyber+security</td>\n      <td>-0.037670</td>\n      <td>0.031925</td>\n      <td>-0.013679</td>\n      <td>-0.005070</td>\n      <td>0.021368</td>\n      <td>0.001775</td>\n      <td>0.096207</td>\n      <td>0.094450</td>\n      <td>-0.042398</td>\n      <td>...</td>\n      <td>0.044399</td>\n      <td>0.110647</td>\n      <td>0.002972</td>\n      <td>-0.029953</td>\n      <td>0.052398</td>\n      <td>0.080780</td>\n      <td>0.036664</td>\n      <td>-0.094719</td>\n      <td>-0.029790</td>\n      <td>-0.003033</td>\n    </tr>\n    <tr>\n      <th>3177</th>\n      <td>ui+ux</td>\n      <td>-0.025617</td>\n      <td>0.061029</td>\n      <td>-0.011124</td>\n      <td>-0.026316</td>\n      <td>-0.066101</td>\n      <td>-0.050747</td>\n      <td>-0.006923</td>\n      <td>0.085535</td>\n      <td>-0.037942</td>\n      <td>...</td>\n      <td>0.042129</td>\n      <td>0.081157</td>\n      <td>0.015721</td>\n      <td>-0.066116</td>\n      <td>0.042122</td>\n      <td>0.063814</td>\n      <td>0.002575</td>\n      <td>-0.027617</td>\n      <td>0.005385</td>\n      <td>0.017316</td>\n    </tr>\n    <tr>\n      <th>3178</th>\n      <td>data+analyst</td>\n      <td>-0.060959</td>\n      <td>-0.039796</td>\n      <td>-0.022763</td>\n      <td>-0.039479</td>\n      <td>-0.041932</td>\n      <td>-0.040012</td>\n      <td>0.063920</td>\n      <td>0.067434</td>\n      <td>0.023722</td>\n      <td>...</td>\n      <td>0.052077</td>\n      <td>0.101755</td>\n      <td>-0.004031</td>\n      <td>-0.010030</td>\n      <td>0.046817</td>\n      <td>0.042863</td>\n      <td>-0.059085</td>\n      <td>-0.064276</td>\n      <td>-0.031612</td>\n      <td>-0.012527</td>\n    </tr>\n    <tr>\n      <th>3179</th>\n      <td>data+analyst</td>\n      <td>-0.017951</td>\n      <td>-0.031278</td>\n      <td>-0.015457</td>\n      <td>0.017326</td>\n      <td>-0.034570</td>\n      <td>-0.012818</td>\n      <td>-0.020433</td>\n      <td>0.001288</td>\n      <td>0.007926</td>\n      <td>...</td>\n      <td>0.030684</td>\n      <td>0.057024</td>\n      <td>-0.009746</td>\n      <td>-0.048416</td>\n      <td>0.061078</td>\n      <td>0.028161</td>\n      <td>-0.053376</td>\n      <td>-0.056979</td>\n      <td>-0.037093</td>\n      <td>-0.006811</td>\n    </tr>\n  </tbody>\n</table>\n<p>3180 rows × 385 columns</p>\n</div>"
     },
     "execution_count": 58,
     "metadata": {},
     "output_type": "execute_result"
    }
   ],
   "source": [
    "jd_train"
   ],
   "metadata": {
    "collapsed": false,
    "pycharm": {
     "name": "#%%\n"
    }
   }
  },
  {
   "cell_type": "code",
   "execution_count": 59,
   "outputs": [
    {
     "data": {
      "text/plain": "              category         0         1         2         3         4  \\\n0         data+analyst -0.067792 -0.039427 -0.044609  0.047954 -0.020255   \n1       cyber+security -0.031839 -0.009482 -0.023652 -0.019206  0.044170   \n2    software+engineer  0.000286  0.063366  0.006427 -0.068235  0.004449   \n3                ui+ux -0.057650  0.055610  0.026229 -0.047242 -0.035953   \n4                ui+ux -0.089035 -0.014104 -0.008340 -0.051578  0.020056   \n..                 ...       ...       ...       ...       ...       ...   \n790  software+engineer -0.022442 -0.005181  0.047044  0.003137  0.017104   \n791     cyber+security -0.055603  0.017493 -0.050230  0.006790  0.034947   \n792              ui+ux -0.015606 -0.037002 -0.006399 -0.027400  0.058740   \n793              ui+ux -0.106446 -0.016218  0.035964  0.002867  0.038787   \n794              ui+ux -0.119767 -0.027863  0.033039 -0.004046 -0.002165   \n\n            5         6         7         8  ...       374       375  \\\n0    0.046215  0.005775  0.025648 -0.049265  ... -0.005009  0.040230   \n1   -0.014529  0.033187  0.019848 -0.066667  ...  0.024783  0.006127   \n2   -0.010305  0.060434 -0.016027 -0.025250  ...  0.045451  0.042614   \n3   -0.046720  0.011318  0.081929 -0.048681  ...  0.061916  0.065591   \n4   -0.007032  0.044202  0.059013 -0.116712  ...  0.083643  0.001030   \n..        ...       ...       ...       ...  ...       ...       ...   \n790 -0.020445  0.032614 -0.009681 -0.021284  ...  0.108325  0.032602   \n791 -0.006445  0.067512 -0.005287  0.004463  ...  0.098699  0.018417   \n792  0.011265 -0.012748  0.020038 -0.022678  ... -0.017598  0.006824   \n793 -0.028620 -0.006793  0.039116 -0.063164  ...  0.030134  0.044736   \n794  0.016785  0.023750  0.040013 -0.031279  ... -0.030258  0.015186   \n\n          376       377       378       379       380       381       382  \\\n0   -0.025145  0.057344 -0.027139  0.044581  0.021295 -0.058819 -0.034744   \n1    0.019935 -0.044377  0.023766  0.079525  0.047992 -0.133125 -0.075094   \n2    0.058757 -0.078012  0.074350  0.160043  0.063957 -0.004549 -0.031632   \n3    0.013310 -0.060660  0.049816  0.041116 -0.045918  0.072459  0.037671   \n4    0.027071 -0.058678  0.040474  0.126645  0.022273 -0.124107 -0.037943   \n..        ...       ...       ...       ...       ...       ...       ...   \n790  0.049168 -0.024625 -0.012232  0.204267  0.024259 -0.055909 -0.024037   \n791  0.038070 -0.059501  0.065384  0.033054  0.055798 -0.029429  0.001252   \n792  0.028923  0.071740  0.012084  0.054748  0.011543 -0.043361 -0.041390   \n793  0.027246 -0.002019  0.009813  0.096749  0.042344 -0.058779 -0.027651   \n794 -0.003770 -0.005208  0.043938  0.073137  0.088555 -0.057850 -0.074761   \n\n          383  \n0    0.034043  \n1    0.007815  \n2    0.029312  \n3    0.065580  \n4    0.056573  \n..        ...  \n790  0.020142  \n791 -0.026993  \n792 -0.008505  \n793  0.083697  \n794 -0.016623  \n\n[795 rows x 385 columns]",
      "text/html": "<div>\n<style scoped>\n    .dataframe tbody tr th:only-of-type {\n        vertical-align: middle;\n    }\n\n    .dataframe tbody tr th {\n        vertical-align: top;\n    }\n\n    .dataframe thead th {\n        text-align: right;\n    }\n</style>\n<table border=\"1\" class=\"dataframe\">\n  <thead>\n    <tr style=\"text-align: right;\">\n      <th></th>\n      <th>category</th>\n      <th>0</th>\n      <th>1</th>\n      <th>2</th>\n      <th>3</th>\n      <th>4</th>\n      <th>5</th>\n      <th>6</th>\n      <th>7</th>\n      <th>8</th>\n      <th>...</th>\n      <th>374</th>\n      <th>375</th>\n      <th>376</th>\n      <th>377</th>\n      <th>378</th>\n      <th>379</th>\n      <th>380</th>\n      <th>381</th>\n      <th>382</th>\n      <th>383</th>\n    </tr>\n  </thead>\n  <tbody>\n    <tr>\n      <th>0</th>\n      <td>data+analyst</td>\n      <td>-0.067792</td>\n      <td>-0.039427</td>\n      <td>-0.044609</td>\n      <td>0.047954</td>\n      <td>-0.020255</td>\n      <td>0.046215</td>\n      <td>0.005775</td>\n      <td>0.025648</td>\n      <td>-0.049265</td>\n      <td>...</td>\n      <td>-0.005009</td>\n      <td>0.040230</td>\n      <td>-0.025145</td>\n      <td>0.057344</td>\n      <td>-0.027139</td>\n      <td>0.044581</td>\n      <td>0.021295</td>\n      <td>-0.058819</td>\n      <td>-0.034744</td>\n      <td>0.034043</td>\n    </tr>\n    <tr>\n      <th>1</th>\n      <td>cyber+security</td>\n      <td>-0.031839</td>\n      <td>-0.009482</td>\n      <td>-0.023652</td>\n      <td>-0.019206</td>\n      <td>0.044170</td>\n      <td>-0.014529</td>\n      <td>0.033187</td>\n      <td>0.019848</td>\n      <td>-0.066667</td>\n      <td>...</td>\n      <td>0.024783</td>\n      <td>0.006127</td>\n      <td>0.019935</td>\n      <td>-0.044377</td>\n      <td>0.023766</td>\n      <td>0.079525</td>\n      <td>0.047992</td>\n      <td>-0.133125</td>\n      <td>-0.075094</td>\n      <td>0.007815</td>\n    </tr>\n    <tr>\n      <th>2</th>\n      <td>software+engineer</td>\n      <td>0.000286</td>\n      <td>0.063366</td>\n      <td>0.006427</td>\n      <td>-0.068235</td>\n      <td>0.004449</td>\n      <td>-0.010305</td>\n      <td>0.060434</td>\n      <td>-0.016027</td>\n      <td>-0.025250</td>\n      <td>...</td>\n      <td>0.045451</td>\n      <td>0.042614</td>\n      <td>0.058757</td>\n      <td>-0.078012</td>\n      <td>0.074350</td>\n      <td>0.160043</td>\n      <td>0.063957</td>\n      <td>-0.004549</td>\n      <td>-0.031632</td>\n      <td>0.029312</td>\n    </tr>\n    <tr>\n      <th>3</th>\n      <td>ui+ux</td>\n      <td>-0.057650</td>\n      <td>0.055610</td>\n      <td>0.026229</td>\n      <td>-0.047242</td>\n      <td>-0.035953</td>\n      <td>-0.046720</td>\n      <td>0.011318</td>\n      <td>0.081929</td>\n      <td>-0.048681</td>\n      <td>...</td>\n      <td>0.061916</td>\n      <td>0.065591</td>\n      <td>0.013310</td>\n      <td>-0.060660</td>\n      <td>0.049816</td>\n      <td>0.041116</td>\n      <td>-0.045918</td>\n      <td>0.072459</td>\n      <td>0.037671</td>\n      <td>0.065580</td>\n    </tr>\n    <tr>\n      <th>4</th>\n      <td>ui+ux</td>\n      <td>-0.089035</td>\n      <td>-0.014104</td>\n      <td>-0.008340</td>\n      <td>-0.051578</td>\n      <td>0.020056</td>\n      <td>-0.007032</td>\n      <td>0.044202</td>\n      <td>0.059013</td>\n      <td>-0.116712</td>\n      <td>...</td>\n      <td>0.083643</td>\n      <td>0.001030</td>\n      <td>0.027071</td>\n      <td>-0.058678</td>\n      <td>0.040474</td>\n      <td>0.126645</td>\n      <td>0.022273</td>\n      <td>-0.124107</td>\n      <td>-0.037943</td>\n      <td>0.056573</td>\n    </tr>\n    <tr>\n      <th>...</th>\n      <td>...</td>\n      <td>...</td>\n      <td>...</td>\n      <td>...</td>\n      <td>...</td>\n      <td>...</td>\n      <td>...</td>\n      <td>...</td>\n      <td>...</td>\n      <td>...</td>\n      <td>...</td>\n      <td>...</td>\n      <td>...</td>\n      <td>...</td>\n      <td>...</td>\n      <td>...</td>\n      <td>...</td>\n      <td>...</td>\n      <td>...</td>\n      <td>...</td>\n      <td>...</td>\n    </tr>\n    <tr>\n      <th>790</th>\n      <td>software+engineer</td>\n      <td>-0.022442</td>\n      <td>-0.005181</td>\n      <td>0.047044</td>\n      <td>0.003137</td>\n      <td>0.017104</td>\n      <td>-0.020445</td>\n      <td>0.032614</td>\n      <td>-0.009681</td>\n      <td>-0.021284</td>\n      <td>...</td>\n      <td>0.108325</td>\n      <td>0.032602</td>\n      <td>0.049168</td>\n      <td>-0.024625</td>\n      <td>-0.012232</td>\n      <td>0.204267</td>\n      <td>0.024259</td>\n      <td>-0.055909</td>\n      <td>-0.024037</td>\n      <td>0.020142</td>\n    </tr>\n    <tr>\n      <th>791</th>\n      <td>cyber+security</td>\n      <td>-0.055603</td>\n      <td>0.017493</td>\n      <td>-0.050230</td>\n      <td>0.006790</td>\n      <td>0.034947</td>\n      <td>-0.006445</td>\n      <td>0.067512</td>\n      <td>-0.005287</td>\n      <td>0.004463</td>\n      <td>...</td>\n      <td>0.098699</td>\n      <td>0.018417</td>\n      <td>0.038070</td>\n      <td>-0.059501</td>\n      <td>0.065384</td>\n      <td>0.033054</td>\n      <td>0.055798</td>\n      <td>-0.029429</td>\n      <td>0.001252</td>\n      <td>-0.026993</td>\n    </tr>\n    <tr>\n      <th>792</th>\n      <td>ui+ux</td>\n      <td>-0.015606</td>\n      <td>-0.037002</td>\n      <td>-0.006399</td>\n      <td>-0.027400</td>\n      <td>0.058740</td>\n      <td>0.011265</td>\n      <td>-0.012748</td>\n      <td>0.020038</td>\n      <td>-0.022678</td>\n      <td>...</td>\n      <td>-0.017598</td>\n      <td>0.006824</td>\n      <td>0.028923</td>\n      <td>0.071740</td>\n      <td>0.012084</td>\n      <td>0.054748</td>\n      <td>0.011543</td>\n      <td>-0.043361</td>\n      <td>-0.041390</td>\n      <td>-0.008505</td>\n    </tr>\n    <tr>\n      <th>793</th>\n      <td>ui+ux</td>\n      <td>-0.106446</td>\n      <td>-0.016218</td>\n      <td>0.035964</td>\n      <td>0.002867</td>\n      <td>0.038787</td>\n      <td>-0.028620</td>\n      <td>-0.006793</td>\n      <td>0.039116</td>\n      <td>-0.063164</td>\n      <td>...</td>\n      <td>0.030134</td>\n      <td>0.044736</td>\n      <td>0.027246</td>\n      <td>-0.002019</td>\n      <td>0.009813</td>\n      <td>0.096749</td>\n      <td>0.042344</td>\n      <td>-0.058779</td>\n      <td>-0.027651</td>\n      <td>0.083697</td>\n    </tr>\n    <tr>\n      <th>794</th>\n      <td>ui+ux</td>\n      <td>-0.119767</td>\n      <td>-0.027863</td>\n      <td>0.033039</td>\n      <td>-0.004046</td>\n      <td>-0.002165</td>\n      <td>0.016785</td>\n      <td>0.023750</td>\n      <td>0.040013</td>\n      <td>-0.031279</td>\n      <td>...</td>\n      <td>-0.030258</td>\n      <td>0.015186</td>\n      <td>-0.003770</td>\n      <td>-0.005208</td>\n      <td>0.043938</td>\n      <td>0.073137</td>\n      <td>0.088555</td>\n      <td>-0.057850</td>\n      <td>-0.074761</td>\n      <td>-0.016623</td>\n    </tr>\n  </tbody>\n</table>\n<p>795 rows × 385 columns</p>\n</div>"
     },
     "execution_count": 59,
     "metadata": {},
     "output_type": "execute_result"
    }
   ],
   "source": [
    "jd_test"
   ],
   "metadata": {
    "collapsed": false,
    "pycharm": {
     "name": "#%%\n"
    }
   }
  },
  {
   "cell_type": "markdown",
   "source": [
    "## Splitting Dataset into Features and Target Vectors"
   ],
   "metadata": {
    "collapsed": false,
    "pycharm": {
     "name": "#%% md\n"
    }
   }
  },
  {
   "cell_type": "code",
   "execution_count": 60,
   "outputs": [],
   "source": [
    "jd_train_X = jd_train.iloc[:, 1:]\n",
    "jd_train_y = jd_train[[\"category\"]]\n",
    "\n",
    "jd_test_X = jd_test.iloc[:, 1:]\n",
    "jd_test_y = jd_test[[\"category\"]]"
   ],
   "metadata": {
    "collapsed": false,
    "pycharm": {
     "name": "#%%\n"
    }
   }
  },
  {
   "cell_type": "code",
   "execution_count": 61,
   "outputs": [
    {
     "data": {
      "text/plain": "category         \ncyber+security       212\nsoftware+engineer    211\nui+ux                200\ndata+analyst         172\ndtype: int64"
     },
     "execution_count": 61,
     "metadata": {},
     "output_type": "execute_result"
    }
   ],
   "source": [
    "jd_test_y.value_counts()"
   ],
   "metadata": {
    "collapsed": false,
    "pycharm": {
     "name": "#%%\n"
    }
   }
  },
  {
   "cell_type": "markdown",
   "source": [
    "### Encoding Target Variables"
   ],
   "metadata": {
    "collapsed": false,
    "pycharm": {
     "name": "#%% md\n"
    }
   }
  },
  {
   "cell_type": "code",
   "execution_count": 62,
   "outputs": [],
   "source": [
    "enc = OneHotEncoder(sparse=False)\n",
    "enc.fit(jd_train_y);"
   ],
   "metadata": {
    "collapsed": false,
    "pycharm": {
     "name": "#%%\n"
    }
   }
  },
  {
   "cell_type": "code",
   "execution_count": 63,
   "outputs": [],
   "source": [
    "jd_train_y = enc.transform(jd_train_y)\n",
    "jd_test_y = enc.transform(jd_test_y)"
   ],
   "metadata": {
    "collapsed": false,
    "pycharm": {
     "name": "#%%\n"
    }
   }
  },
  {
   "cell_type": "markdown",
   "source": [
    "### RNN Model creation and training"
   ],
   "metadata": {
    "collapsed": false,
    "pycharm": {
     "name": "#%% md\n"
    }
   }
  },
  {
   "cell_type": "code",
   "execution_count": 64,
   "outputs": [],
   "source": [
    "model = tf.keras.Sequential([\n",
    "    tf.keras.layers.Bidirectional(tf.keras.layers.LSTM(32), input_shape=(384, 1)),\n",
    "    tf.keras.layers.Dense(16, activation='relu'),\n",
    "    tf.keras.layers.Dense(4, activation='softmax')\n",
    "])"
   ],
   "metadata": {
    "collapsed": false,
    "pycharm": {
     "name": "#%%\n"
    }
   }
  },
  {
   "cell_type": "code",
   "execution_count": 65,
   "outputs": [],
   "source": [
    "model.compile(loss=tf.keras.losses.CategoricalCrossentropy(),\n",
    "              optimizer=tf.keras.optimizers.Adam(1e-4),\n",
    "              metrics=['accuracy', tf.keras.metrics.Recall(), tf.keras.metrics.Precision(), tf.keras.metrics.AUC()])"
   ],
   "metadata": {
    "collapsed": false,
    "pycharm": {
     "name": "#%%\n"
    }
   }
  },
  {
   "cell_type": "code",
   "execution_count": 66,
   "outputs": [
    {
     "name": "stdout",
     "output_type": "stream",
     "text": [
      "Epoch 1/50\n"
     ]
    },
    {
     "name": "stderr",
     "output_type": "stream",
     "text": [
      "2023-04-03 23:44:35.774297: I tensorflow/core/grappler/optimizers/custom_graph_optimizer_registry.cc:113] Plugin optimizer for device_type GPU is enabled.\n",
      "2023-04-03 23:44:36.023607: I tensorflow/core/grappler/optimizers/custom_graph_optimizer_registry.cc:113] Plugin optimizer for device_type GPU is enabled.\n",
      "2023-04-03 23:44:36.023633: I tensorflow/core/grappler/optimizers/custom_graph_optimizer_registry.cc:113] Plugin optimizer for device_type GPU is enabled.\n",
      "2023-04-03 23:44:37.399374: I tensorflow/core/grappler/optimizers/custom_graph_optimizer_registry.cc:113] Plugin optimizer for device_type GPU is enabled.\n",
      "2023-04-03 23:44:37.413360: I tensorflow/core/grappler/optimizers/custom_graph_optimizer_registry.cc:113] Plugin optimizer for device_type GPU is enabled.\n"
     ]
    },
    {
     "name": "stdout",
     "output_type": "stream",
     "text": [
      "100/100 [==============================] - ETA: 0s - loss: 1.3853 - accuracy: 0.3255 - recall_4: 0.0000e+00 - precision_4: 0.0000e+00 - auc_4: 0.5177"
     ]
    },
    {
     "name": "stderr",
     "output_type": "stream",
     "text": [
      "2023-04-03 23:45:01.474923: I tensorflow/core/grappler/optimizers/custom_graph_optimizer_registry.cc:113] Plugin optimizer for device_type GPU is enabled.\n",
      "2023-04-03 23:45:01.593524: I tensorflow/core/grappler/optimizers/custom_graph_optimizer_registry.cc:113] Plugin optimizer for device_type GPU is enabled.\n",
      "2023-04-03 23:45:01.593559: I tensorflow/core/grappler/optimizers/custom_graph_optimizer_registry.cc:113] Plugin optimizer for device_type GPU is enabled.\n"
     ]
    },
    {
     "name": "stdout",
     "output_type": "stream",
     "text": [
      "100/100 [==============================] - 34s 278ms/step - loss: 1.3853 - accuracy: 0.3255 - recall_4: 0.0000e+00 - precision_4: 0.0000e+00 - auc_4: 0.5177 - val_loss: 1.3844 - val_accuracy: 0.3597 - val_recall_4: 0.0000e+00 - val_precision_4: 0.0000e+00 - val_auc_4: 0.6065\n",
      "Epoch 2/50\n",
      "100/100 [==============================] - 20s 204ms/step - loss: 1.3842 - accuracy: 0.4025 - recall_4: 0.0000e+00 - precision_4: 0.0000e+00 - auc_4: 0.6017 - val_loss: 1.3832 - val_accuracy: 0.5157 - val_recall_4: 0.0000e+00 - val_precision_4: 0.0000e+00 - val_auc_4: 0.6411\n",
      "Epoch 3/50\n",
      "100/100 [==============================] - 20s 204ms/step - loss: 1.3828 - accuracy: 0.4472 - recall_4: 0.0000e+00 - precision_4: 0.0000e+00 - auc_4: 0.6399 - val_loss: 1.3811 - val_accuracy: 0.4415 - val_recall_4: 0.0000e+00 - val_precision_4: 0.0000e+00 - val_auc_4: 0.6348\n",
      "Epoch 4/50\n",
      "100/100 [==============================] - 21s 208ms/step - loss: 1.3800 - accuracy: 0.4264 - recall_4: 0.0000e+00 - precision_4: 0.0000e+00 - auc_4: 0.6334 - val_loss: 1.3762 - val_accuracy: 0.5371 - val_recall_4: 0.0000e+00 - val_precision_4: 0.0000e+00 - val_auc_4: 0.7147\n",
      "Epoch 5/50\n",
      "100/100 [==============================] - 21s 206ms/step - loss: 1.3678 - accuracy: 0.4940 - recall_4: 0.0000e+00 - precision_4: 0.0000e+00 - auc_4: 0.7125 - val_loss: 1.3430 - val_accuracy: 0.5145 - val_recall_4: 0.0000e+00 - val_precision_4: 0.0000e+00 - val_auc_4: 0.7490\n",
      "Epoch 6/50\n",
      "100/100 [==============================] - 21s 207ms/step - loss: 1.3168 - accuracy: 0.4547 - recall_4: 0.0000e+00 - precision_4: 0.0000e+00 - auc_4: 0.7011 - val_loss: 1.2751 - val_accuracy: 0.5195 - val_recall_4: 0.0000e+00 - val_precision_4: 0.0000e+00 - val_auc_4: 0.7766\n",
      "Epoch 7/50\n",
      "100/100 [==============================] - 21s 207ms/step - loss: 1.2729 - accuracy: 0.4802 - recall_4: 0.0000e+00 - precision_4: 0.0000e+00 - auc_4: 0.7259 - val_loss: 1.2311 - val_accuracy: 0.5283 - val_recall_4: 0.0025 - val_precision_4: 1.0000 - val_auc_4: 0.7757\n",
      "Epoch 8/50\n",
      "100/100 [==============================] - 21s 206ms/step - loss: 1.2261 - accuracy: 0.4833 - recall_4: 0.0204 - precision_4: 0.7303 - auc_4: 0.7405 - val_loss: 1.1824 - val_accuracy: 0.5082 - val_recall_4: 0.0541 - val_precision_4: 0.6324 - val_auc_4: 0.7770\n",
      "Epoch 9/50\n",
      "100/100 [==============================] - 20s 205ms/step - loss: 1.1974 - accuracy: 0.4814 - recall_4: 0.0642 - precision_4: 0.6869 - auc_4: 0.7499 - val_loss: 1.1535 - val_accuracy: 0.4969 - val_recall_4: 0.0830 - val_precision_4: 0.6600 - val_auc_4: 0.7904\n",
      "Epoch 10/50\n",
      "100/100 [==============================] - 21s 207ms/step - loss: 1.1691 - accuracy: 0.5107 - recall_4: 0.0972 - precision_4: 0.7254 - auc_4: 0.7669 - val_loss: 1.1212 - val_accuracy: 0.5208 - val_recall_4: 0.1711 - val_precision_4: 0.6939 - val_auc_4: 0.7914\n",
      "Epoch 11/50\n",
      "100/100 [==============================] - 21s 207ms/step - loss: 1.1516 - accuracy: 0.5192 - recall_4: 0.1481 - precision_4: 0.7336 - auc_4: 0.7700 - val_loss: 1.1090 - val_accuracy: 0.5774 - val_recall_4: 0.1522 - val_precision_4: 0.6994 - val_auc_4: 0.8096\n",
      "Epoch 12/50\n",
      "100/100 [==============================] - 21s 206ms/step - loss: 1.1242 - accuracy: 0.5245 - recall_4: 0.1818 - precision_4: 0.7101 - auc_4: 0.7826 - val_loss: 1.0853 - val_accuracy: 0.5459 - val_recall_4: 0.1761 - val_precision_4: 0.6863 - val_auc_4: 0.8129\n",
      "Epoch 13/50\n",
      "100/100 [==============================] - 21s 207ms/step - loss: 1.1040 - accuracy: 0.5270 - recall_4: 0.2025 - precision_4: 0.7228 - auc_4: 0.7905 - val_loss: 1.0928 - val_accuracy: 0.5270 - val_recall_4: 0.2113 - val_precision_4: 0.6885 - val_auc_4: 0.7909\n",
      "Epoch 14/50\n",
      "100/100 [==============================] - 21s 209ms/step - loss: 1.0854 - accuracy: 0.5340 - recall_4: 0.2371 - precision_4: 0.7356 - auc_4: 0.7974 - val_loss: 1.0503 - val_accuracy: 0.5547 - val_recall_4: 0.2742 - val_precision_4: 0.7291 - val_auc_4: 0.8175\n",
      "Epoch 15/50\n",
      "100/100 [==============================] - 21s 207ms/step - loss: 1.0714 - accuracy: 0.5472 - recall_4: 0.2535 - precision_4: 0.7470 - auc_4: 0.8031 - val_loss: 1.0373 - val_accuracy: 0.5522 - val_recall_4: 0.2830 - val_precision_4: 0.7031 - val_auc_4: 0.8191\n",
      "Epoch 16/50\n",
      "100/100 [==============================] - 21s 207ms/step - loss: 1.0508 - accuracy: 0.5575 - recall_4: 0.2761 - precision_4: 0.7466 - auc_4: 0.8100 - val_loss: 1.0149 - val_accuracy: 0.5711 - val_recall_4: 0.2730 - val_precision_4: 0.7331 - val_auc_4: 0.8274\n",
      "Epoch 17/50\n",
      "100/100 [==============================] - 21s 206ms/step - loss: 1.0403 - accuracy: 0.5629 - recall_4: 0.2808 - precision_4: 0.7504 - auc_4: 0.8129 - val_loss: 0.9995 - val_accuracy: 0.6025 - val_recall_4: 0.2767 - val_precision_4: 0.7285 - val_auc_4: 0.8327\n",
      "Epoch 18/50\n",
      "100/100 [==============================] - 21s 207ms/step - loss: 1.0274 - accuracy: 0.5814 - recall_4: 0.2792 - precision_4: 0.7303 - auc_4: 0.8195 - val_loss: 0.9805 - val_accuracy: 0.5899 - val_recall_4: 0.3358 - val_precision_4: 0.7542 - val_auc_4: 0.8380\n",
      "Epoch 19/50\n",
      "100/100 [==============================] - 21s 208ms/step - loss: 1.0028 - accuracy: 0.5811 - recall_4: 0.3088 - precision_4: 0.7571 - auc_4: 0.8271 - val_loss: 0.9487 - val_accuracy: 0.6214 - val_recall_4: 0.3258 - val_precision_4: 0.7464 - val_auc_4: 0.8491\n",
      "Epoch 20/50\n",
      "100/100 [==============================] - 21s 207ms/step - loss: 0.9838 - accuracy: 0.5931 - recall_4: 0.3321 - precision_4: 0.7619 - auc_4: 0.8331 - val_loss: 0.9355 - val_accuracy: 0.5987 - val_recall_4: 0.3384 - val_precision_4: 0.7620 - val_auc_4: 0.8532\n",
      "Epoch 21/50\n",
      "100/100 [==============================] - 21s 207ms/step - loss: 0.9725 - accuracy: 0.5814 - recall_4: 0.3330 - precision_4: 0.7484 - auc_4: 0.8357 - val_loss: 0.9166 - val_accuracy: 0.6063 - val_recall_4: 0.3686 - val_precision_4: 0.7270 - val_auc_4: 0.8554\n",
      "Epoch 22/50\n",
      "100/100 [==============================] - 21s 209ms/step - loss: 0.9557 - accuracy: 0.5972 - recall_4: 0.3569 - precision_4: 0.7597 - auc_4: 0.8409 - val_loss: 0.9098 - val_accuracy: 0.6063 - val_recall_4: 0.3673 - val_precision_4: 0.7374 - val_auc_4: 0.8575\n",
      "Epoch 23/50\n",
      "100/100 [==============================] - 21s 207ms/step - loss: 0.9434 - accuracy: 0.6013 - recall_4: 0.3506 - precision_4: 0.7559 - auc_4: 0.8442 - val_loss: 0.8862 - val_accuracy: 0.6340 - val_recall_4: 0.3786 - val_precision_4: 0.7488 - val_auc_4: 0.8651\n",
      "Epoch 24/50\n",
      "100/100 [==============================] - 21s 208ms/step - loss: 0.9313 - accuracy: 0.6167 - recall_4: 0.3607 - precision_4: 0.7581 - auc_4: 0.8483 - val_loss: 0.8723 - val_accuracy: 0.6604 - val_recall_4: 0.3761 - val_precision_4: 0.7438 - val_auc_4: 0.8691\n",
      "Epoch 25/50\n",
      "100/100 [==============================] - 22s 219ms/step - loss: 0.9197 - accuracy: 0.6145 - recall_4: 0.3717 - precision_4: 0.7611 - auc_4: 0.8525 - val_loss: 0.8660 - val_accuracy: 0.6553 - val_recall_4: 0.3899 - val_precision_4: 0.7711 - val_auc_4: 0.8707\n",
      "Epoch 26/50\n",
      "100/100 [==============================] - 22s 219ms/step - loss: 0.9078 - accuracy: 0.6223 - recall_4: 0.3855 - precision_4: 0.7489 - auc_4: 0.8550 - val_loss: 0.8694 - val_accuracy: 0.6377 - val_recall_4: 0.3887 - val_precision_4: 0.7764 - val_auc_4: 0.8707\n",
      "Epoch 27/50\n",
      "100/100 [==============================] - 22s 219ms/step - loss: 0.9067 - accuracy: 0.6220 - recall_4: 0.3912 - precision_4: 0.7609 - auc_4: 0.8554 - val_loss: 0.8807 - val_accuracy: 0.6176 - val_recall_4: 0.4063 - val_precision_4: 0.7636 - val_auc_4: 0.8658\n",
      "Epoch 28/50\n",
      "100/100 [==============================] - 22s 218ms/step - loss: 0.9032 - accuracy: 0.6142 - recall_4: 0.3896 - precision_4: 0.7681 - auc_4: 0.8566 - val_loss: 0.8624 - val_accuracy: 0.6189 - val_recall_4: 0.4277 - val_precision_4: 0.7675 - val_auc_4: 0.8705\n",
      "Epoch 29/50\n",
      "100/100 [==============================] - 21s 213ms/step - loss: 0.8970 - accuracy: 0.6179 - recall_4: 0.3984 - precision_4: 0.7712 - auc_4: 0.8583 - val_loss: 0.8517 - val_accuracy: 0.6365 - val_recall_4: 0.4453 - val_precision_4: 0.7532 - val_auc_4: 0.8730\n",
      "Epoch 30/50\n",
      "100/100 [==============================] - 22s 215ms/step - loss: 0.8873 - accuracy: 0.6267 - recall_4: 0.4110 - precision_4: 0.7771 - auc_4: 0.8619 - val_loss: 0.8610 - val_accuracy: 0.6214 - val_recall_4: 0.3950 - val_precision_4: 0.7734 - val_auc_4: 0.8698\n",
      "Epoch 31/50\n",
      "100/100 [==============================] - 21s 212ms/step - loss: 0.8943 - accuracy: 0.6233 - recall_4: 0.4094 - precision_4: 0.7695 - auc_4: 0.8594 - val_loss: 0.8684 - val_accuracy: 0.6126 - val_recall_4: 0.3862 - val_precision_4: 0.7974 - val_auc_4: 0.8696\n",
      "Epoch 32/50\n",
      "100/100 [==============================] - 21s 208ms/step - loss: 0.8976 - accuracy: 0.6160 - recall_4: 0.3921 - precision_4: 0.7769 - auc_4: 0.8585 - val_loss: 0.8413 - val_accuracy: 0.6428 - val_recall_4: 0.4415 - val_precision_4: 0.7817 - val_auc_4: 0.8756\n",
      "Epoch 33/50\n",
      "100/100 [==============================] - 21s 211ms/step - loss: 0.8844 - accuracy: 0.6198 - recall_4: 0.4148 - precision_4: 0.7664 - auc_4: 0.8620 - val_loss: 0.8596 - val_accuracy: 0.6176 - val_recall_4: 0.4088 - val_precision_4: 0.7701 - val_auc_4: 0.8695\n",
      "Epoch 34/50\n",
      "100/100 [==============================] - 21s 207ms/step - loss: 0.8878 - accuracy: 0.6255 - recall_4: 0.4132 - precision_4: 0.7748 - auc_4: 0.8612 - val_loss: 0.8307 - val_accuracy: 0.6478 - val_recall_4: 0.4692 - val_precision_4: 0.7820 - val_auc_4: 0.8787\n",
      "Epoch 35/50\n",
      "100/100 [==============================] - 21s 215ms/step - loss: 0.8779 - accuracy: 0.6223 - recall_4: 0.4145 - precision_4: 0.7762 - auc_4: 0.8641 - val_loss: 0.8509 - val_accuracy: 0.6201 - val_recall_4: 0.4189 - val_precision_4: 0.8005 - val_auc_4: 0.8733\n",
      "Epoch 36/50\n",
      "100/100 [==============================] - 22s 216ms/step - loss: 0.8739 - accuracy: 0.6355 - recall_4: 0.4261 - precision_4: 0.7703 - auc_4: 0.8663 - val_loss: 0.8632 - val_accuracy: 0.6239 - val_recall_4: 0.3975 - val_precision_4: 0.7861 - val_auc_4: 0.8681\n",
      "Epoch 37/50\n",
      "100/100 [==============================] - 21s 209ms/step - loss: 0.8772 - accuracy: 0.6208 - recall_4: 0.4327 - precision_4: 0.7863 - auc_4: 0.8648 - val_loss: 0.8487 - val_accuracy: 0.6289 - val_recall_4: 0.4226 - val_precision_4: 0.7568 - val_auc_4: 0.8733\n",
      "Epoch 38/50\n",
      "100/100 [==============================] - 21s 210ms/step - loss: 0.8623 - accuracy: 0.6302 - recall_4: 0.4503 - precision_4: 0.7753 - auc_4: 0.8692 - val_loss: 0.8153 - val_accuracy: 0.6465 - val_recall_4: 0.4755 - val_precision_4: 0.7859 - val_auc_4: 0.8831\n",
      "Epoch 39/50\n",
      "100/100 [==============================] - 21s 212ms/step - loss: 0.8551 - accuracy: 0.6305 - recall_4: 0.4619 - precision_4: 0.7898 - auc_4: 0.8721 - val_loss: 0.8112 - val_accuracy: 0.6591 - val_recall_4: 0.4642 - val_precision_4: 0.7935 - val_auc_4: 0.8847\n",
      "Epoch 40/50\n",
      "100/100 [==============================] - 22s 218ms/step - loss: 0.8525 - accuracy: 0.6336 - recall_4: 0.4623 - precision_4: 0.7848 - auc_4: 0.8719 - val_loss: 0.8383 - val_accuracy: 0.6289 - val_recall_4: 0.4805 - val_precision_4: 0.7780 - val_auc_4: 0.8753\n",
      "Epoch 41/50\n",
      "100/100 [==============================] - 22s 220ms/step - loss: 0.8550 - accuracy: 0.6236 - recall_4: 0.4560 - precision_4: 0.7919 - auc_4: 0.8715 - val_loss: 0.8092 - val_accuracy: 0.6528 - val_recall_4: 0.4805 - val_precision_4: 0.7796 - val_auc_4: 0.8841\n",
      "Epoch 42/50\n",
      "100/100 [==============================] - 22s 220ms/step - loss: 0.8479 - accuracy: 0.6318 - recall_4: 0.4654 - precision_4: 0.7851 - auc_4: 0.8738 - val_loss: 0.7992 - val_accuracy: 0.6541 - val_recall_4: 0.4893 - val_precision_4: 0.8021 - val_auc_4: 0.8878\n",
      "Epoch 43/50\n",
      "100/100 [==============================] - 22s 216ms/step - loss: 0.8398 - accuracy: 0.6384 - recall_4: 0.4780 - precision_4: 0.7937 - auc_4: 0.8765 - val_loss: 0.8063 - val_accuracy: 0.6453 - val_recall_4: 0.4830 - val_precision_4: 0.8101 - val_auc_4: 0.8871\n",
      "Epoch 44/50\n",
      "100/100 [==============================] - 23s 233ms/step - loss: 0.8369 - accuracy: 0.6368 - recall_4: 0.4789 - precision_4: 0.7794 - auc_4: 0.8770 - val_loss: 0.8110 - val_accuracy: 0.6377 - val_recall_4: 0.4906 - val_precision_4: 0.7647 - val_auc_4: 0.8826\n",
      "Epoch 45/50\n",
      "100/100 [==============================] - 23s 227ms/step - loss: 0.8383 - accuracy: 0.6384 - recall_4: 0.4805 - precision_4: 0.7954 - auc_4: 0.8774 - val_loss: 0.8052 - val_accuracy: 0.6604 - val_recall_4: 0.4981 - val_precision_4: 0.7842 - val_auc_4: 0.8871\n",
      "Epoch 46/50\n",
      "100/100 [==============================] - 22s 224ms/step - loss: 0.8432 - accuracy: 0.6371 - recall_4: 0.4723 - precision_4: 0.7770 - auc_4: 0.8753 - val_loss: 0.8089 - val_accuracy: 0.6528 - val_recall_4: 0.5057 - val_precision_4: 0.7976 - val_auc_4: 0.8860\n",
      "Epoch 47/50\n",
      "100/100 [==============================] - 23s 226ms/step - loss: 0.8360 - accuracy: 0.6384 - recall_4: 0.4796 - precision_4: 0.7849 - auc_4: 0.8775 - val_loss: 0.8232 - val_accuracy: 0.6604 - val_recall_4: 0.4692 - val_precision_4: 0.7820 - val_auc_4: 0.8802\n",
      "Epoch 48/50\n",
      "100/100 [==============================] - 23s 234ms/step - loss: 0.8439 - accuracy: 0.6393 - recall_4: 0.4789 - precision_4: 0.7879 - auc_4: 0.8749 - val_loss: 0.8124 - val_accuracy: 0.6579 - val_recall_4: 0.4717 - val_precision_4: 0.7845 - val_auc_4: 0.8847\n",
      "Epoch 49/50\n",
      "100/100 [==============================] - 23s 228ms/step - loss: 0.8316 - accuracy: 0.6409 - recall_4: 0.4871 - precision_4: 0.7871 - auc_4: 0.8785 - val_loss: 0.8106 - val_accuracy: 0.6579 - val_recall_4: 0.4969 - val_precision_4: 0.7980 - val_auc_4: 0.8845\n",
      "Epoch 50/50\n",
      "100/100 [==============================] - 23s 228ms/step - loss: 0.8273 - accuracy: 0.6305 - recall_4: 0.4855 - precision_4: 0.7822 - auc_4: 0.8798 - val_loss: 0.8022 - val_accuracy: 0.6566 - val_recall_4: 0.4780 - val_precision_4: 0.7787 - val_auc_4: 0.8868\n"
     ]
    }
   ],
   "source": [
    "history = model.fit(jd_train_X, jd_train_y, epochs=50, validation_steps=30, validation_data=(jd_test_X, jd_test_y))"
   ],
   "metadata": {
    "collapsed": false,
    "pycharm": {
     "name": "#%%\n"
    }
   }
  },
  {
   "cell_type": "code",
   "execution_count": 67,
   "outputs": [
    {
     "data": {
      "text/plain": "(0.0, 1.4145883649587632)"
     },
     "execution_count": 67,
     "metadata": {},
     "output_type": "execute_result"
    },
    {
     "data": {
      "text/plain": "<Figure size 1152x576 with 2 Axes>",
      "image/png": "[encoded data removed]"
     },
     "metadata": {
      "needs_background": "light"
     },
     "output_type": "display_data"
    }
   ],
   "source": [
    "plt.figure(figsize=(16, 8))\n",
    "plt.subplot(1, 2, 1)\n",
    "plot_graphs(history, 'accuracy')\n",
    "plt.ylim(None, 1)\n",
    "plt.subplot(1, 2, 2)\n",
    "plot_graphs(history, 'loss')\n",
    "plt.ylim(0, None)"
   ],
   "metadata": {
    "collapsed": false,
    "pycharm": {
     "name": "#%%\n"
    }
   }
  },
  {
   "cell_type": "markdown",
   "source": [
    "### Saving the model"
   ],
   "metadata": {
    "collapsed": false,
    "pycharm": {
     "name": "#%% md\n"
    }
   }
  },
  {
   "cell_type": "code",
   "execution_count": 68,
   "outputs": [],
   "source": [
    "model.save(\"tf_models/rnn_hard_embed.h5\")"
   ],
   "metadata": {
    "collapsed": false,
    "pycharm": {
     "name": "#%%\n"
    }
   }
  },
  {
   "cell_type": "code",
   "execution_count": null,
   "outputs": [],
   "source": [],
   "metadata": {
    "collapsed": false,
    "pycharm": {
     "name": "#%%\n"
    }
   }
  }
 ],
 "metadata": {
  "kernelspec": {
   "display_name": "Python 3",
   "language": "python",
   "name": "python3"
  },
  "language_info": {
   "codemirror_mode": {
    "name": "ipython",
    "version": 3
   },
   "file_extension": ".py",
   "mimetype": "text/x-python",
   "name": "python",
   "nbconvert_exporter": "python",
   "pygments_lexer": "ipython3",
   "version": "3.10.8"
  },
  "orig_nbformat": 4
 },
 "nbformat": 4,
 "nbformat_minor": 2
}