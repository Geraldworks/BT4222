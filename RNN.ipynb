{
 "cells": [
  {
   "cell_type": "code",
   "execution_count": 16,
   "metadata": {
    "pycharm": {
     "name": "#%%\n"
    }
   },
   "outputs": [],
   "source": [
    "import tensorflow as tf\n",
    "import pandas as pd\n",
    "import matplotlib.pyplot as plt\n",
    "\n",
    "from bs4 import BeautifulSoup\n",
    "from sentence_transformers import SentenceTransformer\n",
    "from sklearn.preprocessing import OneHotEncoder"
   ]
  },
  {
   "cell_type": "code",
   "execution_count": 2,
   "metadata": {
    "pycharm": {
     "name": "#%%\n"
    }
   },
   "outputs": [],
   "source": [
    "is_working_with_easy_dataset = True"
   ]
  },
  {
   "cell_type": "code",
   "execution_count": 17,
   "metadata": {
    "pycharm": {
     "name": "#%%\n"
    }
   },
   "outputs": [],
   "source": [
    "def get_text(html_text):\n",
    "    soup = BeautifulSoup(html_text)\n",
    "    return soup.get_text()\n",
    "\n",
    "def embed(model, txt):\n",
    "    txt = [txt]\n",
    "    embeddings = model.encode(txt)\n",
    "    for sentence, embedding in zip(txt, embeddings):\n",
    "        return embedding\n",
    "\n",
    "def plot_graphs(history, metric):\n",
    "    plt.plot(history.history[metric])\n",
    "    plt.plot(history.history['val_'+metric], '')\n",
    "    plt.xlabel(\"Epochs\")\n",
    "    plt.ylabel(metric)\n",
    "    plt.legend([metric, 'val_'+metric])"
   ]
  },
  {
   "cell_type": "markdown",
   "source": [
    "## Loading in Dataset for Vectorization"
   ],
   "metadata": {
    "collapsed": false,
    "pycharm": {
     "name": "#%% md\n"
    }
   }
  },
  {
   "cell_type": "code",
   "execution_count": 120,
   "metadata": {
    "pycharm": {
     "name": "#%%\n"
    }
   },
   "outputs": [],
   "source": [
    "if is_working_with_easy_dataset:\n",
    "    input_train_filename = \"jd_easy_train.csv\"\n",
    "    input_test_filename = \"jd_easy_test.csv\"\n",
    "else:\n",
    "    input_train_filename = \"jd_difficult_train.csv\"\n",
    "    input_test_filename = \"jd_difficult_test.csv\"\n",
    "\n",
    "jd_train = pd.read_csv(input_train_filename, keep_default_na=False)\n",
    "jd_test = pd.read_csv(input_test_filename, keep_default_na=False)"
   ]
  },
  {
   "cell_type": "code",
   "execution_count": 121,
   "metadata": {
    "pycharm": {
     "name": "#%%\n"
    }
   },
   "outputs": [],
   "source": [
    "model = SentenceTransformer('all-MiniLM-L6-v2')"
   ]
  },
  {
   "cell_type": "code",
   "execution_count": 122,
   "metadata": {
    "pycharm": {
     "name": "#%%\n"
    }
   },
   "outputs": [
    {
     "data": {
      "text/plain": "               category         0         1         2         3         4  \\\n0     software+engineer -0.007818  0.015209 -0.032915 -0.040774 -0.075819   \n1                  arts -0.039281 -0.037813 -0.002049 -0.079996 -0.009300   \n2                    hr -0.099071  0.067754 -0.018720  0.065808 -0.019722   \n3                  arts -0.000244 -0.010329  0.005088  0.019951  0.031961   \n4                  arts  0.037742 -0.058576  0.017413 -0.007462 -0.010717   \n...                 ...       ...       ...       ...       ...       ...   \n3177  software+engineer -0.092087  0.031149 -0.008015 -0.022320 -0.046425   \n3178              sales -0.078644  0.031273  0.041027 -0.058212 -0.068799   \n3179               arts -0.101251  0.041866 -0.005444 -0.011291 -0.032258   \n3180                 hr -0.051157  0.022184  0.029747  0.018414 -0.007712   \n3181                 hr -0.037771  0.040630 -0.033029  0.056949 -0.050621   \n\n             5         6         7         8  ...       374       375  \\\n0    -0.122257  0.003905  0.105021 -0.081435  ...  0.036517  0.067738   \n1     0.014721  0.028362 -0.028484 -0.047296  ...  0.061370  0.030016   \n2    -0.006825 -0.010283  0.001540 -0.087364  ...  0.081999  0.114448   \n3    -0.004796 -0.056017  0.008362 -0.058531  ...  0.018572  0.015595   \n4    -0.022504 -0.016252  0.022974 -0.052209  ...  0.015944  0.056351   \n...        ...       ...       ...       ...  ...       ...       ...   \n3177 -0.083988  0.008692  0.036745 -0.129390  ...  0.008609  0.064561   \n3178  0.024472  0.047536  0.047297 -0.061370  ... -0.022879  0.019196   \n3179 -0.016939  0.026778  0.046210 -0.083376  ...  0.004621  0.021080   \n3180 -0.003600  0.016207  0.049001 -0.018576  ...  0.000053  0.008966   \n3181 -0.047433 -0.007329  0.009315 -0.052792  ...  0.005489  0.047084   \n\n           376       377       378       379       380       381       382  \\\n0     0.017234 -0.021146 -0.005016  0.052575  0.016892  0.011725  0.031423   \n1    -0.020944  0.025066 -0.054447  0.042434 -0.016480 -0.065129 -0.121761   \n2     0.022363 -0.051149  0.002981  0.086356  0.092362 -0.042364 -0.033669   \n3     0.026521  0.006298 -0.024210  0.076719 -0.001265 -0.029895 -0.037964   \n4     0.060758  0.049852 -0.018264  0.075948  0.001910 -0.011242 -0.045209   \n...        ...       ...       ...       ...       ...       ...       ...   \n3177 -0.016291 -0.005272 -0.021538  0.051470  0.078117 -0.018555 -0.036695   \n3178  0.019246 -0.004855  0.016442  0.089635  0.074209 -0.086454 -0.098238   \n3179  0.026186  0.022296 -0.041951  0.082195  0.048774 -0.097376 -0.085289   \n3180 -0.015656 -0.005649 -0.080121  0.053882  0.070258 -0.079552 -0.019765   \n3181  0.037522 -0.024134 -0.032097  0.051435  0.104937 -0.089167 -0.052026   \n\n           383  \n0     0.008097  \n1     0.036031  \n2     0.060429  \n3     0.052187  \n4     0.029765  \n...        ...  \n3177 -0.013603  \n3178  0.072741  \n3179  0.013674  \n3180  0.002172  \n3181  0.026151  \n\n[3182 rows x 385 columns]",
      "text/html": "<div>\n<style scoped>\n    .dataframe tbody tr th:only-of-type {\n        vertical-align: middle;\n    }\n\n    .dataframe tbody tr th {\n        vertical-align: top;\n    }\n\n    .dataframe thead th {\n        text-align: right;\n    }\n</style>\n<table border=\"1\" class=\"dataframe\">\n  <thead>\n    <tr style=\"text-align: right;\">\n      <th></th>\n      <th>category</th>\n      <th>0</th>\n      <th>1</th>\n      <th>2</th>\n      <th>3</th>\n      <th>4</th>\n      <th>5</th>\n      <th>6</th>\n      <th>7</th>\n      <th>8</th>\n      <th>...</th>\n      <th>374</th>\n      <th>375</th>\n      <th>376</th>\n      <th>377</th>\n      <th>378</th>\n      <th>379</th>\n      <th>380</th>\n      <th>381</th>\n      <th>382</th>\n      <th>383</th>\n    </tr>\n  </thead>\n  <tbody>\n    <tr>\n      <th>0</th>\n      <td>software+engineer</td>\n      <td>-0.007818</td>\n      <td>0.015209</td>\n      <td>-0.032915</td>\n      <td>-0.040774</td>\n      <td>-0.075819</td>\n      <td>-0.122257</td>\n      <td>0.003905</td>\n      <td>0.105021</td>\n      <td>-0.081435</td>\n      <td>...</td>\n      <td>0.036517</td>\n      <td>0.067738</td>\n      <td>0.017234</td>\n      <td>-0.021146</td>\n      <td>-0.005016</td>\n      <td>0.052575</td>\n      <td>0.016892</td>\n      <td>0.011725</td>\n      <td>0.031423</td>\n      <td>0.008097</td>\n    </tr>\n    <tr>\n      <th>1</th>\n      <td>arts</td>\n      <td>-0.039281</td>\n      <td>-0.037813</td>\n      <td>-0.002049</td>\n      <td>-0.079996</td>\n      <td>-0.009300</td>\n      <td>0.014721</td>\n      <td>0.028362</td>\n      <td>-0.028484</td>\n      <td>-0.047296</td>\n      <td>...</td>\n      <td>0.061370</td>\n      <td>0.030016</td>\n      <td>-0.020944</td>\n      <td>0.025066</td>\n      <td>-0.054447</td>\n      <td>0.042434</td>\n      <td>-0.016480</td>\n      <td>-0.065129</td>\n      <td>-0.121761</td>\n      <td>0.036031</td>\n    </tr>\n    <tr>\n      <th>2</th>\n      <td>hr</td>\n      <td>-0.099071</td>\n      <td>0.067754</td>\n      <td>-0.018720</td>\n      <td>0.065808</td>\n      <td>-0.019722</td>\n      <td>-0.006825</td>\n      <td>-0.010283</td>\n      <td>0.001540</td>\n      <td>-0.087364</td>\n      <td>...</td>\n      <td>0.081999</td>\n      <td>0.114448</td>\n      <td>0.022363</td>\n      <td>-0.051149</td>\n      <td>0.002981</td>\n      <td>0.086356</td>\n      <td>0.092362</td>\n      <td>-0.042364</td>\n      <td>-0.033669</td>\n      <td>0.060429</td>\n    </tr>\n    <tr>\n      <th>3</th>\n      <td>arts</td>\n      <td>-0.000244</td>\n      <td>-0.010329</td>\n      <td>0.005088</td>\n      <td>0.019951</td>\n      <td>0.031961</td>\n      <td>-0.004796</td>\n      <td>-0.056017</td>\n      <td>0.008362</td>\n      <td>-0.058531</td>\n      <td>...</td>\n      <td>0.018572</td>\n      <td>0.015595</td>\n      <td>0.026521</td>\n      <td>0.006298</td>\n      <td>-0.024210</td>\n      <td>0.076719</td>\n      <td>-0.001265</td>\n      <td>-0.029895</td>\n      <td>-0.037964</td>\n      <td>0.052187</td>\n    </tr>\n    <tr>\n      <th>4</th>\n      <td>arts</td>\n      <td>0.037742</td>\n      <td>-0.058576</td>\n      <td>0.017413</td>\n      <td>-0.007462</td>\n      <td>-0.010717</td>\n      <td>-0.022504</td>\n      <td>-0.016252</td>\n      <td>0.022974</td>\n      <td>-0.052209</td>\n      <td>...</td>\n      <td>0.015944</td>\n      <td>0.056351</td>\n      <td>0.060758</td>\n      <td>0.049852</td>\n      <td>-0.018264</td>\n      <td>0.075948</td>\n      <td>0.001910</td>\n      <td>-0.011242</td>\n      <td>-0.045209</td>\n      <td>0.029765</td>\n    </tr>\n    <tr>\n      <th>...</th>\n      <td>...</td>\n      <td>...</td>\n      <td>...</td>\n      <td>...</td>\n      <td>...</td>\n      <td>...</td>\n      <td>...</td>\n      <td>...</td>\n      <td>...</td>\n      <td>...</td>\n      <td>...</td>\n      <td>...</td>\n      <td>...</td>\n      <td>...</td>\n      <td>...</td>\n      <td>...</td>\n      <td>...</td>\n      <td>...</td>\n      <td>...</td>\n      <td>...</td>\n      <td>...</td>\n    </tr>\n    <tr>\n      <th>3177</th>\n      <td>software+engineer</td>\n      <td>-0.092087</td>\n      <td>0.031149</td>\n      <td>-0.008015</td>\n      <td>-0.022320</td>\n      <td>-0.046425</td>\n      <td>-0.083988</td>\n      <td>0.008692</td>\n      <td>0.036745</td>\n      <td>-0.129390</td>\n      <td>...</td>\n      <td>0.008609</td>\n      <td>0.064561</td>\n      <td>-0.016291</td>\n      <td>-0.005272</td>\n      <td>-0.021538</td>\n      <td>0.051470</td>\n      <td>0.078117</td>\n      <td>-0.018555</td>\n      <td>-0.036695</td>\n      <td>-0.013603</td>\n    </tr>\n    <tr>\n      <th>3178</th>\n      <td>sales</td>\n      <td>-0.078644</td>\n      <td>0.031273</td>\n      <td>0.041027</td>\n      <td>-0.058212</td>\n      <td>-0.068799</td>\n      <td>0.024472</td>\n      <td>0.047536</td>\n      <td>0.047297</td>\n      <td>-0.061370</td>\n      <td>...</td>\n      <td>-0.022879</td>\n      <td>0.019196</td>\n      <td>0.019246</td>\n      <td>-0.004855</td>\n      <td>0.016442</td>\n      <td>0.089635</td>\n      <td>0.074209</td>\n      <td>-0.086454</td>\n      <td>-0.098238</td>\n      <td>0.072741</td>\n    </tr>\n    <tr>\n      <th>3179</th>\n      <td>arts</td>\n      <td>-0.101251</td>\n      <td>0.041866</td>\n      <td>-0.005444</td>\n      <td>-0.011291</td>\n      <td>-0.032258</td>\n      <td>-0.016939</td>\n      <td>0.026778</td>\n      <td>0.046210</td>\n      <td>-0.083376</td>\n      <td>...</td>\n      <td>0.004621</td>\n      <td>0.021080</td>\n      <td>0.026186</td>\n      <td>0.022296</td>\n      <td>-0.041951</td>\n      <td>0.082195</td>\n      <td>0.048774</td>\n      <td>-0.097376</td>\n      <td>-0.085289</td>\n      <td>0.013674</td>\n    </tr>\n    <tr>\n      <th>3180</th>\n      <td>hr</td>\n      <td>-0.051157</td>\n      <td>0.022184</td>\n      <td>0.029747</td>\n      <td>0.018414</td>\n      <td>-0.007712</td>\n      <td>-0.003600</td>\n      <td>0.016207</td>\n      <td>0.049001</td>\n      <td>-0.018576</td>\n      <td>...</td>\n      <td>0.000053</td>\n      <td>0.008966</td>\n      <td>-0.015656</td>\n      <td>-0.005649</td>\n      <td>-0.080121</td>\n      <td>0.053882</td>\n      <td>0.070258</td>\n      <td>-0.079552</td>\n      <td>-0.019765</td>\n      <td>0.002172</td>\n    </tr>\n    <tr>\n      <th>3181</th>\n      <td>hr</td>\n      <td>-0.037771</td>\n      <td>0.040630</td>\n      <td>-0.033029</td>\n      <td>0.056949</td>\n      <td>-0.050621</td>\n      <td>-0.047433</td>\n      <td>-0.007329</td>\n      <td>0.009315</td>\n      <td>-0.052792</td>\n      <td>...</td>\n      <td>0.005489</td>\n      <td>0.047084</td>\n      <td>0.037522</td>\n      <td>-0.024134</td>\n      <td>-0.032097</td>\n      <td>0.051435</td>\n      <td>0.104937</td>\n      <td>-0.089167</td>\n      <td>-0.052026</td>\n      <td>0.026151</td>\n    </tr>\n  </tbody>\n</table>\n<p>3182 rows × 385 columns</p>\n</div>"
     },
     "execution_count": 122,
     "metadata": {},
     "output_type": "execute_result"
    }
   ],
   "source": [
    "embedding_vectors_train = list(\n",
    "    pd.Series.tolist(jd_train.description.apply(lambda x: embed(model, get_text(x)))))\n",
    "embedding_train = pd.concat(\n",
    "    [jd_train.category, pd.DataFrame(embedding_vectors_train)], axis=1)\n",
    "embedding_train"
   ]
  },
  {
   "cell_type": "code",
   "execution_count": 123,
   "metadata": {
    "pycharm": {
     "name": "#%%\n"
    }
   },
   "outputs": [
    {
     "data": {
      "text/plain": "              category         0         1         2         3         4  \\\n0    software+engineer -0.113818  0.008952 -0.004451  0.003387  0.041243   \n1                sales -0.019982 -0.019572 -0.043766  0.038807 -0.021798   \n2                sales -0.061115  0.037327 -0.035323  0.007244 -0.014231   \n3                sales -0.110860  0.012782 -0.030584 -0.077872 -0.102458   \n4                 arts -0.044880  0.017243  0.052809 -0.012010  0.038006   \n..                 ...       ...       ...       ...       ...       ...   \n791  software+engineer -0.131392 -0.029033 -0.082744 -0.039305 -0.028481   \n792  software+engineer -0.043274 -0.032123  0.041134 -0.017565  0.032743   \n793  software+engineer -0.006800 -0.087576 -0.029101 -0.043830 -0.068833   \n794                 hr -0.128770  0.043694 -0.002058  0.047944 -0.053523   \n795                 hr -0.079189  0.014116 -0.021597  0.034801 -0.050730   \n\n            5         6         7         8  ...       374       375  \\\n0   -0.074476  0.027237  0.074545 -0.080968  ...  0.016368  0.115178   \n1   -0.003498 -0.008579 -0.007094  0.017747  ...  0.023369 -0.032173   \n2    0.054096  0.095702  0.017702 -0.064049  ...  0.024937  0.007117   \n3    0.048481  0.027282  0.055432 -0.007119  ... -0.057282  0.060048   \n4   -0.025841  0.002447  0.005194 -0.023129  ...  0.014638  0.062186   \n..        ...       ...       ...       ...  ...       ...       ...   \n791 -0.063193 -0.057688  0.128488 -0.072210  ... -0.023796  0.086397   \n792 -0.072493  0.013035 -0.040865  0.005068  ...  0.003571  0.061880   \n793 -0.016611  0.032965  0.086794 -0.112048  ...  0.093700  0.060009   \n794  0.042907  0.058572 -0.007716 -0.058442  ... -0.018871  0.036778   \n795 -0.014727 -0.056692 -0.020434 -0.031112  ...  0.056226  0.025051   \n\n          376       377       378       379       380       381       382  \\\n0    0.065218 -0.074784  0.057262  0.082102  0.059299 -0.031293  0.007032   \n1   -0.008954 -0.028408 -0.041258 -0.016728  0.078255 -0.043575  0.043920   \n2    0.029717  0.036748 -0.017619  0.084793  0.017758 -0.004776 -0.067190   \n3    0.012040  0.056503 -0.008248  0.102686 -0.004278 -0.015446 -0.055078   \n4    0.076078 -0.041519 -0.023763  0.048595  0.060352 -0.011345 -0.059987   \n..        ...       ...       ...       ...       ...       ...       ...   \n791 -0.071659 -0.031082 -0.003570  0.047519  0.033251 -0.166673 -0.007538   \n792  0.018539 -0.087545  0.026615  0.099625  0.018813 -0.029922  0.014897   \n793 -0.031102  0.073509  0.054705  0.061826  0.028178 -0.001595 -0.046012   \n794 -0.042918 -0.002689 -0.052095  0.123027  0.064848 -0.024640  0.003905   \n795  0.044193 -0.059260 -0.099940  0.062814  0.032975 -0.039858  0.017513   \n\n          383  \n0    0.071702  \n1   -0.008786  \n2    0.031323  \n3    0.049244  \n4    0.039882  \n..        ...  \n791 -0.031994  \n792 -0.003446  \n793 -0.033700  \n794  0.014744  \n795 -0.004559  \n\n[796 rows x 385 columns]",
      "text/html": "<div>\n<style scoped>\n    .dataframe tbody tr th:only-of-type {\n        vertical-align: middle;\n    }\n\n    .dataframe tbody tr th {\n        vertical-align: top;\n    }\n\n    .dataframe thead th {\n        text-align: right;\n    }\n</style>\n<table border=\"1\" class=\"dataframe\">\n  <thead>\n    <tr style=\"text-align: right;\">\n      <th></th>\n      <th>category</th>\n      <th>0</th>\n      <th>1</th>\n      <th>2</th>\n      <th>3</th>\n      <th>4</th>\n      <th>5</th>\n      <th>6</th>\n      <th>7</th>\n      <th>8</th>\n      <th>...</th>\n      <th>374</th>\n      <th>375</th>\n      <th>376</th>\n      <th>377</th>\n      <th>378</th>\n      <th>379</th>\n      <th>380</th>\n      <th>381</th>\n      <th>382</th>\n      <th>383</th>\n    </tr>\n  </thead>\n  <tbody>\n    <tr>\n      <th>0</th>\n      <td>software+engineer</td>\n      <td>-0.113818</td>\n      <td>0.008952</td>\n      <td>-0.004451</td>\n      <td>0.003387</td>\n      <td>0.041243</td>\n      <td>-0.074476</td>\n      <td>0.027237</td>\n      <td>0.074545</td>\n      <td>-0.080968</td>\n      <td>...</td>\n      <td>0.016368</td>\n      <td>0.115178</td>\n      <td>0.065218</td>\n      <td>-0.074784</td>\n      <td>0.057262</td>\n      <td>0.082102</td>\n      <td>0.059299</td>\n      <td>-0.031293</td>\n      <td>0.007032</td>\n      <td>0.071702</td>\n    </tr>\n    <tr>\n      <th>1</th>\n      <td>sales</td>\n      <td>-0.019982</td>\n      <td>-0.019572</td>\n      <td>-0.043766</td>\n      <td>0.038807</td>\n      <td>-0.021798</td>\n      <td>-0.003498</td>\n      <td>-0.008579</td>\n      <td>-0.007094</td>\n      <td>0.017747</td>\n      <td>...</td>\n      <td>0.023369</td>\n      <td>-0.032173</td>\n      <td>-0.008954</td>\n      <td>-0.028408</td>\n      <td>-0.041258</td>\n      <td>-0.016728</td>\n      <td>0.078255</td>\n      <td>-0.043575</td>\n      <td>0.043920</td>\n      <td>-0.008786</td>\n    </tr>\n    <tr>\n      <th>2</th>\n      <td>sales</td>\n      <td>-0.061115</td>\n      <td>0.037327</td>\n      <td>-0.035323</td>\n      <td>0.007244</td>\n      <td>-0.014231</td>\n      <td>0.054096</td>\n      <td>0.095702</td>\n      <td>0.017702</td>\n      <td>-0.064049</td>\n      <td>...</td>\n      <td>0.024937</td>\n      <td>0.007117</td>\n      <td>0.029717</td>\n      <td>0.036748</td>\n      <td>-0.017619</td>\n      <td>0.084793</td>\n      <td>0.017758</td>\n      <td>-0.004776</td>\n      <td>-0.067190</td>\n      <td>0.031323</td>\n    </tr>\n    <tr>\n      <th>3</th>\n      <td>sales</td>\n      <td>-0.110860</td>\n      <td>0.012782</td>\n      <td>-0.030584</td>\n      <td>-0.077872</td>\n      <td>-0.102458</td>\n      <td>0.048481</td>\n      <td>0.027282</td>\n      <td>0.055432</td>\n      <td>-0.007119</td>\n      <td>...</td>\n      <td>-0.057282</td>\n      <td>0.060048</td>\n      <td>0.012040</td>\n      <td>0.056503</td>\n      <td>-0.008248</td>\n      <td>0.102686</td>\n      <td>-0.004278</td>\n      <td>-0.015446</td>\n      <td>-0.055078</td>\n      <td>0.049244</td>\n    </tr>\n    <tr>\n      <th>4</th>\n      <td>arts</td>\n      <td>-0.044880</td>\n      <td>0.017243</td>\n      <td>0.052809</td>\n      <td>-0.012010</td>\n      <td>0.038006</td>\n      <td>-0.025841</td>\n      <td>0.002447</td>\n      <td>0.005194</td>\n      <td>-0.023129</td>\n      <td>...</td>\n      <td>0.014638</td>\n      <td>0.062186</td>\n      <td>0.076078</td>\n      <td>-0.041519</td>\n      <td>-0.023763</td>\n      <td>0.048595</td>\n      <td>0.060352</td>\n      <td>-0.011345</td>\n      <td>-0.059987</td>\n      <td>0.039882</td>\n    </tr>\n    <tr>\n      <th>...</th>\n      <td>...</td>\n      <td>...</td>\n      <td>...</td>\n      <td>...</td>\n      <td>...</td>\n      <td>...</td>\n      <td>...</td>\n      <td>...</td>\n      <td>...</td>\n      <td>...</td>\n      <td>...</td>\n      <td>...</td>\n      <td>...</td>\n      <td>...</td>\n      <td>...</td>\n      <td>...</td>\n      <td>...</td>\n      <td>...</td>\n      <td>...</td>\n      <td>...</td>\n      <td>...</td>\n    </tr>\n    <tr>\n      <th>791</th>\n      <td>software+engineer</td>\n      <td>-0.131392</td>\n      <td>-0.029033</td>\n      <td>-0.082744</td>\n      <td>-0.039305</td>\n      <td>-0.028481</td>\n      <td>-0.063193</td>\n      <td>-0.057688</td>\n      <td>0.128488</td>\n      <td>-0.072210</td>\n      <td>...</td>\n      <td>-0.023796</td>\n      <td>0.086397</td>\n      <td>-0.071659</td>\n      <td>-0.031082</td>\n      <td>-0.003570</td>\n      <td>0.047519</td>\n      <td>0.033251</td>\n      <td>-0.166673</td>\n      <td>-0.007538</td>\n      <td>-0.031994</td>\n    </tr>\n    <tr>\n      <th>792</th>\n      <td>software+engineer</td>\n      <td>-0.043274</td>\n      <td>-0.032123</td>\n      <td>0.041134</td>\n      <td>-0.017565</td>\n      <td>0.032743</td>\n      <td>-0.072493</td>\n      <td>0.013035</td>\n      <td>-0.040865</td>\n      <td>0.005068</td>\n      <td>...</td>\n      <td>0.003571</td>\n      <td>0.061880</td>\n      <td>0.018539</td>\n      <td>-0.087545</td>\n      <td>0.026615</td>\n      <td>0.099625</td>\n      <td>0.018813</td>\n      <td>-0.029922</td>\n      <td>0.014897</td>\n      <td>-0.003446</td>\n    </tr>\n    <tr>\n      <th>793</th>\n      <td>software+engineer</td>\n      <td>-0.006800</td>\n      <td>-0.087576</td>\n      <td>-0.029101</td>\n      <td>-0.043830</td>\n      <td>-0.068833</td>\n      <td>-0.016611</td>\n      <td>0.032965</td>\n      <td>0.086794</td>\n      <td>-0.112048</td>\n      <td>...</td>\n      <td>0.093700</td>\n      <td>0.060009</td>\n      <td>-0.031102</td>\n      <td>0.073509</td>\n      <td>0.054705</td>\n      <td>0.061826</td>\n      <td>0.028178</td>\n      <td>-0.001595</td>\n      <td>-0.046012</td>\n      <td>-0.033700</td>\n    </tr>\n    <tr>\n      <th>794</th>\n      <td>hr</td>\n      <td>-0.128770</td>\n      <td>0.043694</td>\n      <td>-0.002058</td>\n      <td>0.047944</td>\n      <td>-0.053523</td>\n      <td>0.042907</td>\n      <td>0.058572</td>\n      <td>-0.007716</td>\n      <td>-0.058442</td>\n      <td>...</td>\n      <td>-0.018871</td>\n      <td>0.036778</td>\n      <td>-0.042918</td>\n      <td>-0.002689</td>\n      <td>-0.052095</td>\n      <td>0.123027</td>\n      <td>0.064848</td>\n      <td>-0.024640</td>\n      <td>0.003905</td>\n      <td>0.014744</td>\n    </tr>\n    <tr>\n      <th>795</th>\n      <td>hr</td>\n      <td>-0.079189</td>\n      <td>0.014116</td>\n      <td>-0.021597</td>\n      <td>0.034801</td>\n      <td>-0.050730</td>\n      <td>-0.014727</td>\n      <td>-0.056692</td>\n      <td>-0.020434</td>\n      <td>-0.031112</td>\n      <td>...</td>\n      <td>0.056226</td>\n      <td>0.025051</td>\n      <td>0.044193</td>\n      <td>-0.059260</td>\n      <td>-0.099940</td>\n      <td>0.062814</td>\n      <td>0.032975</td>\n      <td>-0.039858</td>\n      <td>0.017513</td>\n      <td>-0.004559</td>\n    </tr>\n  </tbody>\n</table>\n<p>796 rows × 385 columns</p>\n</div>"
     },
     "execution_count": 123,
     "metadata": {},
     "output_type": "execute_result"
    }
   ],
   "source": [
    "embedding_vectors_test = list(\n",
    "    pd.Series.tolist(jd_test.description.apply(lambda x: embed(model, get_text(x)))))\n",
    "embedding_test = pd.concat(\n",
    "    [jd_test.category, pd.DataFrame(embedding_vectors_test)], axis=1)\n",
    "embedding_test"
   ]
  },
  {
   "cell_type": "code",
   "execution_count": 124,
   "metadata": {
    "pycharm": {
     "name": "#%%\n"
    }
   },
   "outputs": [],
   "source": [
    "if is_working_with_easy_dataset:\n",
    "    output_train_filename = \"embedding_easy_train.csv\"\n",
    "    output_test_filename = \"embedding_easy_test.csv\"\n",
    "else:\n",
    "    output_train_filename = \"embedding_difficult_train.csv\"\n",
    "    output_test_filename = \"embedding_difficult_test.csv\"\n",
    "\n",
    "embedding_train.to_csv(output_train_filename, index=False)\n",
    "embedding_test.to_csv(output_test_filename, index=False)"
   ]
  },
  {
   "cell_type": "markdown",
   "source": [
    "## Start of RNN building\n",
    "\n",
    "We will first create an RNN model on the easy dataset, analyse the results, and then create the RNN model on the hard dataset"
   ],
   "metadata": {
    "collapsed": false,
    "pycharm": {
     "name": "#%% md\n"
    }
   }
  },
  {
   "cell_type": "markdown",
   "source": [
    "### Easy Dataset (Distinct Job Categories)"
   ],
   "metadata": {
    "collapsed": false,
    "pycharm": {
     "name": "#%% md\n"
    }
   }
  },
  {
   "cell_type": "code",
   "execution_count": 2,
   "outputs": [],
   "source": [
    "is_working_with_easy_dataset = True"
   ],
   "metadata": {
    "collapsed": false,
    "pycharm": {
     "name": "#%%\n"
    }
   }
  },
  {
   "cell_type": "code",
   "execution_count": 3,
   "outputs": [],
   "source": [
    "if is_working_with_easy_dataset:\n",
    "    input_train_filename = \"embedding_easy_train.csv\"\n",
    "    input_test_filename = \"embedding_easy_test.csv\"\n",
    "else:\n",
    "    input_train_filename = \"embedding_difficult_train.csv\"\n",
    "    input_test_filename = \"embedding_difficult_test.csv\""
   ],
   "metadata": {
    "collapsed": false,
    "pycharm": {
     "name": "#%%\n"
    }
   }
  },
  {
   "cell_type": "code",
   "execution_count": 4,
   "outputs": [],
   "source": [
    "jd_train = pd.read_csv(input_train_filename, keep_default_na=False)\n",
    "jd_test = pd.read_csv(input_test_filename, keep_default_na=False)"
   ],
   "metadata": {
    "collapsed": false,
    "pycharm": {
     "name": "#%%\n"
    }
   }
  },
  {
   "cell_type": "code",
   "execution_count": 5,
   "outputs": [
    {
     "data": {
      "text/plain": "               category         0         1         2         3         4  \\\n0     software+engineer -0.007818  0.015209 -0.032915 -0.040774 -0.075819   \n1                  arts -0.039281 -0.037813 -0.002049 -0.079996 -0.009300   \n2                    hr -0.099071  0.067754 -0.018720  0.065808 -0.019722   \n3                  arts -0.000244 -0.010329  0.005088  0.019951  0.031961   \n4                  arts  0.037742 -0.058576  0.017413 -0.007462 -0.010717   \n...                 ...       ...       ...       ...       ...       ...   \n3177  software+engineer -0.092087  0.031149 -0.008015 -0.022320 -0.046425   \n3178              sales -0.078644  0.031273  0.041027 -0.058212 -0.068799   \n3179               arts -0.101251  0.041866 -0.005444 -0.011291 -0.032258   \n3180                 hr -0.051157  0.022184  0.029747  0.018414 -0.007712   \n3181                 hr -0.037771  0.040630 -0.033029  0.056949 -0.050621   \n\n             5         6         7         8  ...       374       375  \\\n0    -0.122257  0.003905  0.105021 -0.081435  ...  0.036517  0.067738   \n1     0.014721  0.028362 -0.028484 -0.047296  ...  0.061370  0.030016   \n2    -0.006825 -0.010283  0.001540 -0.087364  ...  0.081999  0.114448   \n3    -0.004796 -0.056017  0.008362 -0.058531  ...  0.018572  0.015595   \n4    -0.022504 -0.016252  0.022974 -0.052209  ...  0.015944  0.056351   \n...        ...       ...       ...       ...  ...       ...       ...   \n3177 -0.083988  0.008692  0.036745 -0.129390  ...  0.008609  0.064561   \n3178  0.024472  0.047536  0.047297 -0.061370  ... -0.022879  0.019196   \n3179 -0.016939  0.026778  0.046210 -0.083376  ...  0.004621  0.021080   \n3180 -0.003600  0.016207  0.049001 -0.018576  ...  0.000053  0.008966   \n3181 -0.047433 -0.007329  0.009315 -0.052792  ...  0.005489  0.047084   \n\n           376       377       378       379       380       381       382  \\\n0     0.017234 -0.021146 -0.005016  0.052575  0.016892  0.011725  0.031423   \n1    -0.020944  0.025066 -0.054447  0.042434 -0.016480 -0.065129 -0.121761   \n2     0.022363 -0.051149  0.002981  0.086356  0.092362 -0.042364 -0.033669   \n3     0.026521  0.006298 -0.024210  0.076719 -0.001265 -0.029895 -0.037964   \n4     0.060758  0.049852 -0.018264  0.075948  0.001910 -0.011242 -0.045209   \n...        ...       ...       ...       ...       ...       ...       ...   \n3177 -0.016291 -0.005272 -0.021538  0.051470  0.078117 -0.018555 -0.036695   \n3178  0.019246 -0.004855  0.016442  0.089635  0.074209 -0.086454 -0.098238   \n3179  0.026186  0.022296 -0.041951  0.082195  0.048774 -0.097376 -0.085289   \n3180 -0.015656 -0.005649 -0.080121  0.053882  0.070258 -0.079552 -0.019765   \n3181  0.037522 -0.024134 -0.032097  0.051435  0.104937 -0.089167 -0.052026   \n\n           383  \n0     0.008097  \n1     0.036031  \n2     0.060429  \n3     0.052187  \n4     0.029765  \n...        ...  \n3177 -0.013603  \n3178  0.072741  \n3179  0.013674  \n3180  0.002172  \n3181  0.026151  \n\n[3182 rows x 385 columns]",
      "text/html": "<div>\n<style scoped>\n    .dataframe tbody tr th:only-of-type {\n        vertical-align: middle;\n    }\n\n    .dataframe tbody tr th {\n        vertical-align: top;\n    }\n\n    .dataframe thead th {\n        text-align: right;\n    }\n</style>\n<table border=\"1\" class=\"dataframe\">\n  <thead>\n    <tr style=\"text-align: right;\">\n      <th></th>\n      <th>category</th>\n      <th>0</th>\n      <th>1</th>\n      <th>2</th>\n      <th>3</th>\n      <th>4</th>\n      <th>5</th>\n      <th>6</th>\n      <th>7</th>\n      <th>8</th>\n      <th>...</th>\n      <th>374</th>\n      <th>375</th>\n      <th>376</th>\n      <th>377</th>\n      <th>378</th>\n      <th>379</th>\n      <th>380</th>\n      <th>381</th>\n      <th>382</th>\n      <th>383</th>\n    </tr>\n  </thead>\n  <tbody>\n    <tr>\n      <th>0</th>\n      <td>software+engineer</td>\n      <td>-0.007818</td>\n      <td>0.015209</td>\n      <td>-0.032915</td>\n      <td>-0.040774</td>\n      <td>-0.075819</td>\n      <td>-0.122257</td>\n      <td>0.003905</td>\n      <td>0.105021</td>\n      <td>-0.081435</td>\n      <td>...</td>\n      <td>0.036517</td>\n      <td>0.067738</td>\n      <td>0.017234</td>\n      <td>-0.021146</td>\n      <td>-0.005016</td>\n      <td>0.052575</td>\n      <td>0.016892</td>\n      <td>0.011725</td>\n      <td>0.031423</td>\n      <td>0.008097</td>\n    </tr>\n    <tr>\n      <th>1</th>\n      <td>arts</td>\n      <td>-0.039281</td>\n      <td>-0.037813</td>\n      <td>-0.002049</td>\n      <td>-0.079996</td>\n      <td>-0.009300</td>\n      <td>0.014721</td>\n      <td>0.028362</td>\n      <td>-0.028484</td>\n      <td>-0.047296</td>\n      <td>...</td>\n      <td>0.061370</td>\n      <td>0.030016</td>\n      <td>-0.020944</td>\n      <td>0.025066</td>\n      <td>-0.054447</td>\n      <td>0.042434</td>\n      <td>-0.016480</td>\n      <td>-0.065129</td>\n      <td>-0.121761</td>\n      <td>0.036031</td>\n    </tr>\n    <tr>\n      <th>2</th>\n      <td>hr</td>\n      <td>-0.099071</td>\n      <td>0.067754</td>\n      <td>-0.018720</td>\n      <td>0.065808</td>\n      <td>-0.019722</td>\n      <td>-0.006825</td>\n      <td>-0.010283</td>\n      <td>0.001540</td>\n      <td>-0.087364</td>\n      <td>...</td>\n      <td>0.081999</td>\n      <td>0.114448</td>\n      <td>0.022363</td>\n      <td>-0.051149</td>\n      <td>0.002981</td>\n      <td>0.086356</td>\n      <td>0.092362</td>\n      <td>-0.042364</td>\n      <td>-0.033669</td>\n      <td>0.060429</td>\n    </tr>\n    <tr>\n      <th>3</th>\n      <td>arts</td>\n      <td>-0.000244</td>\n      <td>-0.010329</td>\n      <td>0.005088</td>\n      <td>0.019951</td>\n      <td>0.031961</td>\n      <td>-0.004796</td>\n      <td>-0.056017</td>\n      <td>0.008362</td>\n      <td>-0.058531</td>\n      <td>...</td>\n      <td>0.018572</td>\n      <td>0.015595</td>\n      <td>0.026521</td>\n      <td>0.006298</td>\n      <td>-0.024210</td>\n      <td>0.076719</td>\n      <td>-0.001265</td>\n      <td>-0.029895</td>\n      <td>-0.037964</td>\n      <td>0.052187</td>\n    </tr>\n    <tr>\n      <th>4</th>\n      <td>arts</td>\n      <td>0.037742</td>\n      <td>-0.058576</td>\n      <td>0.017413</td>\n      <td>-0.007462</td>\n      <td>-0.010717</td>\n      <td>-0.022504</td>\n      <td>-0.016252</td>\n      <td>0.022974</td>\n      <td>-0.052209</td>\n      <td>...</td>\n      <td>0.015944</td>\n      <td>0.056351</td>\n      <td>0.060758</td>\n      <td>0.049852</td>\n      <td>-0.018264</td>\n      <td>0.075948</td>\n      <td>0.001910</td>\n      <td>-0.011242</td>\n      <td>-0.045209</td>\n      <td>0.029765</td>\n    </tr>\n    <tr>\n      <th>...</th>\n      <td>...</td>\n      <td>...</td>\n      <td>...</td>\n      <td>...</td>\n      <td>...</td>\n      <td>...</td>\n      <td>...</td>\n      <td>...</td>\n      <td>...</td>\n      <td>...</td>\n      <td>...</td>\n      <td>...</td>\n      <td>...</td>\n      <td>...</td>\n      <td>...</td>\n      <td>...</td>\n      <td>...</td>\n      <td>...</td>\n      <td>...</td>\n      <td>...</td>\n      <td>...</td>\n    </tr>\n    <tr>\n      <th>3177</th>\n      <td>software+engineer</td>\n      <td>-0.092087</td>\n      <td>0.031149</td>\n      <td>-0.008015</td>\n      <td>-0.022320</td>\n      <td>-0.046425</td>\n      <td>-0.083988</td>\n      <td>0.008692</td>\n      <td>0.036745</td>\n      <td>-0.129390</td>\n      <td>...</td>\n      <td>0.008609</td>\n      <td>0.064561</td>\n      <td>-0.016291</td>\n      <td>-0.005272</td>\n      <td>-0.021538</td>\n      <td>0.051470</td>\n      <td>0.078117</td>\n      <td>-0.018555</td>\n      <td>-0.036695</td>\n      <td>-0.013603</td>\n    </tr>\n    <tr>\n      <th>3178</th>\n      <td>sales</td>\n      <td>-0.078644</td>\n      <td>0.031273</td>\n      <td>0.041027</td>\n      <td>-0.058212</td>\n      <td>-0.068799</td>\n      <td>0.024472</td>\n      <td>0.047536</td>\n      <td>0.047297</td>\n      <td>-0.061370</td>\n      <td>...</td>\n      <td>-0.022879</td>\n      <td>0.019196</td>\n      <td>0.019246</td>\n      <td>-0.004855</td>\n      <td>0.016442</td>\n      <td>0.089635</td>\n      <td>0.074209</td>\n      <td>-0.086454</td>\n      <td>-0.098238</td>\n      <td>0.072741</td>\n    </tr>\n    <tr>\n      <th>3179</th>\n      <td>arts</td>\n      <td>-0.101251</td>\n      <td>0.041866</td>\n      <td>-0.005444</td>\n      <td>-0.011291</td>\n      <td>-0.032258</td>\n      <td>-0.016939</td>\n      <td>0.026778</td>\n      <td>0.046210</td>\n      <td>-0.083376</td>\n      <td>...</td>\n      <td>0.004621</td>\n      <td>0.021080</td>\n      <td>0.026186</td>\n      <td>0.022296</td>\n      <td>-0.041951</td>\n      <td>0.082195</td>\n      <td>0.048774</td>\n      <td>-0.097376</td>\n      <td>-0.085289</td>\n      <td>0.013674</td>\n    </tr>\n    <tr>\n      <th>3180</th>\n      <td>hr</td>\n      <td>-0.051157</td>\n      <td>0.022184</td>\n      <td>0.029747</td>\n      <td>0.018414</td>\n      <td>-0.007712</td>\n      <td>-0.003600</td>\n      <td>0.016207</td>\n      <td>0.049001</td>\n      <td>-0.018576</td>\n      <td>...</td>\n      <td>0.000053</td>\n      <td>0.008966</td>\n      <td>-0.015656</td>\n      <td>-0.005649</td>\n      <td>-0.080121</td>\n      <td>0.053882</td>\n      <td>0.070258</td>\n      <td>-0.079552</td>\n      <td>-0.019765</td>\n      <td>0.002172</td>\n    </tr>\n    <tr>\n      <th>3181</th>\n      <td>hr</td>\n      <td>-0.037771</td>\n      <td>0.040630</td>\n      <td>-0.033029</td>\n      <td>0.056949</td>\n      <td>-0.050621</td>\n      <td>-0.047433</td>\n      <td>-0.007329</td>\n      <td>0.009315</td>\n      <td>-0.052792</td>\n      <td>...</td>\n      <td>0.005489</td>\n      <td>0.047084</td>\n      <td>0.037522</td>\n      <td>-0.024134</td>\n      <td>-0.032097</td>\n      <td>0.051435</td>\n      <td>0.104937</td>\n      <td>-0.089167</td>\n      <td>-0.052026</td>\n      <td>0.026151</td>\n    </tr>\n  </tbody>\n</table>\n<p>3182 rows × 385 columns</p>\n</div>"
     },
     "execution_count": 5,
     "metadata": {},
     "output_type": "execute_result"
    }
   ],
   "source": [
    "jd_train"
   ],
   "metadata": {
    "collapsed": false,
    "pycharm": {
     "name": "#%%\n"
    }
   }
  },
  {
   "cell_type": "code",
   "execution_count": 6,
   "outputs": [
    {
     "data": {
      "text/plain": "              category         0         1         2         3         4  \\\n0    software+engineer -0.113818  0.008952 -0.004451  0.003387  0.041243   \n1                sales -0.019982 -0.019572 -0.043766  0.038807 -0.021798   \n2                sales -0.061115  0.037327 -0.035323  0.007244 -0.014231   \n3                sales -0.110860  0.012782 -0.030584 -0.077872 -0.102458   \n4                 arts -0.044880  0.017243  0.052809 -0.012010  0.038006   \n..                 ...       ...       ...       ...       ...       ...   \n791  software+engineer -0.131392 -0.029033 -0.082744 -0.039305 -0.028481   \n792  software+engineer -0.043274 -0.032123  0.041134 -0.017565  0.032743   \n793  software+engineer -0.006800 -0.087576 -0.029101 -0.043830 -0.068833   \n794                 hr -0.128770  0.043694 -0.002058  0.047944 -0.053523   \n795                 hr -0.079189  0.014116 -0.021597  0.034801 -0.050730   \n\n            5         6         7         8  ...       374       375  \\\n0   -0.074476  0.027237  0.074545 -0.080968  ...  0.016368  0.115178   \n1   -0.003498 -0.008579 -0.007094  0.017747  ...  0.023369 -0.032173   \n2    0.054096  0.095702  0.017702 -0.064049  ...  0.024937  0.007117   \n3    0.048481  0.027282  0.055432 -0.007119  ... -0.057282  0.060048   \n4   -0.025841  0.002447  0.005194 -0.023129  ...  0.014638  0.062186   \n..        ...       ...       ...       ...  ...       ...       ...   \n791 -0.063193 -0.057688  0.128488 -0.072210  ... -0.023796  0.086397   \n792 -0.072493  0.013035 -0.040865  0.005068  ...  0.003571  0.061880   \n793 -0.016611  0.032965  0.086794 -0.112048  ...  0.093700  0.060009   \n794  0.042907  0.058572 -0.007716 -0.058442  ... -0.018871  0.036778   \n795 -0.014727 -0.056692 -0.020434 -0.031112  ...  0.056226  0.025051   \n\n          376       377       378       379       380       381       382  \\\n0    0.065218 -0.074784  0.057262  0.082102  0.059299 -0.031293  0.007032   \n1   -0.008954 -0.028408 -0.041258 -0.016728  0.078255 -0.043575  0.043920   \n2    0.029717  0.036748 -0.017619  0.084793  0.017758 -0.004776 -0.067190   \n3    0.012040  0.056503 -0.008248  0.102686 -0.004278 -0.015446 -0.055078   \n4    0.076078 -0.041519 -0.023763  0.048595  0.060352 -0.011345 -0.059987   \n..        ...       ...       ...       ...       ...       ...       ...   \n791 -0.071659 -0.031082 -0.003570  0.047519  0.033251 -0.166673 -0.007538   \n792  0.018539 -0.087545  0.026615  0.099625  0.018813 -0.029922  0.014897   \n793 -0.031102  0.073509  0.054705  0.061826  0.028178 -0.001595 -0.046012   \n794 -0.042918 -0.002689 -0.052095  0.123027  0.064848 -0.024640  0.003905   \n795  0.044193 -0.059260 -0.099940  0.062814  0.032975 -0.039858  0.017513   \n\n          383  \n0    0.071702  \n1   -0.008786  \n2    0.031323  \n3    0.049244  \n4    0.039882  \n..        ...  \n791 -0.031994  \n792 -0.003446  \n793 -0.033700  \n794  0.014744  \n795 -0.004559  \n\n[796 rows x 385 columns]",
      "text/html": "<div>\n<style scoped>\n    .dataframe tbody tr th:only-of-type {\n        vertical-align: middle;\n    }\n\n    .dataframe tbody tr th {\n        vertical-align: top;\n    }\n\n    .dataframe thead th {\n        text-align: right;\n    }\n</style>\n<table border=\"1\" class=\"dataframe\">\n  <thead>\n    <tr style=\"text-align: right;\">\n      <th></th>\n      <th>category</th>\n      <th>0</th>\n      <th>1</th>\n      <th>2</th>\n      <th>3</th>\n      <th>4</th>\n      <th>5</th>\n      <th>6</th>\n      <th>7</th>\n      <th>8</th>\n      <th>...</th>\n      <th>374</th>\n      <th>375</th>\n      <th>376</th>\n      <th>377</th>\n      <th>378</th>\n      <th>379</th>\n      <th>380</th>\n      <th>381</th>\n      <th>382</th>\n      <th>383</th>\n    </tr>\n  </thead>\n  <tbody>\n    <tr>\n      <th>0</th>\n      <td>software+engineer</td>\n      <td>-0.113818</td>\n      <td>0.008952</td>\n      <td>-0.004451</td>\n      <td>0.003387</td>\n      <td>0.041243</td>\n      <td>-0.074476</td>\n      <td>0.027237</td>\n      <td>0.074545</td>\n      <td>-0.080968</td>\n      <td>...</td>\n      <td>0.016368</td>\n      <td>0.115178</td>\n      <td>0.065218</td>\n      <td>-0.074784</td>\n      <td>0.057262</td>\n      <td>0.082102</td>\n      <td>0.059299</td>\n      <td>-0.031293</td>\n      <td>0.007032</td>\n      <td>0.071702</td>\n    </tr>\n    <tr>\n      <th>1</th>\n      <td>sales</td>\n      <td>-0.019982</td>\n      <td>-0.019572</td>\n      <td>-0.043766</td>\n      <td>0.038807</td>\n      <td>-0.021798</td>\n      <td>-0.003498</td>\n      <td>-0.008579</td>\n      <td>-0.007094</td>\n      <td>0.017747</td>\n      <td>...</td>\n      <td>0.023369</td>\n      <td>-0.032173</td>\n      <td>-0.008954</td>\n      <td>-0.028408</td>\n      <td>-0.041258</td>\n      <td>-0.016728</td>\n      <td>0.078255</td>\n      <td>-0.043575</td>\n      <td>0.043920</td>\n      <td>-0.008786</td>\n    </tr>\n    <tr>\n      <th>2</th>\n      <td>sales</td>\n      <td>-0.061115</td>\n      <td>0.037327</td>\n      <td>-0.035323</td>\n      <td>0.007244</td>\n      <td>-0.014231</td>\n      <td>0.054096</td>\n      <td>0.095702</td>\n      <td>0.017702</td>\n      <td>-0.064049</td>\n      <td>...</td>\n      <td>0.024937</td>\n      <td>0.007117</td>\n      <td>0.029717</td>\n      <td>0.036748</td>\n      <td>-0.017619</td>\n      <td>0.084793</td>\n      <td>0.017758</td>\n      <td>-0.004776</td>\n      <td>-0.067190</td>\n      <td>0.031323</td>\n    </tr>\n    <tr>\n      <th>3</th>\n      <td>sales</td>\n      <td>-0.110860</td>\n      <td>0.012782</td>\n      <td>-0.030584</td>\n      <td>-0.077872</td>\n      <td>-0.102458</td>\n      <td>0.048481</td>\n      <td>0.027282</td>\n      <td>0.055432</td>\n      <td>-0.007119</td>\n      <td>...</td>\n      <td>-0.057282</td>\n      <td>0.060048</td>\n      <td>0.012040</td>\n      <td>0.056503</td>\n      <td>-0.008248</td>\n      <td>0.102686</td>\n      <td>-0.004278</td>\n      <td>-0.015446</td>\n      <td>-0.055078</td>\n      <td>0.049244</td>\n    </tr>\n    <tr>\n      <th>4</th>\n      <td>arts</td>\n      <td>-0.044880</td>\n      <td>0.017243</td>\n      <td>0.052809</td>\n      <td>-0.012010</td>\n      <td>0.038006</td>\n      <td>-0.025841</td>\n      <td>0.002447</td>\n      <td>0.005194</td>\n      <td>-0.023129</td>\n      <td>...</td>\n      <td>0.014638</td>\n      <td>0.062186</td>\n      <td>0.076078</td>\n      <td>-0.041519</td>\n      <td>-0.023763</td>\n      <td>0.048595</td>\n      <td>0.060352</td>\n      <td>-0.011345</td>\n      <td>-0.059987</td>\n      <td>0.039882</td>\n    </tr>\n    <tr>\n      <th>...</th>\n      <td>...</td>\n      <td>...</td>\n      <td>...</td>\n      <td>...</td>\n      <td>...</td>\n      <td>...</td>\n      <td>...</td>\n      <td>...</td>\n      <td>...</td>\n      <td>...</td>\n      <td>...</td>\n      <td>...</td>\n      <td>...</td>\n      <td>...</td>\n      <td>...</td>\n      <td>...</td>\n      <td>...</td>\n      <td>...</td>\n      <td>...</td>\n      <td>...</td>\n      <td>...</td>\n    </tr>\n    <tr>\n      <th>791</th>\n      <td>software+engineer</td>\n      <td>-0.131392</td>\n      <td>-0.029033</td>\n      <td>-0.082744</td>\n      <td>-0.039305</td>\n      <td>-0.028481</td>\n      <td>-0.063193</td>\n      <td>-0.057688</td>\n      <td>0.128488</td>\n      <td>-0.072210</td>\n      <td>...</td>\n      <td>-0.023796</td>\n      <td>0.086397</td>\n      <td>-0.071659</td>\n      <td>-0.031082</td>\n      <td>-0.003570</td>\n      <td>0.047519</td>\n      <td>0.033251</td>\n      <td>-0.166673</td>\n      <td>-0.007538</td>\n      <td>-0.031994</td>\n    </tr>\n    <tr>\n      <th>792</th>\n      <td>software+engineer</td>\n      <td>-0.043274</td>\n      <td>-0.032123</td>\n      <td>0.041134</td>\n      <td>-0.017565</td>\n      <td>0.032743</td>\n      <td>-0.072493</td>\n      <td>0.013035</td>\n      <td>-0.040865</td>\n      <td>0.005068</td>\n      <td>...</td>\n      <td>0.003571</td>\n      <td>0.061880</td>\n      <td>0.018539</td>\n      <td>-0.087545</td>\n      <td>0.026615</td>\n      <td>0.099625</td>\n      <td>0.018813</td>\n      <td>-0.029922</td>\n      <td>0.014897</td>\n      <td>-0.003446</td>\n    </tr>\n    <tr>\n      <th>793</th>\n      <td>software+engineer</td>\n      <td>-0.006800</td>\n      <td>-0.087576</td>\n      <td>-0.029101</td>\n      <td>-0.043830</td>\n      <td>-0.068833</td>\n      <td>-0.016611</td>\n      <td>0.032965</td>\n      <td>0.086794</td>\n      <td>-0.112048</td>\n      <td>...</td>\n      <td>0.093700</td>\n      <td>0.060009</td>\n      <td>-0.031102</td>\n      <td>0.073509</td>\n      <td>0.054705</td>\n      <td>0.061826</td>\n      <td>0.028178</td>\n      <td>-0.001595</td>\n      <td>-0.046012</td>\n      <td>-0.033700</td>\n    </tr>\n    <tr>\n      <th>794</th>\n      <td>hr</td>\n      <td>-0.128770</td>\n      <td>0.043694</td>\n      <td>-0.002058</td>\n      <td>0.047944</td>\n      <td>-0.053523</td>\n      <td>0.042907</td>\n      <td>0.058572</td>\n      <td>-0.007716</td>\n      <td>-0.058442</td>\n      <td>...</td>\n      <td>-0.018871</td>\n      <td>0.036778</td>\n      <td>-0.042918</td>\n      <td>-0.002689</td>\n      <td>-0.052095</td>\n      <td>0.123027</td>\n      <td>0.064848</td>\n      <td>-0.024640</td>\n      <td>0.003905</td>\n      <td>0.014744</td>\n    </tr>\n    <tr>\n      <th>795</th>\n      <td>hr</td>\n      <td>-0.079189</td>\n      <td>0.014116</td>\n      <td>-0.021597</td>\n      <td>0.034801</td>\n      <td>-0.050730</td>\n      <td>-0.014727</td>\n      <td>-0.056692</td>\n      <td>-0.020434</td>\n      <td>-0.031112</td>\n      <td>...</td>\n      <td>0.056226</td>\n      <td>0.025051</td>\n      <td>0.044193</td>\n      <td>-0.059260</td>\n      <td>-0.099940</td>\n      <td>0.062814</td>\n      <td>0.032975</td>\n      <td>-0.039858</td>\n      <td>0.017513</td>\n      <td>-0.004559</td>\n    </tr>\n  </tbody>\n</table>\n<p>796 rows × 385 columns</p>\n</div>"
     },
     "execution_count": 6,
     "metadata": {},
     "output_type": "execute_result"
    }
   ],
   "source": [
    "jd_test"
   ],
   "metadata": {
    "collapsed": false,
    "pycharm": {
     "name": "#%%\n"
    }
   }
  },
  {
   "cell_type": "code",
   "execution_count": 7,
   "outputs": [],
   "source": [
    "jd_train_X = jd_train.iloc[:, 1:]\n",
    "jd_train_y = jd_train[[\"category\"]]\n",
    "\n",
    "jd_test_X = jd_test.iloc[:, 1:]\n",
    "jd_test_y = jd_test[[\"category\"]]"
   ],
   "metadata": {
    "collapsed": false,
    "pycharm": {
     "name": "#%%\n"
    }
   }
  },
  {
   "cell_type": "code",
   "execution_count": 8,
   "outputs": [
    {
     "data": {
      "text/plain": "category         \nsoftware+engineer    220\narts                 198\nsales                197\nhr                   181\ndtype: int64"
     },
     "execution_count": 8,
     "metadata": {},
     "output_type": "execute_result"
    }
   ],
   "source": [
    "jd_test_y.value_counts()"
   ],
   "metadata": {
    "collapsed": false,
    "pycharm": {
     "name": "#%%\n"
    }
   }
  },
  {
   "cell_type": "code",
   "execution_count": 9,
   "outputs": [],
   "source": [
    "enc = OneHotEncoder(sparse=False)\n",
    "enc.fit(jd_train_y);"
   ],
   "metadata": {
    "collapsed": false,
    "pycharm": {
     "name": "#%%\n"
    }
   }
  },
  {
   "cell_type": "code",
   "execution_count": 10,
   "outputs": [
    {
     "data": {
      "text/plain": "[array(['arts', 'hr', 'sales', 'software+engineer'], dtype=object)]"
     },
     "execution_count": 10,
     "metadata": {},
     "output_type": "execute_result"
    }
   ],
   "source": [
    "enc.categories_"
   ],
   "metadata": {
    "collapsed": false,
    "pycharm": {
     "name": "#%%\n"
    }
   }
  },
  {
   "cell_type": "code",
   "execution_count": 11,
   "outputs": [],
   "source": [
    "jd_train_y = enc.transform(jd_train_y)\n",
    "jd_test_y = enc.transform(jd_test_y)"
   ],
   "metadata": {
    "collapsed": false,
    "pycharm": {
     "name": "#%%\n"
    }
   }
  },
  {
   "cell_type": "code",
   "execution_count": 12,
   "outputs": [
    {
     "name": "stderr",
     "output_type": "stream",
     "text": [
      "2023-03-31 16:55:31.762630: I tensorflow/core/common_runtime/pluggable_device/pluggable_device_factory.cc:305] Could not identify NUMA node of platform GPU ID 0, defaulting to 0. Your kernel may not have been built with NUMA support.\n",
      "2023-03-31 16:55:31.762777: I tensorflow/core/common_runtime/pluggable_device/pluggable_device_factory.cc:271] Created TensorFlow device (/job:localhost/replica:0/task:0/device:GPU:0 with 0 MB memory) -> physical PluggableDevice (device: 0, name: METAL, pci bus id: <undefined>)\n"
     ]
    },
    {
     "name": "stdout",
     "output_type": "stream",
     "text": [
      "Metal device set to: Apple M1 Pro\n"
     ]
    }
   ],
   "source": [
    "model = tf.keras.Sequential([\n",
    "    tf.keras.layers.Bidirectional(tf.keras.layers.LSTM(64), input_shape=(384, 1)),\n",
    "    tf.keras.layers.Dense(32, activation='relu'),\n",
    "    tf.keras.layers.Dense(4, activation='softmax')\n",
    "])"
   ],
   "metadata": {
    "collapsed": false,
    "pycharm": {
     "name": "#%%\n"
    }
   }
  },
  {
   "cell_type": "code",
   "execution_count": 13,
   "outputs": [],
   "source": [
    "model.compile(loss=tf.keras.losses.CategoricalCrossentropy(),\n",
    "              optimizer=tf.keras.optimizers.Adam(1e-4),\n",
    "              metrics=['accuracy', tf.keras.metrics.Recall(), tf.keras.metrics.Precision()])"
   ],
   "metadata": {
    "collapsed": false,
    "pycharm": {
     "name": "#%%\n"
    }
   }
  },
  {
   "cell_type": "code",
   "execution_count": 14,
   "outputs": [
    {
     "name": "stdout",
     "output_type": "stream",
     "text": [
      "Epoch 1/100\n"
     ]
    },
    {
     "name": "stderr",
     "output_type": "stream",
     "text": [
      "2023-03-31 16:55:32.328877: W tensorflow/core/platform/profile_utils/cpu_utils.cc:128] Failed to get CPU frequency: 0 Hz\n",
      "2023-03-31 16:55:33.782230: I tensorflow/core/grappler/optimizers/custom_graph_optimizer_registry.cc:113] Plugin optimizer for device_type GPU is enabled.\n",
      "2023-03-31 16:55:34.054399: I tensorflow/core/grappler/optimizers/custom_graph_optimizer_registry.cc:113] Plugin optimizer for device_type GPU is enabled.\n",
      "2023-03-31 16:55:34.065783: I tensorflow/core/grappler/optimizers/custom_graph_optimizer_registry.cc:113] Plugin optimizer for device_type GPU is enabled.\n",
      "2023-03-31 16:55:35.028264: I tensorflow/core/grappler/optimizers/custom_graph_optimizer_registry.cc:113] Plugin optimizer for device_type GPU is enabled.\n",
      "2023-03-31 16:55:35.043796: I tensorflow/core/grappler/optimizers/custom_graph_optimizer_registry.cc:113] Plugin optimizer for device_type GPU is enabled.\n"
     ]
    },
    {
     "name": "stdout",
     "output_type": "stream",
     "text": [
      "100/100 [==============================] - ETA: 0s - loss: 1.3857 - accuracy: 0.2678 - recall: 0.0000e+00 - precision: 0.0000e+00"
     ]
    },
    {
     "name": "stderr",
     "output_type": "stream",
     "text": [
      "2023-03-31 16:55:54.596196: I tensorflow/core/grappler/optimizers/custom_graph_optimizer_registry.cc:113] Plugin optimizer for device_type GPU is enabled.\n",
      "2023-03-31 16:55:54.707521: I tensorflow/core/grappler/optimizers/custom_graph_optimizer_registry.cc:113] Plugin optimizer for device_type GPU is enabled.\n",
      "2023-03-31 16:55:54.707576: I tensorflow/core/grappler/optimizers/custom_graph_optimizer_registry.cc:113] Plugin optimizer for device_type GPU is enabled.\n"
     ]
    },
    {
     "name": "stdout",
     "output_type": "stream",
     "text": [
      "100/100 [==============================] - 27s 225ms/step - loss: 1.3857 - accuracy: 0.2678 - recall: 0.0000e+00 - precision: 0.0000e+00 - val_loss: 1.3852 - val_accuracy: 0.3568 - val_recall: 0.0000e+00 - val_precision: 0.0000e+00\n",
      "Epoch 2/100\n",
      "100/100 [==============================] - 19s 185ms/step - loss: 1.3845 - accuracy: 0.3297 - recall: 0.0000e+00 - precision: 0.0000e+00 - val_loss: 1.3839 - val_accuracy: 0.3869 - val_recall: 0.0000e+00 - val_precision: 0.0000e+00\n",
      "Epoch 3/100\n",
      "100/100 [==============================] - 19s 186ms/step - loss: 1.3808 - accuracy: 0.3463 - recall: 0.0000e+00 - precision: 0.0000e+00 - val_loss: 1.3772 - val_accuracy: 0.3003 - val_recall: 0.0000e+00 - val_precision: 0.0000e+00\n",
      "Epoch 4/100\n",
      "100/100 [==============================] - 19s 188ms/step - loss: 1.3679 - accuracy: 0.3413 - recall: 3.1427e-04 - precision: 0.2000 - val_loss: 1.3421 - val_accuracy: 0.3719 - val_recall: 0.0000e+00 - val_precision: 0.0000e+00\n",
      "Epoch 5/100\n",
      "100/100 [==============================] - 19s 187ms/step - loss: 1.3295 - accuracy: 0.3649 - recall: 0.0075 - precision: 0.7500 - val_loss: 1.3062 - val_accuracy: 0.3555 - val_recall: 0.0490 - val_precision: 0.5909\n",
      "Epoch 6/100\n",
      "100/100 [==============================] - 19s 186ms/step - loss: 1.3056 - accuracy: 0.3680 - recall: 0.0305 - precision: 0.6736 - val_loss: 1.2832 - val_accuracy: 0.3756 - val_recall: 0.0440 - val_precision: 0.9211\n",
      "Epoch 7/100\n",
      "100/100 [==============================] - 18s 185ms/step - loss: 1.3417 - accuracy: 0.3470 - recall: 0.0189 - precision: 0.6061 - val_loss: 1.3382 - val_accuracy: 0.3405 - val_recall: 0.0000e+00 - val_precision: 0.0000e+00\n",
      "Epoch 8/100\n",
      "100/100 [==============================] - 19s 186ms/step - loss: 1.3317 - accuracy: 0.3793 - recall: 3.1427e-04 - precision: 1.0000 - val_loss: 1.3266 - val_accuracy: 0.3995 - val_recall: 0.0000e+00 - val_precision: 0.0000e+00\n",
      "Epoch 9/100\n",
      "100/100 [==============================] - 19s 185ms/step - loss: 1.4220 - accuracy: 0.3045 - recall: 0.0132 - precision: 0.2745 - val_loss: 1.3945 - val_accuracy: 0.2588 - val_recall: 0.0000e+00 - val_precision: 0.0000e+00\n",
      "Epoch 10/100\n",
      "100/100 [==============================] - 19s 185ms/step - loss: 1.3432 - accuracy: 0.3290 - recall: 0.0019 - precision: 0.8571 - val_loss: 1.3069 - val_accuracy: 0.3970 - val_recall: 0.0075 - val_precision: 0.7500\n",
      "Epoch 11/100\n",
      "100/100 [==============================] - 18s 176ms/step - loss: 1.2909 - accuracy: 0.3850 - recall: 0.0361 - precision: 0.7188 - val_loss: 1.2668 - val_accuracy: 0.3882 - val_recall: 0.0791 - val_precision: 0.7875\n",
      "Epoch 12/100\n",
      "100/100 [==============================] - 17s 169ms/step - loss: 1.2674 - accuracy: 0.3784 - recall: 0.0773 - precision: 0.6595 - val_loss: 1.2607 - val_accuracy: 0.3970 - val_recall: 0.0741 - val_precision: 0.7973\n",
      "Epoch 13/100\n",
      "100/100 [==============================] - 17s 174ms/step - loss: 1.2555 - accuracy: 0.3963 - recall: 0.0820 - precision: 0.6675 - val_loss: 1.2454 - val_accuracy: 0.3869 - val_recall: 0.0879 - val_precision: 0.8046\n",
      "Epoch 14/100\n",
      "100/100 [==============================] - 18s 181ms/step - loss: 1.2457 - accuracy: 0.4054 - recall: 0.0845 - precision: 0.6658 - val_loss: 1.2469 - val_accuracy: 0.3957 - val_recall: 0.0879 - val_precision: 0.8140\n",
      "Epoch 15/100\n",
      "100/100 [==============================] - 17s 174ms/step - loss: 1.2285 - accuracy: 0.4302 - recall: 0.0943 - precision: 0.6696 - val_loss: 1.2226 - val_accuracy: 0.4372 - val_recall: 0.0942 - val_precision: 0.7653\n",
      "Epoch 16/100\n",
      "100/100 [==============================] - 17s 170ms/step - loss: 1.2192 - accuracy: 0.4409 - recall: 0.0893 - precision: 0.6559 - val_loss: 1.2352 - val_accuracy: 0.4296 - val_recall: 0.1030 - val_precision: 0.6560\n",
      "Epoch 17/100\n",
      "100/100 [==============================] - 17s 170ms/step - loss: 1.2093 - accuracy: 0.4595 - recall: 0.0952 - precision: 0.6748 - val_loss: 1.2026 - val_accuracy: 0.4485 - val_recall: 0.1080 - val_precision: 0.7227\n",
      "Epoch 18/100\n",
      "100/100 [==============================] - 17s 169ms/step - loss: 1.1888 - accuracy: 0.4670 - recall: 0.0990 - precision: 0.6646 - val_loss: 1.1759 - val_accuracy: 0.4485 - val_recall: 0.1143 - val_precision: 0.7778\n",
      "Epoch 19/100\n",
      "100/100 [==============================] - 18s 180ms/step - loss: 1.1660 - accuracy: 0.4918 - recall: 0.1568 - precision: 0.6979 - val_loss: 1.1593 - val_accuracy: 0.4497 - val_recall: 0.1583 - val_precision: 0.8129\n",
      "Epoch 20/100\n",
      "100/100 [==============================] - 17s 174ms/step - loss: 1.1522 - accuracy: 0.5101 - recall: 0.1848 - precision: 0.6766 - val_loss: 1.1560 - val_accuracy: 0.5163 - val_recall: 0.2324 - val_precision: 0.6491\n",
      "Epoch 21/100\n",
      "100/100 [==============================] - 17s 171ms/step - loss: 1.1736 - accuracy: 0.4899 - recall: 0.1706 - precision: 0.6101 - val_loss: 1.1391 - val_accuracy: 0.4975 - val_recall: 0.1822 - val_precision: 0.6872\n",
      "Epoch 22/100\n",
      "100/100 [==============================] - 16s 165ms/step - loss: 1.1411 - accuracy: 0.5082 - recall: 0.2102 - precision: 0.6371 - val_loss: 1.1265 - val_accuracy: 0.4887 - val_recall: 0.2136 - val_precision: 0.6415\n",
      "Epoch 23/100\n",
      "100/100 [==============================] - 16s 164ms/step - loss: 1.1300 - accuracy: 0.5207 - recall: 0.2285 - precision: 0.6633 - val_loss: 1.1124 - val_accuracy: 0.5075 - val_recall: 0.2236 - val_precision: 0.7063\n",
      "Epoch 24/100\n",
      "100/100 [==============================] - 16s 165ms/step - loss: 1.1042 - accuracy: 0.5261 - recall: 0.2678 - precision: 0.6484 - val_loss: 1.1195 - val_accuracy: 0.4987 - val_recall: 0.3467 - val_precision: 0.7132\n",
      "Epoch 25/100\n",
      "100/100 [==============================] - 17s 165ms/step - loss: 1.1017 - accuracy: 0.5355 - recall: 0.2938 - precision: 0.6498 - val_loss: 1.0734 - val_accuracy: 0.5327 - val_recall: 0.3103 - val_precision: 0.6997\n",
      "Epoch 26/100\n",
      "100/100 [==============================] - 17s 166ms/step - loss: 1.0688 - accuracy: 0.5440 - recall: 0.3451 - precision: 0.6587 - val_loss: 1.0772 - val_accuracy: 0.5515 - val_recall: 0.3568 - val_precision: 0.7030\n",
      "Epoch 27/100\n",
      "100/100 [==============================] - 17s 173ms/step - loss: 1.0910 - accuracy: 0.5405 - recall: 0.3385 - precision: 0.6418 - val_loss: 1.0771 - val_accuracy: 0.5465 - val_recall: 0.3178 - val_precision: 0.6487\n",
      "Epoch 28/100\n",
      "100/100 [==============================] - 18s 185ms/step - loss: 1.0586 - accuracy: 0.5547 - recall: 0.3488 - precision: 0.6752 - val_loss: 1.0515 - val_accuracy: 0.5188 - val_recall: 0.3329 - val_precision: 0.6559\n",
      "Epoch 29/100\n",
      "100/100 [==============================] - 18s 184ms/step - loss: 1.0599 - accuracy: 0.5437 - recall: 0.3652 - precision: 0.6651 - val_loss: 1.0648 - val_accuracy: 0.5264 - val_recall: 0.3379 - val_precision: 0.6156\n",
      "Epoch 30/100\n",
      "100/100 [==============================] - 18s 185ms/step - loss: 1.0505 - accuracy: 0.5566 - recall: 0.3752 - precision: 0.6652 - val_loss: 1.0619 - val_accuracy: 0.5389 - val_recall: 0.3430 - val_precision: 0.6594\n",
      "Epoch 31/100\n",
      "100/100 [==============================] - 19s 185ms/step - loss: 1.0451 - accuracy: 0.5415 - recall: 0.3752 - precision: 0.6667 - val_loss: 1.0430 - val_accuracy: 0.5415 - val_recall: 0.4033 - val_precision: 0.6688\n",
      "Epoch 32/100\n",
      "100/100 [==============================] - 19s 186ms/step - loss: 1.0335 - accuracy: 0.5569 - recall: 0.3872 - precision: 0.6624 - val_loss: 1.0302 - val_accuracy: 0.5540 - val_recall: 0.3932 - val_precision: 0.6731\n",
      "Epoch 33/100\n",
      "100/100 [==============================] - 18s 185ms/step - loss: 1.0267 - accuracy: 0.5657 - recall: 0.3982 - precision: 0.6599 - val_loss: 1.0779 - val_accuracy: 0.5452 - val_recall: 0.4095 - val_precision: 0.6613\n",
      "Epoch 34/100\n",
      "100/100 [==============================] - 18s 180ms/step - loss: 1.0193 - accuracy: 0.5713 - recall: 0.4060 - precision: 0.6680 - val_loss: 1.0067 - val_accuracy: 0.5779 - val_recall: 0.4372 - val_precision: 0.6578\n",
      "Epoch 35/100\n",
      "100/100 [==============================] - 17s 172ms/step - loss: 1.0193 - accuracy: 0.5685 - recall: 0.4095 - precision: 0.6655 - val_loss: 1.0895 - val_accuracy: 0.5126 - val_recall: 0.3744 - val_precision: 0.6608\n",
      "Epoch 36/100\n",
      "100/100 [==============================] - 17s 173ms/step - loss: 1.0122 - accuracy: 0.5682 - recall: 0.4315 - precision: 0.6734 - val_loss: 1.0401 - val_accuracy: 0.5352 - val_recall: 0.3719 - val_precision: 0.6563\n",
      "Epoch 37/100\n",
      "100/100 [==============================] - 17s 170ms/step - loss: 1.0033 - accuracy: 0.5783 - recall: 0.4079 - precision: 0.6646 - val_loss: 1.0618 - val_accuracy: 0.5415 - val_recall: 0.4284 - val_precision: 0.6739\n",
      "Epoch 38/100\n",
      "100/100 [==============================] - 17s 167ms/step - loss: 1.0071 - accuracy: 0.5657 - recall: 0.4249 - precision: 0.6624 - val_loss: 1.0249 - val_accuracy: 0.5867 - val_recall: 0.4359 - val_precision: 0.6699\n",
      "Epoch 39/100\n",
      "100/100 [==============================] - 17s 167ms/step - loss: 1.0011 - accuracy: 0.5754 - recall: 0.4180 - precision: 0.6779 - val_loss: 1.0775 - val_accuracy: 0.5126 - val_recall: 0.3706 - val_precision: 0.6782\n",
      "Epoch 40/100\n",
      "100/100 [==============================] - 17s 169ms/step - loss: 0.9955 - accuracy: 0.5745 - recall: 0.4315 - precision: 0.6760 - val_loss: 1.0377 - val_accuracy: 0.5352 - val_recall: 0.3731 - val_precision: 0.6585\n",
      "Epoch 41/100\n",
      "100/100 [==============================] - 17s 168ms/step - loss: 0.9862 - accuracy: 0.5713 - recall: 0.4327 - precision: 0.6763 - val_loss: 0.9725 - val_accuracy: 0.5804 - val_recall: 0.4749 - val_precision: 0.6608\n",
      "Epoch 42/100\n",
      "100/100 [==============================] - 18s 182ms/step - loss: 0.9773 - accuracy: 0.5801 - recall: 0.4475 - precision: 0.6749 - val_loss: 1.0113 - val_accuracy: 0.5791 - val_recall: 0.4347 - val_precision: 0.6732\n",
      "Epoch 43/100\n",
      "100/100 [==============================] - 17s 174ms/step - loss: 0.9906 - accuracy: 0.5720 - recall: 0.4378 - precision: 0.6665 - val_loss: 0.9859 - val_accuracy: 0.5779 - val_recall: 0.4359 - val_precision: 0.6686\n",
      "Epoch 44/100\n",
      "100/100 [==============================] - 17s 173ms/step - loss: 0.9627 - accuracy: 0.5896 - recall: 0.4667 - precision: 0.6837 - val_loss: 0.9987 - val_accuracy: 0.5829 - val_recall: 0.4698 - val_precision: 0.6608\n",
      "Epoch 45/100\n",
      "100/100 [==============================] - 17s 169ms/step - loss: 0.9883 - accuracy: 0.5773 - recall: 0.4459 - precision: 0.6735 - val_loss: 0.9793 - val_accuracy: 0.5804 - val_recall: 0.4573 - val_precision: 0.7013\n",
      "Epoch 46/100\n",
      "100/100 [==============================] - 17s 168ms/step - loss: 0.9766 - accuracy: 0.5827 - recall: 0.4554 - precision: 0.6796 - val_loss: 0.9661 - val_accuracy: 0.5992 - val_recall: 0.4661 - val_precision: 0.6782\n",
      "Epoch 47/100\n",
      "100/100 [==============================] - 17s 168ms/step - loss: 0.9706 - accuracy: 0.5858 - recall: 0.4579 - precision: 0.6879 - val_loss: 0.9862 - val_accuracy: 0.5955 - val_recall: 0.4786 - val_precision: 0.6865\n",
      "Epoch 48/100\n",
      "100/100 [==============================] - 17s 169ms/step - loss: 0.9761 - accuracy: 0.5833 - recall: 0.4488 - precision: 0.6885 - val_loss: 0.9914 - val_accuracy: 0.6068 - val_recall: 0.4686 - val_precision: 0.6625\n",
      "Epoch 49/100\n",
      "100/100 [==============================] - 17s 174ms/step - loss: 0.9620 - accuracy: 0.5911 - recall: 0.4679 - precision: 0.6784 - val_loss: 1.0305 - val_accuracy: 0.5528 - val_recall: 0.4372 - val_precision: 0.6385\n",
      "Epoch 50/100\n",
      "100/100 [==============================] - 18s 180ms/step - loss: 0.9635 - accuracy: 0.5889 - recall: 0.4623 - precision: 0.6880 - val_loss: 0.9678 - val_accuracy: 0.5980 - val_recall: 0.5038 - val_precision: 0.6808\n",
      "Epoch 51/100\n",
      "100/100 [==============================] - 18s 181ms/step - loss: 0.9659 - accuracy: 0.5924 - recall: 0.4535 - precision: 0.6800 - val_loss: 0.9731 - val_accuracy: 0.5980 - val_recall: 0.4761 - val_precision: 0.7006\n",
      "Epoch 52/100\n",
      "100/100 [==============================] - 19s 189ms/step - loss: 0.9477 - accuracy: 0.6003 - recall: 0.4745 - precision: 0.6879 - val_loss: 0.9463 - val_accuracy: 0.6018 - val_recall: 0.4899 - val_precision: 0.6759\n",
      "Epoch 53/100\n",
      "100/100 [==============================] - 18s 179ms/step - loss: 0.9664 - accuracy: 0.5820 - recall: 0.4510 - precision: 0.6788 - val_loss: 0.9549 - val_accuracy: 0.6080 - val_recall: 0.5038 - val_precision: 0.6986\n",
      "Epoch 54/100\n",
      "100/100 [==============================] - 19s 189ms/step - loss: 0.9509 - accuracy: 0.5946 - recall: 0.4717 - precision: 0.6870 - val_loss: 0.9605 - val_accuracy: 0.6055 - val_recall: 0.4724 - val_precision: 0.6886\n",
      "Epoch 55/100\n",
      "100/100 [==============================] - 17s 174ms/step - loss: 0.9374 - accuracy: 0.6037 - recall: 0.4931 - precision: 0.6906 - val_loss: 0.9610 - val_accuracy: 0.5842 - val_recall: 0.5013 - val_precision: 0.6832\n",
      "Epoch 56/100\n",
      "100/100 [==============================] - 18s 181ms/step - loss: 0.9344 - accuracy: 0.6012 - recall: 0.4796 - precision: 0.6924 - val_loss: 1.0219 - val_accuracy: 0.5879 - val_recall: 0.4761 - val_precision: 0.6568\n",
      "Epoch 57/100\n",
      "100/100 [==============================] - 19s 191ms/step - loss: 0.9476 - accuracy: 0.6006 - recall: 0.4786 - precision: 0.6916 - val_loss: 0.9683 - val_accuracy: 0.5992 - val_recall: 0.5126 - val_precision: 0.6869\n",
      "Epoch 58/100\n",
      "100/100 [==============================] - 18s 185ms/step - loss: 0.9514 - accuracy: 0.5940 - recall: 0.4595 - precision: 0.6829 - val_loss: 0.9454 - val_accuracy: 0.6193 - val_recall: 0.5013 - val_precision: 0.6915\n",
      "Epoch 59/100\n",
      "100/100 [==============================] - 19s 191ms/step - loss: 0.9273 - accuracy: 0.6065 - recall: 0.4871 - precision: 0.6889 - val_loss: 0.9526 - val_accuracy: 0.5905 - val_recall: 0.5264 - val_precision: 0.6903\n",
      "Epoch 60/100\n",
      "100/100 [==============================] - 19s 191ms/step - loss: 0.9354 - accuracy: 0.6097 - recall: 0.4843 - precision: 0.6831 - val_loss: 0.9615 - val_accuracy: 0.6030 - val_recall: 0.4837 - val_precision: 0.7038\n",
      "Epoch 61/100\n",
      "100/100 [==============================] - 19s 191ms/step - loss: 0.9186 - accuracy: 0.6135 - recall: 0.4909 - precision: 0.6979 - val_loss: 0.9510 - val_accuracy: 0.6093 - val_recall: 0.5113 - val_precision: 0.7042\n",
      "Epoch 62/100\n",
      "100/100 [==============================] - 19s 194ms/step - loss: 0.9322 - accuracy: 0.6050 - recall: 0.4821 - precision: 0.6788 - val_loss: 0.9700 - val_accuracy: 0.5930 - val_recall: 0.4799 - val_precision: 0.6508\n",
      "Epoch 63/100\n",
      "100/100 [==============================] - 18s 182ms/step - loss: 0.9255 - accuracy: 0.6141 - recall: 0.4884 - precision: 0.6807 - val_loss: 0.9290 - val_accuracy: 0.6219 - val_recall: 0.5138 - val_precision: 0.7064\n",
      "Epoch 64/100\n",
      "100/100 [==============================] - 18s 181ms/step - loss: 0.9210 - accuracy: 0.6182 - recall: 0.4890 - precision: 0.6903 - val_loss: 0.9269 - val_accuracy: 0.6156 - val_recall: 0.5226 - val_precision: 0.7172\n",
      "Epoch 65/100\n",
      "100/100 [==============================] - 18s 179ms/step - loss: 0.9276 - accuracy: 0.6056 - recall: 0.4906 - precision: 0.6826 - val_loss: 0.9267 - val_accuracy: 0.6281 - val_recall: 0.5264 - val_precision: 0.6995\n",
      "Epoch 66/100\n",
      "100/100 [==============================] - 18s 182ms/step - loss: 0.9171 - accuracy: 0.6188 - recall: 0.4849 - precision: 0.6806 - val_loss: 0.9307 - val_accuracy: 0.6156 - val_recall: 0.5088 - val_precision: 0.7271\n",
      "Epoch 67/100\n",
      "100/100 [==============================] - 17s 174ms/step - loss: 0.9195 - accuracy: 0.6113 - recall: 0.4868 - precision: 0.6918 - val_loss: 0.9377 - val_accuracy: 0.6219 - val_recall: 0.4987 - val_precision: 0.7192\n",
      "Epoch 68/100\n",
      "100/100 [==============================] - 18s 176ms/step - loss: 0.9104 - accuracy: 0.6223 - recall: 0.4975 - precision: 0.6895 - val_loss: 0.9233 - val_accuracy: 0.6319 - val_recall: 0.5264 - val_precision: 0.7274\n",
      "Epoch 69/100\n",
      "100/100 [==============================] - 18s 175ms/step - loss: 0.9079 - accuracy: 0.6191 - recall: 0.5047 - precision: 0.6928 - val_loss: 0.9279 - val_accuracy: 0.5992 - val_recall: 0.5138 - val_precision: 0.7278\n",
      "Epoch 70/100\n",
      "100/100 [==============================] - 17s 169ms/step - loss: 0.9065 - accuracy: 0.6182 - recall: 0.5028 - precision: 0.6960 - val_loss: 0.9202 - val_accuracy: 0.6269 - val_recall: 0.5176 - val_precision: 0.7043\n",
      "Epoch 71/100\n",
      "100/100 [==============================] - 17s 171ms/step - loss: 0.9077 - accuracy: 0.6210 - recall: 0.5022 - precision: 0.6951 - val_loss: 0.9150 - val_accuracy: 0.6394 - val_recall: 0.5503 - val_precision: 0.7134\n",
      "Epoch 72/100\n",
      "100/100 [==============================] - 17s 171ms/step - loss: 0.9094 - accuracy: 0.6179 - recall: 0.4950 - precision: 0.6881 - val_loss: 0.9247 - val_accuracy: 0.6332 - val_recall: 0.5163 - val_precision: 0.7274\n",
      "Epoch 73/100\n",
      "100/100 [==============================] - 17s 170ms/step - loss: 0.8971 - accuracy: 0.6219 - recall: 0.5094 - precision: 0.6945 - val_loss: 0.9312 - val_accuracy: 0.6193 - val_recall: 0.5000 - val_precision: 0.7158\n",
      "Epoch 74/100\n",
      "100/100 [==============================] - 17s 171ms/step - loss: 0.9021 - accuracy: 0.6207 - recall: 0.5028 - precision: 0.6917 - val_loss: 0.9156 - val_accuracy: 0.6394 - val_recall: 0.5415 - val_precision: 0.7183\n",
      "Epoch 75/100\n",
      "100/100 [==============================] - 17s 171ms/step - loss: 0.8967 - accuracy: 0.6260 - recall: 0.5198 - precision: 0.7038 - val_loss: 0.9672 - val_accuracy: 0.6043 - val_recall: 0.4761 - val_precision: 0.6967\n",
      "Epoch 76/100\n",
      "100/100 [==============================] - 17s 171ms/step - loss: 0.8990 - accuracy: 0.6229 - recall: 0.5101 - precision: 0.7002 - val_loss: 0.9297 - val_accuracy: 0.6294 - val_recall: 0.5013 - val_precision: 0.7025\n",
      "Epoch 77/100\n",
      "100/100 [==============================] - 18s 182ms/step - loss: 0.9138 - accuracy: 0.6185 - recall: 0.5063 - precision: 0.6947 - val_loss: 0.9480 - val_accuracy: 0.6168 - val_recall: 0.5264 - val_precision: 0.7187\n",
      "Epoch 78/100\n",
      "100/100 [==============================] - 18s 176ms/step - loss: 0.9015 - accuracy: 0.6204 - recall: 0.5009 - precision: 0.7013 - val_loss: 0.9135 - val_accuracy: 0.6168 - val_recall: 0.5503 - val_precision: 0.7053\n",
      "Epoch 79/100\n",
      "100/100 [==============================] - 17s 175ms/step - loss: 0.8922 - accuracy: 0.6260 - recall: 0.5176 - precision: 0.7003 - val_loss: 0.9065 - val_accuracy: 0.6307 - val_recall: 0.5226 - val_precision: 0.7111\n",
      "Epoch 80/100\n",
      "100/100 [==============================] - 17s 172ms/step - loss: 0.8825 - accuracy: 0.6373 - recall: 0.5182 - precision: 0.7011 - val_loss: 0.9190 - val_accuracy: 0.6093 - val_recall: 0.5000 - val_precision: 0.7158\n",
      "Epoch 81/100\n",
      "100/100 [==============================] - 17s 170ms/step - loss: 0.8997 - accuracy: 0.6216 - recall: 0.5085 - precision: 0.7047 - val_loss: 0.9219 - val_accuracy: 0.6394 - val_recall: 0.5176 - val_precision: 0.7190\n",
      "Epoch 82/100\n",
      "100/100 [==============================] - 18s 183ms/step - loss: 0.8860 - accuracy: 0.6295 - recall: 0.5126 - precision: 0.6973 - val_loss: 0.9214 - val_accuracy: 0.6432 - val_recall: 0.5678 - val_precision: 0.7232\n",
      "Epoch 83/100\n",
      "100/100 [==============================] - 19s 188ms/step - loss: 0.8842 - accuracy: 0.6273 - recall: 0.5261 - precision: 0.6963 - val_loss: 0.8978 - val_accuracy: 0.6420 - val_recall: 0.5641 - val_precision: 0.6994\n",
      "Epoch 84/100\n",
      "100/100 [==============================] - 19s 188ms/step - loss: 0.8911 - accuracy: 0.6323 - recall: 0.5211 - precision: 0.7131 - val_loss: 0.9049 - val_accuracy: 0.6357 - val_recall: 0.5377 - val_precision: 0.7341\n",
      "Epoch 85/100\n",
      "100/100 [==============================] - 18s 178ms/step - loss: 0.8818 - accuracy: 0.6317 - recall: 0.5255 - precision: 0.7022 - val_loss: 0.9129 - val_accuracy: 0.6193 - val_recall: 0.5163 - val_precision: 0.7300\n",
      "Epoch 86/100\n",
      "100/100 [==============================] - 18s 184ms/step - loss: 0.8879 - accuracy: 0.6245 - recall: 0.5141 - precision: 0.7006 - val_loss: 0.9111 - val_accuracy: 0.6319 - val_recall: 0.5540 - val_precision: 0.7101\n",
      "Epoch 87/100\n",
      "100/100 [==============================] - 18s 182ms/step - loss: 0.8891 - accuracy: 0.6273 - recall: 0.5157 - precision: 0.7037 - val_loss: 0.8960 - val_accuracy: 0.6307 - val_recall: 0.5440 - val_precision: 0.7339\n",
      "Epoch 88/100\n",
      "100/100 [==============================] - 18s 180ms/step - loss: 0.8723 - accuracy: 0.6351 - recall: 0.5324 - precision: 0.7070 - val_loss: 0.9358 - val_accuracy: 0.6394 - val_recall: 0.5214 - val_precision: 0.6975\n",
      "Epoch 89/100\n",
      "100/100 [==============================] - 18s 181ms/step - loss: 0.8938 - accuracy: 0.6301 - recall: 0.5088 - precision: 0.6987 - val_loss: 0.9127 - val_accuracy: 0.6432 - val_recall: 0.5578 - val_precision: 0.7070\n",
      "Epoch 90/100\n",
      "100/100 [==============================] - 18s 177ms/step - loss: 0.8807 - accuracy: 0.6273 - recall: 0.5204 - precision: 0.7020 - val_loss: 0.9450 - val_accuracy: 0.6168 - val_recall: 0.5578 - val_precision: 0.6789\n",
      "Epoch 91/100\n",
      "100/100 [==============================] - 18s 178ms/step - loss: 0.8847 - accuracy: 0.6367 - recall: 0.5204 - precision: 0.7138 - val_loss: 0.8836 - val_accuracy: 0.6432 - val_recall: 0.5452 - val_precision: 0.7221\n",
      "Epoch 92/100\n",
      "100/100 [==============================] - 17s 174ms/step - loss: 0.8812 - accuracy: 0.6373 - recall: 0.5211 - precision: 0.7125 - val_loss: 0.8877 - val_accuracy: 0.6357 - val_recall: 0.5377 - val_precision: 0.7279\n",
      "Epoch 93/100\n",
      "100/100 [==============================] - 17s 173ms/step - loss: 0.8732 - accuracy: 0.6376 - recall: 0.5289 - precision: 0.7150 - val_loss: 0.8820 - val_accuracy: 0.6495 - val_recall: 0.5515 - val_precision: 0.7317\n",
      "Epoch 94/100\n",
      "100/100 [==============================] - 17s 175ms/step - loss: 0.8958 - accuracy: 0.6241 - recall: 0.5160 - precision: 0.7011 - val_loss: 0.8942 - val_accuracy: 0.6583 - val_recall: 0.5490 - val_precision: 0.7345\n",
      "Epoch 95/100\n",
      "100/100 [==============================] - 17s 175ms/step - loss: 0.8679 - accuracy: 0.6411 - recall: 0.5317 - precision: 0.7249 - val_loss: 0.9063 - val_accuracy: 0.6570 - val_recall: 0.5176 - val_precision: 0.7116\n",
      "Epoch 96/100\n",
      "100/100 [==============================] - 18s 185ms/step - loss: 0.8685 - accuracy: 0.6332 - recall: 0.5295 - precision: 0.7201 - val_loss: 0.8766 - val_accuracy: 0.6508 - val_recall: 0.5477 - val_precision: 0.7159\n",
      "Epoch 97/100\n",
      "100/100 [==============================] - 19s 192ms/step - loss: 0.8773 - accuracy: 0.6301 - recall: 0.5239 - precision: 0.7052 - val_loss: 0.8814 - val_accuracy: 0.6445 - val_recall: 0.5377 - val_precision: 0.7304\n",
      "Epoch 98/100\n",
      "100/100 [==============================] - 18s 184ms/step - loss: 0.8684 - accuracy: 0.6458 - recall: 0.5393 - precision: 0.7156 - val_loss: 0.9421 - val_accuracy: 0.6256 - val_recall: 0.5025 - val_precision: 0.7042\n",
      "Epoch 99/100\n",
      "100/100 [==============================] - 18s 185ms/step - loss: 0.8738 - accuracy: 0.6433 - recall: 0.5295 - precision: 0.7158 - val_loss: 0.8750 - val_accuracy: 0.6495 - val_recall: 0.5565 - val_precision: 0.7032\n",
      "Epoch 100/100\n",
      "100/100 [==============================] - 18s 180ms/step - loss: 0.8728 - accuracy: 0.6414 - recall: 0.5299 - precision: 0.7126 - val_loss: 0.8794 - val_accuracy: 0.6558 - val_recall: 0.5553 - val_precision: 0.7141\n"
     ]
    }
   ],
   "source": [
    "history = model.fit(jd_train_X, jd_train_y, epochs=100, validation_steps=30, validation_data=(jd_test_X, jd_test_y))"
   ],
   "metadata": {
    "collapsed": false,
    "pycharm": {
     "name": "#%%\n"
    }
   }
  },
  {
   "cell_type": "code",
   "execution_count": 18,
   "outputs": [
    {
     "data": {
      "text/plain": "(0.0, 1.4497193932533263)"
     },
     "execution_count": 18,
     "metadata": {},
     "output_type": "execute_result"
    },
    {
     "data": {
      "text/plain": "<Figure size 1152x576 with 2 Axes>",
      "image/png": "[encoded data removed]"
     },
     "metadata": {
      "needs_background": "light"
     },
     "output_type": "display_data"
    }
   ],
   "source": [
    "plt.figure(figsize=(16, 8))\n",
    "plt.subplot(1, 2, 1)\n",
    "plot_graphs(history, 'accuracy')\n",
    "plt.ylim(None, 1)\n",
    "plt.subplot(1, 2, 2)\n",
    "plot_graphs(history, 'loss')\n",
    "plt.ylim(0, None)"
   ],
   "metadata": {
    "collapsed": false,
    "pycharm": {
     "name": "#%%\n"
    }
   }
  },
  {
   "cell_type": "markdown",
   "source": [
    "### Saving the model"
   ],
   "metadata": {
    "collapsed": false,
    "pycharm": {
     "name": "#%% md\n"
    }
   }
  },
  {
   "cell_type": "code",
   "execution_count": 19,
   "outputs": [],
   "source": [
    "model.save(\"tf_models/rnn_easy.h5\")"
   ],
   "metadata": {
    "collapsed": false,
    "pycharm": {
     "name": "#%%\n"
    }
   }
  },
  {
   "cell_type": "markdown",
   "source": [
    "### Hard Dataset (Distinct Job Categories)"
   ],
   "metadata": {
    "collapsed": false,
    "pycharm": {
     "name": "#%% md\n"
    }
   }
  },
  {
   "cell_type": "code",
   "execution_count": 20,
   "outputs": [],
   "source": [
    "is_working_with_easy_dataset = False"
   ],
   "metadata": {
    "collapsed": false,
    "pycharm": {
     "name": "#%%\n"
    }
   }
  },
  {
   "cell_type": "code",
   "execution_count": 21,
   "outputs": [],
   "source": [
    "if is_working_with_easy_dataset:\n",
    "    input_train_filename = \"embedding_easy_train.csv\"\n",
    "    input_test_filename = \"embedding_easy_test.csv\"\n",
    "else:\n",
    "    input_train_filename = \"embedding_difficult_train.csv\"\n",
    "    input_test_filename = \"embedding_difficult_test.csv\"\n",
    "\n",
    "jd_train = pd.read_csv(input_train_filename, keep_default_na=False)\n",
    "jd_test = pd.read_csv(input_test_filename, keep_default_na=False)"
   ],
   "metadata": {
    "collapsed": false,
    "pycharm": {
     "name": "#%%\n"
    }
   }
  },
  {
   "cell_type": "code",
   "execution_count": 22,
   "outputs": [
    {
     "data": {
      "text/plain": "               category         0         1         2         3         4  \\\n0     software+engineer -0.067028 -0.037456  0.040710 -0.022643 -0.065919   \n1     software+engineer -0.049825 -0.026897 -0.014653 -0.045330 -0.002588   \n2     software+engineer -0.109452 -0.018895 -0.011882 -0.049141 -0.065425   \n3                 ui+ux -0.059268  0.002888  0.038257  0.000755 -0.040839   \n4                 ui+ux -0.012034  0.015511 -0.003249 -0.078507  0.065040   \n...                 ...       ...       ...       ...       ...       ...   \n3175  software+engineer -0.079604  0.007492 -0.051706 -0.099018 -0.030773   \n3176     cyber+security -0.037670  0.031925 -0.013679 -0.005070  0.021368   \n3177              ui+ux -0.025617  0.061029 -0.011124 -0.026316 -0.066101   \n3178       data+analyst -0.060959 -0.039796 -0.022763 -0.039479 -0.041932   \n3179       data+analyst -0.017951 -0.031278 -0.015457  0.017326 -0.034570   \n\n             5         6         7         8  ...       374       375  \\\n0    -0.011505  0.014374  0.070613 -0.072635  ...  0.073042 -0.004869   \n1    -0.085351 -0.020295 -0.026342 -0.046522  ...  0.153783  0.060030   \n2    -0.020879  0.020536  0.049572 -0.068171  ...  0.067979  0.060650   \n3     0.018103  0.136779  0.048689 -0.019846  ... -0.003655  0.047657   \n4    -0.028536 -0.031559  0.013882  0.022090  ...  0.019392  0.086536   \n...        ...       ...       ...       ...  ...       ...       ...   \n3175 -0.024738 -0.015718  0.143318  0.023419  ...  0.076493  0.073352   \n3176  0.001775  0.096207  0.094450 -0.042398  ...  0.044399  0.110647   \n3177 -0.050747 -0.006923  0.085535 -0.037942  ...  0.042129  0.081157   \n3178 -0.040012  0.063920  0.067434  0.023722  ...  0.052077  0.101755   \n3179 -0.012818 -0.020433  0.001288  0.007926  ...  0.030684  0.057024   \n\n           376       377       378       379       380       381       382  \\\n0    -0.012730 -0.012608  0.025585  0.136745  0.038581 -0.099147  0.001722   \n1     0.053321 -0.115148  0.043106  0.170601 -0.040410 -0.039290  0.035469   \n2     0.008373 -0.073202  0.039430  0.084493 -0.058907  0.041129 -0.041035   \n3     0.028251 -0.037878  0.034004  0.074488  0.008779 -0.027154 -0.012630   \n4    -0.006240  0.011584 -0.047290  0.095525 -0.002575 -0.077631 -0.090518   \n...        ...       ...       ...       ...       ...       ...       ...   \n3175  0.047936 -0.024901  0.018558 -0.000389  0.032267 -0.109857  0.065948   \n3176  0.002972 -0.029953  0.052398  0.080780  0.036664 -0.094719 -0.029790   \n3177  0.015721 -0.066116  0.042122  0.063814  0.002575 -0.027617  0.005385   \n3178 -0.004031 -0.010030  0.046817  0.042863 -0.059085 -0.064276 -0.031612   \n3179 -0.009746 -0.048416  0.061078  0.028161 -0.053376 -0.056979 -0.037093   \n\n           383  \n0     0.032735  \n1     0.022973  \n2    -0.106831  \n3     0.000571  \n4     0.043476  \n...        ...  \n3175  0.012895  \n3176 -0.003033  \n3177  0.017316  \n3178 -0.012527  \n3179 -0.006811  \n\n[3180 rows x 385 columns]",
      "text/html": "<div>\n<style scoped>\n    .dataframe tbody tr th:only-of-type {\n        vertical-align: middle;\n    }\n\n    .dataframe tbody tr th {\n        vertical-align: top;\n    }\n\n    .dataframe thead th {\n        text-align: right;\n    }\n</style>\n<table border=\"1\" class=\"dataframe\">\n  <thead>\n    <tr style=\"text-align: right;\">\n      <th></th>\n      <th>category</th>\n      <th>0</th>\n      <th>1</th>\n      <th>2</th>\n      <th>3</th>\n      <th>4</th>\n      <th>5</th>\n      <th>6</th>\n      <th>7</th>\n      <th>8</th>\n      <th>...</th>\n      <th>374</th>\n      <th>375</th>\n      <th>376</th>\n      <th>377</th>\n      <th>378</th>\n      <th>379</th>\n      <th>380</th>\n      <th>381</th>\n      <th>382</th>\n      <th>383</th>\n    </tr>\n  </thead>\n  <tbody>\n    <tr>\n      <th>0</th>\n      <td>software+engineer</td>\n      <td>-0.067028</td>\n      <td>-0.037456</td>\n      <td>0.040710</td>\n      <td>-0.022643</td>\n      <td>-0.065919</td>\n      <td>-0.011505</td>\n      <td>0.014374</td>\n      <td>0.070613</td>\n      <td>-0.072635</td>\n      <td>...</td>\n      <td>0.073042</td>\n      <td>-0.004869</td>\n      <td>-0.012730</td>\n      <td>-0.012608</td>\n      <td>0.025585</td>\n      <td>0.136745</td>\n      <td>0.038581</td>\n      <td>-0.099147</td>\n      <td>0.001722</td>\n      <td>0.032735</td>\n    </tr>\n    <tr>\n      <th>1</th>\n      <td>software+engineer</td>\n      <td>-0.049825</td>\n      <td>-0.026897</td>\n      <td>-0.014653</td>\n      <td>-0.045330</td>\n      <td>-0.002588</td>\n      <td>-0.085351</td>\n      <td>-0.020295</td>\n      <td>-0.026342</td>\n      <td>-0.046522</td>\n      <td>...</td>\n      <td>0.153783</td>\n      <td>0.060030</td>\n      <td>0.053321</td>\n      <td>-0.115148</td>\n      <td>0.043106</td>\n      <td>0.170601</td>\n      <td>-0.040410</td>\n      <td>-0.039290</td>\n      <td>0.035469</td>\n      <td>0.022973</td>\n    </tr>\n    <tr>\n      <th>2</th>\n      <td>software+engineer</td>\n      <td>-0.109452</td>\n      <td>-0.018895</td>\n      <td>-0.011882</td>\n      <td>-0.049141</td>\n      <td>-0.065425</td>\n      <td>-0.020879</td>\n      <td>0.020536</td>\n      <td>0.049572</td>\n      <td>-0.068171</td>\n      <td>...</td>\n      <td>0.067979</td>\n      <td>0.060650</td>\n      <td>0.008373</td>\n      <td>-0.073202</td>\n      <td>0.039430</td>\n      <td>0.084493</td>\n      <td>-0.058907</td>\n      <td>0.041129</td>\n      <td>-0.041035</td>\n      <td>-0.106831</td>\n    </tr>\n    <tr>\n      <th>3</th>\n      <td>ui+ux</td>\n      <td>-0.059268</td>\n      <td>0.002888</td>\n      <td>0.038257</td>\n      <td>0.000755</td>\n      <td>-0.040839</td>\n      <td>0.018103</td>\n      <td>0.136779</td>\n      <td>0.048689</td>\n      <td>-0.019846</td>\n      <td>...</td>\n      <td>-0.003655</td>\n      <td>0.047657</td>\n      <td>0.028251</td>\n      <td>-0.037878</td>\n      <td>0.034004</td>\n      <td>0.074488</td>\n      <td>0.008779</td>\n      <td>-0.027154</td>\n      <td>-0.012630</td>\n      <td>0.000571</td>\n    </tr>\n    <tr>\n      <th>4</th>\n      <td>ui+ux</td>\n      <td>-0.012034</td>\n      <td>0.015511</td>\n      <td>-0.003249</td>\n      <td>-0.078507</td>\n      <td>0.065040</td>\n      <td>-0.028536</td>\n      <td>-0.031559</td>\n      <td>0.013882</td>\n      <td>0.022090</td>\n      <td>...</td>\n      <td>0.019392</td>\n      <td>0.086536</td>\n      <td>-0.006240</td>\n      <td>0.011584</td>\n      <td>-0.047290</td>\n      <td>0.095525</td>\n      <td>-0.002575</td>\n      <td>-0.077631</td>\n      <td>-0.090518</td>\n      <td>0.043476</td>\n    </tr>\n    <tr>\n      <th>...</th>\n      <td>...</td>\n      <td>...</td>\n      <td>...</td>\n      <td>...</td>\n      <td>...</td>\n      <td>...</td>\n      <td>...</td>\n      <td>...</td>\n      <td>...</td>\n      <td>...</td>\n      <td>...</td>\n      <td>...</td>\n      <td>...</td>\n      <td>...</td>\n      <td>...</td>\n      <td>...</td>\n      <td>...</td>\n      <td>...</td>\n      <td>...</td>\n      <td>...</td>\n      <td>...</td>\n    </tr>\n    <tr>\n      <th>3175</th>\n      <td>software+engineer</td>\n      <td>-0.079604</td>\n      <td>0.007492</td>\n      <td>-0.051706</td>\n      <td>-0.099018</td>\n      <td>-0.030773</td>\n      <td>-0.024738</td>\n      <td>-0.015718</td>\n      <td>0.143318</td>\n      <td>0.023419</td>\n      <td>...</td>\n      <td>0.076493</td>\n      <td>0.073352</td>\n      <td>0.047936</td>\n      <td>-0.024901</td>\n      <td>0.018558</td>\n      <td>-0.000389</td>\n      <td>0.032267</td>\n      <td>-0.109857</td>\n      <td>0.065948</td>\n      <td>0.012895</td>\n    </tr>\n    <tr>\n      <th>3176</th>\n      <td>cyber+security</td>\n      <td>-0.037670</td>\n      <td>0.031925</td>\n      <td>-0.013679</td>\n      <td>-0.005070</td>\n      <td>0.021368</td>\n      <td>0.001775</td>\n      <td>0.096207</td>\n      <td>0.094450</td>\n      <td>-0.042398</td>\n      <td>...</td>\n      <td>0.044399</td>\n      <td>0.110647</td>\n      <td>0.002972</td>\n      <td>-0.029953</td>\n      <td>0.052398</td>\n      <td>0.080780</td>\n      <td>0.036664</td>\n      <td>-0.094719</td>\n      <td>-0.029790</td>\n      <td>-0.003033</td>\n    </tr>\n    <tr>\n      <th>3177</th>\n      <td>ui+ux</td>\n      <td>-0.025617</td>\n      <td>0.061029</td>\n      <td>-0.011124</td>\n      <td>-0.026316</td>\n      <td>-0.066101</td>\n      <td>-0.050747</td>\n      <td>-0.006923</td>\n      <td>0.085535</td>\n      <td>-0.037942</td>\n      <td>...</td>\n      <td>0.042129</td>\n      <td>0.081157</td>\n      <td>0.015721</td>\n      <td>-0.066116</td>\n      <td>0.042122</td>\n      <td>0.063814</td>\n      <td>0.002575</td>\n      <td>-0.027617</td>\n      <td>0.005385</td>\n      <td>0.017316</td>\n    </tr>\n    <tr>\n      <th>3178</th>\n      <td>data+analyst</td>\n      <td>-0.060959</td>\n      <td>-0.039796</td>\n      <td>-0.022763</td>\n      <td>-0.039479</td>\n      <td>-0.041932</td>\n      <td>-0.040012</td>\n      <td>0.063920</td>\n      <td>0.067434</td>\n      <td>0.023722</td>\n      <td>...</td>\n      <td>0.052077</td>\n      <td>0.101755</td>\n      <td>-0.004031</td>\n      <td>-0.010030</td>\n      <td>0.046817</td>\n      <td>0.042863</td>\n      <td>-0.059085</td>\n      <td>-0.064276</td>\n      <td>-0.031612</td>\n      <td>-0.012527</td>\n    </tr>\n    <tr>\n      <th>3179</th>\n      <td>data+analyst</td>\n      <td>-0.017951</td>\n      <td>-0.031278</td>\n      <td>-0.015457</td>\n      <td>0.017326</td>\n      <td>-0.034570</td>\n      <td>-0.012818</td>\n      <td>-0.020433</td>\n      <td>0.001288</td>\n      <td>0.007926</td>\n      <td>...</td>\n      <td>0.030684</td>\n      <td>0.057024</td>\n      <td>-0.009746</td>\n      <td>-0.048416</td>\n      <td>0.061078</td>\n      <td>0.028161</td>\n      <td>-0.053376</td>\n      <td>-0.056979</td>\n      <td>-0.037093</td>\n      <td>-0.006811</td>\n    </tr>\n  </tbody>\n</table>\n<p>3180 rows × 385 columns</p>\n</div>"
     },
     "execution_count": 22,
     "metadata": {},
     "output_type": "execute_result"
    }
   ],
   "source": [
    "jd_train"
   ],
   "metadata": {
    "collapsed": false,
    "pycharm": {
     "name": "#%%\n"
    }
   }
  },
  {
   "cell_type": "code",
   "execution_count": 23,
   "outputs": [
    {
     "data": {
      "text/plain": "              category         0         1         2         3         4  \\\n0         data+analyst -0.067792 -0.039427 -0.044609  0.047954 -0.020255   \n1       cyber+security -0.031839 -0.009482 -0.023652 -0.019206  0.044170   \n2    software+engineer  0.000286  0.063366  0.006427 -0.068235  0.004449   \n3                ui+ux -0.057650  0.055610  0.026229 -0.047242 -0.035953   \n4                ui+ux -0.089035 -0.014104 -0.008340 -0.051578  0.020056   \n..                 ...       ...       ...       ...       ...       ...   \n790  software+engineer -0.022442 -0.005181  0.047044  0.003137  0.017104   \n791     cyber+security -0.055603  0.017493 -0.050230  0.006790  0.034947   \n792              ui+ux -0.015606 -0.037002 -0.006399 -0.027400  0.058740   \n793              ui+ux -0.106446 -0.016218  0.035964  0.002867  0.038787   \n794              ui+ux -0.119767 -0.027863  0.033039 -0.004046 -0.002165   \n\n            5         6         7         8  ...       374       375  \\\n0    0.046215  0.005775  0.025648 -0.049265  ... -0.005009  0.040230   \n1   -0.014529  0.033187  0.019848 -0.066667  ...  0.024783  0.006127   \n2   -0.010305  0.060434 -0.016027 -0.025250  ...  0.045451  0.042614   \n3   -0.046720  0.011318  0.081929 -0.048681  ...  0.061916  0.065591   \n4   -0.007032  0.044202  0.059013 -0.116712  ...  0.083643  0.001030   \n..        ...       ...       ...       ...  ...       ...       ...   \n790 -0.020445  0.032614 -0.009681 -0.021284  ...  0.108325  0.032602   \n791 -0.006445  0.067512 -0.005287  0.004463  ...  0.098699  0.018417   \n792  0.011265 -0.012748  0.020038 -0.022678  ... -0.017598  0.006824   \n793 -0.028620 -0.006793  0.039116 -0.063164  ...  0.030134  0.044736   \n794  0.016785  0.023750  0.040013 -0.031279  ... -0.030258  0.015186   \n\n          376       377       378       379       380       381       382  \\\n0   -0.025145  0.057344 -0.027139  0.044581  0.021295 -0.058819 -0.034744   \n1    0.019935 -0.044377  0.023766  0.079525  0.047992 -0.133125 -0.075094   \n2    0.058757 -0.078012  0.074350  0.160043  0.063957 -0.004549 -0.031632   \n3    0.013310 -0.060660  0.049816  0.041116 -0.045918  0.072459  0.037671   \n4    0.027071 -0.058678  0.040474  0.126645  0.022273 -0.124107 -0.037943   \n..        ...       ...       ...       ...       ...       ...       ...   \n790  0.049168 -0.024625 -0.012232  0.204267  0.024259 -0.055909 -0.024037   \n791  0.038070 -0.059501  0.065384  0.033054  0.055798 -0.029429  0.001252   \n792  0.028923  0.071740  0.012084  0.054748  0.011543 -0.043361 -0.041390   \n793  0.027246 -0.002019  0.009813  0.096749  0.042344 -0.058779 -0.027651   \n794 -0.003770 -0.005208  0.043938  0.073137  0.088555 -0.057850 -0.074761   \n\n          383  \n0    0.034043  \n1    0.007815  \n2    0.029312  \n3    0.065580  \n4    0.056573  \n..        ...  \n790  0.020142  \n791 -0.026993  \n792 -0.008505  \n793  0.083697  \n794 -0.016623  \n\n[795 rows x 385 columns]",
      "text/html": "<div>\n<style scoped>\n    .dataframe tbody tr th:only-of-type {\n        vertical-align: middle;\n    }\n\n    .dataframe tbody tr th {\n        vertical-align: top;\n    }\n\n    .dataframe thead th {\n        text-align: right;\n    }\n</style>\n<table border=\"1\" class=\"dataframe\">\n  <thead>\n    <tr style=\"text-align: right;\">\n      <th></th>\n      <th>category</th>\n      <th>0</th>\n      <th>1</th>\n      <th>2</th>\n      <th>3</th>\n      <th>4</th>\n      <th>5</th>\n      <th>6</th>\n      <th>7</th>\n      <th>8</th>\n      <th>...</th>\n      <th>374</th>\n      <th>375</th>\n      <th>376</th>\n      <th>377</th>\n      <th>378</th>\n      <th>379</th>\n      <th>380</th>\n      <th>381</th>\n      <th>382</th>\n      <th>383</th>\n    </tr>\n  </thead>\n  <tbody>\n    <tr>\n      <th>0</th>\n      <td>data+analyst</td>\n      <td>-0.067792</td>\n      <td>-0.039427</td>\n      <td>-0.044609</td>\n      <td>0.047954</td>\n      <td>-0.020255</td>\n      <td>0.046215</td>\n      <td>0.005775</td>\n      <td>0.025648</td>\n      <td>-0.049265</td>\n      <td>...</td>\n      <td>-0.005009</td>\n      <td>0.040230</td>\n      <td>-0.025145</td>\n      <td>0.057344</td>\n      <td>-0.027139</td>\n      <td>0.044581</td>\n      <td>0.021295</td>\n      <td>-0.058819</td>\n      <td>-0.034744</td>\n      <td>0.034043</td>\n    </tr>\n    <tr>\n      <th>1</th>\n      <td>cyber+security</td>\n      <td>-0.031839</td>\n      <td>-0.009482</td>\n      <td>-0.023652</td>\n      <td>-0.019206</td>\n      <td>0.044170</td>\n      <td>-0.014529</td>\n      <td>0.033187</td>\n      <td>0.019848</td>\n      <td>-0.066667</td>\n      <td>...</td>\n      <td>0.024783</td>\n      <td>0.006127</td>\n      <td>0.019935</td>\n      <td>-0.044377</td>\n      <td>0.023766</td>\n      <td>0.079525</td>\n      <td>0.047992</td>\n      <td>-0.133125</td>\n      <td>-0.075094</td>\n      <td>0.007815</td>\n    </tr>\n    <tr>\n      <th>2</th>\n      <td>software+engineer</td>\n      <td>0.000286</td>\n      <td>0.063366</td>\n      <td>0.006427</td>\n      <td>-0.068235</td>\n      <td>0.004449</td>\n      <td>-0.010305</td>\n      <td>0.060434</td>\n      <td>-0.016027</td>\n      <td>-0.025250</td>\n      <td>...</td>\n      <td>0.045451</td>\n      <td>0.042614</td>\n      <td>0.058757</td>\n      <td>-0.078012</td>\n      <td>0.074350</td>\n      <td>0.160043</td>\n      <td>0.063957</td>\n      <td>-0.004549</td>\n      <td>-0.031632</td>\n      <td>0.029312</td>\n    </tr>\n    <tr>\n      <th>3</th>\n      <td>ui+ux</td>\n      <td>-0.057650</td>\n      <td>0.055610</td>\n      <td>0.026229</td>\n      <td>-0.047242</td>\n      <td>-0.035953</td>\n      <td>-0.046720</td>\n      <td>0.011318</td>\n      <td>0.081929</td>\n      <td>-0.048681</td>\n      <td>...</td>\n      <td>0.061916</td>\n      <td>0.065591</td>\n      <td>0.013310</td>\n      <td>-0.060660</td>\n      <td>0.049816</td>\n      <td>0.041116</td>\n      <td>-0.045918</td>\n      <td>0.072459</td>\n      <td>0.037671</td>\n      <td>0.065580</td>\n    </tr>\n    <tr>\n      <th>4</th>\n      <td>ui+ux</td>\n      <td>-0.089035</td>\n      <td>-0.014104</td>\n      <td>-0.008340</td>\n      <td>-0.051578</td>\n      <td>0.020056</td>\n      <td>-0.007032</td>\n      <td>0.044202</td>\n      <td>0.059013</td>\n      <td>-0.116712</td>\n      <td>...</td>\n      <td>0.083643</td>\n      <td>0.001030</td>\n      <td>0.027071</td>\n      <td>-0.058678</td>\n      <td>0.040474</td>\n      <td>0.126645</td>\n      <td>0.022273</td>\n      <td>-0.124107</td>\n      <td>-0.037943</td>\n      <td>0.056573</td>\n    </tr>\n    <tr>\n      <th>...</th>\n      <td>...</td>\n      <td>...</td>\n      <td>...</td>\n      <td>...</td>\n      <td>...</td>\n      <td>...</td>\n      <td>...</td>\n      <td>...</td>\n      <td>...</td>\n      <td>...</td>\n      <td>...</td>\n      <td>...</td>\n      <td>...</td>\n      <td>...</td>\n      <td>...</td>\n      <td>...</td>\n      <td>...</td>\n      <td>...</td>\n      <td>...</td>\n      <td>...</td>\n      <td>...</td>\n    </tr>\n    <tr>\n      <th>790</th>\n      <td>software+engineer</td>\n      <td>-0.022442</td>\n      <td>-0.005181</td>\n      <td>0.047044</td>\n      <td>0.003137</td>\n      <td>0.017104</td>\n      <td>-0.020445</td>\n      <td>0.032614</td>\n      <td>-0.009681</td>\n      <td>-0.021284</td>\n      <td>...</td>\n      <td>0.108325</td>\n      <td>0.032602</td>\n      <td>0.049168</td>\n      <td>-0.024625</td>\n      <td>-0.012232</td>\n      <td>0.204267</td>\n      <td>0.024259</td>\n      <td>-0.055909</td>\n      <td>-0.024037</td>\n      <td>0.020142</td>\n    </tr>\n    <tr>\n      <th>791</th>\n      <td>cyber+security</td>\n      <td>-0.055603</td>\n      <td>0.017493</td>\n      <td>-0.050230</td>\n      <td>0.006790</td>\n      <td>0.034947</td>\n      <td>-0.006445</td>\n      <td>0.067512</td>\n      <td>-0.005287</td>\n      <td>0.004463</td>\n      <td>...</td>\n      <td>0.098699</td>\n      <td>0.018417</td>\n      <td>0.038070</td>\n      <td>-0.059501</td>\n      <td>0.065384</td>\n      <td>0.033054</td>\n      <td>0.055798</td>\n      <td>-0.029429</td>\n      <td>0.001252</td>\n      <td>-0.026993</td>\n    </tr>\n    <tr>\n      <th>792</th>\n      <td>ui+ux</td>\n      <td>-0.015606</td>\n      <td>-0.037002</td>\n      <td>-0.006399</td>\n      <td>-0.027400</td>\n      <td>0.058740</td>\n      <td>0.011265</td>\n      <td>-0.012748</td>\n      <td>0.020038</td>\n      <td>-0.022678</td>\n      <td>...</td>\n      <td>-0.017598</td>\n      <td>0.006824</td>\n      <td>0.028923</td>\n      <td>0.071740</td>\n      <td>0.012084</td>\n      <td>0.054748</td>\n      <td>0.011543</td>\n      <td>-0.043361</td>\n      <td>-0.041390</td>\n      <td>-0.008505</td>\n    </tr>\n    <tr>\n      <th>793</th>\n      <td>ui+ux</td>\n      <td>-0.106446</td>\n      <td>-0.016218</td>\n      <td>0.035964</td>\n      <td>0.002867</td>\n      <td>0.038787</td>\n      <td>-0.028620</td>\n      <td>-0.006793</td>\n      <td>0.039116</td>\n      <td>-0.063164</td>\n      <td>...</td>\n      <td>0.030134</td>\n      <td>0.044736</td>\n      <td>0.027246</td>\n      <td>-0.002019</td>\n      <td>0.009813</td>\n      <td>0.096749</td>\n      <td>0.042344</td>\n      <td>-0.058779</td>\n      <td>-0.027651</td>\n      <td>0.083697</td>\n    </tr>\n    <tr>\n      <th>794</th>\n      <td>ui+ux</td>\n      <td>-0.119767</td>\n      <td>-0.027863</td>\n      <td>0.033039</td>\n      <td>-0.004046</td>\n      <td>-0.002165</td>\n      <td>0.016785</td>\n      <td>0.023750</td>\n      <td>0.040013</td>\n      <td>-0.031279</td>\n      <td>...</td>\n      <td>-0.030258</td>\n      <td>0.015186</td>\n      <td>-0.003770</td>\n      <td>-0.005208</td>\n      <td>0.043938</td>\n      <td>0.073137</td>\n      <td>0.088555</td>\n      <td>-0.057850</td>\n      <td>-0.074761</td>\n      <td>-0.016623</td>\n    </tr>\n  </tbody>\n</table>\n<p>795 rows × 385 columns</p>\n</div>"
     },
     "execution_count": 23,
     "metadata": {},
     "output_type": "execute_result"
    }
   ],
   "source": [
    "jd_test"
   ],
   "metadata": {
    "collapsed": false,
    "pycharm": {
     "name": "#%%\n"
    }
   }
  },
  {
   "cell_type": "markdown",
   "source": [
    "## Splitting Dataset into Features and Target Vectors"
   ],
   "metadata": {
    "collapsed": false,
    "pycharm": {
     "name": "#%% md\n"
    }
   }
  },
  {
   "cell_type": "code",
   "execution_count": 24,
   "outputs": [],
   "source": [
    "jd_train_X = jd_train.iloc[:, 1:]\n",
    "jd_train_y = jd_train[[\"category\"]]\n",
    "\n",
    "jd_test_X = jd_test.iloc[:, 1:]\n",
    "jd_test_y = jd_test[[\"category\"]]"
   ],
   "metadata": {
    "collapsed": false,
    "pycharm": {
     "name": "#%%\n"
    }
   }
  },
  {
   "cell_type": "code",
   "execution_count": 25,
   "outputs": [
    {
     "data": {
      "text/plain": "category         \ncyber+security       212\nsoftware+engineer    211\nui+ux                200\ndata+analyst         172\ndtype: int64"
     },
     "execution_count": 25,
     "metadata": {},
     "output_type": "execute_result"
    }
   ],
   "source": [
    "jd_test_y.value_counts()"
   ],
   "metadata": {
    "collapsed": false,
    "pycharm": {
     "name": "#%%\n"
    }
   }
  },
  {
   "cell_type": "markdown",
   "source": [
    "### Encoding Target Variables"
   ],
   "metadata": {
    "collapsed": false,
    "pycharm": {
     "name": "#%% md\n"
    }
   }
  },
  {
   "cell_type": "code",
   "execution_count": 26,
   "outputs": [],
   "source": [
    "enc = OneHotEncoder(sparse=False)\n",
    "enc.fit(jd_train_y);"
   ],
   "metadata": {
    "collapsed": false,
    "pycharm": {
     "name": "#%%\n"
    }
   }
  },
  {
   "cell_type": "code",
   "execution_count": 27,
   "outputs": [],
   "source": [
    "jd_train_y = enc.transform(jd_train_y)\n",
    "jd_test_y = enc.transform(jd_test_y)"
   ],
   "metadata": {
    "collapsed": false,
    "pycharm": {
     "name": "#%%\n"
    }
   }
  },
  {
   "cell_type": "markdown",
   "source": [
    "### RNN Model creation and training"
   ],
   "metadata": {
    "collapsed": false,
    "pycharm": {
     "name": "#%% md\n"
    }
   }
  },
  {
   "cell_type": "code",
   "execution_count": 28,
   "outputs": [],
   "source": [
    "model = tf.keras.Sequential([\n",
    "    tf.keras.layers.Bidirectional(tf.keras.layers.LSTM(64), input_shape=(384, 1)),\n",
    "    tf.keras.layers.Dense(32, activation='relu'),\n",
    "    tf.keras.layers.Dense(4, activation='softmax')\n",
    "])"
   ],
   "metadata": {
    "collapsed": false,
    "pycharm": {
     "name": "#%%\n"
    }
   }
  },
  {
   "cell_type": "code",
   "execution_count": 29,
   "outputs": [],
   "source": [
    "model.compile(loss=tf.keras.losses.CategoricalCrossentropy(),\n",
    "              optimizer=tf.keras.optimizers.Adam(1e-4),\n",
    "              metrics=['accuracy', tf.keras.metrics.Recall(), tf.keras.metrics.Precision()])"
   ],
   "metadata": {
    "collapsed": false,
    "pycharm": {
     "name": "#%%\n"
    }
   }
  },
  {
   "cell_type": "code",
   "execution_count": 30,
   "outputs": [
    {
     "name": "stdout",
     "output_type": "stream",
     "text": [
      "Epoch 1/100\n"
     ]
    },
    {
     "name": "stderr",
     "output_type": "stream",
     "text": [
      "2023-03-31 17:32:11.153423: I tensorflow/core/grappler/optimizers/custom_graph_optimizer_registry.cc:113] Plugin optimizer for device_type GPU is enabled.\n",
      "2023-03-31 17:32:11.447126: I tensorflow/core/grappler/optimizers/custom_graph_optimizer_registry.cc:113] Plugin optimizer for device_type GPU is enabled.\n",
      "2023-03-31 17:32:11.447191: I tensorflow/core/grappler/optimizers/custom_graph_optimizer_registry.cc:113] Plugin optimizer for device_type GPU is enabled.\n",
      "2023-03-31 17:32:12.396125: I tensorflow/core/grappler/optimizers/custom_graph_optimizer_registry.cc:113] Plugin optimizer for device_type GPU is enabled.\n",
      "2023-03-31 17:32:12.411854: I tensorflow/core/grappler/optimizers/custom_graph_optimizer_registry.cc:113] Plugin optimizer for device_type GPU is enabled.\n"
     ]
    },
    {
     "name": "stdout",
     "output_type": "stream",
     "text": [
      "100/100 [==============================] - ETA: 0s - loss: 1.3847 - accuracy: 0.3258 - recall_1: 0.0000e+00 - precision_1: 0.0000e+00"
     ]
    },
    {
     "name": "stderr",
     "output_type": "stream",
     "text": [
      "2023-03-31 17:32:31.633751: I tensorflow/core/grappler/optimizers/custom_graph_optimizer_registry.cc:113] Plugin optimizer for device_type GPU is enabled.\n",
      "2023-03-31 17:32:31.748790: I tensorflow/core/grappler/optimizers/custom_graph_optimizer_registry.cc:113] Plugin optimizer for device_type GPU is enabled.\n",
      "2023-03-31 17:32:31.748819: I tensorflow/core/grappler/optimizers/custom_graph_optimizer_registry.cc:113] Plugin optimizer for device_type GPU is enabled.\n"
     ]
    },
    {
     "name": "stdout",
     "output_type": "stream",
     "text": [
      "100/100 [==============================] - 26s 220ms/step - loss: 1.3847 - accuracy: 0.3258 - recall_1: 0.0000e+00 - precision_1: 0.0000e+00 - val_loss: 1.3834 - val_accuracy: 0.3635 - val_recall_1: 0.0000e+00 - val_precision_1: 0.0000e+00\n",
      "Epoch 2/100\n",
      "100/100 [==============================] - 17s 170ms/step - loss: 1.3804 - accuracy: 0.3903 - recall_1: 0.0000e+00 - precision_1: 0.0000e+00 - val_loss: 1.3737 - val_accuracy: 0.4843 - val_recall_1: 0.0000e+00 - val_precision_1: 0.0000e+00\n",
      "Epoch 3/100\n",
      "100/100 [==============================] - 17s 171ms/step - loss: 1.3354 - accuracy: 0.4179 - recall_1: 0.0000e+00 - precision_1: 0.0000e+00 - val_loss: 1.2933 - val_accuracy: 0.3899 - val_recall_1: 0.0013 - val_precision_1: 1.0000\n",
      "Epoch 4/100\n",
      "100/100 [==============================] - 17s 169ms/step - loss: 1.2707 - accuracy: 0.3758 - recall_1: 0.0324 - precision_1: 0.8240 - val_loss: 1.2530 - val_accuracy: 0.3925 - val_recall_1: 0.0591 - val_precision_1: 0.8393\n",
      "Epoch 5/100\n",
      "100/100 [==============================] - 17s 169ms/step - loss: 1.2359 - accuracy: 0.3852 - recall_1: 0.0704 - precision_1: 0.7568 - val_loss: 1.2145 - val_accuracy: 0.4604 - val_recall_1: 0.1082 - val_precision_1: 0.8687\n",
      "Epoch 6/100\n",
      "100/100 [==============================] - 17s 172ms/step - loss: 1.2186 - accuracy: 0.3975 - recall_1: 0.0959 - precision_1: 0.7262 - val_loss: 1.2059 - val_accuracy: 0.4566 - val_recall_1: 0.1094 - val_precision_1: 0.8131\n",
      "Epoch 7/100\n",
      "100/100 [==============================] - 18s 177ms/step - loss: 1.2066 - accuracy: 0.4431 - recall_1: 0.0984 - precision_1: 0.7212 - val_loss: 1.1875 - val_accuracy: 0.4566 - val_recall_1: 0.1132 - val_precision_1: 0.7692\n",
      "Epoch 8/100\n",
      "100/100 [==============================] - 18s 181ms/step - loss: 1.1931 - accuracy: 0.4387 - recall_1: 0.1082 - precision_1: 0.7273 - val_loss: 1.1770 - val_accuracy: 0.4189 - val_recall_1: 0.0994 - val_precision_1: 0.8061\n",
      "Epoch 9/100\n",
      "100/100 [==============================] - 18s 182ms/step - loss: 1.1667 - accuracy: 0.4434 - recall_1: 0.1211 - precision_1: 0.7077 - val_loss: 1.1659 - val_accuracy: 0.4679 - val_recall_1: 0.0994 - val_precision_1: 0.7315\n",
      "Epoch 10/100\n",
      "100/100 [==============================] - 18s 183ms/step - loss: 1.1499 - accuracy: 0.4390 - recall_1: 0.1274 - precision_1: 0.7284 - val_loss: 1.1172 - val_accuracy: 0.4717 - val_recall_1: 0.1597 - val_precision_1: 0.7135\n",
      "Epoch 11/100\n",
      "100/100 [==============================] - 18s 183ms/step - loss: 1.1316 - accuracy: 0.4547 - recall_1: 0.1381 - precision_1: 0.7317 - val_loss: 1.1157 - val_accuracy: 0.4553 - val_recall_1: 0.1660 - val_precision_1: 0.6701\n",
      "Epoch 12/100\n",
      "100/100 [==============================] - 18s 181ms/step - loss: 1.1628 - accuracy: 0.4462 - recall_1: 0.1286 - precision_1: 0.6980 - val_loss: 1.1577 - val_accuracy: 0.4881 - val_recall_1: 0.1384 - val_precision_1: 0.7746\n",
      "Epoch 13/100\n",
      "100/100 [==============================] - 18s 182ms/step - loss: 1.1479 - accuracy: 0.4597 - recall_1: 0.1365 - precision_1: 0.7185 - val_loss: 1.1573 - val_accuracy: 0.4667 - val_recall_1: 0.1623 - val_precision_1: 0.7011\n",
      "Epoch 14/100\n",
      "100/100 [==============================] - 18s 180ms/step - loss: 1.1402 - accuracy: 0.4789 - recall_1: 0.1409 - precision_1: 0.7226 - val_loss: 1.1359 - val_accuracy: 0.4679 - val_recall_1: 0.1610 - val_precision_1: 0.7111\n",
      "Epoch 15/100\n",
      "100/100 [==============================] - 18s 181ms/step - loss: 1.1060 - accuracy: 0.5019 - recall_1: 0.1588 - precision_1: 0.6937 - val_loss: 1.0572 - val_accuracy: 0.5082 - val_recall_1: 0.2264 - val_precision_1: 0.6522\n",
      "Epoch 16/100\n",
      "100/100 [==============================] - 18s 181ms/step - loss: 1.0871 - accuracy: 0.4843 - recall_1: 0.1881 - precision_1: 0.6850 - val_loss: 1.0412 - val_accuracy: 0.5233 - val_recall_1: 0.2176 - val_precision_1: 0.7489\n",
      "Epoch 17/100\n",
      "100/100 [==============================] - 18s 182ms/step - loss: 1.0623 - accuracy: 0.5157 - recall_1: 0.2132 - precision_1: 0.6947 - val_loss: 1.0558 - val_accuracy: 0.5094 - val_recall_1: 0.2189 - val_precision_1: 0.6744\n",
      "Epoch 18/100\n",
      "100/100 [==============================] - 18s 182ms/step - loss: 1.0656 - accuracy: 0.5170 - recall_1: 0.2126 - precision_1: 0.7138 - val_loss: 1.0131 - val_accuracy: 0.5145 - val_recall_1: 0.2566 - val_precision_1: 0.7312\n",
      "Epoch 19/100\n",
      "100/100 [==============================] - 18s 182ms/step - loss: 1.0663 - accuracy: 0.5050 - recall_1: 0.2252 - precision_1: 0.6826 - val_loss: 1.1254 - val_accuracy: 0.5069 - val_recall_1: 0.1409 - val_precision_1: 0.7887\n",
      "Epoch 20/100\n",
      "100/100 [==============================] - 18s 182ms/step - loss: 1.1135 - accuracy: 0.4981 - recall_1: 0.1566 - precision_1: 0.7466 - val_loss: 1.1063 - val_accuracy: 0.5409 - val_recall_1: 0.1560 - val_precision_1: 0.7949\n",
      "Epoch 21/100\n",
      "100/100 [==============================] - 17s 173ms/step - loss: 1.0947 - accuracy: 0.5349 - recall_1: 0.1585 - precision_1: 0.7489 - val_loss: 1.0733 - val_accuracy: 0.5711 - val_recall_1: 0.1623 - val_precision_1: 0.7914\n",
      "Epoch 22/100\n",
      "100/100 [==============================] - 17s 172ms/step - loss: 1.0426 - accuracy: 0.5220 - recall_1: 0.2000 - precision_1: 0.7219 - val_loss: 1.0152 - val_accuracy: 0.5409 - val_recall_1: 0.2629 - val_precision_1: 0.6593\n",
      "Epoch 23/100\n",
      "100/100 [==============================] - 17s 173ms/step - loss: 1.0216 - accuracy: 0.5453 - recall_1: 0.2667 - precision_1: 0.7061 - val_loss: 0.9886 - val_accuracy: 0.5069 - val_recall_1: 0.2742 - val_precision_1: 0.7010\n",
      "Epoch 24/100\n",
      "100/100 [==============================] - 17s 172ms/step - loss: 1.0617 - accuracy: 0.5198 - recall_1: 0.1969 - precision_1: 0.7081 - val_loss: 1.0068 - val_accuracy: 0.5145 - val_recall_1: 0.2088 - val_precision_1: 0.7444\n",
      "Epoch 25/100\n",
      "100/100 [==============================] - 17s 172ms/step - loss: 1.0093 - accuracy: 0.5346 - recall_1: 0.2503 - precision_1: 0.7230 - val_loss: 0.9871 - val_accuracy: 0.5384 - val_recall_1: 0.3019 - val_precision_1: 0.7080\n",
      "Epoch 26/100\n",
      "100/100 [==============================] - 17s 172ms/step - loss: 0.9934 - accuracy: 0.5478 - recall_1: 0.2899 - precision_1: 0.7181 - val_loss: 0.9647 - val_accuracy: 0.5296 - val_recall_1: 0.2881 - val_precision_1: 0.7363\n",
      "Epoch 27/100\n",
      "100/100 [==============================] - 17s 173ms/step - loss: 0.9893 - accuracy: 0.5535 - recall_1: 0.2887 - precision_1: 0.7368 - val_loss: 0.9662 - val_accuracy: 0.5384 - val_recall_1: 0.2893 - val_precision_1: 0.7395\n",
      "Epoch 28/100\n",
      "100/100 [==============================] - 17s 174ms/step - loss: 0.9760 - accuracy: 0.5610 - recall_1: 0.3164 - precision_1: 0.7413 - val_loss: 0.9628 - val_accuracy: 0.5396 - val_recall_1: 0.3182 - val_precision_1: 0.7312\n",
      "Epoch 29/100\n",
      "100/100 [==============================] - 18s 175ms/step - loss: 0.9836 - accuracy: 0.5629 - recall_1: 0.3000 - precision_1: 0.7344 - val_loss: 0.9482 - val_accuracy: 0.5497 - val_recall_1: 0.3132 - val_precision_1: 0.7709\n",
      "Epoch 30/100\n",
      "100/100 [==============================] - 18s 176ms/step - loss: 0.9593 - accuracy: 0.5758 - recall_1: 0.3390 - precision_1: 0.7409 - val_loss: 0.9325 - val_accuracy: 0.5673 - val_recall_1: 0.3547 - val_precision_1: 0.7581\n",
      "Epoch 31/100\n",
      "100/100 [==============================] - 18s 177ms/step - loss: 0.9532 - accuracy: 0.5855 - recall_1: 0.3421 - precision_1: 0.7571 - val_loss: 0.9615 - val_accuracy: 0.5673 - val_recall_1: 0.3484 - val_precision_1: 0.7347\n",
      "Epoch 32/100\n",
      "100/100 [==============================] - 18s 183ms/step - loss: 0.9436 - accuracy: 0.5947 - recall_1: 0.3648 - precision_1: 0.7498 - val_loss: 0.9277 - val_accuracy: 0.5761 - val_recall_1: 0.3497 - val_precision_1: 0.7658\n",
      "Epoch 33/100\n",
      "100/100 [==============================] - 19s 186ms/step - loss: 0.9370 - accuracy: 0.5943 - recall_1: 0.3805 - precision_1: 0.7383 - val_loss: 0.9404 - val_accuracy: 0.5824 - val_recall_1: 0.3560 - val_precision_1: 0.7649\n",
      "Epoch 34/100\n",
      "100/100 [==============================] - 19s 185ms/step - loss: 0.9401 - accuracy: 0.6009 - recall_1: 0.3789 - precision_1: 0.7550 - val_loss: 0.9221 - val_accuracy: 0.5862 - val_recall_1: 0.3899 - val_precision_1: 0.7470\n",
      "Epoch 35/100\n",
      "100/100 [==============================] - 18s 184ms/step - loss: 0.9246 - accuracy: 0.6013 - recall_1: 0.3865 - precision_1: 0.7395 - val_loss: 0.9037 - val_accuracy: 0.6088 - val_recall_1: 0.3874 - val_precision_1: 0.7624\n",
      "Epoch 36/100\n",
      "100/100 [==============================] - 19s 186ms/step - loss: 0.9237 - accuracy: 0.6104 - recall_1: 0.3956 - precision_1: 0.7606 - val_loss: 0.9043 - val_accuracy: 0.6138 - val_recall_1: 0.3962 - val_precision_1: 0.7360\n",
      "Epoch 37/100\n",
      "100/100 [==============================] - 19s 186ms/step - loss: 0.9222 - accuracy: 0.6138 - recall_1: 0.3965 - precision_1: 0.7546 - val_loss: 0.8974 - val_accuracy: 0.6075 - val_recall_1: 0.4138 - val_precision_1: 0.7633\n",
      "Epoch 38/100\n",
      "100/100 [==============================] - 19s 186ms/step - loss: 0.9200 - accuracy: 0.6170 - recall_1: 0.4031 - precision_1: 0.7458 - val_loss: 0.8930 - val_accuracy: 0.6302 - val_recall_1: 0.4528 - val_precision_1: 0.7595\n",
      "Epoch 39/100\n",
      "100/100 [==============================] - 19s 190ms/step - loss: 0.9153 - accuracy: 0.6189 - recall_1: 0.4148 - precision_1: 0.7529 - val_loss: 0.9376 - val_accuracy: 0.5811 - val_recall_1: 0.4403 - val_precision_1: 0.6757\n",
      "Epoch 40/100\n",
      "100/100 [==============================] - 19s 187ms/step - loss: 0.9101 - accuracy: 0.6198 - recall_1: 0.4274 - precision_1: 0.7601 - val_loss: 0.8916 - val_accuracy: 0.6138 - val_recall_1: 0.4528 - val_precision_1: 0.7438\n",
      "Epoch 41/100\n",
      "100/100 [==============================] - 18s 180ms/step - loss: 0.9177 - accuracy: 0.6164 - recall_1: 0.4192 - precision_1: 0.7439 - val_loss: 0.9029 - val_accuracy: 0.5937 - val_recall_1: 0.4314 - val_precision_1: 0.7313\n",
      "Epoch 42/100\n",
      "100/100 [==============================] - 18s 185ms/step - loss: 0.9344 - accuracy: 0.6053 - recall_1: 0.3991 - precision_1: 0.7268 - val_loss: 0.9188 - val_accuracy: 0.5899 - val_recall_1: 0.4025 - val_precision_1: 0.7323\n",
      "Epoch 43/100\n",
      "100/100 [==============================] - 18s 180ms/step - loss: 0.9107 - accuracy: 0.6154 - recall_1: 0.4292 - precision_1: 0.7537 - val_loss: 0.8999 - val_accuracy: 0.6000 - val_recall_1: 0.4767 - val_precision_1: 0.7178\n",
      "Epoch 44/100\n",
      "100/100 [==============================] - 17s 174ms/step - loss: 0.9174 - accuracy: 0.6230 - recall_1: 0.4214 - precision_1: 0.7424 - val_loss: 0.8960 - val_accuracy: 0.6075 - val_recall_1: 0.4377 - val_precision_1: 0.7532\n",
      "Epoch 45/100\n",
      "100/100 [==============================] - 18s 175ms/step - loss: 0.8991 - accuracy: 0.6333 - recall_1: 0.4484 - precision_1: 0.7541 - val_loss: 0.8835 - val_accuracy: 0.6189 - val_recall_1: 0.4503 - val_precision_1: 0.7381\n",
      "Epoch 46/100\n",
      "100/100 [==============================] - 17s 173ms/step - loss: 0.8991 - accuracy: 0.6299 - recall_1: 0.4481 - precision_1: 0.7391 - val_loss: 0.8880 - val_accuracy: 0.6390 - val_recall_1: 0.4465 - val_precision_1: 0.7458\n",
      "Epoch 47/100\n",
      "100/100 [==============================] - 17s 174ms/step - loss: 0.8969 - accuracy: 0.6358 - recall_1: 0.4481 - precision_1: 0.7596 - val_loss: 0.8673 - val_accuracy: 0.6352 - val_recall_1: 0.4792 - val_precision_1: 0.7515\n",
      "Epoch 48/100\n",
      "100/100 [==============================] - 18s 176ms/step - loss: 0.8968 - accuracy: 0.6352 - recall_1: 0.4569 - precision_1: 0.7444 - val_loss: 0.8810 - val_accuracy: 0.6239 - val_recall_1: 0.4805 - val_precision_1: 0.7318\n",
      "Epoch 49/100\n",
      "100/100 [==============================] - 17s 173ms/step - loss: 0.8850 - accuracy: 0.6428 - recall_1: 0.4745 - precision_1: 0.7522 - val_loss: 0.8691 - val_accuracy: 0.6289 - val_recall_1: 0.4931 - val_precision_1: 0.7341\n",
      "Epoch 50/100\n",
      "100/100 [==============================] - 18s 176ms/step - loss: 0.8859 - accuracy: 0.6415 - recall_1: 0.4824 - precision_1: 0.7450 - val_loss: 0.8602 - val_accuracy: 0.6415 - val_recall_1: 0.4931 - val_precision_1: 0.7524\n",
      "Epoch 51/100\n",
      "100/100 [==============================] - 19s 185ms/step - loss: 0.8948 - accuracy: 0.6311 - recall_1: 0.4610 - precision_1: 0.7461 - val_loss: 0.8621 - val_accuracy: 0.6377 - val_recall_1: 0.5119 - val_precision_1: 0.7427\n",
      "Epoch 52/100\n",
      "100/100 [==============================] - 17s 174ms/step - loss: 0.8789 - accuracy: 0.6465 - recall_1: 0.4896 - precision_1: 0.7504 - val_loss: 0.8679 - val_accuracy: 0.6428 - val_recall_1: 0.4604 - val_precision_1: 0.7409\n",
      "Epoch 53/100\n",
      "100/100 [==============================] - 18s 176ms/step - loss: 0.8807 - accuracy: 0.6462 - recall_1: 0.4770 - precision_1: 0.7566 - val_loss: 0.8751 - val_accuracy: 0.6415 - val_recall_1: 0.4742 - val_precision_1: 0.7586\n",
      "Epoch 54/100\n",
      "100/100 [==============================] - 19s 186ms/step - loss: 0.8807 - accuracy: 0.6374 - recall_1: 0.4881 - precision_1: 0.7519 - val_loss: 0.8678 - val_accuracy: 0.6252 - val_recall_1: 0.5170 - val_precision_1: 0.7249\n",
      "Epoch 55/100\n",
      "100/100 [==============================] - 17s 174ms/step - loss: 0.8880 - accuracy: 0.6371 - recall_1: 0.4840 - precision_1: 0.7449 - val_loss: 0.8598 - val_accuracy: 0.6579 - val_recall_1: 0.5082 - val_precision_1: 0.7481\n",
      "Epoch 56/100\n",
      "100/100 [==============================] - 18s 180ms/step - loss: 0.8842 - accuracy: 0.6349 - recall_1: 0.4836 - precision_1: 0.7430 - val_loss: 0.8705 - val_accuracy: 0.6453 - val_recall_1: 0.4843 - val_precision_1: 0.8021\n",
      "Epoch 57/100\n",
      "100/100 [==============================] - 18s 179ms/step - loss: 0.8857 - accuracy: 0.6390 - recall_1: 0.4814 - precision_1: 0.7472 - val_loss: 0.8651 - val_accuracy: 0.6440 - val_recall_1: 0.4881 - val_precision_1: 0.7854\n",
      "Epoch 58/100\n",
      "100/100 [==============================] - 18s 179ms/step - loss: 0.8718 - accuracy: 0.6475 - recall_1: 0.4921 - precision_1: 0.7510 - val_loss: 0.8710 - val_accuracy: 0.6553 - val_recall_1: 0.4868 - val_precision_1: 0.7559\n",
      "Epoch 59/100\n",
      "100/100 [==============================] - 18s 178ms/step - loss: 0.8776 - accuracy: 0.6321 - recall_1: 0.4975 - precision_1: 0.7537 - val_loss: 0.8643 - val_accuracy: 0.6528 - val_recall_1: 0.5208 - val_precision_1: 0.7327\n",
      "Epoch 60/100\n",
      "100/100 [==============================] - 18s 176ms/step - loss: 0.8818 - accuracy: 0.6321 - recall_1: 0.4871 - precision_1: 0.7369 - val_loss: 0.8634 - val_accuracy: 0.6377 - val_recall_1: 0.5094 - val_precision_1: 0.7570\n",
      "Epoch 61/100\n",
      "100/100 [==============================] - 18s 185ms/step - loss: 0.8724 - accuracy: 0.6428 - recall_1: 0.5041 - precision_1: 0.7526 - val_loss: 0.8847 - val_accuracy: 0.6126 - val_recall_1: 0.4692 - val_precision_1: 0.7229\n",
      "Epoch 62/100\n",
      "100/100 [==============================] - 18s 183ms/step - loss: 0.8751 - accuracy: 0.6336 - recall_1: 0.4836 - precision_1: 0.7376 - val_loss: 0.8638 - val_accuracy: 0.6390 - val_recall_1: 0.4956 - val_precision_1: 0.7392\n",
      "Epoch 63/100\n",
      "100/100 [==============================] - 19s 187ms/step - loss: 0.8625 - accuracy: 0.6588 - recall_1: 0.5085 - precision_1: 0.7624 - val_loss: 0.8568 - val_accuracy: 0.6340 - val_recall_1: 0.5434 - val_precision_1: 0.7385\n",
      "Epoch 64/100\n",
      "100/100 [==============================] - 19s 188ms/step - loss: 0.8622 - accuracy: 0.6513 - recall_1: 0.5201 - precision_1: 0.7474 - val_loss: 0.8435 - val_accuracy: 0.6654 - val_recall_1: 0.5157 - val_precision_1: 0.7607\n",
      "Epoch 65/100\n",
      "100/100 [==============================] - 19s 188ms/step - loss: 0.8553 - accuracy: 0.6531 - recall_1: 0.5182 - precision_1: 0.7640 - val_loss: 0.8435 - val_accuracy: 0.6365 - val_recall_1: 0.5447 - val_precision_1: 0.7491\n",
      "Epoch 66/100\n",
      "100/100 [==============================] - 19s 185ms/step - loss: 0.8502 - accuracy: 0.6547 - recall_1: 0.5362 - precision_1: 0.7568 - val_loss: 0.8363 - val_accuracy: 0.6667 - val_recall_1: 0.5522 - val_precision_1: 0.7648\n",
      "Epoch 67/100\n",
      "100/100 [==============================] - 19s 188ms/step - loss: 0.8588 - accuracy: 0.6487 - recall_1: 0.5189 - precision_1: 0.7551 - val_loss: 0.8372 - val_accuracy: 0.6566 - val_recall_1: 0.5371 - val_precision_1: 0.7625\n",
      "Epoch 68/100\n",
      "100/100 [==============================] - 19s 188ms/step - loss: 0.8512 - accuracy: 0.6597 - recall_1: 0.5384 - precision_1: 0.7569 - val_loss: 0.8234 - val_accuracy: 0.6805 - val_recall_1: 0.5748 - val_precision_1: 0.7668\n",
      "Epoch 69/100\n",
      "100/100 [==============================] - 19s 187ms/step - loss: 0.8427 - accuracy: 0.6588 - recall_1: 0.5443 - precision_1: 0.7632 - val_loss: 0.8335 - val_accuracy: 0.6352 - val_recall_1: 0.5170 - val_precision_1: 0.7326\n",
      "Epoch 70/100\n",
      "100/100 [==============================] - 18s 185ms/step - loss: 0.8509 - accuracy: 0.6528 - recall_1: 0.5296 - precision_1: 0.7535 - val_loss: 0.8608 - val_accuracy: 0.6314 - val_recall_1: 0.5233 - val_precision_1: 0.7324\n",
      "Epoch 71/100\n",
      "100/100 [==============================] - 18s 178ms/step - loss: 0.8647 - accuracy: 0.6528 - recall_1: 0.5336 - precision_1: 0.7482 - val_loss: 0.8158 - val_accuracy: 0.6855 - val_recall_1: 0.5572 - val_precision_1: 0.7786\n",
      "Epoch 72/100\n",
      "100/100 [==============================] - 18s 182ms/step - loss: 0.8412 - accuracy: 0.6613 - recall_1: 0.5311 - precision_1: 0.7540 - val_loss: 0.8253 - val_accuracy: 0.6704 - val_recall_1: 0.5409 - val_precision_1: 0.7734\n",
      "Epoch 73/100\n",
      "100/100 [==============================] - 18s 182ms/step - loss: 0.8370 - accuracy: 0.6673 - recall_1: 0.5355 - precision_1: 0.7515 - val_loss: 0.8166 - val_accuracy: 0.6704 - val_recall_1: 0.5396 - val_precision_1: 0.7566\n",
      "Epoch 74/100\n",
      "100/100 [==============================] - 18s 180ms/step - loss: 0.8488 - accuracy: 0.6456 - recall_1: 0.5217 - precision_1: 0.7364 - val_loss: 0.8169 - val_accuracy: 0.6931 - val_recall_1: 0.5698 - val_precision_1: 0.7488\n",
      "Epoch 75/100\n",
      "100/100 [==============================] - 18s 180ms/step - loss: 0.8348 - accuracy: 0.6632 - recall_1: 0.5538 - precision_1: 0.7574 - val_loss: 0.8341 - val_accuracy: 0.6830 - val_recall_1: 0.5509 - val_precision_1: 0.7644\n",
      "Epoch 76/100\n",
      "100/100 [==============================] - 18s 185ms/step - loss: 0.8911 - accuracy: 0.6236 - recall_1: 0.4780 - precision_1: 0.7393 - val_loss: 0.9137 - val_accuracy: 0.6340 - val_recall_1: 0.4226 - val_precision_1: 0.7887\n",
      "Epoch 77/100\n",
      "100/100 [==============================] - 18s 181ms/step - loss: 0.9079 - accuracy: 0.6154 - recall_1: 0.4195 - precision_1: 0.7465 - val_loss: 0.8863 - val_accuracy: 0.6252 - val_recall_1: 0.4780 - val_precision_1: 0.7336\n",
      "Epoch 78/100\n",
      "100/100 [==============================] - 18s 177ms/step - loss: 0.8770 - accuracy: 0.6355 - recall_1: 0.4849 - precision_1: 0.7449 - val_loss: 0.8604 - val_accuracy: 0.6478 - val_recall_1: 0.5283 - val_precision_1: 0.7447\n",
      "Epoch 79/100\n",
      "100/100 [==============================] - 18s 176ms/step - loss: 0.8729 - accuracy: 0.6340 - recall_1: 0.4899 - precision_1: 0.7304 - val_loss: 0.8818 - val_accuracy: 0.6566 - val_recall_1: 0.4553 - val_precision_1: 0.7542\n",
      "Epoch 80/100\n",
      "100/100 [==============================] - 18s 176ms/step - loss: 0.8550 - accuracy: 0.6563 - recall_1: 0.5110 - precision_1: 0.7373 - val_loss: 0.8463 - val_accuracy: 0.6579 - val_recall_1: 0.4981 - val_precision_1: 0.7586\n",
      "Epoch 81/100\n",
      "100/100 [==============================] - 18s 176ms/step - loss: 0.8494 - accuracy: 0.6528 - recall_1: 0.5069 - precision_1: 0.7439 - val_loss: 0.8192 - val_accuracy: 0.6591 - val_recall_1: 0.5346 - val_precision_1: 0.7658\n",
      "Epoch 82/100\n",
      "100/100 [==============================] - 18s 178ms/step - loss: 0.8383 - accuracy: 0.6550 - recall_1: 0.5261 - precision_1: 0.7399 - val_loss: 0.8049 - val_accuracy: 0.6843 - val_recall_1: 0.5459 - val_precision_1: 0.7764\n",
      "Epoch 83/100\n",
      "100/100 [==============================] - 18s 177ms/step - loss: 0.8268 - accuracy: 0.6541 - recall_1: 0.5374 - precision_1: 0.7486 - val_loss: 0.8058 - val_accuracy: 0.6654 - val_recall_1: 0.5459 - val_precision_1: 0.7601\n",
      "Epoch 84/100\n",
      "100/100 [==============================] - 18s 176ms/step - loss: 0.8220 - accuracy: 0.6604 - recall_1: 0.5421 - precision_1: 0.7499 - val_loss: 0.8041 - val_accuracy: 0.6704 - val_recall_1: 0.5497 - val_precision_1: 0.7776\n",
      "Epoch 85/100\n",
      "100/100 [==============================] - 18s 179ms/step - loss: 0.8169 - accuracy: 0.6626 - recall_1: 0.5443 - precision_1: 0.7471 - val_loss: 0.7998 - val_accuracy: 0.6704 - val_recall_1: 0.5623 - val_precision_1: 0.7589\n",
      "Epoch 86/100\n",
      "100/100 [==============================] - 18s 178ms/step - loss: 0.8143 - accuracy: 0.6657 - recall_1: 0.5557 - precision_1: 0.7535 - val_loss: 0.7924 - val_accuracy: 0.6956 - val_recall_1: 0.5799 - val_precision_1: 0.7748\n",
      "Epoch 87/100\n",
      "100/100 [==============================] - 18s 184ms/step - loss: 0.8117 - accuracy: 0.6717 - recall_1: 0.5494 - precision_1: 0.7520 - val_loss: 0.7932 - val_accuracy: 0.6730 - val_recall_1: 0.5748 - val_precision_1: 0.7799\n",
      "Epoch 88/100\n",
      "100/100 [==============================] - 18s 184ms/step - loss: 0.8033 - accuracy: 0.6717 - recall_1: 0.5594 - precision_1: 0.7551 - val_loss: 0.7957 - val_accuracy: 0.6818 - val_recall_1: 0.5535 - val_precision_1: 0.7547\n",
      "Epoch 89/100\n",
      "100/100 [==============================] - 17s 175ms/step - loss: 0.8049 - accuracy: 0.6774 - recall_1: 0.5494 - precision_1: 0.7579 - val_loss: 0.7927 - val_accuracy: 0.6717 - val_recall_1: 0.5673 - val_precision_1: 0.7593\n",
      "Epoch 90/100\n",
      "100/100 [==============================] - 18s 179ms/step - loss: 0.7992 - accuracy: 0.6711 - recall_1: 0.5531 - precision_1: 0.7595 - val_loss: 0.7838 - val_accuracy: 0.6843 - val_recall_1: 0.5849 - val_precision_1: 0.7828\n",
      "Epoch 91/100\n",
      "100/100 [==============================] - 18s 185ms/step - loss: 0.7961 - accuracy: 0.6827 - recall_1: 0.5679 - precision_1: 0.7623 - val_loss: 0.7749 - val_accuracy: 0.6981 - val_recall_1: 0.5950 - val_precision_1: 0.7629\n",
      "Epoch 92/100\n",
      "100/100 [==============================] - 18s 184ms/step - loss: 0.7970 - accuracy: 0.6764 - recall_1: 0.5660 - precision_1: 0.7573 - val_loss: 0.7854 - val_accuracy: 0.6906 - val_recall_1: 0.5824 - val_precision_1: 0.7640\n",
      "Epoch 93/100\n",
      "100/100 [==============================] - 19s 186ms/step - loss: 0.7869 - accuracy: 0.6909 - recall_1: 0.5717 - precision_1: 0.7588 - val_loss: 0.7911 - val_accuracy: 0.6767 - val_recall_1: 0.5673 - val_precision_1: 0.7605\n",
      "Epoch 94/100\n",
      "100/100 [==============================] - 18s 184ms/step - loss: 0.7842 - accuracy: 0.6937 - recall_1: 0.5752 - precision_1: 0.7567 - val_loss: 0.7709 - val_accuracy: 0.6843 - val_recall_1: 0.5912 - val_precision_1: 0.7769\n",
      "Epoch 95/100\n",
      "100/100 [==============================] - 18s 184ms/step - loss: 0.7821 - accuracy: 0.6915 - recall_1: 0.5726 - precision_1: 0.7591 - val_loss: 0.7706 - val_accuracy: 0.6994 - val_recall_1: 0.5811 - val_precision_1: 0.7700\n",
      "Epoch 96/100\n",
      "100/100 [==============================] - 18s 179ms/step - loss: 0.7774 - accuracy: 0.6877 - recall_1: 0.5833 - precision_1: 0.7618 - val_loss: 0.7543 - val_accuracy: 0.6969 - val_recall_1: 0.6050 - val_precision_1: 0.7872\n",
      "Epoch 97/100\n",
      "100/100 [==============================] - 18s 183ms/step - loss: 0.7691 - accuracy: 0.6915 - recall_1: 0.5912 - precision_1: 0.7596 - val_loss: 0.7838 - val_accuracy: 0.6805 - val_recall_1: 0.5862 - val_precision_1: 0.7504\n",
      "Epoch 98/100\n",
      "100/100 [==============================] - 18s 185ms/step - loss: 0.7764 - accuracy: 0.7000 - recall_1: 0.5855 - precision_1: 0.7588 - val_loss: 0.7686 - val_accuracy: 0.7195 - val_recall_1: 0.6013 - val_precision_1: 0.7685\n",
      "Epoch 99/100\n",
      "100/100 [==============================] - 18s 184ms/step - loss: 0.7749 - accuracy: 0.6827 - recall_1: 0.5789 - precision_1: 0.7496 - val_loss: 0.7965 - val_accuracy: 0.6994 - val_recall_1: 0.5648 - val_precision_1: 0.7534\n",
      "Epoch 100/100\n",
      "100/100 [==============================] - 18s 180ms/step - loss: 0.7754 - accuracy: 0.6903 - recall_1: 0.5833 - precision_1: 0.7599 - val_loss: 0.7618 - val_accuracy: 0.7031 - val_recall_1: 0.6063 - val_precision_1: 0.7663\n"
     ]
    }
   ],
   "source": [
    "history = model.fit(jd_train_X, jd_train_y, epochs=100, validation_steps=30, validation_data=(jd_test_X, jd_test_y))"
   ],
   "metadata": {
    "collapsed": false,
    "pycharm": {
     "name": "#%%\n"
    }
   }
  },
  {
   "cell_type": "code",
   "execution_count": 31,
   "outputs": [
    {
     "data": {
      "text/plain": "(0.0, 1.4162383556365967)"
     },
     "execution_count": 31,
     "metadata": {},
     "output_type": "execute_result"
    },
    {
     "data": {
      "text/plain": "<Figure size 1152x576 with 2 Axes>",
      "image/png": "[encoded data removed]"
     },
     "metadata": {
      "needs_background": "light"
     },
     "output_type": "display_data"
    }
   ],
   "source": [
    "plt.figure(figsize=(16, 8))\n",
    "plt.subplot(1, 2, 1)\n",
    "plot_graphs(history, 'accuracy')\n",
    "plt.ylim(None, 1)\n",
    "plt.subplot(1, 2, 2)\n",
    "plot_graphs(history, 'loss')\n",
    "plt.ylim(0, None)"
   ],
   "metadata": {
    "collapsed": false,
    "pycharm": {
     "name": "#%%\n"
    }
   }
  },
  {
   "cell_type": "markdown",
   "source": [
    "### Saving the model"
   ],
   "metadata": {
    "collapsed": false,
    "pycharm": {
     "name": "#%% md\n"
    }
   }
  },
  {
   "cell_type": "code",
   "execution_count": 32,
   "outputs": [],
   "source": [
    "model.save(\"tf_models/rnn_hard.h5\")"
   ],
   "metadata": {
    "collapsed": false,
    "pycharm": {
     "name": "#%%\n"
    }
   }
  },
  {
   "cell_type": "code",
   "execution_count": null,
   "outputs": [],
   "source": [],
   "metadata": {
    "collapsed": false,
    "pycharm": {
     "name": "#%%\n"
    }
   }
  }
 ],
 "metadata": {
  "kernelspec": {
   "display_name": "Python 3",
   "language": "python",
   "name": "python3"
  },
  "language_info": {
   "codemirror_mode": {
    "name": "ipython",
    "version": 3
   },
   "file_extension": ".py",
   "mimetype": "text/x-python",
   "name": "python",
   "nbconvert_exporter": "python",
   "pygments_lexer": "ipython3",
   "version": "3.10.8"
  },
  "orig_nbformat": 4
 },
 "nbformat": 4,
 "nbformat_minor": 2
}