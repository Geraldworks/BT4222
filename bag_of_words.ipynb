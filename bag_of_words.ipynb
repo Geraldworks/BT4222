{
 "cells": [
  {
   "cell_type": "code",
   "execution_count": 6,
   "metadata": {
    "pycharm": {
     "name": "#%%\n"
    }
   },
   "outputs": [
    {
     "name": "stderr",
     "output_type": "stream",
     "text": [
      "[nltk_data] Downloading package wordnet to\n",
      "[nltk_data]     /Users/geraldho/nltk_data...\n"
     ]
    },
    {
     "data": {
      "text/plain": "True"
     },
     "execution_count": 6,
     "metadata": {},
     "output_type": "execute_result"
    }
   ],
   "source": [
    "from bs4 import BeautifulSoup\n",
    "import nltk\n",
    "from nltk.stem import WordNetLemmatizer\n",
    "import pandas as pd\n",
    "from collections import Counter\n",
    "\n",
    "nltk.download('wordnet')"
   ]
  },
  {
   "cell_type": "code",
   "execution_count": 2,
   "metadata": {
    "pycharm": {
     "name": "#%%\n"
    }
   },
   "outputs": [],
   "source": [
    "is_working_with_easy_dataset = True"
   ]
  },
  {
   "cell_type": "code",
   "execution_count": 3,
   "metadata": {
    "pycharm": {
     "name": "#%%\n"
    }
   },
   "outputs": [],
   "source": [
    "if is_working_with_easy_dataset:\n",
    "    input_train_filename = \"jd_easy_train.csv\"\n",
    "    input_test_filename = \"jd_easy_test.csv\"\n",
    "else:\n",
    "    input_train_filename = \"jd_difficult_train.csv\"\n",
    "    input_test_filename = \"jd_difficult_test.csv\"\n",
    "\n",
    "jd_train = pd.read_csv(input_train_filename, keep_default_na=False)\n",
    "jd_test = pd.read_csv(input_test_filename, keep_default_na=False)"
   ]
  },
  {
   "cell_type": "code",
   "execution_count": 4,
   "metadata": {
    "pycharm": {
     "name": "#%%\n"
    }
   },
   "outputs": [],
   "source": [
    "def get_text(html_text):\n",
    "    soup = BeautifulSoup(html_text)\n",
    "    return soup.get_text()\n",
    "\n",
    "def get_tokenized_text(txt):\n",
    "    return nltk.word_tokenize(txt)\n",
    "\n",
    "def get_nouns_and_adjs(tokenized_text):\n",
    "    noun_and_adjs_tags = [\n",
    "        \"NN\", \"NNS\", \"NNP\", \"NNPS\",\n",
    "        \"JJ\", \"JJR\", \"JJS\"]\n",
    "    return [word for (word, pos) in nltk.pos_tag(tokenized_text) if pos in noun_and_adjs_tags]\n",
    "\n",
    "def lemmatize(word):\n",
    "    return WordNetLemmatizer().lemmatize(word)\n",
    "\n",
    "def get_top_stems(dataset, num_stems):\n",
    "    # Get stems by category\n",
    "    stems_by_cat = {}\n",
    "    for index, data in dataset.iterrows():\n",
    "        category = data[0]\n",
    "        description_stems = data[2]\n",
    "        if category not in stems_by_cat:\n",
    "            stems_by_cat[category] = Counter()\n",
    "        stems_by_cat[category].update(description_stems)\n",
    "\n",
    "    # Filter to top num_stems per category\n",
    "    top_stems_by_cat = {}\n",
    "    for category, stems in stems_by_cat.items():\n",
    "        top_stems_by_cat[category] = list(map(lambda x: x[0], stems.most_common(num_stems)))\n",
    "    \n",
    "    # Get bag of unique stems among top stems for all categories\n",
    "    top_stems = set()\n",
    "    for stems in top_stems_by_cat.values():\n",
    "        for stem in stems:\n",
    "            top_stems.add(stem)\n",
    "    top_stems = list(top_stems)\n",
    "    return top_stems\n",
    "\n",
    "def project_docs_to_top_stems(docs, top_stems):\n",
    "    vectors = []\n",
    "    for doc in docs:\n",
    "        vectors.append(project_doc_to_top_stems(doc, top_stems))\n",
    "    return vectors\n",
    "\n",
    "def project_doc_to_top_stems(doc, top_stems):\n",
    "    vector = []\n",
    "    for stem in top_stems:\n",
    "        vector.append(doc.count(stem))\n",
    "    return vector"
   ]
  },
  {
   "cell_type": "code",
   "execution_count": 7,
   "metadata": {
    "pycharm": {
     "name": "#%%\n"
    }
   },
   "outputs": [
    {
     "data": {
      "text/plain": "            category                                        description  \\\n0  software+engineer  <div class=\"jobsearch-jobDescriptionText\" dir=...   \n1               arts  <div class=\"jobsearch-jobDescriptionText\" dir=...   \n2                 hr  <div class=\"jobsearch-jobDescriptionText\" dir=...   \n3               arts  <div class=\"jobsearch-jobDescriptionText\" dir=...   \n4               arts  <div class=\"jobsearch-jobDescriptionText\" dir=...   \n\n                                               stems  \n0  [Roles, Responsibilities, Responsibilities, Re...  \n1  [LECTURER, –, GAME, ART, –, SINGAPORE, CAMPUS,...  \n2  [HR, PROJECT, SPECIALIST, team, Singapore, ope...  \n3  [Job, Description, client, interior, designing...  \n4  [Responsibilities, Design, EDM, email, campaig...  ",
      "text/html": "<div>\n<style scoped>\n    .dataframe tbody tr th:only-of-type {\n        vertical-align: middle;\n    }\n\n    .dataframe tbody tr th {\n        vertical-align: top;\n    }\n\n    .dataframe thead th {\n        text-align: right;\n    }\n</style>\n<table border=\"1\" class=\"dataframe\">\n  <thead>\n    <tr style=\"text-align: right;\">\n      <th></th>\n      <th>category</th>\n      <th>description</th>\n      <th>stems</th>\n    </tr>\n  </thead>\n  <tbody>\n    <tr>\n      <th>0</th>\n      <td>software+engineer</td>\n      <td>&lt;div class=\"jobsearch-jobDescriptionText\" dir=...</td>\n      <td>[Roles, Responsibilities, Responsibilities, Re...</td>\n    </tr>\n    <tr>\n      <th>1</th>\n      <td>arts</td>\n      <td>&lt;div class=\"jobsearch-jobDescriptionText\" dir=...</td>\n      <td>[LECTURER, –, GAME, ART, –, SINGAPORE, CAMPUS,...</td>\n    </tr>\n    <tr>\n      <th>2</th>\n      <td>hr</td>\n      <td>&lt;div class=\"jobsearch-jobDescriptionText\" dir=...</td>\n      <td>[HR, PROJECT, SPECIALIST, team, Singapore, ope...</td>\n    </tr>\n    <tr>\n      <th>3</th>\n      <td>arts</td>\n      <td>&lt;div class=\"jobsearch-jobDescriptionText\" dir=...</td>\n      <td>[Job, Description, client, interior, designing...</td>\n    </tr>\n    <tr>\n      <th>4</th>\n      <td>arts</td>\n      <td>&lt;div class=\"jobsearch-jobDescriptionText\" dir=...</td>\n      <td>[Responsibilities, Design, EDM, email, campaig...</td>\n    </tr>\n  </tbody>\n</table>\n</div>"
     },
     "execution_count": 7,
     "metadata": {},
     "output_type": "execute_result"
    }
   ],
   "source": [
    "jd_train[\"stems\"] = jd_train.description.map(\n",
    "    lambda x: get_text(x)).map(\n",
    "    lambda x: get_tokenized_text(x)).map(\n",
    "    lambda x: get_nouns_and_adjs(x)).map(\n",
    "    lambda x: [lemmatize(word) for word in x])\n",
    "\n",
    "jd_train.head()"
   ]
  },
  {
   "cell_type": "code",
   "execution_count": 8,
   "metadata": {
    "pycharm": {
     "name": "#%%\n"
    }
   },
   "outputs": [
    {
     "data": {
      "text/plain": "116"
     },
     "execution_count": 8,
     "metadata": {},
     "output_type": "execute_result"
    }
   ],
   "source": [
    "top_stems = get_top_stems(jd_train, 50)\n",
    "len(top_stems)"
   ]
  },
  {
   "cell_type": "code",
   "execution_count": 9,
   "metadata": {
    "pycharm": {
     "name": "#%%\n"
    }
   },
   "outputs": [
    {
     "data": {
      "text/plain": "               category  client  Human  customer  software  Work  process  \\\n0     software+engineer       0      0         0         1     0        0   \n1                  arts       0      0         0         0     0        0   \n2                    hr       0      0         0         0     4        1   \n3                  arts       1      0         0         0     1        0   \n4                  arts       0      0         0         1     0        0   \n...                 ...     ...    ...       ...       ...   ...      ...   \n3177  software+engineer       0      0         0         9     0        1   \n3178              sales       0      0         3         0     0        1   \n3179               arts       3      0         0         1     0        0   \n3180                 hr       4      0         0         2     3        0   \n3181                 hr       0      1         0         0     3        0   \n\n      other  Management  sale  ...  account  EA  quality  role  matter  \\\n0         0           0     0  ...        0   0        1     0       0   \n1         0           0     1  ...        0   0        0     0       0   \n2         1           0     0  ...        0   0        0     0       1   \n3         2           0     0  ...        0   2        0     0       0   \n4         1           0     0  ...        0   0        0     0       1   \n...     ...         ...   ...  ...      ...  ..      ...   ...     ...   \n3177      0           0     0  ...        0   0        0     0       0   \n3178      0           0     6  ...        0   0        0     0       0   \n3179      0           0     0  ...        0   0        0     0       0   \n3180      1           0     1  ...        0   0        0     0       1   \n3181      1           0     0  ...        0   0        0     0       0   \n\n      development  Strong  marketing  resume  data  \n0               3       0          0       0     1  \n1               0       0          0       0     0  \n2               0       0          0       0     7  \n3               0       0          1       1     0  \n4               0       0          0       0     0  \n...           ...     ...        ...     ...   ...  \n3177            4       0          0       0     1  \n3178            0       0          0       0     0  \n3179            0       1          0       0     0  \n3180            0       0          1       0     0  \n3181            0       0          0       2     0  \n\n[3182 rows x 117 columns]",
      "text/html": "<div>\n<style scoped>\n    .dataframe tbody tr th:only-of-type {\n        vertical-align: middle;\n    }\n\n    .dataframe tbody tr th {\n        vertical-align: top;\n    }\n\n    .dataframe thead th {\n        text-align: right;\n    }\n</style>\n<table border=\"1\" class=\"dataframe\">\n  <thead>\n    <tr style=\"text-align: right;\">\n      <th></th>\n      <th>category</th>\n      <th>client</th>\n      <th>Human</th>\n      <th>customer</th>\n      <th>software</th>\n      <th>Work</th>\n      <th>process</th>\n      <th>other</th>\n      <th>Management</th>\n      <th>sale</th>\n      <th>...</th>\n      <th>account</th>\n      <th>EA</th>\n      <th>quality</th>\n      <th>role</th>\n      <th>matter</th>\n      <th>development</th>\n      <th>Strong</th>\n      <th>marketing</th>\n      <th>resume</th>\n      <th>data</th>\n    </tr>\n  </thead>\n  <tbody>\n    <tr>\n      <th>0</th>\n      <td>software+engineer</td>\n      <td>0</td>\n      <td>0</td>\n      <td>0</td>\n      <td>1</td>\n      <td>0</td>\n      <td>0</td>\n      <td>0</td>\n      <td>0</td>\n      <td>0</td>\n      <td>...</td>\n      <td>0</td>\n      <td>0</td>\n      <td>1</td>\n      <td>0</td>\n      <td>0</td>\n      <td>3</td>\n      <td>0</td>\n      <td>0</td>\n      <td>0</td>\n      <td>1</td>\n    </tr>\n    <tr>\n      <th>1</th>\n      <td>arts</td>\n      <td>0</td>\n      <td>0</td>\n      <td>0</td>\n      <td>0</td>\n      <td>0</td>\n      <td>0</td>\n      <td>0</td>\n      <td>0</td>\n      <td>1</td>\n      <td>...</td>\n      <td>0</td>\n      <td>0</td>\n      <td>0</td>\n      <td>0</td>\n      <td>0</td>\n      <td>0</td>\n      <td>0</td>\n      <td>0</td>\n      <td>0</td>\n      <td>0</td>\n    </tr>\n    <tr>\n      <th>2</th>\n      <td>hr</td>\n      <td>0</td>\n      <td>0</td>\n      <td>0</td>\n      <td>0</td>\n      <td>4</td>\n      <td>1</td>\n      <td>1</td>\n      <td>0</td>\n      <td>0</td>\n      <td>...</td>\n      <td>0</td>\n      <td>0</td>\n      <td>0</td>\n      <td>0</td>\n      <td>1</td>\n      <td>0</td>\n      <td>0</td>\n      <td>0</td>\n      <td>0</td>\n      <td>7</td>\n    </tr>\n    <tr>\n      <th>3</th>\n      <td>arts</td>\n      <td>1</td>\n      <td>0</td>\n      <td>0</td>\n      <td>0</td>\n      <td>1</td>\n      <td>0</td>\n      <td>2</td>\n      <td>0</td>\n      <td>0</td>\n      <td>...</td>\n      <td>0</td>\n      <td>2</td>\n      <td>0</td>\n      <td>0</td>\n      <td>0</td>\n      <td>0</td>\n      <td>0</td>\n      <td>1</td>\n      <td>1</td>\n      <td>0</td>\n    </tr>\n    <tr>\n      <th>4</th>\n      <td>arts</td>\n      <td>0</td>\n      <td>0</td>\n      <td>0</td>\n      <td>1</td>\n      <td>0</td>\n      <td>0</td>\n      <td>1</td>\n      <td>0</td>\n      <td>0</td>\n      <td>...</td>\n      <td>0</td>\n      <td>0</td>\n      <td>0</td>\n      <td>0</td>\n      <td>1</td>\n      <td>0</td>\n      <td>0</td>\n      <td>0</td>\n      <td>0</td>\n      <td>0</td>\n    </tr>\n    <tr>\n      <th>...</th>\n      <td>...</td>\n      <td>...</td>\n      <td>...</td>\n      <td>...</td>\n      <td>...</td>\n      <td>...</td>\n      <td>...</td>\n      <td>...</td>\n      <td>...</td>\n      <td>...</td>\n      <td>...</td>\n      <td>...</td>\n      <td>...</td>\n      <td>...</td>\n      <td>...</td>\n      <td>...</td>\n      <td>...</td>\n      <td>...</td>\n      <td>...</td>\n      <td>...</td>\n      <td>...</td>\n    </tr>\n    <tr>\n      <th>3177</th>\n      <td>software+engineer</td>\n      <td>0</td>\n      <td>0</td>\n      <td>0</td>\n      <td>9</td>\n      <td>0</td>\n      <td>1</td>\n      <td>0</td>\n      <td>0</td>\n      <td>0</td>\n      <td>...</td>\n      <td>0</td>\n      <td>0</td>\n      <td>0</td>\n      <td>0</td>\n      <td>0</td>\n      <td>4</td>\n      <td>0</td>\n      <td>0</td>\n      <td>0</td>\n      <td>1</td>\n    </tr>\n    <tr>\n      <th>3178</th>\n      <td>sales</td>\n      <td>0</td>\n      <td>0</td>\n      <td>3</td>\n      <td>0</td>\n      <td>0</td>\n      <td>1</td>\n      <td>0</td>\n      <td>0</td>\n      <td>6</td>\n      <td>...</td>\n      <td>0</td>\n      <td>0</td>\n      <td>0</td>\n      <td>0</td>\n      <td>0</td>\n      <td>0</td>\n      <td>0</td>\n      <td>0</td>\n      <td>0</td>\n      <td>0</td>\n    </tr>\n    <tr>\n      <th>3179</th>\n      <td>arts</td>\n      <td>3</td>\n      <td>0</td>\n      <td>0</td>\n      <td>1</td>\n      <td>0</td>\n      <td>0</td>\n      <td>0</td>\n      <td>0</td>\n      <td>0</td>\n      <td>...</td>\n      <td>0</td>\n      <td>0</td>\n      <td>0</td>\n      <td>0</td>\n      <td>0</td>\n      <td>0</td>\n      <td>1</td>\n      <td>0</td>\n      <td>0</td>\n      <td>0</td>\n    </tr>\n    <tr>\n      <th>3180</th>\n      <td>hr</td>\n      <td>4</td>\n      <td>0</td>\n      <td>0</td>\n      <td>2</td>\n      <td>3</td>\n      <td>0</td>\n      <td>1</td>\n      <td>0</td>\n      <td>1</td>\n      <td>...</td>\n      <td>0</td>\n      <td>0</td>\n      <td>0</td>\n      <td>0</td>\n      <td>1</td>\n      <td>0</td>\n      <td>0</td>\n      <td>1</td>\n      <td>0</td>\n      <td>0</td>\n    </tr>\n    <tr>\n      <th>3181</th>\n      <td>hr</td>\n      <td>0</td>\n      <td>1</td>\n      <td>0</td>\n      <td>0</td>\n      <td>3</td>\n      <td>0</td>\n      <td>1</td>\n      <td>0</td>\n      <td>0</td>\n      <td>...</td>\n      <td>0</td>\n      <td>0</td>\n      <td>0</td>\n      <td>0</td>\n      <td>0</td>\n      <td>0</td>\n      <td>0</td>\n      <td>0</td>\n      <td>2</td>\n      <td>0</td>\n    </tr>\n  </tbody>\n</table>\n<p>3182 rows × 117 columns</p>\n</div>"
     },
     "execution_count": 9,
     "metadata": {},
     "output_type": "execute_result"
    }
   ],
   "source": [
    "description_top_stem_vector_train = pd.DataFrame(project_docs_to_top_stems(jd_train.description, top_stems), columns=top_stems)\n",
    "bag_train = pd.concat([jd_train.category, description_top_stem_vector_train], axis=1)\n",
    "bag_train"
   ]
  },
  {
   "cell_type": "code",
   "execution_count": 10,
   "metadata": {
    "pycharm": {
     "name": "#%%\n"
    }
   },
   "outputs": [
    {
     "data": {
      "text/plain": "              category  client  Human  customer  software  Work  process  \\\n0    software+engineer       0      0         0         0     6        1   \n1                sales       0      0         0         0     1        1   \n2                sales       0      0        11         0     1        4   \n3                sales       3      0         0         0     0        0   \n4                 arts       0      0         0         0     1        1   \n..                 ...     ...    ...       ...       ...   ...      ...   \n791  software+engineer       0      0         3         4     0        0   \n792  software+engineer       2      0         0         5     0        0   \n793  software+engineer       0      0         0         0     1        3   \n794                 hr       4      0         0         0     0        0   \n795                 hr       0      0         0         0     0        0   \n\n     other  Management  sale  ...  account  EA  quality  role  matter  \\\n0        6           0     0  ...        0   0        0     0       0   \n1        0           0     0  ...        5   0        0     0       1   \n2        1           0     2  ...        0   0        0     0       0   \n3        1           0     2  ...        1   2        0     0       0   \n4        2           0     0  ...        0   1        0     0       1   \n..     ...         ...   ...  ...      ...  ..      ...   ...     ...   \n791      2           0     0  ...        0   0        0     0       0   \n792      1           0     0  ...        1   0        1     0       0   \n793      4           1     0  ...        0   0        0     0       0   \n794      0           0     0  ...        0   2        0     0       0   \n795      0           0     0  ...        0   1        0     2       0   \n\n     development  Strong  marketing  resume  data  \n0              0       0          0       0     0  \n1              0       2          0       0     2  \n2              0       1          3       0     0  \n3              0       0          1       0     0  \n4              0       3          0       1     2  \n..           ...     ...        ...     ...   ...  \n791            6       0          0       0     0  \n792            3       0          0       0     1  \n793            0       0          0       0     4  \n794            0       0          0       0     2  \n795            1       1          0       0     0  \n\n[796 rows x 117 columns]",
      "text/html": "<div>\n<style scoped>\n    .dataframe tbody tr th:only-of-type {\n        vertical-align: middle;\n    }\n\n    .dataframe tbody tr th {\n        vertical-align: top;\n    }\n\n    .dataframe thead th {\n        text-align: right;\n    }\n</style>\n<table border=\"1\" class=\"dataframe\">\n  <thead>\n    <tr style=\"text-align: right;\">\n      <th></th>\n      <th>category</th>\n      <th>client</th>\n      <th>Human</th>\n      <th>customer</th>\n      <th>software</th>\n      <th>Work</th>\n      <th>process</th>\n      <th>other</th>\n      <th>Management</th>\n      <th>sale</th>\n      <th>...</th>\n      <th>account</th>\n      <th>EA</th>\n      <th>quality</th>\n      <th>role</th>\n      <th>matter</th>\n      <th>development</th>\n      <th>Strong</th>\n      <th>marketing</th>\n      <th>resume</th>\n      <th>data</th>\n    </tr>\n  </thead>\n  <tbody>\n    <tr>\n      <th>0</th>\n      <td>software+engineer</td>\n      <td>0</td>\n      <td>0</td>\n      <td>0</td>\n      <td>0</td>\n      <td>6</td>\n      <td>1</td>\n      <td>6</td>\n      <td>0</td>\n      <td>0</td>\n      <td>...</td>\n      <td>0</td>\n      <td>0</td>\n      <td>0</td>\n      <td>0</td>\n      <td>0</td>\n      <td>0</td>\n      <td>0</td>\n      <td>0</td>\n      <td>0</td>\n      <td>0</td>\n    </tr>\n    <tr>\n      <th>1</th>\n      <td>sales</td>\n      <td>0</td>\n      <td>0</td>\n      <td>0</td>\n      <td>0</td>\n      <td>1</td>\n      <td>1</td>\n      <td>0</td>\n      <td>0</td>\n      <td>0</td>\n      <td>...</td>\n      <td>5</td>\n      <td>0</td>\n      <td>0</td>\n      <td>0</td>\n      <td>1</td>\n      <td>0</td>\n      <td>2</td>\n      <td>0</td>\n      <td>0</td>\n      <td>2</td>\n    </tr>\n    <tr>\n      <th>2</th>\n      <td>sales</td>\n      <td>0</td>\n      <td>0</td>\n      <td>11</td>\n      <td>0</td>\n      <td>1</td>\n      <td>4</td>\n      <td>1</td>\n      <td>0</td>\n      <td>2</td>\n      <td>...</td>\n      <td>0</td>\n      <td>0</td>\n      <td>0</td>\n      <td>0</td>\n      <td>0</td>\n      <td>0</td>\n      <td>1</td>\n      <td>3</td>\n      <td>0</td>\n      <td>0</td>\n    </tr>\n    <tr>\n      <th>3</th>\n      <td>sales</td>\n      <td>3</td>\n      <td>0</td>\n      <td>0</td>\n      <td>0</td>\n      <td>0</td>\n      <td>0</td>\n      <td>1</td>\n      <td>0</td>\n      <td>2</td>\n      <td>...</td>\n      <td>1</td>\n      <td>2</td>\n      <td>0</td>\n      <td>0</td>\n      <td>0</td>\n      <td>0</td>\n      <td>0</td>\n      <td>1</td>\n      <td>0</td>\n      <td>0</td>\n    </tr>\n    <tr>\n      <th>4</th>\n      <td>arts</td>\n      <td>0</td>\n      <td>0</td>\n      <td>0</td>\n      <td>0</td>\n      <td>1</td>\n      <td>1</td>\n      <td>2</td>\n      <td>0</td>\n      <td>0</td>\n      <td>...</td>\n      <td>0</td>\n      <td>1</td>\n      <td>0</td>\n      <td>0</td>\n      <td>1</td>\n      <td>0</td>\n      <td>3</td>\n      <td>0</td>\n      <td>1</td>\n      <td>2</td>\n    </tr>\n    <tr>\n      <th>...</th>\n      <td>...</td>\n      <td>...</td>\n      <td>...</td>\n      <td>...</td>\n      <td>...</td>\n      <td>...</td>\n      <td>...</td>\n      <td>...</td>\n      <td>...</td>\n      <td>...</td>\n      <td>...</td>\n      <td>...</td>\n      <td>...</td>\n      <td>...</td>\n      <td>...</td>\n      <td>...</td>\n      <td>...</td>\n      <td>...</td>\n      <td>...</td>\n      <td>...</td>\n      <td>...</td>\n    </tr>\n    <tr>\n      <th>791</th>\n      <td>software+engineer</td>\n      <td>0</td>\n      <td>0</td>\n      <td>3</td>\n      <td>4</td>\n      <td>0</td>\n      <td>0</td>\n      <td>2</td>\n      <td>0</td>\n      <td>0</td>\n      <td>...</td>\n      <td>0</td>\n      <td>0</td>\n      <td>0</td>\n      <td>0</td>\n      <td>0</td>\n      <td>6</td>\n      <td>0</td>\n      <td>0</td>\n      <td>0</td>\n      <td>0</td>\n    </tr>\n    <tr>\n      <th>792</th>\n      <td>software+engineer</td>\n      <td>2</td>\n      <td>0</td>\n      <td>0</td>\n      <td>5</td>\n      <td>0</td>\n      <td>0</td>\n      <td>1</td>\n      <td>0</td>\n      <td>0</td>\n      <td>...</td>\n      <td>1</td>\n      <td>0</td>\n      <td>1</td>\n      <td>0</td>\n      <td>0</td>\n      <td>3</td>\n      <td>0</td>\n      <td>0</td>\n      <td>0</td>\n      <td>1</td>\n    </tr>\n    <tr>\n      <th>793</th>\n      <td>software+engineer</td>\n      <td>0</td>\n      <td>0</td>\n      <td>0</td>\n      <td>0</td>\n      <td>1</td>\n      <td>3</td>\n      <td>4</td>\n      <td>1</td>\n      <td>0</td>\n      <td>...</td>\n      <td>0</td>\n      <td>0</td>\n      <td>0</td>\n      <td>0</td>\n      <td>0</td>\n      <td>0</td>\n      <td>0</td>\n      <td>0</td>\n      <td>0</td>\n      <td>4</td>\n    </tr>\n    <tr>\n      <th>794</th>\n      <td>hr</td>\n      <td>4</td>\n      <td>0</td>\n      <td>0</td>\n      <td>0</td>\n      <td>0</td>\n      <td>0</td>\n      <td>0</td>\n      <td>0</td>\n      <td>0</td>\n      <td>...</td>\n      <td>0</td>\n      <td>2</td>\n      <td>0</td>\n      <td>0</td>\n      <td>0</td>\n      <td>0</td>\n      <td>0</td>\n      <td>0</td>\n      <td>0</td>\n      <td>2</td>\n    </tr>\n    <tr>\n      <th>795</th>\n      <td>hr</td>\n      <td>0</td>\n      <td>0</td>\n      <td>0</td>\n      <td>0</td>\n      <td>0</td>\n      <td>0</td>\n      <td>0</td>\n      <td>0</td>\n      <td>0</td>\n      <td>...</td>\n      <td>0</td>\n      <td>1</td>\n      <td>0</td>\n      <td>2</td>\n      <td>0</td>\n      <td>1</td>\n      <td>1</td>\n      <td>0</td>\n      <td>0</td>\n      <td>0</td>\n    </tr>\n  </tbody>\n</table>\n<p>796 rows × 117 columns</p>\n</div>"
     },
     "execution_count": 10,
     "metadata": {},
     "output_type": "execute_result"
    }
   ],
   "source": [
    "jd_test.description = jd_test.description.map(lambda x : get_text(x))\n",
    "description_top_stem_vector_test = pd.DataFrame(project_docs_to_top_stems(jd_test.description, top_stems), columns=top_stems)\n",
    "bag_test = pd.concat([jd_test.category, description_top_stem_vector_test], axis=1)\n",
    "bag_test"
   ]
  },
  {
   "cell_type": "code",
   "execution_count": 12,
   "metadata": {
    "pycharm": {
     "name": "#%%\n"
    }
   },
   "outputs": [],
   "source": [
    "if is_working_with_easy_dataset:\n",
    "    output_train_filename = \"bag_easy_train.csv\"\n",
    "    output_test_filename = \"bag_easy_test.csv\"\n",
    "else:\n",
    "    output_train_filename = \"bag_difficult_train.csv\"\n",
    "    output_test_filename = \"bag_difficult_test.csv\"\n",
    "\n",
    "bag_train.to_csv(output_train_filename, index=False)\n",
    "bag_test.to_csv(output_test_filename, index=False)"
   ]
  },
  {
   "cell_type": "code",
   "execution_count": null,
   "outputs": [],
   "source": [],
   "metadata": {
    "collapsed": false,
    "pycharm": {
     "name": "#%%\n"
    }
   }
  }
 ],
 "metadata": {
  "kernelspec": {
   "display_name": "Python 3",
   "language": "python",
   "name": "python3"
  },
  "language_info": {
   "codemirror_mode": {
    "name": "ipython",
    "version": 3
   },
   "file_extension": ".py",
   "mimetype": "text/x-python",
   "name": "python",
   "nbconvert_exporter": "python",
   "pygments_lexer": "ipython3",
   "version": "3.10.8"
  },
  "orig_nbformat": 4
 },
 "nbformat": 4,
 "nbformat_minor": 2
}