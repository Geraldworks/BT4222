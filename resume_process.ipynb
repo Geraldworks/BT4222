{
 "cells": [
  {
   "cell_type": "code",
   "execution_count": 15,
   "metadata": {},
   "outputs": [],
   "source": [
    "from bag_of_words import *\n",
    "from word_embedding import *"
   ]
  },
  {
   "cell_type": "code",
   "execution_count": 16,
   "metadata": {},
   "outputs": [
    {
     "data": {
      "text/plain": [
       "'Sze Ying Lim Independent and quick learner seeking summer internships (8 May 2023 - 28 July 2023) CONTACT +65 9759 0294 limszeying02@gmail.com www.linkedin.com/in/lim-sze-ying/  https://github.com/szeying02 EXPERIENCE Data Analyst Internship — Micron Technology, Inc May 2022 - July 2022 ● Developed Tableau data visualisation dashboard to aid decision-making ● Developed predictive multivariate regression models for yield improvements ● Developed SQL to extract real-time manufacturing data for production control ● Automated daily messaging system with tabulated data into Microsoft Teams Product Development Internship — GyroGear Ltd. February 2021 - July 2021 ● Produced actionable digests to guide next generation development ● Formalised legal correspondences, organised and archival of verbatim ● Managed marketing programs ● Conducted usability and patients’ evaluation sessions EDUCATION National University of Singapore, School of Computing Bachelor of Science (Business Analytics) CAP 4.86 / 5.0 August 2021 - May 2025 (Expected) ● Ministry of Education Industry Scholarship (Full-Term) ● Dean’s List Semester 1 AY21/22 ● Top in IS1103 Ethics in Computing (Semester 1 AY21/22) ● Participated in Shopee Code League, LifeHack, Data Analytics Competition Hwa Chong Institution — Cambridge GCE ‘A’ Level ● Hwa Chong Diploma with Distinction ● General Secretary, Infocomm Robotics Society (2019-2020) ● Ministry of Education Edusave Scholarships for Independent Schools ● 1st (Best Content Award), National Junior Robotics Competition 2019 Nanyang Girls’ High School — Integrated Programme ● Board of Elected Leaders (2017-2018) ● President, Infocomm Club (2017-2018) ● National Champion, RoboCup Singapore Soccer 2017 & 2018 ● Singapore Representative, RoboCup International 2017 & 2018  PROJECTS Panther — Full-Stack web app forum Tech Stack: React.js (TypeScipt, HTML, CSS), Go, PostgreSQL ● Allows users to interact on a web-based forum ● Account-based authentication with JSON Web Tokens and Session Cookies ● Developed RESTful API for client-sever interaction Study Wyth Me (Orbital) — Gamified mobile app that encourages studying Tech Stack: Dart, Flutter, Firebase ● Allow users to use a focussed pomodoro timer, interact on forums and earn points ● Conceptualised and developed the app from start to finish ● Synchronised live data from Firestore to update client-side Library Management System App — GUI for library users Tech Stack: Python, MySQL ● Created a GUI that allow users to borrow, reserve, return and pay fines for books ● Allows for searching and displaying of information from the database  ● Developed using Python packages: Tkinter and PyMySQL\\t SOFT SKILLS Collaborative team player  Critical thinking & Problem-Solving Creative & Analytical thinker Self-learning with strong initiative TECHNICAL SKILLS Programming Languages: Python, R, Java, Dart, VBA, HTML, CSS, JavaScript, TypeScript, Go Frameworks: Flutter, React.js, Vue.js Database Management: SQL, MySQL, MongoDB, PostgreSQL Data Visualization: Tableau COURSES Data Visualisation, Duke Java Programming, Duke SQL, DataCamp VOLUNTEERING Meet-the-People Sessions (Current) COVID-19 Vaccination Programme (2020-2021) Thye Hua Kwan Hospital (2017-2018) LANGUAGES English Chinese\\n\\n'"
      ]
     },
     "execution_count": 16,
     "metadata": {},
     "output_type": "execute_result"
    }
   ],
   "source": [
    "resume_file = open(\"resume_da.txt\", \"r\")\n",
    "resume = resume_file.read()\n",
    "resume_file.close()\n",
    "resume"
   ]
  },
  {
   "cell_type": "code",
   "execution_count": 17,
   "metadata": {},
   "outputs": [],
   "source": [
    "difficulty_levels = [\"easy\", \"difficult\"]"
   ]
  },
  {
   "attachments": {},
   "cell_type": "markdown",
   "metadata": {},
   "source": [
    "Bag of words preprocessing"
   ]
  },
  {
   "cell_type": "code",
   "execution_count": 18,
   "metadata": {},
   "outputs": [],
   "source": [
    "for difficulty_level in difficulty_levels:\n",
    "    top_stems = [x[0] for x in pd.read_csv(f\"top_stems_{difficulty_level}.csv\").values][0],\n",
    "    tokens = get_tokenized_text(resume)\n",
    "    is_noun_or_adj = get_nouns_and_adjs(tokens)\n",
    "    lemmatized_tokens = pd.Series([[lemmatize(word) for word in tokens]], dtype=\"object\")\n",
    "    X_bag = pd.DataFrame(get_tfidf(lemmatized_tokens, top_stems), columns=top_stems)\n",
    "    X_bag.to_csv(f\"resume_bag_da_{difficulty_level}.csv\", index=False)"
   ]
  },
  {
   "attachments": {},
   "cell_type": "markdown",
   "metadata": {},
   "source": [
    "Word embedding preprocessing"
   ]
  },
  {
   "cell_type": "code",
   "execution_count": 19,
   "metadata": {},
   "outputs": [],
   "source": [
    "X_embedding = pd.DataFrame(embed(resume)).T\n",
    "X_embedding.to_csv(\"embedding_resume_da\", index=False)"
   ]
  }
 ],
 "metadata": {
  "kernelspec": {
   "display_name": "tff",
   "language": "python",
   "name": "python3"
  },
  "language_info": {
   "codemirror_mode": {
    "name": "ipython",
    "version": 3
   },
   "file_extension": ".py",
   "mimetype": "text/x-python",
   "name": "python",
   "nbconvert_exporter": "python",
   "pygments_lexer": "ipython3",
   "version": "3.10.8"
  },
  "orig_nbformat": 4
 },
 "nbformat": 4,
 "nbformat_minor": 2
}
