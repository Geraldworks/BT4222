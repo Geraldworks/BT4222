{
 "cells": [
  {
   "cell_type": "code",
   "execution_count": 1,
   "metadata": {},
   "outputs": [],
   "source": [
    "from bag_of_words import *\n",
    "from word_embedding import *"
   ]
  },
  {
   "cell_type": "code",
   "execution_count": 2,
   "metadata": {},
   "outputs": [
    {
     "data": {
      "text/plain": [
       "'Sze Ying Lim Independent and quick learner seeking summer internships (8 May 2023 - 28 July 2023)\\t    CONTACT+65 9759 0294 limszeying02@gmail.comwww.linkedin.com/in/lim-sze-ying/ https://github.com/szeying02EXPERIENCEData Analyst Internship — Micron Technology, IncMay 2022 - July 2022●\\tDeveloped Tableau data visualisation dashboard to aid decision-making●\\tDeveloped predictive multivariate regression models for yield improvements●\\tDeveloped SQL to extract real-time manufacturing data for production control●\\tAutomated daily messaging system with tabulated data into Microsoft TeamsProduct Development Internship — GyroGear Ltd.February 2021 - July 2021●\\tProduced actionable digests to guide next generation development●\\tFormalised legal correspondences, organised and archival of verbatim●\\tManaged marketing programs ●\\tConducted usability and patients’ evaluation sessionsEDUCATIONNational University of Singapore, School of ComputingBachelor of Science (Business Analytics) CAP 4.86 / 5.0August 2021 - May 2025 (Expected)●\\tMinistry of Education Industry Scholarship (Full-Term)●\\tDean’s List Semester 1 AY21/22●\\tTop in IS1103 Ethics in Computing (Semester 1 AY21/22)●\\tParticipated in Shopee Code League, LifeHack, Data Analytics CompetitionHwa Chong Institution — Cambridge GCE ‘A’ Level●\\tHwa Chong Diploma with Distinction●\\tGeneral Secretary, Infocomm Robotics Society (2019-2020)●\\tMinistry of Education Edusave Scholarships for Independent Schools●\\t1st (Best Content Award), National Junior Robotics Competition 2019 Nanyang Girls’ High School — Integrated Programme●\\tBoard of Elected Leaders (2017-2018)●\\tPresident, Infocomm Club (2017-2018) ●\\tNational Champion, RoboCup Singapore Soccer 2017 & 2018●\\tSingapore Representative, RoboCup International 2017 & 2018 PROJECTSPanther — Full-Stack web app forumTech Stack: React.js (TypeScipt, HTML, CSS), Go, PostgreSQL●\\tAllows users to interact on a web-based forum●\\tAccount-based authentication with JSON Web Tokens and Session Cookies●\\tDeveloped RESTful API for client-sever interactionStudy Wyth Me (Orbital) — Gamified mobile app that encourages studyingTech Stack: Dart, Flutter, Firebase●\\tAllow users to use a focussed pomodoro timer, interact on forums and earn points●\\tConceptualised and developed the app from start to finish●\\tSynchronised live data from Firestore to update client-sideLibrary Management System App — GUI for library usersTech Stack: Python, MySQL●\\tCreated a GUI that allow users to borrow, reserve, return and pay fines for books●\\tAllows for searching and displaying of information from the database ●\\tDeveloped using Python packages: Tkinter and PyMySQL\\tSOFT SKILLSCollaborative team player Critical thinking & Problem-SolvingCreative & Analytical thinkerSelf-learning with strong initiativeTECHNICAL SKILLSProgramming Languages:Python, R, Java, Dart, VBA, HTML, CSS, JavaScript, TypeScript, GoFrameworks:Flutter, React.js, Vue.jsDatabase Management:SQL, MySQL, MongoDB, PostgreSQLData Visualization:TableauCOURSESData Visualisation, DukeJava Programming, DukeSQL, DataCampVOLUNTEERINGMeet-the-People Sessions (Current)COVID-19 Vaccination Programme (2020-2021)Thye Hua Kwan Hospital (2017-2018)LANGUAGESEnglishChinese\\n\\n'"
      ]
     },
     "execution_count": 2,
     "metadata": {},
     "output_type": "execute_result"
    }
   ],
   "source": [
    "resume_file = open(\"resume_se.txt\", \"r\")\n",
    "resume = resume_file.read()\n",
    "resume_file.close()\n",
    "resume"
   ]
  },
  {
   "attachments": {},
   "cell_type": "markdown",
   "metadata": {},
   "source": [
    "Bag of words preprocessing"
   ]
  },
  {
   "cell_type": "code",
   "execution_count": 29,
   "metadata": {},
   "outputs": [
    {
     "name": "stderr",
     "output_type": "stream",
     "text": [
      "/Library/Frameworks/Python.framework/Versions/3.10/lib/python3.10/site-packages/sklearn/feature_extraction/text.py:1330: UserWarning: Upper case characters found in vocabulary while 'lowercase' is True. These entries will not be matched with any documents\n",
      "  warnings.warn(\n"
     ]
    },
    {
     "data": {
      "text/html": [
       "<div>\n",
       "<style scoped>\n",
       "    .dataframe tbody tr th:only-of-type {\n",
       "        vertical-align: middle;\n",
       "    }\n",
       "\n",
       "    .dataframe tbody tr th {\n",
       "        vertical-align: top;\n",
       "    }\n",
       "\n",
       "    .dataframe thead th {\n",
       "        text-align: right;\n",
       "    }\n",
       "</style>\n",
       "<table border=\"1\" class=\"dataframe\">\n",
       "  <thead>\n",
       "    <tr style=\"text-align: right;\">\n",
       "      <th></th>\n",
       "      <th>technical</th>\n",
       "      <th>medium</th>\n",
       "      <th>ability</th>\n",
       "      <th>HR</th>\n",
       "      <th>Software</th>\n",
       "      <th>Adobe</th>\n",
       "      <th>Requirements</th>\n",
       "      <th>environment</th>\n",
       "      <th>understanding</th>\n",
       "      <th>experience</th>\n",
       "      <th>...</th>\n",
       "      <th>game</th>\n",
       "      <th>Responsibilities</th>\n",
       "      <th>resume</th>\n",
       "      <th>Photoshop</th>\n",
       "      <th>target</th>\n",
       "      <th>service</th>\n",
       "      <th>asset</th>\n",
       "      <th>digital</th>\n",
       "      <th>employee</th>\n",
       "      <th>office</th>\n",
       "    </tr>\n",
       "  </thead>\n",
       "  <tbody>\n",
       "    <tr>\n",
       "      <th>0</th>\n",
       "      <td>0.0</td>\n",
       "      <td>0.0</td>\n",
       "      <td>0.0</td>\n",
       "      <td>0.0</td>\n",
       "      <td>0.0</td>\n",
       "      <td>0.0</td>\n",
       "      <td>0.0</td>\n",
       "      <td>0.0</td>\n",
       "      <td>0.0</td>\n",
       "      <td>0.0</td>\n",
       "      <td>...</td>\n",
       "      <td>0.0</td>\n",
       "      <td>0.0</td>\n",
       "      <td>0.0</td>\n",
       "      <td>0.0</td>\n",
       "      <td>0.0</td>\n",
       "      <td>0.0</td>\n",
       "      <td>0.0</td>\n",
       "      <td>0.0</td>\n",
       "      <td>0.0</td>\n",
       "      <td>0.0</td>\n",
       "    </tr>\n",
       "  </tbody>\n",
       "</table>\n",
       "<p>1 rows × 116 columns</p>\n",
       "</div>"
      ],
      "text/plain": [
       "   technical  medium  ability   HR  Software  Adobe  Requirements  \\\n",
       "0        0.0     0.0      0.0  0.0       0.0    0.0           0.0   \n",
       "\n",
       "   environment  understanding  experience  ...  game  Responsibilities  \\\n",
       "0          0.0            0.0         0.0  ...   0.0               0.0   \n",
       "\n",
       "   resume  Photoshop  target  service  asset  digital  employee  office  \n",
       "0     0.0        0.0     0.0      0.0    0.0      0.0       0.0     0.0  \n",
       "\n",
       "[1 rows x 116 columns]"
      ]
     },
     "execution_count": 29,
     "metadata": {},
     "output_type": "execute_result"
    }
   ],
   "source": [
    "top_stems = [x[0] for x in pd.read_csv(\"top_stems.csv\", header=None).values.tolist()]\n",
    "tokens = get_tokenized_text(resume)\n",
    "is_noun_or_adj = get_nouns_and_adjs(tokens)\n",
    "lemmatized_tokens = pd.Series([[lemmatize(word) for word in tokens]], dtype=\"object\")\n",
    "X_bag = pd.DataFrame(get_tfidf(lemmatized_tokens, top_stems), columns=top_stems)\n",
    "X_bag.head()"
   ]
  },
  {
   "attachments": {},
   "cell_type": "markdown",
   "metadata": {},
   "source": [
    "Word embedding preprocessing"
   ]
  },
  {
   "cell_type": "code",
   "execution_count": 6,
   "metadata": {},
   "outputs": [
    {
     "data": {
      "text/html": [
       "<div>\n",
       "<style scoped>\n",
       "    .dataframe tbody tr th:only-of-type {\n",
       "        vertical-align: middle;\n",
       "    }\n",
       "\n",
       "    .dataframe tbody tr th {\n",
       "        vertical-align: top;\n",
       "    }\n",
       "\n",
       "    .dataframe thead th {\n",
       "        text-align: right;\n",
       "    }\n",
       "</style>\n",
       "<table border=\"1\" class=\"dataframe\">\n",
       "  <thead>\n",
       "    <tr style=\"text-align: right;\">\n",
       "      <th></th>\n",
       "      <th>0</th>\n",
       "      <th>1</th>\n",
       "      <th>2</th>\n",
       "      <th>3</th>\n",
       "      <th>4</th>\n",
       "      <th>5</th>\n",
       "      <th>6</th>\n",
       "      <th>7</th>\n",
       "      <th>8</th>\n",
       "      <th>9</th>\n",
       "      <th>...</th>\n",
       "      <th>374</th>\n",
       "      <th>375</th>\n",
       "      <th>376</th>\n",
       "      <th>377</th>\n",
       "      <th>378</th>\n",
       "      <th>379</th>\n",
       "      <th>380</th>\n",
       "      <th>381</th>\n",
       "      <th>382</th>\n",
       "      <th>383</th>\n",
       "    </tr>\n",
       "  </thead>\n",
       "  <tbody>\n",
       "    <tr>\n",
       "      <th>0</th>\n",
       "      <td>-0.042887</td>\n",
       "      <td>-0.027272</td>\n",
       "      <td>0.030374</td>\n",
       "      <td>0.008532</td>\n",
       "      <td>0.056518</td>\n",
       "      <td>-0.001797</td>\n",
       "      <td>0.021955</td>\n",
       "      <td>0.015776</td>\n",
       "      <td>-0.092386</td>\n",
       "      <td>0.007293</td>\n",
       "      <td>...</td>\n",
       "      <td>0.040135</td>\n",
       "      <td>0.075583</td>\n",
       "      <td>-0.007395</td>\n",
       "      <td>-0.021575</td>\n",
       "      <td>0.021041</td>\n",
       "      <td>0.055265</td>\n",
       "      <td>0.055246</td>\n",
       "      <td>-0.09561</td>\n",
       "      <td>-0.091185</td>\n",
       "      <td>0.038993</td>\n",
       "    </tr>\n",
       "  </tbody>\n",
       "</table>\n",
       "<p>1 rows × 384 columns</p>\n",
       "</div>"
      ],
      "text/plain": [
       "        0         1         2         3         4         5         6    \\\n",
       "0 -0.042887 -0.027272  0.030374  0.008532  0.056518 -0.001797  0.021955   \n",
       "\n",
       "        7         8         9    ...       374       375       376       377  \\\n",
       "0  0.015776 -0.092386  0.007293  ...  0.040135  0.075583 -0.007395 -0.021575   \n",
       "\n",
       "        378       379       380      381       382       383  \n",
       "0  0.021041  0.055265  0.055246 -0.09561 -0.091185  0.038993  \n",
       "\n",
       "[1 rows x 384 columns]"
      ]
     },
     "execution_count": 6,
     "metadata": {},
     "output_type": "execute_result"
    }
   ],
   "source": [
    "X_embedding = pd.DataFrame(embed(resume)).T\n",
    "# embedding_test = pd.concat(\n",
    "#     [jd_test.category, pd.DataFrame(embedding_vectors_test)], axis=1)\n",
    "# embedding_test\n",
    "X_embedding"
   ]
  }
 ],
 "metadata": {
  "kernelspec": {
   "display_name": "tff",
   "language": "python",
   "name": "python3"
  },
  "language_info": {
   "codemirror_mode": {
    "name": "ipython",
    "version": 3
   },
   "file_extension": ".py",
   "mimetype": "text/x-python",
   "name": "python",
   "nbconvert_exporter": "python",
   "pygments_lexer": "ipython3",
   "version": "3.10.8"
  },
  "orig_nbformat": 4
 },
 "nbformat": 4,
 "nbformat_minor": 2
}
