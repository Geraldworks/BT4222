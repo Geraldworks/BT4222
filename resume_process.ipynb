{
 "cells": [
  {
   "cell_type": "code",
   "execution_count": 6,
   "metadata": {},
   "outputs": [],
   "source": [
    "from bag_of_words import *\n",
    "from word_embedding import *"
   ]
  },
  {
   "cell_type": "code",
   "execution_count": 7,
   "metadata": {},
   "outputs": [
    {
     "data": {
      "text/plain": [
       "'Sze Ying Lim Independent and quick learner seeking summer internships (8 May 2023 - 28 July 2023) CONTACT +65 9759 0294 limszeying02@gmail.com www.linkedin.com/in/lim-sze-ying/  https://github.com/szeying02 EXPERIENCE Data Analyst Internship — Micron Technology, Inc May 2022 - July 2022 ● Developed Tableau data visualisation dashboard to aid decision-making ● Developed predictive multivariate regression models for yield improvements ● Developed SQL to extract real-time manufacturing data for production control ● Automated daily messaging system with tabulated data into Microsoft Teams Product Development Internship — GyroGear Ltd. February 2021 - July 2021 ● Produced actionable digests to guide next generation development ● Formalised legal correspondences, organised and archival of verbatim ● Managed marketing programs ● Conducted usability and patients’ evaluation sessions EDUCATION National University of Singapore, School of Computing Bachelor of Science (Business Analytics) CAP 4.86 / 5.0 August 2021 - May 2025 (Expected) ● Ministry of Education Industry Scholarship (Full-Term) ● Dean’s List Semester 1 AY21/22 ● Top in IS1103 Ethics in Computing (Semester 1 AY21/22) ● Participated in Shopee Code League, LifeHack, Data Analytics Competition Hwa Chong Institution — Cambridge GCE ‘A’ Level ● Hwa Chong Diploma with Distinction ● General Secretary, Infocomm Robotics Society (2019-2020) ● Ministry of Education Edusave Scholarships for Independent Schools ● 1st (Best Content Award), National Junior Robotics Competition 2019 Nanyang Girls’ High School — Integrated Programme ● Board of Elected Leaders (2017-2018) ● President, Infocomm Club (2017-2018) ● National Champion, RoboCup Singapore Soccer 2017 & 2018 ● Singapore Representative, RoboCup International 2017 & 2018  PROJECTS Panther — Full-Stack web app forum Tech Stack: React.js (TypeScipt, HTML, CSS), Go, PostgreSQL ● Allows users to interact on a web-based forum ● Account-based authentication with JSON Web Tokens and Session Cookies ● Developed RESTful API for client-sever interaction Study Wyth Me (Orbital) — Gamified mobile app that encourages studying Tech Stack: Dart, Flutter, Firebase ● Allow users to use a focussed pomodoro timer, interact on forums and earn points ● Conceptualised and developed the app from start to finish ● Synchronised live data from Firestore to update client-side Library Management System App — GUI for library users Tech Stack: Python, MySQL ● Created a GUI that allow users to borrow, reserve, return and pay fines for books ● Allows for searching and displaying of information from the database  ● Developed using Python packages: Tkinter and PyMySQL\\t SOFT SKILLS Collaborative team player  Critical thinking & Problem-Solving Creative & Analytical thinker Self-learning with strong initiative TECHNICAL SKILLS Programming Languages: Python, R, Java, Dart, VBA, HTML, CSS, JavaScript, TypeScript, Go Frameworks: Flutter, React.js, Vue.js Database Management: SQL, MySQL, MongoDB, PostgreSQL Data Visualization: Tableau COURSES Data Visualisation, Duke Java Programming, Duke SQL, DataCamp VOLUNTEERING Meet-the-People Sessions (Current) COVID-19 Vaccination Programme (2020-2021) Thye Hua Kwan Hospital (2017-2018) LANGUAGES English Chinese\\n\\n'"
      ]
     },
     "execution_count": 7,
     "metadata": {},
     "output_type": "execute_result"
    }
   ],
   "source": [
    "resume_file = open(\"resume_se.txt\", \"r\")\n",
    "resume = resume_file.read()\n",
    "resume_file.close()\n",
    "resume"
   ]
  },
  {
   "attachments": {},
   "cell_type": "markdown",
   "metadata": {},
   "source": [
    "Bag of words preprocessing"
   ]
  },
  {
   "cell_type": "code",
   "execution_count": 10,
   "metadata": {},
   "outputs": [
    {
     "ename": "LookupError",
     "evalue": "\n**********************************************************************\n  Resource \u001b[93mpunkt\u001b[0m not found.\n  Please use the NLTK Downloader to obtain the resource:\n\n  \u001b[31m>>> import nltk\n  >>> nltk.download('punkt')\n  \u001b[0m\n  For more information see: https://www.nltk.org/data.html\n\n  Attempted to load \u001b[93mtokenizers/punkt/PY3/english.pickle\u001b[0m\n\n  Searched in:\n    - '/Users/szeyinglim/nltk_data'\n    - '/Users/szeyinglim/miniforge3/envs/tff/nltk_data'\n    - '/Users/szeyinglim/miniforge3/envs/tff/share/nltk_data'\n    - '/Users/szeyinglim/miniforge3/envs/tff/lib/nltk_data'\n    - '/usr/share/nltk_data'\n    - '/usr/local/share/nltk_data'\n    - '/usr/lib/nltk_data'\n    - '/usr/local/lib/nltk_data'\n    - ''\n**********************************************************************\n",
     "output_type": "error",
     "traceback": [
      "\u001b[0;31m---------------------------------------------------------------------------\u001b[0m",
      "\u001b[0;31mLookupError\u001b[0m                               Traceback (most recent call last)",
      "Cell \u001b[0;32mIn[10], line 2\u001b[0m\n\u001b[1;32m      1\u001b[0m top_stems \u001b[39m=\u001b[39m [x[\u001b[39m0\u001b[39m] \u001b[39mfor\u001b[39;00m x \u001b[39min\u001b[39;00m pd\u001b[39m.\u001b[39mread_csv(\u001b[39m\"\u001b[39m\u001b[39mtop_stems.csv\u001b[39m\u001b[39m\"\u001b[39m, header\u001b[39m=\u001b[39m\u001b[39mNone\u001b[39;00m)\u001b[39m.\u001b[39mvalues\u001b[39m.\u001b[39mtolist()]\n\u001b[0;32m----> 2\u001b[0m tokens \u001b[39m=\u001b[39m get_tokenized_text(resume)\n\u001b[1;32m      3\u001b[0m is_noun_or_adj \u001b[39m=\u001b[39m get_nouns_and_adjs(tokens)\n\u001b[1;32m      4\u001b[0m lemmatized_tokens \u001b[39m=\u001b[39m pd\u001b[39m.\u001b[39mSeries([[lemmatize(word) \u001b[39mfor\u001b[39;00m word \u001b[39min\u001b[39;00m tokens]], dtype\u001b[39m=\u001b[39m\u001b[39m\"\u001b[39m\u001b[39mobject\u001b[39m\u001b[39m\"\u001b[39m)\n",
      "File \u001b[0;32m~/Desktop/job-search-nlp/bag_of_words.py:14\u001b[0m, in \u001b[0;36mget_tokenized_text\u001b[0;34m(txt)\u001b[0m\n\u001b[1;32m     13\u001b[0m \u001b[39mdef\u001b[39;00m \u001b[39mget_tokenized_text\u001b[39m(txt):\n\u001b[0;32m---> 14\u001b[0m     \u001b[39mreturn\u001b[39;00m nltk\u001b[39m.\u001b[39;49mword_tokenize(txt)\n",
      "File \u001b[0;32m~/miniforge3/envs/tff/lib/python3.9/site-packages/nltk/tokenize/__init__.py:129\u001b[0m, in \u001b[0;36mword_tokenize\u001b[0;34m(text, language, preserve_line)\u001b[0m\n\u001b[1;32m    114\u001b[0m \u001b[39mdef\u001b[39;00m \u001b[39mword_tokenize\u001b[39m(text, language\u001b[39m=\u001b[39m\u001b[39m\"\u001b[39m\u001b[39menglish\u001b[39m\u001b[39m\"\u001b[39m, preserve_line\u001b[39m=\u001b[39m\u001b[39mFalse\u001b[39;00m):\n\u001b[1;32m    115\u001b[0m \u001b[39m    \u001b[39m\u001b[39m\"\"\"\u001b[39;00m\n\u001b[1;32m    116\u001b[0m \u001b[39m    Return a tokenized copy of *text*,\u001b[39;00m\n\u001b[1;32m    117\u001b[0m \u001b[39m    using NLTK's recommended word tokenizer\u001b[39;00m\n\u001b[0;32m   (...)\u001b[0m\n\u001b[1;32m    127\u001b[0m \u001b[39m    :type preserve_line: bool\u001b[39;00m\n\u001b[1;32m    128\u001b[0m \u001b[39m    \"\"\"\u001b[39;00m\n\u001b[0;32m--> 129\u001b[0m     sentences \u001b[39m=\u001b[39m [text] \u001b[39mif\u001b[39;00m preserve_line \u001b[39melse\u001b[39;00m sent_tokenize(text, language)\n\u001b[1;32m    130\u001b[0m     \u001b[39mreturn\u001b[39;00m [\n\u001b[1;32m    131\u001b[0m         token \u001b[39mfor\u001b[39;00m sent \u001b[39min\u001b[39;00m sentences \u001b[39mfor\u001b[39;00m token \u001b[39min\u001b[39;00m _treebank_word_tokenizer\u001b[39m.\u001b[39mtokenize(sent)\n\u001b[1;32m    132\u001b[0m     ]\n",
      "File \u001b[0;32m~/miniforge3/envs/tff/lib/python3.9/site-packages/nltk/tokenize/__init__.py:106\u001b[0m, in \u001b[0;36msent_tokenize\u001b[0;34m(text, language)\u001b[0m\n\u001b[1;32m     96\u001b[0m \u001b[39mdef\u001b[39;00m \u001b[39msent_tokenize\u001b[39m(text, language\u001b[39m=\u001b[39m\u001b[39m\"\u001b[39m\u001b[39menglish\u001b[39m\u001b[39m\"\u001b[39m):\n\u001b[1;32m     97\u001b[0m \u001b[39m    \u001b[39m\u001b[39m\"\"\"\u001b[39;00m\n\u001b[1;32m     98\u001b[0m \u001b[39m    Return a sentence-tokenized copy of *text*,\u001b[39;00m\n\u001b[1;32m     99\u001b[0m \u001b[39m    using NLTK's recommended sentence tokenizer\u001b[39;00m\n\u001b[0;32m   (...)\u001b[0m\n\u001b[1;32m    104\u001b[0m \u001b[39m    :param language: the model name in the Punkt corpus\u001b[39;00m\n\u001b[1;32m    105\u001b[0m \u001b[39m    \"\"\"\u001b[39;00m\n\u001b[0;32m--> 106\u001b[0m     tokenizer \u001b[39m=\u001b[39m load(\u001b[39mf\u001b[39;49m\u001b[39m\"\u001b[39;49m\u001b[39mtokenizers/punkt/\u001b[39;49m\u001b[39m{\u001b[39;49;00mlanguage\u001b[39m}\u001b[39;49;00m\u001b[39m.pickle\u001b[39;49m\u001b[39m\"\u001b[39;49m)\n\u001b[1;32m    107\u001b[0m     \u001b[39mreturn\u001b[39;00m tokenizer\u001b[39m.\u001b[39mtokenize(text)\n",
      "File \u001b[0;32m~/miniforge3/envs/tff/lib/python3.9/site-packages/nltk/data.py:750\u001b[0m, in \u001b[0;36mload\u001b[0;34m(resource_url, format, cache, verbose, logic_parser, fstruct_reader, encoding)\u001b[0m\n\u001b[1;32m    747\u001b[0m     \u001b[39mprint\u001b[39m(\u001b[39mf\u001b[39m\u001b[39m\"\u001b[39m\u001b[39m<<Loading \u001b[39m\u001b[39m{\u001b[39;00mresource_url\u001b[39m}\u001b[39;00m\u001b[39m>>\u001b[39m\u001b[39m\"\u001b[39m)\n\u001b[1;32m    749\u001b[0m \u001b[39m# Load the resource.\u001b[39;00m\n\u001b[0;32m--> 750\u001b[0m opened_resource \u001b[39m=\u001b[39m _open(resource_url)\n\u001b[1;32m    752\u001b[0m \u001b[39mif\u001b[39;00m \u001b[39mformat\u001b[39m \u001b[39m==\u001b[39m \u001b[39m\"\u001b[39m\u001b[39mraw\u001b[39m\u001b[39m\"\u001b[39m:\n\u001b[1;32m    753\u001b[0m     resource_val \u001b[39m=\u001b[39m opened_resource\u001b[39m.\u001b[39mread()\n",
      "File \u001b[0;32m~/miniforge3/envs/tff/lib/python3.9/site-packages/nltk/data.py:876\u001b[0m, in \u001b[0;36m_open\u001b[0;34m(resource_url)\u001b[0m\n\u001b[1;32m    873\u001b[0m protocol, path_ \u001b[39m=\u001b[39m split_resource_url(resource_url)\n\u001b[1;32m    875\u001b[0m \u001b[39mif\u001b[39;00m protocol \u001b[39mis\u001b[39;00m \u001b[39mNone\u001b[39;00m \u001b[39mor\u001b[39;00m protocol\u001b[39m.\u001b[39mlower() \u001b[39m==\u001b[39m \u001b[39m\"\u001b[39m\u001b[39mnltk\u001b[39m\u001b[39m\"\u001b[39m:\n\u001b[0;32m--> 876\u001b[0m     \u001b[39mreturn\u001b[39;00m find(path_, path \u001b[39m+\u001b[39;49m [\u001b[39m\"\u001b[39;49m\u001b[39m\"\u001b[39;49m])\u001b[39m.\u001b[39mopen()\n\u001b[1;32m    877\u001b[0m \u001b[39melif\u001b[39;00m protocol\u001b[39m.\u001b[39mlower() \u001b[39m==\u001b[39m \u001b[39m\"\u001b[39m\u001b[39mfile\u001b[39m\u001b[39m\"\u001b[39m:\n\u001b[1;32m    878\u001b[0m     \u001b[39m# urllib might not use mode='rb', so handle this one ourselves:\u001b[39;00m\n\u001b[1;32m    879\u001b[0m     \u001b[39mreturn\u001b[39;00m find(path_, [\u001b[39m\"\u001b[39m\u001b[39m\"\u001b[39m])\u001b[39m.\u001b[39mopen()\n",
      "File \u001b[0;32m~/miniforge3/envs/tff/lib/python3.9/site-packages/nltk/data.py:583\u001b[0m, in \u001b[0;36mfind\u001b[0;34m(resource_name, paths)\u001b[0m\n\u001b[1;32m    581\u001b[0m sep \u001b[39m=\u001b[39m \u001b[39m\"\u001b[39m\u001b[39m*\u001b[39m\u001b[39m\"\u001b[39m \u001b[39m*\u001b[39m \u001b[39m70\u001b[39m\n\u001b[1;32m    582\u001b[0m resource_not_found \u001b[39m=\u001b[39m \u001b[39mf\u001b[39m\u001b[39m\"\u001b[39m\u001b[39m\\n\u001b[39;00m\u001b[39m{\u001b[39;00msep\u001b[39m}\u001b[39;00m\u001b[39m\\n\u001b[39;00m\u001b[39m{\u001b[39;00mmsg\u001b[39m}\u001b[39;00m\u001b[39m\\n\u001b[39;00m\u001b[39m{\u001b[39;00msep\u001b[39m}\u001b[39;00m\u001b[39m\\n\u001b[39;00m\u001b[39m\"\u001b[39m\n\u001b[0;32m--> 583\u001b[0m \u001b[39mraise\u001b[39;00m \u001b[39mLookupError\u001b[39;00m(resource_not_found)\n",
      "\u001b[0;31mLookupError\u001b[0m: \n**********************************************************************\n  Resource \u001b[93mpunkt\u001b[0m not found.\n  Please use the NLTK Downloader to obtain the resource:\n\n  \u001b[31m>>> import nltk\n  >>> nltk.download('punkt')\n  \u001b[0m\n  For more information see: https://www.nltk.org/data.html\n\n  Attempted to load \u001b[93mtokenizers/punkt/PY3/english.pickle\u001b[0m\n\n  Searched in:\n    - '/Users/szeyinglim/nltk_data'\n    - '/Users/szeyinglim/miniforge3/envs/tff/nltk_data'\n    - '/Users/szeyinglim/miniforge3/envs/tff/share/nltk_data'\n    - '/Users/szeyinglim/miniforge3/envs/tff/lib/nltk_data'\n    - '/usr/share/nltk_data'\n    - '/usr/local/share/nltk_data'\n    - '/usr/lib/nltk_data'\n    - '/usr/local/lib/nltk_data'\n    - ''\n**********************************************************************\n"
     ]
    }
   ],
   "source": [
    "top_stems = [x[0] for x in pd.read_csv(\"top_stems.csv\", header=None).values.tolist()]\n",
    "tokens = get_tokenized_text(resume)\n",
    "is_noun_or_adj = get_nouns_and_adjs(tokens)\n",
    "lemmatized_tokens = pd.Series([[lemmatize(word) for word in tokens]], dtype=\"object\")\n",
    "X_bag = pd.DataFrame(get_tfidf(lemmatized_tokens, top_stems), columns=top_stems)\n",
    "X_bag.head()"
   ]
  },
  {
   "attachments": {},
   "cell_type": "markdown",
   "metadata": {},
   "source": [
    "Word embedding preprocessing"
   ]
  },
  {
   "cell_type": "code",
   "execution_count": null,
   "metadata": {},
   "outputs": [
    {
     "data": {
      "text/html": [
       "<div>\n",
       "<style scoped>\n",
       "    .dataframe tbody tr th:only-of-type {\n",
       "        vertical-align: middle;\n",
       "    }\n",
       "\n",
       "    .dataframe tbody tr th {\n",
       "        vertical-align: top;\n",
       "    }\n",
       "\n",
       "    .dataframe thead th {\n",
       "        text-align: right;\n",
       "    }\n",
       "</style>\n",
       "<table border=\"1\" class=\"dataframe\">\n",
       "  <thead>\n",
       "    <tr style=\"text-align: right;\">\n",
       "      <th></th>\n",
       "      <th>0</th>\n",
       "      <th>1</th>\n",
       "      <th>2</th>\n",
       "      <th>3</th>\n",
       "      <th>4</th>\n",
       "      <th>5</th>\n",
       "      <th>6</th>\n",
       "      <th>7</th>\n",
       "      <th>8</th>\n",
       "      <th>9</th>\n",
       "      <th>...</th>\n",
       "      <th>374</th>\n",
       "      <th>375</th>\n",
       "      <th>376</th>\n",
       "      <th>377</th>\n",
       "      <th>378</th>\n",
       "      <th>379</th>\n",
       "      <th>380</th>\n",
       "      <th>381</th>\n",
       "      <th>382</th>\n",
       "      <th>383</th>\n",
       "    </tr>\n",
       "  </thead>\n",
       "  <tbody>\n",
       "    <tr>\n",
       "      <th>0</th>\n",
       "      <td>-0.042887</td>\n",
       "      <td>-0.027272</td>\n",
       "      <td>0.030374</td>\n",
       "      <td>0.008532</td>\n",
       "      <td>0.056518</td>\n",
       "      <td>-0.001797</td>\n",
       "      <td>0.021955</td>\n",
       "      <td>0.015776</td>\n",
       "      <td>-0.092386</td>\n",
       "      <td>0.007293</td>\n",
       "      <td>...</td>\n",
       "      <td>0.040135</td>\n",
       "      <td>0.075583</td>\n",
       "      <td>-0.007395</td>\n",
       "      <td>-0.021575</td>\n",
       "      <td>0.021041</td>\n",
       "      <td>0.055265</td>\n",
       "      <td>0.055246</td>\n",
       "      <td>-0.09561</td>\n",
       "      <td>-0.091185</td>\n",
       "      <td>0.038993</td>\n",
       "    </tr>\n",
       "  </tbody>\n",
       "</table>\n",
       "<p>1 rows × 384 columns</p>\n",
       "</div>"
      ],
      "text/plain": [
       "        0         1         2         3         4         5         6    \\\n",
       "0 -0.042887 -0.027272  0.030374  0.008532  0.056518 -0.001797  0.021955   \n",
       "\n",
       "        7         8         9    ...       374       375       376       377  \\\n",
       "0  0.015776 -0.092386  0.007293  ...  0.040135  0.075583 -0.007395 -0.021575   \n",
       "\n",
       "        378       379       380      381       382       383  \n",
       "0  0.021041  0.055265  0.055246 -0.09561 -0.091185  0.038993  \n",
       "\n",
       "[1 rows x 384 columns]"
      ]
     },
     "execution_count": 6,
     "metadata": {},
     "output_type": "execute_result"
    }
   ],
   "source": [
    "X_embedding = pd.DataFrame(embed(resume)).T\n",
    "# embedding_test = pd.concat(\n",
    "#     [jd_test.category, pd.DataFrame(embedding_vectors_test)], axis=1)\n",
    "# embedding_test\n",
    "X_embedding"
   ]
  },
  {
   "attachments": {},
   "cell_type": "markdown",
   "metadata": {},
   "source": [
    "## Export "
   ]
  },
  {
   "cell_type": "code",
   "execution_count": null,
   "metadata": {},
   "outputs": [
    {
     "ename": "NameError",
     "evalue": "name 'X_bag' is not defined",
     "output_type": "error",
     "traceback": [
      "\u001b[0;31m---------------------------------------------------------------------------\u001b[0m",
      "\u001b[0;31mNameError\u001b[0m                                 Traceback (most recent call last)",
      "Cell \u001b[0;32mIn[1], line 1\u001b[0m\n\u001b[0;32m----> 1\u001b[0m X_bag\u001b[39m.\u001b[39mto_csv(\u001b[39m\"\u001b[39m\u001b[39mbag_resume_se\u001b[39m\u001b[39m\"\u001b[39m, index\u001b[39m=\u001b[39m\u001b[39mFalse\u001b[39;00m)\n\u001b[1;32m      2\u001b[0m X_embedding\u001b[39m.\u001b[39mto_csv(\u001b[39m\"\u001b[39m\u001b[39membedding_resume_se\u001b[39m\u001b[39m\"\u001b[39m, index\u001b[39m=\u001b[39m\u001b[39mFalse\u001b[39;00m)\n",
      "\u001b[0;31mNameError\u001b[0m: name 'X_bag' is not defined"
     ]
    }
   ],
   "source": [
    "X_bag.to_csv(\"bag_resume_se\", index=False)\n",
    "X_embedding.to_csv(\"embedding_resume_se\", index=False)"
   ]
  }
 ],
 "metadata": {
  "kernelspec": {
   "display_name": "tff",
   "language": "python",
   "name": "python3"
  },
  "language_info": {
   "codemirror_mode": {
    "name": "ipython",
    "version": 3
   },
   "file_extension": ".py",
   "mimetype": "text/x-python",
   "name": "python",
   "nbconvert_exporter": "python",
   "pygments_lexer": "ipython3",
   "version": "3.9.16"
  },
  "orig_nbformat": 4
 },
 "nbformat": 4,
 "nbformat_minor": 2
}
