{
 "cells": [
  {
   "cell_type": "code",
   "execution_count": 1,
   "metadata": {},
   "outputs": [],
   "source": [
    "from bag_of_words import *\n",
    "from word_embedding import *"
   ]
  },
  {
   "cell_type": "code",
   "execution_count": 2,
   "metadata": {},
   "outputs": [],
   "source": [
    "difficulty_levels = [\"easy\", \"difficult\"]\n",
    "resume_category = \"se\""
   ]
  },
  {
   "cell_type": "code",
   "execution_count": 3,
   "metadata": {},
   "outputs": [
    {
     "data": {
      "text/plain": [
       "'Sze Ying Lim Independent and quick learner seeking summer internships (8 May 2023 - 28 July 2023)\\t    CONTACT +65 9759 0294 limszeying02@gmail.com www.linkedin.com/in/lim-sze-ying/  https://github.com szeying02 EXPERIENCE Data Analyst Internship — Micron Technology, Inc May 2022 - July 2022 ●\\tDeveloped Tableau data visualisation dashboard to aid software development ●\\tDesigned predictive multivariate regression models for yield system improvements ●\\tDeveloped SQL to extract real-time manufacturing data for production control ●\\tAutomated daily messaging system with tabulated data into Microsoft Teams Product Development Internship — GyroGear Ltd. February 2021 - July 2021 ●\\tProduced actionable digests to guide next generation development ●\\tFormalised legal correspondences, organised and archival of verbatim ●\\tManaged marketing programs  ●\\tConducted usability and patients’ evaluation sessions EDUCATION National University of Singapore, School of Computing Bachelor of Science (Business Analytics) CAP 4.86 / 5.0 August 2021 - May 2025 (Expected) ●\\tMinistry of Education Industry Scholarship (Full-Term) ●\\tDean’s List Semester 1 AY21/22 ●\\tTop in IS1103 Ethics in Computing (Semester 1 AY21/22) ● Participated in Shopee Code League, LifeHack, Data Analytics Competition Hwa Chong Institution — Cambridge GCE ‘A’ Level ●\\tHwa Chong Diploma with Distinction ●\\tGeneral Secretary, Infocomm Robotics Society (2019-2020) ●\\tMinistry of Education Edusave Scholarships for Independent Schools ●\\t1st (Best Content Award), National Junior Robotics Competition 2019  Nanyang Girls’ High School — Integrated Programme ●\\tBoard of Elected Leaders (2017-2018) ●\\tPresident, Infocomm Club (2017-2018)  ●\\tNational Champion, RoboCup Singapore Soccer 2017 & 2018 ●\\tSingapore Representative, RoboCup International 2017 & 2018  PROJECTS Panther — Full-Stack web app forum Tech Stack: React.js (TypeScipt, HTML, CSS), Go, PostgreSQL ●\\tCollaborated with experienced software engineers to design a system that allows users to interact on a web-based platform ●\\tAccount-based authentication with JSON Web Tokens and Session Cookies ●\\tDeveloped RESTful API for client-sever interaction Study Wyth Me (Orbital) — Gamified mobile application that encourages studying Tech Stack: Dart, Flutter, Firebase ●\\tAllow users to use a focussed pomodoro timer, interact on platforms and earn points ●\\tConceptualised and developed the application from start to finish ●\\tSynchronised live data from Firestore to update client Library Management System Application — GUI for library users Tech Stack: Python, MySQL ●\\tCreated a GUI that allow users to borrow, reserve, return and pay fines for books ●\\tAllows for searching and displaying of information from the system  ●\\tDeveloped using Python packages: Tkinter and PyMySQL\\t SOFT SKILLS Collaborative team player  Critical thinking & Problem-Solving Creative & Analytical thinker Self-learning with strong initiative TECHNICAL SKILLS Programming Languages: Python, R, Java, Dart, VBA, HTML, CSS, JavaScript, TypeScript, Go Web Frameworks : Spring, Flask, Express.js Performance Optimization: Fixing performance in backend applications using JProfiler, New Relic COURSES Data Visualisation, Duke Java Programming, Duke SQL, DataCamp Software development, Udemy VOLUNTEERING Meet-the-People Sessions (Current) COVID-19 Vaccination Programme (2020-2021) Thye Hua Kwan Hospital (2017-2018) LANGUAGES English Chinese\\n\\n'"
      ]
     },
     "execution_count": 3,
     "metadata": {},
     "output_type": "execute_result"
    }
   ],
   "source": [
    "resume_file = open(f\"resume_{resume_category}.txt\", \"r\")\n",
    "resume = resume_file.read()\n",
    "resume_file.close()\n",
    "resume"
   ]
  },
  {
   "attachments": {},
   "cell_type": "markdown",
   "metadata": {},
   "source": [
    "Bag of words preprocessing"
   ]
  },
  {
   "cell_type": "code",
   "execution_count": 4,
   "metadata": {},
   "outputs": [],
   "source": [
    "for difficulty_level in difficulty_levels:\n",
    "    top_stems = [x[0] for x in pd.read_csv(f\"top_stems_{difficulty_level}.csv\").values][0],\n",
    "    tokens = get_tokenized_text(resume)\n",
    "    is_noun_or_adj = get_nouns_and_adjs(tokens)\n",
    "    lemmatized_tokens = pd.Series([[lemmatize(word) for word in tokens]], dtype=\"object\")\n",
    "    X_bag = pd.DataFrame(get_tfidf(lemmatized_tokens, top_stems), columns=top_stems)\n",
    "    X_bag.to_csv(f\"resume_bag_{resume_category}_{difficulty_level}.csv\", index=False)"
   ]
  },
  {
   "attachments": {},
   "cell_type": "markdown",
   "metadata": {},
   "source": [
    "Word embedding preprocessing"
   ]
  },
  {
   "cell_type": "code",
   "execution_count": 5,
   "metadata": {},
   "outputs": [],
   "source": [
    "X_embedding = pd.DataFrame(embed(resume)).T\n",
    "X_embedding.to_csv(f\"resume_embedding_{resume_category}\", index=False)"
   ]
  }
 ],
 "metadata": {
  "kernelspec": {
   "display_name": "tff",
   "language": "python",
   "name": "python3"
  },
  "language_info": {
   "codemirror_mode": {
    "name": "ipython",
    "version": 3
   },
   "file_extension": ".py",
   "mimetype": "text/x-python",
   "name": "python",
   "nbconvert_exporter": "python",
   "pygments_lexer": "ipython3",
   "version": "3.10.8"
  },
  "orig_nbformat": 4
 },
 "nbformat": 4,
 "nbformat_minor": 2
}
