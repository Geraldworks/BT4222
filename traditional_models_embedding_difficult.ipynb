{
 "cells": [
  {
   "attachments": {},
   "cell_type": "markdown",
   "metadata": {},
   "source": [
    "# Installing Libraries"
   ]
  },
  {
   "cell_type": "code",
   "execution_count": 1,
   "metadata": {},
   "outputs": [],
   "source": [
    "import pandas as pd\n",
    "\n",
    "from sklearn.preprocessing import LabelEncoder\n",
    "\n",
    "# for the models\n",
    "from sklearn.linear_model import LogisticRegression\n",
    "from sklearn.svm import SVC\n",
    "from sklearn.ensemble import RandomForestClassifier, AdaBoostClassifier, GradientBoostingClassifier\n",
    "from sklearn.naive_bayes import GaussianNB\n",
    "from sklearn.tree import DecisionTreeClassifier\n",
    "import xgboost as xgb\n",
    "from sklearn.model_selection import GridSearchCV\n",
    "\n",
    "# for evaluation metrics of the models\n",
    "from sklearn.metrics import accuracy_score, roc_auc_score, classification_report, precision_score, recall_score, f1_score\n",
    "import modelEnsemble as me"
   ]
  },
  {
   "attachments": {},
   "cell_type": "markdown",
   "metadata": {},
   "source": [
    "# Reading Dataset"
   ]
  },
  {
   "attachments": {},
   "cell_type": "markdown",
   "metadata": {},
   "source": [
    "### Reading Train Dataset"
   ]
  },
  {
   "cell_type": "code",
   "execution_count": 2,
   "metadata": {},
   "outputs": [
    {
     "data": {
      "text/html": [
       "<div>\n",
       "<style scoped>\n",
       "    .dataframe tbody tr th:only-of-type {\n",
       "        vertical-align: middle;\n",
       "    }\n",
       "\n",
       "    .dataframe tbody tr th {\n",
       "        vertical-align: top;\n",
       "    }\n",
       "\n",
       "    .dataframe thead th {\n",
       "        text-align: right;\n",
       "    }\n",
       "</style>\n",
       "<table border=\"1\" class=\"dataframe\">\n",
       "  <thead>\n",
       "    <tr style=\"text-align: right;\">\n",
       "      <th></th>\n",
       "      <th>category</th>\n",
       "      <th>0</th>\n",
       "      <th>1</th>\n",
       "      <th>2</th>\n",
       "      <th>3</th>\n",
       "      <th>4</th>\n",
       "      <th>5</th>\n",
       "      <th>6</th>\n",
       "      <th>7</th>\n",
       "      <th>8</th>\n",
       "      <th>...</th>\n",
       "      <th>374</th>\n",
       "      <th>375</th>\n",
       "      <th>376</th>\n",
       "      <th>377</th>\n",
       "      <th>378</th>\n",
       "      <th>379</th>\n",
       "      <th>380</th>\n",
       "      <th>381</th>\n",
       "      <th>382</th>\n",
       "      <th>383</th>\n",
       "    </tr>\n",
       "  </thead>\n",
       "  <tbody>\n",
       "    <tr>\n",
       "      <th>0</th>\n",
       "      <td>software+engineer</td>\n",
       "      <td>-0.067028</td>\n",
       "      <td>-0.037456</td>\n",
       "      <td>0.040710</td>\n",
       "      <td>-0.022643</td>\n",
       "      <td>-0.065919</td>\n",
       "      <td>-0.011505</td>\n",
       "      <td>0.014374</td>\n",
       "      <td>0.070613</td>\n",
       "      <td>-0.072635</td>\n",
       "      <td>...</td>\n",
       "      <td>0.073042</td>\n",
       "      <td>-0.004869</td>\n",
       "      <td>-0.012730</td>\n",
       "      <td>-0.012608</td>\n",
       "      <td>0.025585</td>\n",
       "      <td>0.136745</td>\n",
       "      <td>0.038581</td>\n",
       "      <td>-0.099147</td>\n",
       "      <td>0.001722</td>\n",
       "      <td>0.032735</td>\n",
       "    </tr>\n",
       "    <tr>\n",
       "      <th>1</th>\n",
       "      <td>software+engineer</td>\n",
       "      <td>-0.049825</td>\n",
       "      <td>-0.026897</td>\n",
       "      <td>-0.014653</td>\n",
       "      <td>-0.045330</td>\n",
       "      <td>-0.002588</td>\n",
       "      <td>-0.085351</td>\n",
       "      <td>-0.020295</td>\n",
       "      <td>-0.026342</td>\n",
       "      <td>-0.046522</td>\n",
       "      <td>...</td>\n",
       "      <td>0.153783</td>\n",
       "      <td>0.060030</td>\n",
       "      <td>0.053321</td>\n",
       "      <td>-0.115148</td>\n",
       "      <td>0.043106</td>\n",
       "      <td>0.170601</td>\n",
       "      <td>-0.040410</td>\n",
       "      <td>-0.039290</td>\n",
       "      <td>0.035469</td>\n",
       "      <td>0.022973</td>\n",
       "    </tr>\n",
       "    <tr>\n",
       "      <th>2</th>\n",
       "      <td>software+engineer</td>\n",
       "      <td>-0.109452</td>\n",
       "      <td>-0.018895</td>\n",
       "      <td>-0.011882</td>\n",
       "      <td>-0.049141</td>\n",
       "      <td>-0.065425</td>\n",
       "      <td>-0.020879</td>\n",
       "      <td>0.020536</td>\n",
       "      <td>0.049572</td>\n",
       "      <td>-0.068171</td>\n",
       "      <td>...</td>\n",
       "      <td>0.067979</td>\n",
       "      <td>0.060650</td>\n",
       "      <td>0.008373</td>\n",
       "      <td>-0.073202</td>\n",
       "      <td>0.039430</td>\n",
       "      <td>0.084493</td>\n",
       "      <td>-0.058907</td>\n",
       "      <td>0.041129</td>\n",
       "      <td>-0.041035</td>\n",
       "      <td>-0.106831</td>\n",
       "    </tr>\n",
       "    <tr>\n",
       "      <th>3</th>\n",
       "      <td>ui+ux</td>\n",
       "      <td>-0.059268</td>\n",
       "      <td>0.002888</td>\n",
       "      <td>0.038257</td>\n",
       "      <td>0.000755</td>\n",
       "      <td>-0.040839</td>\n",
       "      <td>0.018103</td>\n",
       "      <td>0.136779</td>\n",
       "      <td>0.048689</td>\n",
       "      <td>-0.019846</td>\n",
       "      <td>...</td>\n",
       "      <td>-0.003655</td>\n",
       "      <td>0.047657</td>\n",
       "      <td>0.028251</td>\n",
       "      <td>-0.037878</td>\n",
       "      <td>0.034004</td>\n",
       "      <td>0.074488</td>\n",
       "      <td>0.008779</td>\n",
       "      <td>-0.027154</td>\n",
       "      <td>-0.012630</td>\n",
       "      <td>0.000571</td>\n",
       "    </tr>\n",
       "    <tr>\n",
       "      <th>4</th>\n",
       "      <td>ui+ux</td>\n",
       "      <td>-0.012034</td>\n",
       "      <td>0.015511</td>\n",
       "      <td>-0.003249</td>\n",
       "      <td>-0.078507</td>\n",
       "      <td>0.065040</td>\n",
       "      <td>-0.028536</td>\n",
       "      <td>-0.031559</td>\n",
       "      <td>0.013882</td>\n",
       "      <td>0.022090</td>\n",
       "      <td>...</td>\n",
       "      <td>0.019392</td>\n",
       "      <td>0.086536</td>\n",
       "      <td>-0.006240</td>\n",
       "      <td>0.011584</td>\n",
       "      <td>-0.047290</td>\n",
       "      <td>0.095525</td>\n",
       "      <td>-0.002575</td>\n",
       "      <td>-0.077631</td>\n",
       "      <td>-0.090518</td>\n",
       "      <td>0.043476</td>\n",
       "    </tr>\n",
       "  </tbody>\n",
       "</table>\n",
       "<p>5 rows × 385 columns</p>\n",
       "</div>"
      ],
      "text/plain": [
       "            category         0         1         2         3         4  \\\n",
       "0  software+engineer -0.067028 -0.037456  0.040710 -0.022643 -0.065919   \n",
       "1  software+engineer -0.049825 -0.026897 -0.014653 -0.045330 -0.002588   \n",
       "2  software+engineer -0.109452 -0.018895 -0.011882 -0.049141 -0.065425   \n",
       "3              ui+ux -0.059268  0.002888  0.038257  0.000755 -0.040839   \n",
       "4              ui+ux -0.012034  0.015511 -0.003249 -0.078507  0.065040   \n",
       "\n",
       "          5         6         7         8  ...       374       375       376  \\\n",
       "0 -0.011505  0.014374  0.070613 -0.072635  ...  0.073042 -0.004869 -0.012730   \n",
       "1 -0.085351 -0.020295 -0.026342 -0.046522  ...  0.153783  0.060030  0.053321   \n",
       "2 -0.020879  0.020536  0.049572 -0.068171  ...  0.067979  0.060650  0.008373   \n",
       "3  0.018103  0.136779  0.048689 -0.019846  ... -0.003655  0.047657  0.028251   \n",
       "4 -0.028536 -0.031559  0.013882  0.022090  ...  0.019392  0.086536 -0.006240   \n",
       "\n",
       "        377       378       379       380       381       382       383  \n",
       "0 -0.012608  0.025585  0.136745  0.038581 -0.099147  0.001722  0.032735  \n",
       "1 -0.115148  0.043106  0.170601 -0.040410 -0.039290  0.035469  0.022973  \n",
       "2 -0.073202  0.039430  0.084493 -0.058907  0.041129 -0.041035 -0.106831  \n",
       "3 -0.037878  0.034004  0.074488  0.008779 -0.027154 -0.012630  0.000571  \n",
       "4  0.011584 -0.047290  0.095525 -0.002575 -0.077631 -0.090518  0.043476  \n",
       "\n",
       "[5 rows x 385 columns]"
      ]
     },
     "execution_count": 2,
     "metadata": {},
     "output_type": "execute_result"
    }
   ],
   "source": [
    "train_data = pd.read_csv(\"embedding_difficult_train.csv\")\n",
    "X_train = train_data.drop([\"category\"], axis =  \"columns\")\n",
    "y_train = train_data[['category']]\n",
    "train_data.head()"
   ]
  },
  {
   "attachments": {},
   "cell_type": "markdown",
   "metadata": {},
   "source": [
    "### Reading Test Dataset"
   ]
  },
  {
   "cell_type": "code",
   "execution_count": 3,
   "metadata": {},
   "outputs": [
    {
     "data": {
      "text/html": [
       "<div>\n",
       "<style scoped>\n",
       "    .dataframe tbody tr th:only-of-type {\n",
       "        vertical-align: middle;\n",
       "    }\n",
       "\n",
       "    .dataframe tbody tr th {\n",
       "        vertical-align: top;\n",
       "    }\n",
       "\n",
       "    .dataframe thead th {\n",
       "        text-align: right;\n",
       "    }\n",
       "</style>\n",
       "<table border=\"1\" class=\"dataframe\">\n",
       "  <thead>\n",
       "    <tr style=\"text-align: right;\">\n",
       "      <th></th>\n",
       "      <th>category</th>\n",
       "      <th>0</th>\n",
       "      <th>1</th>\n",
       "      <th>2</th>\n",
       "      <th>3</th>\n",
       "      <th>4</th>\n",
       "      <th>5</th>\n",
       "      <th>6</th>\n",
       "      <th>7</th>\n",
       "      <th>8</th>\n",
       "      <th>...</th>\n",
       "      <th>374</th>\n",
       "      <th>375</th>\n",
       "      <th>376</th>\n",
       "      <th>377</th>\n",
       "      <th>378</th>\n",
       "      <th>379</th>\n",
       "      <th>380</th>\n",
       "      <th>381</th>\n",
       "      <th>382</th>\n",
       "      <th>383</th>\n",
       "    </tr>\n",
       "  </thead>\n",
       "  <tbody>\n",
       "    <tr>\n",
       "      <th>0</th>\n",
       "      <td>data+analyst</td>\n",
       "      <td>-0.067792</td>\n",
       "      <td>-0.039427</td>\n",
       "      <td>-0.044609</td>\n",
       "      <td>0.047954</td>\n",
       "      <td>-0.020255</td>\n",
       "      <td>0.046215</td>\n",
       "      <td>0.005775</td>\n",
       "      <td>0.025648</td>\n",
       "      <td>-0.049265</td>\n",
       "      <td>...</td>\n",
       "      <td>-0.005009</td>\n",
       "      <td>0.040230</td>\n",
       "      <td>-0.025145</td>\n",
       "      <td>0.057344</td>\n",
       "      <td>-0.027139</td>\n",
       "      <td>0.044581</td>\n",
       "      <td>0.021295</td>\n",
       "      <td>-0.058819</td>\n",
       "      <td>-0.034744</td>\n",
       "      <td>0.034043</td>\n",
       "    </tr>\n",
       "    <tr>\n",
       "      <th>1</th>\n",
       "      <td>cyber+security</td>\n",
       "      <td>-0.031839</td>\n",
       "      <td>-0.009482</td>\n",
       "      <td>-0.023652</td>\n",
       "      <td>-0.019206</td>\n",
       "      <td>0.044170</td>\n",
       "      <td>-0.014529</td>\n",
       "      <td>0.033187</td>\n",
       "      <td>0.019848</td>\n",
       "      <td>-0.066667</td>\n",
       "      <td>...</td>\n",
       "      <td>0.024783</td>\n",
       "      <td>0.006127</td>\n",
       "      <td>0.019935</td>\n",
       "      <td>-0.044377</td>\n",
       "      <td>0.023766</td>\n",
       "      <td>0.079525</td>\n",
       "      <td>0.047992</td>\n",
       "      <td>-0.133125</td>\n",
       "      <td>-0.075094</td>\n",
       "      <td>0.007815</td>\n",
       "    </tr>\n",
       "    <tr>\n",
       "      <th>2</th>\n",
       "      <td>software+engineer</td>\n",
       "      <td>0.000286</td>\n",
       "      <td>0.063366</td>\n",
       "      <td>0.006427</td>\n",
       "      <td>-0.068235</td>\n",
       "      <td>0.004449</td>\n",
       "      <td>-0.010305</td>\n",
       "      <td>0.060434</td>\n",
       "      <td>-0.016027</td>\n",
       "      <td>-0.025250</td>\n",
       "      <td>...</td>\n",
       "      <td>0.045451</td>\n",
       "      <td>0.042614</td>\n",
       "      <td>0.058757</td>\n",
       "      <td>-0.078012</td>\n",
       "      <td>0.074350</td>\n",
       "      <td>0.160043</td>\n",
       "      <td>0.063957</td>\n",
       "      <td>-0.004549</td>\n",
       "      <td>-0.031632</td>\n",
       "      <td>0.029312</td>\n",
       "    </tr>\n",
       "    <tr>\n",
       "      <th>3</th>\n",
       "      <td>ui+ux</td>\n",
       "      <td>-0.057650</td>\n",
       "      <td>0.055610</td>\n",
       "      <td>0.026229</td>\n",
       "      <td>-0.047242</td>\n",
       "      <td>-0.035953</td>\n",
       "      <td>-0.046720</td>\n",
       "      <td>0.011318</td>\n",
       "      <td>0.081929</td>\n",
       "      <td>-0.048681</td>\n",
       "      <td>...</td>\n",
       "      <td>0.061916</td>\n",
       "      <td>0.065591</td>\n",
       "      <td>0.013310</td>\n",
       "      <td>-0.060660</td>\n",
       "      <td>0.049816</td>\n",
       "      <td>0.041116</td>\n",
       "      <td>-0.045918</td>\n",
       "      <td>0.072459</td>\n",
       "      <td>0.037671</td>\n",
       "      <td>0.065580</td>\n",
       "    </tr>\n",
       "    <tr>\n",
       "      <th>4</th>\n",
       "      <td>ui+ux</td>\n",
       "      <td>-0.089035</td>\n",
       "      <td>-0.014104</td>\n",
       "      <td>-0.008340</td>\n",
       "      <td>-0.051578</td>\n",
       "      <td>0.020056</td>\n",
       "      <td>-0.007032</td>\n",
       "      <td>0.044202</td>\n",
       "      <td>0.059013</td>\n",
       "      <td>-0.116712</td>\n",
       "      <td>...</td>\n",
       "      <td>0.083643</td>\n",
       "      <td>0.001030</td>\n",
       "      <td>0.027071</td>\n",
       "      <td>-0.058678</td>\n",
       "      <td>0.040474</td>\n",
       "      <td>0.126645</td>\n",
       "      <td>0.022273</td>\n",
       "      <td>-0.124107</td>\n",
       "      <td>-0.037943</td>\n",
       "      <td>0.056573</td>\n",
       "    </tr>\n",
       "  </tbody>\n",
       "</table>\n",
       "<p>5 rows × 385 columns</p>\n",
       "</div>"
      ],
      "text/plain": [
       "            category         0         1         2         3         4  \\\n",
       "0       data+analyst -0.067792 -0.039427 -0.044609  0.047954 -0.020255   \n",
       "1     cyber+security -0.031839 -0.009482 -0.023652 -0.019206  0.044170   \n",
       "2  software+engineer  0.000286  0.063366  0.006427 -0.068235  0.004449   \n",
       "3              ui+ux -0.057650  0.055610  0.026229 -0.047242 -0.035953   \n",
       "4              ui+ux -0.089035 -0.014104 -0.008340 -0.051578  0.020056   \n",
       "\n",
       "          5         6         7         8  ...       374       375       376  \\\n",
       "0  0.046215  0.005775  0.025648 -0.049265  ... -0.005009  0.040230 -0.025145   \n",
       "1 -0.014529  0.033187  0.019848 -0.066667  ...  0.024783  0.006127  0.019935   \n",
       "2 -0.010305  0.060434 -0.016027 -0.025250  ...  0.045451  0.042614  0.058757   \n",
       "3 -0.046720  0.011318  0.081929 -0.048681  ...  0.061916  0.065591  0.013310   \n",
       "4 -0.007032  0.044202  0.059013 -0.116712  ...  0.083643  0.001030  0.027071   \n",
       "\n",
       "        377       378       379       380       381       382       383  \n",
       "0  0.057344 -0.027139  0.044581  0.021295 -0.058819 -0.034744  0.034043  \n",
       "1 -0.044377  0.023766  0.079525  0.047992 -0.133125 -0.075094  0.007815  \n",
       "2 -0.078012  0.074350  0.160043  0.063957 -0.004549 -0.031632  0.029312  \n",
       "3 -0.060660  0.049816  0.041116 -0.045918  0.072459  0.037671  0.065580  \n",
       "4 -0.058678  0.040474  0.126645  0.022273 -0.124107 -0.037943  0.056573  \n",
       "\n",
       "[5 rows x 385 columns]"
      ]
     },
     "execution_count": 3,
     "metadata": {},
     "output_type": "execute_result"
    }
   ],
   "source": [
    "test_data = pd.read_csv(\"embedding_difficult_test.csv\")\n",
    "X_test = test_data.drop([\"category\"], axis =  \"columns\")\n",
    "y_test = test_data[['category']]\n",
    "test_data.head()"
   ]
  },
  {
   "attachments": {},
   "cell_type": "markdown",
   "metadata": {},
   "source": [
    "# Encode Y values\n",
    "\n",
    "Encode the string labels in y_train and y_test to numerical labels using the LabelEncoder class"
   ]
  },
  {
   "cell_type": "code",
   "execution_count": 4,
   "metadata": {},
   "outputs": [
    {
     "name": "stderr",
     "output_type": "stream",
     "text": [
      "/Library/Frameworks/Python.framework/Versions/3.10/lib/python3.10/site-packages/sklearn/preprocessing/_label.py:115: DataConversionWarning: A column-vector y was passed when a 1d array was expected. Please change the shape of y to (n_samples, ), for example using ravel().\n",
      "  y = column_or_1d(y, warn=True)\n",
      "/Library/Frameworks/Python.framework/Versions/3.10/lib/python3.10/site-packages/sklearn/preprocessing/_label.py:133: DataConversionWarning: A column-vector y was passed when a 1d array was expected. Please change the shape of y to (n_samples, ), for example using ravel().\n",
      "  y = column_or_1d(y, warn=True)\n"
     ]
    }
   ],
   "source": [
    "label_encoder = LabelEncoder()\n",
    "y_train_encoded = label_encoder.fit_transform(y_train)\n",
    "y_test_encoded = label_encoder.transform(y_test)"
   ]
  },
  {
   "cell_type": "code",
   "execution_count": 5,
   "metadata": {},
   "outputs": [],
   "source": [
    "report = me.modelReport(y_test_encoded)"
   ]
  },
  {
   "attachments": {},
   "cell_type": "markdown",
   "metadata": {},
   "source": [
    "# Models\n",
    "1. Logistic Regression \n",
    "2. SVM \n",
    "3. Adaboost\n",
    "4. Gradient Boosting\n",
    "5. Gaussian NB\n",
    "6. Decision Tree \n",
    "7. Random forest \n",
    "8. XGBoost"
   ]
  },
  {
   "attachments": {},
   "cell_type": "markdown",
   "metadata": {},
   "source": [
    "### 1. Logistic Regression"
   ]
  },
  {
   "cell_type": "code",
   "execution_count": 6,
   "metadata": {},
   "outputs": [
    {
     "name": "stdout",
     "output_type": "stream",
     "text": [
      "                   precision    recall  f1-score   support\n",
      "\n",
      "   cyber+security       0.97      0.95      0.96       212\n",
      "     data+analyst       0.87      0.94      0.90       172\n",
      "software+engineer       0.90      0.86      0.88       211\n",
      "            ui+ux       0.90      0.90      0.90       200\n",
      "\n",
      "         accuracy                           0.91       795\n",
      "        macro avg       0.91      0.91      0.91       795\n",
      "     weighted avg       0.91      0.91      0.91       795\n",
      "\n"
     ]
    }
   ],
   "source": [
    "logistic_regression_model = LogisticRegression(random_state = 0)\n",
    "logistic_regression_model.fit(X_train, y_train_encoded)\n",
    "\n",
    "logistic_regression_model_y_pred = logistic_regression_model.predict(X_test)\n",
    "logistic_regression_model_y_pred_prob = logistic_regression_model.predict_proba(X_test)\n",
    "\n",
    "print(classification_report(y_test_encoded, logistic_regression_model_y_pred, target_names = label_encoder.classes_))\n",
    "report.addmodel(logistic_regression_model_y_pred_prob, 'Logistic-Regression', logistic_regression_model_y_pred)"
   ]
  },
  {
   "attachments": {},
   "cell_type": "markdown",
   "metadata": {},
   "source": [
    "### 2. SVM "
   ]
  },
  {
   "cell_type": "code",
   "execution_count": 7,
   "metadata": {},
   "outputs": [
    {
     "name": "stdout",
     "output_type": "stream",
     "text": [
      "                   precision    recall  f1-score   support\n",
      "\n",
      "   cyber+security       0.98      0.96      0.97       212\n",
      "     data+analyst       0.89      0.97      0.93       172\n",
      "software+engineer       0.90      0.95      0.93       211\n",
      "            ui+ux       0.98      0.88      0.92       200\n",
      "\n",
      "         accuracy                           0.94       795\n",
      "        macro avg       0.94      0.94      0.94       795\n",
      "     weighted avg       0.94      0.94      0.94       795\n",
      "\n"
     ]
    }
   ],
   "source": [
    "svm_model = SVC(random_state = 0, kernel = \"rbf\", probability = True)\n",
    "svm_model.fit(X_train, y_train_encoded)\n",
    "\n",
    "svm_model_y_pred = svm_model.predict(X_test)\n",
    "svm_model_y_pred_prob = svm_model.predict_proba(X_test)\n",
    "\n",
    "print(classification_report(y_test_encoded, svm_model_y_pred, target_names = label_encoder.classes_))\n",
    "report.addmodel(svm_model_y_pred_prob, 'SVM', svm_model_y_pred)"
   ]
  },
  {
   "cell_type": "code",
   "execution_count": 8,
   "metadata": {},
   "outputs": [
    {
     "name": "stdout",
     "output_type": "stream",
     "text": [
      "                   precision    recall  f1-score   support\n",
      "\n",
      "   cyber+security       0.94      0.94      0.94       212\n",
      "     data+analyst       0.86      0.92      0.89       172\n",
      "software+engineer       0.88      0.81      0.84       211\n",
      "            ui+ux       0.86      0.88      0.87       200\n",
      "\n",
      "         accuracy                           0.88       795\n",
      "        macro avg       0.88      0.89      0.88       795\n",
      "     weighted avg       0.88      0.88      0.88       795\n",
      "\n"
     ]
    }
   ],
   "source": [
    "svm_model_sigmoid = SVC(random_state = 0, kernel = \"sigmoid\", probability = True)\n",
    "svm_model_sigmoid.fit(X_train, y_train_encoded)\n",
    "\n",
    "svm_model_sigmoid_y_pred = svm_model_sigmoid.predict(X_test)\n",
    "svm_model_sigmoid_y_pred_prob = svm_model_sigmoid.predict_proba(X_test)\n",
    "\n",
    "print(classification_report(y_test_encoded, svm_model_sigmoid_y_pred, target_names = label_encoder.classes_))\n",
    "report.addmodel(svm_model_sigmoid_y_pred_prob, 'SVM-sigmoid', svm_model_sigmoid_y_pred)"
   ]
  },
  {
   "cell_type": "code",
   "execution_count": 9,
   "metadata": {},
   "outputs": [
    {
     "name": "stdout",
     "output_type": "stream",
     "text": [
      "                   precision    recall  f1-score   support\n",
      "\n",
      "   cyber+security       0.98      0.98      0.98       212\n",
      "     data+analyst       0.92      0.98      0.95       172\n",
      "software+engineer       0.92      0.95      0.93       211\n",
      "            ui+ux       0.98      0.89      0.93       200\n",
      "\n",
      "         accuracy                           0.95       795\n",
      "        macro avg       0.95      0.95      0.95       795\n",
      "     weighted avg       0.95      0.95      0.95       795\n",
      "\n"
     ]
    }
   ],
   "source": [
    "svm_model_poly = SVC(random_state = 0, kernel = \"poly\", probability = True)\n",
    "svm_model_poly.fit(X_train, y_train_encoded)\n",
    "\n",
    "svm_model_poly_y_pred = svm_model_poly.predict(X_test)\n",
    "svm_model_poly_y_pred_prob = svm_model_poly.predict_proba(X_test)\n",
    "\n",
    "print(classification_report(y_test_encoded, svm_model_poly_y_pred, target_names = label_encoder.classes_))\n",
    "report.addmodel(svm_model_poly_y_pred_prob, 'SVM-poly', svm_model_poly_y_pred)"
   ]
  },
  {
   "cell_type": "code",
   "execution_count": 10,
   "metadata": {},
   "outputs": [],
   "source": [
    "# param_grid = {'C': [0.1, 1, 10, 100], 'gamma': [1, 0.1, 0.01],'kernel': ['rbf', 'poly']}\n",
    "# SVMCV = GridSearchCV(SVC(),param_grid,refit=True,verbose=2, scoring='f1_macro')\n",
    "# SVMCV.fit(X_train, y_train_encoded)"
   ]
  },
  {
   "cell_type": "code",
   "execution_count": 11,
   "metadata": {},
   "outputs": [],
   "source": [
    "# SVMCV.best_estimator_"
   ]
  },
  {
   "cell_type": "code",
   "execution_count": 12,
   "metadata": {},
   "outputs": [
    {
     "name": "stdout",
     "output_type": "stream",
     "text": [
      "                   precision    recall  f1-score   support\n",
      "\n",
      "   cyber+security       0.98      0.98      0.98       212\n",
      "     data+analyst       0.92      0.97      0.95       172\n",
      "software+engineer       0.91      0.94      0.93       211\n",
      "            ui+ux       0.98      0.90      0.93       200\n",
      "\n",
      "         accuracy                           0.95       795\n",
      "        macro avg       0.95      0.95      0.95       795\n",
      "     weighted avg       0.95      0.95      0.95       795\n",
      "\n"
     ]
    }
   ],
   "source": [
    "svm_model_Tune = SVC(random_state = 0, kernel = \"poly\", probability = True, C=10, gamma=1)\n",
    "svm_model_Tune.fit(X_train, y_train_encoded)\n",
    "\n",
    "svm_model_Tune_y_pred = svm_model_Tune.predict(X_test)\n",
    "svm_model_Tune_y_pred_prob = svm_model_Tune.predict_proba(X_test)\n",
    "\n",
    "print(classification_report(y_test_encoded, svm_model_Tune_y_pred, target_names = label_encoder.classes_))\n",
    "report.addmodel(svm_model_Tune_y_pred_prob, 'SVM-tune', svm_model_Tune_y_pred)"
   ]
  },
  {
   "attachments": {},
   "cell_type": "markdown",
   "metadata": {},
   "source": [
    "### 3. Adaboost"
   ]
  },
  {
   "cell_type": "code",
   "execution_count": 13,
   "metadata": {},
   "outputs": [
    {
     "name": "stdout",
     "output_type": "stream",
     "text": [
      "                   precision    recall  f1-score   support\n",
      "\n",
      "   cyber+security       0.97      0.85      0.90       212\n",
      "     data+analyst       0.75      0.88      0.81       172\n",
      "software+engineer       0.75      0.81      0.77       211\n",
      "            ui+ux       0.88      0.79      0.83       200\n",
      "\n",
      "         accuracy                           0.83       795\n",
      "        macro avg       0.84      0.83      0.83       795\n",
      "     weighted avg       0.84      0.83      0.83       795\n",
      "\n"
     ]
    }
   ],
   "source": [
    "adaboost_model = AdaBoostClassifier(random_state = 0)\n",
    "adaboost_model.fit(X_train, y_train_encoded)\n",
    "\n",
    "adaboost_model_y_pred = adaboost_model.predict(X_test)\n",
    "adaboost_model_y_pred_prob = adaboost_model.predict_proba(X_test)\n",
    "\n",
    "print(classification_report(y_test_encoded, adaboost_model_y_pred, target_names = label_encoder.classes_))\n",
    "report.addmodel(adaboost_model_y_pred_prob, 'AdaBoosting', adaboost_model_y_pred)"
   ]
  },
  {
   "attachments": {},
   "cell_type": "markdown",
   "metadata": {},
   "source": [
    "### 4. Gradient Boosting"
   ]
  },
  {
   "cell_type": "code",
   "execution_count": 14,
   "metadata": {},
   "outputs": [
    {
     "name": "stdout",
     "output_type": "stream",
     "text": [
      "                   precision    recall  f1-score   support\n",
      "\n",
      "   cyber+security       0.98      0.97      0.97       212\n",
      "     data+analyst       0.91      0.93      0.92       172\n",
      "software+engineer       0.89      0.92      0.91       211\n",
      "            ui+ux       0.94      0.89      0.91       200\n",
      "\n",
      "         accuracy                           0.93       795\n",
      "        macro avg       0.93      0.93      0.93       795\n",
      "     weighted avg       0.93      0.93      0.93       795\n",
      "\n"
     ]
    }
   ],
   "source": [
    "gradient_boosting_model = GradientBoostingClassifier(random_state = 0)\n",
    "gradient_boosting_model.fit(X_train, y_train_encoded)\n",
    "\n",
    "gradient_boosting_model_y_pred = gradient_boosting_model.predict(X_test)\n",
    "gradient_boosting_model_y_pred_prob = gradient_boosting_model.predict_proba(X_test)\n",
    "\n",
    "print(classification_report(y_test_encoded, gradient_boosting_model_y_pred, target_names = label_encoder.classes_))\n",
    "report.addmodel(gradient_boosting_model_y_pred_prob, 'Gradient Boosting', gradient_boosting_model_y_pred)"
   ]
  },
  {
   "attachments": {},
   "cell_type": "markdown",
   "metadata": {},
   "source": [
    "### 5. Gaussian NB"
   ]
  },
  {
   "cell_type": "code",
   "execution_count": 15,
   "metadata": {},
   "outputs": [
    {
     "name": "stdout",
     "output_type": "stream",
     "text": [
      "                   precision    recall  f1-score   support\n",
      "\n",
      "   cyber+security       0.98      0.92      0.95       212\n",
      "     data+analyst       0.82      0.93      0.87       172\n",
      "software+engineer       0.84      0.86      0.85       211\n",
      "            ui+ux       0.90      0.84      0.87       200\n",
      "\n",
      "         accuracy                           0.89       795\n",
      "        macro avg       0.89      0.89      0.89       795\n",
      "     weighted avg       0.89      0.89      0.89       795\n",
      "\n"
     ]
    }
   ],
   "source": [
    "gaussiannb_model = GaussianNB()\n",
    "gaussiannb_model.fit(X_train, y_train_encoded)\n",
    "\n",
    "gaussiannb_model_y_pred = gaussiannb_model.predict(X_test)\n",
    "gaussiannb_model_y_pred_prob = gaussiannb_model.predict_proba(X_test)\n",
    "\n",
    "print(classification_report(y_test_encoded, gaussiannb_model_y_pred, target_names = label_encoder.classes_))\n",
    "report.addmodel(gaussiannb_model_y_pred_prob, 'Gaussian NB', gaussiannb_model_y_pred)\n"
   ]
  },
  {
   "attachments": {},
   "cell_type": "markdown",
   "metadata": {},
   "source": [
    "### 6. Decision Tree"
   ]
  },
  {
   "cell_type": "code",
   "execution_count": 16,
   "metadata": {},
   "outputs": [
    {
     "name": "stdout",
     "output_type": "stream",
     "text": [
      "                   precision    recall  f1-score   support\n",
      "\n",
      "   cyber+security       0.91      0.91      0.91       212\n",
      "     data+analyst       0.78      0.85      0.82       172\n",
      "software+engineer       0.81      0.79      0.80       211\n",
      "            ui+ux       0.84      0.80      0.82       200\n",
      "\n",
      "         accuracy                           0.84       795\n",
      "        macro avg       0.84      0.84      0.84       795\n",
      "     weighted avg       0.84      0.84      0.84       795\n",
      "\n"
     ]
    }
   ],
   "source": [
    "decision_tree_model = DecisionTreeClassifier(random_state = 0)\n",
    "decision_tree_model.fit(X_train, y_train_encoded)\n",
    "\n",
    "decision_tree_model_y_pred = decision_tree_model.predict(X_test)\n",
    "decision_tree_model_y_pred_prob = decision_tree_model.predict_proba(X_test)\n",
    "\n",
    "print(classification_report(y_test_encoded, decision_tree_model_y_pred, target_names = label_encoder.classes_))\n",
    "report.addmodel(decision_tree_model_y_pred_prob, 'Decision Tree', decision_tree_model_y_pred)\n"
   ]
  },
  {
   "attachments": {},
   "cell_type": "markdown",
   "metadata": {},
   "source": [
    "### 7. Random Forest"
   ]
  },
  {
   "cell_type": "code",
   "execution_count": 17,
   "metadata": {},
   "outputs": [],
   "source": [
    "# parameters = {'max_depth':range(4,10,2), 'n_estimators':range(100, 1000, 300)}\n",
    "# rfCV = GridSearchCV(estimator = RandomForestClassifier(), param_grid = parameters, scoring='f1_macro')\n",
    "# rfCV.fit(X_train, y_train_encoded)"
   ]
  },
  {
   "cell_type": "code",
   "execution_count": 18,
   "metadata": {},
   "outputs": [],
   "source": [
    "# rfCV.best_params_, rfCV.best_score_"
   ]
  },
  {
   "cell_type": "code",
   "execution_count": 19,
   "metadata": {},
   "outputs": [
    {
     "name": "stdout",
     "output_type": "stream",
     "text": [
      "                   precision    recall  f1-score   support\n",
      "\n",
      "   cyber+security       0.98      0.97      0.98       212\n",
      "     data+analyst       0.90      0.97      0.93       172\n",
      "software+engineer       0.90      0.94      0.92       211\n",
      "            ui+ux       0.97      0.86      0.91       200\n",
      "\n",
      "         accuracy                           0.94       795\n",
      "        macro avg       0.94      0.94      0.94       795\n",
      "     weighted avg       0.94      0.94      0.94       795\n",
      "\n"
     ]
    }
   ],
   "source": [
    "random_forest_model = RandomForestClassifier(random_state = 0, max_depth=8, n_estimators=400)\n",
    "random_forest_model.fit(X_train, y_train_encoded)\n",
    "\n",
    "random_forest_model_y_pred = random_forest_model.predict(X_test)\n",
    "random_forest_model_y_pred_prob = random_forest_model.predict_proba(X_test)\n",
    "\n",
    "print(classification_report(y_test_encoded, random_forest_model_y_pred, target_names = label_encoder.classes_))\n",
    "report.addmodel(random_forest_model_y_pred_prob, 'Random Forest', random_forest_model_y_pred)\n"
   ]
  },
  {
   "attachments": {},
   "cell_type": "markdown",
   "metadata": {},
   "source": [
    "### 8. XGBoost"
   ]
  },
  {
   "cell_type": "code",
   "execution_count": 20,
   "metadata": {},
   "outputs": [],
   "source": [
    "# parameters = {'max_depth':range(4,10,2), 'n_estimators':range(100, 1000, 300)}\n",
    "# xgbCV = GridSearchCV(estimator = xgb.XGBClassifier(learning_rate =0.1,min_child_weight=1, gamma=0, subsample=0.8, colsample_bytree=0.8), \n",
    "# param_grid = parameters, scoring='f1_macro')\n",
    "# xgbCV.fit(X_train, y_train_encoded)"
   ]
  },
  {
   "cell_type": "code",
   "execution_count": 21,
   "metadata": {},
   "outputs": [],
   "source": [
    "# xgbCV.best_params_, xgbCV.best_score_"
   ]
  },
  {
   "cell_type": "code",
   "execution_count": 22,
   "metadata": {},
   "outputs": [
    {
     "name": "stdout",
     "output_type": "stream",
     "text": [
      "                   precision    recall  f1-score   support\n",
      "\n",
      "   cyber+security       0.98      0.98      0.98       212\n",
      "     data+analyst       0.91      0.96      0.93       172\n",
      "software+engineer       0.90      0.92      0.91       211\n",
      "            ui+ux       0.96      0.89      0.92       200\n",
      "\n",
      "         accuracy                           0.94       795\n",
      "        macro avg       0.94      0.94      0.94       795\n",
      "     weighted avg       0.94      0.94      0.94       795\n",
      "\n"
     ]
    }
   ],
   "source": [
    "xgboost_model = xgb.XGBClassifier(random_state = 0, max_depth=4, n_estimators=700)\n",
    "xgboost_model.fit(X_train, y_train_encoded)\n",
    "\n",
    "xgboost_model_y_pred = xgboost_model.predict(X_test)\n",
    "xgboost_model_y_pred_prob = xgboost_model.predict_proba(X_test)\n",
    "\n",
    "print(classification_report(y_test_encoded, xgboost_model_y_pred, target_names = label_encoder.classes_))\n",
    "report.addmodel(xgboost_model_y_pred_prob, 'XGBoost', xgboost_model_y_pred)"
   ]
  },
  {
   "attachments": {},
   "cell_type": "markdown",
   "metadata": {},
   "source": [
    "# Models Summary"
   ]
  },
  {
   "cell_type": "code",
   "execution_count": 23,
   "metadata": {},
   "outputs": [
    {
     "data": {
      "text/html": [
       "<div>\n",
       "<style scoped>\n",
       "    .dataframe tbody tr th:only-of-type {\n",
       "        vertical-align: middle;\n",
       "    }\n",
       "\n",
       "    .dataframe tbody tr th {\n",
       "        vertical-align: top;\n",
       "    }\n",
       "\n",
       "    .dataframe thead th {\n",
       "        text-align: right;\n",
       "    }\n",
       "</style>\n",
       "<table border=\"1\" class=\"dataframe\">\n",
       "  <thead>\n",
       "    <tr style=\"text-align: right;\">\n",
       "      <th></th>\n",
       "      <th>Accuracy</th>\n",
       "      <th>Precision</th>\n",
       "      <th>Recall</th>\n",
       "      <th>F1-Measure</th>\n",
       "      <th>AUC</th>\n",
       "    </tr>\n",
       "  </thead>\n",
       "  <tbody>\n",
       "    <tr>\n",
       "      <th>Logistic-Regression</th>\n",
       "      <td>0.909434</td>\n",
       "      <td>0.908069</td>\n",
       "      <td>0.910424</td>\n",
       "      <td>0.908805</td>\n",
       "      <td>0.989509</td>\n",
       "    </tr>\n",
       "    <tr>\n",
       "      <th>SVM</th>\n",
       "      <td>0.937107</td>\n",
       "      <td>0.937901</td>\n",
       "      <td>0.937836</td>\n",
       "      <td>0.936540</td>\n",
       "      <td>0.993820</td>\n",
       "    </tr>\n",
       "    <tr>\n",
       "      <th>SVM-sigmoid</th>\n",
       "      <td>0.884277</td>\n",
       "      <td>0.883035</td>\n",
       "      <td>0.885678</td>\n",
       "      <td>0.883755</td>\n",
       "      <td>0.980824</td>\n",
       "    </tr>\n",
       "    <tr>\n",
       "      <th>SVM-poly</th>\n",
       "      <td>0.947170</td>\n",
       "      <td>0.947539</td>\n",
       "      <td>0.947691</td>\n",
       "      <td>0.946728</td>\n",
       "      <td>0.994101</td>\n",
       "    </tr>\n",
       "    <tr>\n",
       "      <th>SVM-tune</th>\n",
       "      <td>0.947170</td>\n",
       "      <td>0.947541</td>\n",
       "      <td>0.947548</td>\n",
       "      <td>0.946866</td>\n",
       "      <td>0.992940</td>\n",
       "    </tr>\n",
       "    <tr>\n",
       "      <th>AdaBoosting</th>\n",
       "      <td>0.830189</td>\n",
       "      <td>0.837128</td>\n",
       "      <td>0.832116</td>\n",
       "      <td>0.831404</td>\n",
       "      <td>0.939936</td>\n",
       "    </tr>\n",
       "    <tr>\n",
       "      <th>Gradient Boosting</th>\n",
       "      <td>0.928302</td>\n",
       "      <td>0.928078</td>\n",
       "      <td>0.927775</td>\n",
       "      <td>0.927634</td>\n",
       "      <td>0.991961</td>\n",
       "    </tr>\n",
       "    <tr>\n",
       "      <th>Gaussian NB</th>\n",
       "      <td>0.885535</td>\n",
       "      <td>0.886224</td>\n",
       "      <td>0.886966</td>\n",
       "      <td>0.885301</td>\n",
       "      <td>0.978583</td>\n",
       "    </tr>\n",
       "    <tr>\n",
       "      <th>Decision Tree</th>\n",
       "      <td>0.838994</td>\n",
       "      <td>0.837258</td>\n",
       "      <td>0.839124</td>\n",
       "      <td>0.837610</td>\n",
       "      <td>0.893871</td>\n",
       "    </tr>\n",
       "    <tr>\n",
       "      <th>Random Forest</th>\n",
       "      <td>0.935849</td>\n",
       "      <td>0.936501</td>\n",
       "      <td>0.936236</td>\n",
       "      <td>0.935246</td>\n",
       "      <td>0.993517</td>\n",
       "    </tr>\n",
       "    <tr>\n",
       "      <th>XGBoost</th>\n",
       "      <td>0.937107</td>\n",
       "      <td>0.936916</td>\n",
       "      <td>0.937401</td>\n",
       "      <td>0.936624</td>\n",
       "      <td>0.994133</td>\n",
       "    </tr>\n",
       "  </tbody>\n",
       "</table>\n",
       "</div>"
      ],
      "text/plain": [
       "                     Accuracy  Precision    Recall  F1-Measure       AUC\n",
       "Logistic-Regression  0.909434   0.908069  0.910424    0.908805  0.989509\n",
       "SVM                  0.937107   0.937901  0.937836    0.936540  0.993820\n",
       "SVM-sigmoid          0.884277   0.883035  0.885678    0.883755  0.980824\n",
       "SVM-poly             0.947170   0.947539  0.947691    0.946728  0.994101\n",
       "SVM-tune             0.947170   0.947541  0.947548    0.946866  0.992940\n",
       "AdaBoosting          0.830189   0.837128  0.832116    0.831404  0.939936\n",
       "Gradient Boosting    0.928302   0.928078  0.927775    0.927634  0.991961\n",
       "Gaussian NB          0.885535   0.886224  0.886966    0.885301  0.978583\n",
       "Decision Tree        0.838994   0.837258  0.839124    0.837610  0.893871\n",
       "Random Forest        0.935849   0.936501  0.936236    0.935246  0.993517\n",
       "XGBoost              0.937107   0.936916  0.937401    0.936624  0.994133"
      ]
     },
     "execution_count": 23,
     "metadata": {},
     "output_type": "execute_result"
    }
   ],
   "source": [
    "report.makeReport()"
   ]
  },
  {
   "attachments": {},
   "cell_type": "markdown",
   "metadata": {},
   "source": [
    "## Model Ensemble"
   ]
  },
  {
   "cell_type": "code",
   "execution_count": 24,
   "metadata": {},
   "outputs": [],
   "source": [
    "import modelEnsemble\n",
    "import importlib\n",
    "importlib.reload(modelEnsemble)\n",
    "\n",
    "random_forest_model = RandomForestClassifier(random_state = 0, max_depth=8, n_estimators=400)\n",
    "svm_model_Tune = SVC(random_state = 0, kernel = \"poly\", probability = True, C=10, gamma=1)\n",
    "xgboost_model = xgb.XGBClassifier(random_state = 0, max_depth=4, n_estimators=700)\n",
    "\n",
    "estimators = [('rf', random_forest_model), ('svm', svm_model_Tune), ('xgboost', xgboost_model)]\n",
    "vs = modelEnsemble.modelEnsemble(estimators, X_train, y_train_encoded, X_test, y_test_encoded)"
   ]
  },
  {
   "cell_type": "code",
   "execution_count": 25,
   "metadata": {},
   "outputs": [
    {
     "data": {
      "text/html": [
       "<div>\n",
       "<style scoped>\n",
       "    .dataframe tbody tr th:only-of-type {\n",
       "        vertical-align: middle;\n",
       "    }\n",
       "\n",
       "    .dataframe tbody tr th {\n",
       "        vertical-align: top;\n",
       "    }\n",
       "\n",
       "    .dataframe thead th {\n",
       "        text-align: right;\n",
       "    }\n",
       "</style>\n",
       "<table border=\"1\" class=\"dataframe\">\n",
       "  <thead>\n",
       "    <tr style=\"text-align: right;\">\n",
       "      <th></th>\n",
       "      <th>Accuracy</th>\n",
       "      <th>Precision</th>\n",
       "      <th>Recall</th>\n",
       "      <th>F1-Measure</th>\n",
       "    </tr>\n",
       "  </thead>\n",
       "  <tbody>\n",
       "    <tr>\n",
       "      <th>Voting-Hard</th>\n",
       "      <td>0.943396</td>\n",
       "      <td>0.94403</td>\n",
       "      <td>0.943863</td>\n",
       "      <td>0.943098</td>\n",
       "    </tr>\n",
       "    <tr>\n",
       "      <th>Voting-Soft</th>\n",
       "      <td>0.942138</td>\n",
       "      <td>0.94247</td>\n",
       "      <td>0.942749</td>\n",
       "      <td>0.941779</td>\n",
       "    </tr>\n",
       "  </tbody>\n",
       "</table>\n",
       "</div>"
      ],
      "text/plain": [
       "             Accuracy  Precision    Recall  F1-Measure\n",
       "Voting-Hard  0.943396    0.94403  0.943863    0.943098\n",
       "Voting-Soft  0.942138    0.94247  0.942749    0.941779"
      ]
     },
     "execution_count": 25,
     "metadata": {},
     "output_type": "execute_result"
    }
   ],
   "source": [
    "vsreport = vs.voting()\n",
    "vsreport"
   ]
  },
  {
   "cell_type": "code",
   "execution_count": 26,
   "metadata": {},
   "outputs": [
    {
     "data": {
      "text/html": [
       "<div>\n",
       "<style scoped>\n",
       "    .dataframe tbody tr th:only-of-type {\n",
       "        vertical-align: middle;\n",
       "    }\n",
       "\n",
       "    .dataframe tbody tr th {\n",
       "        vertical-align: top;\n",
       "    }\n",
       "\n",
       "    .dataframe thead th {\n",
       "        text-align: right;\n",
       "    }\n",
       "</style>\n",
       "<table border=\"1\" class=\"dataframe\">\n",
       "  <thead>\n",
       "    <tr style=\"text-align: right;\">\n",
       "      <th></th>\n",
       "      <th>Stacking</th>\n",
       "    </tr>\n",
       "  </thead>\n",
       "  <tbody>\n",
       "    <tr>\n",
       "      <th>Accuracy</th>\n",
       "      <td>0.940881</td>\n",
       "    </tr>\n",
       "    <tr>\n",
       "      <th>Precision</th>\n",
       "      <td>0.941177</td>\n",
       "    </tr>\n",
       "    <tr>\n",
       "      <th>Recall</th>\n",
       "      <td>0.941855</td>\n",
       "    </tr>\n",
       "    <tr>\n",
       "      <th>F1-Measure</th>\n",
       "      <td>0.940614</td>\n",
       "    </tr>\n",
       "  </tbody>\n",
       "</table>\n",
       "</div>"
      ],
      "text/plain": [
       "            Stacking\n",
       "Accuracy    0.940881\n",
       "Precision   0.941177\n",
       "Recall      0.941855\n",
       "F1-Measure  0.940614"
      ]
     },
     "execution_count": 26,
     "metadata": {},
     "output_type": "execute_result"
    }
   ],
   "source": [
    "vsreport = vs.stacking(gradient_boosting_model)\n",
    "vsreport"
   ]
  },
  {
   "attachments": {},
   "cell_type": "markdown",
   "metadata": {},
   "source": [
    "# Predict Resume Output"
   ]
  },
  {
   "cell_type": "code",
   "execution_count": 27,
   "metadata": {},
   "outputs": [
    {
     "name": "stderr",
     "output_type": "stream",
     "text": [
      "/Library/Frameworks/Python.framework/Versions/3.10/lib/python3.10/site-packages/sklearn/feature_extraction/text.py:1330: UserWarning: Upper case characters found in vocabulary while 'lowercase' is True. These entries will not be matched with any documents\n",
      "  warnings.warn(\n",
      "/Library/Frameworks/Python.framework/Versions/3.10/lib/python3.10/site-packages/sklearn/base.py:450: UserWarning: X does not have valid feature names, but RandomForestClassifier was fitted with feature names\n",
      "  warnings.warn(\n",
      "/Library/Frameworks/Python.framework/Versions/3.10/lib/python3.10/site-packages/sklearn/base.py:450: UserWarning: X does not have valid feature names, but SVC was fitted with feature names\n",
      "  warnings.warn(\n"
     ]
    },
    {
     "data": {
      "text/plain": [
       "array(['software+engineer'], dtype=object)"
      ]
     },
     "execution_count": 27,
     "metadata": {},
     "output_type": "execute_result"
    }
   ],
   "source": [
    "from resume_process import *\n",
    "\n",
    "_, x = process_resume(\"resume_se.txt\", \"difficult\") \n",
    "label_encoder.inverse_transform(vs.predict(x))"
   ]
  }
 ],
 "metadata": {
  "kernelspec": {
   "display_name": "py9nlp",
   "language": "python",
   "name": "python3"
  },
  "language_info": {
   "codemirror_mode": {
    "name": "ipython",
    "version": 3
   },
   "file_extension": ".py",
   "mimetype": "text/x-python",
   "name": "python",
   "nbconvert_exporter": "python",
   "pygments_lexer": "ipython3",
   "version": "3.10.8"
  },
  "orig_nbformat": 4,
  "vscode": {
   "interpreter": {
    "hash": "842986e20357343ec6b0d250f74d54a0ee17ed4bd038b26d470be94ea88ec784"
   }
  }
 },
 "nbformat": 4,
 "nbformat_minor": 2
}
